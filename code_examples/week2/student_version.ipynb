{
 "cells": [
  {
   "cell_type": "markdown",
   "metadata": {},
   "source": [
    "# Exercises on regexes\n",
    "Relevant documentation: https://docs.python.org/3.5/library/re.html, https://docs.python.org/3.5/howto/regex.html#regex-howto\n",
    "\n",
    "The exersises are a mix of pre-written code which is ready to be used \"as is\" and areas where you need to fill in missing code, denoted by \"CODE HERE\". As you progress through the exercises, you will note that there is less and less pre-written code, meaning you will have to write more code yourself."
   ]
  },
  {
   "cell_type": "code",
   "execution_count": null,
   "metadata": {},
   "outputs": [],
   "source": [
    "import re\n",
    "from html.parser import HTMLParser\n",
    "from datetime import date\n",
    "import xml.etree.ElementTree as ET\n",
    "from xml.etree.ElementTree import tostring"
   ]
  },
  {
   "cell_type": "code",
   "execution_count": null,
   "metadata": {},
   "outputs": [],
   "source": [
    "def text_match(text, pattern):\n",
    "    return re.search(pattern,  text) is not None\n",
    "\n",
    "def evaluate_pattern(text_list, pattern, should_match=True):\n",
    "    for text in text_list:\n",
    "        match = text_match(text, pattern)\n",
    "        if not match and should_match:\n",
    "            print(f\"failed to match pattern {pattern} to text {text}\")\n",
    "        elif match and should_match:\n",
    "            print(f\"successfully matched pattern {pattern} to text {text}\")\n",
    "        elif match and not should_match:\n",
    "            print(f\"incorrectly matches pattern {pattern} to text {text}\")\n",
    "        elif not match and not should_match:\n",
    "            print(f\"correctly does not match pattern {pattern} to text {text}\")"
   ]
  },
  {
   "cell_type": "markdown",
   "metadata": {},
   "source": [
    "# Part 1 - regex basics\n",
    "These first exercises are aimed to train you in the basic usage of regexes. For these exercises the answer can almost directly be found in the course slides or in the documentation linked above. The idea of these exercises is that you aquire an entry-level profiency with operators used in regexes."
   ]
  },
  {
   "cell_type": "markdown",
   "metadata": {},
   "source": [
    "## Exercise 1  \n",
    "Complete the provided Python program that matches a string that has an a followed by zero or more b's."
   ]
  },
  {
   "cell_type": "code",
   "execution_count": null,
   "metadata": {},
   "outputs": [],
   "source": [
    "pattern = CODE HERE"
   ]
  },
  {
   "cell_type": "code",
   "execution_count": null,
   "metadata": {},
   "outputs": [],
   "source": [
    "should_match = [\"ac\",\"abc\",\"abbc\",\"a\",\"ac\"]\n",
    "should_not_match = [\"bc\"]\n",
    "\n",
    "evaluate_pattern(should_match, pattern, True)\n",
    "evaluate_pattern(should_not_match, pattern, False)"
   ]
  },
  {
   "cell_type": "markdown",
   "metadata": {},
   "source": [
    "## Exercise 2\n",
    "Complete the provided Python program that matches a string that has an a followed by one or more b's."
   ]
  },
  {
   "cell_type": "code",
   "execution_count": null,
   "metadata": {},
   "outputs": [],
   "source": [
    "pattern = CODE HERE"
   ]
  },
  {
   "cell_type": "code",
   "execution_count": null,
   "metadata": {},
   "outputs": [],
   "source": [
    "should_match = [\"abc\",\"abbc\"]\n",
    "should_not_match = [\"bc\",\"ac\",\"a\"]\n",
    "\n",
    "evaluate_pattern(should_match, pattern, True)\n",
    "evaluate_pattern(should_not_match, pattern, False)"
   ]
  },
  {
   "cell_type": "markdown",
   "metadata": {},
   "source": [
    "## Exercise 3\n",
    "Complete the provided Python program that matches a string that has an a followed by at least 3 b's."
   ]
  },
  {
   "cell_type": "code",
   "execution_count": null,
   "metadata": {},
   "outputs": [],
   "source": [
    "pattern = CODE HERE"
   ]
  },
  {
   "cell_type": "code",
   "execution_count": null,
   "metadata": {},
   "outputs": [],
   "source": [
    "should_match = [\"aabbbc\"]\n",
    "should_not_match = [\"bc\",\"ac\",\"abc\",\"abbc\"]\n",
    "\n",
    "evaluate_pattern(should_match, pattern, True)\n",
    "evaluate_pattern(should_not_match, pattern, False)"
   ]
  },
  {
   "cell_type": "markdown",
   "metadata": {},
   "source": [
    "## Exercise 4\n",
    "Complete the provided Python program that matches a string that has an a followed by 2 to 4 b's, followed by 1 or more c's. "
   ]
  },
  {
   "cell_type": "code",
   "execution_count": null,
   "metadata": {},
   "outputs": [],
   "source": [
    "CODE HERE"
   ]
  },
  {
   "cell_type": "code",
   "execution_count": null,
   "metadata": {},
   "outputs": [],
   "source": [
    "should_match = [\"abbc\",\"aabbbc\",\"aabbbcc\"]\n",
    "should_not_match = [\"bc\",\"ac\",\"abc\",\"aabbbbbbbc\"]\n",
    "\n",
    "evaluate_pattern(should_match, pattern, True)\n",
    "evaluate_pattern(should_not_match, pattern, False)"
   ]
  },
  {
   "cell_type": "markdown",
   "metadata": {},
   "source": [
    "## Exercise 5\n",
    "Complete the provided Python program that matches a string, that has an a, followed by anything, ending in a b."
   ]
  },
  {
   "cell_type": "code",
   "execution_count": null,
   "metadata": {},
   "outputs": [],
   "source": [
    "CODE HERE"
   ]
  },
  {
   "cell_type": "code",
   "execution_count": null,
   "metadata": {},
   "outputs": [],
   "source": [
    "should_match = [\"accddbbjjjb\",\"dfracccccdjjjb\"]\n",
    "should_not_match = [\"aabbbbd\",\"aabAbbbc\"]\n",
    "\n",
    "evaluate_pattern(should_match, pattern, True)\n",
    "evaluate_pattern(should_not_match, pattern, False)"
   ]
  },
  {
   "cell_type": "markdown",
   "metadata": {},
   "source": [
    "## Exercise 6\n",
    "Complete the provided Python program that matches a string, that starts with an a, followed by anything, ending in a b."
   ]
  },
  {
   "cell_type": "code",
   "execution_count": null,
   "metadata": {},
   "outputs": [],
   "source": [
    "CODE HERE"
   ]
  },
  {
   "cell_type": "code",
   "execution_count": null,
   "metadata": {},
   "outputs": [],
   "source": [
    "should_match = [\"accddbbjjjb\"]\n",
    "should_not_match = [\"aabbbbd\",\"aabAbbbc\",\"dfracccccdjjjb\"]\n",
    "\n",
    "evaluate_pattern(should_match, pattern, True)\n",
    "evaluate_pattern(should_not_match, pattern, False)"
   ]
  },
  {
   "cell_type": "markdown",
   "metadata": {},
   "source": [
    "## Exercise 7\n",
    "Complete the provided Python program below to split a string with multiple delimiters. A delimiter is a chracter or sequence of characters that denotes the boundary between seperate elements in a plain text or data stream. An example is the comma in the csv-format (comma separated values). For this exercise, possible delimiters are ; \\S  *  $ <br>\n",
    "Note that some of these delimiters have special meaning in the regex, so you must escape them with a backslash \\"
   ]
  },
  {
   "cell_type": "code",
   "execution_count": null,
   "metadata": {},
   "outputs": [],
   "source": [
    "text = 'The quick brown\\Sfox jumps*over the lazy dog;huzzah.'\n",
    "CODE HERE"
   ]
  },
  {
   "cell_type": "markdown",
   "metadata": {},
   "source": [
    "## Exercise 8\n",
    "Complete the provided Python program below to filter out and print the numbers (ie. numeric characters, grouped as they are) from the given string."
   ]
  },
  {
   "cell_type": "code",
   "execution_count": null,
   "metadata": {},
   "outputs": [],
   "source": [
    "# Sample string.\n",
    "text = \"Ten 10, Twenty 20, Thirty 30\"\n",
    "result = CODE HERE\n",
    "# Print results.\n",
    "for element in result:\n",
    "    print(element)"
   ]
  },
  {
   "cell_type": "markdown",
   "metadata": {},
   "source": [
    "## Exercise 9\n",
    "Complete the provided Python program bellow that matches the word \"Isaac \" only if followed by a number, and not if followed by anything else."
   ]
  },
  {
   "cell_type": "code",
   "execution_count": null,
   "metadata": {},
   "outputs": [],
   "source": [
    "CODE HERE"
   ]
  },
  {
   "cell_type": "code",
   "execution_count": null,
   "metadata": {},
   "outputs": [],
   "source": [
    "should_match = [\"Isaac 5\",\"Isaac 259\"]\n",
    "should_not_match = [\"Isaac Lastname\",\"Isaac9\"]\n",
    "\n",
    "evaluate_pattern(should_match, pattern, True)\n",
    "evaluate_pattern(should_not_match, pattern, False)"
   ]
  },
  {
   "cell_type": "markdown",
   "metadata": {},
   "source": [
    "# Part 2 - use cases\n",
    "These exercises will guide you through some of the real word use cases of regexes."
   ]
  },
  {
   "cell_type": "markdown",
   "metadata": {},
   "source": [
    "## Exercise 10\n",
    "Complete the provided Python program to remove leading zeroes from an IP adress."
   ]
  },
  {
   "cell_type": "code",
   "execution_count": null,
   "metadata": {},
   "outputs": [],
   "source": [
    "ip = \"216.08.094.196\"\n",
    "\n",
    "CODE HERE\n",
    "\n",
    "assert(string) == \"216.8.94.196\"\n",
    "\n",
    "print(string)"
   ]
  },
  {
   "cell_type": "markdown",
   "metadata": {},
   "source": [
    "## Exercise 11\n",
    "Complete the provided Python program to extract year, month and date from the provided url. The format in the url will be yyyy/mm/dd, or yyyy/m/d, and convert it to a Python date object"
   ]
  },
  {
   "cell_type": "code",
   "execution_count": null,
   "metadata": {},
   "outputs": [],
   "source": [
    "url1= \"https://www.washingtonpost.com/news/football-insider/wp/2016/12/24/odell-beckhams-fame-rests-on-one-stupid-little-ball-josh-norman-tells-author/\"\n",
    "url2= \"https://www.washingtonpost.com/news/football-insider/wp/2016/9/2/odell-beckhams-fame-rests-on-one-stupid-little-ball-josh-norman-tells-author/\"\n",
    "\n",
    "CODE HERE\n",
    "\n",
    "def extract_date(url, pattern):\n",
    "    match_obj = re.search(pattern, url)\n",
    "    if match_obj is not None:\n",
    "        date_object = date(*[int(i) for i in match_obj.groups()])\n",
    "        return date_object\n",
    "\n",
    "assert extract_date(url1, pattern) == date(2016,12,24)\n",
    "assert extract_date(url2, pattern) == date(2016,9,2)"
   ]
  },
  {
   "cell_type": "markdown",
   "metadata": {},
   "source": [
    "## Exercise 12\n",
    "Complete the provided Python program below to convert a date from the yyyy-mm-dd format to dd-mm-yyyy"
   ]
  },
  {
   "cell_type": "code",
   "execution_count": null,
   "metadata": {},
   "outputs": [],
   "source": [
    "def change_date_format(dt):\n",
    "        return CODE HERE\n",
    "dt1 = \"2026-01-02\"\n",
    "print(\"Original date in YYY-MM-DD Format: \",dt1)\n",
    "print(\"New date in DD-MM-YYYY Format: \",change_date_format(dt1))"
   ]
  },
  {
   "cell_type": "markdown",
   "metadata": {},
   "source": [
    "## Exercise 13\n",
    "Complete the provided Python program bellow to check that a string contains only a certain set of characters, in this case a-z, A-Z and 0-9. The program should return \"True\" if the checked string only contains allowed characters, and \"False\" if the string contains any other character. "
   ]
  },
  {
   "cell_type": "code",
   "execution_count": null,
   "metadata": {},
   "outputs": [],
   "source": [
    "def is_allowed_specific_char(string):\n",
    "CODE HERE"
   ]
  },
  {
   "cell_type": "markdown",
   "metadata": {},
   "source": [
    "Now, using the program above, check the strings, \"ABCDEFabcdef153450\", \"&@#\" and \"15@a\" against the rule outlined above. The expected results are \"True\", \"False\", \"False\""
   ]
  },
  {
   "cell_type": "code",
   "execution_count": null,
   "metadata": {},
   "outputs": [],
   "source": [
    "assert(is_allowed_specific_char(\"ABCDEFabcdef123450\")) == True\n",
    "assert(is_allowed_specific_char(\"*&%@#!}{\")) == False\n",
    "assert(is_allowed_specific_char(\"15@a\")) == False"
   ]
  },
  {
   "cell_type": "markdown",
   "metadata": {},
   "source": [
    "Tips  \n",
    "-Note that we are using \"search\" since we have no info on the expected or allowed length of the string  \n",
    "-As a reminder \"Search\" will scan through the string looking for the first location where the regular expression pattern produces a match  \n",
    "-Consider using one or more negations"
   ]
  },
  {
   "cell_type": "markdown",
   "metadata": {},
   "source": [
    "## Exercise 14\n",
    "We will now revist the sitemap xml file from vrt.be containing an overview of published articles which was also used in the first exercise session. Write a Python program to extract all the urls starting with http(s) from the provided file, using a regex.\n",
    "\n",
    "First the xml file needs to be made ready for use. Tip: think back on the materail covered in week 1."
   ]
  },
  {
   "cell_type": "code",
   "execution_count": null,
   "metadata": {},
   "outputs": [],
   "source": [
    "CODE HERE"
   ]
  },
  {
   "cell_type": "markdown",
   "metadata": {},
   "source": [
    "Now, use an approriate regex to extract the urls from the xml file. Tip: remember that we want all the urls in the document."
   ]
  },
  {
   "cell_type": "code",
   "execution_count": null,
   "metadata": {},
   "outputs": [],
   "source": [
    "CODE HERE"
   ]
  },
  {
   "cell_type": "markdown",
   "metadata": {},
   "source": [
    "## Exercise 15\n",
    "#### Complete the provided Python program below to check if a given password meets certain criteria. For this exercise, a good password consists of at least 12 but not longer then 16 characters, at least one uppercase letter, at least one lower case letter, at least 1 number and a non-alphanumeric character, but it can contain no whitespace characters. This should make the password hard to crack, and as least likely as possible to be remembered by the user.<br>\n",
    "Hint for real life: use two-factor authentication for the apps that allow it and a password manager that autogenerates long, random passwords <br>\n",
    "Hint for exercise: use lookahead assertions"
   ]
  },
  {
   "cell_type": "code",
   "execution_count": null,
   "metadata": {},
   "outputs": [],
   "source": [
    "CODE HERE\n",
    "\n"
   ]
  },
  {
   "cell_type": "code",
   "execution_count": null,
   "metadata": {},
   "outputs": [],
   "source": [
    "assert(password_check(\"password\")) == False\n",
    "assert(password_check(\"passw0rd\")) == False\n",
    "assert(password_check(\"Passw0rd!!\")) == False\n",
    "assert(password_check(\"letmeinalready11111!\")) == False\n",
    "assert(password_check(\"LET ME IN now12!\")) == False\n",
    "assert(password_check(\"LetInAlready52!\")) == True  \n",
    "\n",
    "print(password_check(\"password\"))\n",
    "print(password_check(\"passw0rd\"))\n",
    "print(password_check(\"Passw0rd!!\"))\n",
    "print(password_check(\"letmeinalready11111!\"))\n",
    "print(password_check(\"LET ME IN now12!\"))\n",
    "print(password_check(\"LetInAlready!5\"))"
   ]
  }
 ],
 "metadata": {
  "kernelspec": {
   "display_name": "Python 3",
   "language": "python",
   "name": "python3"
  },
  "language_info": {
   "codemirror_mode": {
    "name": "ipython",
    "version": 3
   },
   "file_extension": ".py",
   "mimetype": "text/x-python",
   "name": "python",
   "nbconvert_exporter": "python",
   "pygments_lexer": "ipython3",
   "version": "3.7.4"
  }
 },
 "nbformat": 4,
 "nbformat_minor": 2
}
