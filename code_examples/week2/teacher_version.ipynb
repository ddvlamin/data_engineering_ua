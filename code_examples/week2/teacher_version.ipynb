{
 "cells": [
  {
   "cell_type": "markdown",
   "metadata": {},
   "source": [
    "# Exercises on regexes - Teacher version\n",
    "Relevant documentation: https://docs.python.org/3.5/library/re.html, https://docs.python.org/3.5/howto/regex.html#regex-howto"
   ]
  },
  {
   "cell_type": "markdown",
   "metadata": {},
   "source": [
    "## Exercise 1  \n",
    "Complete the provided Python program that matches a string that has an a followed by zero or more b's."
   ]
  },
  {
   "cell_type": "code",
   "execution_count": 1,
   "metadata": {},
   "outputs": [],
   "source": [
    "import re\n",
    "def text_match(text):\n",
    "        patterns_1 = 'ab*'\n",
    "        if re.search(patterns_1,  text):\n",
    "                return 'Found a match!'\n",
    "        else:\n",
    "                return('Not matched!')\n",
    "\n",
    "assert(text_match(\"bc\")) == 'Not matched!'\n",
    "assert(text_match(\"ac\")) == 'Found a match!'\n",
    "assert(text_match(\"abc\")) == 'Found a match!'\n",
    "assert(text_match(\"abbc\")) == 'Found a match!'\n",
    "\n",
    "print(text_match(\"bc\")) \n",
    "print(text_match(\"ac\")) \n",
    "print(text_match(\"abc\")) \n",
    "print(text_match(\"abbc\"))"
   ]
  },
  {
   "cell_type": "markdown",
   "metadata": {},
   "source": [
    "## Exercise 2\n",
    "Complete the provided Python program that matches a string that has an a followed by one or more b's."
   ]
  },
  {
   "cell_type": "code",
   "execution_count": 2,
   "metadata": {},
   "outputs": [
    {
     "name": "stdout",
     "output_type": "stream",
     "text": [
      "Not matched!\n",
      "Not matched!\n",
      "Found a match!\n",
      "Found a match!\n"
     ]
    }
   ],
   "source": [
    "import re\n",
    "def text_match_2(text):\n",
    "        patterns_2 = 'ab+'\n",
    "        if re.search(patterns_2,  text):\n",
    "                return 'Found a match!'\n",
    "        else:\n",
    "                return('Not matched!')\n",
    "\n",
    "assert(text_match_2(\"bc\")) == 'Not matched!'\n",
    "assert(text_match_2(\"ac\")) == 'Not matched!'\n",
    "assert(text_match_2(\"abc\")) == 'Found a match!'\n",
    "assert(text_match_2(\"abbc\")) == 'Found a match!'\n",
    "\n",
    "print(text_match_2(\"bc\"))\n",
    "print(text_match_2(\"ac\"))\n",
    "print(text_match_2(\"abc\"))\n",
    "print(text_match_2(\"abbc\"))"
   ]
  },
  {
   "cell_type": "markdown",
   "metadata": {},
   "source": [
    "## Exercise 3\n",
    "Complete the provided Python program that matches a string that has an a followed by zero or one b's."
   ]
  },
  {
   "cell_type": "code",
   "execution_count": 3,
   "metadata": {},
   "outputs": [
    {
     "name": "stdout",
     "output_type": "stream",
     "text": [
      "Not matched!\n",
      "Found a match!\n",
      "Found a match!\n",
      "Found a match!\n"
     ]
    }
   ],
   "source": [
    "import re\n",
    "def text_match_3(text):\n",
    "        patterns_3 = 'ab?'\n",
    "        if re.search(patterns_3,  text):\n",
    "                return 'Found a match!'\n",
    "        else:\n",
    "                return('Not matched!')\n",
    "\n",
    "assert(text_match_3(\"bc\")) == 'Not matched!'\n",
    "assert(text_match_3(\"ac\")) == 'Found a match!'\n",
    "assert(text_match_3(\"abc\")) == 'Found a match!'\n",
    "assert(text_match_3(\"abbc\")) == 'Found a match!'\n",
    "\n",
    "print(text_match_3(\"bc\")) \n",
    "print(text_match_3(\"ac\")) \n",
    "print(text_match_3(\"abc\")) \n",
    "print(text_match_3(\"abbc\")) "
   ]
  },
  {
   "cell_type": "markdown",
   "metadata": {},
   "source": [
    "## Exercise 4\n",
    "Complete the provided Python program that matches a string that has an a followed by 3 b's."
   ]
  },
  {
   "cell_type": "code",
   "execution_count": 4,
   "metadata": {},
   "outputs": [
    {
     "name": "stdout",
     "output_type": "stream",
     "text": [
      "Not matched!\n",
      "Not matched!\n",
      "Not matched!\n",
      "Not matched!\n",
      "Found a match!\n"
     ]
    }
   ],
   "source": [
    "import re\n",
    "def text_match_4(text):\n",
    "        patterns_4 = 'ab{3}'\n",
    "        if re.search(patterns_4,  text):\n",
    "                return 'Found a match!'\n",
    "        else:\n",
    "                return('Not matched!')\n",
    "            \n",
    "assert(text_match_4(\"bc\"))  == 'Not matched!'\n",
    "assert(text_match_4(\"ac\")) == 'Not matched!'\n",
    "assert(text_match_4(\"abc\")) == 'Not matched!'\n",
    "assert(text_match_4(\"abbc\")) == 'Not matched!'\n",
    "assert(text_match_4(\"aabbbc\")) == 'Found a match!'\n",
    "\n",
    "print(text_match_4(\"bc\")) \n",
    "print(text_match_4(\"ac\")) \n",
    "print(text_match_4(\"abc\")) \n",
    "print(text_match_4(\"abbc\")) \n",
    "print(text_match_4(\"aabbbc\")) "
   ]
  },
  {
   "cell_type": "markdown",
   "metadata": {},
   "source": [
    "## Exercise 5\n",
    "Complete the provided Python program that matches a string that has an a followed by 2 to 4 b's, followed by 1 or more c's. "
   ]
  },
  {
   "cell_type": "code",
   "execution_count": 5,
   "metadata": {},
   "outputs": [
    {
     "name": "stdout",
     "output_type": "stream",
     "text": [
      "Not matched!\n",
      "Not matched!\n",
      "Not matched!\n",
      "Found a match!\n",
      "Found a match!\n",
      "Not matched!\n"
     ]
    }
   ],
   "source": [
    "import re\n",
    "def text_match_5(text):\n",
    "        patterns_5 = 'ab{2,4}c+'\n",
    "        if re.search(patterns_5, text):\n",
    "                return 'Found a match!'\n",
    "        else:\n",
    "                return 'Not matched!'\n",
    "            \n",
    "assert(text_match_5(\"bc\"))  == 'Not matched!'\n",
    "assert(text_match_5(\"ac\")) == 'Not matched!'\n",
    "assert(text_match_5(\"abc\")) == 'Not matched!'\n",
    "assert(text_match_5(\"abbc\")) == 'Found a match!'\n",
    "assert(text_match_5(\"aabbbc\")) == 'Found a match!'\n",
    "assert(text_match_5(\"aabbbbbbbc\"))== 'Not matched!'\n",
    "\n",
    "print(text_match_5(\"bc\"))  \n",
    "print(text_match_5(\"ac\")) \n",
    "print(text_match_5(\"abc\")) \n",
    "print(text_match_5(\"abbc\")) \n",
    "print(text_match_5(\"aabbbc\")) \n",
    "print(text_match_5(\"aabbbbbbbc\"))"
   ]
  },
  {
   "cell_type": "markdown",
   "metadata": {},
   "source": [
    "## Exercise 6\n",
    "Complete the provided Python program that matches a string, that has an a, followed by anything, ending in a b."
   ]
  },
  {
   "cell_type": "code",
   "execution_count": 6,
   "metadata": {},
   "outputs": [
    {
     "name": "stdout",
     "output_type": "stream",
     "text": [
      "Not matched!\n",
      "Not matched!\n",
      "Found a match!\n",
      "Found a match!\n"
     ]
    }
   ],
   "source": [
    "import re\n",
    "def text_match_6(text):\n",
    "        patterns_6= 'a.*?b$'\n",
    "        if re.search(patterns_6,  text):\n",
    "                return 'Found a match!'\n",
    "        else:\n",
    "                return('Not matched!')\n",
    "            \n",
    "            \n",
    "\n",
    "assert(text_match_6(\"aabbbbd\")) == 'Not matched!'\n",
    "assert(text_match_6(\"aabAbbbc\")) == 'Not matched!'\n",
    "assert(text_match_6(\"accddbbjjjb\")) == 'Found a match!'\n",
    "assert(text_match_6(\"dfracccccdjjjb\")) == 'Found a match!'\n",
    "\n",
    "print(text_match_6(\"aabbbbd\"))\n",
    "print(text_match_6(\"aabAbbbc\"))\n",
    "print(text_match_6(\"accddbbjjjb\"))\n",
    "print(text_match_6(\"dfracccccdjjjb\"))"
   ]
  },
  {
   "cell_type": "markdown",
   "metadata": {},
   "source": [
    "## Exercise 7\n",
    "Complete the provided Python program that matches a string, that starts with an a, followed by anything, ending in a b."
   ]
  },
  {
   "cell_type": "code",
   "execution_count": 7,
   "metadata": {},
   "outputs": [
    {
     "name": "stdout",
     "output_type": "stream",
     "text": [
      "Not matched!\n",
      "Not matched!\n",
      "Found a match!\n",
      "Not matched!\n"
     ]
    }
   ],
   "source": [
    "import re\n",
    "def text_match_7(text):\n",
    "        patterns_7= '^a.*?b$'\n",
    "        if re.search(patterns_7,  text):\n",
    "                return 'Found a match!'\n",
    "        else:\n",
    "                return('Not matched!')\n",
    "            \n",
    "            \n",
    "\n",
    "assert(text_match_7(\"aabbbbd\")) == 'Not matched!'\n",
    "assert(text_match_7(\"aabAbbbc\")) == 'Not matched!'\n",
    "assert(text_match_7(\"accddbbjjjb\")) == 'Found a match!'\n",
    "assert(text_match_7(\"dfracccccdjjjb\")) == 'Not matched!'\n",
    "\n",
    "print(text_match_7(\"aabbbbd\"))\n",
    "print(text_match_7(\"aabAbbbc\"))\n",
    "print(text_match_7(\"accddbbjjjb\"))\n",
    "print(text_match_7(\"dfracccccdjjjb\"))"
   ]
  },
  {
   "cell_type": "markdown",
   "metadata": {},
   "source": [
    "## Exercise 8\n",
    "Complete the provided Python program to remove leading zeroes from an IP adress."
   ]
  },
  {
   "cell_type": "code",
   "execution_count": 8,
   "metadata": {},
   "outputs": [
    {
     "name": "stdout",
     "output_type": "stream",
     "text": [
      "216.8.94.196\n"
     ]
    }
   ],
   "source": [
    "import re\n",
    "ip = \"216.08.094.196\"\n",
    "string = re.sub('\\.[0]*', '.', ip)\n",
    "\n",
    "assert(string) == \"216.8.94.196\"\n",
    "\n",
    "print(string)"
   ]
  },
  {
   "cell_type": "markdown",
   "metadata": {},
   "source": [
    "## Exercise 9\n",
    "Complete the provided Python program to look for the words \"find\", \"lorem ipsum\", \"uninspired\" and \"home\".  "
   ]
  },
  {
   "cell_type": "code",
   "execution_count": 9,
   "metadata": {},
   "outputs": [
    {
     "name": "stdout",
     "output_type": "stream",
     "text": [
      "Searching for \"find\" in \"I find all these \"lorem ipsum\"-examples quite uninspired.\" ->\n",
      "Matched!\n",
      "Searching for \"lorem ipsum\" in \"I find all these \"lorem ipsum\"-examples quite uninspired.\" ->\n",
      "Matched!\n",
      "Searching for \"uninspired\" in \"I find all these \"lorem ipsum\"-examples quite uninspired.\" ->\n",
      "Matched!\n",
      "Searching for \"home\" in \"I find all these \"lorem ipsum\"-examples quite uninspired.\" ->\n",
      "Not Matched!\n"
     ]
    }
   ],
   "source": [
    "import re\n",
    "patterns = [ 'find', 'lorem ipsum', 'uninspired', 'home' ]\n",
    "text = 'I find all these \"lorem ipsum\"-examples quite uninspired.'\n",
    "for pattern in patterns:\n",
    "    print('Searching for \"%s\" in \"%s\" ->' % (pattern, text),)\n",
    "    if re.search(pattern,  text):\n",
    "        print('Matched!')\n",
    "    else:\n",
    "        print('Not Matched!')"
   ]
  },
  {
   "cell_type": "markdown",
   "metadata": {},
   "source": [
    "## Exercise 10\n",
    "Complete the provided Python program to extract year, month and date from the provided url. The format in the url will be yyyy/mm/dd, or yyyy/m/d."
   ]
  },
  {
   "cell_type": "code",
   "execution_count": 10,
   "metadata": {},
   "outputs": [
    {
     "name": "stdout",
     "output_type": "stream",
     "text": [
      "[('2016', '12', '24')]\n",
      "[('2016', '9', '2')]\n"
     ]
    }
   ],
   "source": [
    "import re\n",
    "def extract_date(url):\n",
    "         return re.findall(r'/(\\d{4})/(\\d{1,2})/(\\d{1,2})/', url)\n",
    "url1= \"https://www.washingtonpost.com/news/football-insider/wp/2016/12/24/odell-beckhams-fame-rests-on-one-stupid-little-ball-josh-norman-tells-author/\"\n",
    "url2= \"https://www.washingtonpost.com/news/football-insider/wp/2016/9/2/odell-beckhams-fame-rests-on-one-stupid-little-ball-josh-norman-tells-author/\"\n",
    "print(extract_date(url1))\n",
    "print(extract_date(url2))"
   ]
  },
  {
   "cell_type": "markdown",
   "metadata": {},
   "source": [
    "## Exercise 11\n",
    "Complete the provided Python program below to convert a date from the yyyy-mm-dd format to dd-mm-yyyy"
   ]
  },
  {
   "cell_type": "code",
   "execution_count": 11,
   "metadata": {},
   "outputs": [
    {
     "name": "stdout",
     "output_type": "stream",
     "text": [
      "Original date in YYY-MM-DD Format:  2026-01-02\n",
      "New date in DD-MM-YYYY Format:  02-01-2026\n"
     ]
    }
   ],
   "source": [
    "import re\n",
    "def change_date_format(dt):\n",
    "        return re.sub(r'(\\d{4})-(\\d{1,2})-(\\d{1,2})', '\\\\3-\\\\2-\\\\1', dt)\n",
    "dt1 = \"2026-01-02\"\n",
    "print(\"Original date in YYY-MM-DD Format: \",dt1)\n",
    "print(\"New date in DD-MM-YYYY Format: \",change_date_format(dt1))"
   ]
  },
  {
   "cell_type": "markdown",
   "metadata": {},
   "source": [
    "## Exercise 12\n",
    "Complete the provided Python program below to filter out and print the numbers (ie. numeric characters, grouped as they are) from the given string."
   ]
  },
  {
   "cell_type": "code",
   "execution_count": 12,
   "metadata": {},
   "outputs": [
    {
     "name": "stdout",
     "output_type": "stream",
     "text": [
      "\n",
      "10\n",
      "20\n",
      "30\n"
     ]
    }
   ],
   "source": [
    "import re\n",
    "# Sample string.\n",
    "text = \"Ten 10, Twenty 20, Thirty 30\"\n",
    "result = re.split(\"\\D+\", text)\n",
    "# Print results.\n",
    "for element in result:\n",
    "    print(element)"
   ]
  },
  {
   "cell_type": "markdown",
   "metadata": {},
   "source": [
    "## Excercise 13\n",
    "Complete the provided Python program below to split a string with multiple delimiters. A delimiter is a chracter or sequence of characters that denotes the boundary between seperate elements in a plain text or data stream. An example is the comma in the csv-format (comma separated values). For this exercise, possible delimiters are ; \\S  *  $"
   ]
  },
  {
   "cell_type": "code",
   "execution_count": 13,
   "metadata": {},
   "outputs": [
    {
     "name": "stdout",
     "output_type": "stream",
     "text": [
      "['The quick brown', 'fox jumps', 'over the lazy dog', 'huzzah.']\n"
     ]
    }
   ],
   "source": [
    "import re\n",
    "text = 'The quick brown\\Sfox jumps*over the lazy dog;huzzah.'\n",
    "print(re.split(';|\\*|\\\\\\S|\\$',text))"
   ]
  },
  {
   "cell_type": "markdown",
   "metadata": {},
   "source": [
    "## Exercise 14\n",
    "Complete the provided Python program below to check if a given password is strong enough. For this exercise, a strong password consists of at least 12 but not longer then 16 characters, at least one uppercase letter, at least one lower case letter, at least 2 numbers and a non-alphanumeric character, but it can contain no whitespace characters. This should make the password hard to crack, and as least likely as possible to remember for the user."
   ]
  },
  {
   "cell_type": "code",
   "execution_count": 14,
   "metadata": {},
   "outputs": [
    {
     "name": "stdout",
     "output_type": "stream",
     "text": [
      "False\n",
      "False\n",
      "False\n",
      "False\n",
      "False\n",
      "True\n"
     ]
    }
   ],
   "source": [
    "import re\n",
    "def password_check(string):\n",
    "    passwordRe = re.compile('^(?=.*[a-z])(?=.*[A-Z])(?=.*\\d)(?!.*\\s).{12,16}$')\n",
    "    string = passwordRe.search(string)\n",
    "    return bool(string)\n",
    "\n",
    "assert(password_check(\"password\")) == False\n",
    "assert(password_check(\"passw0rd\")) == False\n",
    "assert(password_check(\"Passw0rd!!\")) == False\n",
    "assert(password_check(\"letmeinalready11111!\")) == False\n",
    "assert(password_check(\"LET ME IN now12!\")) == False\n",
    "assert(password_check(\"LetInAlready52!\")) == True  \n",
    "\n",
    "print(password_check(\"password\"))\n",
    "print(password_check(\"passw0rd\"))\n",
    "print(password_check(\"Passw0rd!!\"))\n",
    "print(password_check(\"letmeinalready11111!\"))\n",
    "print(password_check(\"LET ME IN now12!\"))\n",
    "print(password_check(\"LetInAlready52!\"))   "
   ]
  },
  {
   "cell_type": "markdown",
   "metadata": {},
   "source": [
    "## Excercise 15\n",
    "Complete the provided Python program bellow to check that a string contains only a certain set of characters, in this case a-z, A-Z and 0-9. The program should return \"True\" if the checked string only contains allowed characters, and \"False\" if the string contains any other character. "
   ]
  },
  {
   "cell_type": "code",
   "execution_count": 15,
   "metadata": {},
   "outputs": [],
   "source": [
    "import re\n",
    "def is_allowed_specific_char(string):\n",
    "    charRe = re.compile(r'[^a-zA-Z0-9.]')\n",
    "    string = charRe.search(string)\n",
    "    return not bool(string)\n"
   ]
  },
  {
   "cell_type": "markdown",
   "metadata": {},
   "source": [
    "Now, using the program above, check the strings, \"ABCDEFabcdef153450\", \"&@#\" and \"15@a\" against the rule outlined above. The expected results are \"True\", \"False\", \"False\""
   ]
  },
  {
   "cell_type": "code",
   "execution_count": 16,
   "metadata": {},
   "outputs": [],
   "source": [
    "assert(is_allowed_specific_char(\"ABCDEFabcdef123450\")) == True\n",
    "assert(is_allowed_specific_char(\"*&%@#!}{\")) == False\n",
    "assert(is_allowed_specific_char(\"15@a\")) == False"
   ]
  },
  {
   "cell_type": "markdown",
   "metadata": {},
   "source": [
    "Tips  \n",
    "-Note that we are using \"search\" since we have no info on the expected or allowed length of the string  \n",
    "-As a reminder \"Search\" will scan through the string looking for the first location where the regular expression pattern produces a match  \n",
    "-Consider using one or more negations"
   ]
  },
  {
   "cell_type": "markdown",
   "metadata": {},
   "source": [
    "Alternative solution (if people read the documentation)"
   ]
  },
  {
   "cell_type": "code",
   "execution_count": 17,
   "metadata": {},
   "outputs": [],
   "source": [
    "import re\n",
    "def is_allowed_specific_char_alt(string):\n",
    "    charRe = re.compile(r'[^\\w]')\n",
    "    string = charRe.search(string)\n",
    "    return not bool(string)"
   ]
  },
  {
   "cell_type": "code",
   "execution_count": 18,
   "metadata": {},
   "outputs": [],
   "source": [
    "assert(is_allowed_specific_char_alt(\"ABCDEFabcdef123450\")) == True\n",
    "assert(is_allowed_specific_char_alt(\"*&%@#!}{\")) == False\n",
    "assert(is_allowed_specific_char_alt(\"15@a\")) == False"
   ]
  }
 ],
 "metadata": {
  "kernelspec": {
   "display_name": "Python 3",
   "language": "python",
   "name": "python3"
  },
  "language_info": {
   "codemirror_mode": {
    "name": "ipython",
    "version": 3
   },
   "file_extension": ".py",
   "mimetype": "text/x-python",
   "name": "python",
   "nbconvert_exporter": "python",
   "pygments_lexer": "ipython3",
   "version": "3.5.6"
  }
 },
 "nbformat": 4,
 "nbformat_minor": 2
}
