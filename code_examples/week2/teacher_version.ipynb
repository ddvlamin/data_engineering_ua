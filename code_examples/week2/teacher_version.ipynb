{
 "cells": [
  {
   "cell_type": "markdown",
   "metadata": {},
   "source": [
    "# Exercises on regexes - Teacher version\n",
    "Relevant documentation: https://docs.python.org/3.5/library/re.html, https://docs.python.org/3.5/howto/regex.html#regex-howto"
   ]
  },
  {
   "cell_type": "code",
   "execution_count": 33,
   "metadata": {},
   "outputs": [],
   "source": [
    "import re\n",
    "from datetime import date"
   ]
  },
  {
   "cell_type": "code",
   "execution_count": 14,
   "metadata": {},
   "outputs": [],
   "source": [
    "def text_match(text, pattern):\n",
    "    return re.search(pattern,  text) is not None\n",
    "\n",
    "def evaluate_pattern(text_list, pattern, should_match=True):\n",
    "    for text in text_list:\n",
    "        match = text_match(text, pattern)\n",
    "        if not match and should_match:\n",
    "            print(f\"failed to match pattern {pattern} to text {text}\")\n",
    "        elif match and should_match:\n",
    "            print(f\"successfully matched pattern {pattern} to text {text}\")\n",
    "        elif match and not should_match:\n",
    "            print(f\"matches pattern {pattern} to text {text}, but shouldn't\")\n",
    "        elif not match and not should_match:\n",
    "            print(f\"correctly does not match pattern {pattern} to text {text}\")"
   ]
  },
  {
   "cell_type": "markdown",
   "metadata": {},
   "source": [
    "## Exercise 1  \n",
    "Complete the provided Python program that matches a string that has an a followed by zero or more b's."
   ]
  },
  {
   "cell_type": "code",
   "execution_count": 73,
   "metadata": {},
   "outputs": [],
   "source": [
    "pattern = \"ab*\""
   ]
  },
  {
   "cell_type": "code",
   "execution_count": 74,
   "metadata": {},
   "outputs": [
    {
     "name": "stdout",
     "output_type": "stream",
     "text": [
      "successfully matched pattern ab* to text ac\n",
      "successfully matched pattern ab* to text abc\n",
      "successfully matched pattern ab* to text abbc\n",
      "correctly does not match pattern ab* to text bc\n"
     ]
    }
   ],
   "source": [
    "should_match = [\"ac\",\"abc\",\"abbc\"]\n",
    "should_not_match = [\"bc\"]\n",
    "\n",
    "evaluate_pattern(should_match, pattern, True)\n",
    "evaluate_pattern(should_not_match, pattern, False)"
   ]
  },
  {
   "cell_type": "markdown",
   "metadata": {},
   "source": [
    "## Exercise 2\n",
    "Complete the provided Python program that matches a string that has an a followed by one or more b's."
   ]
  },
  {
   "cell_type": "code",
   "execution_count": 75,
   "metadata": {},
   "outputs": [],
   "source": [
    "pattern = \"ab+\""
   ]
  },
  {
   "cell_type": "code",
   "execution_count": 76,
   "metadata": {},
   "outputs": [
    {
     "name": "stdout",
     "output_type": "stream",
     "text": [
      "successfully matched pattern ab+ to text abc\n",
      "successfully matched pattern ab+ to text abbc\n",
      "correctly does not match pattern ab+ to text bc\n",
      "correctly does not match pattern ab+ to text ac\n"
     ]
    }
   ],
   "source": [
    "should_match = [\"abc\",\"abbc\"]\n",
    "should_not_match = [\"bc\",\"ac\"]\n",
    "\n",
    "evaluate_pattern(should_match, pattern, True)\n",
    "evaluate_pattern(should_not_match, pattern, False)"
   ]
  },
  {
   "cell_type": "markdown",
   "metadata": {},
   "source": [
    "## Exercise 3\n",
    "Complete the provided Python program that matches a string that has an a followed by zero or one b's."
   ]
  },
  {
   "cell_type": "code",
   "execution_count": 77,
   "metadata": {},
   "outputs": [],
   "source": [
    "pattern = \"ab?\""
   ]
  },
  {
   "cell_type": "code",
   "execution_count": 78,
   "metadata": {},
   "outputs": [
    {
     "name": "stdout",
     "output_type": "stream",
     "text": [
      "successfully matched pattern ab? to text ac\n",
      "successfully matched pattern ab? to text abc\n",
      "successfully matched pattern ab? to text abbc\n",
      "correctly does not match pattern ab? to text bc\n"
     ]
    }
   ],
   "source": [
    "should_match = [\"ac\",\"abc\",\"abbc\"]\n",
    "should_not_match = [\"bc\"]\n",
    "\n",
    "evaluate_pattern(should_match, pattern, True)\n",
    "evaluate_pattern(should_not_match, pattern, False)"
   ]
  },
  {
   "cell_type": "markdown",
   "metadata": {},
   "source": [
    "## Exercise 4\n",
    "Complete the provided Python program that matches a string that has an a followed by 3 b's."
   ]
  },
  {
   "cell_type": "code",
   "execution_count": 79,
   "metadata": {},
   "outputs": [],
   "source": [
    "pattern = \"ab{3}\""
   ]
  },
  {
   "cell_type": "code",
   "execution_count": 80,
   "metadata": {},
   "outputs": [
    {
     "name": "stdout",
     "output_type": "stream",
     "text": [
      "successfully matched pattern ab{3} to text aabbbc\n",
      "correctly does not match pattern ab{3} to text bc\n",
      "correctly does not match pattern ab{3} to text ac\n",
      "correctly does not match pattern ab{3} to text abc\n",
      "correctly does not match pattern ab{3} to text abbc\n"
     ]
    }
   ],
   "source": [
    "should_match = [\"aabbbc\"]\n",
    "should_not_match = [\"bc\",\"ac\",\"abc\",\"abbc\"]\n",
    "\n",
    "evaluate_pattern(should_match, pattern, True)\n",
    "evaluate_pattern(should_not_match, pattern, False)"
   ]
  },
  {
   "cell_type": "markdown",
   "metadata": {},
   "source": [
    "## Exercise 5\n",
    "Complete the provided Python program that matches a string that has an a followed by 2 to 4 b's, followed by 1 or more c's. "
   ]
  },
  {
   "cell_type": "code",
   "execution_count": 81,
   "metadata": {},
   "outputs": [],
   "source": [
    "pattern = \"ab{2,4}c+\""
   ]
  },
  {
   "cell_type": "code",
   "execution_count": 82,
   "metadata": {},
   "outputs": [
    {
     "name": "stdout",
     "output_type": "stream",
     "text": [
      "successfully matched pattern ab{2,4}c+ to text abbc\n",
      "successfully matched pattern ab{2,4}c+ to text aabbbc\n",
      "successfully matched pattern ab{2,4}c+ to text aabbbcc\n",
      "correctly does not match pattern ab{2,4}c+ to text bc\n",
      "correctly does not match pattern ab{2,4}c+ to text ac\n",
      "correctly does not match pattern ab{2,4}c+ to text abc\n",
      "correctly does not match pattern ab{2,4}c+ to text aabbbbbbbc\n"
     ]
    }
   ],
   "source": [
    "should_match = [\"abbc\",\"aabbbc\",\"aabbbcc\"]\n",
    "should_not_match = [\"bc\",\"ac\",\"abc\",\"aabbbbbbbc\"]\n",
    "\n",
    "evaluate_pattern(should_match, pattern, True)\n",
    "evaluate_pattern(should_not_match, pattern, False)"
   ]
  },
  {
   "cell_type": "markdown",
   "metadata": {},
   "source": [
    "## Exercise 6\n",
    "Complete the provided Python program that matches a string, that has an a, followed by anything, ending in a b."
   ]
  },
  {
   "cell_type": "code",
   "execution_count": 83,
   "metadata": {},
   "outputs": [],
   "source": [
    "pattern = \"a.*b$\""
   ]
  },
  {
   "cell_type": "code",
   "execution_count": 84,
   "metadata": {},
   "outputs": [
    {
     "name": "stdout",
     "output_type": "stream",
     "text": [
      "successfully matched pattern a.*b$ to text accddbbjjjb\n",
      "successfully matched pattern a.*b$ to text dfracccccdjjjb\n",
      "correctly does not match pattern a.*b$ to text aabbbbd\n",
      "correctly does not match pattern a.*b$ to text aabAbbbc\n"
     ]
    }
   ],
   "source": [
    "should_match = [\"accddbbjjjb\",\"dfracccccdjjjb\"]\n",
    "should_not_match = [\"aabbbbd\",\"aabAbbbc\"]\n",
    "\n",
    "evaluate_pattern(should_match, pattern, True)\n",
    "evaluate_pattern(should_not_match, pattern, False)"
   ]
  },
  {
   "cell_type": "markdown",
   "metadata": {},
   "source": [
    "## Exercise 7\n",
    "Complete the provided Python program that matches a string, that starts with an a, followed by anything, ending in a b."
   ]
  },
  {
   "cell_type": "code",
   "execution_count": 85,
   "metadata": {},
   "outputs": [],
   "source": [
    "pattern = \"^a.*b$\""
   ]
  },
  {
   "cell_type": "code",
   "execution_count": 86,
   "metadata": {},
   "outputs": [
    {
     "name": "stdout",
     "output_type": "stream",
     "text": [
      "successfully matched pattern ^a.*b$ to text accddbbjjjb\n",
      "correctly does not match pattern ^a.*b$ to text aabbbbd\n",
      "correctly does not match pattern ^a.*b$ to text aabAbbbc\n",
      "correctly does not match pattern ^a.*b$ to text dfracccccdjjjb\n"
     ]
    }
   ],
   "source": [
    "should_match = [\"accddbbjjjb\"]\n",
    "should_not_match = [\"aabbbbd\",\"aabAbbbc\",\"dfracccccdjjjb\"]\n",
    "\n",
    "evaluate_pattern(should_match, pattern, True)\n",
    "evaluate_pattern(should_not_match, pattern, False)"
   ]
  },
  {
   "cell_type": "markdown",
   "metadata": {},
   "source": [
    "## Exercise 8\n",
    "Complete the provided Python program to remove leading zeroes from an IP adress."
   ]
  },
  {
   "cell_type": "code",
   "execution_count": 29,
   "metadata": {},
   "outputs": [
    {
     "name": "stdout",
     "output_type": "stream",
     "text": [
      "216.8.94.196\n"
     ]
    }
   ],
   "source": [
    "import re\n",
    "ip = \"216.08.094.196\"\n",
    "string = re.sub('\\.[0]*', '.', ip)\n",
    "\n",
    "assert(string) == \"216.8.94.196\"\n",
    "\n",
    "print(string)"
   ]
  },
  {
   "cell_type": "markdown",
   "metadata": {},
   "source": [
    "## Exercise 9\n",
    "Complete the provided Python program to look for the words \"find\", \"lorem ipsum\", \"uninspired\" and \"home\".  "
   ]
  },
  {
   "cell_type": "code",
   "execution_count": 30,
   "metadata": {},
   "outputs": [
    {
     "name": "stdout",
     "output_type": "stream",
     "text": [
      "Searching for \"find\" in \"I find all these \"lorem ipsum\"-examples quite uninspired.\" ->\n",
      "Matched!\n",
      "Searching for \"lorem ipsum\" in \"I find all these \"lorem ipsum\"-examples quite uninspired.\" ->\n",
      "Matched!\n",
      "Searching for \"uninspired\" in \"I find all these \"lorem ipsum\"-examples quite uninspired.\" ->\n",
      "Matched!\n",
      "Searching for \"home\" in \"I find all these \"lorem ipsum\"-examples quite uninspired.\" ->\n",
      "Not Matched!\n"
     ]
    }
   ],
   "source": [
    "import re\n",
    "patterns = [ 'find', 'lorem ipsum', 'uninspired', 'home' ]\n",
    "text = 'I find all these \"lorem ipsum\"-examples quite uninspired.'\n",
    "for pattern in patterns:\n",
    "    print('Searching for \"%s\" in \"%s\" ->' % (pattern, text),)\n",
    "    if re.search(pattern,  text):\n",
    "        print('Matched!')\n",
    "    else:\n",
    "        print('Not Matched!')"
   ]
  },
  {
   "cell_type": "markdown",
   "metadata": {},
   "source": [
    "## Exercise 10\n",
    "Complete the provided Python program to extract year, month and date from the provided url. The format in the url will be yyyy/mm/dd, or yyyy/m/d. And convert it to a Python date object"
   ]
  },
  {
   "cell_type": "code",
   "execution_count": 43,
   "metadata": {},
   "outputs": [],
   "source": [
    "url1= \"https://www.washingtonpost.com/news/football-insider/wp/2016/12/24/odell-beckhams-fame-rests-on-one-stupid-little-ball-josh-norman-tells-author/\"\n",
    "url2= \"https://www.washingtonpost.com/news/football-insider/wp/2016/9/2/odell-beckhams-fame-rests-on-one-stupid-little-ball-josh-norman-tells-author/\"\n",
    "\n",
    "pattern = \"/(\\d{4})/(\\d{1,2})/(\\d{1,2})/\"\n",
    "\n",
    "def extract_date(url, pattern):\n",
    "    match_obj = re.search(pattern, url)\n",
    "    if match_obj is not None:\n",
    "        date_object = date(*[int(i) for i in match_obj.groups()])\n",
    "        return date_object\n",
    "\n",
    "assert extract_date(url1, pattern) == date(2016,12,24)\n",
    "assert extract_date(url2, pattern) == date(2016,9,2)"
   ]
  },
  {
   "cell_type": "markdown",
   "metadata": {},
   "source": [
    "## Exercise 11\n",
    "Complete the provided Python program below to convert a date from the yyyy-mm-dd format to dd-mm-yyyy"
   ]
  },
  {
   "cell_type": "code",
   "execution_count": 44,
   "metadata": {},
   "outputs": [
    {
     "name": "stdout",
     "output_type": "stream",
     "text": [
      "Original date in YYY-MM-DD Format:  2026-01-02\n",
      "New date in DD-MM-YYYY Format:  02-01-2026\n"
     ]
    }
   ],
   "source": [
    "import re\n",
    "def change_date_format(dt):\n",
    "        return re.sub(r'(\\d{4})-(\\d{1,2})-(\\d{1,2})', '\\\\3-\\\\2-\\\\1', dt)\n",
    "dt1 = \"2026-01-02\"\n",
    "print(\"Original date in YYY-MM-DD Format: \",dt1)\n",
    "print(\"New date in DD-MM-YYYY Format: \",change_date_format(dt1))"
   ]
  },
  {
   "cell_type": "markdown",
   "metadata": {},
   "source": [
    "## Exercise 12\n",
    "Complete the provided Python program below to filter out and print the numbers (ie. numeric characters, grouped as they are) from the given string."
   ]
  },
  {
   "cell_type": "code",
   "execution_count": 12,
   "metadata": {},
   "outputs": [
    {
     "name": "stdout",
     "output_type": "stream",
     "text": [
      "\n",
      "10\n",
      "20\n",
      "30\n"
     ]
    }
   ],
   "source": [
    "import re\n",
    "# Sample string.\n",
    "text = \"Ten 10, Twenty 20, Thirty 30\"\n",
    "result = re.split(\"\\D+\", text)\n",
    "# Print results.\n",
    "for element in result:\n",
    "    print(element)"
   ]
  },
  {
   "cell_type": "markdown",
   "metadata": {},
   "source": [
    "## Excercise 13\n",
    "Complete the provided Python program below to split a string with multiple delimiters. A delimiter is a chracter or sequence of characters that denotes the boundary between seperate elements in a plain text or data stream. An example is the comma in the csv-format (comma separated values). For this exercise, possible delimiters are ; \\S  *  $ <br>\n",
    "Note that some of these delimiters have special meaning in the regex, so you must escape them with a backslash \\"
   ]
  },
  {
   "cell_type": "code",
   "execution_count": 45,
   "metadata": {},
   "outputs": [
    {
     "name": "stdout",
     "output_type": "stream",
     "text": [
      "['The quick brown', 'fox jumps', 'over the lazy dog', 'huzzah.']\n"
     ]
    }
   ],
   "source": [
    "import re\n",
    "text = 'The quick brown\\Sfox jumps*over the lazy dog;huzzah.'\n",
    "print(re.split(';|\\*|\\\\\\S|\\$',text))"
   ]
  },
  {
   "cell_type": "markdown",
   "metadata": {},
   "source": [
    "## Exercise 14\n",
    "#### Complete the provided Python program below to check if a given password meets certain criteria. For this exercise, a good password consists of at least 12 but not longer then 16 characters, at least one uppercase letter, at least one lower case letter, at least 1 number and a non-alphanumeric character, but it can contain no whitespace characters. This should make the password hard to crack, and at least likely as possible to remember for the user.<br>\n",
    "Hint for real life: use two-factor authentication for the apps that allow it and a password manager that autogenerates long, random passwords"
   ]
  },
  {
   "cell_type": "code",
   "execution_count": 72,
   "metadata": {},
   "outputs": [
    {
     "name": "stdout",
     "output_type": "stream",
     "text": [
      "False\n",
      "False\n",
      "False\n",
      "False\n",
      "False\n",
      "True\n"
     ]
    }
   ],
   "source": [
    "import re\n",
    "def password_check(string):\n",
    "    passwordRe = re.compile('^(?=.*[a-z])(?=.*[A-Z])(?=.*\\d)(?=.*\\W)(?!.*\\s).{12,16}$')\n",
    "    string = passwordRe.search(string)\n",
    "    return bool(string)\n",
    "\n",
    "assert(password_check(\"password\")) == False\n",
    "assert(password_check(\"passw0rd\")) == False\n",
    "assert(password_check(\"Passw0rd!!\")) == False\n",
    "assert(password_check(\"letmeinalready11111!\")) == False\n",
    "assert(password_check(\"LET ME IN now12!\")) == False\n",
    "assert(password_check(\"LetInAlready52!\")) == True  \n",
    "\n",
    "print(password_check(\"password\"))\n",
    "print(password_check(\"passw0rd\"))\n",
    "print(password_check(\"Passw0rd!!\"))\n",
    "print(password_check(\"letmeinalready11111!\"))\n",
    "print(password_check(\"LET ME IN now12!\"))\n",
    "print(password_check(\"LetInAlready!5\"))"
   ]
  },
  {
   "cell_type": "markdown",
   "metadata": {},
   "source": [
    "## Excercise 15\n",
    "Complete the provided Python program bellow to check that a string contains only a certain set of characters, in this case a-z, A-Z and 0-9. The program should return \"True\" if the checked string only contains allowed characters, and \"False\" if the string contains any other character. "
   ]
  },
  {
   "cell_type": "code",
   "execution_count": 15,
   "metadata": {},
   "outputs": [],
   "source": [
    "import re\n",
    "def is_allowed_specific_char(string):\n",
    "    charRe = re.compile(r'[^a-zA-Z0-9.]')\n",
    "    string = charRe.search(string)\n",
    "    return not bool(string)\n"
   ]
  },
  {
   "cell_type": "markdown",
   "metadata": {},
   "source": [
    "Now, using the program above, check the strings, \"ABCDEFabcdef153450\", \"&@#\" and \"15@a\" against the rule outlined above. The expected results are \"True\", \"False\", \"False\""
   ]
  },
  {
   "cell_type": "code",
   "execution_count": 16,
   "metadata": {},
   "outputs": [],
   "source": [
    "assert(is_allowed_specific_char(\"ABCDEFabcdef123450\")) == True\n",
    "assert(is_allowed_specific_char(\"*&%@#!}{\")) == False\n",
    "assert(is_allowed_specific_char(\"15@a\")) == False"
   ]
  },
  {
   "cell_type": "markdown",
   "metadata": {},
   "source": [
    "Tips  \n",
    "-Note that we are using \"search\" since we have no info on the expected or allowed length of the string  \n",
    "-As a reminder \"Search\" will scan through the string looking for the first location where the regular expression pattern produces a match  \n",
    "-Consider using one or more negations"
   ]
  },
  {
   "cell_type": "markdown",
   "metadata": {},
   "source": [
    "Alternative solution (if people read the documentation)"
   ]
  },
  {
   "cell_type": "code",
   "execution_count": 17,
   "metadata": {},
   "outputs": [],
   "source": [
    "import re\n",
    "def is_allowed_specific_char_alt(string):\n",
    "    charRe = re.compile(r'[^\\w]')\n",
    "    string = charRe.search(string)\n",
    "    return not bool(string)"
   ]
  },
  {
   "cell_type": "code",
   "execution_count": 18,
   "metadata": {},
   "outputs": [],
   "source": [
    "assert(is_allowed_specific_char_alt(\"ABCDEFabcdef123450\")) == True\n",
    "assert(is_allowed_specific_char_alt(\"*&%@#!}{\")) == False\n",
    "assert(is_allowed_specific_char_alt(\"15@a\")) == False"
   ]
  }
 ],
 "metadata": {
  "kernelspec": {
   "display_name": "Python 3",
   "language": "python",
   "name": "python3"
  },
  "language_info": {
   "codemirror_mode": {
    "name": "ipython",
    "version": 3
   },
   "file_extension": ".py",
   "mimetype": "text/x-python",
   "name": "python",
   "nbconvert_exporter": "python",
   "pygments_lexer": "ipython3",
   "version": "3.8.0"
  }
 },
 "nbformat": 4,
 "nbformat_minor": 2
}
