{
 "cells": [
  {
   "cell_type": "code",
   "execution_count": 14,
   "metadata": {},
   "outputs": [],
   "source": [
    "import re\n",
    "import bz2\n",
    "import os\n",
    "import json"
   ]
  },
  {
   "cell_type": "code",
   "execution_count": 15,
   "metadata": {},
   "outputs": [],
   "source": [
    "base_folder = \"/home/ubuntu/data/tmp/webpages/\""
   ]
  },
  {
   "cell_type": "code",
   "execution_count": 18,
   "metadata": {},
   "outputs": [],
   "source": [
    "def read_files_in_folder(folder):\n",
    "    for file_name in os.listdir(folder):\n",
    "        file_path = os.path.join(folder,file_name)\n",
    "        with bz2.open(file_path, \"r\") as fin:\n",
    "            for line in fin:\n",
    "                js = json.loads(line)\n",
    "                yield js\n",
    "            "
   ]
  },
  {
   "cell_type": "code",
   "execution_count": 22,
   "metadata": {},
   "outputs": [],
   "source": [
    "def find_patterns_in_folder(base_folder, pattern):\n",
    "    for js in read_files_in_folder(base_folder):\n",
    "        url = js[\"identifier\"]\n",
    "        match = pattern.search(url)\n",
    "        if match:\n",
    "            yield url"
   ]
  },
  {
   "cell_type": "code",
   "execution_count": 25,
   "metadata": {},
   "outputs": [],
   "source": [
    "search_pattern_1 = re.compile(\"[Ss]carlet\")\n",
    "search_pattern_2 = re.compile(\"[Ss]carlet[^t]\")"
   ]
  },
  {
   "cell_type": "code",
   "execution_count": 24,
   "metadata": {},
   "outputs": [
    {
     "name": "stdout",
     "output_type": "stream",
     "text": [
      "www.9lives.be/forum/hardware/480525-scarlet-adsl-error-678-a.html\n",
      "www.lalibre.be/economie/entreprises-startup/l-operateur-a-petit-prix-scarlet-a-une-nouvelle-patronne-mon-but-rester-l-operateur-le-moins-cher-du-marche-5d68b88c9978e27153ed3c29?\n",
      "www.dhnet.be/lifestyle/people/scarlett-johansson-a-epouse-romain-dauriac-547d58023570a0fe4c92da7b\n",
      "www.elle.fr/People/La-vie-des-people/Interviews/Scarlett-Johansson-fait-elle-sa-crise-d-ado-1823156\n"
     ]
    }
   ],
   "source": [
    "for url in find_patterns_in_folder(base_folder, search_pattern_1):\n",
    "    print(url)"
   ]
  },
  {
   "cell_type": "code",
   "execution_count": 26,
   "metadata": {},
   "outputs": [
    {
     "name": "stdout",
     "output_type": "stream",
     "text": [
      "www.9lives.be/forum/hardware/480525-scarlet-adsl-error-678-a.html\n",
      "www.lalibre.be/economie/entreprises-startup/l-operateur-a-petit-prix-scarlet-a-une-nouvelle-patronne-mon-but-rester-l-operateur-le-moins-cher-du-marche-5d68b88c9978e27153ed3c29?\n"
     ]
    }
   ],
   "source": [
    "for url in find_patterns_in_folder(base_folder, search_pattern_2):\n",
    "    print(url)"
   ]
  },
  {
   "cell_type": "code",
   "execution_count": 33,
   "metadata": {},
   "outputs": [],
   "source": [
    "def print_matches(sentence, regex):\n",
    "    for match in regex.findall(sentence):\n",
    "        print(match)"
   ]
  },
  {
   "cell_type": "code",
   "execution_count": 34,
   "metadata": {},
   "outputs": [
    {
     "name": "stdout",
     "output_type": "stream",
     "text": [
      "Antwerp\n"
     ]
    }
   ],
   "source": [
    "sentence = \"Jan Willems lives in Antwerp 2000, Frankrijklei 100.\"\n",
    "regex = re.compile(\"Antwerp\")\n",
    "print_matches(sentence, regex)"
   ]
  },
  {
   "cell_type": "code",
   "execution_count": 35,
   "metadata": {},
   "outputs": [
    {
     "name": "stdout",
     "output_type": "stream",
     "text": [
      "yin\n",
      "yan\n"
     ]
    }
   ],
   "source": [
    "sentence = \"In Ancient Chinese philosophy, yin and yang is a concept of dualism\"\n",
    "regex = re.compile(\"y.n\")\n",
    "print_matches(sentence, regex)"
   ]
  },
  {
   "cell_type": "code",
   "execution_count": 39,
   "metadata": {},
   "outputs": [
    {
     "name": "stdout",
     "output_type": "stream",
     "text": [
      "yin\n",
      "yan\n"
     ]
    }
   ],
   "source": [
    "sentence = \"In Ancient Chinese philosophy, yin and yang is a concept of dualism\"\n",
    "regex = re.compile(\"y[ia]n\")\n",
    "print_matches(sentence, regex)"
   ]
  },
  {
   "cell_type": "code",
   "execution_count": 40,
   "metadata": {},
   "outputs": [
    {
     "name": "stdout",
     "output_type": "stream",
     "text": [
      "2\n",
      "0\n",
      "0\n",
      "0\n",
      "1\n",
      "0\n",
      "0\n"
     ]
    }
   ],
   "source": [
    "sentence = \"Jan Willems lives in Antwerp 2000, Frankrijklei 100.\"\n",
    "regex = re.compile(\"[0-9]\")\n",
    "print_matches(sentence, regex)"
   ]
  },
  {
   "cell_type": "code",
   "execution_count": 41,
   "metadata": {},
   "outputs": [
    {
     "name": "stdout",
     "output_type": "stream",
     "text": [
      "2000\n"
     ]
    }
   ],
   "source": [
    "sentence = \"Jan Willems lives in Antwerp 2000, Frankrijklei 100.\"\n",
    "regex = re.compile(\"20[^5-9]0\")\n",
    "print_matches(sentence, regex)"
   ]
  },
  {
   "cell_type": "code",
   "execution_count": 61,
   "metadata": {},
   "outputs": [
    {
     "name": "stdout",
     "output_type": "stream",
     "text": [
      "Frankrijklei\n",
      "Italielei\n"
     ]
    }
   ],
   "source": [
    "sentence = \"Jan Willems lives at Frankrijklei 100 and An lives at Italielei 11.\"\n",
    "regex = re.compile(\"((?:Italie|Frankrijk)lei)\")\n",
    "print_matches(sentence, regex)"
   ]
  },
  {
   "cell_type": "code",
   "execution_count": 48,
   "metadata": {},
   "outputs": [
    {
     "name": "stdout",
     "output_type": "stream",
     "text": [
      "Willems\n",
      "Willem\n"
     ]
    }
   ],
   "source": [
    "sentence = \"An Willems and Jan Willem lives at Frankrijklei 100.\"\n",
    "regex = re.compile(\"Willems?\")\n",
    "print_matches(sentence, regex)"
   ]
  },
  {
   "cell_type": "code",
   "execution_count": 49,
   "metadata": {},
   "outputs": [
    {
     "name": "stdout",
     "output_type": "stream",
     "text": [
      "2000\n",
      "100\n"
     ]
    }
   ],
   "source": [
    "sentence = \"Jan Willems lives in Antwerp 2000, Frankrijklei 100.\"\n",
    "regex = re.compile(\"[0-9]+\")\n",
    "print_matches(sentence, regex)"
   ]
  },
  {
   "cell_type": "code",
   "execution_count": 51,
   "metadata": {},
   "outputs": [
    {
     "name": "stdout",
     "output_type": "stream",
     "text": [
      "2000\n"
     ]
    }
   ],
   "source": [
    "sentence = \"Jan Willems lives in Antwerp 2000, Frankrijklei 100.\"\n",
    "regex = re.compile(\"[0-9]{4}\")\n",
    "print_matches(sentence, regex)"
   ]
  },
  {
   "cell_type": "code",
   "execution_count": 53,
   "metadata": {},
   "outputs": [
    {
     "name": "stdout",
     "output_type": "stream",
     "text": [
      "Willems\n"
     ]
    }
   ],
   "source": [
    "sentence = \"Jan Willems lives in Antwerp 2000, Frankrijklei 100.\"\n",
    "regex = re.compile(\"W.*?s\")\n",
    "print_matches(sentence, regex)"
   ]
  },
  {
   "cell_type": "code",
   "execution_count": 84,
   "metadata": {},
   "outputs": [
    {
     "data": {
      "text/plain": [
       "('Frankrijklei',)"
      ]
     },
     "execution_count": 84,
     "metadata": {},
     "output_type": "execute_result"
    }
   ],
   "source": [
    "sentence = \"Jan Willems does not live in Frankrijk, but lives at Frankrijklei 100 and An lives at Italielei 11.\"\n",
    "regex = re.compile(\"((?:Italie|Frankrijk)lei)\")\n",
    "regex.search(sentence).groups()"
   ]
  },
  {
   "cell_type": "code",
   "execution_count": 80,
   "metadata": {},
   "outputs": [
    {
     "name": "stdout",
     "output_type": "stream",
     "text": [
      "Jan\n"
     ]
    }
   ],
   "source": [
    "sentence = \"Jan Verstraete and Jan Willems live in Antwerp 2000, Frankrijklei 100.\"\n",
    "regex = re.compile(\"Jan(?= Willems )\")\n",
    "print_matches(sentence, regex)"
   ]
  },
  {
   "cell_type": "code",
   "execution_count": 81,
   "metadata": {},
   "outputs": [
    {
     "name": "stdout",
     "output_type": "stream",
     "text": [
      "Antwerp\n"
     ]
    }
   ],
   "source": [
    "sentence = \"Jan Verstraete lives in Antwerp 2050 and Jan Willems in Antwerp 2000\"\n",
    "regex = re.compile(\"Antwerp(?! 2050)\")\n",
    "print_matches(sentence, regex)"
   ]
  },
  {
   "cell_type": "code",
   "execution_count": null,
   "metadata": {},
   "outputs": [],
   "source": [
    "sentence = \"Jan Willems lives at Frankrijklei 100 and An lives at Italielei 11.\"\n",
    "regex = re.compile(\"((Italie|Frankrijk)lei ([0-9]{2,3}))\")\n",
    "regex.search(sentence).groups()"
   ]
  }
 ],
 "metadata": {
  "kernelspec": {
   "display_name": "Python 3",
   "language": "python",
   "name": "python3"
  },
  "language_info": {
   "codemirror_mode": {
    "name": "ipython",
    "version": 3
   },
   "file_extension": ".py",
   "mimetype": "text/x-python",
   "name": "python",
   "nbconvert_exporter": "python",
   "pygments_lexer": "ipython3",
   "version": "3.8.0"
  }
 },
 "nbformat": 4,
 "nbformat_minor": 2
}
