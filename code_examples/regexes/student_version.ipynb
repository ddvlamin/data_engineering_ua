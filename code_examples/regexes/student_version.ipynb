{
 "cells": [
  {
   "cell_type": "markdown",
   "metadata": {},
   "source": [
    "# Excercises on regexes\n",
    "Relevant documentation: https://docs.python.org/3.5/library/re.html, https://docs.python.org/3.5/howto/regex.html#regex-howto"
   ]
  },
  {
   "cell_type": "markdown",
   "metadata": {},
   "source": [
    "## Excercise 1\n",
    "Complete the provided Python program bellow to check that a string contains only a certain set of characters, in this case a-z, A-Z and 0-9. The program should return \"True\" if the checked string only contains allowed characters, and \"False\" if the string contains any other character. "
   ]
  },
  {
   "cell_type": "code",
   "execution_count": 19,
   "metadata": {},
   "outputs": [],
   "source": [
    "import re\n",
    "def is_allowed_specific_char(string):\n",
    "    charRe = re.compile(\"[^A-Za-z0-9]\")\n",
    "    string = charRe.search(string)\n",
    "    return string == None\n"
   ]
  },
  {
   "cell_type": "markdown",
   "metadata": {},
   "source": [
    "Now, using the program above, check the strings, \"ABCDEFabcdef153450\", \"&@#\" and \"15@a\" against the rule outlined above. The expected results are \"True\", \"False\", \"False\""
   ]
  },
  {
   "cell_type": "code",
   "execution_count": 21,
   "metadata": {},
   "outputs": [
    {
     "name": "stdout",
     "output_type": "stream",
     "text": [
      "True\n"
     ]
    },
    {
     "ename": "AssertionError",
     "evalue": "",
     "output_type": "error",
     "traceback": [
      "\u001b[0;31m---------------------------------------------------------------------------\u001b[0m",
      "\u001b[0;31mAssertionError\u001b[0m                            Traceback (most recent call last)",
      "\u001b[0;32m<ipython-input-21-9b411e4bb022>\u001b[0m in \u001b[0;36m<module>\u001b[0;34m\u001b[0m\n\u001b[1;32m      1\u001b[0m \u001b[0mprint\u001b[0m\u001b[0;34m(\u001b[0m\u001b[0mis_allowed_specific_char\u001b[0m\u001b[0;34m(\u001b[0m\u001b[0;34m\"ABCDEFabcdef153450\"\u001b[0m\u001b[0;34m)\u001b[0m\u001b[0;34m)\u001b[0m\u001b[0;34m\u001b[0m\u001b[0;34m\u001b[0m\u001b[0m\n\u001b[0;32m----> 2\u001b[0;31m \u001b[0;32massert\u001b[0m \u001b[0mis_allowed_specific_char\u001b[0m\u001b[0;34m(\u001b[0m\u001b[0;34m\"&@#\"\u001b[0m\u001b[0;34m)\u001b[0m \u001b[0;34m==\u001b[0m \u001b[0;32mTrue\u001b[0m\u001b[0;34m\u001b[0m\u001b[0;34m\u001b[0m\u001b[0m\n\u001b[0m\u001b[1;32m      3\u001b[0m \u001b[0mprint\u001b[0m\u001b[0;34m(\u001b[0m\u001b[0mis_allowed_specific_char\u001b[0m\u001b[0;34m(\u001b[0m\u001b[0;34m\"15@a\"\u001b[0m\u001b[0;34m)\u001b[0m\u001b[0;34m)\u001b[0m\u001b[0;34m\u001b[0m\u001b[0;34m\u001b[0m\u001b[0m\n",
      "\u001b[0;31mAssertionError\u001b[0m: "
     ]
    }
   ],
   "source": [
    "print(is_allowed_specific_char(\"ABCDEFabcdef153450\")) \n",
    "assert is_allowed_specific_char(\"&@#\") == True\n",
    "print(is_allowed_specific_char(\"15@a\"))"
   ]
  },
  {
   "cell_type": "markdown",
   "metadata": {},
   "source": [
    "Tips  \n",
    "-Note that we are using \"search\" since we have no info on the expected or allowed length of the string  \n",
    "-As a reminder \"Search\" will scan through the string looking for the first location where the regular expression pattern produces a match  \n",
    "-Consider using one or more negations"
   ]
  },
  {
   "cell_type": "code",
   "execution_count": null,
   "metadata": {},
   "outputs": [],
   "source": []
  }
 ],
 "metadata": {
  "kernelspec": {
   "display_name": "Python 3",
   "language": "python",
   "name": "python3"
  },
  "language_info": {
   "codemirror_mode": {
    "name": "ipython",
    "version": 3
   },
   "file_extension": ".py",
   "mimetype": "text/x-python",
   "name": "python",
   "nbconvert_exporter": "python",
   "pygments_lexer": "ipython3",
   "version": "3.8.0"
  }
 },
 "nbformat": 4,
 "nbformat_minor": 2
}
