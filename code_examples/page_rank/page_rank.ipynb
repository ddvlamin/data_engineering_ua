{
 "cells": [
  {
   "cell_type": "code",
   "execution_count": 39,
   "metadata": {},
   "outputs": [],
   "source": [
    "import numpy as np"
   ]
  },
  {
   "cell_type": "code",
   "execution_count": 40,
   "metadata": {},
   "outputs": [],
   "source": [
    "A = np.array([\n",
    "    [0, 0.5, 1, 0.0],\n",
    "    [1/3,0,0,0.5],\n",
    "    [1/3,0,0,0.5],\n",
    "    [1/3,1/2,0,0]\n",
    "])"
   ]
  },
  {
   "cell_type": "code",
   "execution_count": 41,
   "metadata": {},
   "outputs": [],
   "source": [
    "v = np.array([\n",
    "    [0.25],\n",
    "    [0.25],\n",
    "    [0.25],\n",
    "    [0.25]\n",
    "])"
   ]
  },
  {
   "cell_type": "code",
   "execution_count": 42,
   "metadata": {},
   "outputs": [],
   "source": [
    "def page_rank(A, v):\n",
    "    v_new = np.dot(A,v)\n",
    "    v_previous = v\n",
    "    v_norm = np.linalg.norm(v_new-v_previous)\n",
    "    iteration = 0\n",
    "    while v_norm!=0:\n",
    "        v_previous = v_new\n",
    "        v_new = np.dot(A,v_previous)\n",
    "        v_norm = np.linalg.norm(v_new-v_previous)\n",
    "        iteration += 1\n",
    "        #print(f\"norm in iteration {iteration} is {v_norm}\")\n",
    "        #print(v_new)\n",
    "    return v_new"
   ]
  },
  {
   "cell_type": "code",
   "execution_count": 43,
   "metadata": {},
   "outputs": [
    {
     "name": "stdout",
     "output_type": "stream",
     "text": [
      "[[0.33333333]\n",
      " [0.22222222]\n",
      " [0.22222222]\n",
      " [0.22222222]]\n"
     ]
    }
   ],
   "source": [
    "print(page_rank(A,v))"
   ]
  },
  {
   "cell_type": "code",
   "execution_count": 44,
   "metadata": {},
   "outputs": [],
   "source": [
    "A = np.array([\n",
    "    [0, 1/3, 1/2, 0.5],\n",
    "    [0,0,0,0.5],\n",
    "    [0,1/3,0,0],\n",
    "    [0,1/3,0.5,0]\n",
    "])"
   ]
  },
  {
   "cell_type": "code",
   "execution_count": 45,
   "metadata": {},
   "outputs": [],
   "source": [
    "v = np.array([\n",
    "    [0.25],\n",
    "    [0.25],\n",
    "    [0.25],\n",
    "    [0.25]\n",
    "])"
   ]
  },
  {
   "cell_type": "code",
   "execution_count": 46,
   "metadata": {},
   "outputs": [
    {
     "name": "stdout",
     "output_type": "stream",
     "text": [
      "[[1.85723354e-162]\n",
      " [8.74936579e-163]\n",
      " [5.19540115e-163]\n",
      " [9.82296966e-163]]\n"
     ]
    }
   ],
   "source": [
    "print(page_rank(A,v))"
   ]
  },
  {
   "cell_type": "code",
   "execution_count": null,
   "metadata": {},
   "outputs": [],
   "source": []
  }
 ],
 "metadata": {
  "kernelspec": {
   "display_name": "Python 3",
   "language": "python",
   "name": "python3"
  },
  "language_info": {
   "codemirror_mode": {
    "name": "ipython",
    "version": 3
   },
   "file_extension": ".py",
   "mimetype": "text/x-python",
   "name": "python",
   "nbconvert_exporter": "python",
   "pygments_lexer": "ipython3",
   "version": "3.8.0"
  }
 },
 "nbformat": 4,
 "nbformat_minor": 2
}
