{
 "cells": [
  {
   "cell_type": "markdown",
   "metadata": {},
   "source": [
    "# Using web APIs\n",
    "\n",
    "In this lab session we will make use of three web APIs, all able to respresent the resources as JSON and using the HTTP protocol to exchange the information:\n",
    "- a simple brewerey api\n",
    "- an api with data on the corona virus\n",
    "- a trading api (for this you will need to make an account to get your own API key)"
   ]
  },
  {
   "cell_type": "code",
   "execution_count": 121,
   "metadata": {},
   "outputs": [
    {
     "name": "stdout",
     "output_type": "stream",
     "text": [
      "Requirement already satisfied: plotly in /home/ubuntu/.pyenv/versions/3.7.3/envs/data_engineering_3.7/lib/python3.7/site-packages (4.4.1)\n",
      "Requirement already satisfied: six in /home/ubuntu/.pyenv/versions/3.7.3/envs/data_engineering_3.7/lib/python3.7/site-packages (from plotly) (1.13.0)\n",
      "Requirement already satisfied: retrying>=1.3.3 in /home/ubuntu/.pyenv/versions/3.7.3/envs/data_engineering_3.7/lib/python3.7/site-packages (from plotly) (1.3.3)\n",
      "\u001b[33mYou are using pip version 19.0.3, however version 20.0.2 is available.\n",
      "You should consider upgrading via the 'pip install --upgrade pip' command.\u001b[0m\n",
      "Requirement already satisfied: numpy in /home/ubuntu/.pyenv/versions/3.7.3/envs/data_engineering_3.7/lib/python3.7/site-packages (1.18.1)\n",
      "\u001b[33mYou are using pip version 19.0.3, however version 20.0.2 is available.\n",
      "You should consider upgrading via the 'pip install --upgrade pip' command.\u001b[0m\n",
      "Requirement already satisfied: pandas in /home/ubuntu/.pyenv/versions/3.7.3/envs/data_engineering_3.7/lib/python3.7/site-packages (1.0.3)\n",
      "Requirement already satisfied: pytz>=2017.2 in /home/ubuntu/.pyenv/versions/3.7.3/envs/data_engineering_3.7/lib/python3.7/site-packages (from pandas) (2019.3)\n",
      "Requirement already satisfied: numpy>=1.13.3 in /home/ubuntu/.pyenv/versions/3.7.3/envs/data_engineering_3.7/lib/python3.7/site-packages (from pandas) (1.18.1)\n",
      "Requirement already satisfied: python-dateutil>=2.6.1 in /home/ubuntu/.pyenv/versions/3.7.3/envs/data_engineering_3.7/lib/python3.7/site-packages (from pandas) (2.8.1)\n",
      "Requirement already satisfied: six>=1.5 in /home/ubuntu/.pyenv/versions/3.7.3/envs/data_engineering_3.7/lib/python3.7/site-packages (from python-dateutil>=2.6.1->pandas) (1.13.0)\n",
      "\u001b[33mYou are using pip version 19.0.3, however version 20.0.2 is available.\n",
      "You should consider upgrading via the 'pip install --upgrade pip' command.\u001b[0m\n"
     ]
    }
   ],
   "source": [
    "!pip install plotly\n",
    "!pip install numpy\n",
    "!pip install pandas"
   ]
  },
  {
   "cell_type": "code",
   "execution_count": 2,
   "metadata": {},
   "outputs": [],
   "source": [
    "import json\n",
    "import http.client\n",
    "import mimetypes\n",
    "\n",
    "from datetime import datetime, timedelta\n",
    "\n",
    "import plotly.offline as py\n",
    "from plotly.offline import init_notebook_mode\n",
    "import plotly.graph_objs as go\n",
    "import plotly.express as px\n",
    "\n",
    "import pandas as pd\n",
    "import numpy as np"
   ]
  },
  {
   "cell_type": "markdown",
   "metadata": {},
   "source": [
    "### A brewery example\n",
    "\n",
    "To use web APIs based on the HTTP protocol we first need to be able to make an HTTP connection <br>\n",
    "\n",
    "Python has a standard library http.client that is able to do that for you <br>\n",
    "\n",
    "There is a third-party library \"requests\" that they actually recommend, but we will be using the default library <br>\n",
    "\n",
    "Documentation for this very simple demo brewery api can be found here: https://www.openbrewerydb.org/documentation/01-listbreweries <br>\n",
    "\n",
    "The base endpoint is https://api.openbrewerydb.org/breweries <br>\n",
    "\n",
    "By using parameters in the url, i.e. key value pairs after the question mark, we can select breweries per city <br>\n",
    "\n",
    "Example: https://api.openbrewerydb.org/breweries?by_city=san_diego <br>\n",
    "\n",
    "Let's first make a HTTP connection to api.openbrewerydb.org"
   ]
  },
  {
   "cell_type": "code",
   "execution_count": 3,
   "metadata": {},
   "outputs": [],
   "source": [
    "base_url = \"api.openbrewerydb.org\"\n",
    "\n",
    "conn = http.client.HTTPSConnection(base_url)"
   ]
  },
  {
   "cell_type": "markdown",
   "metadata": {},
   "source": [
    "### Now we can use the connection object to make a request\n",
    "\n",
    "For API calls where we just want to retrieve a resource object, we typically use the HTTP GET method (but always verify with the documentation)"
   ]
  },
  {
   "cell_type": "code",
   "execution_count": 4,
   "metadata": {},
   "outputs": [],
   "source": [
    "endpoint = \"/breweries\"\n",
    "conn.request(\"GET\", endpoint)"
   ]
  },
  {
   "cell_type": "markdown",
   "metadata": {},
   "source": [
    "### Next we retrieve the response and transform it into a Python JSON object"
   ]
  },
  {
   "cell_type": "code",
   "execution_count": 5,
   "metadata": {},
   "outputs": [],
   "source": [
    "def get_response(conn):\n",
    "    response = conn.getresponse() \n",
    "    if response.status == 200: #OK status code as defined by HTTP protocol\n",
    "        return json.loads(response.read())\n",
    "    else:\n",
    "        print(f\"status code: {response.status}\")"
   ]
  },
  {
   "cell_type": "code",
   "execution_count": 6,
   "metadata": {},
   "outputs": [],
   "source": [
    "response = get_response(conn)\n",
    "conn.close()"
   ]
  },
  {
   "cell_type": "code",
   "execution_count": 7,
   "metadata": {},
   "outputs": [
    {
     "name": "stdout",
     "output_type": "stream",
     "text": [
      "{\n",
      "  \"id\": 2,\n",
      "  \"name\": \"Avondale Brewing Co\",\n",
      "  \"brewery_type\": \"micro\",\n",
      "  \"street\": \"201 41st St S\",\n",
      "  \"city\": \"Birmingham\",\n",
      "  \"state\": \"Alabama\",\n",
      "  \"postal_code\": \"35222-1932\",\n",
      "  \"country\": \"United States\",\n",
      "  \"longitude\": \"-86.774322\",\n",
      "  \"latitude\": \"33.524521\",\n",
      "  \"phone\": \"2057775456\",\n",
      "  \"website_url\": \"http://www.avondalebrewing.com\",\n",
      "  \"updated_at\": \"2018-08-23T23:19:57.825Z\",\n",
      "  \"tag_list\": []\n",
      "}\n"
     ]
    }
   ],
   "source": [
    "#this is how one element in the response list looks like\n",
    "print(json.dumps(response[0], indent=2))"
   ]
  },
  {
   "cell_type": "markdown",
   "metadata": {},
   "source": [
    "### Let's print the brewery names and city"
   ]
  },
  {
   "cell_type": "code",
   "execution_count": 8,
   "metadata": {},
   "outputs": [
    {
     "name": "stdout",
     "output_type": "stream",
     "text": [
      "Avondale Brewing Co , Birmingham\n",
      "Trim Tab Brewing , Birmingham\n",
      "Yellowhammer Brewery , Huntsville\n",
      "Bearpaw River Brewing Co , Wasilla\n",
      "King Street Brewing Co , Anchorage\n",
      "1912 Brewing , Tucson\n",
      "Bad Water Brewing , Scottsdale\n",
      "BJs Restaurant & Brewery - Chandler , Chandler\n",
      "BlackRock Brewers , Tucson\n",
      "Dragoon Brewing Co , Tucson\n",
      "Grand Canyon Brewing Company , Williams\n",
      "Mudshark Brewing Co , Lake Havasu City\n",
      "Richter Aleworks , Peoria\n",
      "SanTan Brewing Co , Chandler\n",
      "State 48 Brewery , Surprise\n",
      "Wren House Brewing Company , Phoenix\n",
      "Brick Oven Pizza Co / Brick & Forge Brewing , Paragould\n",
      "Diamond Bear Brewing Co , North Little Rock\n",
      "Lost Forty Brewing , Little Rock\n",
      "Rapp's Barren Brewing Company , Mountain Home\n"
     ]
    }
   ],
   "source": [
    "for brewery in response:\n",
    "    print(brewery[\"name\"],\",\",brewery[\"city\"])"
   ]
  },
  {
   "cell_type": "markdown",
   "metadata": {},
   "source": [
    "### Sometimes we want specific resources, e.g. breweries in certain cities\n",
    "Typically the API documentation will tell you how <br>\n",
    "To select breweries in one city the brewery API allow us to specify a parameter \"by_city\" in the URL <br>\n",
    "Let's get all breweries in Tucson"
   ]
  },
  {
   "cell_type": "code",
   "execution_count": 10,
   "metadata": {},
   "outputs": [
    {
     "name": "stdout",
     "output_type": "stream",
     "text": [
      "1912 Brewing , Tucson\n",
      "BlackRock Brewers , Tucson\n",
      "Dragoon Brewing Co , Tucson\n",
      "Button Brew House, LLC , Tucson\n",
      "Catalina Brewing Company , Tucson\n",
      "Copper Mine Brewing Co , Tucson\n",
      "Barrio Brewing Co , Tucson\n",
      "Corbett Brewing Company , Tucson\n",
      "Crooked Tooth Brewing Co. , Tucson\n",
      "Dillinger Brewing Company , Tucson\n",
      "Iron John's Brewing Company , Tucson\n",
      "Green Feet Brewing , Tucson\n",
      "Public Brewhouse , Tucson\n",
      "Pueblo Vida Brewing Co , Tucson\n",
      "Ten Fifty Five Brewing , Tucson\n",
      "Thunder Canyon Brewery , Tucson\n",
      "Sentinel Peak Brewing Company , Tucson\n",
      "Borderlands Brewing Co , Tucson\n",
      "The Address Brewing / 1702 Beer & Pizza , Tucson\n"
     ]
    }
   ],
   "source": [
    "city = \"Tucson\"\n",
    "endpoint = f\"/breweries?by_city={city}\"\n",
    "\n",
    "conn = http.client.HTTPSConnection(base_url)\n",
    "conn.request(\"GET\", endpoint)\n",
    "response = get_response(conn)\n",
    "conn.close()\n",
    "\n",
    "for brewery in response:\n",
    "    print(brewery[\"name\"], \",\", brewery[\"city\"])"
   ]
  },
  {
   "cell_type": "markdown",
   "metadata": {},
   "source": [
    "### You can immediately read this as a Pandas dataframe"
   ]
  },
  {
   "cell_type": "code",
   "execution_count": null,
   "metadata": {},
   "outputs": [],
   "source": []
  },
  {
   "cell_type": "markdown",
   "metadata": {},
   "source": [
    "# Now it's your turn\n",
    "\n",
    "### Let's make some plots to compare the progress of the number corona infections in China, Belgium, Netherlands, Italy, Spain and the US\n",
    "\n",
    "To visualize exponential growth we will make plots as demonstrated here: https://www.youtube.com/watch?v=54XLXg4fYsc&t=305s <br>\n",
    "\n",
    "We will use the data provided by the web API: covidapi.info"
   ]
  },
  {
   "cell_type": "code",
   "execution_count": 16,
   "metadata": {},
   "outputs": [],
   "source": [
    "list_of_countries = [\"CHN\",\"BEL\",\"NLD\",\"ITA\",\"ESP\",\"USA\"]"
   ]
  },
  {
   "cell_type": "markdown",
   "metadata": {},
   "source": [
    "### Let's first make a class to simplify the reuse of the connection object, request and responses, catch and deal with some potential errors"
   ]
  },
  {
   "cell_type": "code",
   "execution_count": 11,
   "metadata": {},
   "outputs": [],
   "source": [
    "class CoronaSDK():\n",
    "    def __init__(self, host):\n",
    "        self.host = host\n",
    "        self.conn = http.client.HTTPSConnection(self.host)\n",
    "    \n",
    "    #to enable the use of the with statement\n",
    "    def __enter__(self):\n",
    "        return self\n",
    "    \n",
    "    #to enable the use of the with statement: always close the connection whatever happens\n",
    "    def __exit__(self, type, value, traceback):\n",
    "        self.close()\n",
    "    \n",
    "    def close(self):\n",
    "        self.conn.close()\n",
    "        self.conn = None\n",
    "    \n",
    "    def get(self, endpoint):\n",
    "        #send request\n",
    "        self.conn.request(\"GET\", endpoint) \n",
    "        \n",
    "        #try to get response\n",
    "        try:\n",
    "            response = self.conn.getresponse()\n",
    "        except (http.client.NotConnected, http.client.RemoteDisconnected):\n",
    "            self.conn.connect() #reconnect in case the connection was closed by the other end\n",
    "            return self.get(endpoint)\n",
    "        except http.client.HTTPException as httpe:\n",
    "            print(f\"Error: {httpe}\")\n",
    "            return None\n",
    "\n",
    "        if response.status == 200: #OK status code as defined by HTTP protocol\n",
    "            return json.loads(response.read())\n",
    "        else:\n",
    "            print(f\"status code: {response.status}\")\n",
    "            return None"
   ]
  },
  {
   "cell_type": "markdown",
   "metadata": {},
   "source": [
    "### Let's define a function that uses an object instantiation of the CoronaSDK class to fetch the data for a specified country"
   ]
  },
  {
   "cell_type": "code",
   "execution_count": 12,
   "metadata": {},
   "outputs": [],
   "source": [
    "def get_covid_data_for_country(client, country_code):\n",
    "    today_str = datetime.now().strftime(\"%Y-%m-%d\")\n",
    "    endpoint = f\"/api/v1/country/{country_code}/timeseries/2020-01-01/{today_str}\"\n",
    "    return client.get(endpoint)"
   ]
  },
  {
   "cell_type": "markdown",
   "metadata": {},
   "source": [
    "### Let's use an object of the CoronaSDK class and the above defined function to retrieve the data for Belgium"
   ]
  },
  {
   "cell_type": "code",
   "execution_count": 14,
   "metadata": {},
   "outputs": [
    {
     "name": "stdout",
     "output_type": "stream",
     "text": [
      "85\n"
     ]
    }
   ],
   "source": [
    "client = CoronaSDK(\"covidapi.info\")\n",
    "response = get_covid_data_for_country(client, \"BEL\")\n",
    "n_records = response[\"count\"]\n",
    "print(n_records)"
   ]
  },
  {
   "cell_type": "code",
   "execution_count": 19,
   "metadata": {},
   "outputs": [],
   "source": [
    "records = []\n",
    "for country_code in list_of_countries:\n",
    "    country_recs = get_covid_data_for_country(client, country_code)[\"result\"]\n",
    "    for rec in country_recs:\n",
    "        rec[\"country\"] = country_code\n",
    "    records.extend(country_recs)"
   ]
  },
  {
   "cell_type": "code",
   "execution_count": 20,
   "metadata": {},
   "outputs": [
    {
     "name": "stdout",
     "output_type": "stream",
     "text": [
      "     confirmed        date  deaths  recovered country\n",
      "0          548  2020-01-22      17         28     CHN\n",
      "1          643  2020-01-23      18         30     CHN\n",
      "2          920  2020-01-24      26         36     CHN\n",
      "3         1406  2020-01-25      42         39     CHN\n",
      "4         2075  2020-01-26      56         49     CHN\n",
      "..         ...         ...     ...        ...     ...\n",
      "505     526396  2020-04-11   20463      31270     USA\n",
      "506     555313  2020-04-12   22020      32988     USA\n",
      "507     580619  2020-04-13   23529      43482     USA\n",
      "508     607670  2020-04-14   25832      47763     USA\n",
      "509     636350  2020-04-15   28326      52096     USA\n",
      "\n",
      "[510 rows x 5 columns]\n"
     ]
    }
   ],
   "source": [
    "covid_df = pd.DataFrame(records, columns=[\"confirmed\",\"date\",\"deaths\",\"recovered\",\"country\"])\n",
    "print(covid_df)"
   ]
  },
  {
   "cell_type": "code",
   "execution_count": 23,
   "metadata": {},
   "outputs": [],
   "source": [
    "pivot_df = pd.pivot_table(covid_df, values='deaths', index=['date'],columns='country', aggfunc=np.sum)"
   ]
  },
  {
   "cell_type": "code",
   "execution_count": 24,
   "metadata": {},
   "outputs": [],
   "source": [
    "diff_df = pivot_df.diff(periods=7)"
   ]
  },
  {
   "cell_type": "code",
   "execution_count": 25,
   "metadata": {},
   "outputs": [],
   "source": [
    "def create_country_traces(df):\n",
    "    traces = []\n",
    "    for col in df.columns:\n",
    "        traces.append(go.Scatter(x=df.index, y=df[col].values,\n",
    "                             name = col,\n",
    "                             mode = 'markers+lines',\n",
    "                             line=dict(shape='linear'),\n",
    "                             connectgaps=True\n",
    "                             )\n",
    "                 )\n",
    "    return traces"
   ]
  },
  {
   "cell_type": "code",
   "execution_count": 26,
   "metadata": {},
   "outputs": [
    {
     "data": {
      "application/vnd.plotly.v1+json": {
       "config": {
        "plotlyServerURL": "https://plot.ly"
       },
       "data": [
        {
         "connectgaps": true,
         "line": {
          "shape": "linear"
         },
         "mode": "markers+lines",
         "name": "BEL",
         "type": "scatter",
         "x": [
          "2020-01-22",
          "2020-01-23",
          "2020-01-24",
          "2020-01-25",
          "2020-01-26",
          "2020-01-27",
          "2020-01-28",
          "2020-01-29",
          "2020-01-30",
          "2020-01-31",
          "2020-02-01",
          "2020-02-02",
          "2020-02-03",
          "2020-02-04",
          "2020-02-05",
          "2020-02-06",
          "2020-02-07",
          "2020-02-08",
          "2020-02-09",
          "2020-02-10",
          "2020-02-11",
          "2020-02-12",
          "2020-02-13",
          "2020-02-14",
          "2020-02-15",
          "2020-02-16",
          "2020-02-17",
          "2020-02-18",
          "2020-02-19",
          "2020-02-20",
          "2020-02-21",
          "2020-02-22",
          "2020-02-23",
          "2020-02-24",
          "2020-02-25",
          "2020-02-26",
          "2020-02-27",
          "2020-02-28",
          "2020-02-29",
          "2020-03-01",
          "2020-03-02",
          "2020-03-03",
          "2020-03-04",
          "2020-03-05",
          "2020-03-06",
          "2020-03-07",
          "2020-03-08",
          "2020-03-09",
          "2020-03-10",
          "2020-03-11",
          "2020-03-12",
          "2020-03-13",
          "2020-03-14",
          "2020-03-15",
          "2020-03-16",
          "2020-03-17",
          "2020-03-18",
          "2020-03-19",
          "2020-03-20",
          "2020-03-21",
          "2020-03-22",
          "2020-03-23",
          "2020-03-24",
          "2020-03-25",
          "2020-03-26",
          "2020-03-27",
          "2020-03-28",
          "2020-03-29",
          "2020-03-30",
          "2020-03-31",
          "2020-04-01",
          "2020-04-02",
          "2020-04-03",
          "2020-04-04",
          "2020-04-05",
          "2020-04-06",
          "2020-04-07",
          "2020-04-08",
          "2020-04-09",
          "2020-04-10",
          "2020-04-11",
          "2020-04-12",
          "2020-04-13"
         ],
         "y": [
          0,
          0,
          0,
          0,
          0,
          0,
          0,
          0,
          0,
          0,
          0,
          0,
          0,
          0,
          0,
          0,
          0,
          0,
          0,
          0,
          0,
          0,
          0,
          0,
          0,
          0,
          0,
          0,
          0,
          0,
          0,
          0,
          0,
          0,
          0,
          0,
          0,
          0,
          0,
          0,
          0,
          0,
          0,
          0,
          0,
          0,
          0,
          0,
          0,
          3,
          3,
          3,
          4,
          4,
          5,
          10,
          14,
          21,
          37,
          67,
          75,
          88,
          122,
          178,
          220,
          289,
          353,
          431,
          513,
          705,
          828,
          1011,
          1143,
          1283,
          1447,
          1632,
          2035,
          2240,
          2523,
          3019,
          3346,
          3600,
          3903
         ]
        },
        {
         "connectgaps": true,
         "line": {
          "shape": "linear"
         },
         "mode": "markers+lines",
         "name": "CHN",
         "type": "scatter",
         "x": [
          "2020-01-22",
          "2020-01-23",
          "2020-01-24",
          "2020-01-25",
          "2020-01-26",
          "2020-01-27",
          "2020-01-28",
          "2020-01-29",
          "2020-01-30",
          "2020-01-31",
          "2020-02-01",
          "2020-02-02",
          "2020-02-03",
          "2020-02-04",
          "2020-02-05",
          "2020-02-06",
          "2020-02-07",
          "2020-02-08",
          "2020-02-09",
          "2020-02-10",
          "2020-02-11",
          "2020-02-12",
          "2020-02-13",
          "2020-02-14",
          "2020-02-15",
          "2020-02-16",
          "2020-02-17",
          "2020-02-18",
          "2020-02-19",
          "2020-02-20",
          "2020-02-21",
          "2020-02-22",
          "2020-02-23",
          "2020-02-24",
          "2020-02-25",
          "2020-02-26",
          "2020-02-27",
          "2020-02-28",
          "2020-02-29",
          "2020-03-01",
          "2020-03-02",
          "2020-03-03",
          "2020-03-04",
          "2020-03-05",
          "2020-03-06",
          "2020-03-07",
          "2020-03-08",
          "2020-03-09",
          "2020-03-10",
          "2020-03-11",
          "2020-03-12",
          "2020-03-13",
          "2020-03-14",
          "2020-03-15",
          "2020-03-16",
          "2020-03-17",
          "2020-03-18",
          "2020-03-19",
          "2020-03-20",
          "2020-03-21",
          "2020-03-22",
          "2020-03-23",
          "2020-03-24",
          "2020-03-25",
          "2020-03-26",
          "2020-03-27",
          "2020-03-28",
          "2020-03-29",
          "2020-03-30",
          "2020-03-31",
          "2020-04-01",
          "2020-04-02",
          "2020-04-03",
          "2020-04-04",
          "2020-04-05",
          "2020-04-06",
          "2020-04-07",
          "2020-04-08",
          "2020-04-09",
          "2020-04-10",
          "2020-04-11",
          "2020-04-12",
          "2020-04-13"
         ],
         "y": [
          17,
          18,
          26,
          42,
          56,
          82,
          131,
          133,
          171,
          213,
          259,
          361,
          425,
          491,
          563,
          633,
          718,
          805,
          905,
          1012,
          1112,
          1117,
          1369,
          1521,
          1663,
          1766,
          1864,
          2003,
          2116,
          2238,
          2238,
          2443,
          2445,
          2595,
          2665,
          2717,
          2746,
          2790,
          2837,
          2872,
          2914,
          2947,
          2983,
          3015,
          3044,
          3072,
          3100,
          3123,
          3139,
          3161,
          3172,
          3180,
          3193,
          3203,
          3217,
          3230,
          3241,
          3249,
          3253,
          3259,
          3274,
          3274,
          3281,
          3285,
          3291,
          3296,
          3299,
          3304,
          3308,
          3309,
          3316,
          3322,
          3326,
          3330,
          3333,
          3335,
          3335,
          3337,
          3339,
          3340,
          3343,
          3343,
          3345
         ]
        },
        {
         "connectgaps": true,
         "line": {
          "shape": "linear"
         },
         "mode": "markers+lines",
         "name": "ESP",
         "type": "scatter",
         "x": [
          "2020-01-22",
          "2020-01-23",
          "2020-01-24",
          "2020-01-25",
          "2020-01-26",
          "2020-01-27",
          "2020-01-28",
          "2020-01-29",
          "2020-01-30",
          "2020-01-31",
          "2020-02-01",
          "2020-02-02",
          "2020-02-03",
          "2020-02-04",
          "2020-02-05",
          "2020-02-06",
          "2020-02-07",
          "2020-02-08",
          "2020-02-09",
          "2020-02-10",
          "2020-02-11",
          "2020-02-12",
          "2020-02-13",
          "2020-02-14",
          "2020-02-15",
          "2020-02-16",
          "2020-02-17",
          "2020-02-18",
          "2020-02-19",
          "2020-02-20",
          "2020-02-21",
          "2020-02-22",
          "2020-02-23",
          "2020-02-24",
          "2020-02-25",
          "2020-02-26",
          "2020-02-27",
          "2020-02-28",
          "2020-02-29",
          "2020-03-01",
          "2020-03-02",
          "2020-03-03",
          "2020-03-04",
          "2020-03-05",
          "2020-03-06",
          "2020-03-07",
          "2020-03-08",
          "2020-03-09",
          "2020-03-10",
          "2020-03-11",
          "2020-03-12",
          "2020-03-13",
          "2020-03-14",
          "2020-03-15",
          "2020-03-16",
          "2020-03-17",
          "2020-03-18",
          "2020-03-19",
          "2020-03-20",
          "2020-03-21",
          "2020-03-22",
          "2020-03-23",
          "2020-03-24",
          "2020-03-25",
          "2020-03-26",
          "2020-03-27",
          "2020-03-28",
          "2020-03-29",
          "2020-03-30",
          "2020-03-31",
          "2020-04-01",
          "2020-04-02",
          "2020-04-03",
          "2020-04-04",
          "2020-04-05",
          "2020-04-06",
          "2020-04-07",
          "2020-04-08",
          "2020-04-09",
          "2020-04-10",
          "2020-04-11",
          "2020-04-12",
          "2020-04-13"
         ],
         "y": [
          0,
          0,
          0,
          0,
          0,
          0,
          0,
          0,
          0,
          0,
          0,
          0,
          0,
          0,
          0,
          0,
          0,
          0,
          0,
          0,
          0,
          0,
          0,
          0,
          0,
          0,
          0,
          0,
          0,
          0,
          0,
          0,
          0,
          0,
          0,
          0,
          0,
          0,
          0,
          0,
          0,
          1,
          2,
          3,
          5,
          10,
          17,
          28,
          35,
          54,
          55,
          133,
          195,
          289,
          342,
          533,
          623,
          830,
          1043,
          1375,
          1772,
          2311,
          2808,
          3647,
          4365,
          5138,
          5982,
          6803,
          7716,
          8464,
          9387,
          10348,
          11198,
          11947,
          12641,
          13341,
          14045,
          14792,
          15447,
          16081,
          16606,
          17209,
          17756
         ]
        },
        {
         "connectgaps": true,
         "line": {
          "shape": "linear"
         },
         "mode": "markers+lines",
         "name": "ITA",
         "type": "scatter",
         "x": [
          "2020-01-22",
          "2020-01-23",
          "2020-01-24",
          "2020-01-25",
          "2020-01-26",
          "2020-01-27",
          "2020-01-28",
          "2020-01-29",
          "2020-01-30",
          "2020-01-31",
          "2020-02-01",
          "2020-02-02",
          "2020-02-03",
          "2020-02-04",
          "2020-02-05",
          "2020-02-06",
          "2020-02-07",
          "2020-02-08",
          "2020-02-09",
          "2020-02-10",
          "2020-02-11",
          "2020-02-12",
          "2020-02-13",
          "2020-02-14",
          "2020-02-15",
          "2020-02-16",
          "2020-02-17",
          "2020-02-18",
          "2020-02-19",
          "2020-02-20",
          "2020-02-21",
          "2020-02-22",
          "2020-02-23",
          "2020-02-24",
          "2020-02-25",
          "2020-02-26",
          "2020-02-27",
          "2020-02-28",
          "2020-02-29",
          "2020-03-01",
          "2020-03-02",
          "2020-03-03",
          "2020-03-04",
          "2020-03-05",
          "2020-03-06",
          "2020-03-07",
          "2020-03-08",
          "2020-03-09",
          "2020-03-10",
          "2020-03-11",
          "2020-03-12",
          "2020-03-13",
          "2020-03-14",
          "2020-03-15",
          "2020-03-16",
          "2020-03-17",
          "2020-03-18",
          "2020-03-19",
          "2020-03-20",
          "2020-03-21",
          "2020-03-22",
          "2020-03-23",
          "2020-03-24",
          "2020-03-25",
          "2020-03-26",
          "2020-03-27",
          "2020-03-28",
          "2020-03-29",
          "2020-03-30",
          "2020-03-31",
          "2020-04-01",
          "2020-04-02",
          "2020-04-03",
          "2020-04-04",
          "2020-04-05",
          "2020-04-06",
          "2020-04-07",
          "2020-04-08",
          "2020-04-09",
          "2020-04-10",
          "2020-04-11",
          "2020-04-12",
          "2020-04-13"
         ],
         "y": [
          0,
          0,
          0,
          0,
          0,
          0,
          0,
          0,
          0,
          0,
          0,
          0,
          0,
          0,
          0,
          0,
          0,
          0,
          0,
          0,
          0,
          0,
          0,
          0,
          0,
          0,
          0,
          0,
          0,
          0,
          1,
          2,
          3,
          7,
          10,
          12,
          17,
          21,
          29,
          34,
          52,
          79,
          107,
          148,
          197,
          233,
          366,
          463,
          631,
          827,
          827,
          1266,
          1441,
          1809,
          2158,
          2503,
          2978,
          3405,
          4032,
          4825,
          5476,
          6077,
          6820,
          7503,
          8215,
          9134,
          10023,
          10779,
          11591,
          12428,
          13155,
          13915,
          14681,
          15362,
          15887,
          16523,
          17127,
          17669,
          18279,
          18849,
          19468,
          19899,
          20465
         ]
        },
        {
         "connectgaps": true,
         "line": {
          "shape": "linear"
         },
         "mode": "markers+lines",
         "name": "NLD",
         "type": "scatter",
         "x": [
          "2020-01-22",
          "2020-01-23",
          "2020-01-24",
          "2020-01-25",
          "2020-01-26",
          "2020-01-27",
          "2020-01-28",
          "2020-01-29",
          "2020-01-30",
          "2020-01-31",
          "2020-02-01",
          "2020-02-02",
          "2020-02-03",
          "2020-02-04",
          "2020-02-05",
          "2020-02-06",
          "2020-02-07",
          "2020-02-08",
          "2020-02-09",
          "2020-02-10",
          "2020-02-11",
          "2020-02-12",
          "2020-02-13",
          "2020-02-14",
          "2020-02-15",
          "2020-02-16",
          "2020-02-17",
          "2020-02-18",
          "2020-02-19",
          "2020-02-20",
          "2020-02-21",
          "2020-02-22",
          "2020-02-23",
          "2020-02-24",
          "2020-02-25",
          "2020-02-26",
          "2020-02-27",
          "2020-02-28",
          "2020-02-29",
          "2020-03-01",
          "2020-03-02",
          "2020-03-03",
          "2020-03-04",
          "2020-03-05",
          "2020-03-06",
          "2020-03-07",
          "2020-03-08",
          "2020-03-09",
          "2020-03-10",
          "2020-03-11",
          "2020-03-12",
          "2020-03-13",
          "2020-03-14",
          "2020-03-15",
          "2020-03-16",
          "2020-03-17",
          "2020-03-18",
          "2020-03-19",
          "2020-03-20",
          "2020-03-21",
          "2020-03-22",
          "2020-03-23",
          "2020-03-24",
          "2020-03-25",
          "2020-03-26",
          "2020-03-27",
          "2020-03-28",
          "2020-03-29",
          "2020-03-30",
          "2020-03-31",
          "2020-04-01",
          "2020-04-02",
          "2020-04-03",
          "2020-04-04",
          "2020-04-05",
          "2020-04-06",
          "2020-04-07",
          "2020-04-08",
          "2020-04-09",
          "2020-04-10",
          "2020-04-11",
          "2020-04-12",
          "2020-04-13"
         ],
         "y": [
          0,
          0,
          0,
          0,
          0,
          0,
          0,
          0,
          0,
          0,
          0,
          0,
          0,
          0,
          0,
          0,
          0,
          0,
          0,
          0,
          0,
          0,
          0,
          0,
          0,
          0,
          0,
          0,
          0,
          0,
          0,
          0,
          0,
          0,
          0,
          0,
          0,
          0,
          0,
          0,
          0,
          0,
          0,
          0,
          1,
          1,
          3,
          3,
          4,
          5,
          5,
          10,
          12,
          20,
          24,
          43,
          58,
          77,
          107,
          137,
          180,
          214,
          277,
          357,
          435,
          547,
          640,
          772,
          865,
          1040,
          1175,
          1341,
          1490,
          1656,
          1771,
          1874,
          2108,
          2255,
          2403,
          2520,
          2653,
          2747,
          2833
         ]
        },
        {
         "connectgaps": true,
         "line": {
          "shape": "linear"
         },
         "mode": "markers+lines",
         "name": "USA",
         "type": "scatter",
         "x": [
          "2020-01-22",
          "2020-01-23",
          "2020-01-24",
          "2020-01-25",
          "2020-01-26",
          "2020-01-27",
          "2020-01-28",
          "2020-01-29",
          "2020-01-30",
          "2020-01-31",
          "2020-02-01",
          "2020-02-02",
          "2020-02-03",
          "2020-02-04",
          "2020-02-05",
          "2020-02-06",
          "2020-02-07",
          "2020-02-08",
          "2020-02-09",
          "2020-02-10",
          "2020-02-11",
          "2020-02-12",
          "2020-02-13",
          "2020-02-14",
          "2020-02-15",
          "2020-02-16",
          "2020-02-17",
          "2020-02-18",
          "2020-02-19",
          "2020-02-20",
          "2020-02-21",
          "2020-02-22",
          "2020-02-23",
          "2020-02-24",
          "2020-02-25",
          "2020-02-26",
          "2020-02-27",
          "2020-02-28",
          "2020-02-29",
          "2020-03-01",
          "2020-03-02",
          "2020-03-03",
          "2020-03-04",
          "2020-03-05",
          "2020-03-06",
          "2020-03-07",
          "2020-03-08",
          "2020-03-09",
          "2020-03-10",
          "2020-03-11",
          "2020-03-12",
          "2020-03-13",
          "2020-03-14",
          "2020-03-15",
          "2020-03-16",
          "2020-03-17",
          "2020-03-18",
          "2020-03-19",
          "2020-03-20",
          "2020-03-21",
          "2020-03-22",
          "2020-03-23",
          "2020-03-24",
          "2020-03-25",
          "2020-03-26",
          "2020-03-27",
          "2020-03-28",
          "2020-03-29",
          "2020-03-30",
          "2020-03-31",
          "2020-04-01",
          "2020-04-02",
          "2020-04-03",
          "2020-04-04",
          "2020-04-05",
          "2020-04-06",
          "2020-04-07",
          "2020-04-08",
          "2020-04-09",
          "2020-04-10",
          "2020-04-11",
          "2020-04-12",
          "2020-04-13"
         ],
         "y": [
          0,
          0,
          0,
          0,
          0,
          0,
          0,
          0,
          0,
          0,
          0,
          0,
          0,
          0,
          0,
          0,
          0,
          0,
          0,
          0,
          0,
          0,
          0,
          0,
          0,
          0,
          0,
          0,
          0,
          0,
          0,
          0,
          0,
          0,
          0,
          0,
          0,
          0,
          1,
          1,
          6,
          7,
          11,
          12,
          14,
          17,
          21,
          22,
          28,
          36,
          40,
          47,
          54,
          63,
          85,
          108,
          118,
          200,
          244,
          307,
          417,
          557,
          706,
          942,
          1209,
          1581,
          2026,
          2467,
          2978,
          3873,
          4757,
          5926,
          7087,
          8407,
          9619,
          10783,
          12722,
          14695,
          16478,
          18586,
          20463,
          22020,
          23529
         ]
        }
       ],
       "layout": {
        "height": 1080,
        "template": {
         "data": {
          "bar": [
           {
            "error_x": {
             "color": "#2a3f5f"
            },
            "error_y": {
             "color": "#2a3f5f"
            },
            "marker": {
             "line": {
              "color": "#E5ECF6",
              "width": 0.5
             }
            },
            "type": "bar"
           }
          ],
          "barpolar": [
           {
            "marker": {
             "line": {
              "color": "#E5ECF6",
              "width": 0.5
             }
            },
            "type": "barpolar"
           }
          ],
          "carpet": [
           {
            "aaxis": {
             "endlinecolor": "#2a3f5f",
             "gridcolor": "white",
             "linecolor": "white",
             "minorgridcolor": "white",
             "startlinecolor": "#2a3f5f"
            },
            "baxis": {
             "endlinecolor": "#2a3f5f",
             "gridcolor": "white",
             "linecolor": "white",
             "minorgridcolor": "white",
             "startlinecolor": "#2a3f5f"
            },
            "type": "carpet"
           }
          ],
          "choropleth": [
           {
            "colorbar": {
             "outlinewidth": 0,
             "ticks": ""
            },
            "type": "choropleth"
           }
          ],
          "contour": [
           {
            "colorbar": {
             "outlinewidth": 0,
             "ticks": ""
            },
            "colorscale": [
             [
              0,
              "#0d0887"
             ],
             [
              0.1111111111111111,
              "#46039f"
             ],
             [
              0.2222222222222222,
              "#7201a8"
             ],
             [
              0.3333333333333333,
              "#9c179e"
             ],
             [
              0.4444444444444444,
              "#bd3786"
             ],
             [
              0.5555555555555556,
              "#d8576b"
             ],
             [
              0.6666666666666666,
              "#ed7953"
             ],
             [
              0.7777777777777778,
              "#fb9f3a"
             ],
             [
              0.8888888888888888,
              "#fdca26"
             ],
             [
              1,
              "#f0f921"
             ]
            ],
            "type": "contour"
           }
          ],
          "contourcarpet": [
           {
            "colorbar": {
             "outlinewidth": 0,
             "ticks": ""
            },
            "type": "contourcarpet"
           }
          ],
          "heatmap": [
           {
            "colorbar": {
             "outlinewidth": 0,
             "ticks": ""
            },
            "colorscale": [
             [
              0,
              "#0d0887"
             ],
             [
              0.1111111111111111,
              "#46039f"
             ],
             [
              0.2222222222222222,
              "#7201a8"
             ],
             [
              0.3333333333333333,
              "#9c179e"
             ],
             [
              0.4444444444444444,
              "#bd3786"
             ],
             [
              0.5555555555555556,
              "#d8576b"
             ],
             [
              0.6666666666666666,
              "#ed7953"
             ],
             [
              0.7777777777777778,
              "#fb9f3a"
             ],
             [
              0.8888888888888888,
              "#fdca26"
             ],
             [
              1,
              "#f0f921"
             ]
            ],
            "type": "heatmap"
           }
          ],
          "heatmapgl": [
           {
            "colorbar": {
             "outlinewidth": 0,
             "ticks": ""
            },
            "colorscale": [
             [
              0,
              "#0d0887"
             ],
             [
              0.1111111111111111,
              "#46039f"
             ],
             [
              0.2222222222222222,
              "#7201a8"
             ],
             [
              0.3333333333333333,
              "#9c179e"
             ],
             [
              0.4444444444444444,
              "#bd3786"
             ],
             [
              0.5555555555555556,
              "#d8576b"
             ],
             [
              0.6666666666666666,
              "#ed7953"
             ],
             [
              0.7777777777777778,
              "#fb9f3a"
             ],
             [
              0.8888888888888888,
              "#fdca26"
             ],
             [
              1,
              "#f0f921"
             ]
            ],
            "type": "heatmapgl"
           }
          ],
          "histogram": [
           {
            "marker": {
             "colorbar": {
              "outlinewidth": 0,
              "ticks": ""
             }
            },
            "type": "histogram"
           }
          ],
          "histogram2d": [
           {
            "colorbar": {
             "outlinewidth": 0,
             "ticks": ""
            },
            "colorscale": [
             [
              0,
              "#0d0887"
             ],
             [
              0.1111111111111111,
              "#46039f"
             ],
             [
              0.2222222222222222,
              "#7201a8"
             ],
             [
              0.3333333333333333,
              "#9c179e"
             ],
             [
              0.4444444444444444,
              "#bd3786"
             ],
             [
              0.5555555555555556,
              "#d8576b"
             ],
             [
              0.6666666666666666,
              "#ed7953"
             ],
             [
              0.7777777777777778,
              "#fb9f3a"
             ],
             [
              0.8888888888888888,
              "#fdca26"
             ],
             [
              1,
              "#f0f921"
             ]
            ],
            "type": "histogram2d"
           }
          ],
          "histogram2dcontour": [
           {
            "colorbar": {
             "outlinewidth": 0,
             "ticks": ""
            },
            "colorscale": [
             [
              0,
              "#0d0887"
             ],
             [
              0.1111111111111111,
              "#46039f"
             ],
             [
              0.2222222222222222,
              "#7201a8"
             ],
             [
              0.3333333333333333,
              "#9c179e"
             ],
             [
              0.4444444444444444,
              "#bd3786"
             ],
             [
              0.5555555555555556,
              "#d8576b"
             ],
             [
              0.6666666666666666,
              "#ed7953"
             ],
             [
              0.7777777777777778,
              "#fb9f3a"
             ],
             [
              0.8888888888888888,
              "#fdca26"
             ],
             [
              1,
              "#f0f921"
             ]
            ],
            "type": "histogram2dcontour"
           }
          ],
          "mesh3d": [
           {
            "colorbar": {
             "outlinewidth": 0,
             "ticks": ""
            },
            "type": "mesh3d"
           }
          ],
          "parcoords": [
           {
            "line": {
             "colorbar": {
              "outlinewidth": 0,
              "ticks": ""
             }
            },
            "type": "parcoords"
           }
          ],
          "pie": [
           {
            "automargin": true,
            "type": "pie"
           }
          ],
          "scatter": [
           {
            "marker": {
             "colorbar": {
              "outlinewidth": 0,
              "ticks": ""
             }
            },
            "type": "scatter"
           }
          ],
          "scatter3d": [
           {
            "line": {
             "colorbar": {
              "outlinewidth": 0,
              "ticks": ""
             }
            },
            "marker": {
             "colorbar": {
              "outlinewidth": 0,
              "ticks": ""
             }
            },
            "type": "scatter3d"
           }
          ],
          "scattercarpet": [
           {
            "marker": {
             "colorbar": {
              "outlinewidth": 0,
              "ticks": ""
             }
            },
            "type": "scattercarpet"
           }
          ],
          "scattergeo": [
           {
            "marker": {
             "colorbar": {
              "outlinewidth": 0,
              "ticks": ""
             }
            },
            "type": "scattergeo"
           }
          ],
          "scattergl": [
           {
            "marker": {
             "colorbar": {
              "outlinewidth": 0,
              "ticks": ""
             }
            },
            "type": "scattergl"
           }
          ],
          "scattermapbox": [
           {
            "marker": {
             "colorbar": {
              "outlinewidth": 0,
              "ticks": ""
             }
            },
            "type": "scattermapbox"
           }
          ],
          "scatterpolar": [
           {
            "marker": {
             "colorbar": {
              "outlinewidth": 0,
              "ticks": ""
             }
            },
            "type": "scatterpolar"
           }
          ],
          "scatterpolargl": [
           {
            "marker": {
             "colorbar": {
              "outlinewidth": 0,
              "ticks": ""
             }
            },
            "type": "scatterpolargl"
           }
          ],
          "scatterternary": [
           {
            "marker": {
             "colorbar": {
              "outlinewidth": 0,
              "ticks": ""
             }
            },
            "type": "scatterternary"
           }
          ],
          "surface": [
           {
            "colorbar": {
             "outlinewidth": 0,
             "ticks": ""
            },
            "colorscale": [
             [
              0,
              "#0d0887"
             ],
             [
              0.1111111111111111,
              "#46039f"
             ],
             [
              0.2222222222222222,
              "#7201a8"
             ],
             [
              0.3333333333333333,
              "#9c179e"
             ],
             [
              0.4444444444444444,
              "#bd3786"
             ],
             [
              0.5555555555555556,
              "#d8576b"
             ],
             [
              0.6666666666666666,
              "#ed7953"
             ],
             [
              0.7777777777777778,
              "#fb9f3a"
             ],
             [
              0.8888888888888888,
              "#fdca26"
             ],
             [
              1,
              "#f0f921"
             ]
            ],
            "type": "surface"
           }
          ],
          "table": [
           {
            "cells": {
             "fill": {
              "color": "#EBF0F8"
             },
             "line": {
              "color": "white"
             }
            },
            "header": {
             "fill": {
              "color": "#C8D4E3"
             },
             "line": {
              "color": "white"
             }
            },
            "type": "table"
           }
          ]
         },
         "layout": {
          "annotationdefaults": {
           "arrowcolor": "#2a3f5f",
           "arrowhead": 0,
           "arrowwidth": 1
          },
          "coloraxis": {
           "colorbar": {
            "outlinewidth": 0,
            "ticks": ""
           }
          },
          "colorscale": {
           "diverging": [
            [
             0,
             "#8e0152"
            ],
            [
             0.1,
             "#c51b7d"
            ],
            [
             0.2,
             "#de77ae"
            ],
            [
             0.3,
             "#f1b6da"
            ],
            [
             0.4,
             "#fde0ef"
            ],
            [
             0.5,
             "#f7f7f7"
            ],
            [
             0.6,
             "#e6f5d0"
            ],
            [
             0.7,
             "#b8e186"
            ],
            [
             0.8,
             "#7fbc41"
            ],
            [
             0.9,
             "#4d9221"
            ],
            [
             1,
             "#276419"
            ]
           ],
           "sequential": [
            [
             0,
             "#0d0887"
            ],
            [
             0.1111111111111111,
             "#46039f"
            ],
            [
             0.2222222222222222,
             "#7201a8"
            ],
            [
             0.3333333333333333,
             "#9c179e"
            ],
            [
             0.4444444444444444,
             "#bd3786"
            ],
            [
             0.5555555555555556,
             "#d8576b"
            ],
            [
             0.6666666666666666,
             "#ed7953"
            ],
            [
             0.7777777777777778,
             "#fb9f3a"
            ],
            [
             0.8888888888888888,
             "#fdca26"
            ],
            [
             1,
             "#f0f921"
            ]
           ],
           "sequentialminus": [
            [
             0,
             "#0d0887"
            ],
            [
             0.1111111111111111,
             "#46039f"
            ],
            [
             0.2222222222222222,
             "#7201a8"
            ],
            [
             0.3333333333333333,
             "#9c179e"
            ],
            [
             0.4444444444444444,
             "#bd3786"
            ],
            [
             0.5555555555555556,
             "#d8576b"
            ],
            [
             0.6666666666666666,
             "#ed7953"
            ],
            [
             0.7777777777777778,
             "#fb9f3a"
            ],
            [
             0.8888888888888888,
             "#fdca26"
            ],
            [
             1,
             "#f0f921"
            ]
           ]
          },
          "colorway": [
           "#636efa",
           "#EF553B",
           "#00cc96",
           "#ab63fa",
           "#FFA15A",
           "#19d3f3",
           "#FF6692",
           "#B6E880",
           "#FF97FF",
           "#FECB52"
          ],
          "font": {
           "color": "#2a3f5f"
          },
          "geo": {
           "bgcolor": "white",
           "lakecolor": "white",
           "landcolor": "#E5ECF6",
           "showlakes": true,
           "showland": true,
           "subunitcolor": "white"
          },
          "hoverlabel": {
           "align": "left"
          },
          "hovermode": "closest",
          "mapbox": {
           "style": "light"
          },
          "paper_bgcolor": "white",
          "plot_bgcolor": "#E5ECF6",
          "polar": {
           "angularaxis": {
            "gridcolor": "white",
            "linecolor": "white",
            "ticks": ""
           },
           "bgcolor": "#E5ECF6",
           "radialaxis": {
            "gridcolor": "white",
            "linecolor": "white",
            "ticks": ""
           }
          },
          "scene": {
           "xaxis": {
            "backgroundcolor": "#E5ECF6",
            "gridcolor": "white",
            "gridwidth": 2,
            "linecolor": "white",
            "showbackground": true,
            "ticks": "",
            "zerolinecolor": "white"
           },
           "yaxis": {
            "backgroundcolor": "#E5ECF6",
            "gridcolor": "white",
            "gridwidth": 2,
            "linecolor": "white",
            "showbackground": true,
            "ticks": "",
            "zerolinecolor": "white"
           },
           "zaxis": {
            "backgroundcolor": "#E5ECF6",
            "gridcolor": "white",
            "gridwidth": 2,
            "linecolor": "white",
            "showbackground": true,
            "ticks": "",
            "zerolinecolor": "white"
           }
          },
          "shapedefaults": {
           "line": {
            "color": "#2a3f5f"
           }
          },
          "ternary": {
           "aaxis": {
            "gridcolor": "white",
            "linecolor": "white",
            "ticks": ""
           },
           "baxis": {
            "gridcolor": "white",
            "linecolor": "white",
            "ticks": ""
           },
           "bgcolor": "#E5ECF6",
           "caxis": {
            "gridcolor": "white",
            "linecolor": "white",
            "ticks": ""
           }
          },
          "title": {
           "x": 0.05
          },
          "xaxis": {
           "automargin": true,
           "gridcolor": "white",
           "linecolor": "white",
           "ticks": "",
           "title": {
            "standoff": 15
           },
           "zerolinecolor": "white",
           "zerolinewidth": 2
          },
          "yaxis": {
           "automargin": true,
           "gridcolor": "white",
           "linecolor": "white",
           "ticks": "",
           "title": {
            "standoff": 15
           },
           "zerolinecolor": "white",
           "zerolinewidth": 2
          }
         }
        },
        "width": 1920
       }
      },
      "text/html": [
       "<div>\n",
       "        \n",
       "        \n",
       "            <div id=\"e9b8e20d-b82c-45e1-9217-22f567d15df0\" class=\"plotly-graph-div\" style=\"height:1080px; width:1920px;\"></div>\n",
       "            <script type=\"text/javascript\">\n",
       "                require([\"plotly\"], function(Plotly) {\n",
       "                    window.PLOTLYENV=window.PLOTLYENV || {};\n",
       "                    \n",
       "                if (document.getElementById(\"e9b8e20d-b82c-45e1-9217-22f567d15df0\")) {\n",
       "                    Plotly.newPlot(\n",
       "                        'e9b8e20d-b82c-45e1-9217-22f567d15df0',\n",
       "                        [{\"connectgaps\": true, \"line\": {\"shape\": \"linear\"}, \"mode\": \"markers+lines\", \"name\": \"BEL\", \"type\": \"scatter\", \"x\": [\"2020-01-22\", \"2020-01-23\", \"2020-01-24\", \"2020-01-25\", \"2020-01-26\", \"2020-01-27\", \"2020-01-28\", \"2020-01-29\", \"2020-01-30\", \"2020-01-31\", \"2020-02-01\", \"2020-02-02\", \"2020-02-03\", \"2020-02-04\", \"2020-02-05\", \"2020-02-06\", \"2020-02-07\", \"2020-02-08\", \"2020-02-09\", \"2020-02-10\", \"2020-02-11\", \"2020-02-12\", \"2020-02-13\", \"2020-02-14\", \"2020-02-15\", \"2020-02-16\", \"2020-02-17\", \"2020-02-18\", \"2020-02-19\", \"2020-02-20\", \"2020-02-21\", \"2020-02-22\", \"2020-02-23\", \"2020-02-24\", \"2020-02-25\", \"2020-02-26\", \"2020-02-27\", \"2020-02-28\", \"2020-02-29\", \"2020-03-01\", \"2020-03-02\", \"2020-03-03\", \"2020-03-04\", \"2020-03-05\", \"2020-03-06\", \"2020-03-07\", \"2020-03-08\", \"2020-03-09\", \"2020-03-10\", \"2020-03-11\", \"2020-03-12\", \"2020-03-13\", \"2020-03-14\", \"2020-03-15\", \"2020-03-16\", \"2020-03-17\", \"2020-03-18\", \"2020-03-19\", \"2020-03-20\", \"2020-03-21\", \"2020-03-22\", \"2020-03-23\", \"2020-03-24\", \"2020-03-25\", \"2020-03-26\", \"2020-03-27\", \"2020-03-28\", \"2020-03-29\", \"2020-03-30\", \"2020-03-31\", \"2020-04-01\", \"2020-04-02\", \"2020-04-03\", \"2020-04-04\", \"2020-04-05\", \"2020-04-06\", \"2020-04-07\", \"2020-04-08\", \"2020-04-09\", \"2020-04-10\", \"2020-04-11\", \"2020-04-12\", \"2020-04-13\"], \"y\": [0, 0, 0, 0, 0, 0, 0, 0, 0, 0, 0, 0, 0, 0, 0, 0, 0, 0, 0, 0, 0, 0, 0, 0, 0, 0, 0, 0, 0, 0, 0, 0, 0, 0, 0, 0, 0, 0, 0, 0, 0, 0, 0, 0, 0, 0, 0, 0, 0, 3, 3, 3, 4, 4, 5, 10, 14, 21, 37, 67, 75, 88, 122, 178, 220, 289, 353, 431, 513, 705, 828, 1011, 1143, 1283, 1447, 1632, 2035, 2240, 2523, 3019, 3346, 3600, 3903]}, {\"connectgaps\": true, \"line\": {\"shape\": \"linear\"}, \"mode\": \"markers+lines\", \"name\": \"CHN\", \"type\": \"scatter\", \"x\": [\"2020-01-22\", \"2020-01-23\", \"2020-01-24\", \"2020-01-25\", \"2020-01-26\", \"2020-01-27\", \"2020-01-28\", \"2020-01-29\", \"2020-01-30\", \"2020-01-31\", \"2020-02-01\", \"2020-02-02\", \"2020-02-03\", \"2020-02-04\", \"2020-02-05\", \"2020-02-06\", \"2020-02-07\", \"2020-02-08\", \"2020-02-09\", \"2020-02-10\", \"2020-02-11\", \"2020-02-12\", \"2020-02-13\", \"2020-02-14\", \"2020-02-15\", \"2020-02-16\", \"2020-02-17\", \"2020-02-18\", \"2020-02-19\", \"2020-02-20\", \"2020-02-21\", \"2020-02-22\", \"2020-02-23\", \"2020-02-24\", \"2020-02-25\", \"2020-02-26\", \"2020-02-27\", \"2020-02-28\", \"2020-02-29\", \"2020-03-01\", \"2020-03-02\", \"2020-03-03\", \"2020-03-04\", \"2020-03-05\", \"2020-03-06\", \"2020-03-07\", \"2020-03-08\", \"2020-03-09\", \"2020-03-10\", \"2020-03-11\", \"2020-03-12\", \"2020-03-13\", \"2020-03-14\", \"2020-03-15\", \"2020-03-16\", \"2020-03-17\", \"2020-03-18\", \"2020-03-19\", \"2020-03-20\", \"2020-03-21\", \"2020-03-22\", \"2020-03-23\", \"2020-03-24\", \"2020-03-25\", \"2020-03-26\", \"2020-03-27\", \"2020-03-28\", \"2020-03-29\", \"2020-03-30\", \"2020-03-31\", \"2020-04-01\", \"2020-04-02\", \"2020-04-03\", \"2020-04-04\", \"2020-04-05\", \"2020-04-06\", \"2020-04-07\", \"2020-04-08\", \"2020-04-09\", \"2020-04-10\", \"2020-04-11\", \"2020-04-12\", \"2020-04-13\"], \"y\": [17, 18, 26, 42, 56, 82, 131, 133, 171, 213, 259, 361, 425, 491, 563, 633, 718, 805, 905, 1012, 1112, 1117, 1369, 1521, 1663, 1766, 1864, 2003, 2116, 2238, 2238, 2443, 2445, 2595, 2665, 2717, 2746, 2790, 2837, 2872, 2914, 2947, 2983, 3015, 3044, 3072, 3100, 3123, 3139, 3161, 3172, 3180, 3193, 3203, 3217, 3230, 3241, 3249, 3253, 3259, 3274, 3274, 3281, 3285, 3291, 3296, 3299, 3304, 3308, 3309, 3316, 3322, 3326, 3330, 3333, 3335, 3335, 3337, 3339, 3340, 3343, 3343, 3345]}, {\"connectgaps\": true, \"line\": {\"shape\": \"linear\"}, \"mode\": \"markers+lines\", \"name\": \"ESP\", \"type\": \"scatter\", \"x\": [\"2020-01-22\", \"2020-01-23\", \"2020-01-24\", \"2020-01-25\", \"2020-01-26\", \"2020-01-27\", \"2020-01-28\", \"2020-01-29\", \"2020-01-30\", \"2020-01-31\", \"2020-02-01\", \"2020-02-02\", \"2020-02-03\", \"2020-02-04\", \"2020-02-05\", \"2020-02-06\", \"2020-02-07\", \"2020-02-08\", \"2020-02-09\", \"2020-02-10\", \"2020-02-11\", \"2020-02-12\", \"2020-02-13\", \"2020-02-14\", \"2020-02-15\", \"2020-02-16\", \"2020-02-17\", \"2020-02-18\", \"2020-02-19\", \"2020-02-20\", \"2020-02-21\", \"2020-02-22\", \"2020-02-23\", \"2020-02-24\", \"2020-02-25\", \"2020-02-26\", \"2020-02-27\", \"2020-02-28\", \"2020-02-29\", \"2020-03-01\", \"2020-03-02\", \"2020-03-03\", \"2020-03-04\", \"2020-03-05\", \"2020-03-06\", \"2020-03-07\", \"2020-03-08\", \"2020-03-09\", \"2020-03-10\", \"2020-03-11\", \"2020-03-12\", \"2020-03-13\", \"2020-03-14\", \"2020-03-15\", \"2020-03-16\", \"2020-03-17\", \"2020-03-18\", \"2020-03-19\", \"2020-03-20\", \"2020-03-21\", \"2020-03-22\", \"2020-03-23\", \"2020-03-24\", \"2020-03-25\", \"2020-03-26\", \"2020-03-27\", \"2020-03-28\", \"2020-03-29\", \"2020-03-30\", \"2020-03-31\", \"2020-04-01\", \"2020-04-02\", \"2020-04-03\", \"2020-04-04\", \"2020-04-05\", \"2020-04-06\", \"2020-04-07\", \"2020-04-08\", \"2020-04-09\", \"2020-04-10\", \"2020-04-11\", \"2020-04-12\", \"2020-04-13\"], \"y\": [0, 0, 0, 0, 0, 0, 0, 0, 0, 0, 0, 0, 0, 0, 0, 0, 0, 0, 0, 0, 0, 0, 0, 0, 0, 0, 0, 0, 0, 0, 0, 0, 0, 0, 0, 0, 0, 0, 0, 0, 0, 1, 2, 3, 5, 10, 17, 28, 35, 54, 55, 133, 195, 289, 342, 533, 623, 830, 1043, 1375, 1772, 2311, 2808, 3647, 4365, 5138, 5982, 6803, 7716, 8464, 9387, 10348, 11198, 11947, 12641, 13341, 14045, 14792, 15447, 16081, 16606, 17209, 17756]}, {\"connectgaps\": true, \"line\": {\"shape\": \"linear\"}, \"mode\": \"markers+lines\", \"name\": \"ITA\", \"type\": \"scatter\", \"x\": [\"2020-01-22\", \"2020-01-23\", \"2020-01-24\", \"2020-01-25\", \"2020-01-26\", \"2020-01-27\", \"2020-01-28\", \"2020-01-29\", \"2020-01-30\", \"2020-01-31\", \"2020-02-01\", \"2020-02-02\", \"2020-02-03\", \"2020-02-04\", \"2020-02-05\", \"2020-02-06\", \"2020-02-07\", \"2020-02-08\", \"2020-02-09\", \"2020-02-10\", \"2020-02-11\", \"2020-02-12\", \"2020-02-13\", \"2020-02-14\", \"2020-02-15\", \"2020-02-16\", \"2020-02-17\", \"2020-02-18\", \"2020-02-19\", \"2020-02-20\", \"2020-02-21\", \"2020-02-22\", \"2020-02-23\", \"2020-02-24\", \"2020-02-25\", \"2020-02-26\", \"2020-02-27\", \"2020-02-28\", \"2020-02-29\", \"2020-03-01\", \"2020-03-02\", \"2020-03-03\", \"2020-03-04\", \"2020-03-05\", \"2020-03-06\", \"2020-03-07\", \"2020-03-08\", \"2020-03-09\", \"2020-03-10\", \"2020-03-11\", \"2020-03-12\", \"2020-03-13\", \"2020-03-14\", \"2020-03-15\", \"2020-03-16\", \"2020-03-17\", \"2020-03-18\", \"2020-03-19\", \"2020-03-20\", \"2020-03-21\", \"2020-03-22\", \"2020-03-23\", \"2020-03-24\", \"2020-03-25\", \"2020-03-26\", \"2020-03-27\", \"2020-03-28\", \"2020-03-29\", \"2020-03-30\", \"2020-03-31\", \"2020-04-01\", \"2020-04-02\", \"2020-04-03\", \"2020-04-04\", \"2020-04-05\", \"2020-04-06\", \"2020-04-07\", \"2020-04-08\", \"2020-04-09\", \"2020-04-10\", \"2020-04-11\", \"2020-04-12\", \"2020-04-13\"], \"y\": [0, 0, 0, 0, 0, 0, 0, 0, 0, 0, 0, 0, 0, 0, 0, 0, 0, 0, 0, 0, 0, 0, 0, 0, 0, 0, 0, 0, 0, 0, 1, 2, 3, 7, 10, 12, 17, 21, 29, 34, 52, 79, 107, 148, 197, 233, 366, 463, 631, 827, 827, 1266, 1441, 1809, 2158, 2503, 2978, 3405, 4032, 4825, 5476, 6077, 6820, 7503, 8215, 9134, 10023, 10779, 11591, 12428, 13155, 13915, 14681, 15362, 15887, 16523, 17127, 17669, 18279, 18849, 19468, 19899, 20465]}, {\"connectgaps\": true, \"line\": {\"shape\": \"linear\"}, \"mode\": \"markers+lines\", \"name\": \"NLD\", \"type\": \"scatter\", \"x\": [\"2020-01-22\", \"2020-01-23\", \"2020-01-24\", \"2020-01-25\", \"2020-01-26\", \"2020-01-27\", \"2020-01-28\", \"2020-01-29\", \"2020-01-30\", \"2020-01-31\", \"2020-02-01\", \"2020-02-02\", \"2020-02-03\", \"2020-02-04\", \"2020-02-05\", \"2020-02-06\", \"2020-02-07\", \"2020-02-08\", \"2020-02-09\", \"2020-02-10\", \"2020-02-11\", \"2020-02-12\", \"2020-02-13\", \"2020-02-14\", \"2020-02-15\", \"2020-02-16\", \"2020-02-17\", \"2020-02-18\", \"2020-02-19\", \"2020-02-20\", \"2020-02-21\", \"2020-02-22\", \"2020-02-23\", \"2020-02-24\", \"2020-02-25\", \"2020-02-26\", \"2020-02-27\", \"2020-02-28\", \"2020-02-29\", \"2020-03-01\", \"2020-03-02\", \"2020-03-03\", \"2020-03-04\", \"2020-03-05\", \"2020-03-06\", \"2020-03-07\", \"2020-03-08\", \"2020-03-09\", \"2020-03-10\", \"2020-03-11\", \"2020-03-12\", \"2020-03-13\", \"2020-03-14\", \"2020-03-15\", \"2020-03-16\", \"2020-03-17\", \"2020-03-18\", \"2020-03-19\", \"2020-03-20\", \"2020-03-21\", \"2020-03-22\", \"2020-03-23\", \"2020-03-24\", \"2020-03-25\", \"2020-03-26\", \"2020-03-27\", \"2020-03-28\", \"2020-03-29\", \"2020-03-30\", \"2020-03-31\", \"2020-04-01\", \"2020-04-02\", \"2020-04-03\", \"2020-04-04\", \"2020-04-05\", \"2020-04-06\", \"2020-04-07\", \"2020-04-08\", \"2020-04-09\", \"2020-04-10\", \"2020-04-11\", \"2020-04-12\", \"2020-04-13\"], \"y\": [0, 0, 0, 0, 0, 0, 0, 0, 0, 0, 0, 0, 0, 0, 0, 0, 0, 0, 0, 0, 0, 0, 0, 0, 0, 0, 0, 0, 0, 0, 0, 0, 0, 0, 0, 0, 0, 0, 0, 0, 0, 0, 0, 0, 1, 1, 3, 3, 4, 5, 5, 10, 12, 20, 24, 43, 58, 77, 107, 137, 180, 214, 277, 357, 435, 547, 640, 772, 865, 1040, 1175, 1341, 1490, 1656, 1771, 1874, 2108, 2255, 2403, 2520, 2653, 2747, 2833]}, {\"connectgaps\": true, \"line\": {\"shape\": \"linear\"}, \"mode\": \"markers+lines\", \"name\": \"USA\", \"type\": \"scatter\", \"x\": [\"2020-01-22\", \"2020-01-23\", \"2020-01-24\", \"2020-01-25\", \"2020-01-26\", \"2020-01-27\", \"2020-01-28\", \"2020-01-29\", \"2020-01-30\", \"2020-01-31\", \"2020-02-01\", \"2020-02-02\", \"2020-02-03\", \"2020-02-04\", \"2020-02-05\", \"2020-02-06\", \"2020-02-07\", \"2020-02-08\", \"2020-02-09\", \"2020-02-10\", \"2020-02-11\", \"2020-02-12\", \"2020-02-13\", \"2020-02-14\", \"2020-02-15\", \"2020-02-16\", \"2020-02-17\", \"2020-02-18\", \"2020-02-19\", \"2020-02-20\", \"2020-02-21\", \"2020-02-22\", \"2020-02-23\", \"2020-02-24\", \"2020-02-25\", \"2020-02-26\", \"2020-02-27\", \"2020-02-28\", \"2020-02-29\", \"2020-03-01\", \"2020-03-02\", \"2020-03-03\", \"2020-03-04\", \"2020-03-05\", \"2020-03-06\", \"2020-03-07\", \"2020-03-08\", \"2020-03-09\", \"2020-03-10\", \"2020-03-11\", \"2020-03-12\", \"2020-03-13\", \"2020-03-14\", \"2020-03-15\", \"2020-03-16\", \"2020-03-17\", \"2020-03-18\", \"2020-03-19\", \"2020-03-20\", \"2020-03-21\", \"2020-03-22\", \"2020-03-23\", \"2020-03-24\", \"2020-03-25\", \"2020-03-26\", \"2020-03-27\", \"2020-03-28\", \"2020-03-29\", \"2020-03-30\", \"2020-03-31\", \"2020-04-01\", \"2020-04-02\", \"2020-04-03\", \"2020-04-04\", \"2020-04-05\", \"2020-04-06\", \"2020-04-07\", \"2020-04-08\", \"2020-04-09\", \"2020-04-10\", \"2020-04-11\", \"2020-04-12\", \"2020-04-13\"], \"y\": [0, 0, 0, 0, 0, 0, 0, 0, 0, 0, 0, 0, 0, 0, 0, 0, 0, 0, 0, 0, 0, 0, 0, 0, 0, 0, 0, 0, 0, 0, 0, 0, 0, 0, 0, 0, 0, 0, 1, 1, 6, 7, 11, 12, 14, 17, 21, 22, 28, 36, 40, 47, 54, 63, 85, 108, 118, 200, 244, 307, 417, 557, 706, 942, 1209, 1581, 2026, 2467, 2978, 3873, 4757, 5926, 7087, 8407, 9619, 10783, 12722, 14695, 16478, 18586, 20463, 22020, 23529]}],\n",
       "                        {\"height\": 1080, \"template\": {\"data\": {\"bar\": [{\"error_x\": {\"color\": \"#2a3f5f\"}, \"error_y\": {\"color\": \"#2a3f5f\"}, \"marker\": {\"line\": {\"color\": \"#E5ECF6\", \"width\": 0.5}}, \"type\": \"bar\"}], \"barpolar\": [{\"marker\": {\"line\": {\"color\": \"#E5ECF6\", \"width\": 0.5}}, \"type\": \"barpolar\"}], \"carpet\": [{\"aaxis\": {\"endlinecolor\": \"#2a3f5f\", \"gridcolor\": \"white\", \"linecolor\": \"white\", \"minorgridcolor\": \"white\", \"startlinecolor\": \"#2a3f5f\"}, \"baxis\": {\"endlinecolor\": \"#2a3f5f\", \"gridcolor\": \"white\", \"linecolor\": \"white\", \"minorgridcolor\": \"white\", \"startlinecolor\": \"#2a3f5f\"}, \"type\": \"carpet\"}], \"choropleth\": [{\"colorbar\": {\"outlinewidth\": 0, \"ticks\": \"\"}, \"type\": \"choropleth\"}], \"contour\": [{\"colorbar\": {\"outlinewidth\": 0, \"ticks\": \"\"}, \"colorscale\": [[0.0, \"#0d0887\"], [0.1111111111111111, \"#46039f\"], [0.2222222222222222, \"#7201a8\"], [0.3333333333333333, \"#9c179e\"], [0.4444444444444444, \"#bd3786\"], [0.5555555555555556, \"#d8576b\"], [0.6666666666666666, \"#ed7953\"], [0.7777777777777778, \"#fb9f3a\"], [0.8888888888888888, \"#fdca26\"], [1.0, \"#f0f921\"]], \"type\": \"contour\"}], \"contourcarpet\": [{\"colorbar\": {\"outlinewidth\": 0, \"ticks\": \"\"}, \"type\": \"contourcarpet\"}], \"heatmap\": [{\"colorbar\": {\"outlinewidth\": 0, \"ticks\": \"\"}, \"colorscale\": [[0.0, \"#0d0887\"], [0.1111111111111111, \"#46039f\"], [0.2222222222222222, \"#7201a8\"], [0.3333333333333333, \"#9c179e\"], [0.4444444444444444, \"#bd3786\"], [0.5555555555555556, \"#d8576b\"], [0.6666666666666666, \"#ed7953\"], [0.7777777777777778, \"#fb9f3a\"], [0.8888888888888888, \"#fdca26\"], [1.0, \"#f0f921\"]], \"type\": \"heatmap\"}], \"heatmapgl\": [{\"colorbar\": {\"outlinewidth\": 0, \"ticks\": \"\"}, \"colorscale\": [[0.0, \"#0d0887\"], [0.1111111111111111, \"#46039f\"], [0.2222222222222222, \"#7201a8\"], [0.3333333333333333, \"#9c179e\"], [0.4444444444444444, \"#bd3786\"], [0.5555555555555556, \"#d8576b\"], [0.6666666666666666, \"#ed7953\"], [0.7777777777777778, \"#fb9f3a\"], [0.8888888888888888, \"#fdca26\"], [1.0, \"#f0f921\"]], \"type\": \"heatmapgl\"}], \"histogram\": [{\"marker\": {\"colorbar\": {\"outlinewidth\": 0, \"ticks\": \"\"}}, \"type\": \"histogram\"}], \"histogram2d\": [{\"colorbar\": {\"outlinewidth\": 0, \"ticks\": \"\"}, \"colorscale\": [[0.0, \"#0d0887\"], [0.1111111111111111, \"#46039f\"], [0.2222222222222222, \"#7201a8\"], [0.3333333333333333, \"#9c179e\"], [0.4444444444444444, \"#bd3786\"], [0.5555555555555556, \"#d8576b\"], [0.6666666666666666, \"#ed7953\"], [0.7777777777777778, \"#fb9f3a\"], [0.8888888888888888, \"#fdca26\"], [1.0, \"#f0f921\"]], \"type\": \"histogram2d\"}], \"histogram2dcontour\": [{\"colorbar\": {\"outlinewidth\": 0, \"ticks\": \"\"}, \"colorscale\": [[0.0, \"#0d0887\"], [0.1111111111111111, \"#46039f\"], [0.2222222222222222, \"#7201a8\"], [0.3333333333333333, \"#9c179e\"], [0.4444444444444444, \"#bd3786\"], [0.5555555555555556, \"#d8576b\"], [0.6666666666666666, \"#ed7953\"], [0.7777777777777778, \"#fb9f3a\"], [0.8888888888888888, \"#fdca26\"], [1.0, \"#f0f921\"]], \"type\": \"histogram2dcontour\"}], \"mesh3d\": [{\"colorbar\": {\"outlinewidth\": 0, \"ticks\": \"\"}, \"type\": \"mesh3d\"}], \"parcoords\": [{\"line\": {\"colorbar\": {\"outlinewidth\": 0, \"ticks\": \"\"}}, \"type\": \"parcoords\"}], \"pie\": [{\"automargin\": true, \"type\": \"pie\"}], \"scatter\": [{\"marker\": {\"colorbar\": {\"outlinewidth\": 0, \"ticks\": \"\"}}, \"type\": \"scatter\"}], \"scatter3d\": [{\"line\": {\"colorbar\": {\"outlinewidth\": 0, \"ticks\": \"\"}}, \"marker\": {\"colorbar\": {\"outlinewidth\": 0, \"ticks\": \"\"}}, \"type\": \"scatter3d\"}], \"scattercarpet\": [{\"marker\": {\"colorbar\": {\"outlinewidth\": 0, \"ticks\": \"\"}}, \"type\": \"scattercarpet\"}], \"scattergeo\": [{\"marker\": {\"colorbar\": {\"outlinewidth\": 0, \"ticks\": \"\"}}, \"type\": \"scattergeo\"}], \"scattergl\": [{\"marker\": {\"colorbar\": {\"outlinewidth\": 0, \"ticks\": \"\"}}, \"type\": \"scattergl\"}], \"scattermapbox\": [{\"marker\": {\"colorbar\": {\"outlinewidth\": 0, \"ticks\": \"\"}}, \"type\": \"scattermapbox\"}], \"scatterpolar\": [{\"marker\": {\"colorbar\": {\"outlinewidth\": 0, \"ticks\": \"\"}}, \"type\": \"scatterpolar\"}], \"scatterpolargl\": [{\"marker\": {\"colorbar\": {\"outlinewidth\": 0, \"ticks\": \"\"}}, \"type\": \"scatterpolargl\"}], \"scatterternary\": [{\"marker\": {\"colorbar\": {\"outlinewidth\": 0, \"ticks\": \"\"}}, \"type\": \"scatterternary\"}], \"surface\": [{\"colorbar\": {\"outlinewidth\": 0, \"ticks\": \"\"}, \"colorscale\": [[0.0, \"#0d0887\"], [0.1111111111111111, \"#46039f\"], [0.2222222222222222, \"#7201a8\"], [0.3333333333333333, \"#9c179e\"], [0.4444444444444444, \"#bd3786\"], [0.5555555555555556, \"#d8576b\"], [0.6666666666666666, \"#ed7953\"], [0.7777777777777778, \"#fb9f3a\"], [0.8888888888888888, \"#fdca26\"], [1.0, \"#f0f921\"]], \"type\": \"surface\"}], \"table\": [{\"cells\": {\"fill\": {\"color\": \"#EBF0F8\"}, \"line\": {\"color\": \"white\"}}, \"header\": {\"fill\": {\"color\": \"#C8D4E3\"}, \"line\": {\"color\": \"white\"}}, \"type\": \"table\"}]}, \"layout\": {\"annotationdefaults\": {\"arrowcolor\": \"#2a3f5f\", \"arrowhead\": 0, \"arrowwidth\": 1}, \"coloraxis\": {\"colorbar\": {\"outlinewidth\": 0, \"ticks\": \"\"}}, \"colorscale\": {\"diverging\": [[0, \"#8e0152\"], [0.1, \"#c51b7d\"], [0.2, \"#de77ae\"], [0.3, \"#f1b6da\"], [0.4, \"#fde0ef\"], [0.5, \"#f7f7f7\"], [0.6, \"#e6f5d0\"], [0.7, \"#b8e186\"], [0.8, \"#7fbc41\"], [0.9, \"#4d9221\"], [1, \"#276419\"]], \"sequential\": [[0.0, \"#0d0887\"], [0.1111111111111111, \"#46039f\"], [0.2222222222222222, \"#7201a8\"], [0.3333333333333333, \"#9c179e\"], [0.4444444444444444, \"#bd3786\"], [0.5555555555555556, \"#d8576b\"], [0.6666666666666666, \"#ed7953\"], [0.7777777777777778, \"#fb9f3a\"], [0.8888888888888888, \"#fdca26\"], [1.0, \"#f0f921\"]], \"sequentialminus\": [[0.0, \"#0d0887\"], [0.1111111111111111, \"#46039f\"], [0.2222222222222222, \"#7201a8\"], [0.3333333333333333, \"#9c179e\"], [0.4444444444444444, \"#bd3786\"], [0.5555555555555556, \"#d8576b\"], [0.6666666666666666, \"#ed7953\"], [0.7777777777777778, \"#fb9f3a\"], [0.8888888888888888, \"#fdca26\"], [1.0, \"#f0f921\"]]}, \"colorway\": [\"#636efa\", \"#EF553B\", \"#00cc96\", \"#ab63fa\", \"#FFA15A\", \"#19d3f3\", \"#FF6692\", \"#B6E880\", \"#FF97FF\", \"#FECB52\"], \"font\": {\"color\": \"#2a3f5f\"}, \"geo\": {\"bgcolor\": \"white\", \"lakecolor\": \"white\", \"landcolor\": \"#E5ECF6\", \"showlakes\": true, \"showland\": true, \"subunitcolor\": \"white\"}, \"hoverlabel\": {\"align\": \"left\"}, \"hovermode\": \"closest\", \"mapbox\": {\"style\": \"light\"}, \"paper_bgcolor\": \"white\", \"plot_bgcolor\": \"#E5ECF6\", \"polar\": {\"angularaxis\": {\"gridcolor\": \"white\", \"linecolor\": \"white\", \"ticks\": \"\"}, \"bgcolor\": \"#E5ECF6\", \"radialaxis\": {\"gridcolor\": \"white\", \"linecolor\": \"white\", \"ticks\": \"\"}}, \"scene\": {\"xaxis\": {\"backgroundcolor\": \"#E5ECF6\", \"gridcolor\": \"white\", \"gridwidth\": 2, \"linecolor\": \"white\", \"showbackground\": true, \"ticks\": \"\", \"zerolinecolor\": \"white\"}, \"yaxis\": {\"backgroundcolor\": \"#E5ECF6\", \"gridcolor\": \"white\", \"gridwidth\": 2, \"linecolor\": \"white\", \"showbackground\": true, \"ticks\": \"\", \"zerolinecolor\": \"white\"}, \"zaxis\": {\"backgroundcolor\": \"#E5ECF6\", \"gridcolor\": \"white\", \"gridwidth\": 2, \"linecolor\": \"white\", \"showbackground\": true, \"ticks\": \"\", \"zerolinecolor\": \"white\"}}, \"shapedefaults\": {\"line\": {\"color\": \"#2a3f5f\"}}, \"ternary\": {\"aaxis\": {\"gridcolor\": \"white\", \"linecolor\": \"white\", \"ticks\": \"\"}, \"baxis\": {\"gridcolor\": \"white\", \"linecolor\": \"white\", \"ticks\": \"\"}, \"bgcolor\": \"#E5ECF6\", \"caxis\": {\"gridcolor\": \"white\", \"linecolor\": \"white\", \"ticks\": \"\"}}, \"title\": {\"x\": 0.05}, \"xaxis\": {\"automargin\": true, \"gridcolor\": \"white\", \"linecolor\": \"white\", \"ticks\": \"\", \"title\": {\"standoff\": 15}, \"zerolinecolor\": \"white\", \"zerolinewidth\": 2}, \"yaxis\": {\"automargin\": true, \"gridcolor\": \"white\", \"linecolor\": \"white\", \"ticks\": \"\", \"title\": {\"standoff\": 15}, \"zerolinecolor\": \"white\", \"zerolinewidth\": 2}}}, \"width\": 1920},\n",
       "                        {\"responsive\": true}\n",
       "                    ).then(function(){\n",
       "                            \n",
       "var gd = document.getElementById('e9b8e20d-b82c-45e1-9217-22f567d15df0');\n",
       "var x = new MutationObserver(function (mutations, observer) {{\n",
       "        var display = window.getComputedStyle(gd).display;\n",
       "        if (!display || display === 'none') {{\n",
       "            console.log([gd, 'removed!']);\n",
       "            Plotly.purge(gd);\n",
       "            observer.disconnect();\n",
       "        }}\n",
       "}});\n",
       "\n",
       "// Listen for the removal of the full notebook cells\n",
       "var notebookContainer = gd.closest('#notebook-container');\n",
       "if (notebookContainer) {{\n",
       "    x.observe(notebookContainer, {childList: true});\n",
       "}}\n",
       "\n",
       "// Listen for the clearing of the current output cell\n",
       "var outputEl = gd.closest('.output');\n",
       "if (outputEl) {{\n",
       "    x.observe(outputEl, {childList: true});\n",
       "}}\n",
       "\n",
       "                        })\n",
       "                };\n",
       "                });\n",
       "            </script>\n",
       "        </div>"
      ]
     },
     "metadata": {},
     "output_type": "display_data"
    }
   ],
   "source": [
    "fig = go.Figure()\n",
    "for trace in create_country_traces(pivot_df):\n",
    "    fig.add_trace(trace)\n",
    "fig.update_layout(\n",
    "    width=1920,\n",
    "    height=1080\n",
    ")\n",
    "fig.show()"
   ]
  },
  {
   "cell_type": "code",
   "execution_count": 27,
   "metadata": {},
   "outputs": [
    {
     "data": {
      "application/vnd.plotly.v1+json": {
       "config": {
        "plotlyServerURL": "https://plot.ly"
       },
       "data": [
        {
         "connectgaps": true,
         "line": {
          "shape": "linear"
         },
         "mode": "markers+lines",
         "name": "BEL",
         "type": "scatter",
         "x": [
          "2020-01-22",
          "2020-01-23",
          "2020-01-24",
          "2020-01-25",
          "2020-01-26",
          "2020-01-27",
          "2020-01-28",
          "2020-01-29",
          "2020-01-30",
          "2020-01-31",
          "2020-02-01",
          "2020-02-02",
          "2020-02-03",
          "2020-02-04",
          "2020-02-05",
          "2020-02-06",
          "2020-02-07",
          "2020-02-08",
          "2020-02-09",
          "2020-02-10",
          "2020-02-11",
          "2020-02-12",
          "2020-02-13",
          "2020-02-14",
          "2020-02-15",
          "2020-02-16",
          "2020-02-17",
          "2020-02-18",
          "2020-02-19",
          "2020-02-20",
          "2020-02-21",
          "2020-02-22",
          "2020-02-23",
          "2020-02-24",
          "2020-02-25",
          "2020-02-26",
          "2020-02-27",
          "2020-02-28",
          "2020-02-29",
          "2020-03-01",
          "2020-03-02",
          "2020-03-03",
          "2020-03-04",
          "2020-03-05",
          "2020-03-06",
          "2020-03-07",
          "2020-03-08",
          "2020-03-09",
          "2020-03-10",
          "2020-03-11",
          "2020-03-12",
          "2020-03-13",
          "2020-03-14",
          "2020-03-15",
          "2020-03-16",
          "2020-03-17",
          "2020-03-18",
          "2020-03-19",
          "2020-03-20",
          "2020-03-21",
          "2020-03-22",
          "2020-03-23",
          "2020-03-24",
          "2020-03-25",
          "2020-03-26",
          "2020-03-27",
          "2020-03-28",
          "2020-03-29",
          "2020-03-30",
          "2020-03-31",
          "2020-04-01",
          "2020-04-02",
          "2020-04-03",
          "2020-04-04",
          "2020-04-05",
          "2020-04-06",
          "2020-04-07",
          "2020-04-08",
          "2020-04-09",
          "2020-04-10",
          "2020-04-11",
          "2020-04-12",
          "2020-04-13"
         ],
         "y": [
          0,
          0,
          0,
          0,
          0,
          0,
          0,
          0,
          0,
          0,
          0,
          0,
          0,
          0,
          0,
          0,
          0,
          0,
          0,
          0,
          0,
          0,
          0,
          0,
          0,
          0,
          0,
          0,
          0,
          0,
          0,
          0,
          0,
          0,
          0,
          0,
          0,
          0,
          0,
          0,
          0,
          0,
          0,
          0,
          0,
          0,
          0,
          0,
          0,
          3,
          3,
          3,
          4,
          4,
          5,
          10,
          14,
          21,
          37,
          67,
          75,
          88,
          122,
          178,
          220,
          289,
          353,
          431,
          513,
          705,
          828,
          1011,
          1143,
          1283,
          1447,
          1632,
          2035,
          2240,
          2523,
          3019,
          3346,
          3600,
          3903
         ]
        },
        {
         "connectgaps": true,
         "line": {
          "shape": "linear"
         },
         "mode": "markers+lines",
         "name": "CHN",
         "type": "scatter",
         "x": [
          "2020-01-22",
          "2020-01-23",
          "2020-01-24",
          "2020-01-25",
          "2020-01-26",
          "2020-01-27",
          "2020-01-28",
          "2020-01-29",
          "2020-01-30",
          "2020-01-31",
          "2020-02-01",
          "2020-02-02",
          "2020-02-03",
          "2020-02-04",
          "2020-02-05",
          "2020-02-06",
          "2020-02-07",
          "2020-02-08",
          "2020-02-09",
          "2020-02-10",
          "2020-02-11",
          "2020-02-12",
          "2020-02-13",
          "2020-02-14",
          "2020-02-15",
          "2020-02-16",
          "2020-02-17",
          "2020-02-18",
          "2020-02-19",
          "2020-02-20",
          "2020-02-21",
          "2020-02-22",
          "2020-02-23",
          "2020-02-24",
          "2020-02-25",
          "2020-02-26",
          "2020-02-27",
          "2020-02-28",
          "2020-02-29",
          "2020-03-01",
          "2020-03-02",
          "2020-03-03",
          "2020-03-04",
          "2020-03-05",
          "2020-03-06",
          "2020-03-07",
          "2020-03-08",
          "2020-03-09",
          "2020-03-10",
          "2020-03-11",
          "2020-03-12",
          "2020-03-13",
          "2020-03-14",
          "2020-03-15",
          "2020-03-16",
          "2020-03-17",
          "2020-03-18",
          "2020-03-19",
          "2020-03-20",
          "2020-03-21",
          "2020-03-22",
          "2020-03-23",
          "2020-03-24",
          "2020-03-25",
          "2020-03-26",
          "2020-03-27",
          "2020-03-28",
          "2020-03-29",
          "2020-03-30",
          "2020-03-31",
          "2020-04-01",
          "2020-04-02",
          "2020-04-03",
          "2020-04-04",
          "2020-04-05",
          "2020-04-06",
          "2020-04-07",
          "2020-04-08",
          "2020-04-09",
          "2020-04-10",
          "2020-04-11",
          "2020-04-12",
          "2020-04-13"
         ],
         "y": [
          17,
          18,
          26,
          42,
          56,
          82,
          131,
          133,
          171,
          213,
          259,
          361,
          425,
          491,
          563,
          633,
          718,
          805,
          905,
          1012,
          1112,
          1117,
          1369,
          1521,
          1663,
          1766,
          1864,
          2003,
          2116,
          2238,
          2238,
          2443,
          2445,
          2595,
          2665,
          2717,
          2746,
          2790,
          2837,
          2872,
          2914,
          2947,
          2983,
          3015,
          3044,
          3072,
          3100,
          3123,
          3139,
          3161,
          3172,
          3180,
          3193,
          3203,
          3217,
          3230,
          3241,
          3249,
          3253,
          3259,
          3274,
          3274,
          3281,
          3285,
          3291,
          3296,
          3299,
          3304,
          3308,
          3309,
          3316,
          3322,
          3326,
          3330,
          3333,
          3335,
          3335,
          3337,
          3339,
          3340,
          3343,
          3343,
          3345
         ]
        },
        {
         "connectgaps": true,
         "line": {
          "shape": "linear"
         },
         "mode": "markers+lines",
         "name": "ESP",
         "type": "scatter",
         "x": [
          "2020-01-22",
          "2020-01-23",
          "2020-01-24",
          "2020-01-25",
          "2020-01-26",
          "2020-01-27",
          "2020-01-28",
          "2020-01-29",
          "2020-01-30",
          "2020-01-31",
          "2020-02-01",
          "2020-02-02",
          "2020-02-03",
          "2020-02-04",
          "2020-02-05",
          "2020-02-06",
          "2020-02-07",
          "2020-02-08",
          "2020-02-09",
          "2020-02-10",
          "2020-02-11",
          "2020-02-12",
          "2020-02-13",
          "2020-02-14",
          "2020-02-15",
          "2020-02-16",
          "2020-02-17",
          "2020-02-18",
          "2020-02-19",
          "2020-02-20",
          "2020-02-21",
          "2020-02-22",
          "2020-02-23",
          "2020-02-24",
          "2020-02-25",
          "2020-02-26",
          "2020-02-27",
          "2020-02-28",
          "2020-02-29",
          "2020-03-01",
          "2020-03-02",
          "2020-03-03",
          "2020-03-04",
          "2020-03-05",
          "2020-03-06",
          "2020-03-07",
          "2020-03-08",
          "2020-03-09",
          "2020-03-10",
          "2020-03-11",
          "2020-03-12",
          "2020-03-13",
          "2020-03-14",
          "2020-03-15",
          "2020-03-16",
          "2020-03-17",
          "2020-03-18",
          "2020-03-19",
          "2020-03-20",
          "2020-03-21",
          "2020-03-22",
          "2020-03-23",
          "2020-03-24",
          "2020-03-25",
          "2020-03-26",
          "2020-03-27",
          "2020-03-28",
          "2020-03-29",
          "2020-03-30",
          "2020-03-31",
          "2020-04-01",
          "2020-04-02",
          "2020-04-03",
          "2020-04-04",
          "2020-04-05",
          "2020-04-06",
          "2020-04-07",
          "2020-04-08",
          "2020-04-09",
          "2020-04-10",
          "2020-04-11",
          "2020-04-12",
          "2020-04-13"
         ],
         "y": [
          0,
          0,
          0,
          0,
          0,
          0,
          0,
          0,
          0,
          0,
          0,
          0,
          0,
          0,
          0,
          0,
          0,
          0,
          0,
          0,
          0,
          0,
          0,
          0,
          0,
          0,
          0,
          0,
          0,
          0,
          0,
          0,
          0,
          0,
          0,
          0,
          0,
          0,
          0,
          0,
          0,
          1,
          2,
          3,
          5,
          10,
          17,
          28,
          35,
          54,
          55,
          133,
          195,
          289,
          342,
          533,
          623,
          830,
          1043,
          1375,
          1772,
          2311,
          2808,
          3647,
          4365,
          5138,
          5982,
          6803,
          7716,
          8464,
          9387,
          10348,
          11198,
          11947,
          12641,
          13341,
          14045,
          14792,
          15447,
          16081,
          16606,
          17209,
          17756
         ]
        },
        {
         "connectgaps": true,
         "line": {
          "shape": "linear"
         },
         "mode": "markers+lines",
         "name": "ITA",
         "type": "scatter",
         "x": [
          "2020-01-22",
          "2020-01-23",
          "2020-01-24",
          "2020-01-25",
          "2020-01-26",
          "2020-01-27",
          "2020-01-28",
          "2020-01-29",
          "2020-01-30",
          "2020-01-31",
          "2020-02-01",
          "2020-02-02",
          "2020-02-03",
          "2020-02-04",
          "2020-02-05",
          "2020-02-06",
          "2020-02-07",
          "2020-02-08",
          "2020-02-09",
          "2020-02-10",
          "2020-02-11",
          "2020-02-12",
          "2020-02-13",
          "2020-02-14",
          "2020-02-15",
          "2020-02-16",
          "2020-02-17",
          "2020-02-18",
          "2020-02-19",
          "2020-02-20",
          "2020-02-21",
          "2020-02-22",
          "2020-02-23",
          "2020-02-24",
          "2020-02-25",
          "2020-02-26",
          "2020-02-27",
          "2020-02-28",
          "2020-02-29",
          "2020-03-01",
          "2020-03-02",
          "2020-03-03",
          "2020-03-04",
          "2020-03-05",
          "2020-03-06",
          "2020-03-07",
          "2020-03-08",
          "2020-03-09",
          "2020-03-10",
          "2020-03-11",
          "2020-03-12",
          "2020-03-13",
          "2020-03-14",
          "2020-03-15",
          "2020-03-16",
          "2020-03-17",
          "2020-03-18",
          "2020-03-19",
          "2020-03-20",
          "2020-03-21",
          "2020-03-22",
          "2020-03-23",
          "2020-03-24",
          "2020-03-25",
          "2020-03-26",
          "2020-03-27",
          "2020-03-28",
          "2020-03-29",
          "2020-03-30",
          "2020-03-31",
          "2020-04-01",
          "2020-04-02",
          "2020-04-03",
          "2020-04-04",
          "2020-04-05",
          "2020-04-06",
          "2020-04-07",
          "2020-04-08",
          "2020-04-09",
          "2020-04-10",
          "2020-04-11",
          "2020-04-12",
          "2020-04-13"
         ],
         "y": [
          0,
          0,
          0,
          0,
          0,
          0,
          0,
          0,
          0,
          0,
          0,
          0,
          0,
          0,
          0,
          0,
          0,
          0,
          0,
          0,
          0,
          0,
          0,
          0,
          0,
          0,
          0,
          0,
          0,
          0,
          1,
          2,
          3,
          7,
          10,
          12,
          17,
          21,
          29,
          34,
          52,
          79,
          107,
          148,
          197,
          233,
          366,
          463,
          631,
          827,
          827,
          1266,
          1441,
          1809,
          2158,
          2503,
          2978,
          3405,
          4032,
          4825,
          5476,
          6077,
          6820,
          7503,
          8215,
          9134,
          10023,
          10779,
          11591,
          12428,
          13155,
          13915,
          14681,
          15362,
          15887,
          16523,
          17127,
          17669,
          18279,
          18849,
          19468,
          19899,
          20465
         ]
        },
        {
         "connectgaps": true,
         "line": {
          "shape": "linear"
         },
         "mode": "markers+lines",
         "name": "NLD",
         "type": "scatter",
         "x": [
          "2020-01-22",
          "2020-01-23",
          "2020-01-24",
          "2020-01-25",
          "2020-01-26",
          "2020-01-27",
          "2020-01-28",
          "2020-01-29",
          "2020-01-30",
          "2020-01-31",
          "2020-02-01",
          "2020-02-02",
          "2020-02-03",
          "2020-02-04",
          "2020-02-05",
          "2020-02-06",
          "2020-02-07",
          "2020-02-08",
          "2020-02-09",
          "2020-02-10",
          "2020-02-11",
          "2020-02-12",
          "2020-02-13",
          "2020-02-14",
          "2020-02-15",
          "2020-02-16",
          "2020-02-17",
          "2020-02-18",
          "2020-02-19",
          "2020-02-20",
          "2020-02-21",
          "2020-02-22",
          "2020-02-23",
          "2020-02-24",
          "2020-02-25",
          "2020-02-26",
          "2020-02-27",
          "2020-02-28",
          "2020-02-29",
          "2020-03-01",
          "2020-03-02",
          "2020-03-03",
          "2020-03-04",
          "2020-03-05",
          "2020-03-06",
          "2020-03-07",
          "2020-03-08",
          "2020-03-09",
          "2020-03-10",
          "2020-03-11",
          "2020-03-12",
          "2020-03-13",
          "2020-03-14",
          "2020-03-15",
          "2020-03-16",
          "2020-03-17",
          "2020-03-18",
          "2020-03-19",
          "2020-03-20",
          "2020-03-21",
          "2020-03-22",
          "2020-03-23",
          "2020-03-24",
          "2020-03-25",
          "2020-03-26",
          "2020-03-27",
          "2020-03-28",
          "2020-03-29",
          "2020-03-30",
          "2020-03-31",
          "2020-04-01",
          "2020-04-02",
          "2020-04-03",
          "2020-04-04",
          "2020-04-05",
          "2020-04-06",
          "2020-04-07",
          "2020-04-08",
          "2020-04-09",
          "2020-04-10",
          "2020-04-11",
          "2020-04-12",
          "2020-04-13"
         ],
         "y": [
          0,
          0,
          0,
          0,
          0,
          0,
          0,
          0,
          0,
          0,
          0,
          0,
          0,
          0,
          0,
          0,
          0,
          0,
          0,
          0,
          0,
          0,
          0,
          0,
          0,
          0,
          0,
          0,
          0,
          0,
          0,
          0,
          0,
          0,
          0,
          0,
          0,
          0,
          0,
          0,
          0,
          0,
          0,
          0,
          1,
          1,
          3,
          3,
          4,
          5,
          5,
          10,
          12,
          20,
          24,
          43,
          58,
          77,
          107,
          137,
          180,
          214,
          277,
          357,
          435,
          547,
          640,
          772,
          865,
          1040,
          1175,
          1341,
          1490,
          1656,
          1771,
          1874,
          2108,
          2255,
          2403,
          2520,
          2653,
          2747,
          2833
         ]
        },
        {
         "connectgaps": true,
         "line": {
          "shape": "linear"
         },
         "mode": "markers+lines",
         "name": "USA",
         "type": "scatter",
         "x": [
          "2020-01-22",
          "2020-01-23",
          "2020-01-24",
          "2020-01-25",
          "2020-01-26",
          "2020-01-27",
          "2020-01-28",
          "2020-01-29",
          "2020-01-30",
          "2020-01-31",
          "2020-02-01",
          "2020-02-02",
          "2020-02-03",
          "2020-02-04",
          "2020-02-05",
          "2020-02-06",
          "2020-02-07",
          "2020-02-08",
          "2020-02-09",
          "2020-02-10",
          "2020-02-11",
          "2020-02-12",
          "2020-02-13",
          "2020-02-14",
          "2020-02-15",
          "2020-02-16",
          "2020-02-17",
          "2020-02-18",
          "2020-02-19",
          "2020-02-20",
          "2020-02-21",
          "2020-02-22",
          "2020-02-23",
          "2020-02-24",
          "2020-02-25",
          "2020-02-26",
          "2020-02-27",
          "2020-02-28",
          "2020-02-29",
          "2020-03-01",
          "2020-03-02",
          "2020-03-03",
          "2020-03-04",
          "2020-03-05",
          "2020-03-06",
          "2020-03-07",
          "2020-03-08",
          "2020-03-09",
          "2020-03-10",
          "2020-03-11",
          "2020-03-12",
          "2020-03-13",
          "2020-03-14",
          "2020-03-15",
          "2020-03-16",
          "2020-03-17",
          "2020-03-18",
          "2020-03-19",
          "2020-03-20",
          "2020-03-21",
          "2020-03-22",
          "2020-03-23",
          "2020-03-24",
          "2020-03-25",
          "2020-03-26",
          "2020-03-27",
          "2020-03-28",
          "2020-03-29",
          "2020-03-30",
          "2020-03-31",
          "2020-04-01",
          "2020-04-02",
          "2020-04-03",
          "2020-04-04",
          "2020-04-05",
          "2020-04-06",
          "2020-04-07",
          "2020-04-08",
          "2020-04-09",
          "2020-04-10",
          "2020-04-11",
          "2020-04-12",
          "2020-04-13"
         ],
         "y": [
          0,
          0,
          0,
          0,
          0,
          0,
          0,
          0,
          0,
          0,
          0,
          0,
          0,
          0,
          0,
          0,
          0,
          0,
          0,
          0,
          0,
          0,
          0,
          0,
          0,
          0,
          0,
          0,
          0,
          0,
          0,
          0,
          0,
          0,
          0,
          0,
          0,
          0,
          1,
          1,
          6,
          7,
          11,
          12,
          14,
          17,
          21,
          22,
          28,
          36,
          40,
          47,
          54,
          63,
          85,
          108,
          118,
          200,
          244,
          307,
          417,
          557,
          706,
          942,
          1209,
          1581,
          2026,
          2467,
          2978,
          3873,
          4757,
          5926,
          7087,
          8407,
          9619,
          10783,
          12722,
          14695,
          16478,
          18586,
          20463,
          22020,
          23529
         ]
        }
       ],
       "layout": {
        "height": 1080,
        "template": {
         "data": {
          "bar": [
           {
            "error_x": {
             "color": "#2a3f5f"
            },
            "error_y": {
             "color": "#2a3f5f"
            },
            "marker": {
             "line": {
              "color": "#E5ECF6",
              "width": 0.5
             }
            },
            "type": "bar"
           }
          ],
          "barpolar": [
           {
            "marker": {
             "line": {
              "color": "#E5ECF6",
              "width": 0.5
             }
            },
            "type": "barpolar"
           }
          ],
          "carpet": [
           {
            "aaxis": {
             "endlinecolor": "#2a3f5f",
             "gridcolor": "white",
             "linecolor": "white",
             "minorgridcolor": "white",
             "startlinecolor": "#2a3f5f"
            },
            "baxis": {
             "endlinecolor": "#2a3f5f",
             "gridcolor": "white",
             "linecolor": "white",
             "minorgridcolor": "white",
             "startlinecolor": "#2a3f5f"
            },
            "type": "carpet"
           }
          ],
          "choropleth": [
           {
            "colorbar": {
             "outlinewidth": 0,
             "ticks": ""
            },
            "type": "choropleth"
           }
          ],
          "contour": [
           {
            "colorbar": {
             "outlinewidth": 0,
             "ticks": ""
            },
            "colorscale": [
             [
              0,
              "#0d0887"
             ],
             [
              0.1111111111111111,
              "#46039f"
             ],
             [
              0.2222222222222222,
              "#7201a8"
             ],
             [
              0.3333333333333333,
              "#9c179e"
             ],
             [
              0.4444444444444444,
              "#bd3786"
             ],
             [
              0.5555555555555556,
              "#d8576b"
             ],
             [
              0.6666666666666666,
              "#ed7953"
             ],
             [
              0.7777777777777778,
              "#fb9f3a"
             ],
             [
              0.8888888888888888,
              "#fdca26"
             ],
             [
              1,
              "#f0f921"
             ]
            ],
            "type": "contour"
           }
          ],
          "contourcarpet": [
           {
            "colorbar": {
             "outlinewidth": 0,
             "ticks": ""
            },
            "type": "contourcarpet"
           }
          ],
          "heatmap": [
           {
            "colorbar": {
             "outlinewidth": 0,
             "ticks": ""
            },
            "colorscale": [
             [
              0,
              "#0d0887"
             ],
             [
              0.1111111111111111,
              "#46039f"
             ],
             [
              0.2222222222222222,
              "#7201a8"
             ],
             [
              0.3333333333333333,
              "#9c179e"
             ],
             [
              0.4444444444444444,
              "#bd3786"
             ],
             [
              0.5555555555555556,
              "#d8576b"
             ],
             [
              0.6666666666666666,
              "#ed7953"
             ],
             [
              0.7777777777777778,
              "#fb9f3a"
             ],
             [
              0.8888888888888888,
              "#fdca26"
             ],
             [
              1,
              "#f0f921"
             ]
            ],
            "type": "heatmap"
           }
          ],
          "heatmapgl": [
           {
            "colorbar": {
             "outlinewidth": 0,
             "ticks": ""
            },
            "colorscale": [
             [
              0,
              "#0d0887"
             ],
             [
              0.1111111111111111,
              "#46039f"
             ],
             [
              0.2222222222222222,
              "#7201a8"
             ],
             [
              0.3333333333333333,
              "#9c179e"
             ],
             [
              0.4444444444444444,
              "#bd3786"
             ],
             [
              0.5555555555555556,
              "#d8576b"
             ],
             [
              0.6666666666666666,
              "#ed7953"
             ],
             [
              0.7777777777777778,
              "#fb9f3a"
             ],
             [
              0.8888888888888888,
              "#fdca26"
             ],
             [
              1,
              "#f0f921"
             ]
            ],
            "type": "heatmapgl"
           }
          ],
          "histogram": [
           {
            "marker": {
             "colorbar": {
              "outlinewidth": 0,
              "ticks": ""
             }
            },
            "type": "histogram"
           }
          ],
          "histogram2d": [
           {
            "colorbar": {
             "outlinewidth": 0,
             "ticks": ""
            },
            "colorscale": [
             [
              0,
              "#0d0887"
             ],
             [
              0.1111111111111111,
              "#46039f"
             ],
             [
              0.2222222222222222,
              "#7201a8"
             ],
             [
              0.3333333333333333,
              "#9c179e"
             ],
             [
              0.4444444444444444,
              "#bd3786"
             ],
             [
              0.5555555555555556,
              "#d8576b"
             ],
             [
              0.6666666666666666,
              "#ed7953"
             ],
             [
              0.7777777777777778,
              "#fb9f3a"
             ],
             [
              0.8888888888888888,
              "#fdca26"
             ],
             [
              1,
              "#f0f921"
             ]
            ],
            "type": "histogram2d"
           }
          ],
          "histogram2dcontour": [
           {
            "colorbar": {
             "outlinewidth": 0,
             "ticks": ""
            },
            "colorscale": [
             [
              0,
              "#0d0887"
             ],
             [
              0.1111111111111111,
              "#46039f"
             ],
             [
              0.2222222222222222,
              "#7201a8"
             ],
             [
              0.3333333333333333,
              "#9c179e"
             ],
             [
              0.4444444444444444,
              "#bd3786"
             ],
             [
              0.5555555555555556,
              "#d8576b"
             ],
             [
              0.6666666666666666,
              "#ed7953"
             ],
             [
              0.7777777777777778,
              "#fb9f3a"
             ],
             [
              0.8888888888888888,
              "#fdca26"
             ],
             [
              1,
              "#f0f921"
             ]
            ],
            "type": "histogram2dcontour"
           }
          ],
          "mesh3d": [
           {
            "colorbar": {
             "outlinewidth": 0,
             "ticks": ""
            },
            "type": "mesh3d"
           }
          ],
          "parcoords": [
           {
            "line": {
             "colorbar": {
              "outlinewidth": 0,
              "ticks": ""
             }
            },
            "type": "parcoords"
           }
          ],
          "pie": [
           {
            "automargin": true,
            "type": "pie"
           }
          ],
          "scatter": [
           {
            "marker": {
             "colorbar": {
              "outlinewidth": 0,
              "ticks": ""
             }
            },
            "type": "scatter"
           }
          ],
          "scatter3d": [
           {
            "line": {
             "colorbar": {
              "outlinewidth": 0,
              "ticks": ""
             }
            },
            "marker": {
             "colorbar": {
              "outlinewidth": 0,
              "ticks": ""
             }
            },
            "type": "scatter3d"
           }
          ],
          "scattercarpet": [
           {
            "marker": {
             "colorbar": {
              "outlinewidth": 0,
              "ticks": ""
             }
            },
            "type": "scattercarpet"
           }
          ],
          "scattergeo": [
           {
            "marker": {
             "colorbar": {
              "outlinewidth": 0,
              "ticks": ""
             }
            },
            "type": "scattergeo"
           }
          ],
          "scattergl": [
           {
            "marker": {
             "colorbar": {
              "outlinewidth": 0,
              "ticks": ""
             }
            },
            "type": "scattergl"
           }
          ],
          "scattermapbox": [
           {
            "marker": {
             "colorbar": {
              "outlinewidth": 0,
              "ticks": ""
             }
            },
            "type": "scattermapbox"
           }
          ],
          "scatterpolar": [
           {
            "marker": {
             "colorbar": {
              "outlinewidth": 0,
              "ticks": ""
             }
            },
            "type": "scatterpolar"
           }
          ],
          "scatterpolargl": [
           {
            "marker": {
             "colorbar": {
              "outlinewidth": 0,
              "ticks": ""
             }
            },
            "type": "scatterpolargl"
           }
          ],
          "scatterternary": [
           {
            "marker": {
             "colorbar": {
              "outlinewidth": 0,
              "ticks": ""
             }
            },
            "type": "scatterternary"
           }
          ],
          "surface": [
           {
            "colorbar": {
             "outlinewidth": 0,
             "ticks": ""
            },
            "colorscale": [
             [
              0,
              "#0d0887"
             ],
             [
              0.1111111111111111,
              "#46039f"
             ],
             [
              0.2222222222222222,
              "#7201a8"
             ],
             [
              0.3333333333333333,
              "#9c179e"
             ],
             [
              0.4444444444444444,
              "#bd3786"
             ],
             [
              0.5555555555555556,
              "#d8576b"
             ],
             [
              0.6666666666666666,
              "#ed7953"
             ],
             [
              0.7777777777777778,
              "#fb9f3a"
             ],
             [
              0.8888888888888888,
              "#fdca26"
             ],
             [
              1,
              "#f0f921"
             ]
            ],
            "type": "surface"
           }
          ],
          "table": [
           {
            "cells": {
             "fill": {
              "color": "#EBF0F8"
             },
             "line": {
              "color": "white"
             }
            },
            "header": {
             "fill": {
              "color": "#C8D4E3"
             },
             "line": {
              "color": "white"
             }
            },
            "type": "table"
           }
          ]
         },
         "layout": {
          "annotationdefaults": {
           "arrowcolor": "#2a3f5f",
           "arrowhead": 0,
           "arrowwidth": 1
          },
          "coloraxis": {
           "colorbar": {
            "outlinewidth": 0,
            "ticks": ""
           }
          },
          "colorscale": {
           "diverging": [
            [
             0,
             "#8e0152"
            ],
            [
             0.1,
             "#c51b7d"
            ],
            [
             0.2,
             "#de77ae"
            ],
            [
             0.3,
             "#f1b6da"
            ],
            [
             0.4,
             "#fde0ef"
            ],
            [
             0.5,
             "#f7f7f7"
            ],
            [
             0.6,
             "#e6f5d0"
            ],
            [
             0.7,
             "#b8e186"
            ],
            [
             0.8,
             "#7fbc41"
            ],
            [
             0.9,
             "#4d9221"
            ],
            [
             1,
             "#276419"
            ]
           ],
           "sequential": [
            [
             0,
             "#0d0887"
            ],
            [
             0.1111111111111111,
             "#46039f"
            ],
            [
             0.2222222222222222,
             "#7201a8"
            ],
            [
             0.3333333333333333,
             "#9c179e"
            ],
            [
             0.4444444444444444,
             "#bd3786"
            ],
            [
             0.5555555555555556,
             "#d8576b"
            ],
            [
             0.6666666666666666,
             "#ed7953"
            ],
            [
             0.7777777777777778,
             "#fb9f3a"
            ],
            [
             0.8888888888888888,
             "#fdca26"
            ],
            [
             1,
             "#f0f921"
            ]
           ],
           "sequentialminus": [
            [
             0,
             "#0d0887"
            ],
            [
             0.1111111111111111,
             "#46039f"
            ],
            [
             0.2222222222222222,
             "#7201a8"
            ],
            [
             0.3333333333333333,
             "#9c179e"
            ],
            [
             0.4444444444444444,
             "#bd3786"
            ],
            [
             0.5555555555555556,
             "#d8576b"
            ],
            [
             0.6666666666666666,
             "#ed7953"
            ],
            [
             0.7777777777777778,
             "#fb9f3a"
            ],
            [
             0.8888888888888888,
             "#fdca26"
            ],
            [
             1,
             "#f0f921"
            ]
           ]
          },
          "colorway": [
           "#636efa",
           "#EF553B",
           "#00cc96",
           "#ab63fa",
           "#FFA15A",
           "#19d3f3",
           "#FF6692",
           "#B6E880",
           "#FF97FF",
           "#FECB52"
          ],
          "font": {
           "color": "#2a3f5f"
          },
          "geo": {
           "bgcolor": "white",
           "lakecolor": "white",
           "landcolor": "#E5ECF6",
           "showlakes": true,
           "showland": true,
           "subunitcolor": "white"
          },
          "hoverlabel": {
           "align": "left"
          },
          "hovermode": "closest",
          "mapbox": {
           "style": "light"
          },
          "paper_bgcolor": "white",
          "plot_bgcolor": "#E5ECF6",
          "polar": {
           "angularaxis": {
            "gridcolor": "white",
            "linecolor": "white",
            "ticks": ""
           },
           "bgcolor": "#E5ECF6",
           "radialaxis": {
            "gridcolor": "white",
            "linecolor": "white",
            "ticks": ""
           }
          },
          "scene": {
           "xaxis": {
            "backgroundcolor": "#E5ECF6",
            "gridcolor": "white",
            "gridwidth": 2,
            "linecolor": "white",
            "showbackground": true,
            "ticks": "",
            "zerolinecolor": "white"
           },
           "yaxis": {
            "backgroundcolor": "#E5ECF6",
            "gridcolor": "white",
            "gridwidth": 2,
            "linecolor": "white",
            "showbackground": true,
            "ticks": "",
            "zerolinecolor": "white"
           },
           "zaxis": {
            "backgroundcolor": "#E5ECF6",
            "gridcolor": "white",
            "gridwidth": 2,
            "linecolor": "white",
            "showbackground": true,
            "ticks": "",
            "zerolinecolor": "white"
           }
          },
          "shapedefaults": {
           "line": {
            "color": "#2a3f5f"
           }
          },
          "ternary": {
           "aaxis": {
            "gridcolor": "white",
            "linecolor": "white",
            "ticks": ""
           },
           "baxis": {
            "gridcolor": "white",
            "linecolor": "white",
            "ticks": ""
           },
           "bgcolor": "#E5ECF6",
           "caxis": {
            "gridcolor": "white",
            "linecolor": "white",
            "ticks": ""
           }
          },
          "title": {
           "x": 0.05
          },
          "xaxis": {
           "automargin": true,
           "gridcolor": "white",
           "linecolor": "white",
           "ticks": "",
           "title": {
            "standoff": 15
           },
           "zerolinecolor": "white",
           "zerolinewidth": 2
          },
          "yaxis": {
           "automargin": true,
           "gridcolor": "white",
           "linecolor": "white",
           "ticks": "",
           "title": {
            "standoff": 15
           },
           "zerolinecolor": "white",
           "zerolinewidth": 2
          }
         }
        },
        "width": 1920,
        "yaxis": {
         "type": "log"
        }
       }
      },
      "text/html": [
       "<div>\n",
       "        \n",
       "        \n",
       "            <div id=\"59859730-7466-4110-8add-8693c8e6ac37\" class=\"plotly-graph-div\" style=\"height:1080px; width:1920px;\"></div>\n",
       "            <script type=\"text/javascript\">\n",
       "                require([\"plotly\"], function(Plotly) {\n",
       "                    window.PLOTLYENV=window.PLOTLYENV || {};\n",
       "                    \n",
       "                if (document.getElementById(\"59859730-7466-4110-8add-8693c8e6ac37\")) {\n",
       "                    Plotly.newPlot(\n",
       "                        '59859730-7466-4110-8add-8693c8e6ac37',\n",
       "                        [{\"connectgaps\": true, \"line\": {\"shape\": \"linear\"}, \"mode\": \"markers+lines\", \"name\": \"BEL\", \"type\": \"scatter\", \"x\": [\"2020-01-22\", \"2020-01-23\", \"2020-01-24\", \"2020-01-25\", \"2020-01-26\", \"2020-01-27\", \"2020-01-28\", \"2020-01-29\", \"2020-01-30\", \"2020-01-31\", \"2020-02-01\", \"2020-02-02\", \"2020-02-03\", \"2020-02-04\", \"2020-02-05\", \"2020-02-06\", \"2020-02-07\", \"2020-02-08\", \"2020-02-09\", \"2020-02-10\", \"2020-02-11\", \"2020-02-12\", \"2020-02-13\", \"2020-02-14\", \"2020-02-15\", \"2020-02-16\", \"2020-02-17\", \"2020-02-18\", \"2020-02-19\", \"2020-02-20\", \"2020-02-21\", \"2020-02-22\", \"2020-02-23\", \"2020-02-24\", \"2020-02-25\", \"2020-02-26\", \"2020-02-27\", \"2020-02-28\", \"2020-02-29\", \"2020-03-01\", \"2020-03-02\", \"2020-03-03\", \"2020-03-04\", \"2020-03-05\", \"2020-03-06\", \"2020-03-07\", \"2020-03-08\", \"2020-03-09\", \"2020-03-10\", \"2020-03-11\", \"2020-03-12\", \"2020-03-13\", \"2020-03-14\", \"2020-03-15\", \"2020-03-16\", \"2020-03-17\", \"2020-03-18\", \"2020-03-19\", \"2020-03-20\", \"2020-03-21\", \"2020-03-22\", \"2020-03-23\", \"2020-03-24\", \"2020-03-25\", \"2020-03-26\", \"2020-03-27\", \"2020-03-28\", \"2020-03-29\", \"2020-03-30\", \"2020-03-31\", \"2020-04-01\", \"2020-04-02\", \"2020-04-03\", \"2020-04-04\", \"2020-04-05\", \"2020-04-06\", \"2020-04-07\", \"2020-04-08\", \"2020-04-09\", \"2020-04-10\", \"2020-04-11\", \"2020-04-12\", \"2020-04-13\"], \"y\": [0, 0, 0, 0, 0, 0, 0, 0, 0, 0, 0, 0, 0, 0, 0, 0, 0, 0, 0, 0, 0, 0, 0, 0, 0, 0, 0, 0, 0, 0, 0, 0, 0, 0, 0, 0, 0, 0, 0, 0, 0, 0, 0, 0, 0, 0, 0, 0, 0, 3, 3, 3, 4, 4, 5, 10, 14, 21, 37, 67, 75, 88, 122, 178, 220, 289, 353, 431, 513, 705, 828, 1011, 1143, 1283, 1447, 1632, 2035, 2240, 2523, 3019, 3346, 3600, 3903]}, {\"connectgaps\": true, \"line\": {\"shape\": \"linear\"}, \"mode\": \"markers+lines\", \"name\": \"CHN\", \"type\": \"scatter\", \"x\": [\"2020-01-22\", \"2020-01-23\", \"2020-01-24\", \"2020-01-25\", \"2020-01-26\", \"2020-01-27\", \"2020-01-28\", \"2020-01-29\", \"2020-01-30\", \"2020-01-31\", \"2020-02-01\", \"2020-02-02\", \"2020-02-03\", \"2020-02-04\", \"2020-02-05\", \"2020-02-06\", \"2020-02-07\", \"2020-02-08\", \"2020-02-09\", \"2020-02-10\", \"2020-02-11\", \"2020-02-12\", \"2020-02-13\", \"2020-02-14\", \"2020-02-15\", \"2020-02-16\", \"2020-02-17\", \"2020-02-18\", \"2020-02-19\", \"2020-02-20\", \"2020-02-21\", \"2020-02-22\", \"2020-02-23\", \"2020-02-24\", \"2020-02-25\", \"2020-02-26\", \"2020-02-27\", \"2020-02-28\", \"2020-02-29\", \"2020-03-01\", \"2020-03-02\", \"2020-03-03\", \"2020-03-04\", \"2020-03-05\", \"2020-03-06\", \"2020-03-07\", \"2020-03-08\", \"2020-03-09\", \"2020-03-10\", \"2020-03-11\", \"2020-03-12\", \"2020-03-13\", \"2020-03-14\", \"2020-03-15\", \"2020-03-16\", \"2020-03-17\", \"2020-03-18\", \"2020-03-19\", \"2020-03-20\", \"2020-03-21\", \"2020-03-22\", \"2020-03-23\", \"2020-03-24\", \"2020-03-25\", \"2020-03-26\", \"2020-03-27\", \"2020-03-28\", \"2020-03-29\", \"2020-03-30\", \"2020-03-31\", \"2020-04-01\", \"2020-04-02\", \"2020-04-03\", \"2020-04-04\", \"2020-04-05\", \"2020-04-06\", \"2020-04-07\", \"2020-04-08\", \"2020-04-09\", \"2020-04-10\", \"2020-04-11\", \"2020-04-12\", \"2020-04-13\"], \"y\": [17, 18, 26, 42, 56, 82, 131, 133, 171, 213, 259, 361, 425, 491, 563, 633, 718, 805, 905, 1012, 1112, 1117, 1369, 1521, 1663, 1766, 1864, 2003, 2116, 2238, 2238, 2443, 2445, 2595, 2665, 2717, 2746, 2790, 2837, 2872, 2914, 2947, 2983, 3015, 3044, 3072, 3100, 3123, 3139, 3161, 3172, 3180, 3193, 3203, 3217, 3230, 3241, 3249, 3253, 3259, 3274, 3274, 3281, 3285, 3291, 3296, 3299, 3304, 3308, 3309, 3316, 3322, 3326, 3330, 3333, 3335, 3335, 3337, 3339, 3340, 3343, 3343, 3345]}, {\"connectgaps\": true, \"line\": {\"shape\": \"linear\"}, \"mode\": \"markers+lines\", \"name\": \"ESP\", \"type\": \"scatter\", \"x\": [\"2020-01-22\", \"2020-01-23\", \"2020-01-24\", \"2020-01-25\", \"2020-01-26\", \"2020-01-27\", \"2020-01-28\", \"2020-01-29\", \"2020-01-30\", \"2020-01-31\", \"2020-02-01\", \"2020-02-02\", \"2020-02-03\", \"2020-02-04\", \"2020-02-05\", \"2020-02-06\", \"2020-02-07\", \"2020-02-08\", \"2020-02-09\", \"2020-02-10\", \"2020-02-11\", \"2020-02-12\", \"2020-02-13\", \"2020-02-14\", \"2020-02-15\", \"2020-02-16\", \"2020-02-17\", \"2020-02-18\", \"2020-02-19\", \"2020-02-20\", \"2020-02-21\", \"2020-02-22\", \"2020-02-23\", \"2020-02-24\", \"2020-02-25\", \"2020-02-26\", \"2020-02-27\", \"2020-02-28\", \"2020-02-29\", \"2020-03-01\", \"2020-03-02\", \"2020-03-03\", \"2020-03-04\", \"2020-03-05\", \"2020-03-06\", \"2020-03-07\", \"2020-03-08\", \"2020-03-09\", \"2020-03-10\", \"2020-03-11\", \"2020-03-12\", \"2020-03-13\", \"2020-03-14\", \"2020-03-15\", \"2020-03-16\", \"2020-03-17\", \"2020-03-18\", \"2020-03-19\", \"2020-03-20\", \"2020-03-21\", \"2020-03-22\", \"2020-03-23\", \"2020-03-24\", \"2020-03-25\", \"2020-03-26\", \"2020-03-27\", \"2020-03-28\", \"2020-03-29\", \"2020-03-30\", \"2020-03-31\", \"2020-04-01\", \"2020-04-02\", \"2020-04-03\", \"2020-04-04\", \"2020-04-05\", \"2020-04-06\", \"2020-04-07\", \"2020-04-08\", \"2020-04-09\", \"2020-04-10\", \"2020-04-11\", \"2020-04-12\", \"2020-04-13\"], \"y\": [0, 0, 0, 0, 0, 0, 0, 0, 0, 0, 0, 0, 0, 0, 0, 0, 0, 0, 0, 0, 0, 0, 0, 0, 0, 0, 0, 0, 0, 0, 0, 0, 0, 0, 0, 0, 0, 0, 0, 0, 0, 1, 2, 3, 5, 10, 17, 28, 35, 54, 55, 133, 195, 289, 342, 533, 623, 830, 1043, 1375, 1772, 2311, 2808, 3647, 4365, 5138, 5982, 6803, 7716, 8464, 9387, 10348, 11198, 11947, 12641, 13341, 14045, 14792, 15447, 16081, 16606, 17209, 17756]}, {\"connectgaps\": true, \"line\": {\"shape\": \"linear\"}, \"mode\": \"markers+lines\", \"name\": \"ITA\", \"type\": \"scatter\", \"x\": [\"2020-01-22\", \"2020-01-23\", \"2020-01-24\", \"2020-01-25\", \"2020-01-26\", \"2020-01-27\", \"2020-01-28\", \"2020-01-29\", \"2020-01-30\", \"2020-01-31\", \"2020-02-01\", \"2020-02-02\", \"2020-02-03\", \"2020-02-04\", \"2020-02-05\", \"2020-02-06\", \"2020-02-07\", \"2020-02-08\", \"2020-02-09\", \"2020-02-10\", \"2020-02-11\", \"2020-02-12\", \"2020-02-13\", \"2020-02-14\", \"2020-02-15\", \"2020-02-16\", \"2020-02-17\", \"2020-02-18\", \"2020-02-19\", \"2020-02-20\", \"2020-02-21\", \"2020-02-22\", \"2020-02-23\", \"2020-02-24\", \"2020-02-25\", \"2020-02-26\", \"2020-02-27\", \"2020-02-28\", \"2020-02-29\", \"2020-03-01\", \"2020-03-02\", \"2020-03-03\", \"2020-03-04\", \"2020-03-05\", \"2020-03-06\", \"2020-03-07\", \"2020-03-08\", \"2020-03-09\", \"2020-03-10\", \"2020-03-11\", \"2020-03-12\", \"2020-03-13\", \"2020-03-14\", \"2020-03-15\", \"2020-03-16\", \"2020-03-17\", \"2020-03-18\", \"2020-03-19\", \"2020-03-20\", \"2020-03-21\", \"2020-03-22\", \"2020-03-23\", \"2020-03-24\", \"2020-03-25\", \"2020-03-26\", \"2020-03-27\", \"2020-03-28\", \"2020-03-29\", \"2020-03-30\", \"2020-03-31\", \"2020-04-01\", \"2020-04-02\", \"2020-04-03\", \"2020-04-04\", \"2020-04-05\", \"2020-04-06\", \"2020-04-07\", \"2020-04-08\", \"2020-04-09\", \"2020-04-10\", \"2020-04-11\", \"2020-04-12\", \"2020-04-13\"], \"y\": [0, 0, 0, 0, 0, 0, 0, 0, 0, 0, 0, 0, 0, 0, 0, 0, 0, 0, 0, 0, 0, 0, 0, 0, 0, 0, 0, 0, 0, 0, 1, 2, 3, 7, 10, 12, 17, 21, 29, 34, 52, 79, 107, 148, 197, 233, 366, 463, 631, 827, 827, 1266, 1441, 1809, 2158, 2503, 2978, 3405, 4032, 4825, 5476, 6077, 6820, 7503, 8215, 9134, 10023, 10779, 11591, 12428, 13155, 13915, 14681, 15362, 15887, 16523, 17127, 17669, 18279, 18849, 19468, 19899, 20465]}, {\"connectgaps\": true, \"line\": {\"shape\": \"linear\"}, \"mode\": \"markers+lines\", \"name\": \"NLD\", \"type\": \"scatter\", \"x\": [\"2020-01-22\", \"2020-01-23\", \"2020-01-24\", \"2020-01-25\", \"2020-01-26\", \"2020-01-27\", \"2020-01-28\", \"2020-01-29\", \"2020-01-30\", \"2020-01-31\", \"2020-02-01\", \"2020-02-02\", \"2020-02-03\", \"2020-02-04\", \"2020-02-05\", \"2020-02-06\", \"2020-02-07\", \"2020-02-08\", \"2020-02-09\", \"2020-02-10\", \"2020-02-11\", \"2020-02-12\", \"2020-02-13\", \"2020-02-14\", \"2020-02-15\", \"2020-02-16\", \"2020-02-17\", \"2020-02-18\", \"2020-02-19\", \"2020-02-20\", \"2020-02-21\", \"2020-02-22\", \"2020-02-23\", \"2020-02-24\", \"2020-02-25\", \"2020-02-26\", \"2020-02-27\", \"2020-02-28\", \"2020-02-29\", \"2020-03-01\", \"2020-03-02\", \"2020-03-03\", \"2020-03-04\", \"2020-03-05\", \"2020-03-06\", \"2020-03-07\", \"2020-03-08\", \"2020-03-09\", \"2020-03-10\", \"2020-03-11\", \"2020-03-12\", \"2020-03-13\", \"2020-03-14\", \"2020-03-15\", \"2020-03-16\", \"2020-03-17\", \"2020-03-18\", \"2020-03-19\", \"2020-03-20\", \"2020-03-21\", \"2020-03-22\", \"2020-03-23\", \"2020-03-24\", \"2020-03-25\", \"2020-03-26\", \"2020-03-27\", \"2020-03-28\", \"2020-03-29\", \"2020-03-30\", \"2020-03-31\", \"2020-04-01\", \"2020-04-02\", \"2020-04-03\", \"2020-04-04\", \"2020-04-05\", \"2020-04-06\", \"2020-04-07\", \"2020-04-08\", \"2020-04-09\", \"2020-04-10\", \"2020-04-11\", \"2020-04-12\", \"2020-04-13\"], \"y\": [0, 0, 0, 0, 0, 0, 0, 0, 0, 0, 0, 0, 0, 0, 0, 0, 0, 0, 0, 0, 0, 0, 0, 0, 0, 0, 0, 0, 0, 0, 0, 0, 0, 0, 0, 0, 0, 0, 0, 0, 0, 0, 0, 0, 1, 1, 3, 3, 4, 5, 5, 10, 12, 20, 24, 43, 58, 77, 107, 137, 180, 214, 277, 357, 435, 547, 640, 772, 865, 1040, 1175, 1341, 1490, 1656, 1771, 1874, 2108, 2255, 2403, 2520, 2653, 2747, 2833]}, {\"connectgaps\": true, \"line\": {\"shape\": \"linear\"}, \"mode\": \"markers+lines\", \"name\": \"USA\", \"type\": \"scatter\", \"x\": [\"2020-01-22\", \"2020-01-23\", \"2020-01-24\", \"2020-01-25\", \"2020-01-26\", \"2020-01-27\", \"2020-01-28\", \"2020-01-29\", \"2020-01-30\", \"2020-01-31\", \"2020-02-01\", \"2020-02-02\", \"2020-02-03\", \"2020-02-04\", \"2020-02-05\", \"2020-02-06\", \"2020-02-07\", \"2020-02-08\", \"2020-02-09\", \"2020-02-10\", \"2020-02-11\", \"2020-02-12\", \"2020-02-13\", \"2020-02-14\", \"2020-02-15\", \"2020-02-16\", \"2020-02-17\", \"2020-02-18\", \"2020-02-19\", \"2020-02-20\", \"2020-02-21\", \"2020-02-22\", \"2020-02-23\", \"2020-02-24\", \"2020-02-25\", \"2020-02-26\", \"2020-02-27\", \"2020-02-28\", \"2020-02-29\", \"2020-03-01\", \"2020-03-02\", \"2020-03-03\", \"2020-03-04\", \"2020-03-05\", \"2020-03-06\", \"2020-03-07\", \"2020-03-08\", \"2020-03-09\", \"2020-03-10\", \"2020-03-11\", \"2020-03-12\", \"2020-03-13\", \"2020-03-14\", \"2020-03-15\", \"2020-03-16\", \"2020-03-17\", \"2020-03-18\", \"2020-03-19\", \"2020-03-20\", \"2020-03-21\", \"2020-03-22\", \"2020-03-23\", \"2020-03-24\", \"2020-03-25\", \"2020-03-26\", \"2020-03-27\", \"2020-03-28\", \"2020-03-29\", \"2020-03-30\", \"2020-03-31\", \"2020-04-01\", \"2020-04-02\", \"2020-04-03\", \"2020-04-04\", \"2020-04-05\", \"2020-04-06\", \"2020-04-07\", \"2020-04-08\", \"2020-04-09\", \"2020-04-10\", \"2020-04-11\", \"2020-04-12\", \"2020-04-13\"], \"y\": [0, 0, 0, 0, 0, 0, 0, 0, 0, 0, 0, 0, 0, 0, 0, 0, 0, 0, 0, 0, 0, 0, 0, 0, 0, 0, 0, 0, 0, 0, 0, 0, 0, 0, 0, 0, 0, 0, 1, 1, 6, 7, 11, 12, 14, 17, 21, 22, 28, 36, 40, 47, 54, 63, 85, 108, 118, 200, 244, 307, 417, 557, 706, 942, 1209, 1581, 2026, 2467, 2978, 3873, 4757, 5926, 7087, 8407, 9619, 10783, 12722, 14695, 16478, 18586, 20463, 22020, 23529]}],\n",
       "                        {\"height\": 1080, \"template\": {\"data\": {\"bar\": [{\"error_x\": {\"color\": \"#2a3f5f\"}, \"error_y\": {\"color\": \"#2a3f5f\"}, \"marker\": {\"line\": {\"color\": \"#E5ECF6\", \"width\": 0.5}}, \"type\": \"bar\"}], \"barpolar\": [{\"marker\": {\"line\": {\"color\": \"#E5ECF6\", \"width\": 0.5}}, \"type\": \"barpolar\"}], \"carpet\": [{\"aaxis\": {\"endlinecolor\": \"#2a3f5f\", \"gridcolor\": \"white\", \"linecolor\": \"white\", \"minorgridcolor\": \"white\", \"startlinecolor\": \"#2a3f5f\"}, \"baxis\": {\"endlinecolor\": \"#2a3f5f\", \"gridcolor\": \"white\", \"linecolor\": \"white\", \"minorgridcolor\": \"white\", \"startlinecolor\": \"#2a3f5f\"}, \"type\": \"carpet\"}], \"choropleth\": [{\"colorbar\": {\"outlinewidth\": 0, \"ticks\": \"\"}, \"type\": \"choropleth\"}], \"contour\": [{\"colorbar\": {\"outlinewidth\": 0, \"ticks\": \"\"}, \"colorscale\": [[0.0, \"#0d0887\"], [0.1111111111111111, \"#46039f\"], [0.2222222222222222, \"#7201a8\"], [0.3333333333333333, \"#9c179e\"], [0.4444444444444444, \"#bd3786\"], [0.5555555555555556, \"#d8576b\"], [0.6666666666666666, \"#ed7953\"], [0.7777777777777778, \"#fb9f3a\"], [0.8888888888888888, \"#fdca26\"], [1.0, \"#f0f921\"]], \"type\": \"contour\"}], \"contourcarpet\": [{\"colorbar\": {\"outlinewidth\": 0, \"ticks\": \"\"}, \"type\": \"contourcarpet\"}], \"heatmap\": [{\"colorbar\": {\"outlinewidth\": 0, \"ticks\": \"\"}, \"colorscale\": [[0.0, \"#0d0887\"], [0.1111111111111111, \"#46039f\"], [0.2222222222222222, \"#7201a8\"], [0.3333333333333333, \"#9c179e\"], [0.4444444444444444, \"#bd3786\"], [0.5555555555555556, \"#d8576b\"], [0.6666666666666666, \"#ed7953\"], [0.7777777777777778, \"#fb9f3a\"], [0.8888888888888888, \"#fdca26\"], [1.0, \"#f0f921\"]], \"type\": \"heatmap\"}], \"heatmapgl\": [{\"colorbar\": {\"outlinewidth\": 0, \"ticks\": \"\"}, \"colorscale\": [[0.0, \"#0d0887\"], [0.1111111111111111, \"#46039f\"], [0.2222222222222222, \"#7201a8\"], [0.3333333333333333, \"#9c179e\"], [0.4444444444444444, \"#bd3786\"], [0.5555555555555556, \"#d8576b\"], [0.6666666666666666, \"#ed7953\"], [0.7777777777777778, \"#fb9f3a\"], [0.8888888888888888, \"#fdca26\"], [1.0, \"#f0f921\"]], \"type\": \"heatmapgl\"}], \"histogram\": [{\"marker\": {\"colorbar\": {\"outlinewidth\": 0, \"ticks\": \"\"}}, \"type\": \"histogram\"}], \"histogram2d\": [{\"colorbar\": {\"outlinewidth\": 0, \"ticks\": \"\"}, \"colorscale\": [[0.0, \"#0d0887\"], [0.1111111111111111, \"#46039f\"], [0.2222222222222222, \"#7201a8\"], [0.3333333333333333, \"#9c179e\"], [0.4444444444444444, \"#bd3786\"], [0.5555555555555556, \"#d8576b\"], [0.6666666666666666, \"#ed7953\"], [0.7777777777777778, \"#fb9f3a\"], [0.8888888888888888, \"#fdca26\"], [1.0, \"#f0f921\"]], \"type\": \"histogram2d\"}], \"histogram2dcontour\": [{\"colorbar\": {\"outlinewidth\": 0, \"ticks\": \"\"}, \"colorscale\": [[0.0, \"#0d0887\"], [0.1111111111111111, \"#46039f\"], [0.2222222222222222, \"#7201a8\"], [0.3333333333333333, \"#9c179e\"], [0.4444444444444444, \"#bd3786\"], [0.5555555555555556, \"#d8576b\"], [0.6666666666666666, \"#ed7953\"], [0.7777777777777778, \"#fb9f3a\"], [0.8888888888888888, \"#fdca26\"], [1.0, \"#f0f921\"]], \"type\": \"histogram2dcontour\"}], \"mesh3d\": [{\"colorbar\": {\"outlinewidth\": 0, \"ticks\": \"\"}, \"type\": \"mesh3d\"}], \"parcoords\": [{\"line\": {\"colorbar\": {\"outlinewidth\": 0, \"ticks\": \"\"}}, \"type\": \"parcoords\"}], \"pie\": [{\"automargin\": true, \"type\": \"pie\"}], \"scatter\": [{\"marker\": {\"colorbar\": {\"outlinewidth\": 0, \"ticks\": \"\"}}, \"type\": \"scatter\"}], \"scatter3d\": [{\"line\": {\"colorbar\": {\"outlinewidth\": 0, \"ticks\": \"\"}}, \"marker\": {\"colorbar\": {\"outlinewidth\": 0, \"ticks\": \"\"}}, \"type\": \"scatter3d\"}], \"scattercarpet\": [{\"marker\": {\"colorbar\": {\"outlinewidth\": 0, \"ticks\": \"\"}}, \"type\": \"scattercarpet\"}], \"scattergeo\": [{\"marker\": {\"colorbar\": {\"outlinewidth\": 0, \"ticks\": \"\"}}, \"type\": \"scattergeo\"}], \"scattergl\": [{\"marker\": {\"colorbar\": {\"outlinewidth\": 0, \"ticks\": \"\"}}, \"type\": \"scattergl\"}], \"scattermapbox\": [{\"marker\": {\"colorbar\": {\"outlinewidth\": 0, \"ticks\": \"\"}}, \"type\": \"scattermapbox\"}], \"scatterpolar\": [{\"marker\": {\"colorbar\": {\"outlinewidth\": 0, \"ticks\": \"\"}}, \"type\": \"scatterpolar\"}], \"scatterpolargl\": [{\"marker\": {\"colorbar\": {\"outlinewidth\": 0, \"ticks\": \"\"}}, \"type\": \"scatterpolargl\"}], \"scatterternary\": [{\"marker\": {\"colorbar\": {\"outlinewidth\": 0, \"ticks\": \"\"}}, \"type\": \"scatterternary\"}], \"surface\": [{\"colorbar\": {\"outlinewidth\": 0, \"ticks\": \"\"}, \"colorscale\": [[0.0, \"#0d0887\"], [0.1111111111111111, \"#46039f\"], [0.2222222222222222, \"#7201a8\"], [0.3333333333333333, \"#9c179e\"], [0.4444444444444444, \"#bd3786\"], [0.5555555555555556, \"#d8576b\"], [0.6666666666666666, \"#ed7953\"], [0.7777777777777778, \"#fb9f3a\"], [0.8888888888888888, \"#fdca26\"], [1.0, \"#f0f921\"]], \"type\": \"surface\"}], \"table\": [{\"cells\": {\"fill\": {\"color\": \"#EBF0F8\"}, \"line\": {\"color\": \"white\"}}, \"header\": {\"fill\": {\"color\": \"#C8D4E3\"}, \"line\": {\"color\": \"white\"}}, \"type\": \"table\"}]}, \"layout\": {\"annotationdefaults\": {\"arrowcolor\": \"#2a3f5f\", \"arrowhead\": 0, \"arrowwidth\": 1}, \"coloraxis\": {\"colorbar\": {\"outlinewidth\": 0, \"ticks\": \"\"}}, \"colorscale\": {\"diverging\": [[0, \"#8e0152\"], [0.1, \"#c51b7d\"], [0.2, \"#de77ae\"], [0.3, \"#f1b6da\"], [0.4, \"#fde0ef\"], [0.5, \"#f7f7f7\"], [0.6, \"#e6f5d0\"], [0.7, \"#b8e186\"], [0.8, \"#7fbc41\"], [0.9, \"#4d9221\"], [1, \"#276419\"]], \"sequential\": [[0.0, \"#0d0887\"], [0.1111111111111111, \"#46039f\"], [0.2222222222222222, \"#7201a8\"], [0.3333333333333333, \"#9c179e\"], [0.4444444444444444, \"#bd3786\"], [0.5555555555555556, \"#d8576b\"], [0.6666666666666666, \"#ed7953\"], [0.7777777777777778, \"#fb9f3a\"], [0.8888888888888888, \"#fdca26\"], [1.0, \"#f0f921\"]], \"sequentialminus\": [[0.0, \"#0d0887\"], [0.1111111111111111, \"#46039f\"], [0.2222222222222222, \"#7201a8\"], [0.3333333333333333, \"#9c179e\"], [0.4444444444444444, \"#bd3786\"], [0.5555555555555556, \"#d8576b\"], [0.6666666666666666, \"#ed7953\"], [0.7777777777777778, \"#fb9f3a\"], [0.8888888888888888, \"#fdca26\"], [1.0, \"#f0f921\"]]}, \"colorway\": [\"#636efa\", \"#EF553B\", \"#00cc96\", \"#ab63fa\", \"#FFA15A\", \"#19d3f3\", \"#FF6692\", \"#B6E880\", \"#FF97FF\", \"#FECB52\"], \"font\": {\"color\": \"#2a3f5f\"}, \"geo\": {\"bgcolor\": \"white\", \"lakecolor\": \"white\", \"landcolor\": \"#E5ECF6\", \"showlakes\": true, \"showland\": true, \"subunitcolor\": \"white\"}, \"hoverlabel\": {\"align\": \"left\"}, \"hovermode\": \"closest\", \"mapbox\": {\"style\": \"light\"}, \"paper_bgcolor\": \"white\", \"plot_bgcolor\": \"#E5ECF6\", \"polar\": {\"angularaxis\": {\"gridcolor\": \"white\", \"linecolor\": \"white\", \"ticks\": \"\"}, \"bgcolor\": \"#E5ECF6\", \"radialaxis\": {\"gridcolor\": \"white\", \"linecolor\": \"white\", \"ticks\": \"\"}}, \"scene\": {\"xaxis\": {\"backgroundcolor\": \"#E5ECF6\", \"gridcolor\": \"white\", \"gridwidth\": 2, \"linecolor\": \"white\", \"showbackground\": true, \"ticks\": \"\", \"zerolinecolor\": \"white\"}, \"yaxis\": {\"backgroundcolor\": \"#E5ECF6\", \"gridcolor\": \"white\", \"gridwidth\": 2, \"linecolor\": \"white\", \"showbackground\": true, \"ticks\": \"\", \"zerolinecolor\": \"white\"}, \"zaxis\": {\"backgroundcolor\": \"#E5ECF6\", \"gridcolor\": \"white\", \"gridwidth\": 2, \"linecolor\": \"white\", \"showbackground\": true, \"ticks\": \"\", \"zerolinecolor\": \"white\"}}, \"shapedefaults\": {\"line\": {\"color\": \"#2a3f5f\"}}, \"ternary\": {\"aaxis\": {\"gridcolor\": \"white\", \"linecolor\": \"white\", \"ticks\": \"\"}, \"baxis\": {\"gridcolor\": \"white\", \"linecolor\": \"white\", \"ticks\": \"\"}, \"bgcolor\": \"#E5ECF6\", \"caxis\": {\"gridcolor\": \"white\", \"linecolor\": \"white\", \"ticks\": \"\"}}, \"title\": {\"x\": 0.05}, \"xaxis\": {\"automargin\": true, \"gridcolor\": \"white\", \"linecolor\": \"white\", \"ticks\": \"\", \"title\": {\"standoff\": 15}, \"zerolinecolor\": \"white\", \"zerolinewidth\": 2}, \"yaxis\": {\"automargin\": true, \"gridcolor\": \"white\", \"linecolor\": \"white\", \"ticks\": \"\", \"title\": {\"standoff\": 15}, \"zerolinecolor\": \"white\", \"zerolinewidth\": 2}}}, \"width\": 1920, \"yaxis\": {\"type\": \"log\"}},\n",
       "                        {\"responsive\": true}\n",
       "                    ).then(function(){\n",
       "                            \n",
       "var gd = document.getElementById('59859730-7466-4110-8add-8693c8e6ac37');\n",
       "var x = new MutationObserver(function (mutations, observer) {{\n",
       "        var display = window.getComputedStyle(gd).display;\n",
       "        if (!display || display === 'none') {{\n",
       "            console.log([gd, 'removed!']);\n",
       "            Plotly.purge(gd);\n",
       "            observer.disconnect();\n",
       "        }}\n",
       "}});\n",
       "\n",
       "// Listen for the removal of the full notebook cells\n",
       "var notebookContainer = gd.closest('#notebook-container');\n",
       "if (notebookContainer) {{\n",
       "    x.observe(notebookContainer, {childList: true});\n",
       "}}\n",
       "\n",
       "// Listen for the clearing of the current output cell\n",
       "var outputEl = gd.closest('.output');\n",
       "if (outputEl) {{\n",
       "    x.observe(outputEl, {childList: true});\n",
       "}}\n",
       "\n",
       "                        })\n",
       "                };\n",
       "                });\n",
       "            </script>\n",
       "        </div>"
      ]
     },
     "metadata": {},
     "output_type": "display_data"
    }
   ],
   "source": [
    "fig = go.Figure()\n",
    "for trace in create_country_traces(pivot_df):\n",
    "    fig.add_trace(trace)\n",
    "fig.update_layout(\n",
    "    yaxis_type=\"log\",\n",
    "    width=1920,\n",
    "    height=1080\n",
    ")\n",
    "fig.show()"
   ]
  },
  {
   "cell_type": "code",
   "execution_count": 28,
   "metadata": {},
   "outputs": [],
   "source": [
    "merged_df = pivot_df.merge(diff_df, left_index=True, right_index=True, suffixes=(\"_total\",\"_difference\"))"
   ]
  },
  {
   "cell_type": "code",
   "execution_count": 29,
   "metadata": {},
   "outputs": [
    {
     "data": {
      "text/plain": [
       "Index(['BEL_total', 'CHN_total', 'ESP_total', 'ITA_total', 'NLD_total',\n",
       "       'USA_total', 'BEL_difference', 'CHN_difference', 'ESP_difference',\n",
       "       'ITA_difference', 'NLD_difference', 'USA_difference'],\n",
       "      dtype='object', name='country')"
      ]
     },
     "execution_count": 29,
     "metadata": {},
     "output_type": "execute_result"
    }
   ],
   "source": [
    "merged_df.columns"
   ]
  },
  {
   "cell_type": "code",
   "execution_count": 30,
   "metadata": {},
   "outputs": [
    {
     "data": {
      "application/vnd.plotly.v1+json": {
       "config": {
        "plotlyServerURL": "https://plot.ly"
       },
       "data": [
        {
         "connectgaps": true,
         "line": {
          "shape": "linear"
         },
         "mode": "markers+lines",
         "name": "CHN",
         "type": "scatter",
         "x": [
          17,
          18,
          26,
          42,
          56,
          82,
          131,
          133,
          171,
          213,
          259,
          361,
          425,
          491,
          563,
          633,
          718,
          805,
          905,
          1012,
          1112,
          1117,
          1369,
          1521,
          1663,
          1766,
          1864,
          2003,
          2116,
          2238,
          2238,
          2443,
          2445,
          2595,
          2665,
          2717,
          2746,
          2790,
          2837,
          2872,
          2914,
          2947,
          2983,
          3015,
          3044,
          3072,
          3100,
          3123,
          3139,
          3161,
          3172,
          3180,
          3193,
          3203,
          3217,
          3230,
          3241,
          3249,
          3253,
          3259,
          3274,
          3274,
          3281,
          3285,
          3291,
          3296,
          3299,
          3304,
          3308,
          3309,
          3316,
          3322,
          3326,
          3330,
          3333,
          3335,
          3335,
          3337,
          3339,
          3340,
          3343,
          3343,
          3345
         ],
         "y": [
          null,
          null,
          null,
          null,
          null,
          null,
          null,
          116,
          153,
          187,
          217,
          305,
          343,
          360,
          430,
          462,
          505,
          546,
          544,
          587,
          621,
          554,
          736,
          803,
          858,
          861,
          852,
          891,
          999,
          869,
          717,
          780,
          679,
          731,
          662,
          601,
          508,
          552,
          394,
          427,
          319,
          282,
          266,
          269,
          254,
          235,
          228,
          209,
          192,
          178,
          157,
          136,
          121,
          103,
          94,
          91,
          80,
          77,
          73,
          66,
          71,
          57,
          51,
          44,
          42,
          43,
          40,
          30,
          34,
          28,
          31,
          31,
          30,
          31,
          29,
          27,
          26,
          21,
          17,
          14,
          13,
          10,
          10
         ]
        },
        {
         "connectgaps": true,
         "line": {
          "shape": "linear"
         },
         "mode": "markers+lines",
         "name": "BEL",
         "type": "scatter",
         "x": [
          0,
          0,
          0,
          0,
          0,
          0,
          0,
          0,
          0,
          0,
          0,
          0,
          0,
          0,
          0,
          0,
          0,
          0,
          0,
          0,
          0,
          0,
          0,
          0,
          0,
          0,
          0,
          0,
          0,
          0,
          0,
          0,
          0,
          0,
          0,
          0,
          0,
          0,
          0,
          0,
          0,
          0,
          0,
          0,
          0,
          0,
          0,
          0,
          0,
          3,
          3,
          3,
          4,
          4,
          5,
          10,
          14,
          21,
          37,
          67,
          75,
          88,
          122,
          178,
          220,
          289,
          353,
          431,
          513,
          705,
          828,
          1011,
          1143,
          1283,
          1447,
          1632,
          2035,
          2240,
          2523,
          3019,
          3346,
          3600,
          3903
         ],
         "y": [
          null,
          null,
          null,
          null,
          null,
          null,
          null,
          0,
          0,
          0,
          0,
          0,
          0,
          0,
          0,
          0,
          0,
          0,
          0,
          0,
          0,
          0,
          0,
          0,
          0,
          0,
          0,
          0,
          0,
          0,
          0,
          0,
          0,
          0,
          0,
          0,
          0,
          0,
          0,
          0,
          0,
          0,
          0,
          0,
          0,
          0,
          0,
          0,
          0,
          3,
          3,
          3,
          4,
          4,
          5,
          10,
          11,
          18,
          34,
          63,
          71,
          83,
          112,
          164,
          199,
          252,
          286,
          356,
          425,
          583,
          650,
          791,
          854,
          930,
          1016,
          1119,
          1330,
          1412,
          1512,
          1876,
          2063,
          2153,
          2271
         ]
        },
        {
         "connectgaps": true,
         "line": {
          "shape": "linear"
         },
         "mode": "markers+lines",
         "name": "NLD",
         "type": "scatter",
         "x": [
          0,
          0,
          0,
          0,
          0,
          0,
          0,
          0,
          0,
          0,
          0,
          0,
          0,
          0,
          0,
          0,
          0,
          0,
          0,
          0,
          0,
          0,
          0,
          0,
          0,
          0,
          0,
          0,
          0,
          0,
          0,
          0,
          0,
          0,
          0,
          0,
          0,
          0,
          0,
          0,
          0,
          0,
          0,
          0,
          1,
          1,
          3,
          3,
          4,
          5,
          5,
          10,
          12,
          20,
          24,
          43,
          58,
          77,
          107,
          137,
          180,
          214,
          277,
          357,
          435,
          547,
          640,
          772,
          865,
          1040,
          1175,
          1341,
          1490,
          1656,
          1771,
          1874,
          2108,
          2255,
          2403,
          2520,
          2653,
          2747,
          2833
         ],
         "y": [
          null,
          null,
          null,
          null,
          null,
          null,
          null,
          0,
          0,
          0,
          0,
          0,
          0,
          0,
          0,
          0,
          0,
          0,
          0,
          0,
          0,
          0,
          0,
          0,
          0,
          0,
          0,
          0,
          0,
          0,
          0,
          0,
          0,
          0,
          0,
          0,
          0,
          0,
          0,
          0,
          0,
          0,
          0,
          0,
          1,
          1,
          3,
          3,
          4,
          5,
          5,
          9,
          11,
          17,
          21,
          39,
          53,
          72,
          97,
          125,
          160,
          190,
          234,
          299,
          358,
          440,
          503,
          592,
          651,
          763,
          818,
          906,
          943,
          1016,
          999,
          1009,
          1068,
          1080,
          1062,
          1030,
          997,
          976,
          959
         ]
        },
        {
         "connectgaps": true,
         "line": {
          "shape": "linear"
         },
         "mode": "markers+lines",
         "name": "ITA",
         "type": "scatter",
         "x": [
          0,
          0,
          0,
          0,
          0,
          0,
          0,
          0,
          0,
          0,
          0,
          0,
          0,
          0,
          0,
          0,
          0,
          0,
          0,
          0,
          0,
          0,
          0,
          0,
          0,
          0,
          0,
          0,
          0,
          0,
          1,
          2,
          3,
          7,
          10,
          12,
          17,
          21,
          29,
          34,
          52,
          79,
          107,
          148,
          197,
          233,
          366,
          463,
          631,
          827,
          827,
          1266,
          1441,
          1809,
          2158,
          2503,
          2978,
          3405,
          4032,
          4825,
          5476,
          6077,
          6820,
          7503,
          8215,
          9134,
          10023,
          10779,
          11591,
          12428,
          13155,
          13915,
          14681,
          15362,
          15887,
          16523,
          17127,
          17669,
          18279,
          18849,
          19468,
          19899,
          20465
         ],
         "y": [
          null,
          null,
          null,
          null,
          null,
          null,
          null,
          0,
          0,
          0,
          0,
          0,
          0,
          0,
          0,
          0,
          0,
          0,
          0,
          0,
          0,
          0,
          0,
          0,
          0,
          0,
          0,
          0,
          0,
          0,
          1,
          2,
          3,
          7,
          10,
          12,
          17,
          20,
          27,
          31,
          45,
          69,
          95,
          131,
          176,
          204,
          332,
          411,
          552,
          720,
          679,
          1069,
          1208,
          1443,
          1695,
          1872,
          2151,
          2578,
          2766,
          3384,
          3667,
          3919,
          4317,
          4525,
          4810,
          5102,
          5198,
          5303,
          5514,
          5608,
          5652,
          5700,
          5547,
          5339,
          5108,
          4932,
          4699,
          4514,
          4364,
          4168,
          4106,
          4012,
          3942
         ]
        },
        {
         "connectgaps": true,
         "line": {
          "shape": "linear"
         },
         "mode": "markers+lines",
         "name": "ESP",
         "type": "scatter",
         "x": [
          0,
          0,
          0,
          0,
          0,
          0,
          0,
          0,
          0,
          0,
          0,
          0,
          0,
          0,
          0,
          0,
          0,
          0,
          0,
          0,
          0,
          0,
          0,
          0,
          0,
          0,
          0,
          0,
          0,
          0,
          0,
          0,
          0,
          0,
          0,
          0,
          0,
          0,
          0,
          0,
          0,
          1,
          2,
          3,
          5,
          10,
          17,
          28,
          35,
          54,
          55,
          133,
          195,
          289,
          342,
          533,
          623,
          830,
          1043,
          1375,
          1772,
          2311,
          2808,
          3647,
          4365,
          5138,
          5982,
          6803,
          7716,
          8464,
          9387,
          10348,
          11198,
          11947,
          12641,
          13341,
          14045,
          14792,
          15447,
          16081,
          16606,
          17209,
          17756
         ],
         "y": [
          null,
          null,
          null,
          null,
          null,
          null,
          null,
          0,
          0,
          0,
          0,
          0,
          0,
          0,
          0,
          0,
          0,
          0,
          0,
          0,
          0,
          0,
          0,
          0,
          0,
          0,
          0,
          0,
          0,
          0,
          0,
          0,
          0,
          0,
          0,
          0,
          0,
          0,
          0,
          0,
          0,
          1,
          2,
          3,
          5,
          10,
          17,
          28,
          34,
          52,
          52,
          128,
          185,
          272,
          314,
          498,
          569,
          775,
          910,
          1180,
          1483,
          1969,
          2275,
          3024,
          3535,
          4095,
          4607,
          5031,
          5405,
          5656,
          5740,
          5983,
          6060,
          5965,
          5838,
          5625,
          5581,
          5405,
          5099,
          4883,
          4659,
          4568,
          4415
         ]
        },
        {
         "connectgaps": true,
         "line": {
          "shape": "linear"
         },
         "mode": "markers+lines",
         "name": "USA",
         "type": "scatter",
         "x": [
          0,
          0,
          0,
          0,
          0,
          0,
          0,
          0,
          0,
          0,
          0,
          0,
          0,
          0,
          0,
          0,
          0,
          0,
          0,
          0,
          0,
          0,
          0,
          0,
          0,
          0,
          0,
          0,
          0,
          0,
          0,
          0,
          0,
          0,
          0,
          0,
          0,
          0,
          1,
          1,
          6,
          7,
          11,
          12,
          14,
          17,
          21,
          22,
          28,
          36,
          40,
          47,
          54,
          63,
          85,
          108,
          118,
          200,
          244,
          307,
          417,
          557,
          706,
          942,
          1209,
          1581,
          2026,
          2467,
          2978,
          3873,
          4757,
          5926,
          7087,
          8407,
          9619,
          10783,
          12722,
          14695,
          16478,
          18586,
          20463,
          22020,
          23529
         ],
         "y": [
          null,
          null,
          null,
          null,
          null,
          null,
          null,
          0,
          0,
          0,
          0,
          0,
          0,
          0,
          0,
          0,
          0,
          0,
          0,
          0,
          0,
          0,
          0,
          0,
          0,
          0,
          0,
          0,
          0,
          0,
          0,
          0,
          0,
          0,
          0,
          0,
          0,
          0,
          1,
          1,
          6,
          7,
          11,
          12,
          14,
          16,
          20,
          16,
          21,
          25,
          28,
          33,
          37,
          42,
          63,
          80,
          82,
          160,
          197,
          253,
          354,
          472,
          598,
          824,
          1009,
          1337,
          1719,
          2050,
          2421,
          3167,
          3815,
          4717,
          5506,
          6381,
          7152,
          7805,
          8849,
          9938,
          10552,
          11499,
          12056,
          12401,
          12746
         ]
        }
       ],
       "layout": {
        "height": 1080,
        "template": {
         "data": {
          "bar": [
           {
            "error_x": {
             "color": "#2a3f5f"
            },
            "error_y": {
             "color": "#2a3f5f"
            },
            "marker": {
             "line": {
              "color": "#E5ECF6",
              "width": 0.5
             }
            },
            "type": "bar"
           }
          ],
          "barpolar": [
           {
            "marker": {
             "line": {
              "color": "#E5ECF6",
              "width": 0.5
             }
            },
            "type": "barpolar"
           }
          ],
          "carpet": [
           {
            "aaxis": {
             "endlinecolor": "#2a3f5f",
             "gridcolor": "white",
             "linecolor": "white",
             "minorgridcolor": "white",
             "startlinecolor": "#2a3f5f"
            },
            "baxis": {
             "endlinecolor": "#2a3f5f",
             "gridcolor": "white",
             "linecolor": "white",
             "minorgridcolor": "white",
             "startlinecolor": "#2a3f5f"
            },
            "type": "carpet"
           }
          ],
          "choropleth": [
           {
            "colorbar": {
             "outlinewidth": 0,
             "ticks": ""
            },
            "type": "choropleth"
           }
          ],
          "contour": [
           {
            "colorbar": {
             "outlinewidth": 0,
             "ticks": ""
            },
            "colorscale": [
             [
              0,
              "#0d0887"
             ],
             [
              0.1111111111111111,
              "#46039f"
             ],
             [
              0.2222222222222222,
              "#7201a8"
             ],
             [
              0.3333333333333333,
              "#9c179e"
             ],
             [
              0.4444444444444444,
              "#bd3786"
             ],
             [
              0.5555555555555556,
              "#d8576b"
             ],
             [
              0.6666666666666666,
              "#ed7953"
             ],
             [
              0.7777777777777778,
              "#fb9f3a"
             ],
             [
              0.8888888888888888,
              "#fdca26"
             ],
             [
              1,
              "#f0f921"
             ]
            ],
            "type": "contour"
           }
          ],
          "contourcarpet": [
           {
            "colorbar": {
             "outlinewidth": 0,
             "ticks": ""
            },
            "type": "contourcarpet"
           }
          ],
          "heatmap": [
           {
            "colorbar": {
             "outlinewidth": 0,
             "ticks": ""
            },
            "colorscale": [
             [
              0,
              "#0d0887"
             ],
             [
              0.1111111111111111,
              "#46039f"
             ],
             [
              0.2222222222222222,
              "#7201a8"
             ],
             [
              0.3333333333333333,
              "#9c179e"
             ],
             [
              0.4444444444444444,
              "#bd3786"
             ],
             [
              0.5555555555555556,
              "#d8576b"
             ],
             [
              0.6666666666666666,
              "#ed7953"
             ],
             [
              0.7777777777777778,
              "#fb9f3a"
             ],
             [
              0.8888888888888888,
              "#fdca26"
             ],
             [
              1,
              "#f0f921"
             ]
            ],
            "type": "heatmap"
           }
          ],
          "heatmapgl": [
           {
            "colorbar": {
             "outlinewidth": 0,
             "ticks": ""
            },
            "colorscale": [
             [
              0,
              "#0d0887"
             ],
             [
              0.1111111111111111,
              "#46039f"
             ],
             [
              0.2222222222222222,
              "#7201a8"
             ],
             [
              0.3333333333333333,
              "#9c179e"
             ],
             [
              0.4444444444444444,
              "#bd3786"
             ],
             [
              0.5555555555555556,
              "#d8576b"
             ],
             [
              0.6666666666666666,
              "#ed7953"
             ],
             [
              0.7777777777777778,
              "#fb9f3a"
             ],
             [
              0.8888888888888888,
              "#fdca26"
             ],
             [
              1,
              "#f0f921"
             ]
            ],
            "type": "heatmapgl"
           }
          ],
          "histogram": [
           {
            "marker": {
             "colorbar": {
              "outlinewidth": 0,
              "ticks": ""
             }
            },
            "type": "histogram"
           }
          ],
          "histogram2d": [
           {
            "colorbar": {
             "outlinewidth": 0,
             "ticks": ""
            },
            "colorscale": [
             [
              0,
              "#0d0887"
             ],
             [
              0.1111111111111111,
              "#46039f"
             ],
             [
              0.2222222222222222,
              "#7201a8"
             ],
             [
              0.3333333333333333,
              "#9c179e"
             ],
             [
              0.4444444444444444,
              "#bd3786"
             ],
             [
              0.5555555555555556,
              "#d8576b"
             ],
             [
              0.6666666666666666,
              "#ed7953"
             ],
             [
              0.7777777777777778,
              "#fb9f3a"
             ],
             [
              0.8888888888888888,
              "#fdca26"
             ],
             [
              1,
              "#f0f921"
             ]
            ],
            "type": "histogram2d"
           }
          ],
          "histogram2dcontour": [
           {
            "colorbar": {
             "outlinewidth": 0,
             "ticks": ""
            },
            "colorscale": [
             [
              0,
              "#0d0887"
             ],
             [
              0.1111111111111111,
              "#46039f"
             ],
             [
              0.2222222222222222,
              "#7201a8"
             ],
             [
              0.3333333333333333,
              "#9c179e"
             ],
             [
              0.4444444444444444,
              "#bd3786"
             ],
             [
              0.5555555555555556,
              "#d8576b"
             ],
             [
              0.6666666666666666,
              "#ed7953"
             ],
             [
              0.7777777777777778,
              "#fb9f3a"
             ],
             [
              0.8888888888888888,
              "#fdca26"
             ],
             [
              1,
              "#f0f921"
             ]
            ],
            "type": "histogram2dcontour"
           }
          ],
          "mesh3d": [
           {
            "colorbar": {
             "outlinewidth": 0,
             "ticks": ""
            },
            "type": "mesh3d"
           }
          ],
          "parcoords": [
           {
            "line": {
             "colorbar": {
              "outlinewidth": 0,
              "ticks": ""
             }
            },
            "type": "parcoords"
           }
          ],
          "pie": [
           {
            "automargin": true,
            "type": "pie"
           }
          ],
          "scatter": [
           {
            "marker": {
             "colorbar": {
              "outlinewidth": 0,
              "ticks": ""
             }
            },
            "type": "scatter"
           }
          ],
          "scatter3d": [
           {
            "line": {
             "colorbar": {
              "outlinewidth": 0,
              "ticks": ""
             }
            },
            "marker": {
             "colorbar": {
              "outlinewidth": 0,
              "ticks": ""
             }
            },
            "type": "scatter3d"
           }
          ],
          "scattercarpet": [
           {
            "marker": {
             "colorbar": {
              "outlinewidth": 0,
              "ticks": ""
             }
            },
            "type": "scattercarpet"
           }
          ],
          "scattergeo": [
           {
            "marker": {
             "colorbar": {
              "outlinewidth": 0,
              "ticks": ""
             }
            },
            "type": "scattergeo"
           }
          ],
          "scattergl": [
           {
            "marker": {
             "colorbar": {
              "outlinewidth": 0,
              "ticks": ""
             }
            },
            "type": "scattergl"
           }
          ],
          "scattermapbox": [
           {
            "marker": {
             "colorbar": {
              "outlinewidth": 0,
              "ticks": ""
             }
            },
            "type": "scattermapbox"
           }
          ],
          "scatterpolar": [
           {
            "marker": {
             "colorbar": {
              "outlinewidth": 0,
              "ticks": ""
             }
            },
            "type": "scatterpolar"
           }
          ],
          "scatterpolargl": [
           {
            "marker": {
             "colorbar": {
              "outlinewidth": 0,
              "ticks": ""
             }
            },
            "type": "scatterpolargl"
           }
          ],
          "scatterternary": [
           {
            "marker": {
             "colorbar": {
              "outlinewidth": 0,
              "ticks": ""
             }
            },
            "type": "scatterternary"
           }
          ],
          "surface": [
           {
            "colorbar": {
             "outlinewidth": 0,
             "ticks": ""
            },
            "colorscale": [
             [
              0,
              "#0d0887"
             ],
             [
              0.1111111111111111,
              "#46039f"
             ],
             [
              0.2222222222222222,
              "#7201a8"
             ],
             [
              0.3333333333333333,
              "#9c179e"
             ],
             [
              0.4444444444444444,
              "#bd3786"
             ],
             [
              0.5555555555555556,
              "#d8576b"
             ],
             [
              0.6666666666666666,
              "#ed7953"
             ],
             [
              0.7777777777777778,
              "#fb9f3a"
             ],
             [
              0.8888888888888888,
              "#fdca26"
             ],
             [
              1,
              "#f0f921"
             ]
            ],
            "type": "surface"
           }
          ],
          "table": [
           {
            "cells": {
             "fill": {
              "color": "#EBF0F8"
             },
             "line": {
              "color": "white"
             }
            },
            "header": {
             "fill": {
              "color": "#C8D4E3"
             },
             "line": {
              "color": "white"
             }
            },
            "type": "table"
           }
          ]
         },
         "layout": {
          "annotationdefaults": {
           "arrowcolor": "#2a3f5f",
           "arrowhead": 0,
           "arrowwidth": 1
          },
          "coloraxis": {
           "colorbar": {
            "outlinewidth": 0,
            "ticks": ""
           }
          },
          "colorscale": {
           "diverging": [
            [
             0,
             "#8e0152"
            ],
            [
             0.1,
             "#c51b7d"
            ],
            [
             0.2,
             "#de77ae"
            ],
            [
             0.3,
             "#f1b6da"
            ],
            [
             0.4,
             "#fde0ef"
            ],
            [
             0.5,
             "#f7f7f7"
            ],
            [
             0.6,
             "#e6f5d0"
            ],
            [
             0.7,
             "#b8e186"
            ],
            [
             0.8,
             "#7fbc41"
            ],
            [
             0.9,
             "#4d9221"
            ],
            [
             1,
             "#276419"
            ]
           ],
           "sequential": [
            [
             0,
             "#0d0887"
            ],
            [
             0.1111111111111111,
             "#46039f"
            ],
            [
             0.2222222222222222,
             "#7201a8"
            ],
            [
             0.3333333333333333,
             "#9c179e"
            ],
            [
             0.4444444444444444,
             "#bd3786"
            ],
            [
             0.5555555555555556,
             "#d8576b"
            ],
            [
             0.6666666666666666,
             "#ed7953"
            ],
            [
             0.7777777777777778,
             "#fb9f3a"
            ],
            [
             0.8888888888888888,
             "#fdca26"
            ],
            [
             1,
             "#f0f921"
            ]
           ],
           "sequentialminus": [
            [
             0,
             "#0d0887"
            ],
            [
             0.1111111111111111,
             "#46039f"
            ],
            [
             0.2222222222222222,
             "#7201a8"
            ],
            [
             0.3333333333333333,
             "#9c179e"
            ],
            [
             0.4444444444444444,
             "#bd3786"
            ],
            [
             0.5555555555555556,
             "#d8576b"
            ],
            [
             0.6666666666666666,
             "#ed7953"
            ],
            [
             0.7777777777777778,
             "#fb9f3a"
            ],
            [
             0.8888888888888888,
             "#fdca26"
            ],
            [
             1,
             "#f0f921"
            ]
           ]
          },
          "colorway": [
           "#636efa",
           "#EF553B",
           "#00cc96",
           "#ab63fa",
           "#FFA15A",
           "#19d3f3",
           "#FF6692",
           "#B6E880",
           "#FF97FF",
           "#FECB52"
          ],
          "font": {
           "color": "#2a3f5f"
          },
          "geo": {
           "bgcolor": "white",
           "lakecolor": "white",
           "landcolor": "#E5ECF6",
           "showlakes": true,
           "showland": true,
           "subunitcolor": "white"
          },
          "hoverlabel": {
           "align": "left"
          },
          "hovermode": "closest",
          "mapbox": {
           "style": "light"
          },
          "paper_bgcolor": "white",
          "plot_bgcolor": "#E5ECF6",
          "polar": {
           "angularaxis": {
            "gridcolor": "white",
            "linecolor": "white",
            "ticks": ""
           },
           "bgcolor": "#E5ECF6",
           "radialaxis": {
            "gridcolor": "white",
            "linecolor": "white",
            "ticks": ""
           }
          },
          "scene": {
           "xaxis": {
            "backgroundcolor": "#E5ECF6",
            "gridcolor": "white",
            "gridwidth": 2,
            "linecolor": "white",
            "showbackground": true,
            "ticks": "",
            "zerolinecolor": "white"
           },
           "yaxis": {
            "backgroundcolor": "#E5ECF6",
            "gridcolor": "white",
            "gridwidth": 2,
            "linecolor": "white",
            "showbackground": true,
            "ticks": "",
            "zerolinecolor": "white"
           },
           "zaxis": {
            "backgroundcolor": "#E5ECF6",
            "gridcolor": "white",
            "gridwidth": 2,
            "linecolor": "white",
            "showbackground": true,
            "ticks": "",
            "zerolinecolor": "white"
           }
          },
          "shapedefaults": {
           "line": {
            "color": "#2a3f5f"
           }
          },
          "ternary": {
           "aaxis": {
            "gridcolor": "white",
            "linecolor": "white",
            "ticks": ""
           },
           "baxis": {
            "gridcolor": "white",
            "linecolor": "white",
            "ticks": ""
           },
           "bgcolor": "#E5ECF6",
           "caxis": {
            "gridcolor": "white",
            "linecolor": "white",
            "ticks": ""
           }
          },
          "title": {
           "x": 0.05
          },
          "xaxis": {
           "automargin": true,
           "gridcolor": "white",
           "linecolor": "white",
           "ticks": "",
           "title": {
            "standoff": 15
           },
           "zerolinecolor": "white",
           "zerolinewidth": 2
          },
          "yaxis": {
           "automargin": true,
           "gridcolor": "white",
           "linecolor": "white",
           "ticks": "",
           "title": {
            "standoff": 15
           },
           "zerolinecolor": "white",
           "zerolinewidth": 2
          }
         }
        },
        "width": 1920,
        "xaxis": {
         "title": {
          "text": "Total cases (log scale)"
         },
         "type": "log"
        },
        "yaxis": {
         "title": {
          "text": "New cases in last week (log scale)"
         },
         "type": "log"
        }
       }
      },
      "text/html": [
       "<div>\n",
       "        \n",
       "        \n",
       "            <div id=\"1e65cfc5-0d10-4f25-8e1b-edc849830772\" class=\"plotly-graph-div\" style=\"height:1080px; width:1920px;\"></div>\n",
       "            <script type=\"text/javascript\">\n",
       "                require([\"plotly\"], function(Plotly) {\n",
       "                    window.PLOTLYENV=window.PLOTLYENV || {};\n",
       "                    \n",
       "                if (document.getElementById(\"1e65cfc5-0d10-4f25-8e1b-edc849830772\")) {\n",
       "                    Plotly.newPlot(\n",
       "                        '1e65cfc5-0d10-4f25-8e1b-edc849830772',\n",
       "                        [{\"connectgaps\": true, \"line\": {\"shape\": \"linear\"}, \"mode\": \"markers+lines\", \"name\": \"CHN\", \"type\": \"scatter\", \"x\": [17, 18, 26, 42, 56, 82, 131, 133, 171, 213, 259, 361, 425, 491, 563, 633, 718, 805, 905, 1012, 1112, 1117, 1369, 1521, 1663, 1766, 1864, 2003, 2116, 2238, 2238, 2443, 2445, 2595, 2665, 2717, 2746, 2790, 2837, 2872, 2914, 2947, 2983, 3015, 3044, 3072, 3100, 3123, 3139, 3161, 3172, 3180, 3193, 3203, 3217, 3230, 3241, 3249, 3253, 3259, 3274, 3274, 3281, 3285, 3291, 3296, 3299, 3304, 3308, 3309, 3316, 3322, 3326, 3330, 3333, 3335, 3335, 3337, 3339, 3340, 3343, 3343, 3345], \"y\": [null, null, null, null, null, null, null, 116.0, 153.0, 187.0, 217.0, 305.0, 343.0, 360.0, 430.0, 462.0, 505.0, 546.0, 544.0, 587.0, 621.0, 554.0, 736.0, 803.0, 858.0, 861.0, 852.0, 891.0, 999.0, 869.0, 717.0, 780.0, 679.0, 731.0, 662.0, 601.0, 508.0, 552.0, 394.0, 427.0, 319.0, 282.0, 266.0, 269.0, 254.0, 235.0, 228.0, 209.0, 192.0, 178.0, 157.0, 136.0, 121.0, 103.0, 94.0, 91.0, 80.0, 77.0, 73.0, 66.0, 71.0, 57.0, 51.0, 44.0, 42.0, 43.0, 40.0, 30.0, 34.0, 28.0, 31.0, 31.0, 30.0, 31.0, 29.0, 27.0, 26.0, 21.0, 17.0, 14.0, 13.0, 10.0, 10.0]}, {\"connectgaps\": true, \"line\": {\"shape\": \"linear\"}, \"mode\": \"markers+lines\", \"name\": \"BEL\", \"type\": \"scatter\", \"x\": [0, 0, 0, 0, 0, 0, 0, 0, 0, 0, 0, 0, 0, 0, 0, 0, 0, 0, 0, 0, 0, 0, 0, 0, 0, 0, 0, 0, 0, 0, 0, 0, 0, 0, 0, 0, 0, 0, 0, 0, 0, 0, 0, 0, 0, 0, 0, 0, 0, 3, 3, 3, 4, 4, 5, 10, 14, 21, 37, 67, 75, 88, 122, 178, 220, 289, 353, 431, 513, 705, 828, 1011, 1143, 1283, 1447, 1632, 2035, 2240, 2523, 3019, 3346, 3600, 3903], \"y\": [null, null, null, null, null, null, null, 0.0, 0.0, 0.0, 0.0, 0.0, 0.0, 0.0, 0.0, 0.0, 0.0, 0.0, 0.0, 0.0, 0.0, 0.0, 0.0, 0.0, 0.0, 0.0, 0.0, 0.0, 0.0, 0.0, 0.0, 0.0, 0.0, 0.0, 0.0, 0.0, 0.0, 0.0, 0.0, 0.0, 0.0, 0.0, 0.0, 0.0, 0.0, 0.0, 0.0, 0.0, 0.0, 3.0, 3.0, 3.0, 4.0, 4.0, 5.0, 10.0, 11.0, 18.0, 34.0, 63.0, 71.0, 83.0, 112.0, 164.0, 199.0, 252.0, 286.0, 356.0, 425.0, 583.0, 650.0, 791.0, 854.0, 930.0, 1016.0, 1119.0, 1330.0, 1412.0, 1512.0, 1876.0, 2063.0, 2153.0, 2271.0]}, {\"connectgaps\": true, \"line\": {\"shape\": \"linear\"}, \"mode\": \"markers+lines\", \"name\": \"NLD\", \"type\": \"scatter\", \"x\": [0, 0, 0, 0, 0, 0, 0, 0, 0, 0, 0, 0, 0, 0, 0, 0, 0, 0, 0, 0, 0, 0, 0, 0, 0, 0, 0, 0, 0, 0, 0, 0, 0, 0, 0, 0, 0, 0, 0, 0, 0, 0, 0, 0, 1, 1, 3, 3, 4, 5, 5, 10, 12, 20, 24, 43, 58, 77, 107, 137, 180, 214, 277, 357, 435, 547, 640, 772, 865, 1040, 1175, 1341, 1490, 1656, 1771, 1874, 2108, 2255, 2403, 2520, 2653, 2747, 2833], \"y\": [null, null, null, null, null, null, null, 0.0, 0.0, 0.0, 0.0, 0.0, 0.0, 0.0, 0.0, 0.0, 0.0, 0.0, 0.0, 0.0, 0.0, 0.0, 0.0, 0.0, 0.0, 0.0, 0.0, 0.0, 0.0, 0.0, 0.0, 0.0, 0.0, 0.0, 0.0, 0.0, 0.0, 0.0, 0.0, 0.0, 0.0, 0.0, 0.0, 0.0, 1.0, 1.0, 3.0, 3.0, 4.0, 5.0, 5.0, 9.0, 11.0, 17.0, 21.0, 39.0, 53.0, 72.0, 97.0, 125.0, 160.0, 190.0, 234.0, 299.0, 358.0, 440.0, 503.0, 592.0, 651.0, 763.0, 818.0, 906.0, 943.0, 1016.0, 999.0, 1009.0, 1068.0, 1080.0, 1062.0, 1030.0, 997.0, 976.0, 959.0]}, {\"connectgaps\": true, \"line\": {\"shape\": \"linear\"}, \"mode\": \"markers+lines\", \"name\": \"ITA\", \"type\": \"scatter\", \"x\": [0, 0, 0, 0, 0, 0, 0, 0, 0, 0, 0, 0, 0, 0, 0, 0, 0, 0, 0, 0, 0, 0, 0, 0, 0, 0, 0, 0, 0, 0, 1, 2, 3, 7, 10, 12, 17, 21, 29, 34, 52, 79, 107, 148, 197, 233, 366, 463, 631, 827, 827, 1266, 1441, 1809, 2158, 2503, 2978, 3405, 4032, 4825, 5476, 6077, 6820, 7503, 8215, 9134, 10023, 10779, 11591, 12428, 13155, 13915, 14681, 15362, 15887, 16523, 17127, 17669, 18279, 18849, 19468, 19899, 20465], \"y\": [null, null, null, null, null, null, null, 0.0, 0.0, 0.0, 0.0, 0.0, 0.0, 0.0, 0.0, 0.0, 0.0, 0.0, 0.0, 0.0, 0.0, 0.0, 0.0, 0.0, 0.0, 0.0, 0.0, 0.0, 0.0, 0.0, 1.0, 2.0, 3.0, 7.0, 10.0, 12.0, 17.0, 20.0, 27.0, 31.0, 45.0, 69.0, 95.0, 131.0, 176.0, 204.0, 332.0, 411.0, 552.0, 720.0, 679.0, 1069.0, 1208.0, 1443.0, 1695.0, 1872.0, 2151.0, 2578.0, 2766.0, 3384.0, 3667.0, 3919.0, 4317.0, 4525.0, 4810.0, 5102.0, 5198.0, 5303.0, 5514.0, 5608.0, 5652.0, 5700.0, 5547.0, 5339.0, 5108.0, 4932.0, 4699.0, 4514.0, 4364.0, 4168.0, 4106.0, 4012.0, 3942.0]}, {\"connectgaps\": true, \"line\": {\"shape\": \"linear\"}, \"mode\": \"markers+lines\", \"name\": \"ESP\", \"type\": \"scatter\", \"x\": [0, 0, 0, 0, 0, 0, 0, 0, 0, 0, 0, 0, 0, 0, 0, 0, 0, 0, 0, 0, 0, 0, 0, 0, 0, 0, 0, 0, 0, 0, 0, 0, 0, 0, 0, 0, 0, 0, 0, 0, 0, 1, 2, 3, 5, 10, 17, 28, 35, 54, 55, 133, 195, 289, 342, 533, 623, 830, 1043, 1375, 1772, 2311, 2808, 3647, 4365, 5138, 5982, 6803, 7716, 8464, 9387, 10348, 11198, 11947, 12641, 13341, 14045, 14792, 15447, 16081, 16606, 17209, 17756], \"y\": [null, null, null, null, null, null, null, 0.0, 0.0, 0.0, 0.0, 0.0, 0.0, 0.0, 0.0, 0.0, 0.0, 0.0, 0.0, 0.0, 0.0, 0.0, 0.0, 0.0, 0.0, 0.0, 0.0, 0.0, 0.0, 0.0, 0.0, 0.0, 0.0, 0.0, 0.0, 0.0, 0.0, 0.0, 0.0, 0.0, 0.0, 1.0, 2.0, 3.0, 5.0, 10.0, 17.0, 28.0, 34.0, 52.0, 52.0, 128.0, 185.0, 272.0, 314.0, 498.0, 569.0, 775.0, 910.0, 1180.0, 1483.0, 1969.0, 2275.0, 3024.0, 3535.0, 4095.0, 4607.0, 5031.0, 5405.0, 5656.0, 5740.0, 5983.0, 6060.0, 5965.0, 5838.0, 5625.0, 5581.0, 5405.0, 5099.0, 4883.0, 4659.0, 4568.0, 4415.0]}, {\"connectgaps\": true, \"line\": {\"shape\": \"linear\"}, \"mode\": \"markers+lines\", \"name\": \"USA\", \"type\": \"scatter\", \"x\": [0, 0, 0, 0, 0, 0, 0, 0, 0, 0, 0, 0, 0, 0, 0, 0, 0, 0, 0, 0, 0, 0, 0, 0, 0, 0, 0, 0, 0, 0, 0, 0, 0, 0, 0, 0, 0, 0, 1, 1, 6, 7, 11, 12, 14, 17, 21, 22, 28, 36, 40, 47, 54, 63, 85, 108, 118, 200, 244, 307, 417, 557, 706, 942, 1209, 1581, 2026, 2467, 2978, 3873, 4757, 5926, 7087, 8407, 9619, 10783, 12722, 14695, 16478, 18586, 20463, 22020, 23529], \"y\": [null, null, null, null, null, null, null, 0.0, 0.0, 0.0, 0.0, 0.0, 0.0, 0.0, 0.0, 0.0, 0.0, 0.0, 0.0, 0.0, 0.0, 0.0, 0.0, 0.0, 0.0, 0.0, 0.0, 0.0, 0.0, 0.0, 0.0, 0.0, 0.0, 0.0, 0.0, 0.0, 0.0, 0.0, 1.0, 1.0, 6.0, 7.0, 11.0, 12.0, 14.0, 16.0, 20.0, 16.0, 21.0, 25.0, 28.0, 33.0, 37.0, 42.0, 63.0, 80.0, 82.0, 160.0, 197.0, 253.0, 354.0, 472.0, 598.0, 824.0, 1009.0, 1337.0, 1719.0, 2050.0, 2421.0, 3167.0, 3815.0, 4717.0, 5506.0, 6381.0, 7152.0, 7805.0, 8849.0, 9938.0, 10552.0, 11499.0, 12056.0, 12401.0, 12746.0]}],\n",
       "                        {\"height\": 1080, \"template\": {\"data\": {\"bar\": [{\"error_x\": {\"color\": \"#2a3f5f\"}, \"error_y\": {\"color\": \"#2a3f5f\"}, \"marker\": {\"line\": {\"color\": \"#E5ECF6\", \"width\": 0.5}}, \"type\": \"bar\"}], \"barpolar\": [{\"marker\": {\"line\": {\"color\": \"#E5ECF6\", \"width\": 0.5}}, \"type\": \"barpolar\"}], \"carpet\": [{\"aaxis\": {\"endlinecolor\": \"#2a3f5f\", \"gridcolor\": \"white\", \"linecolor\": \"white\", \"minorgridcolor\": \"white\", \"startlinecolor\": \"#2a3f5f\"}, \"baxis\": {\"endlinecolor\": \"#2a3f5f\", \"gridcolor\": \"white\", \"linecolor\": \"white\", \"minorgridcolor\": \"white\", \"startlinecolor\": \"#2a3f5f\"}, \"type\": \"carpet\"}], \"choropleth\": [{\"colorbar\": {\"outlinewidth\": 0, \"ticks\": \"\"}, \"type\": \"choropleth\"}], \"contour\": [{\"colorbar\": {\"outlinewidth\": 0, \"ticks\": \"\"}, \"colorscale\": [[0.0, \"#0d0887\"], [0.1111111111111111, \"#46039f\"], [0.2222222222222222, \"#7201a8\"], [0.3333333333333333, \"#9c179e\"], [0.4444444444444444, \"#bd3786\"], [0.5555555555555556, \"#d8576b\"], [0.6666666666666666, \"#ed7953\"], [0.7777777777777778, \"#fb9f3a\"], [0.8888888888888888, \"#fdca26\"], [1.0, \"#f0f921\"]], \"type\": \"contour\"}], \"contourcarpet\": [{\"colorbar\": {\"outlinewidth\": 0, \"ticks\": \"\"}, \"type\": \"contourcarpet\"}], \"heatmap\": [{\"colorbar\": {\"outlinewidth\": 0, \"ticks\": \"\"}, \"colorscale\": [[0.0, \"#0d0887\"], [0.1111111111111111, \"#46039f\"], [0.2222222222222222, \"#7201a8\"], [0.3333333333333333, \"#9c179e\"], [0.4444444444444444, \"#bd3786\"], [0.5555555555555556, \"#d8576b\"], [0.6666666666666666, \"#ed7953\"], [0.7777777777777778, \"#fb9f3a\"], [0.8888888888888888, \"#fdca26\"], [1.0, \"#f0f921\"]], \"type\": \"heatmap\"}], \"heatmapgl\": [{\"colorbar\": {\"outlinewidth\": 0, \"ticks\": \"\"}, \"colorscale\": [[0.0, \"#0d0887\"], [0.1111111111111111, \"#46039f\"], [0.2222222222222222, \"#7201a8\"], [0.3333333333333333, \"#9c179e\"], [0.4444444444444444, \"#bd3786\"], [0.5555555555555556, \"#d8576b\"], [0.6666666666666666, \"#ed7953\"], [0.7777777777777778, \"#fb9f3a\"], [0.8888888888888888, \"#fdca26\"], [1.0, \"#f0f921\"]], \"type\": \"heatmapgl\"}], \"histogram\": [{\"marker\": {\"colorbar\": {\"outlinewidth\": 0, \"ticks\": \"\"}}, \"type\": \"histogram\"}], \"histogram2d\": [{\"colorbar\": {\"outlinewidth\": 0, \"ticks\": \"\"}, \"colorscale\": [[0.0, \"#0d0887\"], [0.1111111111111111, \"#46039f\"], [0.2222222222222222, \"#7201a8\"], [0.3333333333333333, \"#9c179e\"], [0.4444444444444444, \"#bd3786\"], [0.5555555555555556, \"#d8576b\"], [0.6666666666666666, \"#ed7953\"], [0.7777777777777778, \"#fb9f3a\"], [0.8888888888888888, \"#fdca26\"], [1.0, \"#f0f921\"]], \"type\": \"histogram2d\"}], \"histogram2dcontour\": [{\"colorbar\": {\"outlinewidth\": 0, \"ticks\": \"\"}, \"colorscale\": [[0.0, \"#0d0887\"], [0.1111111111111111, \"#46039f\"], [0.2222222222222222, \"#7201a8\"], [0.3333333333333333, \"#9c179e\"], [0.4444444444444444, \"#bd3786\"], [0.5555555555555556, \"#d8576b\"], [0.6666666666666666, \"#ed7953\"], [0.7777777777777778, \"#fb9f3a\"], [0.8888888888888888, \"#fdca26\"], [1.0, \"#f0f921\"]], \"type\": \"histogram2dcontour\"}], \"mesh3d\": [{\"colorbar\": {\"outlinewidth\": 0, \"ticks\": \"\"}, \"type\": \"mesh3d\"}], \"parcoords\": [{\"line\": {\"colorbar\": {\"outlinewidth\": 0, \"ticks\": \"\"}}, \"type\": \"parcoords\"}], \"pie\": [{\"automargin\": true, \"type\": \"pie\"}], \"scatter\": [{\"marker\": {\"colorbar\": {\"outlinewidth\": 0, \"ticks\": \"\"}}, \"type\": \"scatter\"}], \"scatter3d\": [{\"line\": {\"colorbar\": {\"outlinewidth\": 0, \"ticks\": \"\"}}, \"marker\": {\"colorbar\": {\"outlinewidth\": 0, \"ticks\": \"\"}}, \"type\": \"scatter3d\"}], \"scattercarpet\": [{\"marker\": {\"colorbar\": {\"outlinewidth\": 0, \"ticks\": \"\"}}, \"type\": \"scattercarpet\"}], \"scattergeo\": [{\"marker\": {\"colorbar\": {\"outlinewidth\": 0, \"ticks\": \"\"}}, \"type\": \"scattergeo\"}], \"scattergl\": [{\"marker\": {\"colorbar\": {\"outlinewidth\": 0, \"ticks\": \"\"}}, \"type\": \"scattergl\"}], \"scattermapbox\": [{\"marker\": {\"colorbar\": {\"outlinewidth\": 0, \"ticks\": \"\"}}, \"type\": \"scattermapbox\"}], \"scatterpolar\": [{\"marker\": {\"colorbar\": {\"outlinewidth\": 0, \"ticks\": \"\"}}, \"type\": \"scatterpolar\"}], \"scatterpolargl\": [{\"marker\": {\"colorbar\": {\"outlinewidth\": 0, \"ticks\": \"\"}}, \"type\": \"scatterpolargl\"}], \"scatterternary\": [{\"marker\": {\"colorbar\": {\"outlinewidth\": 0, \"ticks\": \"\"}}, \"type\": \"scatterternary\"}], \"surface\": [{\"colorbar\": {\"outlinewidth\": 0, \"ticks\": \"\"}, \"colorscale\": [[0.0, \"#0d0887\"], [0.1111111111111111, \"#46039f\"], [0.2222222222222222, \"#7201a8\"], [0.3333333333333333, \"#9c179e\"], [0.4444444444444444, \"#bd3786\"], [0.5555555555555556, \"#d8576b\"], [0.6666666666666666, \"#ed7953\"], [0.7777777777777778, \"#fb9f3a\"], [0.8888888888888888, \"#fdca26\"], [1.0, \"#f0f921\"]], \"type\": \"surface\"}], \"table\": [{\"cells\": {\"fill\": {\"color\": \"#EBF0F8\"}, \"line\": {\"color\": \"white\"}}, \"header\": {\"fill\": {\"color\": \"#C8D4E3\"}, \"line\": {\"color\": \"white\"}}, \"type\": \"table\"}]}, \"layout\": {\"annotationdefaults\": {\"arrowcolor\": \"#2a3f5f\", \"arrowhead\": 0, \"arrowwidth\": 1}, \"coloraxis\": {\"colorbar\": {\"outlinewidth\": 0, \"ticks\": \"\"}}, \"colorscale\": {\"diverging\": [[0, \"#8e0152\"], [0.1, \"#c51b7d\"], [0.2, \"#de77ae\"], [0.3, \"#f1b6da\"], [0.4, \"#fde0ef\"], [0.5, \"#f7f7f7\"], [0.6, \"#e6f5d0\"], [0.7, \"#b8e186\"], [0.8, \"#7fbc41\"], [0.9, \"#4d9221\"], [1, \"#276419\"]], \"sequential\": [[0.0, \"#0d0887\"], [0.1111111111111111, \"#46039f\"], [0.2222222222222222, \"#7201a8\"], [0.3333333333333333, \"#9c179e\"], [0.4444444444444444, \"#bd3786\"], [0.5555555555555556, \"#d8576b\"], [0.6666666666666666, \"#ed7953\"], [0.7777777777777778, \"#fb9f3a\"], [0.8888888888888888, \"#fdca26\"], [1.0, \"#f0f921\"]], \"sequentialminus\": [[0.0, \"#0d0887\"], [0.1111111111111111, \"#46039f\"], [0.2222222222222222, \"#7201a8\"], [0.3333333333333333, \"#9c179e\"], [0.4444444444444444, \"#bd3786\"], [0.5555555555555556, \"#d8576b\"], [0.6666666666666666, \"#ed7953\"], [0.7777777777777778, \"#fb9f3a\"], [0.8888888888888888, \"#fdca26\"], [1.0, \"#f0f921\"]]}, \"colorway\": [\"#636efa\", \"#EF553B\", \"#00cc96\", \"#ab63fa\", \"#FFA15A\", \"#19d3f3\", \"#FF6692\", \"#B6E880\", \"#FF97FF\", \"#FECB52\"], \"font\": {\"color\": \"#2a3f5f\"}, \"geo\": {\"bgcolor\": \"white\", \"lakecolor\": \"white\", \"landcolor\": \"#E5ECF6\", \"showlakes\": true, \"showland\": true, \"subunitcolor\": \"white\"}, \"hoverlabel\": {\"align\": \"left\"}, \"hovermode\": \"closest\", \"mapbox\": {\"style\": \"light\"}, \"paper_bgcolor\": \"white\", \"plot_bgcolor\": \"#E5ECF6\", \"polar\": {\"angularaxis\": {\"gridcolor\": \"white\", \"linecolor\": \"white\", \"ticks\": \"\"}, \"bgcolor\": \"#E5ECF6\", \"radialaxis\": {\"gridcolor\": \"white\", \"linecolor\": \"white\", \"ticks\": \"\"}}, \"scene\": {\"xaxis\": {\"backgroundcolor\": \"#E5ECF6\", \"gridcolor\": \"white\", \"gridwidth\": 2, \"linecolor\": \"white\", \"showbackground\": true, \"ticks\": \"\", \"zerolinecolor\": \"white\"}, \"yaxis\": {\"backgroundcolor\": \"#E5ECF6\", \"gridcolor\": \"white\", \"gridwidth\": 2, \"linecolor\": \"white\", \"showbackground\": true, \"ticks\": \"\", \"zerolinecolor\": \"white\"}, \"zaxis\": {\"backgroundcolor\": \"#E5ECF6\", \"gridcolor\": \"white\", \"gridwidth\": 2, \"linecolor\": \"white\", \"showbackground\": true, \"ticks\": \"\", \"zerolinecolor\": \"white\"}}, \"shapedefaults\": {\"line\": {\"color\": \"#2a3f5f\"}}, \"ternary\": {\"aaxis\": {\"gridcolor\": \"white\", \"linecolor\": \"white\", \"ticks\": \"\"}, \"baxis\": {\"gridcolor\": \"white\", \"linecolor\": \"white\", \"ticks\": \"\"}, \"bgcolor\": \"#E5ECF6\", \"caxis\": {\"gridcolor\": \"white\", \"linecolor\": \"white\", \"ticks\": \"\"}}, \"title\": {\"x\": 0.05}, \"xaxis\": {\"automargin\": true, \"gridcolor\": \"white\", \"linecolor\": \"white\", \"ticks\": \"\", \"title\": {\"standoff\": 15}, \"zerolinecolor\": \"white\", \"zerolinewidth\": 2}, \"yaxis\": {\"automargin\": true, \"gridcolor\": \"white\", \"linecolor\": \"white\", \"ticks\": \"\", \"title\": {\"standoff\": 15}, \"zerolinecolor\": \"white\", \"zerolinewidth\": 2}}}, \"width\": 1920, \"xaxis\": {\"title\": {\"text\": \"Total cases (log scale)\"}, \"type\": \"log\"}, \"yaxis\": {\"title\": {\"text\": \"New cases in last week (log scale)\"}, \"type\": \"log\"}},\n",
       "                        {\"responsive\": true}\n",
       "                    ).then(function(){\n",
       "                            \n",
       "var gd = document.getElementById('1e65cfc5-0d10-4f25-8e1b-edc849830772');\n",
       "var x = new MutationObserver(function (mutations, observer) {{\n",
       "        var display = window.getComputedStyle(gd).display;\n",
       "        if (!display || display === 'none') {{\n",
       "            console.log([gd, 'removed!']);\n",
       "            Plotly.purge(gd);\n",
       "            observer.disconnect();\n",
       "        }}\n",
       "}});\n",
       "\n",
       "// Listen for the removal of the full notebook cells\n",
       "var notebookContainer = gd.closest('#notebook-container');\n",
       "if (notebookContainer) {{\n",
       "    x.observe(notebookContainer, {childList: true});\n",
       "}}\n",
       "\n",
       "// Listen for the clearing of the current output cell\n",
       "var outputEl = gd.closest('.output');\n",
       "if (outputEl) {{\n",
       "    x.observe(outputEl, {childList: true});\n",
       "}}\n",
       "\n",
       "                        })\n",
       "                };\n",
       "                });\n",
       "            </script>\n",
       "        </div>"
      ]
     },
     "metadata": {},
     "output_type": "display_data"
    }
   ],
   "source": [
    "fig = go.Figure()\n",
    "for country_code in list_of_countries:\n",
    "    col_total = f\"{country_code}_total\"\n",
    "    col_difference = f\"{country_code}_difference\"\n",
    "    fig.add_trace(go.Scatter(x=merged_df[col_total], y=merged_df[col_difference],\n",
    "                             name = country_code,\n",
    "                             mode = 'markers+lines',\n",
    "                             line=dict(shape='linear'),\n",
    "                             connectgaps=True\n",
    "                )\n",
    "    )\n",
    "fig.update_layout(\n",
    "    yaxis_title=\"New cases in last week (log scale)\",\n",
    "    xaxis_title=\"Total cases (log scale)\",\n",
    "    xaxis_type=\"log\",\n",
    "    yaxis_type=\"log\",\n",
    "    width=1920,\n",
    "    height=1080\n",
    ")\n",
    "fig.show()"
   ]
  },
  {
   "cell_type": "code",
   "execution_count": null,
   "metadata": {},
   "outputs": [],
   "source": [
    "IEX_TOKEN = \"sk_83e91e7db6df4c5faedd8784559322df\""
   ]
  },
  {
   "cell_type": "code",
   "execution_count": 51,
   "metadata": {},
   "outputs": [],
   "source": [
    "class IEXSDK():\n",
    "    def __init__(self, host, token=None):\n",
    "        self.host = host\n",
    "        self.token = token\n",
    "        self.conn = http.client.HTTPSConnection(self.host)\n",
    "    \n",
    "    def get(self, endpoint):\n",
    "        payload = ''\n",
    "        headers = {}\n",
    "        self.conn.request(\"GET\", f\"{endpoint}?token={self.token}\")\n",
    "        try:\n",
    "            res = self.conn.getresponse().read()\n",
    "            return json.loads(res)\n",
    "        except http.client.HTTPException:\n",
    "            return {}        \n",
    "    \n",
    "    def get_stock_for_symbol_and_date(self, symbol, date):\n",
    "        endpoint = f\"/stable/stock/{symbol}/chart/date/{date}\"\n",
    "        return self.get(endpoint)\n",
    "    \n",
    "    def get_stock_for_symbol(self, symbol, start_date, end_date, date_format=\"%Y%m%d\"):\n",
    "        start_date = datetime.strptime(start_date, date_format)\n",
    "        end_date = datetime.strptime(end_date, date_format)\n",
    "        \n",
    "        records = []\n",
    "        while start_date <= end_date:\n",
    "            start_date_str = start_date.strftime(date_format)\n",
    "            records.extend(self.get_stock_for_symbol_and_date(symbol, start_date_str))            \n",
    "            start_date += timedelta(days = 1)\n",
    "        \n",
    "        return pd.DataFrame(records)"
   ]
  },
  {
   "cell_type": "code",
   "execution_count": 52,
   "metadata": {},
   "outputs": [],
   "source": [
    "client = IEXSDK(\"cloud.iexapis.com\", token=IEX_TOKEN)"
   ]
  },
  {
   "cell_type": "code",
   "execution_count": 85,
   "metadata": {},
   "outputs": [],
   "source": [
    "df = client.get_stock_for_symbol(\"AAPL\",\"20200401\",\"20200415\")"
   ]
  },
  {
   "cell_type": "code",
   "execution_count": 86,
   "metadata": {},
   "outputs": [],
   "source": [
    "def merge_date_time(row):\n",
    "    return datetime.strptime(f\"{row.date} {row.minute}\",\"%Y-%m-%d %H:%M\")\n",
    "df[\"datetime\"] = df.apply(merge_date_time, axis=1)"
   ]
  },
  {
   "cell_type": "code",
   "execution_count": 102,
   "metadata": {},
   "outputs": [],
   "source": [
    "average_df = df.groupby(by=\"date\").agg({\"average\": [np.mean, np.std]})\n",
    "average_df = average_df.average"
   ]
  },
  {
   "cell_type": "code",
   "execution_count": 112,
   "metadata": {},
   "outputs": [
    {
     "data": {
      "text/plain": [
       "date\n",
       "2020-04-02    241.171801\n",
       "2020-04-03    241.649964\n",
       "2020-04-06    254.435754\n",
       "2020-04-07    264.501301\n",
       "2020-04-08    264.512857\n",
       "2020-04-09    267.016254\n",
       "2020-04-13    268.731098\n",
       "2020-04-14    285.627885\n",
       "2020-04-15    283.825076\n",
       "Name: mean, dtype: float64"
      ]
     },
     "execution_count": 112,
     "metadata": {},
     "output_type": "execute_result"
    }
   ],
   "source": [
    "average_df[\"mean\"]"
   ]
  },
  {
   "cell_type": "code",
   "execution_count": 119,
   "metadata": {},
   "outputs": [
    {
     "data": {
      "application/vnd.plotly.v1+json": {
       "config": {
        "plotlyServerURL": "https://plot.ly"
       },
       "data": [
        {
         "line": {
          "color": "red"
         },
         "mode": "lines",
         "name": "mean",
         "type": "scatter",
         "x": [
          "2020-04-02",
          "2020-04-03",
          "2020-04-06",
          "2020-04-07",
          "2020-04-08",
          "2020-04-09",
          "2020-04-13",
          "2020-04-14",
          "2020-04-15"
         ],
         "y": [
          241.17180106100807,
          241.6499635416666,
          254.43575354107665,
          264.50130077120815,
          264.51285669781925,
          267.0162537313433,
          268.7310982142855,
          285.62788533333344,
          283.8250757180153
         ]
        },
        {
         "line": {
          "color": "blue",
          "dash": "dot"
         },
         "mode": "lines",
         "name": "upper std",
         "type": "scatter",
         "x": [
          "2020-04-02",
          "2020-04-03",
          "2020-04-06",
          "2020-04-07",
          "2020-04-08",
          "2020-04-09",
          "2020-04-13",
          "2020-04-14",
          "2020-04-15"
         ],
         "y": [
          242.83086794024652,
          243.15768889037136,
          256.3950552136629,
          266.967953529382,
          265.64559584669706,
          268.02213912414487,
          270.2243510432535,
          287.27846304784117,
          285.0777440624556
         ]
        },
        {
         "line": {
          "color": "blue",
          "dash": "dot"
         },
         "mode": "lines",
         "name": "lower std",
         "type": "scatter",
         "x": [
          "2020-04-02",
          "2020-04-03",
          "2020-04-06",
          "2020-04-07",
          "2020-04-08",
          "2020-04-09",
          "2020-04-13",
          "2020-04-14",
          "2020-04-15"
         ],
         "y": [
          239.51273418176962,
          240.14223819296186,
          252.47645186849044,
          262.0346480130343,
          263.3801175489414,
          266.0103683385417,
          267.23784538531754,
          283.9773076188257,
          282.57240737357495
         ]
        }
       ],
       "layout": {
        "template": {
         "data": {
          "bar": [
           {
            "error_x": {
             "color": "#2a3f5f"
            },
            "error_y": {
             "color": "#2a3f5f"
            },
            "marker": {
             "line": {
              "color": "#E5ECF6",
              "width": 0.5
             }
            },
            "type": "bar"
           }
          ],
          "barpolar": [
           {
            "marker": {
             "line": {
              "color": "#E5ECF6",
              "width": 0.5
             }
            },
            "type": "barpolar"
           }
          ],
          "carpet": [
           {
            "aaxis": {
             "endlinecolor": "#2a3f5f",
             "gridcolor": "white",
             "linecolor": "white",
             "minorgridcolor": "white",
             "startlinecolor": "#2a3f5f"
            },
            "baxis": {
             "endlinecolor": "#2a3f5f",
             "gridcolor": "white",
             "linecolor": "white",
             "minorgridcolor": "white",
             "startlinecolor": "#2a3f5f"
            },
            "type": "carpet"
           }
          ],
          "choropleth": [
           {
            "colorbar": {
             "outlinewidth": 0,
             "ticks": ""
            },
            "type": "choropleth"
           }
          ],
          "contour": [
           {
            "colorbar": {
             "outlinewidth": 0,
             "ticks": ""
            },
            "colorscale": [
             [
              0,
              "#0d0887"
             ],
             [
              0.1111111111111111,
              "#46039f"
             ],
             [
              0.2222222222222222,
              "#7201a8"
             ],
             [
              0.3333333333333333,
              "#9c179e"
             ],
             [
              0.4444444444444444,
              "#bd3786"
             ],
             [
              0.5555555555555556,
              "#d8576b"
             ],
             [
              0.6666666666666666,
              "#ed7953"
             ],
             [
              0.7777777777777778,
              "#fb9f3a"
             ],
             [
              0.8888888888888888,
              "#fdca26"
             ],
             [
              1,
              "#f0f921"
             ]
            ],
            "type": "contour"
           }
          ],
          "contourcarpet": [
           {
            "colorbar": {
             "outlinewidth": 0,
             "ticks": ""
            },
            "type": "contourcarpet"
           }
          ],
          "heatmap": [
           {
            "colorbar": {
             "outlinewidth": 0,
             "ticks": ""
            },
            "colorscale": [
             [
              0,
              "#0d0887"
             ],
             [
              0.1111111111111111,
              "#46039f"
             ],
             [
              0.2222222222222222,
              "#7201a8"
             ],
             [
              0.3333333333333333,
              "#9c179e"
             ],
             [
              0.4444444444444444,
              "#bd3786"
             ],
             [
              0.5555555555555556,
              "#d8576b"
             ],
             [
              0.6666666666666666,
              "#ed7953"
             ],
             [
              0.7777777777777778,
              "#fb9f3a"
             ],
             [
              0.8888888888888888,
              "#fdca26"
             ],
             [
              1,
              "#f0f921"
             ]
            ],
            "type": "heatmap"
           }
          ],
          "heatmapgl": [
           {
            "colorbar": {
             "outlinewidth": 0,
             "ticks": ""
            },
            "colorscale": [
             [
              0,
              "#0d0887"
             ],
             [
              0.1111111111111111,
              "#46039f"
             ],
             [
              0.2222222222222222,
              "#7201a8"
             ],
             [
              0.3333333333333333,
              "#9c179e"
             ],
             [
              0.4444444444444444,
              "#bd3786"
             ],
             [
              0.5555555555555556,
              "#d8576b"
             ],
             [
              0.6666666666666666,
              "#ed7953"
             ],
             [
              0.7777777777777778,
              "#fb9f3a"
             ],
             [
              0.8888888888888888,
              "#fdca26"
             ],
             [
              1,
              "#f0f921"
             ]
            ],
            "type": "heatmapgl"
           }
          ],
          "histogram": [
           {
            "marker": {
             "colorbar": {
              "outlinewidth": 0,
              "ticks": ""
             }
            },
            "type": "histogram"
           }
          ],
          "histogram2d": [
           {
            "colorbar": {
             "outlinewidth": 0,
             "ticks": ""
            },
            "colorscale": [
             [
              0,
              "#0d0887"
             ],
             [
              0.1111111111111111,
              "#46039f"
             ],
             [
              0.2222222222222222,
              "#7201a8"
             ],
             [
              0.3333333333333333,
              "#9c179e"
             ],
             [
              0.4444444444444444,
              "#bd3786"
             ],
             [
              0.5555555555555556,
              "#d8576b"
             ],
             [
              0.6666666666666666,
              "#ed7953"
             ],
             [
              0.7777777777777778,
              "#fb9f3a"
             ],
             [
              0.8888888888888888,
              "#fdca26"
             ],
             [
              1,
              "#f0f921"
             ]
            ],
            "type": "histogram2d"
           }
          ],
          "histogram2dcontour": [
           {
            "colorbar": {
             "outlinewidth": 0,
             "ticks": ""
            },
            "colorscale": [
             [
              0,
              "#0d0887"
             ],
             [
              0.1111111111111111,
              "#46039f"
             ],
             [
              0.2222222222222222,
              "#7201a8"
             ],
             [
              0.3333333333333333,
              "#9c179e"
             ],
             [
              0.4444444444444444,
              "#bd3786"
             ],
             [
              0.5555555555555556,
              "#d8576b"
             ],
             [
              0.6666666666666666,
              "#ed7953"
             ],
             [
              0.7777777777777778,
              "#fb9f3a"
             ],
             [
              0.8888888888888888,
              "#fdca26"
             ],
             [
              1,
              "#f0f921"
             ]
            ],
            "type": "histogram2dcontour"
           }
          ],
          "mesh3d": [
           {
            "colorbar": {
             "outlinewidth": 0,
             "ticks": ""
            },
            "type": "mesh3d"
           }
          ],
          "parcoords": [
           {
            "line": {
             "colorbar": {
              "outlinewidth": 0,
              "ticks": ""
             }
            },
            "type": "parcoords"
           }
          ],
          "pie": [
           {
            "automargin": true,
            "type": "pie"
           }
          ],
          "scatter": [
           {
            "marker": {
             "colorbar": {
              "outlinewidth": 0,
              "ticks": ""
             }
            },
            "type": "scatter"
           }
          ],
          "scatter3d": [
           {
            "line": {
             "colorbar": {
              "outlinewidth": 0,
              "ticks": ""
             }
            },
            "marker": {
             "colorbar": {
              "outlinewidth": 0,
              "ticks": ""
             }
            },
            "type": "scatter3d"
           }
          ],
          "scattercarpet": [
           {
            "marker": {
             "colorbar": {
              "outlinewidth": 0,
              "ticks": ""
             }
            },
            "type": "scattercarpet"
           }
          ],
          "scattergeo": [
           {
            "marker": {
             "colorbar": {
              "outlinewidth": 0,
              "ticks": ""
             }
            },
            "type": "scattergeo"
           }
          ],
          "scattergl": [
           {
            "marker": {
             "colorbar": {
              "outlinewidth": 0,
              "ticks": ""
             }
            },
            "type": "scattergl"
           }
          ],
          "scattermapbox": [
           {
            "marker": {
             "colorbar": {
              "outlinewidth": 0,
              "ticks": ""
             }
            },
            "type": "scattermapbox"
           }
          ],
          "scatterpolar": [
           {
            "marker": {
             "colorbar": {
              "outlinewidth": 0,
              "ticks": ""
             }
            },
            "type": "scatterpolar"
           }
          ],
          "scatterpolargl": [
           {
            "marker": {
             "colorbar": {
              "outlinewidth": 0,
              "ticks": ""
             }
            },
            "type": "scatterpolargl"
           }
          ],
          "scatterternary": [
           {
            "marker": {
             "colorbar": {
              "outlinewidth": 0,
              "ticks": ""
             }
            },
            "type": "scatterternary"
           }
          ],
          "surface": [
           {
            "colorbar": {
             "outlinewidth": 0,
             "ticks": ""
            },
            "colorscale": [
             [
              0,
              "#0d0887"
             ],
             [
              0.1111111111111111,
              "#46039f"
             ],
             [
              0.2222222222222222,
              "#7201a8"
             ],
             [
              0.3333333333333333,
              "#9c179e"
             ],
             [
              0.4444444444444444,
              "#bd3786"
             ],
             [
              0.5555555555555556,
              "#d8576b"
             ],
             [
              0.6666666666666666,
              "#ed7953"
             ],
             [
              0.7777777777777778,
              "#fb9f3a"
             ],
             [
              0.8888888888888888,
              "#fdca26"
             ],
             [
              1,
              "#f0f921"
             ]
            ],
            "type": "surface"
           }
          ],
          "table": [
           {
            "cells": {
             "fill": {
              "color": "#EBF0F8"
             },
             "line": {
              "color": "white"
             }
            },
            "header": {
             "fill": {
              "color": "#C8D4E3"
             },
             "line": {
              "color": "white"
             }
            },
            "type": "table"
           }
          ]
         },
         "layout": {
          "annotationdefaults": {
           "arrowcolor": "#2a3f5f",
           "arrowhead": 0,
           "arrowwidth": 1
          },
          "coloraxis": {
           "colorbar": {
            "outlinewidth": 0,
            "ticks": ""
           }
          },
          "colorscale": {
           "diverging": [
            [
             0,
             "#8e0152"
            ],
            [
             0.1,
             "#c51b7d"
            ],
            [
             0.2,
             "#de77ae"
            ],
            [
             0.3,
             "#f1b6da"
            ],
            [
             0.4,
             "#fde0ef"
            ],
            [
             0.5,
             "#f7f7f7"
            ],
            [
             0.6,
             "#e6f5d0"
            ],
            [
             0.7,
             "#b8e186"
            ],
            [
             0.8,
             "#7fbc41"
            ],
            [
             0.9,
             "#4d9221"
            ],
            [
             1,
             "#276419"
            ]
           ],
           "sequential": [
            [
             0,
             "#0d0887"
            ],
            [
             0.1111111111111111,
             "#46039f"
            ],
            [
             0.2222222222222222,
             "#7201a8"
            ],
            [
             0.3333333333333333,
             "#9c179e"
            ],
            [
             0.4444444444444444,
             "#bd3786"
            ],
            [
             0.5555555555555556,
             "#d8576b"
            ],
            [
             0.6666666666666666,
             "#ed7953"
            ],
            [
             0.7777777777777778,
             "#fb9f3a"
            ],
            [
             0.8888888888888888,
             "#fdca26"
            ],
            [
             1,
             "#f0f921"
            ]
           ],
           "sequentialminus": [
            [
             0,
             "#0d0887"
            ],
            [
             0.1111111111111111,
             "#46039f"
            ],
            [
             0.2222222222222222,
             "#7201a8"
            ],
            [
             0.3333333333333333,
             "#9c179e"
            ],
            [
             0.4444444444444444,
             "#bd3786"
            ],
            [
             0.5555555555555556,
             "#d8576b"
            ],
            [
             0.6666666666666666,
             "#ed7953"
            ],
            [
             0.7777777777777778,
             "#fb9f3a"
            ],
            [
             0.8888888888888888,
             "#fdca26"
            ],
            [
             1,
             "#f0f921"
            ]
           ]
          },
          "colorway": [
           "#636efa",
           "#EF553B",
           "#00cc96",
           "#ab63fa",
           "#FFA15A",
           "#19d3f3",
           "#FF6692",
           "#B6E880",
           "#FF97FF",
           "#FECB52"
          ],
          "font": {
           "color": "#2a3f5f"
          },
          "geo": {
           "bgcolor": "white",
           "lakecolor": "white",
           "landcolor": "#E5ECF6",
           "showlakes": true,
           "showland": true,
           "subunitcolor": "white"
          },
          "hoverlabel": {
           "align": "left"
          },
          "hovermode": "closest",
          "mapbox": {
           "style": "light"
          },
          "paper_bgcolor": "white",
          "plot_bgcolor": "#E5ECF6",
          "polar": {
           "angularaxis": {
            "gridcolor": "white",
            "linecolor": "white",
            "ticks": ""
           },
           "bgcolor": "#E5ECF6",
           "radialaxis": {
            "gridcolor": "white",
            "linecolor": "white",
            "ticks": ""
           }
          },
          "scene": {
           "xaxis": {
            "backgroundcolor": "#E5ECF6",
            "gridcolor": "white",
            "gridwidth": 2,
            "linecolor": "white",
            "showbackground": true,
            "ticks": "",
            "zerolinecolor": "white"
           },
           "yaxis": {
            "backgroundcolor": "#E5ECF6",
            "gridcolor": "white",
            "gridwidth": 2,
            "linecolor": "white",
            "showbackground": true,
            "ticks": "",
            "zerolinecolor": "white"
           },
           "zaxis": {
            "backgroundcolor": "#E5ECF6",
            "gridcolor": "white",
            "gridwidth": 2,
            "linecolor": "white",
            "showbackground": true,
            "ticks": "",
            "zerolinecolor": "white"
           }
          },
          "shapedefaults": {
           "line": {
            "color": "#2a3f5f"
           }
          },
          "ternary": {
           "aaxis": {
            "gridcolor": "white",
            "linecolor": "white",
            "ticks": ""
           },
           "baxis": {
            "gridcolor": "white",
            "linecolor": "white",
            "ticks": ""
           },
           "bgcolor": "#E5ECF6",
           "caxis": {
            "gridcolor": "white",
            "linecolor": "white",
            "ticks": ""
           }
          },
          "title": {
           "x": 0.05
          },
          "xaxis": {
           "automargin": true,
           "gridcolor": "white",
           "linecolor": "white",
           "ticks": "",
           "title": {
            "standoff": 15
           },
           "zerolinecolor": "white",
           "zerolinewidth": 2
          },
          "yaxis": {
           "automargin": true,
           "gridcolor": "white",
           "linecolor": "white",
           "ticks": "",
           "title": {
            "standoff": 15
           },
           "zerolinecolor": "white",
           "zerolinewidth": 2
          }
         }
        }
       }
      },
      "text/html": [
       "<div>\n",
       "        \n",
       "        \n",
       "            <div id=\"998c85f1-d813-4a26-adbf-bbf45b3bfe44\" class=\"plotly-graph-div\" style=\"height:525px; width:100%;\"></div>\n",
       "            <script type=\"text/javascript\">\n",
       "                require([\"plotly\"], function(Plotly) {\n",
       "                    window.PLOTLYENV=window.PLOTLYENV || {};\n",
       "                    \n",
       "                if (document.getElementById(\"998c85f1-d813-4a26-adbf-bbf45b3bfe44\")) {\n",
       "                    Plotly.newPlot(\n",
       "                        '998c85f1-d813-4a26-adbf-bbf45b3bfe44',\n",
       "                        [{\"line\": {\"color\": \"red\"}, \"mode\": \"lines\", \"name\": \"mean\", \"type\": \"scatter\", \"x\": [\"2020-04-02\", \"2020-04-03\", \"2020-04-06\", \"2020-04-07\", \"2020-04-08\", \"2020-04-09\", \"2020-04-13\", \"2020-04-14\", \"2020-04-15\"], \"y\": [241.17180106100807, 241.6499635416666, 254.43575354107665, 264.50130077120815, 264.51285669781925, 267.0162537313433, 268.7310982142855, 285.62788533333344, 283.8250757180153]}, {\"line\": {\"color\": \"blue\", \"dash\": \"dot\"}, \"mode\": \"lines\", \"name\": \"upper std\", \"type\": \"scatter\", \"x\": [\"2020-04-02\", \"2020-04-03\", \"2020-04-06\", \"2020-04-07\", \"2020-04-08\", \"2020-04-09\", \"2020-04-13\", \"2020-04-14\", \"2020-04-15\"], \"y\": [242.83086794024652, 243.15768889037136, 256.3950552136629, 266.967953529382, 265.64559584669706, 268.02213912414487, 270.2243510432535, 287.27846304784117, 285.0777440624556]}, {\"line\": {\"color\": \"blue\", \"dash\": \"dot\"}, \"mode\": \"lines\", \"name\": \"lower std\", \"type\": \"scatter\", \"x\": [\"2020-04-02\", \"2020-04-03\", \"2020-04-06\", \"2020-04-07\", \"2020-04-08\", \"2020-04-09\", \"2020-04-13\", \"2020-04-14\", \"2020-04-15\"], \"y\": [239.51273418176962, 240.14223819296186, 252.47645186849044, 262.0346480130343, 263.3801175489414, 266.0103683385417, 267.23784538531754, 283.9773076188257, 282.57240737357495]}],\n",
       "                        {\"template\": {\"data\": {\"bar\": [{\"error_x\": {\"color\": \"#2a3f5f\"}, \"error_y\": {\"color\": \"#2a3f5f\"}, \"marker\": {\"line\": {\"color\": \"#E5ECF6\", \"width\": 0.5}}, \"type\": \"bar\"}], \"barpolar\": [{\"marker\": {\"line\": {\"color\": \"#E5ECF6\", \"width\": 0.5}}, \"type\": \"barpolar\"}], \"carpet\": [{\"aaxis\": {\"endlinecolor\": \"#2a3f5f\", \"gridcolor\": \"white\", \"linecolor\": \"white\", \"minorgridcolor\": \"white\", \"startlinecolor\": \"#2a3f5f\"}, \"baxis\": {\"endlinecolor\": \"#2a3f5f\", \"gridcolor\": \"white\", \"linecolor\": \"white\", \"minorgridcolor\": \"white\", \"startlinecolor\": \"#2a3f5f\"}, \"type\": \"carpet\"}], \"choropleth\": [{\"colorbar\": {\"outlinewidth\": 0, \"ticks\": \"\"}, \"type\": \"choropleth\"}], \"contour\": [{\"colorbar\": {\"outlinewidth\": 0, \"ticks\": \"\"}, \"colorscale\": [[0.0, \"#0d0887\"], [0.1111111111111111, \"#46039f\"], [0.2222222222222222, \"#7201a8\"], [0.3333333333333333, \"#9c179e\"], [0.4444444444444444, \"#bd3786\"], [0.5555555555555556, \"#d8576b\"], [0.6666666666666666, \"#ed7953\"], [0.7777777777777778, \"#fb9f3a\"], [0.8888888888888888, \"#fdca26\"], [1.0, \"#f0f921\"]], \"type\": \"contour\"}], \"contourcarpet\": [{\"colorbar\": {\"outlinewidth\": 0, \"ticks\": \"\"}, \"type\": \"contourcarpet\"}], \"heatmap\": [{\"colorbar\": {\"outlinewidth\": 0, \"ticks\": \"\"}, \"colorscale\": [[0.0, \"#0d0887\"], [0.1111111111111111, \"#46039f\"], [0.2222222222222222, \"#7201a8\"], [0.3333333333333333, \"#9c179e\"], [0.4444444444444444, \"#bd3786\"], [0.5555555555555556, \"#d8576b\"], [0.6666666666666666, \"#ed7953\"], [0.7777777777777778, \"#fb9f3a\"], [0.8888888888888888, \"#fdca26\"], [1.0, \"#f0f921\"]], \"type\": \"heatmap\"}], \"heatmapgl\": [{\"colorbar\": {\"outlinewidth\": 0, \"ticks\": \"\"}, \"colorscale\": [[0.0, \"#0d0887\"], [0.1111111111111111, \"#46039f\"], [0.2222222222222222, \"#7201a8\"], [0.3333333333333333, \"#9c179e\"], [0.4444444444444444, \"#bd3786\"], [0.5555555555555556, \"#d8576b\"], [0.6666666666666666, \"#ed7953\"], [0.7777777777777778, \"#fb9f3a\"], [0.8888888888888888, \"#fdca26\"], [1.0, \"#f0f921\"]], \"type\": \"heatmapgl\"}], \"histogram\": [{\"marker\": {\"colorbar\": {\"outlinewidth\": 0, \"ticks\": \"\"}}, \"type\": \"histogram\"}], \"histogram2d\": [{\"colorbar\": {\"outlinewidth\": 0, \"ticks\": \"\"}, \"colorscale\": [[0.0, \"#0d0887\"], [0.1111111111111111, \"#46039f\"], [0.2222222222222222, \"#7201a8\"], [0.3333333333333333, \"#9c179e\"], [0.4444444444444444, \"#bd3786\"], [0.5555555555555556, \"#d8576b\"], [0.6666666666666666, \"#ed7953\"], [0.7777777777777778, \"#fb9f3a\"], [0.8888888888888888, \"#fdca26\"], [1.0, \"#f0f921\"]], \"type\": \"histogram2d\"}], \"histogram2dcontour\": [{\"colorbar\": {\"outlinewidth\": 0, \"ticks\": \"\"}, \"colorscale\": [[0.0, \"#0d0887\"], [0.1111111111111111, \"#46039f\"], [0.2222222222222222, \"#7201a8\"], [0.3333333333333333, \"#9c179e\"], [0.4444444444444444, \"#bd3786\"], [0.5555555555555556, \"#d8576b\"], [0.6666666666666666, \"#ed7953\"], [0.7777777777777778, \"#fb9f3a\"], [0.8888888888888888, \"#fdca26\"], [1.0, \"#f0f921\"]], \"type\": \"histogram2dcontour\"}], \"mesh3d\": [{\"colorbar\": {\"outlinewidth\": 0, \"ticks\": \"\"}, \"type\": \"mesh3d\"}], \"parcoords\": [{\"line\": {\"colorbar\": {\"outlinewidth\": 0, \"ticks\": \"\"}}, \"type\": \"parcoords\"}], \"pie\": [{\"automargin\": true, \"type\": \"pie\"}], \"scatter\": [{\"marker\": {\"colorbar\": {\"outlinewidth\": 0, \"ticks\": \"\"}}, \"type\": \"scatter\"}], \"scatter3d\": [{\"line\": {\"colorbar\": {\"outlinewidth\": 0, \"ticks\": \"\"}}, \"marker\": {\"colorbar\": {\"outlinewidth\": 0, \"ticks\": \"\"}}, \"type\": \"scatter3d\"}], \"scattercarpet\": [{\"marker\": {\"colorbar\": {\"outlinewidth\": 0, \"ticks\": \"\"}}, \"type\": \"scattercarpet\"}], \"scattergeo\": [{\"marker\": {\"colorbar\": {\"outlinewidth\": 0, \"ticks\": \"\"}}, \"type\": \"scattergeo\"}], \"scattergl\": [{\"marker\": {\"colorbar\": {\"outlinewidth\": 0, \"ticks\": \"\"}}, \"type\": \"scattergl\"}], \"scattermapbox\": [{\"marker\": {\"colorbar\": {\"outlinewidth\": 0, \"ticks\": \"\"}}, \"type\": \"scattermapbox\"}], \"scatterpolar\": [{\"marker\": {\"colorbar\": {\"outlinewidth\": 0, \"ticks\": \"\"}}, \"type\": \"scatterpolar\"}], \"scatterpolargl\": [{\"marker\": {\"colorbar\": {\"outlinewidth\": 0, \"ticks\": \"\"}}, \"type\": \"scatterpolargl\"}], \"scatterternary\": [{\"marker\": {\"colorbar\": {\"outlinewidth\": 0, \"ticks\": \"\"}}, \"type\": \"scatterternary\"}], \"surface\": [{\"colorbar\": {\"outlinewidth\": 0, \"ticks\": \"\"}, \"colorscale\": [[0.0, \"#0d0887\"], [0.1111111111111111, \"#46039f\"], [0.2222222222222222, \"#7201a8\"], [0.3333333333333333, \"#9c179e\"], [0.4444444444444444, \"#bd3786\"], [0.5555555555555556, \"#d8576b\"], [0.6666666666666666, \"#ed7953\"], [0.7777777777777778, \"#fb9f3a\"], [0.8888888888888888, \"#fdca26\"], [1.0, \"#f0f921\"]], \"type\": \"surface\"}], \"table\": [{\"cells\": {\"fill\": {\"color\": \"#EBF0F8\"}, \"line\": {\"color\": \"white\"}}, \"header\": {\"fill\": {\"color\": \"#C8D4E3\"}, \"line\": {\"color\": \"white\"}}, \"type\": \"table\"}]}, \"layout\": {\"annotationdefaults\": {\"arrowcolor\": \"#2a3f5f\", \"arrowhead\": 0, \"arrowwidth\": 1}, \"coloraxis\": {\"colorbar\": {\"outlinewidth\": 0, \"ticks\": \"\"}}, \"colorscale\": {\"diverging\": [[0, \"#8e0152\"], [0.1, \"#c51b7d\"], [0.2, \"#de77ae\"], [0.3, \"#f1b6da\"], [0.4, \"#fde0ef\"], [0.5, \"#f7f7f7\"], [0.6, \"#e6f5d0\"], [0.7, \"#b8e186\"], [0.8, \"#7fbc41\"], [0.9, \"#4d9221\"], [1, \"#276419\"]], \"sequential\": [[0.0, \"#0d0887\"], [0.1111111111111111, \"#46039f\"], [0.2222222222222222, \"#7201a8\"], [0.3333333333333333, \"#9c179e\"], [0.4444444444444444, \"#bd3786\"], [0.5555555555555556, \"#d8576b\"], [0.6666666666666666, \"#ed7953\"], [0.7777777777777778, \"#fb9f3a\"], [0.8888888888888888, \"#fdca26\"], [1.0, \"#f0f921\"]], \"sequentialminus\": [[0.0, \"#0d0887\"], [0.1111111111111111, \"#46039f\"], [0.2222222222222222, \"#7201a8\"], [0.3333333333333333, \"#9c179e\"], [0.4444444444444444, \"#bd3786\"], [0.5555555555555556, \"#d8576b\"], [0.6666666666666666, \"#ed7953\"], [0.7777777777777778, \"#fb9f3a\"], [0.8888888888888888, \"#fdca26\"], [1.0, \"#f0f921\"]]}, \"colorway\": [\"#636efa\", \"#EF553B\", \"#00cc96\", \"#ab63fa\", \"#FFA15A\", \"#19d3f3\", \"#FF6692\", \"#B6E880\", \"#FF97FF\", \"#FECB52\"], \"font\": {\"color\": \"#2a3f5f\"}, \"geo\": {\"bgcolor\": \"white\", \"lakecolor\": \"white\", \"landcolor\": \"#E5ECF6\", \"showlakes\": true, \"showland\": true, \"subunitcolor\": \"white\"}, \"hoverlabel\": {\"align\": \"left\"}, \"hovermode\": \"closest\", \"mapbox\": {\"style\": \"light\"}, \"paper_bgcolor\": \"white\", \"plot_bgcolor\": \"#E5ECF6\", \"polar\": {\"angularaxis\": {\"gridcolor\": \"white\", \"linecolor\": \"white\", \"ticks\": \"\"}, \"bgcolor\": \"#E5ECF6\", \"radialaxis\": {\"gridcolor\": \"white\", \"linecolor\": \"white\", \"ticks\": \"\"}}, \"scene\": {\"xaxis\": {\"backgroundcolor\": \"#E5ECF6\", \"gridcolor\": \"white\", \"gridwidth\": 2, \"linecolor\": \"white\", \"showbackground\": true, \"ticks\": \"\", \"zerolinecolor\": \"white\"}, \"yaxis\": {\"backgroundcolor\": \"#E5ECF6\", \"gridcolor\": \"white\", \"gridwidth\": 2, \"linecolor\": \"white\", \"showbackground\": true, \"ticks\": \"\", \"zerolinecolor\": \"white\"}, \"zaxis\": {\"backgroundcolor\": \"#E5ECF6\", \"gridcolor\": \"white\", \"gridwidth\": 2, \"linecolor\": \"white\", \"showbackground\": true, \"ticks\": \"\", \"zerolinecolor\": \"white\"}}, \"shapedefaults\": {\"line\": {\"color\": \"#2a3f5f\"}}, \"ternary\": {\"aaxis\": {\"gridcolor\": \"white\", \"linecolor\": \"white\", \"ticks\": \"\"}, \"baxis\": {\"gridcolor\": \"white\", \"linecolor\": \"white\", \"ticks\": \"\"}, \"bgcolor\": \"#E5ECF6\", \"caxis\": {\"gridcolor\": \"white\", \"linecolor\": \"white\", \"ticks\": \"\"}}, \"title\": {\"x\": 0.05}, \"xaxis\": {\"automargin\": true, \"gridcolor\": \"white\", \"linecolor\": \"white\", \"ticks\": \"\", \"title\": {\"standoff\": 15}, \"zerolinecolor\": \"white\", \"zerolinewidth\": 2}, \"yaxis\": {\"automargin\": true, \"gridcolor\": \"white\", \"linecolor\": \"white\", \"ticks\": \"\", \"title\": {\"standoff\": 15}, \"zerolinecolor\": \"white\", \"zerolinewidth\": 2}}}},\n",
       "                        {\"responsive\": true}\n",
       "                    ).then(function(){\n",
       "                            \n",
       "var gd = document.getElementById('998c85f1-d813-4a26-adbf-bbf45b3bfe44');\n",
       "var x = new MutationObserver(function (mutations, observer) {{\n",
       "        var display = window.getComputedStyle(gd).display;\n",
       "        if (!display || display === 'none') {{\n",
       "            console.log([gd, 'removed!']);\n",
       "            Plotly.purge(gd);\n",
       "            observer.disconnect();\n",
       "        }}\n",
       "}});\n",
       "\n",
       "// Listen for the removal of the full notebook cells\n",
       "var notebookContainer = gd.closest('#notebook-container');\n",
       "if (notebookContainer) {{\n",
       "    x.observe(notebookContainer, {childList: true});\n",
       "}}\n",
       "\n",
       "// Listen for the clearing of the current output cell\n",
       "var outputEl = gd.closest('.output');\n",
       "if (outputEl) {{\n",
       "    x.observe(outputEl, {childList: true});\n",
       "}}\n",
       "\n",
       "                        })\n",
       "                };\n",
       "                });\n",
       "            </script>\n",
       "        </div>"
      ]
     },
     "metadata": {},
     "output_type": "display_data"
    }
   ],
   "source": [
    "fig = go.Figure()\n",
    "\n",
    "fig.add_trace(go.Scatter(\n",
    "    name=\"mean\",\n",
    "    x=average_df.index.values,\n",
    "    y=average_df[\"mean\"],\n",
    "    mode=\"lines\",\n",
    "    line={\"color\":\"red\"}\n",
    "))\n",
    "fig.add_trace(go.Scatter(\n",
    "    name=\"upper std\",\n",
    "    x=average_df.index.values,\n",
    "    y=average_df[\"mean\"]+average_df[\"std\"],\n",
    "    mode=\"lines\",\n",
    "    line={\"color\":\"blue\", \"dash\":\"dot\"}\n",
    "))\n",
    "fig.add_trace(go.Scatter(\n",
    "    name=\"lower std\",\n",
    "    x=average_df.index.values,\n",
    "    y=average_df[\"mean\"]-average_df[\"std\"],\n",
    "    mode=\"lines\",\n",
    "    line={\"color\":\"blue\", \"dash\":\"dot\"}\n",
    "))"
   ]
  },
  {
   "cell_type": "code",
   "execution_count": 77,
   "metadata": {},
   "outputs": [
    {
     "data": {
      "application/vnd.plotly.v1+json": {
       "config": {
        "plotlyServerURL": "https://plot.ly"
       },
       "data": [
        {
         "close": [
          279.05,
          279.09,
          279.385,
          279.54,
          280.45,
          280.62,
          280.915,
          281.72,
          281.555,
          281.86,
          281.47,
          281.15,
          281.46,
          281.88,
          282.63,
          283.27,
          283.485,
          283.32,
          283.585,
          284.01,
          283.97,
          283.965,
          284.4,
          284.935,
          284.67,
          284.48,
          284.505,
          284.72,
          285.57,
          285.86,
          285.2,
          284.46,
          284.84,
          284.57,
          284.58,
          284.54,
          284.13,
          283.93,
          283.98,
          284.025,
          284.33,
          284.45,
          283.775,
          284.015,
          284.04,
          284.11,
          284.66,
          284.95,
          285.185,
          284.985,
          284.855,
          284.99,
          285.48,
          285.26,
          285.14,
          284.945,
          284.63,
          284.75,
          284.51,
          284.615,
          284.61,
          284.51,
          284.77,
          284.57,
          284.6,
          284.44,
          284.775,
          284.88,
          284.5,
          284.67,
          285.03,
          284.88,
          284.63,
          285.05,
          285.29,
          285.535,
          285.01,
          284.98,
          285,
          285.26,
          285.41,
          285.39,
          285.29,
          285.16,
          284.715,
          284.59,
          284.5,
          284.565,
          284.28,
          284.18,
          284.58,
          284.73,
          284.74,
          284.32,
          283.995,
          283.81,
          283.725,
          283.76,
          283.87,
          283.725,
          284.04,
          283.46,
          283.225,
          283.3,
          283.3,
          283.42,
          283.41,
          283.59,
          283.13,
          282.69,
          282.81,
          282.98,
          283.32,
          283.47,
          283.63,
          283.665,
          283.67,
          283.595,
          283.86,
          283.89,
          284.09,
          284.01,
          284.53,
          null,
          284.5,
          284.45,
          284.455,
          284.52,
          284.68,
          284.46,
          284.67,
          284.74,
          284.72,
          284.68,
          284.63,
          284.66,
          284.47,
          284.71,
          284.425,
          284.375,
          284.435,
          284.55,
          284.38,
          284.515,
          null,
          284.58,
          284.2,
          284.245,
          284.31,
          284.29,
          284.58,
          284.99,
          285.16,
          285.05,
          285.015,
          284.91,
          284.925,
          285.04,
          285.36,
          285.48,
          285.2,
          null,
          null,
          285.025,
          285.015,
          285.145,
          285.6,
          285.74,
          285.59,
          285.66,
          285.94,
          285.95,
          286.03,
          286.15,
          286.03,
          285.89,
          285.835,
          285.67,
          285.66,
          285.86,
          285.83,
          285.62,
          285.82,
          285.87,
          285.675,
          285.92,
          285.805,
          285.91,
          286.05,
          285.885,
          286.12,
          285.965,
          286.18,
          286.3,
          null,
          286.25,
          286.215,
          286.22,
          286.06,
          285.97,
          286.32,
          286.26,
          286.47,
          286.52,
          286.41,
          286.37,
          null,
          286.375,
          286.28,
          286.09,
          285.96,
          285.88,
          285.61,
          285.725,
          285.625,
          285.305,
          285.52,
          285.99,
          285.84,
          null,
          286.005,
          286.215,
          286.295,
          286.105,
          285.78,
          285.555,
          285.61,
          285.555,
          285.62,
          285.57,
          285.9,
          285.765,
          null,
          286.16,
          286.11,
          286.235,
          286.165,
          286.04,
          286.15,
          286.34,
          286.725,
          286.475,
          286.555,
          286.705,
          286.8,
          286.61,
          286.45,
          286.43,
          286.41,
          286.43,
          286.895,
          286.835,
          286.925,
          286.92,
          286.91,
          null,
          287.18,
          287.2,
          287.325,
          287.4,
          287.47,
          287.46,
          287.62,
          287.6,
          287.36,
          287.255,
          287.32,
          287.26,
          287.32,
          null,
          287.11,
          null,
          287.33,
          287.15,
          287.43,
          287.22,
          287.195,
          287.39,
          287.46,
          287.365,
          287.59,
          287.65,
          null,
          287.45,
          287.475,
          287.64,
          287.745,
          287.72,
          287.825,
          287.815,
          288.01,
          287.95,
          287.825,
          287.975,
          287.92,
          287.91,
          287.71,
          287.5,
          287.7,
          287.74,
          287.67,
          287.65,
          287.64,
          287.51,
          287.56,
          287.64,
          287.525,
          287.62,
          287.43,
          287.46,
          287.77,
          287.67,
          287.535,
          287.34,
          287.29,
          287.455,
          287.27,
          286.92,
          286.825,
          286.95,
          287.29,
          287.42,
          287.59,
          287.56,
          287.58,
          287.705,
          287.71,
          287.57,
          null,
          287.89,
          null,
          287.36,
          287.06,
          287.03,
          286.75,
          286.705,
          null,
          285.78,
          285.98,
          286.3,
          286.06,
          286.27,
          286.255,
          286.7,
          286.73,
          286.35,
          286.275,
          286.455,
          286.505,
          286.4,
          285.91,
          286.19,
          286.275,
          285.87,
          286.255,
          286.495,
          286.8,
          286.84,
          286.705,
          286.99,
          286.91,
          287.065,
          287.06,
          287.26,
          287.34,
          287.29,
          287.45,
          287.33,
          287.49,
          287.555,
          287.85,
          287.645,
          287.495,
          287.635,
          287.58,
          287.67,
          287.865,
          287.94,
          287.57,
          287.88,
          287,
          286.4,
          286.89,
          287.19,
          287.085,
          287.23,
          287.29,
          287.21,
          286.84,
          286.97,
          281.6,
          282.26,
          282.88,
          282.38,
          282.62,
          282.64,
          282.5,
          282.93,
          282.91,
          282.845,
          282.58,
          282.42,
          282.01,
          281.38,
          280.82,
          280.73,
          280.91,
          281.01,
          281.28,
          281.105,
          281.36,
          281.42,
          281.055,
          281.42,
          281.4,
          281.27,
          281.17,
          281.73,
          281.995,
          282.37,
          282.125,
          282.295,
          282.16,
          281.865,
          282.03,
          281.8,
          282.37,
          282.22,
          282.15,
          282.34,
          282.285,
          282.23,
          282.285,
          282.555,
          282.29,
          281.845,
          281.475,
          281.005,
          281.27,
          281.195,
          281.43,
          281.685,
          281.495,
          281.71,
          281.855,
          281.87,
          281.485,
          281.645,
          281.42,
          281.635,
          281.71,
          281.745,
          282.12,
          282.16,
          282,
          282.145,
          281.815,
          281.985,
          281.585,
          281.72,
          281.87,
          281.91,
          282.37,
          282.605,
          282.83,
          283.15,
          283.44,
          283.7,
          283.78,
          284.155,
          283.72,
          283.83,
          284.37,
          284.66,
          284.415,
          284.26,
          284.6,
          284.53,
          284.48,
          284.335,
          284.96,
          284.36,
          283.87,
          284.175,
          284.37,
          283.98,
          283.88,
          283.775,
          283.9,
          283.88,
          284.11,
          284.585,
          null,
          284.66,
          284.835,
          284.31,
          284.155,
          284.1,
          283.95,
          284.06,
          283.6,
          283.41,
          283.59,
          283.56,
          283.31,
          283.36,
          283.495,
          283.3,
          283.24,
          283.4,
          283.69,
          283.87,
          283.68,
          283.89,
          283.775,
          283.625,
          283.51,
          283.225,
          283.35,
          283.055,
          null,
          283.01,
          282.85,
          282.995,
          282.995,
          282.93,
          283.165,
          283,
          282.82,
          282.68,
          282.88,
          283.16,
          283.095,
          282.98,
          283.14,
          283.34,
          283.22,
          283.115,
          282.83,
          282.875,
          282.835,
          282.915,
          283.16,
          283.435,
          283.52,
          283.34,
          283.475,
          283.35,
          283.145,
          283.09,
          282.71,
          282.765,
          282.7,
          282.46,
          282.555,
          282.455,
          282.375,
          282.215,
          282.235,
          282.07,
          282.485,
          282.53,
          282.715,
          282.725,
          282.57,
          282.855,
          282.49,
          282.535,
          282.75,
          283.225,
          283.19,
          283.18,
          283.29,
          283.58,
          283.615,
          283.66,
          283.67,
          283.825,
          283.795,
          283.7,
          283.515,
          283.585,
          283.97,
          284.195,
          284.03,
          283.985,
          283.925,
          283.87,
          284.01,
          284.18,
          284.45,
          284.46,
          284.54,
          284.56,
          284.59,
          284.39,
          284.215,
          284.095,
          284.155,
          284.12,
          283.875,
          284.01,
          284.18,
          null,
          284.155,
          284.01,
          null,
          283.945,
          284.11,
          284.215,
          284.48,
          284.44,
          284.64,
          284.87,
          284.965,
          284.76,
          284.85,
          285.125,
          285.53,
          285.37,
          285.15,
          284.995,
          285.105,
          285.045,
          285.12,
          285.19,
          284.865,
          284.58,
          284.53,
          284.52,
          284.26,
          284.27,
          284.34,
          284.37,
          284.285,
          284.48,
          284.47,
          284.36,
          284.15,
          284.12,
          284.26,
          284.045,
          284.25,
          284.555,
          284.53,
          284.355,
          284.69,
          284.725,
          284.81,
          284.72,
          284.94,
          284.75,
          284.59,
          284.74,
          284.58,
          284.68,
          284.47,
          284.445,
          284.36,
          284.125,
          284.29,
          284.49,
          284.57,
          284.57,
          284.41,
          284.5,
          284.54,
          null,
          284.68,
          284.41,
          284.45,
          284.5,
          284.785,
          null,
          284.91,
          284.77,
          284.79,
          285.11,
          285.27,
          284.99,
          285.215,
          285.425,
          285.39,
          285.35,
          285.32,
          284.98,
          284.99,
          284.975,
          285.24,
          285.435,
          285.21,
          284.94,
          284.905,
          284.92,
          285.1,
          285.175,
          285.15,
          285.335,
          285.44,
          285.48,
          285.145,
          285.32,
          285.6,
          285.43,
          285.53,
          285.305,
          285.405,
          285.44,
          285.405,
          null,
          285.12,
          285.065,
          285.33,
          285.3,
          285.21,
          285.47,
          285.655,
          286,
          285.97,
          285.97,
          286.04,
          286.12,
          285.97,
          285.77,
          285.64,
          285.63,
          285.42,
          285.24,
          285.35,
          285.22,
          285.14,
          285.005,
          285.13,
          285.41,
          285.26,
          285.16,
          285.25,
          285.35,
          285.34,
          285.445,
          285.405,
          285.52,
          285.42,
          285.22,
          285.305,
          285.11,
          284.885,
          285,
          284.52,
          284.88,
          285,
          284.83,
          284.66,
          284.58,
          284.71,
          284.59,
          284.78,
          285.02,
          284.91,
          284.84,
          284.22,
          284.28,
          283.98,
          284.52,
          284.49,
          284.5,
          284.63,
          284.51,
          284.775,
          284.5,
          284.63,
          284.25,
          284.01,
          284.105,
          284.14,
          284.305,
          284.21,
          284.295,
          284.35,
          284.54
         ],
         "high": [
          280.12,
          279.09,
          279.51,
          279.74,
          280.45,
          280.76,
          281.08,
          281.72,
          281.58,
          282.05,
          282.06,
          281.465,
          281.55,
          281.88,
          282.64,
          283.27,
          283.9,
          283.63,
          283.64,
          284.04,
          284.27,
          283.965,
          284.435,
          285.12,
          285.37,
          284.645,
          284.8,
          284.775,
          285.785,
          285.89,
          285.94,
          285.24,
          284.84,
          285.08,
          284.595,
          284.84,
          284.45,
          284.26,
          284.04,
          284.18,
          284.42,
          284.6,
          284.38,
          284.015,
          284.25,
          284.11,
          284.66,
          284.95,
          285.185,
          285.115,
          284.93,
          284.99,
          285.55,
          285.59,
          285.145,
          285.225,
          284.95,
          284.75,
          284.78,
          284.72,
          284.76,
          284.655,
          284.77,
          284.805,
          284.6,
          284.48,
          284.775,
          284.995,
          284.875,
          284.67,
          285.19,
          285.17,
          284.64,
          285.05,
          285.33,
          285.535,
          285.36,
          285.01,
          285.1,
          285.265,
          285.58,
          285.39,
          285.46,
          285.28,
          285.08,
          284.695,
          284.5,
          284.83,
          284.46,
          284.48,
          284.58,
          284.78,
          284.825,
          284.735,
          284.355,
          284.105,
          283.97,
          283.85,
          283.95,
          283.77,
          284.06,
          284.055,
          283.42,
          283.34,
          283.37,
          283.43,
          283.46,
          283.59,
          283.22,
          283.195,
          283.05,
          283.06,
          283.445,
          283.47,
          283.63,
          283.78,
          283.82,
          283.83,
          284.095,
          284,
          284.09,
          284.01,
          284.53,
          null,
          284.54,
          284.515,
          284.455,
          284.52,
          284.705,
          284.685,
          284.67,
          284.745,
          284.82,
          284.68,
          284.69,
          284.66,
          284.695,
          284.71,
          284.64,
          284.445,
          284.52,
          284.605,
          284.38,
          284.595,
          null,
          284.58,
          284.4,
          284.245,
          284.31,
          284.425,
          284.58,
          285.025,
          285.16,
          285.13,
          285.065,
          285.05,
          284.925,
          285.09,
          285.36,
          285.48,
          285.345,
          null,
          null,
          285.075,
          285.015,
          285.155,
          285.62,
          285.835,
          285.59,
          285.69,
          285.99,
          285.95,
          286.03,
          286.15,
          286.11,
          286.08,
          285.91,
          285.77,
          285.73,
          285.86,
          285.83,
          285.67,
          285.82,
          285.9,
          285.845,
          285.95,
          285.805,
          285.91,
          286.05,
          285.885,
          286.175,
          286.11,
          286.24,
          286.3,
          null,
          286.295,
          286.235,
          286.3,
          286.06,
          285.97,
          286.345,
          286.32,
          286.47,
          286.52,
          286.41,
          286.455,
          null,
          286.435,
          286.28,
          286.22,
          286.025,
          285.93,
          285.83,
          285.725,
          285.83,
          285.645,
          285.52,
          285.99,
          285.865,
          null,
          286.005,
          286.215,
          286.3,
          286.265,
          286.13,
          285.81,
          285.67,
          285.68,
          285.62,
          285.615,
          285.9,
          285.86,
          null,
          286.16,
          286.16,
          286.24,
          286.18,
          286.09,
          286.185,
          286.34,
          286.725,
          286.73,
          286.555,
          286.705,
          286.8,
          286.76,
          286.56,
          286.555,
          286.41,
          286.43,
          286.9,
          286.955,
          286.925,
          286.92,
          286.91,
          null,
          287.18,
          287.2,
          287.35,
          287.405,
          287.47,
          287.49,
          287.62,
          287.665,
          287.37,
          287.295,
          287.32,
          287.365,
          287.32,
          null,
          287.325,
          null,
          287.52,
          287.15,
          287.43,
          287.415,
          287.21,
          287.415,
          287.485,
          287.365,
          287.59,
          287.65,
          null,
          287.495,
          287.475,
          287.645,
          287.78,
          287.74,
          287.825,
          287.815,
          288.03,
          288.01,
          287.89,
          288.015,
          288.01,
          287.91,
          287.77,
          287.65,
          287.7,
          287.74,
          287.72,
          287.765,
          287.65,
          287.645,
          287.675,
          287.68,
          287.53,
          287.62,
          287.62,
          287.46,
          287.77,
          287.67,
          287.54,
          287.56,
          287.335,
          287.48,
          287.27,
          287.08,
          286.825,
          286.99,
          287.29,
          287.42,
          287.59,
          287.56,
          287.58,
          287.705,
          287.74,
          287.635,
          null,
          287.995,
          null,
          287.485,
          287.11,
          287.09,
          287.15,
          286.705,
          null,
          285.97,
          285.98,
          286.41,
          286.415,
          286.305,
          286.28,
          286.7,
          286.805,
          286.54,
          286.275,
          286.61,
          286.505,
          286.48,
          286.2,
          286.19,
          286.275,
          286.12,
          286.255,
          286.55,
          286.81,
          286.91,
          286.79,
          286.99,
          286.92,
          287.28,
          287.1,
          287.275,
          287.65,
          287.51,
          287.45,
          287.54,
          287.555,
          287.575,
          287.89,
          287.86,
          287.57,
          287.64,
          287.71,
          287.72,
          287.89,
          288.01,
          287.9,
          287.88,
          288,
          286.9,
          286.99,
          287.2,
          287.22,
          287.24,
          287.29,
          287.39,
          287.1,
          287.2,
          282.54,
          282.26,
          282.95,
          282.8,
          282.94,
          282.675,
          282.59,
          283.17,
          283.04,
          282.92,
          282.645,
          282.52,
          282.465,
          281.975,
          281.24,
          280.86,
          280.92,
          281.12,
          281.28,
          281.28,
          281.38,
          281.58,
          281.46,
          281.42,
          281.42,
          281.415,
          281.18,
          281.73,
          282.06,
          282.4,
          282.38,
          282.3,
          282.28,
          282.4,
          282.145,
          282,
          282.425,
          282.37,
          282.15,
          282.34,
          282.35,
          282.38,
          282.285,
          282.555,
          282.375,
          282.18,
          281.755,
          281.23,
          281.29,
          281.32,
          281.48,
          281.685,
          281.645,
          281.785,
          281.86,
          281.885,
          281.86,
          281.65,
          281.66,
          281.66,
          281.71,
          281.775,
          282.18,
          282.16,
          282.095,
          282.145,
          282.32,
          282,
          281.875,
          281.77,
          281.98,
          281.91,
          282.37,
          282.605,
          282.905,
          283.15,
          283.44,
          283.7,
          283.83,
          284.155,
          284.03,
          283.83,
          284.37,
          284.68,
          284.52,
          284.44,
          284.64,
          284.62,
          284.48,
          284.44,
          285,
          284.56,
          284.42,
          284.175,
          284.37,
          284.355,
          283.88,
          283.87,
          283.9,
          283.88,
          284.11,
          284.585,
          null,
          284.83,
          284.835,
          284.76,
          284.155,
          284.145,
          284.05,
          284.08,
          283.805,
          283.435,
          283.62,
          283.65,
          283.31,
          283.38,
          283.57,
          283.455,
          283.36,
          283.4,
          283.69,
          283.87,
          283.735,
          283.89,
          283.815,
          283.765,
          283.645,
          283.52,
          283.35,
          283.21,
          null,
          283.095,
          283.045,
          283,
          283.05,
          282.93,
          283.255,
          283.05,
          282.98,
          282.76,
          282.88,
          283.16,
          283.145,
          283.1,
          283.17,
          283.34,
          283.22,
          283.115,
          283.215,
          282.9,
          282.84,
          282.915,
          283.16,
          283.435,
          283.52,
          283.5,
          283.475,
          283.385,
          283.41,
          283.09,
          282.96,
          282.765,
          282.855,
          282.51,
          282.555,
          282.595,
          282.545,
          282.375,
          282.305,
          282.295,
          282.485,
          282.53,
          282.715,
          282.76,
          282.57,
          282.935,
          282.72,
          282.58,
          282.86,
          283.225,
          283.19,
          283.23,
          283.29,
          283.58,
          283.77,
          283.785,
          283.7,
          283.825,
          283.805,
          283.8,
          283.635,
          283.7,
          283.98,
          284.195,
          284.115,
          284,
          283.985,
          283.93,
          284.05,
          284.185,
          284.515,
          284.46,
          284.565,
          284.56,
          284.62,
          284.49,
          284.23,
          284.095,
          284.17,
          284.29,
          284.05,
          284.01,
          284.355,
          null,
          284.24,
          284.13,
          null,
          283.945,
          284.13,
          284.265,
          284.54,
          284.45,
          284.64,
          284.87,
          284.97,
          285.06,
          284.85,
          285.14,
          285.55,
          285.46,
          285.33,
          285.04,
          285.12,
          285.075,
          285.135,
          285.19,
          285.01,
          284.885,
          284.66,
          284.52,
          284.365,
          284.32,
          284.385,
          284.41,
          284.415,
          284.48,
          284.645,
          284.48,
          284.245,
          284.12,
          284.26,
          284.2,
          284.25,
          284.555,
          284.53,
          284.65,
          284.725,
          284.73,
          284.885,
          284.72,
          284.94,
          284.82,
          284.77,
          284.74,
          284.58,
          284.73,
          284.575,
          284.445,
          284.38,
          284.23,
          284.29,
          284.49,
          284.57,
          284.57,
          284.465,
          284.61,
          284.54,
          null,
          284.71,
          284.52,
          284.45,
          284.5,
          284.785,
          null,
          284.925,
          284.85,
          284.79,
          285.11,
          285.27,
          285,
          285.215,
          285.44,
          285.415,
          285.42,
          285.42,
          285.245,
          285.035,
          285.025,
          285.24,
          285.435,
          285.54,
          285.105,
          284.905,
          284.92,
          285.1,
          285.25,
          285.17,
          285.335,
          285.52,
          285.5,
          285.3,
          285.32,
          285.64,
          285.48,
          285.53,
          285.58,
          285.405,
          285.67,
          285.435,
          null,
          285.36,
          285.13,
          285.355,
          285.4,
          285.235,
          285.47,
          285.66,
          286,
          285.97,
          285.97,
          286.04,
          286.25,
          286.09,
          285.93,
          285.7,
          285.63,
          285.66,
          285.24,
          285.35,
          285.35,
          285.19,
          285.11,
          285.13,
          285.41,
          285.365,
          285.23,
          285.25,
          285.39,
          285.38,
          285.475,
          285.54,
          285.52,
          285.49,
          285.22,
          285.305,
          285.36,
          284.98,
          285,
          284.945,
          284.88,
          285,
          284.97,
          284.89,
          284.81,
          284.73,
          284.63,
          284.83,
          285.07,
          284.96,
          285.075,
          284.71,
          284.28,
          284.12,
          284.52,
          284.51,
          284.72,
          284.66,
          284.54,
          284.9,
          284.79,
          284.63,
          284.65,
          284.22,
          284.34,
          284.26,
          284.465,
          284.32,
          284.42,
          284.5,
          284.56
         ],
         "low": [
          278.07,
          278.49,
          279.13,
          279.205,
          279.6,
          280.25,
          280.65,
          280.9,
          281.415,
          281.62,
          281.42,
          281.15,
          281.14,
          281.51,
          281.89,
          282.86,
          283.38,
          283.26,
          283.35,
          283.54,
          283.97,
          283.84,
          284.31,
          284.56,
          284.67,
          284.39,
          284.505,
          284.52,
          284.7,
          285.83,
          285.1,
          284.46,
          284.42,
          284.57,
          284.5,
          284.54,
          284.025,
          283.93,
          283.895,
          283.76,
          284.135,
          284.44,
          283.72,
          283.65,
          284.04,
          283.89,
          284.2,
          284.715,
          285.12,
          284.98,
          284.705,
          284.76,
          285.29,
          285.26,
          285.14,
          284.945,
          284.62,
          284.71,
          284.51,
          284.32,
          284.595,
          284.51,
          284.47,
          284.57,
          284.585,
          284.39,
          284.48,
          284.81,
          284.5,
          284.67,
          284.75,
          284.88,
          284.56,
          285.05,
          285.05,
          285.375,
          285.01,
          284.98,
          284.99,
          284.99,
          285.32,
          285.21,
          285.29,
          285.16,
          284.715,
          284.53,
          284.265,
          284.535,
          284.28,
          284.18,
          284.18,
          284.46,
          284.74,
          284.32,
          283.95,
          283.795,
          283.725,
          283.67,
          283.8,
          283.725,
          283.785,
          283.46,
          283.225,
          283.175,
          283.05,
          283.4,
          283.36,
          283.27,
          283.13,
          282.63,
          282.8,
          282.98,
          283.17,
          283.335,
          283.57,
          283.665,
          283.67,
          283.555,
          283.72,
          283.8,
          284.09,
          284.01,
          284.41,
          null,
          284.415,
          284.36,
          284.395,
          284.485,
          284.49,
          284.46,
          284.32,
          284.655,
          284.7,
          284.68,
          284.62,
          284.42,
          284.47,
          284.51,
          284.425,
          284.35,
          284.41,
          284.445,
          284.38,
          284.42,
          null,
          284.5,
          284.2,
          283.97,
          284.16,
          284.29,
          284.38,
          284.99,
          285.16,
          285.015,
          285,
          284.91,
          284.91,
          284.98,
          285.09,
          285.32,
          285.2,
          null,
          null,
          284.98,
          285.015,
          285.02,
          285.27,
          285.68,
          285.59,
          285.64,
          285.71,
          285.95,
          285.73,
          285.96,
          285.97,
          285.845,
          285.81,
          285.665,
          285.61,
          285.75,
          285.745,
          285.58,
          285.685,
          285.805,
          285.675,
          285.69,
          285.71,
          285.835,
          285.95,
          285.885,
          285.83,
          285.965,
          286.04,
          286.15,
          null,
          286.25,
          286.08,
          286.22,
          285.975,
          285.97,
          286.15,
          286.21,
          286.26,
          286.3,
          286.36,
          286.365,
          null,
          286.335,
          286.28,
          286.09,
          285.935,
          285.82,
          285.6,
          285.61,
          285.625,
          285.305,
          285.485,
          285.74,
          285.84,
          null,
          285.94,
          286.08,
          286.03,
          286.045,
          285.78,
          285.555,
          285.585,
          285.53,
          285.5,
          285.57,
          285.86,
          285.765,
          null,
          286.16,
          286.06,
          286.235,
          286.165,
          285.99,
          286.105,
          286.15,
          286.33,
          286.475,
          286.555,
          286.7,
          286.8,
          286.51,
          286.425,
          286.43,
          286.315,
          286.43,
          286.52,
          286.835,
          286.925,
          286.815,
          286.825,
          null,
          287.1,
          287.2,
          287.19,
          287.28,
          287.41,
          287.46,
          287.31,
          287.585,
          287.3,
          287.23,
          287.32,
          287.26,
          287.32,
          null,
          287.11,
          null,
          287.33,
          287.15,
          287.19,
          287.18,
          287.18,
          287.345,
          287.395,
          287.365,
          287.59,
          287.61,
          null,
          287.45,
          287.475,
          287.58,
          287.745,
          287.72,
          287.655,
          287.815,
          287.93,
          287.94,
          287.82,
          287.83,
          287.92,
          287.91,
          287.71,
          287.5,
          287.635,
          287.735,
          287.64,
          287.645,
          287.64,
          287.49,
          287.56,
          287.53,
          287.525,
          287.62,
          287.43,
          287.44,
          287.77,
          287.67,
          287.42,
          287.33,
          287.245,
          287.35,
          287.27,
          286.92,
          286.71,
          286.95,
          287.06,
          287.26,
          287.59,
          287.475,
          287.43,
          287.705,
          287.63,
          287.57,
          null,
          287.89,
          null,
          287.36,
          286.955,
          287.03,
          286.75,
          286.56,
          null,
          285.7,
          285.77,
          286.14,
          286.06,
          286.145,
          286.24,
          286.31,
          286.67,
          286.35,
          285.985,
          286.215,
          286.34,
          286.29,
          285.88,
          286.09,
          286.015,
          285.87,
          286.25,
          286.45,
          286.355,
          286.8,
          286.705,
          286.82,
          286.91,
          287,
          286.98,
          286.92,
          287.33,
          287.19,
          287.3,
          287.33,
          287.325,
          287.42,
          287.58,
          287.645,
          287.375,
          287.425,
          287.58,
          287.44,
          287.65,
          287.85,
          287.57,
          287.58,
          286.63,
          286.215,
          286.43,
          286.895,
          286.72,
          286.76,
          287.18,
          287.19,
          286.67,
          286.76,
          281.285,
          281.55,
          282.18,
          282.32,
          282.35,
          282.4,
          282.465,
          282.82,
          282.87,
          282.74,
          282.52,
          282.36,
          281.96,
          281.38,
          280.795,
          280.66,
          280.75,
          280.92,
          280.98,
          281.105,
          281.045,
          281.24,
          281.055,
          281.09,
          281.2,
          281.19,
          281.08,
          281.2,
          281.92,
          281.92,
          282.125,
          282.2,
          282.16,
          281.865,
          282,
          281.8,
          282.07,
          282.22,
          281.97,
          282.075,
          282.16,
          282.185,
          282.075,
          282.22,
          282.29,
          281.845,
          281.475,
          281.005,
          281.23,
          281.195,
          281.135,
          281.44,
          281.48,
          281.64,
          281.57,
          281.75,
          281.485,
          281.55,
          281.39,
          281.635,
          281.33,
          281.71,
          282.11,
          282.1,
          281.92,
          281.835,
          281.815,
          281.785,
          281.575,
          281.53,
          281.87,
          281.91,
          282.37,
          282.425,
          282.73,
          282.85,
          283.22,
          283.34,
          283.645,
          283.69,
          283.72,
          283.62,
          284.02,
          284.41,
          284.21,
          284.2,
          284.28,
          284.53,
          284.33,
          284.15,
          284.45,
          284.36,
          283.87,
          284.15,
          284.32,
          283.98,
          283.695,
          283.775,
          283.7,
          283.88,
          284.09,
          284.41,
          null,
          284.66,
          284.585,
          284.31,
          284.015,
          284.1,
          283.95,
          283.915,
          283.515,
          283.41,
          283.59,
          283.545,
          283.29,
          283.01,
          283.31,
          283.3,
          283.21,
          283.33,
          283.61,
          283.87,
          283.68,
          283.71,
          283.775,
          283.6,
          283.51,
          283.225,
          283.35,
          283,
          null,
          283.01,
          282.85,
          282.96,
          282.995,
          282.895,
          283.135,
          282.84,
          282.82,
          282.68,
          282.88,
          283.02,
          283.005,
          282.98,
          283.14,
          283.34,
          283.22,
          283.115,
          282.83,
          282.875,
          282.835,
          282.915,
          283.03,
          283.36,
          283.52,
          283.34,
          283.28,
          283.3,
          283.145,
          283,
          282.71,
          282.7,
          282.7,
          282.32,
          282.39,
          282.455,
          282.335,
          282.215,
          282.195,
          282.07,
          282.205,
          282.53,
          282.53,
          282.705,
          282.57,
          282.58,
          282.49,
          282.535,
          282.71,
          283.225,
          283.09,
          283.18,
          283.16,
          283.225,
          283.615,
          283.65,
          283.67,
          283.77,
          283.73,
          283.7,
          283.515,
          283.5,
          283.69,
          284.06,
          284.03,
          283.91,
          283.9,
          283.87,
          284,
          284.1,
          284.22,
          284.325,
          284.42,
          284.48,
          284.545,
          284.39,
          284.215,
          284.05,
          284.155,
          284.12,
          283.875,
          284.01,
          284.18,
          null,
          284.155,
          283.98,
          null,
          283.885,
          284.11,
          284.215,
          284.27,
          284.38,
          284.63,
          284.65,
          284.845,
          284.76,
          284.75,
          284.98,
          285.5,
          285.37,
          285.15,
          284.98,
          284.965,
          285.01,
          285.1,
          285.135,
          284.865,
          284.58,
          284.53,
          284.485,
          284.26,
          284.27,
          284.29,
          284.2,
          284.27,
          284.35,
          284.47,
          284.36,
          284.12,
          284.12,
          284.26,
          284.045,
          284.12,
          284.27,
          284.44,
          284.355,
          284.45,
          284.725,
          284.81,
          284.72,
          284.85,
          284.675,
          284.59,
          284.74,
          284.58,
          284.68,
          284.42,
          284.445,
          284.31,
          284.125,
          284.29,
          284.39,
          284.45,
          284.53,
          284.41,
          284.435,
          284.54,
          null,
          284.65,
          284.41,
          284.38,
          284.5,
          284.455,
          null,
          284.695,
          284.77,
          284.79,
          284.86,
          285.18,
          284.91,
          285.135,
          285.28,
          285.33,
          285.35,
          285.32,
          284.98,
          284.98,
          284.88,
          285.07,
          285.345,
          285.18,
          284.915,
          284.81,
          284.87,
          284.86,
          285.06,
          285.15,
          285.13,
          285.305,
          285.46,
          285.145,
          285.32,
          285.52,
          285.26,
          285.42,
          285.305,
          285.405,
          285.44,
          285.325,
          null,
          285.12,
          285.065,
          285.16,
          285.3,
          285.21,
          285.33,
          285.47,
          285.66,
          285.825,
          285.95,
          285.965,
          286.11,
          285.96,
          285.76,
          285.615,
          285.63,
          285.385,
          285.14,
          285.24,
          285.22,
          285,
          284.99,
          285.13,
          285.28,
          285.26,
          285.16,
          285.06,
          285.22,
          285.26,
          285.355,
          285.405,
          285.52,
          285.42,
          285.22,
          285.24,
          285.11,
          284.885,
          284.89,
          284.52,
          284.735,
          284.985,
          284.83,
          284.66,
          284.565,
          284.635,
          284.575,
          284.62,
          284.82,
          284.77,
          284.84,
          284.22,
          284.12,
          283.94,
          284,
          284.425,
          284.5,
          284.63,
          284.32,
          284.48,
          284.5,
          284.08,
          284.25,
          284.01,
          284.08,
          284.13,
          284.14,
          284.17,
          284.2,
          284.125,
          284.14
         ],
         "open": [
          279.95,
          278.84,
          279.13,
          279.36,
          279.72,
          280.49,
          280.73,
          280.9,
          281.58,
          281.65,
          281.98,
          281.44,
          281.14,
          281.51,
          281.89,
          282.87,
          283.4,
          283.625,
          283.4,
          283.54,
          284.135,
          283.93,
          284.435,
          284.56,
          284.93,
          284.39,
          284.51,
          284.535,
          284.7,
          285.85,
          285.94,
          285.23,
          284.42,
          285.015,
          284.5,
          284.83,
          284.45,
          284.26,
          283.94,
          283.98,
          284.135,
          284.44,
          284.325,
          283.655,
          284.25,
          283.89,
          284.2,
          284.785,
          285.14,
          285.115,
          284.82,
          284.875,
          285.29,
          285.36,
          285.14,
          285.225,
          284.94,
          284.71,
          284.77,
          284.33,
          284.655,
          284.655,
          284.47,
          284.805,
          284.585,
          284.46,
          284.54,
          284.82,
          284.85,
          284.67,
          284.76,
          284.96,
          284.6,
          285.05,
          285.05,
          285.47,
          285.36,
          284.995,
          284.99,
          284.99,
          285.32,
          285.235,
          285.385,
          285.19,
          285.08,
          284.695,
          284.405,
          284.54,
          284.45,
          284.31,
          284.23,
          284.46,
          284.78,
          284.735,
          284.355,
          284.105,
          283.89,
          283.67,
          283.8,
          283.73,
          283.8,
          284.025,
          283.285,
          283.175,
          283.17,
          283.43,
          283.46,
          283.27,
          283.22,
          283.195,
          282.8,
          283.06,
          283.17,
          283.335,
          283.57,
          283.705,
          283.72,
          283.64,
          283.72,
          284,
          284.09,
          284.01,
          284.47,
          null,
          284.54,
          284.36,
          284.395,
          284.485,
          284.605,
          284.68,
          284.32,
          284.745,
          284.7,
          284.68,
          284.69,
          284.42,
          284.59,
          284.545,
          284.64,
          284.415,
          284.41,
          284.445,
          284.38,
          284.42,
          null,
          284.52,
          284.39,
          283.97,
          284.17,
          284.425,
          284.38,
          285.025,
          285.16,
          285.015,
          285,
          285.03,
          284.91,
          284.98,
          285.09,
          285.32,
          285.345,
          null,
          null,
          285.075,
          285.015,
          285.08,
          285.27,
          285.68,
          285.59,
          285.655,
          285.8,
          285.95,
          285.73,
          285.96,
          286.11,
          286.03,
          285.89,
          285.77,
          285.61,
          285.75,
          285.745,
          285.58,
          285.685,
          285.87,
          285.83,
          285.69,
          285.71,
          285.835,
          285.95,
          285.885,
          285.83,
          286.11,
          286.04,
          286.16,
          null,
          286.295,
          286.235,
          286.3,
          286.015,
          285.97,
          286.28,
          286.32,
          286.26,
          286.32,
          286.36,
          286.455,
          null,
          286.38,
          286.28,
          286.22,
          285.985,
          285.93,
          285.83,
          285.61,
          285.83,
          285.645,
          285.485,
          285.74,
          285.865,
          null,
          285.94,
          286.08,
          286.145,
          286.185,
          286.115,
          285.81,
          285.585,
          285.62,
          285.51,
          285.615,
          285.86,
          285.845,
          null,
          286.16,
          286.16,
          286.24,
          286.18,
          286.09,
          286.105,
          286.15,
          286.33,
          286.73,
          286.555,
          286.7,
          286.8,
          286.71,
          286.56,
          286.54,
          286.325,
          286.43,
          286.52,
          286.89,
          286.925,
          286.815,
          286.825,
          null,
          287.1,
          287.2,
          287.21,
          287.28,
          287.41,
          287.49,
          287.42,
          287.665,
          287.37,
          287.295,
          287.32,
          287.365,
          287.32,
          null,
          287.325,
          null,
          287.36,
          287.15,
          287.19,
          287.415,
          287.18,
          287.395,
          287.395,
          287.365,
          287.59,
          287.61,
          null,
          287.485,
          287.475,
          287.58,
          287.78,
          287.73,
          287.655,
          287.815,
          287.93,
          288.005,
          287.89,
          287.83,
          287.96,
          287.91,
          287.77,
          287.65,
          287.635,
          287.735,
          287.72,
          287.66,
          287.65,
          287.645,
          287.675,
          287.53,
          287.53,
          287.62,
          287.62,
          287.44,
          287.77,
          287.67,
          287.54,
          287.56,
          287.245,
          287.39,
          287.27,
          286.95,
          286.71,
          286.99,
          287.06,
          287.26,
          287.59,
          287.545,
          287.43,
          287.705,
          287.69,
          287.635,
          null,
          287.995,
          null,
          287.485,
          287.11,
          287.09,
          287.15,
          286.56,
          null,
          285.955,
          285.77,
          286.14,
          286.335,
          286.15,
          286.27,
          286.31,
          286.76,
          286.54,
          285.985,
          286.35,
          286.495,
          286.48,
          286.2,
          286.09,
          286.015,
          286.08,
          286.25,
          286.51,
          286.415,
          286.855,
          286.79,
          286.82,
          286.92,
          287.22,
          287.09,
          287.025,
          287.33,
          287.19,
          287.31,
          287.54,
          287.35,
          287.485,
          287.585,
          287.86,
          287.57,
          287.51,
          287.71,
          287.55,
          287.67,
          287.87,
          287.9,
          287.58,
          288,
          286.9,
          286.43,
          286.9,
          287.14,
          286.82,
          287.23,
          287.32,
          287.1,
          286.845,
          282.34,
          281.6,
          282.535,
          282.8,
          282.4,
          282.675,
          282.56,
          282.82,
          282.88,
          282.885,
          282.64,
          282.505,
          282.465,
          281.96,
          281.24,
          280.8,
          280.82,
          281.12,
          280.98,
          281.2,
          281.105,
          281.24,
          281.41,
          281.09,
          281.38,
          281.395,
          281.08,
          281.2,
          281.92,
          282.01,
          282.38,
          282.2,
          282.22,
          282.23,
          282.11,
          282,
          282.07,
          282.26,
          282.1,
          282.115,
          282.32,
          282.24,
          282.21,
          282.315,
          282.375,
          282.1,
          281.735,
          281.23,
          281.29,
          281.24,
          281.135,
          281.47,
          281.645,
          281.705,
          281.57,
          281.75,
          281.86,
          281.55,
          281.51,
          281.64,
          281.43,
          281.71,
          282.11,
          282.1,
          282.04,
          281.93,
          282.18,
          281.785,
          281.875,
          281.53,
          281.98,
          281.91,
          282.37,
          282.425,
          282.905,
          282.85,
          283.22,
          283.34,
          283.75,
          283.895,
          284.03,
          283.62,
          284.14,
          284.41,
          284.485,
          284.44,
          284.285,
          284.62,
          284.375,
          284.44,
          284.45,
          284.56,
          284.42,
          284.15,
          284.32,
          284.355,
          283.87,
          283.87,
          283.7,
          283.88,
          284.09,
          284.47,
          null,
          284.795,
          284.69,
          284.76,
          284.015,
          284.14,
          284.04,
          283.915,
          283.805,
          283.435,
          283.62,
          283.64,
          283.29,
          283.03,
          283.31,
          283.455,
          283.36,
          283.33,
          283.61,
          283.87,
          283.735,
          283.71,
          283.785,
          283.765,
          283.645,
          283.52,
          283.35,
          283.18,
          null,
          283.095,
          283.045,
          282.96,
          283.05,
          282.895,
          283.18,
          282.975,
          282.98,
          282.755,
          282.88,
          283.02,
          283.005,
          283.09,
          283.17,
          283.34,
          283.22,
          283.115,
          283.215,
          282.9,
          282.84,
          282.915,
          283.03,
          283.36,
          283.52,
          283.5,
          283.28,
          283.3,
          283.405,
          283.065,
          282.94,
          282.7,
          282.82,
          282.51,
          282.39,
          282.595,
          282.545,
          282.375,
          282.195,
          282.295,
          282.22,
          282.53,
          282.56,
          282.755,
          282.57,
          282.58,
          282.72,
          282.58,
          282.71,
          283.225,
          283.09,
          283.23,
          283.16,
          283.225,
          283.74,
          283.71,
          283.7,
          283.79,
          283.765,
          283.8,
          283.635,
          283.5,
          283.69,
          284.125,
          284.115,
          283.94,
          283.9,
          283.93,
          284,
          284.1,
          284.22,
          284.415,
          284.54,
          284.52,
          284.58,
          284.49,
          284.23,
          284.08,
          284.17,
          284.155,
          284.05,
          284.01,
          284.355,
          null,
          284.24,
          284.13,
          null,
          283.905,
          284.13,
          284.22,
          284.275,
          284.445,
          284.63,
          284.65,
          284.845,
          285.025,
          284.79,
          285,
          285.505,
          285.46,
          285.33,
          284.98,
          284.965,
          285.02,
          285.1,
          285.135,
          285.01,
          284.885,
          284.615,
          284.5,
          284.365,
          284.28,
          284.29,
          284.2,
          284.39,
          284.38,
          284.49,
          284.48,
          284.245,
          284.12,
          284.26,
          284.2,
          284.12,
          284.27,
          284.47,
          284.65,
          284.45,
          284.73,
          284.885,
          284.72,
          284.85,
          284.82,
          284.77,
          284.74,
          284.58,
          284.715,
          284.575,
          284.445,
          284.31,
          284.23,
          284.29,
          284.39,
          284.45,
          284.53,
          284.465,
          284.435,
          284.54,
          null,
          284.71,
          284.52,
          284.38,
          284.5,
          284.455,
          null,
          284.695,
          284.85,
          284.79,
          284.86,
          285.18,
          285,
          285.135,
          285.28,
          285.38,
          285.42,
          285.42,
          285.24,
          284.98,
          285.025,
          285.1,
          285.345,
          285.475,
          285.09,
          284.835,
          284.87,
          284.86,
          285.06,
          285.17,
          285.17,
          285.305,
          285.46,
          285.3,
          285.32,
          285.52,
          285.3,
          285.42,
          285.58,
          285.405,
          285.67,
          285.435,
          null,
          285.36,
          285.13,
          285.16,
          285.335,
          285.235,
          285.33,
          285.47,
          285.66,
          285.92,
          285.95,
          285.98,
          286.17,
          286.09,
          285.93,
          285.7,
          285.63,
          285.66,
          285.14,
          285.24,
          285.32,
          285.18,
          284.99,
          285.13,
          285.33,
          285.32,
          285.195,
          285.115,
          285.39,
          285.31,
          285.36,
          285.5,
          285.52,
          285.48,
          285.22,
          285.26,
          285.36,
          284.9,
          284.89,
          284.94,
          284.735,
          284.985,
          284.97,
          284.89,
          284.81,
          284.635,
          284.63,
          284.67,
          284.82,
          284.91,
          284.985,
          284.71,
          284.15,
          284.12,
          284,
          284.51,
          284.575,
          284.63,
          284.54,
          284.48,
          284.79,
          284.2,
          284.65,
          284.06,
          284.08,
          284.13,
          284.155,
          284.17,
          284.25,
          284.31,
          284.27
         ],
         "type": "ohlc",
         "x": [
          "2020-04-14T09:30:00",
          "2020-04-14T09:31:00",
          "2020-04-14T09:32:00",
          "2020-04-14T09:33:00",
          "2020-04-14T09:34:00",
          "2020-04-14T09:35:00",
          "2020-04-14T09:36:00",
          "2020-04-14T09:37:00",
          "2020-04-14T09:38:00",
          "2020-04-14T09:39:00",
          "2020-04-14T09:40:00",
          "2020-04-14T09:41:00",
          "2020-04-14T09:42:00",
          "2020-04-14T09:43:00",
          "2020-04-14T09:44:00",
          "2020-04-14T09:45:00",
          "2020-04-14T09:46:00",
          "2020-04-14T09:47:00",
          "2020-04-14T09:48:00",
          "2020-04-14T09:49:00",
          "2020-04-14T09:50:00",
          "2020-04-14T09:51:00",
          "2020-04-14T09:52:00",
          "2020-04-14T09:53:00",
          "2020-04-14T09:54:00",
          "2020-04-14T09:55:00",
          "2020-04-14T09:56:00",
          "2020-04-14T09:57:00",
          "2020-04-14T09:58:00",
          "2020-04-14T09:59:00",
          "2020-04-14T10:00:00",
          "2020-04-14T10:01:00",
          "2020-04-14T10:02:00",
          "2020-04-14T10:03:00",
          "2020-04-14T10:04:00",
          "2020-04-14T10:05:00",
          "2020-04-14T10:06:00",
          "2020-04-14T10:07:00",
          "2020-04-14T10:08:00",
          "2020-04-14T10:09:00",
          "2020-04-14T10:10:00",
          "2020-04-14T10:11:00",
          "2020-04-14T10:12:00",
          "2020-04-14T10:13:00",
          "2020-04-14T10:14:00",
          "2020-04-14T10:15:00",
          "2020-04-14T10:16:00",
          "2020-04-14T10:17:00",
          "2020-04-14T10:18:00",
          "2020-04-14T10:19:00",
          "2020-04-14T10:20:00",
          "2020-04-14T10:21:00",
          "2020-04-14T10:22:00",
          "2020-04-14T10:23:00",
          "2020-04-14T10:24:00",
          "2020-04-14T10:25:00",
          "2020-04-14T10:26:00",
          "2020-04-14T10:27:00",
          "2020-04-14T10:28:00",
          "2020-04-14T10:29:00",
          "2020-04-14T10:30:00",
          "2020-04-14T10:31:00",
          "2020-04-14T10:32:00",
          "2020-04-14T10:33:00",
          "2020-04-14T10:34:00",
          "2020-04-14T10:35:00",
          "2020-04-14T10:36:00",
          "2020-04-14T10:37:00",
          "2020-04-14T10:38:00",
          "2020-04-14T10:39:00",
          "2020-04-14T10:40:00",
          "2020-04-14T10:41:00",
          "2020-04-14T10:42:00",
          "2020-04-14T10:43:00",
          "2020-04-14T10:44:00",
          "2020-04-14T10:45:00",
          "2020-04-14T10:46:00",
          "2020-04-14T10:47:00",
          "2020-04-14T10:48:00",
          "2020-04-14T10:49:00",
          "2020-04-14T10:50:00",
          "2020-04-14T10:51:00",
          "2020-04-14T10:52:00",
          "2020-04-14T10:53:00",
          "2020-04-14T10:54:00",
          "2020-04-14T10:55:00",
          "2020-04-14T10:56:00",
          "2020-04-14T10:57:00",
          "2020-04-14T10:58:00",
          "2020-04-14T10:59:00",
          "2020-04-14T11:00:00",
          "2020-04-14T11:01:00",
          "2020-04-14T11:02:00",
          "2020-04-14T11:03:00",
          "2020-04-14T11:04:00",
          "2020-04-14T11:05:00",
          "2020-04-14T11:06:00",
          "2020-04-14T11:07:00",
          "2020-04-14T11:08:00",
          "2020-04-14T11:09:00",
          "2020-04-14T11:10:00",
          "2020-04-14T11:11:00",
          "2020-04-14T11:12:00",
          "2020-04-14T11:13:00",
          "2020-04-14T11:14:00",
          "2020-04-14T11:15:00",
          "2020-04-14T11:16:00",
          "2020-04-14T11:17:00",
          "2020-04-14T11:18:00",
          "2020-04-14T11:19:00",
          "2020-04-14T11:20:00",
          "2020-04-14T11:21:00",
          "2020-04-14T11:22:00",
          "2020-04-14T11:23:00",
          "2020-04-14T11:24:00",
          "2020-04-14T11:25:00",
          "2020-04-14T11:26:00",
          "2020-04-14T11:27:00",
          "2020-04-14T11:28:00",
          "2020-04-14T11:29:00",
          "2020-04-14T11:30:00",
          "2020-04-14T11:31:00",
          "2020-04-14T11:32:00",
          "2020-04-14T11:33:00",
          "2020-04-14T11:34:00",
          "2020-04-14T11:35:00",
          "2020-04-14T11:36:00",
          "2020-04-14T11:37:00",
          "2020-04-14T11:38:00",
          "2020-04-14T11:39:00",
          "2020-04-14T11:40:00",
          "2020-04-14T11:41:00",
          "2020-04-14T11:42:00",
          "2020-04-14T11:43:00",
          "2020-04-14T11:44:00",
          "2020-04-14T11:45:00",
          "2020-04-14T11:46:00",
          "2020-04-14T11:47:00",
          "2020-04-14T11:48:00",
          "2020-04-14T11:49:00",
          "2020-04-14T11:50:00",
          "2020-04-14T11:51:00",
          "2020-04-14T11:52:00",
          "2020-04-14T11:53:00",
          "2020-04-14T11:54:00",
          "2020-04-14T11:55:00",
          "2020-04-14T11:56:00",
          "2020-04-14T11:57:00",
          "2020-04-14T11:58:00",
          "2020-04-14T11:59:00",
          "2020-04-14T12:00:00",
          "2020-04-14T12:01:00",
          "2020-04-14T12:02:00",
          "2020-04-14T12:03:00",
          "2020-04-14T12:04:00",
          "2020-04-14T12:05:00",
          "2020-04-14T12:06:00",
          "2020-04-14T12:07:00",
          "2020-04-14T12:08:00",
          "2020-04-14T12:09:00",
          "2020-04-14T12:10:00",
          "2020-04-14T12:11:00",
          "2020-04-14T12:12:00",
          "2020-04-14T12:13:00",
          "2020-04-14T12:14:00",
          "2020-04-14T12:15:00",
          "2020-04-14T12:16:00",
          "2020-04-14T12:17:00",
          "2020-04-14T12:18:00",
          "2020-04-14T12:19:00",
          "2020-04-14T12:20:00",
          "2020-04-14T12:21:00",
          "2020-04-14T12:22:00",
          "2020-04-14T12:23:00",
          "2020-04-14T12:24:00",
          "2020-04-14T12:25:00",
          "2020-04-14T12:26:00",
          "2020-04-14T12:27:00",
          "2020-04-14T12:28:00",
          "2020-04-14T12:29:00",
          "2020-04-14T12:30:00",
          "2020-04-14T12:31:00",
          "2020-04-14T12:32:00",
          "2020-04-14T12:33:00",
          "2020-04-14T12:34:00",
          "2020-04-14T12:35:00",
          "2020-04-14T12:36:00",
          "2020-04-14T12:37:00",
          "2020-04-14T12:38:00",
          "2020-04-14T12:39:00",
          "2020-04-14T12:40:00",
          "2020-04-14T12:41:00",
          "2020-04-14T12:42:00",
          "2020-04-14T12:43:00",
          "2020-04-14T12:44:00",
          "2020-04-14T12:45:00",
          "2020-04-14T12:46:00",
          "2020-04-14T12:47:00",
          "2020-04-14T12:48:00",
          "2020-04-14T12:49:00",
          "2020-04-14T12:50:00",
          "2020-04-14T12:51:00",
          "2020-04-14T12:52:00",
          "2020-04-14T12:53:00",
          "2020-04-14T12:54:00",
          "2020-04-14T12:55:00",
          "2020-04-14T12:56:00",
          "2020-04-14T12:57:00",
          "2020-04-14T12:58:00",
          "2020-04-14T12:59:00",
          "2020-04-14T13:00:00",
          "2020-04-14T13:01:00",
          "2020-04-14T13:02:00",
          "2020-04-14T13:03:00",
          "2020-04-14T13:04:00",
          "2020-04-14T13:05:00",
          "2020-04-14T13:06:00",
          "2020-04-14T13:07:00",
          "2020-04-14T13:08:00",
          "2020-04-14T13:09:00",
          "2020-04-14T13:10:00",
          "2020-04-14T13:11:00",
          "2020-04-14T13:12:00",
          "2020-04-14T13:13:00",
          "2020-04-14T13:14:00",
          "2020-04-14T13:15:00",
          "2020-04-14T13:16:00",
          "2020-04-14T13:17:00",
          "2020-04-14T13:18:00",
          "2020-04-14T13:19:00",
          "2020-04-14T13:20:00",
          "2020-04-14T13:21:00",
          "2020-04-14T13:22:00",
          "2020-04-14T13:23:00",
          "2020-04-14T13:24:00",
          "2020-04-14T13:25:00",
          "2020-04-14T13:26:00",
          "2020-04-14T13:27:00",
          "2020-04-14T13:28:00",
          "2020-04-14T13:29:00",
          "2020-04-14T13:30:00",
          "2020-04-14T13:31:00",
          "2020-04-14T13:32:00",
          "2020-04-14T13:33:00",
          "2020-04-14T13:34:00",
          "2020-04-14T13:35:00",
          "2020-04-14T13:36:00",
          "2020-04-14T13:37:00",
          "2020-04-14T13:38:00",
          "2020-04-14T13:39:00",
          "2020-04-14T13:40:00",
          "2020-04-14T13:41:00",
          "2020-04-14T13:42:00",
          "2020-04-14T13:43:00",
          "2020-04-14T13:44:00",
          "2020-04-14T13:45:00",
          "2020-04-14T13:46:00",
          "2020-04-14T13:47:00",
          "2020-04-14T13:48:00",
          "2020-04-14T13:49:00",
          "2020-04-14T13:50:00",
          "2020-04-14T13:51:00",
          "2020-04-14T13:52:00",
          "2020-04-14T13:53:00",
          "2020-04-14T13:54:00",
          "2020-04-14T13:55:00",
          "2020-04-14T13:56:00",
          "2020-04-14T13:57:00",
          "2020-04-14T13:58:00",
          "2020-04-14T13:59:00",
          "2020-04-14T14:00:00",
          "2020-04-14T14:01:00",
          "2020-04-14T14:02:00",
          "2020-04-14T14:03:00",
          "2020-04-14T14:04:00",
          "2020-04-14T14:05:00",
          "2020-04-14T14:06:00",
          "2020-04-14T14:07:00",
          "2020-04-14T14:08:00",
          "2020-04-14T14:09:00",
          "2020-04-14T14:10:00",
          "2020-04-14T14:11:00",
          "2020-04-14T14:12:00",
          "2020-04-14T14:13:00",
          "2020-04-14T14:14:00",
          "2020-04-14T14:15:00",
          "2020-04-14T14:16:00",
          "2020-04-14T14:17:00",
          "2020-04-14T14:18:00",
          "2020-04-14T14:19:00",
          "2020-04-14T14:20:00",
          "2020-04-14T14:21:00",
          "2020-04-14T14:22:00",
          "2020-04-14T14:23:00",
          "2020-04-14T14:24:00",
          "2020-04-14T14:25:00",
          "2020-04-14T14:26:00",
          "2020-04-14T14:27:00",
          "2020-04-14T14:28:00",
          "2020-04-14T14:29:00",
          "2020-04-14T14:30:00",
          "2020-04-14T14:31:00",
          "2020-04-14T14:32:00",
          "2020-04-14T14:33:00",
          "2020-04-14T14:34:00",
          "2020-04-14T14:35:00",
          "2020-04-14T14:36:00",
          "2020-04-14T14:37:00",
          "2020-04-14T14:38:00",
          "2020-04-14T14:39:00",
          "2020-04-14T14:40:00",
          "2020-04-14T14:41:00",
          "2020-04-14T14:42:00",
          "2020-04-14T14:43:00",
          "2020-04-14T14:44:00",
          "2020-04-14T14:45:00",
          "2020-04-14T14:46:00",
          "2020-04-14T14:47:00",
          "2020-04-14T14:48:00",
          "2020-04-14T14:49:00",
          "2020-04-14T14:50:00",
          "2020-04-14T14:51:00",
          "2020-04-14T14:52:00",
          "2020-04-14T14:53:00",
          "2020-04-14T14:54:00",
          "2020-04-14T14:55:00",
          "2020-04-14T14:56:00",
          "2020-04-14T14:57:00",
          "2020-04-14T14:58:00",
          "2020-04-14T14:59:00",
          "2020-04-14T15:00:00",
          "2020-04-14T15:01:00",
          "2020-04-14T15:02:00",
          "2020-04-14T15:03:00",
          "2020-04-14T15:04:00",
          "2020-04-14T15:05:00",
          "2020-04-14T15:06:00",
          "2020-04-14T15:07:00",
          "2020-04-14T15:08:00",
          "2020-04-14T15:09:00",
          "2020-04-14T15:10:00",
          "2020-04-14T15:11:00",
          "2020-04-14T15:12:00",
          "2020-04-14T15:13:00",
          "2020-04-14T15:14:00",
          "2020-04-14T15:15:00",
          "2020-04-14T15:16:00",
          "2020-04-14T15:17:00",
          "2020-04-14T15:18:00",
          "2020-04-14T15:19:00",
          "2020-04-14T15:20:00",
          "2020-04-14T15:21:00",
          "2020-04-14T15:22:00",
          "2020-04-14T15:23:00",
          "2020-04-14T15:24:00",
          "2020-04-14T15:25:00",
          "2020-04-14T15:26:00",
          "2020-04-14T15:27:00",
          "2020-04-14T15:28:00",
          "2020-04-14T15:29:00",
          "2020-04-14T15:30:00",
          "2020-04-14T15:31:00",
          "2020-04-14T15:32:00",
          "2020-04-14T15:33:00",
          "2020-04-14T15:34:00",
          "2020-04-14T15:35:00",
          "2020-04-14T15:36:00",
          "2020-04-14T15:37:00",
          "2020-04-14T15:38:00",
          "2020-04-14T15:39:00",
          "2020-04-14T15:40:00",
          "2020-04-14T15:41:00",
          "2020-04-14T15:42:00",
          "2020-04-14T15:43:00",
          "2020-04-14T15:44:00",
          "2020-04-14T15:45:00",
          "2020-04-14T15:46:00",
          "2020-04-14T15:47:00",
          "2020-04-14T15:48:00",
          "2020-04-14T15:49:00",
          "2020-04-14T15:50:00",
          "2020-04-14T15:51:00",
          "2020-04-14T15:52:00",
          "2020-04-14T15:53:00",
          "2020-04-14T15:54:00",
          "2020-04-14T15:55:00",
          "2020-04-14T15:56:00",
          "2020-04-14T15:57:00",
          "2020-04-14T15:58:00",
          "2020-04-14T15:59:00",
          "2020-04-15T09:30:00",
          "2020-04-15T09:31:00",
          "2020-04-15T09:32:00",
          "2020-04-15T09:33:00",
          "2020-04-15T09:34:00",
          "2020-04-15T09:35:00",
          "2020-04-15T09:36:00",
          "2020-04-15T09:37:00",
          "2020-04-15T09:38:00",
          "2020-04-15T09:39:00",
          "2020-04-15T09:40:00",
          "2020-04-15T09:41:00",
          "2020-04-15T09:42:00",
          "2020-04-15T09:43:00",
          "2020-04-15T09:44:00",
          "2020-04-15T09:45:00",
          "2020-04-15T09:46:00",
          "2020-04-15T09:47:00",
          "2020-04-15T09:48:00",
          "2020-04-15T09:49:00",
          "2020-04-15T09:50:00",
          "2020-04-15T09:51:00",
          "2020-04-15T09:52:00",
          "2020-04-15T09:53:00",
          "2020-04-15T09:54:00",
          "2020-04-15T09:55:00",
          "2020-04-15T09:56:00",
          "2020-04-15T09:57:00",
          "2020-04-15T09:58:00",
          "2020-04-15T09:59:00",
          "2020-04-15T10:00:00",
          "2020-04-15T10:01:00",
          "2020-04-15T10:02:00",
          "2020-04-15T10:03:00",
          "2020-04-15T10:04:00",
          "2020-04-15T10:05:00",
          "2020-04-15T10:06:00",
          "2020-04-15T10:07:00",
          "2020-04-15T10:08:00",
          "2020-04-15T10:09:00",
          "2020-04-15T10:10:00",
          "2020-04-15T10:11:00",
          "2020-04-15T10:12:00",
          "2020-04-15T10:13:00",
          "2020-04-15T10:14:00",
          "2020-04-15T10:15:00",
          "2020-04-15T10:16:00",
          "2020-04-15T10:17:00",
          "2020-04-15T10:18:00",
          "2020-04-15T10:19:00",
          "2020-04-15T10:20:00",
          "2020-04-15T10:21:00",
          "2020-04-15T10:22:00",
          "2020-04-15T10:23:00",
          "2020-04-15T10:24:00",
          "2020-04-15T10:25:00",
          "2020-04-15T10:26:00",
          "2020-04-15T10:27:00",
          "2020-04-15T10:28:00",
          "2020-04-15T10:29:00",
          "2020-04-15T10:30:00",
          "2020-04-15T10:31:00",
          "2020-04-15T10:32:00",
          "2020-04-15T10:33:00",
          "2020-04-15T10:34:00",
          "2020-04-15T10:35:00",
          "2020-04-15T10:36:00",
          "2020-04-15T10:37:00",
          "2020-04-15T10:38:00",
          "2020-04-15T10:39:00",
          "2020-04-15T10:40:00",
          "2020-04-15T10:41:00",
          "2020-04-15T10:42:00",
          "2020-04-15T10:43:00",
          "2020-04-15T10:44:00",
          "2020-04-15T10:45:00",
          "2020-04-15T10:46:00",
          "2020-04-15T10:47:00",
          "2020-04-15T10:48:00",
          "2020-04-15T10:49:00",
          "2020-04-15T10:50:00",
          "2020-04-15T10:51:00",
          "2020-04-15T10:52:00",
          "2020-04-15T10:53:00",
          "2020-04-15T10:54:00",
          "2020-04-15T10:55:00",
          "2020-04-15T10:56:00",
          "2020-04-15T10:57:00",
          "2020-04-15T10:58:00",
          "2020-04-15T10:59:00",
          "2020-04-15T11:00:00",
          "2020-04-15T11:01:00",
          "2020-04-15T11:02:00",
          "2020-04-15T11:03:00",
          "2020-04-15T11:04:00",
          "2020-04-15T11:05:00",
          "2020-04-15T11:06:00",
          "2020-04-15T11:07:00",
          "2020-04-15T11:08:00",
          "2020-04-15T11:09:00",
          "2020-04-15T11:10:00",
          "2020-04-15T11:11:00",
          "2020-04-15T11:12:00",
          "2020-04-15T11:13:00",
          "2020-04-15T11:14:00",
          "2020-04-15T11:15:00",
          "2020-04-15T11:16:00",
          "2020-04-15T11:17:00",
          "2020-04-15T11:18:00",
          "2020-04-15T11:19:00",
          "2020-04-15T11:20:00",
          "2020-04-15T11:21:00",
          "2020-04-15T11:22:00",
          "2020-04-15T11:23:00",
          "2020-04-15T11:24:00",
          "2020-04-15T11:25:00",
          "2020-04-15T11:26:00",
          "2020-04-15T11:27:00",
          "2020-04-15T11:28:00",
          "2020-04-15T11:29:00",
          "2020-04-15T11:30:00",
          "2020-04-15T11:31:00",
          "2020-04-15T11:32:00",
          "2020-04-15T11:33:00",
          "2020-04-15T11:34:00",
          "2020-04-15T11:35:00",
          "2020-04-15T11:36:00",
          "2020-04-15T11:37:00",
          "2020-04-15T11:38:00",
          "2020-04-15T11:39:00",
          "2020-04-15T11:40:00",
          "2020-04-15T11:41:00",
          "2020-04-15T11:42:00",
          "2020-04-15T11:43:00",
          "2020-04-15T11:44:00",
          "2020-04-15T11:45:00",
          "2020-04-15T11:46:00",
          "2020-04-15T11:47:00",
          "2020-04-15T11:48:00",
          "2020-04-15T11:49:00",
          "2020-04-15T11:50:00",
          "2020-04-15T11:51:00",
          "2020-04-15T11:52:00",
          "2020-04-15T11:53:00",
          "2020-04-15T11:54:00",
          "2020-04-15T11:55:00",
          "2020-04-15T11:56:00",
          "2020-04-15T11:57:00",
          "2020-04-15T11:58:00",
          "2020-04-15T11:59:00",
          "2020-04-15T12:00:00",
          "2020-04-15T12:01:00",
          "2020-04-15T12:02:00",
          "2020-04-15T12:03:00",
          "2020-04-15T12:04:00",
          "2020-04-15T12:05:00",
          "2020-04-15T12:06:00",
          "2020-04-15T12:07:00",
          "2020-04-15T12:08:00",
          "2020-04-15T12:09:00",
          "2020-04-15T12:10:00",
          "2020-04-15T12:11:00",
          "2020-04-15T12:12:00",
          "2020-04-15T12:13:00",
          "2020-04-15T12:14:00",
          "2020-04-15T12:15:00",
          "2020-04-15T12:16:00",
          "2020-04-15T12:17:00",
          "2020-04-15T12:18:00",
          "2020-04-15T12:19:00",
          "2020-04-15T12:20:00",
          "2020-04-15T12:21:00",
          "2020-04-15T12:22:00",
          "2020-04-15T12:23:00",
          "2020-04-15T12:24:00",
          "2020-04-15T12:25:00",
          "2020-04-15T12:26:00",
          "2020-04-15T12:27:00",
          "2020-04-15T12:28:00",
          "2020-04-15T12:29:00",
          "2020-04-15T12:30:00",
          "2020-04-15T12:31:00",
          "2020-04-15T12:32:00",
          "2020-04-15T12:33:00",
          "2020-04-15T12:34:00",
          "2020-04-15T12:35:00",
          "2020-04-15T12:36:00",
          "2020-04-15T12:37:00",
          "2020-04-15T12:38:00",
          "2020-04-15T12:39:00",
          "2020-04-15T12:40:00",
          "2020-04-15T12:41:00",
          "2020-04-15T12:42:00",
          "2020-04-15T12:43:00",
          "2020-04-15T12:44:00",
          "2020-04-15T12:45:00",
          "2020-04-15T12:46:00",
          "2020-04-15T12:47:00",
          "2020-04-15T12:48:00",
          "2020-04-15T12:49:00",
          "2020-04-15T12:50:00",
          "2020-04-15T12:51:00",
          "2020-04-15T12:52:00",
          "2020-04-15T12:53:00",
          "2020-04-15T12:54:00",
          "2020-04-15T12:55:00",
          "2020-04-15T12:56:00",
          "2020-04-15T12:57:00",
          "2020-04-15T12:58:00",
          "2020-04-15T12:59:00",
          "2020-04-15T13:00:00",
          "2020-04-15T13:01:00",
          "2020-04-15T13:02:00",
          "2020-04-15T13:03:00",
          "2020-04-15T13:04:00",
          "2020-04-15T13:05:00",
          "2020-04-15T13:06:00",
          "2020-04-15T13:07:00",
          "2020-04-15T13:08:00",
          "2020-04-15T13:09:00",
          "2020-04-15T13:10:00",
          "2020-04-15T13:11:00",
          "2020-04-15T13:12:00",
          "2020-04-15T13:13:00",
          "2020-04-15T13:14:00",
          "2020-04-15T13:15:00",
          "2020-04-15T13:16:00",
          "2020-04-15T13:17:00",
          "2020-04-15T13:18:00",
          "2020-04-15T13:19:00",
          "2020-04-15T13:20:00",
          "2020-04-15T13:21:00",
          "2020-04-15T13:22:00",
          "2020-04-15T13:23:00",
          "2020-04-15T13:24:00",
          "2020-04-15T13:25:00",
          "2020-04-15T13:26:00",
          "2020-04-15T13:27:00",
          "2020-04-15T13:28:00",
          "2020-04-15T13:29:00",
          "2020-04-15T13:30:00",
          "2020-04-15T13:31:00",
          "2020-04-15T13:32:00",
          "2020-04-15T13:33:00",
          "2020-04-15T13:34:00",
          "2020-04-15T13:35:00",
          "2020-04-15T13:36:00",
          "2020-04-15T13:37:00",
          "2020-04-15T13:38:00",
          "2020-04-15T13:39:00",
          "2020-04-15T13:40:00",
          "2020-04-15T13:41:00",
          "2020-04-15T13:42:00",
          "2020-04-15T13:43:00",
          "2020-04-15T13:44:00",
          "2020-04-15T13:45:00",
          "2020-04-15T13:46:00",
          "2020-04-15T13:47:00",
          "2020-04-15T13:48:00",
          "2020-04-15T13:49:00",
          "2020-04-15T13:50:00",
          "2020-04-15T13:51:00",
          "2020-04-15T13:52:00",
          "2020-04-15T13:53:00",
          "2020-04-15T13:54:00",
          "2020-04-15T13:55:00",
          "2020-04-15T13:56:00",
          "2020-04-15T13:57:00",
          "2020-04-15T13:58:00",
          "2020-04-15T13:59:00",
          "2020-04-15T14:00:00",
          "2020-04-15T14:01:00",
          "2020-04-15T14:02:00",
          "2020-04-15T14:03:00",
          "2020-04-15T14:04:00",
          "2020-04-15T14:05:00",
          "2020-04-15T14:06:00",
          "2020-04-15T14:07:00",
          "2020-04-15T14:08:00",
          "2020-04-15T14:09:00",
          "2020-04-15T14:10:00",
          "2020-04-15T14:11:00",
          "2020-04-15T14:12:00",
          "2020-04-15T14:13:00",
          "2020-04-15T14:14:00",
          "2020-04-15T14:15:00",
          "2020-04-15T14:16:00",
          "2020-04-15T14:17:00",
          "2020-04-15T14:18:00",
          "2020-04-15T14:19:00",
          "2020-04-15T14:20:00",
          "2020-04-15T14:21:00",
          "2020-04-15T14:22:00",
          "2020-04-15T14:23:00",
          "2020-04-15T14:24:00",
          "2020-04-15T14:25:00",
          "2020-04-15T14:26:00",
          "2020-04-15T14:27:00",
          "2020-04-15T14:28:00",
          "2020-04-15T14:29:00",
          "2020-04-15T14:30:00",
          "2020-04-15T14:31:00",
          "2020-04-15T14:32:00",
          "2020-04-15T14:33:00",
          "2020-04-15T14:34:00",
          "2020-04-15T14:35:00",
          "2020-04-15T14:36:00",
          "2020-04-15T14:37:00",
          "2020-04-15T14:38:00",
          "2020-04-15T14:39:00",
          "2020-04-15T14:40:00",
          "2020-04-15T14:41:00",
          "2020-04-15T14:42:00",
          "2020-04-15T14:43:00",
          "2020-04-15T14:44:00",
          "2020-04-15T14:45:00",
          "2020-04-15T14:46:00",
          "2020-04-15T14:47:00",
          "2020-04-15T14:48:00",
          "2020-04-15T14:49:00",
          "2020-04-15T14:50:00",
          "2020-04-15T14:51:00",
          "2020-04-15T14:52:00",
          "2020-04-15T14:53:00",
          "2020-04-15T14:54:00",
          "2020-04-15T14:55:00",
          "2020-04-15T14:56:00",
          "2020-04-15T14:57:00",
          "2020-04-15T14:58:00",
          "2020-04-15T14:59:00",
          "2020-04-15T15:00:00",
          "2020-04-15T15:01:00",
          "2020-04-15T15:02:00",
          "2020-04-15T15:03:00",
          "2020-04-15T15:04:00",
          "2020-04-15T15:05:00",
          "2020-04-15T15:06:00",
          "2020-04-15T15:07:00",
          "2020-04-15T15:08:00",
          "2020-04-15T15:09:00",
          "2020-04-15T15:10:00",
          "2020-04-15T15:11:00",
          "2020-04-15T15:12:00",
          "2020-04-15T15:13:00",
          "2020-04-15T15:14:00",
          "2020-04-15T15:15:00",
          "2020-04-15T15:16:00",
          "2020-04-15T15:17:00",
          "2020-04-15T15:18:00",
          "2020-04-15T15:19:00",
          "2020-04-15T15:20:00",
          "2020-04-15T15:21:00",
          "2020-04-15T15:22:00",
          "2020-04-15T15:23:00",
          "2020-04-15T15:24:00",
          "2020-04-15T15:25:00",
          "2020-04-15T15:26:00",
          "2020-04-15T15:27:00",
          "2020-04-15T15:28:00",
          "2020-04-15T15:29:00",
          "2020-04-15T15:30:00",
          "2020-04-15T15:31:00",
          "2020-04-15T15:32:00",
          "2020-04-15T15:33:00",
          "2020-04-15T15:34:00",
          "2020-04-15T15:35:00",
          "2020-04-15T15:36:00",
          "2020-04-15T15:37:00",
          "2020-04-15T15:38:00",
          "2020-04-15T15:39:00",
          "2020-04-15T15:40:00",
          "2020-04-15T15:41:00",
          "2020-04-15T15:42:00",
          "2020-04-15T15:43:00",
          "2020-04-15T15:44:00",
          "2020-04-15T15:45:00",
          "2020-04-15T15:46:00",
          "2020-04-15T15:47:00",
          "2020-04-15T15:48:00",
          "2020-04-15T15:49:00",
          "2020-04-15T15:50:00",
          "2020-04-15T15:51:00",
          "2020-04-15T15:52:00",
          "2020-04-15T15:53:00",
          "2020-04-15T15:54:00",
          "2020-04-15T15:55:00",
          "2020-04-15T15:56:00",
          "2020-04-15T15:57:00",
          "2020-04-15T15:58:00",
          "2020-04-15T15:59:00"
         ]
        }
       ],
       "layout": {
        "template": {
         "data": {
          "bar": [
           {
            "error_x": {
             "color": "#2a3f5f"
            },
            "error_y": {
             "color": "#2a3f5f"
            },
            "marker": {
             "line": {
              "color": "#E5ECF6",
              "width": 0.5
             }
            },
            "type": "bar"
           }
          ],
          "barpolar": [
           {
            "marker": {
             "line": {
              "color": "#E5ECF6",
              "width": 0.5
             }
            },
            "type": "barpolar"
           }
          ],
          "carpet": [
           {
            "aaxis": {
             "endlinecolor": "#2a3f5f",
             "gridcolor": "white",
             "linecolor": "white",
             "minorgridcolor": "white",
             "startlinecolor": "#2a3f5f"
            },
            "baxis": {
             "endlinecolor": "#2a3f5f",
             "gridcolor": "white",
             "linecolor": "white",
             "minorgridcolor": "white",
             "startlinecolor": "#2a3f5f"
            },
            "type": "carpet"
           }
          ],
          "choropleth": [
           {
            "colorbar": {
             "outlinewidth": 0,
             "ticks": ""
            },
            "type": "choropleth"
           }
          ],
          "contour": [
           {
            "colorbar": {
             "outlinewidth": 0,
             "ticks": ""
            },
            "colorscale": [
             [
              0,
              "#0d0887"
             ],
             [
              0.1111111111111111,
              "#46039f"
             ],
             [
              0.2222222222222222,
              "#7201a8"
             ],
             [
              0.3333333333333333,
              "#9c179e"
             ],
             [
              0.4444444444444444,
              "#bd3786"
             ],
             [
              0.5555555555555556,
              "#d8576b"
             ],
             [
              0.6666666666666666,
              "#ed7953"
             ],
             [
              0.7777777777777778,
              "#fb9f3a"
             ],
             [
              0.8888888888888888,
              "#fdca26"
             ],
             [
              1,
              "#f0f921"
             ]
            ],
            "type": "contour"
           }
          ],
          "contourcarpet": [
           {
            "colorbar": {
             "outlinewidth": 0,
             "ticks": ""
            },
            "type": "contourcarpet"
           }
          ],
          "heatmap": [
           {
            "colorbar": {
             "outlinewidth": 0,
             "ticks": ""
            },
            "colorscale": [
             [
              0,
              "#0d0887"
             ],
             [
              0.1111111111111111,
              "#46039f"
             ],
             [
              0.2222222222222222,
              "#7201a8"
             ],
             [
              0.3333333333333333,
              "#9c179e"
             ],
             [
              0.4444444444444444,
              "#bd3786"
             ],
             [
              0.5555555555555556,
              "#d8576b"
             ],
             [
              0.6666666666666666,
              "#ed7953"
             ],
             [
              0.7777777777777778,
              "#fb9f3a"
             ],
             [
              0.8888888888888888,
              "#fdca26"
             ],
             [
              1,
              "#f0f921"
             ]
            ],
            "type": "heatmap"
           }
          ],
          "heatmapgl": [
           {
            "colorbar": {
             "outlinewidth": 0,
             "ticks": ""
            },
            "colorscale": [
             [
              0,
              "#0d0887"
             ],
             [
              0.1111111111111111,
              "#46039f"
             ],
             [
              0.2222222222222222,
              "#7201a8"
             ],
             [
              0.3333333333333333,
              "#9c179e"
             ],
             [
              0.4444444444444444,
              "#bd3786"
             ],
             [
              0.5555555555555556,
              "#d8576b"
             ],
             [
              0.6666666666666666,
              "#ed7953"
             ],
             [
              0.7777777777777778,
              "#fb9f3a"
             ],
             [
              0.8888888888888888,
              "#fdca26"
             ],
             [
              1,
              "#f0f921"
             ]
            ],
            "type": "heatmapgl"
           }
          ],
          "histogram": [
           {
            "marker": {
             "colorbar": {
              "outlinewidth": 0,
              "ticks": ""
             }
            },
            "type": "histogram"
           }
          ],
          "histogram2d": [
           {
            "colorbar": {
             "outlinewidth": 0,
             "ticks": ""
            },
            "colorscale": [
             [
              0,
              "#0d0887"
             ],
             [
              0.1111111111111111,
              "#46039f"
             ],
             [
              0.2222222222222222,
              "#7201a8"
             ],
             [
              0.3333333333333333,
              "#9c179e"
             ],
             [
              0.4444444444444444,
              "#bd3786"
             ],
             [
              0.5555555555555556,
              "#d8576b"
             ],
             [
              0.6666666666666666,
              "#ed7953"
             ],
             [
              0.7777777777777778,
              "#fb9f3a"
             ],
             [
              0.8888888888888888,
              "#fdca26"
             ],
             [
              1,
              "#f0f921"
             ]
            ],
            "type": "histogram2d"
           }
          ],
          "histogram2dcontour": [
           {
            "colorbar": {
             "outlinewidth": 0,
             "ticks": ""
            },
            "colorscale": [
             [
              0,
              "#0d0887"
             ],
             [
              0.1111111111111111,
              "#46039f"
             ],
             [
              0.2222222222222222,
              "#7201a8"
             ],
             [
              0.3333333333333333,
              "#9c179e"
             ],
             [
              0.4444444444444444,
              "#bd3786"
             ],
             [
              0.5555555555555556,
              "#d8576b"
             ],
             [
              0.6666666666666666,
              "#ed7953"
             ],
             [
              0.7777777777777778,
              "#fb9f3a"
             ],
             [
              0.8888888888888888,
              "#fdca26"
             ],
             [
              1,
              "#f0f921"
             ]
            ],
            "type": "histogram2dcontour"
           }
          ],
          "mesh3d": [
           {
            "colorbar": {
             "outlinewidth": 0,
             "ticks": ""
            },
            "type": "mesh3d"
           }
          ],
          "parcoords": [
           {
            "line": {
             "colorbar": {
              "outlinewidth": 0,
              "ticks": ""
             }
            },
            "type": "parcoords"
           }
          ],
          "pie": [
           {
            "automargin": true,
            "type": "pie"
           }
          ],
          "scatter": [
           {
            "marker": {
             "colorbar": {
              "outlinewidth": 0,
              "ticks": ""
             }
            },
            "type": "scatter"
           }
          ],
          "scatter3d": [
           {
            "line": {
             "colorbar": {
              "outlinewidth": 0,
              "ticks": ""
             }
            },
            "marker": {
             "colorbar": {
              "outlinewidth": 0,
              "ticks": ""
             }
            },
            "type": "scatter3d"
           }
          ],
          "scattercarpet": [
           {
            "marker": {
             "colorbar": {
              "outlinewidth": 0,
              "ticks": ""
             }
            },
            "type": "scattercarpet"
           }
          ],
          "scattergeo": [
           {
            "marker": {
             "colorbar": {
              "outlinewidth": 0,
              "ticks": ""
             }
            },
            "type": "scattergeo"
           }
          ],
          "scattergl": [
           {
            "marker": {
             "colorbar": {
              "outlinewidth": 0,
              "ticks": ""
             }
            },
            "type": "scattergl"
           }
          ],
          "scattermapbox": [
           {
            "marker": {
             "colorbar": {
              "outlinewidth": 0,
              "ticks": ""
             }
            },
            "type": "scattermapbox"
           }
          ],
          "scatterpolar": [
           {
            "marker": {
             "colorbar": {
              "outlinewidth": 0,
              "ticks": ""
             }
            },
            "type": "scatterpolar"
           }
          ],
          "scatterpolargl": [
           {
            "marker": {
             "colorbar": {
              "outlinewidth": 0,
              "ticks": ""
             }
            },
            "type": "scatterpolargl"
           }
          ],
          "scatterternary": [
           {
            "marker": {
             "colorbar": {
              "outlinewidth": 0,
              "ticks": ""
             }
            },
            "type": "scatterternary"
           }
          ],
          "surface": [
           {
            "colorbar": {
             "outlinewidth": 0,
             "ticks": ""
            },
            "colorscale": [
             [
              0,
              "#0d0887"
             ],
             [
              0.1111111111111111,
              "#46039f"
             ],
             [
              0.2222222222222222,
              "#7201a8"
             ],
             [
              0.3333333333333333,
              "#9c179e"
             ],
             [
              0.4444444444444444,
              "#bd3786"
             ],
             [
              0.5555555555555556,
              "#d8576b"
             ],
             [
              0.6666666666666666,
              "#ed7953"
             ],
             [
              0.7777777777777778,
              "#fb9f3a"
             ],
             [
              0.8888888888888888,
              "#fdca26"
             ],
             [
              1,
              "#f0f921"
             ]
            ],
            "type": "surface"
           }
          ],
          "table": [
           {
            "cells": {
             "fill": {
              "color": "#EBF0F8"
             },
             "line": {
              "color": "white"
             }
            },
            "header": {
             "fill": {
              "color": "#C8D4E3"
             },
             "line": {
              "color": "white"
             }
            },
            "type": "table"
           }
          ]
         },
         "layout": {
          "annotationdefaults": {
           "arrowcolor": "#2a3f5f",
           "arrowhead": 0,
           "arrowwidth": 1
          },
          "coloraxis": {
           "colorbar": {
            "outlinewidth": 0,
            "ticks": ""
           }
          },
          "colorscale": {
           "diverging": [
            [
             0,
             "#8e0152"
            ],
            [
             0.1,
             "#c51b7d"
            ],
            [
             0.2,
             "#de77ae"
            ],
            [
             0.3,
             "#f1b6da"
            ],
            [
             0.4,
             "#fde0ef"
            ],
            [
             0.5,
             "#f7f7f7"
            ],
            [
             0.6,
             "#e6f5d0"
            ],
            [
             0.7,
             "#b8e186"
            ],
            [
             0.8,
             "#7fbc41"
            ],
            [
             0.9,
             "#4d9221"
            ],
            [
             1,
             "#276419"
            ]
           ],
           "sequential": [
            [
             0,
             "#0d0887"
            ],
            [
             0.1111111111111111,
             "#46039f"
            ],
            [
             0.2222222222222222,
             "#7201a8"
            ],
            [
             0.3333333333333333,
             "#9c179e"
            ],
            [
             0.4444444444444444,
             "#bd3786"
            ],
            [
             0.5555555555555556,
             "#d8576b"
            ],
            [
             0.6666666666666666,
             "#ed7953"
            ],
            [
             0.7777777777777778,
             "#fb9f3a"
            ],
            [
             0.8888888888888888,
             "#fdca26"
            ],
            [
             1,
             "#f0f921"
            ]
           ],
           "sequentialminus": [
            [
             0,
             "#0d0887"
            ],
            [
             0.1111111111111111,
             "#46039f"
            ],
            [
             0.2222222222222222,
             "#7201a8"
            ],
            [
             0.3333333333333333,
             "#9c179e"
            ],
            [
             0.4444444444444444,
             "#bd3786"
            ],
            [
             0.5555555555555556,
             "#d8576b"
            ],
            [
             0.6666666666666666,
             "#ed7953"
            ],
            [
             0.7777777777777778,
             "#fb9f3a"
            ],
            [
             0.8888888888888888,
             "#fdca26"
            ],
            [
             1,
             "#f0f921"
            ]
           ]
          },
          "colorway": [
           "#636efa",
           "#EF553B",
           "#00cc96",
           "#ab63fa",
           "#FFA15A",
           "#19d3f3",
           "#FF6692",
           "#B6E880",
           "#FF97FF",
           "#FECB52"
          ],
          "font": {
           "color": "#2a3f5f"
          },
          "geo": {
           "bgcolor": "white",
           "lakecolor": "white",
           "landcolor": "#E5ECF6",
           "showlakes": true,
           "showland": true,
           "subunitcolor": "white"
          },
          "hoverlabel": {
           "align": "left"
          },
          "hovermode": "closest",
          "mapbox": {
           "style": "light"
          },
          "paper_bgcolor": "white",
          "plot_bgcolor": "#E5ECF6",
          "polar": {
           "angularaxis": {
            "gridcolor": "white",
            "linecolor": "white",
            "ticks": ""
           },
           "bgcolor": "#E5ECF6",
           "radialaxis": {
            "gridcolor": "white",
            "linecolor": "white",
            "ticks": ""
           }
          },
          "scene": {
           "xaxis": {
            "backgroundcolor": "#E5ECF6",
            "gridcolor": "white",
            "gridwidth": 2,
            "linecolor": "white",
            "showbackground": true,
            "ticks": "",
            "zerolinecolor": "white"
           },
           "yaxis": {
            "backgroundcolor": "#E5ECF6",
            "gridcolor": "white",
            "gridwidth": 2,
            "linecolor": "white",
            "showbackground": true,
            "ticks": "",
            "zerolinecolor": "white"
           },
           "zaxis": {
            "backgroundcolor": "#E5ECF6",
            "gridcolor": "white",
            "gridwidth": 2,
            "linecolor": "white",
            "showbackground": true,
            "ticks": "",
            "zerolinecolor": "white"
           }
          },
          "shapedefaults": {
           "line": {
            "color": "#2a3f5f"
           }
          },
          "ternary": {
           "aaxis": {
            "gridcolor": "white",
            "linecolor": "white",
            "ticks": ""
           },
           "baxis": {
            "gridcolor": "white",
            "linecolor": "white",
            "ticks": ""
           },
           "bgcolor": "#E5ECF6",
           "caxis": {
            "gridcolor": "white",
            "linecolor": "white",
            "ticks": ""
           }
          },
          "title": {
           "x": 0.05
          },
          "xaxis": {
           "automargin": true,
           "gridcolor": "white",
           "linecolor": "white",
           "ticks": "",
           "title": {
            "standoff": 15
           },
           "zerolinecolor": "white",
           "zerolinewidth": 2
          },
          "yaxis": {
           "automargin": true,
           "gridcolor": "white",
           "linecolor": "white",
           "ticks": "",
           "title": {
            "standoff": 15
           },
           "zerolinecolor": "white",
           "zerolinewidth": 2
          }
         }
        }
       }
      },
      "text/html": [
       "<div>\n",
       "        \n",
       "        \n",
       "            <div id=\"dd084a0d-1bf4-44ef-8b50-0b8bb7121780\" class=\"plotly-graph-div\" style=\"height:525px; width:100%;\"></div>\n",
       "            <script type=\"text/javascript\">\n",
       "                require([\"plotly\"], function(Plotly) {\n",
       "                    window.PLOTLYENV=window.PLOTLYENV || {};\n",
       "                    \n",
       "                if (document.getElementById(\"dd084a0d-1bf4-44ef-8b50-0b8bb7121780\")) {\n",
       "                    Plotly.newPlot(\n",
       "                        'dd084a0d-1bf4-44ef-8b50-0b8bb7121780',\n",
       "                        [{\"close\": [279.05, 279.09, 279.385, 279.54, 280.45, 280.62, 280.915, 281.72, 281.555, 281.86, 281.47, 281.15, 281.46, 281.88, 282.63, 283.27, 283.485, 283.32, 283.585, 284.01, 283.97, 283.965, 284.4, 284.935, 284.67, 284.48, 284.505, 284.72, 285.57, 285.86, 285.2, 284.46, 284.84, 284.57, 284.58, 284.54, 284.13, 283.93, 283.98, 284.025, 284.33, 284.45, 283.775, 284.015, 284.04, 284.11, 284.66, 284.95, 285.185, 284.985, 284.855, 284.99, 285.48, 285.26, 285.14, 284.945, 284.63, 284.75, 284.51, 284.615, 284.61, 284.51, 284.77, 284.57, 284.6, 284.44, 284.775, 284.88, 284.5, 284.67, 285.03, 284.88, 284.63, 285.05, 285.29, 285.535, 285.01, 284.98, 285.0, 285.26, 285.41, 285.39, 285.29, 285.16, 284.715, 284.59, 284.5, 284.565, 284.28, 284.18, 284.58, 284.73, 284.74, 284.32, 283.995, 283.81, 283.725, 283.76, 283.87, 283.725, 284.04, 283.46, 283.225, 283.3, 283.3, 283.42, 283.41, 283.59, 283.13, 282.69, 282.81, 282.98, 283.32, 283.47, 283.63, 283.665, 283.67, 283.595, 283.86, 283.89, 284.09, 284.01, 284.53, null, 284.5, 284.45, 284.455, 284.52, 284.68, 284.46, 284.67, 284.74, 284.72, 284.68, 284.63, 284.66, 284.47, 284.71, 284.425, 284.375, 284.435, 284.55, 284.38, 284.515, null, 284.58, 284.2, 284.245, 284.31, 284.29, 284.58, 284.99, 285.16, 285.05, 285.015, 284.91, 284.925, 285.04, 285.36, 285.48, 285.2, null, null, 285.025, 285.015, 285.145, 285.6, 285.74, 285.59, 285.66, 285.94, 285.95, 286.03, 286.15, 286.03, 285.89, 285.835, 285.67, 285.66, 285.86, 285.83, 285.62, 285.82, 285.87, 285.675, 285.92, 285.805, 285.91, 286.05, 285.885, 286.12, 285.965, 286.18, 286.3, null, 286.25, 286.215, 286.22, 286.06, 285.97, 286.32, 286.26, 286.47, 286.52, 286.41, 286.37, null, 286.375, 286.28, 286.09, 285.96, 285.88, 285.61, 285.725, 285.625, 285.305, 285.52, 285.99, 285.84, null, 286.005, 286.215, 286.295, 286.105, 285.78, 285.555, 285.61, 285.555, 285.62, 285.57, 285.9, 285.765, null, 286.16, 286.11, 286.235, 286.165, 286.04, 286.15, 286.34, 286.725, 286.475, 286.555, 286.705, 286.8, 286.61, 286.45, 286.43, 286.41, 286.43, 286.895, 286.835, 286.925, 286.92, 286.91, null, 287.18, 287.2, 287.325, 287.4, 287.47, 287.46, 287.62, 287.6, 287.36, 287.255, 287.32, 287.26, 287.32, null, 287.11, null, 287.33, 287.15, 287.43, 287.22, 287.195, 287.39, 287.46, 287.365, 287.59, 287.65, null, 287.45, 287.475, 287.64, 287.745, 287.72, 287.825, 287.815, 288.01, 287.95, 287.825, 287.975, 287.92, 287.91, 287.71, 287.5, 287.7, 287.74, 287.67, 287.65, 287.64, 287.51, 287.56, 287.64, 287.525, 287.62, 287.43, 287.46, 287.77, 287.67, 287.535, 287.34, 287.29, 287.455, 287.27, 286.92, 286.825, 286.95, 287.29, 287.42, 287.59, 287.56, 287.58, 287.705, 287.71, 287.57, null, 287.89, null, 287.36, 287.06, 287.03, 286.75, 286.705, null, 285.78, 285.98, 286.3, 286.06, 286.27, 286.255, 286.7, 286.73, 286.35, 286.275, 286.455, 286.505, 286.4, 285.91, 286.19, 286.275, 285.87, 286.255, 286.495, 286.8, 286.84, 286.705, 286.99, 286.91, 287.065, 287.06, 287.26, 287.34, 287.29, 287.45, 287.33, 287.49, 287.555, 287.85, 287.645, 287.495, 287.635, 287.58, 287.67, 287.865, 287.94, 287.57, 287.88, 287.0, 286.4, 286.89, 287.19, 287.085, 287.23, 287.29, 287.21, 286.84, 286.97, 281.6, 282.26, 282.88, 282.38, 282.62, 282.64, 282.5, 282.93, 282.91, 282.845, 282.58, 282.42, 282.01, 281.38, 280.82, 280.73, 280.91, 281.01, 281.28, 281.105, 281.36, 281.42, 281.055, 281.42, 281.4, 281.27, 281.17, 281.73, 281.995, 282.37, 282.125, 282.295, 282.16, 281.865, 282.03, 281.8, 282.37, 282.22, 282.15, 282.34, 282.285, 282.23, 282.285, 282.555, 282.29, 281.845, 281.475, 281.005, 281.27, 281.195, 281.43, 281.685, 281.495, 281.71, 281.855, 281.87, 281.485, 281.645, 281.42, 281.635, 281.71, 281.745, 282.12, 282.16, 282.0, 282.145, 281.815, 281.985, 281.585, 281.72, 281.87, 281.91, 282.37, 282.605, 282.83, 283.15, 283.44, 283.7, 283.78, 284.155, 283.72, 283.83, 284.37, 284.66, 284.415, 284.26, 284.6, 284.53, 284.48, 284.335, 284.96, 284.36, 283.87, 284.175, 284.37, 283.98, 283.88, 283.775, 283.9, 283.88, 284.11, 284.585, null, 284.66, 284.835, 284.31, 284.155, 284.1, 283.95, 284.06, 283.6, 283.41, 283.59, 283.56, 283.31, 283.36, 283.495, 283.3, 283.24, 283.4, 283.69, 283.87, 283.68, 283.89, 283.775, 283.625, 283.51, 283.225, 283.35, 283.055, null, 283.01, 282.85, 282.995, 282.995, 282.93, 283.165, 283.0, 282.82, 282.68, 282.88, 283.16, 283.095, 282.98, 283.14, 283.34, 283.22, 283.115, 282.83, 282.875, 282.835, 282.915, 283.16, 283.435, 283.52, 283.34, 283.475, 283.35, 283.145, 283.09, 282.71, 282.765, 282.7, 282.46, 282.555, 282.455, 282.375, 282.215, 282.235, 282.07, 282.485, 282.53, 282.715, 282.725, 282.57, 282.855, 282.49, 282.535, 282.75, 283.225, 283.19, 283.18, 283.29, 283.58, 283.615, 283.66, 283.67, 283.825, 283.795, 283.7, 283.515, 283.585, 283.97, 284.195, 284.03, 283.985, 283.925, 283.87, 284.01, 284.18, 284.45, 284.46, 284.54, 284.56, 284.59, 284.39, 284.215, 284.095, 284.155, 284.12, 283.875, 284.01, 284.18, null, 284.155, 284.01, null, 283.945, 284.11, 284.215, 284.48, 284.44, 284.64, 284.87, 284.965, 284.76, 284.85, 285.125, 285.53, 285.37, 285.15, 284.995, 285.105, 285.045, 285.12, 285.19, 284.865, 284.58, 284.53, 284.52, 284.26, 284.27, 284.34, 284.37, 284.285, 284.48, 284.47, 284.36, 284.15, 284.12, 284.26, 284.045, 284.25, 284.555, 284.53, 284.355, 284.69, 284.725, 284.81, 284.72, 284.94, 284.75, 284.59, 284.74, 284.58, 284.68, 284.47, 284.445, 284.36, 284.125, 284.29, 284.49, 284.57, 284.57, 284.41, 284.5, 284.54, null, 284.68, 284.41, 284.45, 284.5, 284.785, null, 284.91, 284.77, 284.79, 285.11, 285.27, 284.99, 285.215, 285.425, 285.39, 285.35, 285.32, 284.98, 284.99, 284.975, 285.24, 285.435, 285.21, 284.94, 284.905, 284.92, 285.1, 285.175, 285.15, 285.335, 285.44, 285.48, 285.145, 285.32, 285.6, 285.43, 285.53, 285.305, 285.405, 285.44, 285.405, null, 285.12, 285.065, 285.33, 285.3, 285.21, 285.47, 285.655, 286.0, 285.97, 285.97, 286.04, 286.12, 285.97, 285.77, 285.64, 285.63, 285.42, 285.24, 285.35, 285.22, 285.14, 285.005, 285.13, 285.41, 285.26, 285.16, 285.25, 285.35, 285.34, 285.445, 285.405, 285.52, 285.42, 285.22, 285.305, 285.11, 284.885, 285.0, 284.52, 284.88, 285.0, 284.83, 284.66, 284.58, 284.71, 284.59, 284.78, 285.02, 284.91, 284.84, 284.22, 284.28, 283.98, 284.52, 284.49, 284.5, 284.63, 284.51, 284.775, 284.5, 284.63, 284.25, 284.01, 284.105, 284.14, 284.305, 284.21, 284.295, 284.35, 284.54], \"high\": [280.12, 279.09, 279.51, 279.74, 280.45, 280.76, 281.08, 281.72, 281.58, 282.05, 282.06, 281.465, 281.55, 281.88, 282.64, 283.27, 283.9, 283.63, 283.64, 284.04, 284.27, 283.965, 284.435, 285.12, 285.37, 284.645, 284.8, 284.775, 285.785, 285.89, 285.94, 285.24, 284.84, 285.08, 284.595, 284.84, 284.45, 284.26, 284.04, 284.18, 284.42, 284.6, 284.38, 284.015, 284.25, 284.11, 284.66, 284.95, 285.185, 285.115, 284.93, 284.99, 285.55, 285.59, 285.145, 285.225, 284.95, 284.75, 284.78, 284.72, 284.76, 284.655, 284.77, 284.805, 284.6, 284.48, 284.775, 284.995, 284.875, 284.67, 285.19, 285.17, 284.64, 285.05, 285.33, 285.535, 285.36, 285.01, 285.1, 285.265, 285.58, 285.39, 285.46, 285.28, 285.08, 284.695, 284.5, 284.83, 284.46, 284.48, 284.58, 284.78, 284.825, 284.735, 284.355, 284.105, 283.97, 283.85, 283.95, 283.77, 284.06, 284.055, 283.42, 283.34, 283.37, 283.43, 283.46, 283.59, 283.22, 283.195, 283.05, 283.06, 283.445, 283.47, 283.63, 283.78, 283.82, 283.83, 284.095, 284.0, 284.09, 284.01, 284.53, null, 284.54, 284.515, 284.455, 284.52, 284.705, 284.685, 284.67, 284.745, 284.82, 284.68, 284.69, 284.66, 284.695, 284.71, 284.64, 284.445, 284.52, 284.605, 284.38, 284.595, null, 284.58, 284.4, 284.245, 284.31, 284.425, 284.58, 285.025, 285.16, 285.13, 285.065, 285.05, 284.925, 285.09, 285.36, 285.48, 285.345, null, null, 285.075, 285.015, 285.155, 285.62, 285.835, 285.59, 285.69, 285.99, 285.95, 286.03, 286.15, 286.11, 286.08, 285.91, 285.77, 285.73, 285.86, 285.83, 285.67, 285.82, 285.9, 285.845, 285.95, 285.805, 285.91, 286.05, 285.885, 286.175, 286.11, 286.24, 286.3, null, 286.295, 286.235, 286.3, 286.06, 285.97, 286.345, 286.32, 286.47, 286.52, 286.41, 286.455, null, 286.435, 286.28, 286.22, 286.025, 285.93, 285.83, 285.725, 285.83, 285.645, 285.52, 285.99, 285.865, null, 286.005, 286.215, 286.3, 286.265, 286.13, 285.81, 285.67, 285.68, 285.62, 285.615, 285.9, 285.86, null, 286.16, 286.16, 286.24, 286.18, 286.09, 286.185, 286.34, 286.725, 286.73, 286.555, 286.705, 286.8, 286.76, 286.56, 286.555, 286.41, 286.43, 286.9, 286.955, 286.925, 286.92, 286.91, null, 287.18, 287.2, 287.35, 287.405, 287.47, 287.49, 287.62, 287.665, 287.37, 287.295, 287.32, 287.365, 287.32, null, 287.325, null, 287.52, 287.15, 287.43, 287.415, 287.21, 287.415, 287.485, 287.365, 287.59, 287.65, null, 287.495, 287.475, 287.645, 287.78, 287.74, 287.825, 287.815, 288.03, 288.01, 287.89, 288.015, 288.01, 287.91, 287.77, 287.65, 287.7, 287.74, 287.72, 287.765, 287.65, 287.645, 287.675, 287.68, 287.53, 287.62, 287.62, 287.46, 287.77, 287.67, 287.54, 287.56, 287.335, 287.48, 287.27, 287.08, 286.825, 286.99, 287.29, 287.42, 287.59, 287.56, 287.58, 287.705, 287.74, 287.635, null, 287.995, null, 287.485, 287.11, 287.09, 287.15, 286.705, null, 285.97, 285.98, 286.41, 286.415, 286.305, 286.28, 286.7, 286.805, 286.54, 286.275, 286.61, 286.505, 286.48, 286.2, 286.19, 286.275, 286.12, 286.255, 286.55, 286.81, 286.91, 286.79, 286.99, 286.92, 287.28, 287.1, 287.275, 287.65, 287.51, 287.45, 287.54, 287.555, 287.575, 287.89, 287.86, 287.57, 287.64, 287.71, 287.72, 287.89, 288.01, 287.9, 287.88, 288.0, 286.9, 286.99, 287.2, 287.22, 287.24, 287.29, 287.39, 287.1, 287.2, 282.54, 282.26, 282.95, 282.8, 282.94, 282.675, 282.59, 283.17, 283.04, 282.92, 282.645, 282.52, 282.465, 281.975, 281.24, 280.86, 280.92, 281.12, 281.28, 281.28, 281.38, 281.58, 281.46, 281.42, 281.42, 281.415, 281.18, 281.73, 282.06, 282.4, 282.38, 282.3, 282.28, 282.4, 282.145, 282.0, 282.425, 282.37, 282.15, 282.34, 282.35, 282.38, 282.285, 282.555, 282.375, 282.18, 281.755, 281.23, 281.29, 281.32, 281.48, 281.685, 281.645, 281.785, 281.86, 281.885, 281.86, 281.65, 281.66, 281.66, 281.71, 281.775, 282.18, 282.16, 282.095, 282.145, 282.32, 282.0, 281.875, 281.77, 281.98, 281.91, 282.37, 282.605, 282.905, 283.15, 283.44, 283.7, 283.83, 284.155, 284.03, 283.83, 284.37, 284.68, 284.52, 284.44, 284.64, 284.62, 284.48, 284.44, 285.0, 284.56, 284.42, 284.175, 284.37, 284.355, 283.88, 283.87, 283.9, 283.88, 284.11, 284.585, null, 284.83, 284.835, 284.76, 284.155, 284.145, 284.05, 284.08, 283.805, 283.435, 283.62, 283.65, 283.31, 283.38, 283.57, 283.455, 283.36, 283.4, 283.69, 283.87, 283.735, 283.89, 283.815, 283.765, 283.645, 283.52, 283.35, 283.21, null, 283.095, 283.045, 283.0, 283.05, 282.93, 283.255, 283.05, 282.98, 282.76, 282.88, 283.16, 283.145, 283.1, 283.17, 283.34, 283.22, 283.115, 283.215, 282.9, 282.84, 282.915, 283.16, 283.435, 283.52, 283.5, 283.475, 283.385, 283.41, 283.09, 282.96, 282.765, 282.855, 282.51, 282.555, 282.595, 282.545, 282.375, 282.305, 282.295, 282.485, 282.53, 282.715, 282.76, 282.57, 282.935, 282.72, 282.58, 282.86, 283.225, 283.19, 283.23, 283.29, 283.58, 283.77, 283.785, 283.7, 283.825, 283.805, 283.8, 283.635, 283.7, 283.98, 284.195, 284.115, 284.0, 283.985, 283.93, 284.05, 284.185, 284.515, 284.46, 284.565, 284.56, 284.62, 284.49, 284.23, 284.095, 284.17, 284.29, 284.05, 284.01, 284.355, null, 284.24, 284.13, null, 283.945, 284.13, 284.265, 284.54, 284.45, 284.64, 284.87, 284.97, 285.06, 284.85, 285.14, 285.55, 285.46, 285.33, 285.04, 285.12, 285.075, 285.135, 285.19, 285.01, 284.885, 284.66, 284.52, 284.365, 284.32, 284.385, 284.41, 284.415, 284.48, 284.645, 284.48, 284.245, 284.12, 284.26, 284.2, 284.25, 284.555, 284.53, 284.65, 284.725, 284.73, 284.885, 284.72, 284.94, 284.82, 284.77, 284.74, 284.58, 284.73, 284.575, 284.445, 284.38, 284.23, 284.29, 284.49, 284.57, 284.57, 284.465, 284.61, 284.54, null, 284.71, 284.52, 284.45, 284.5, 284.785, null, 284.925, 284.85, 284.79, 285.11, 285.27, 285.0, 285.215, 285.44, 285.415, 285.42, 285.42, 285.245, 285.035, 285.025, 285.24, 285.435, 285.54, 285.105, 284.905, 284.92, 285.1, 285.25, 285.17, 285.335, 285.52, 285.5, 285.3, 285.32, 285.64, 285.48, 285.53, 285.58, 285.405, 285.67, 285.435, null, 285.36, 285.13, 285.355, 285.4, 285.235, 285.47, 285.66, 286.0, 285.97, 285.97, 286.04, 286.25, 286.09, 285.93, 285.7, 285.63, 285.66, 285.24, 285.35, 285.35, 285.19, 285.11, 285.13, 285.41, 285.365, 285.23, 285.25, 285.39, 285.38, 285.475, 285.54, 285.52, 285.49, 285.22, 285.305, 285.36, 284.98, 285.0, 284.945, 284.88, 285.0, 284.97, 284.89, 284.81, 284.73, 284.63, 284.83, 285.07, 284.96, 285.075, 284.71, 284.28, 284.12, 284.52, 284.51, 284.72, 284.66, 284.54, 284.9, 284.79, 284.63, 284.65, 284.22, 284.34, 284.26, 284.465, 284.32, 284.42, 284.5, 284.56], \"low\": [278.07, 278.49, 279.13, 279.205, 279.6, 280.25, 280.65, 280.9, 281.415, 281.62, 281.42, 281.15, 281.14, 281.51, 281.89, 282.86, 283.38, 283.26, 283.35, 283.54, 283.97, 283.84, 284.31, 284.56, 284.67, 284.39, 284.505, 284.52, 284.7, 285.83, 285.1, 284.46, 284.42, 284.57, 284.5, 284.54, 284.025, 283.93, 283.895, 283.76, 284.135, 284.44, 283.72, 283.65, 284.04, 283.89, 284.2, 284.715, 285.12, 284.98, 284.705, 284.76, 285.29, 285.26, 285.14, 284.945, 284.62, 284.71, 284.51, 284.32, 284.595, 284.51, 284.47, 284.57, 284.585, 284.39, 284.48, 284.81, 284.5, 284.67, 284.75, 284.88, 284.56, 285.05, 285.05, 285.375, 285.01, 284.98, 284.99, 284.99, 285.32, 285.21, 285.29, 285.16, 284.715, 284.53, 284.265, 284.535, 284.28, 284.18, 284.18, 284.46, 284.74, 284.32, 283.95, 283.795, 283.725, 283.67, 283.8, 283.725, 283.785, 283.46, 283.225, 283.175, 283.05, 283.4, 283.36, 283.27, 283.13, 282.63, 282.8, 282.98, 283.17, 283.335, 283.57, 283.665, 283.67, 283.555, 283.72, 283.8, 284.09, 284.01, 284.41, null, 284.415, 284.36, 284.395, 284.485, 284.49, 284.46, 284.32, 284.655, 284.7, 284.68, 284.62, 284.42, 284.47, 284.51, 284.425, 284.35, 284.41, 284.445, 284.38, 284.42, null, 284.5, 284.2, 283.97, 284.16, 284.29, 284.38, 284.99, 285.16, 285.015, 285.0, 284.91, 284.91, 284.98, 285.09, 285.32, 285.2, null, null, 284.98, 285.015, 285.02, 285.27, 285.68, 285.59, 285.64, 285.71, 285.95, 285.73, 285.96, 285.97, 285.845, 285.81, 285.665, 285.61, 285.75, 285.745, 285.58, 285.685, 285.805, 285.675, 285.69, 285.71, 285.835, 285.95, 285.885, 285.83, 285.965, 286.04, 286.15, null, 286.25, 286.08, 286.22, 285.975, 285.97, 286.15, 286.21, 286.26, 286.3, 286.36, 286.365, null, 286.335, 286.28, 286.09, 285.935, 285.82, 285.6, 285.61, 285.625, 285.305, 285.485, 285.74, 285.84, null, 285.94, 286.08, 286.03, 286.045, 285.78, 285.555, 285.585, 285.53, 285.5, 285.57, 285.86, 285.765, null, 286.16, 286.06, 286.235, 286.165, 285.99, 286.105, 286.15, 286.33, 286.475, 286.555, 286.7, 286.8, 286.51, 286.425, 286.43, 286.315, 286.43, 286.52, 286.835, 286.925, 286.815, 286.825, null, 287.1, 287.2, 287.19, 287.28, 287.41, 287.46, 287.31, 287.585, 287.3, 287.23, 287.32, 287.26, 287.32, null, 287.11, null, 287.33, 287.15, 287.19, 287.18, 287.18, 287.345, 287.395, 287.365, 287.59, 287.61, null, 287.45, 287.475, 287.58, 287.745, 287.72, 287.655, 287.815, 287.93, 287.94, 287.82, 287.83, 287.92, 287.91, 287.71, 287.5, 287.635, 287.735, 287.64, 287.645, 287.64, 287.49, 287.56, 287.53, 287.525, 287.62, 287.43, 287.44, 287.77, 287.67, 287.42, 287.33, 287.245, 287.35, 287.27, 286.92, 286.71, 286.95, 287.06, 287.26, 287.59, 287.475, 287.43, 287.705, 287.63, 287.57, null, 287.89, null, 287.36, 286.955, 287.03, 286.75, 286.56, null, 285.7, 285.77, 286.14, 286.06, 286.145, 286.24, 286.31, 286.67, 286.35, 285.985, 286.215, 286.34, 286.29, 285.88, 286.09, 286.015, 285.87, 286.25, 286.45, 286.355, 286.8, 286.705, 286.82, 286.91, 287.0, 286.98, 286.92, 287.33, 287.19, 287.3, 287.33, 287.325, 287.42, 287.58, 287.645, 287.375, 287.425, 287.58, 287.44, 287.65, 287.85, 287.57, 287.58, 286.63, 286.215, 286.43, 286.895, 286.72, 286.76, 287.18, 287.19, 286.67, 286.76, 281.285, 281.55, 282.18, 282.32, 282.35, 282.4, 282.465, 282.82, 282.87, 282.74, 282.52, 282.36, 281.96, 281.38, 280.795, 280.66, 280.75, 280.92, 280.98, 281.105, 281.045, 281.24, 281.055, 281.09, 281.2, 281.19, 281.08, 281.2, 281.92, 281.92, 282.125, 282.2, 282.16, 281.865, 282.0, 281.8, 282.07, 282.22, 281.97, 282.075, 282.16, 282.185, 282.075, 282.22, 282.29, 281.845, 281.475, 281.005, 281.23, 281.195, 281.135, 281.44, 281.48, 281.64, 281.57, 281.75, 281.485, 281.55, 281.39, 281.635, 281.33, 281.71, 282.11, 282.1, 281.92, 281.835, 281.815, 281.785, 281.575, 281.53, 281.87, 281.91, 282.37, 282.425, 282.73, 282.85, 283.22, 283.34, 283.645, 283.69, 283.72, 283.62, 284.02, 284.41, 284.21, 284.2, 284.28, 284.53, 284.33, 284.15, 284.45, 284.36, 283.87, 284.15, 284.32, 283.98, 283.695, 283.775, 283.7, 283.88, 284.09, 284.41, null, 284.66, 284.585, 284.31, 284.015, 284.1, 283.95, 283.915, 283.515, 283.41, 283.59, 283.545, 283.29, 283.01, 283.31, 283.3, 283.21, 283.33, 283.61, 283.87, 283.68, 283.71, 283.775, 283.6, 283.51, 283.225, 283.35, 283.0, null, 283.01, 282.85, 282.96, 282.995, 282.895, 283.135, 282.84, 282.82, 282.68, 282.88, 283.02, 283.005, 282.98, 283.14, 283.34, 283.22, 283.115, 282.83, 282.875, 282.835, 282.915, 283.03, 283.36, 283.52, 283.34, 283.28, 283.3, 283.145, 283.0, 282.71, 282.7, 282.7, 282.32, 282.39, 282.455, 282.335, 282.215, 282.195, 282.07, 282.205, 282.53, 282.53, 282.705, 282.57, 282.58, 282.49, 282.535, 282.71, 283.225, 283.09, 283.18, 283.16, 283.225, 283.615, 283.65, 283.67, 283.77, 283.73, 283.7, 283.515, 283.5, 283.69, 284.06, 284.03, 283.91, 283.9, 283.87, 284.0, 284.1, 284.22, 284.325, 284.42, 284.48, 284.545, 284.39, 284.215, 284.05, 284.155, 284.12, 283.875, 284.01, 284.18, null, 284.155, 283.98, null, 283.885, 284.11, 284.215, 284.27, 284.38, 284.63, 284.65, 284.845, 284.76, 284.75, 284.98, 285.5, 285.37, 285.15, 284.98, 284.965, 285.01, 285.1, 285.135, 284.865, 284.58, 284.53, 284.485, 284.26, 284.27, 284.29, 284.2, 284.27, 284.35, 284.47, 284.36, 284.12, 284.12, 284.26, 284.045, 284.12, 284.27, 284.44, 284.355, 284.45, 284.725, 284.81, 284.72, 284.85, 284.675, 284.59, 284.74, 284.58, 284.68, 284.42, 284.445, 284.31, 284.125, 284.29, 284.39, 284.45, 284.53, 284.41, 284.435, 284.54, null, 284.65, 284.41, 284.38, 284.5, 284.455, null, 284.695, 284.77, 284.79, 284.86, 285.18, 284.91, 285.135, 285.28, 285.33, 285.35, 285.32, 284.98, 284.98, 284.88, 285.07, 285.345, 285.18, 284.915, 284.81, 284.87, 284.86, 285.06, 285.15, 285.13, 285.305, 285.46, 285.145, 285.32, 285.52, 285.26, 285.42, 285.305, 285.405, 285.44, 285.325, null, 285.12, 285.065, 285.16, 285.3, 285.21, 285.33, 285.47, 285.66, 285.825, 285.95, 285.965, 286.11, 285.96, 285.76, 285.615, 285.63, 285.385, 285.14, 285.24, 285.22, 285.0, 284.99, 285.13, 285.28, 285.26, 285.16, 285.06, 285.22, 285.26, 285.355, 285.405, 285.52, 285.42, 285.22, 285.24, 285.11, 284.885, 284.89, 284.52, 284.735, 284.985, 284.83, 284.66, 284.565, 284.635, 284.575, 284.62, 284.82, 284.77, 284.84, 284.22, 284.12, 283.94, 284.0, 284.425, 284.5, 284.63, 284.32, 284.48, 284.5, 284.08, 284.25, 284.01, 284.08, 284.13, 284.14, 284.17, 284.2, 284.125, 284.14], \"open\": [279.95, 278.84, 279.13, 279.36, 279.72, 280.49, 280.73, 280.9, 281.58, 281.65, 281.98, 281.44, 281.14, 281.51, 281.89, 282.87, 283.4, 283.625, 283.4, 283.54, 284.135, 283.93, 284.435, 284.56, 284.93, 284.39, 284.51, 284.535, 284.7, 285.85, 285.94, 285.23, 284.42, 285.015, 284.5, 284.83, 284.45, 284.26, 283.94, 283.98, 284.135, 284.44, 284.325, 283.655, 284.25, 283.89, 284.2, 284.785, 285.14, 285.115, 284.82, 284.875, 285.29, 285.36, 285.14, 285.225, 284.94, 284.71, 284.77, 284.33, 284.655, 284.655, 284.47, 284.805, 284.585, 284.46, 284.54, 284.82, 284.85, 284.67, 284.76, 284.96, 284.6, 285.05, 285.05, 285.47, 285.36, 284.995, 284.99, 284.99, 285.32, 285.235, 285.385, 285.19, 285.08, 284.695, 284.405, 284.54, 284.45, 284.31, 284.23, 284.46, 284.78, 284.735, 284.355, 284.105, 283.89, 283.67, 283.8, 283.73, 283.8, 284.025, 283.285, 283.175, 283.17, 283.43, 283.46, 283.27, 283.22, 283.195, 282.8, 283.06, 283.17, 283.335, 283.57, 283.705, 283.72, 283.64, 283.72, 284.0, 284.09, 284.01, 284.47, null, 284.54, 284.36, 284.395, 284.485, 284.605, 284.68, 284.32, 284.745, 284.7, 284.68, 284.69, 284.42, 284.59, 284.545, 284.64, 284.415, 284.41, 284.445, 284.38, 284.42, null, 284.52, 284.39, 283.97, 284.17, 284.425, 284.38, 285.025, 285.16, 285.015, 285.0, 285.03, 284.91, 284.98, 285.09, 285.32, 285.345, null, null, 285.075, 285.015, 285.08, 285.27, 285.68, 285.59, 285.655, 285.8, 285.95, 285.73, 285.96, 286.11, 286.03, 285.89, 285.77, 285.61, 285.75, 285.745, 285.58, 285.685, 285.87, 285.83, 285.69, 285.71, 285.835, 285.95, 285.885, 285.83, 286.11, 286.04, 286.16, null, 286.295, 286.235, 286.3, 286.015, 285.97, 286.28, 286.32, 286.26, 286.32, 286.36, 286.455, null, 286.38, 286.28, 286.22, 285.985, 285.93, 285.83, 285.61, 285.83, 285.645, 285.485, 285.74, 285.865, null, 285.94, 286.08, 286.145, 286.185, 286.115, 285.81, 285.585, 285.62, 285.51, 285.615, 285.86, 285.845, null, 286.16, 286.16, 286.24, 286.18, 286.09, 286.105, 286.15, 286.33, 286.73, 286.555, 286.7, 286.8, 286.71, 286.56, 286.54, 286.325, 286.43, 286.52, 286.89, 286.925, 286.815, 286.825, null, 287.1, 287.2, 287.21, 287.28, 287.41, 287.49, 287.42, 287.665, 287.37, 287.295, 287.32, 287.365, 287.32, null, 287.325, null, 287.36, 287.15, 287.19, 287.415, 287.18, 287.395, 287.395, 287.365, 287.59, 287.61, null, 287.485, 287.475, 287.58, 287.78, 287.73, 287.655, 287.815, 287.93, 288.005, 287.89, 287.83, 287.96, 287.91, 287.77, 287.65, 287.635, 287.735, 287.72, 287.66, 287.65, 287.645, 287.675, 287.53, 287.53, 287.62, 287.62, 287.44, 287.77, 287.67, 287.54, 287.56, 287.245, 287.39, 287.27, 286.95, 286.71, 286.99, 287.06, 287.26, 287.59, 287.545, 287.43, 287.705, 287.69, 287.635, null, 287.995, null, 287.485, 287.11, 287.09, 287.15, 286.56, null, 285.955, 285.77, 286.14, 286.335, 286.15, 286.27, 286.31, 286.76, 286.54, 285.985, 286.35, 286.495, 286.48, 286.2, 286.09, 286.015, 286.08, 286.25, 286.51, 286.415, 286.855, 286.79, 286.82, 286.92, 287.22, 287.09, 287.025, 287.33, 287.19, 287.31, 287.54, 287.35, 287.485, 287.585, 287.86, 287.57, 287.51, 287.71, 287.55, 287.67, 287.87, 287.9, 287.58, 288.0, 286.9, 286.43, 286.9, 287.14, 286.82, 287.23, 287.32, 287.1, 286.845, 282.34, 281.6, 282.535, 282.8, 282.4, 282.675, 282.56, 282.82, 282.88, 282.885, 282.64, 282.505, 282.465, 281.96, 281.24, 280.8, 280.82, 281.12, 280.98, 281.2, 281.105, 281.24, 281.41, 281.09, 281.38, 281.395, 281.08, 281.2, 281.92, 282.01, 282.38, 282.2, 282.22, 282.23, 282.11, 282.0, 282.07, 282.26, 282.1, 282.115, 282.32, 282.24, 282.21, 282.315, 282.375, 282.1, 281.735, 281.23, 281.29, 281.24, 281.135, 281.47, 281.645, 281.705, 281.57, 281.75, 281.86, 281.55, 281.51, 281.64, 281.43, 281.71, 282.11, 282.1, 282.04, 281.93, 282.18, 281.785, 281.875, 281.53, 281.98, 281.91, 282.37, 282.425, 282.905, 282.85, 283.22, 283.34, 283.75, 283.895, 284.03, 283.62, 284.14, 284.41, 284.485, 284.44, 284.285, 284.62, 284.375, 284.44, 284.45, 284.56, 284.42, 284.15, 284.32, 284.355, 283.87, 283.87, 283.7, 283.88, 284.09, 284.47, null, 284.795, 284.69, 284.76, 284.015, 284.14, 284.04, 283.915, 283.805, 283.435, 283.62, 283.64, 283.29, 283.03, 283.31, 283.455, 283.36, 283.33, 283.61, 283.87, 283.735, 283.71, 283.785, 283.765, 283.645, 283.52, 283.35, 283.18, null, 283.095, 283.045, 282.96, 283.05, 282.895, 283.18, 282.975, 282.98, 282.755, 282.88, 283.02, 283.005, 283.09, 283.17, 283.34, 283.22, 283.115, 283.215, 282.9, 282.84, 282.915, 283.03, 283.36, 283.52, 283.5, 283.28, 283.3, 283.405, 283.065, 282.94, 282.7, 282.82, 282.51, 282.39, 282.595, 282.545, 282.375, 282.195, 282.295, 282.22, 282.53, 282.56, 282.755, 282.57, 282.58, 282.72, 282.58, 282.71, 283.225, 283.09, 283.23, 283.16, 283.225, 283.74, 283.71, 283.7, 283.79, 283.765, 283.8, 283.635, 283.5, 283.69, 284.125, 284.115, 283.94, 283.9, 283.93, 284.0, 284.1, 284.22, 284.415, 284.54, 284.52, 284.58, 284.49, 284.23, 284.08, 284.17, 284.155, 284.05, 284.01, 284.355, null, 284.24, 284.13, null, 283.905, 284.13, 284.22, 284.275, 284.445, 284.63, 284.65, 284.845, 285.025, 284.79, 285.0, 285.505, 285.46, 285.33, 284.98, 284.965, 285.02, 285.1, 285.135, 285.01, 284.885, 284.615, 284.5, 284.365, 284.28, 284.29, 284.2, 284.39, 284.38, 284.49, 284.48, 284.245, 284.12, 284.26, 284.2, 284.12, 284.27, 284.47, 284.65, 284.45, 284.73, 284.885, 284.72, 284.85, 284.82, 284.77, 284.74, 284.58, 284.715, 284.575, 284.445, 284.31, 284.23, 284.29, 284.39, 284.45, 284.53, 284.465, 284.435, 284.54, null, 284.71, 284.52, 284.38, 284.5, 284.455, null, 284.695, 284.85, 284.79, 284.86, 285.18, 285.0, 285.135, 285.28, 285.38, 285.42, 285.42, 285.24, 284.98, 285.025, 285.1, 285.345, 285.475, 285.09, 284.835, 284.87, 284.86, 285.06, 285.17, 285.17, 285.305, 285.46, 285.3, 285.32, 285.52, 285.3, 285.42, 285.58, 285.405, 285.67, 285.435, null, 285.36, 285.13, 285.16, 285.335, 285.235, 285.33, 285.47, 285.66, 285.92, 285.95, 285.98, 286.17, 286.09, 285.93, 285.7, 285.63, 285.66, 285.14, 285.24, 285.32, 285.18, 284.99, 285.13, 285.33, 285.32, 285.195, 285.115, 285.39, 285.31, 285.36, 285.5, 285.52, 285.48, 285.22, 285.26, 285.36, 284.9, 284.89, 284.94, 284.735, 284.985, 284.97, 284.89, 284.81, 284.635, 284.63, 284.67, 284.82, 284.91, 284.985, 284.71, 284.15, 284.12, 284.0, 284.51, 284.575, 284.63, 284.54, 284.48, 284.79, 284.2, 284.65, 284.06, 284.08, 284.13, 284.155, 284.17, 284.25, 284.31, 284.27], \"type\": \"ohlc\", \"x\": [\"2020-04-14T09:30:00\", \"2020-04-14T09:31:00\", \"2020-04-14T09:32:00\", \"2020-04-14T09:33:00\", \"2020-04-14T09:34:00\", \"2020-04-14T09:35:00\", \"2020-04-14T09:36:00\", \"2020-04-14T09:37:00\", \"2020-04-14T09:38:00\", \"2020-04-14T09:39:00\", \"2020-04-14T09:40:00\", \"2020-04-14T09:41:00\", \"2020-04-14T09:42:00\", \"2020-04-14T09:43:00\", \"2020-04-14T09:44:00\", \"2020-04-14T09:45:00\", \"2020-04-14T09:46:00\", \"2020-04-14T09:47:00\", \"2020-04-14T09:48:00\", \"2020-04-14T09:49:00\", \"2020-04-14T09:50:00\", \"2020-04-14T09:51:00\", \"2020-04-14T09:52:00\", \"2020-04-14T09:53:00\", \"2020-04-14T09:54:00\", \"2020-04-14T09:55:00\", \"2020-04-14T09:56:00\", \"2020-04-14T09:57:00\", \"2020-04-14T09:58:00\", \"2020-04-14T09:59:00\", \"2020-04-14T10:00:00\", \"2020-04-14T10:01:00\", \"2020-04-14T10:02:00\", \"2020-04-14T10:03:00\", \"2020-04-14T10:04:00\", \"2020-04-14T10:05:00\", \"2020-04-14T10:06:00\", \"2020-04-14T10:07:00\", \"2020-04-14T10:08:00\", \"2020-04-14T10:09:00\", \"2020-04-14T10:10:00\", \"2020-04-14T10:11:00\", \"2020-04-14T10:12:00\", \"2020-04-14T10:13:00\", \"2020-04-14T10:14:00\", \"2020-04-14T10:15:00\", \"2020-04-14T10:16:00\", \"2020-04-14T10:17:00\", \"2020-04-14T10:18:00\", \"2020-04-14T10:19:00\", \"2020-04-14T10:20:00\", \"2020-04-14T10:21:00\", \"2020-04-14T10:22:00\", \"2020-04-14T10:23:00\", \"2020-04-14T10:24:00\", \"2020-04-14T10:25:00\", \"2020-04-14T10:26:00\", \"2020-04-14T10:27:00\", \"2020-04-14T10:28:00\", \"2020-04-14T10:29:00\", \"2020-04-14T10:30:00\", \"2020-04-14T10:31:00\", \"2020-04-14T10:32:00\", \"2020-04-14T10:33:00\", \"2020-04-14T10:34:00\", \"2020-04-14T10:35:00\", \"2020-04-14T10:36:00\", \"2020-04-14T10:37:00\", \"2020-04-14T10:38:00\", \"2020-04-14T10:39:00\", \"2020-04-14T10:40:00\", \"2020-04-14T10:41:00\", \"2020-04-14T10:42:00\", \"2020-04-14T10:43:00\", \"2020-04-14T10:44:00\", \"2020-04-14T10:45:00\", \"2020-04-14T10:46:00\", \"2020-04-14T10:47:00\", \"2020-04-14T10:48:00\", \"2020-04-14T10:49:00\", \"2020-04-14T10:50:00\", \"2020-04-14T10:51:00\", \"2020-04-14T10:52:00\", \"2020-04-14T10:53:00\", \"2020-04-14T10:54:00\", \"2020-04-14T10:55:00\", \"2020-04-14T10:56:00\", \"2020-04-14T10:57:00\", \"2020-04-14T10:58:00\", \"2020-04-14T10:59:00\", \"2020-04-14T11:00:00\", \"2020-04-14T11:01:00\", \"2020-04-14T11:02:00\", \"2020-04-14T11:03:00\", \"2020-04-14T11:04:00\", \"2020-04-14T11:05:00\", \"2020-04-14T11:06:00\", \"2020-04-14T11:07:00\", \"2020-04-14T11:08:00\", \"2020-04-14T11:09:00\", \"2020-04-14T11:10:00\", \"2020-04-14T11:11:00\", \"2020-04-14T11:12:00\", \"2020-04-14T11:13:00\", \"2020-04-14T11:14:00\", \"2020-04-14T11:15:00\", \"2020-04-14T11:16:00\", \"2020-04-14T11:17:00\", \"2020-04-14T11:18:00\", \"2020-04-14T11:19:00\", \"2020-04-14T11:20:00\", \"2020-04-14T11:21:00\", \"2020-04-14T11:22:00\", \"2020-04-14T11:23:00\", \"2020-04-14T11:24:00\", \"2020-04-14T11:25:00\", \"2020-04-14T11:26:00\", \"2020-04-14T11:27:00\", \"2020-04-14T11:28:00\", \"2020-04-14T11:29:00\", \"2020-04-14T11:30:00\", \"2020-04-14T11:31:00\", \"2020-04-14T11:32:00\", \"2020-04-14T11:33:00\", \"2020-04-14T11:34:00\", \"2020-04-14T11:35:00\", \"2020-04-14T11:36:00\", \"2020-04-14T11:37:00\", \"2020-04-14T11:38:00\", \"2020-04-14T11:39:00\", \"2020-04-14T11:40:00\", \"2020-04-14T11:41:00\", \"2020-04-14T11:42:00\", \"2020-04-14T11:43:00\", \"2020-04-14T11:44:00\", \"2020-04-14T11:45:00\", \"2020-04-14T11:46:00\", \"2020-04-14T11:47:00\", \"2020-04-14T11:48:00\", \"2020-04-14T11:49:00\", \"2020-04-14T11:50:00\", \"2020-04-14T11:51:00\", \"2020-04-14T11:52:00\", \"2020-04-14T11:53:00\", \"2020-04-14T11:54:00\", \"2020-04-14T11:55:00\", \"2020-04-14T11:56:00\", \"2020-04-14T11:57:00\", \"2020-04-14T11:58:00\", \"2020-04-14T11:59:00\", \"2020-04-14T12:00:00\", \"2020-04-14T12:01:00\", \"2020-04-14T12:02:00\", \"2020-04-14T12:03:00\", \"2020-04-14T12:04:00\", \"2020-04-14T12:05:00\", \"2020-04-14T12:06:00\", \"2020-04-14T12:07:00\", \"2020-04-14T12:08:00\", \"2020-04-14T12:09:00\", \"2020-04-14T12:10:00\", \"2020-04-14T12:11:00\", \"2020-04-14T12:12:00\", \"2020-04-14T12:13:00\", \"2020-04-14T12:14:00\", \"2020-04-14T12:15:00\", \"2020-04-14T12:16:00\", \"2020-04-14T12:17:00\", \"2020-04-14T12:18:00\", \"2020-04-14T12:19:00\", \"2020-04-14T12:20:00\", \"2020-04-14T12:21:00\", \"2020-04-14T12:22:00\", \"2020-04-14T12:23:00\", \"2020-04-14T12:24:00\", \"2020-04-14T12:25:00\", \"2020-04-14T12:26:00\", \"2020-04-14T12:27:00\", \"2020-04-14T12:28:00\", \"2020-04-14T12:29:00\", \"2020-04-14T12:30:00\", \"2020-04-14T12:31:00\", \"2020-04-14T12:32:00\", \"2020-04-14T12:33:00\", \"2020-04-14T12:34:00\", \"2020-04-14T12:35:00\", \"2020-04-14T12:36:00\", \"2020-04-14T12:37:00\", \"2020-04-14T12:38:00\", \"2020-04-14T12:39:00\", \"2020-04-14T12:40:00\", \"2020-04-14T12:41:00\", \"2020-04-14T12:42:00\", \"2020-04-14T12:43:00\", \"2020-04-14T12:44:00\", \"2020-04-14T12:45:00\", \"2020-04-14T12:46:00\", \"2020-04-14T12:47:00\", \"2020-04-14T12:48:00\", \"2020-04-14T12:49:00\", \"2020-04-14T12:50:00\", \"2020-04-14T12:51:00\", \"2020-04-14T12:52:00\", \"2020-04-14T12:53:00\", \"2020-04-14T12:54:00\", \"2020-04-14T12:55:00\", \"2020-04-14T12:56:00\", \"2020-04-14T12:57:00\", \"2020-04-14T12:58:00\", \"2020-04-14T12:59:00\", \"2020-04-14T13:00:00\", \"2020-04-14T13:01:00\", \"2020-04-14T13:02:00\", \"2020-04-14T13:03:00\", \"2020-04-14T13:04:00\", \"2020-04-14T13:05:00\", \"2020-04-14T13:06:00\", \"2020-04-14T13:07:00\", \"2020-04-14T13:08:00\", \"2020-04-14T13:09:00\", \"2020-04-14T13:10:00\", \"2020-04-14T13:11:00\", \"2020-04-14T13:12:00\", \"2020-04-14T13:13:00\", \"2020-04-14T13:14:00\", \"2020-04-14T13:15:00\", \"2020-04-14T13:16:00\", \"2020-04-14T13:17:00\", \"2020-04-14T13:18:00\", \"2020-04-14T13:19:00\", \"2020-04-14T13:20:00\", \"2020-04-14T13:21:00\", \"2020-04-14T13:22:00\", \"2020-04-14T13:23:00\", \"2020-04-14T13:24:00\", \"2020-04-14T13:25:00\", \"2020-04-14T13:26:00\", \"2020-04-14T13:27:00\", \"2020-04-14T13:28:00\", \"2020-04-14T13:29:00\", \"2020-04-14T13:30:00\", \"2020-04-14T13:31:00\", \"2020-04-14T13:32:00\", \"2020-04-14T13:33:00\", \"2020-04-14T13:34:00\", \"2020-04-14T13:35:00\", \"2020-04-14T13:36:00\", \"2020-04-14T13:37:00\", \"2020-04-14T13:38:00\", \"2020-04-14T13:39:00\", \"2020-04-14T13:40:00\", \"2020-04-14T13:41:00\", \"2020-04-14T13:42:00\", \"2020-04-14T13:43:00\", \"2020-04-14T13:44:00\", \"2020-04-14T13:45:00\", \"2020-04-14T13:46:00\", \"2020-04-14T13:47:00\", \"2020-04-14T13:48:00\", \"2020-04-14T13:49:00\", \"2020-04-14T13:50:00\", \"2020-04-14T13:51:00\", \"2020-04-14T13:52:00\", \"2020-04-14T13:53:00\", \"2020-04-14T13:54:00\", \"2020-04-14T13:55:00\", \"2020-04-14T13:56:00\", \"2020-04-14T13:57:00\", \"2020-04-14T13:58:00\", \"2020-04-14T13:59:00\", \"2020-04-14T14:00:00\", \"2020-04-14T14:01:00\", \"2020-04-14T14:02:00\", \"2020-04-14T14:03:00\", \"2020-04-14T14:04:00\", \"2020-04-14T14:05:00\", \"2020-04-14T14:06:00\", \"2020-04-14T14:07:00\", \"2020-04-14T14:08:00\", \"2020-04-14T14:09:00\", \"2020-04-14T14:10:00\", \"2020-04-14T14:11:00\", \"2020-04-14T14:12:00\", \"2020-04-14T14:13:00\", \"2020-04-14T14:14:00\", \"2020-04-14T14:15:00\", \"2020-04-14T14:16:00\", \"2020-04-14T14:17:00\", \"2020-04-14T14:18:00\", \"2020-04-14T14:19:00\", \"2020-04-14T14:20:00\", \"2020-04-14T14:21:00\", \"2020-04-14T14:22:00\", \"2020-04-14T14:23:00\", \"2020-04-14T14:24:00\", \"2020-04-14T14:25:00\", \"2020-04-14T14:26:00\", \"2020-04-14T14:27:00\", \"2020-04-14T14:28:00\", \"2020-04-14T14:29:00\", \"2020-04-14T14:30:00\", \"2020-04-14T14:31:00\", \"2020-04-14T14:32:00\", \"2020-04-14T14:33:00\", \"2020-04-14T14:34:00\", \"2020-04-14T14:35:00\", \"2020-04-14T14:36:00\", \"2020-04-14T14:37:00\", \"2020-04-14T14:38:00\", \"2020-04-14T14:39:00\", \"2020-04-14T14:40:00\", \"2020-04-14T14:41:00\", \"2020-04-14T14:42:00\", \"2020-04-14T14:43:00\", \"2020-04-14T14:44:00\", \"2020-04-14T14:45:00\", \"2020-04-14T14:46:00\", \"2020-04-14T14:47:00\", \"2020-04-14T14:48:00\", \"2020-04-14T14:49:00\", \"2020-04-14T14:50:00\", \"2020-04-14T14:51:00\", \"2020-04-14T14:52:00\", \"2020-04-14T14:53:00\", \"2020-04-14T14:54:00\", \"2020-04-14T14:55:00\", \"2020-04-14T14:56:00\", \"2020-04-14T14:57:00\", \"2020-04-14T14:58:00\", \"2020-04-14T14:59:00\", \"2020-04-14T15:00:00\", \"2020-04-14T15:01:00\", \"2020-04-14T15:02:00\", \"2020-04-14T15:03:00\", \"2020-04-14T15:04:00\", \"2020-04-14T15:05:00\", \"2020-04-14T15:06:00\", \"2020-04-14T15:07:00\", \"2020-04-14T15:08:00\", \"2020-04-14T15:09:00\", \"2020-04-14T15:10:00\", \"2020-04-14T15:11:00\", \"2020-04-14T15:12:00\", \"2020-04-14T15:13:00\", \"2020-04-14T15:14:00\", \"2020-04-14T15:15:00\", \"2020-04-14T15:16:00\", \"2020-04-14T15:17:00\", \"2020-04-14T15:18:00\", \"2020-04-14T15:19:00\", \"2020-04-14T15:20:00\", \"2020-04-14T15:21:00\", \"2020-04-14T15:22:00\", \"2020-04-14T15:23:00\", \"2020-04-14T15:24:00\", \"2020-04-14T15:25:00\", \"2020-04-14T15:26:00\", \"2020-04-14T15:27:00\", \"2020-04-14T15:28:00\", \"2020-04-14T15:29:00\", \"2020-04-14T15:30:00\", \"2020-04-14T15:31:00\", \"2020-04-14T15:32:00\", \"2020-04-14T15:33:00\", \"2020-04-14T15:34:00\", \"2020-04-14T15:35:00\", \"2020-04-14T15:36:00\", \"2020-04-14T15:37:00\", \"2020-04-14T15:38:00\", \"2020-04-14T15:39:00\", \"2020-04-14T15:40:00\", \"2020-04-14T15:41:00\", \"2020-04-14T15:42:00\", \"2020-04-14T15:43:00\", \"2020-04-14T15:44:00\", \"2020-04-14T15:45:00\", \"2020-04-14T15:46:00\", \"2020-04-14T15:47:00\", \"2020-04-14T15:48:00\", \"2020-04-14T15:49:00\", \"2020-04-14T15:50:00\", \"2020-04-14T15:51:00\", \"2020-04-14T15:52:00\", \"2020-04-14T15:53:00\", \"2020-04-14T15:54:00\", \"2020-04-14T15:55:00\", \"2020-04-14T15:56:00\", \"2020-04-14T15:57:00\", \"2020-04-14T15:58:00\", \"2020-04-14T15:59:00\", \"2020-04-15T09:30:00\", \"2020-04-15T09:31:00\", \"2020-04-15T09:32:00\", \"2020-04-15T09:33:00\", \"2020-04-15T09:34:00\", \"2020-04-15T09:35:00\", \"2020-04-15T09:36:00\", \"2020-04-15T09:37:00\", \"2020-04-15T09:38:00\", \"2020-04-15T09:39:00\", \"2020-04-15T09:40:00\", \"2020-04-15T09:41:00\", \"2020-04-15T09:42:00\", \"2020-04-15T09:43:00\", \"2020-04-15T09:44:00\", \"2020-04-15T09:45:00\", \"2020-04-15T09:46:00\", \"2020-04-15T09:47:00\", \"2020-04-15T09:48:00\", \"2020-04-15T09:49:00\", \"2020-04-15T09:50:00\", \"2020-04-15T09:51:00\", \"2020-04-15T09:52:00\", \"2020-04-15T09:53:00\", \"2020-04-15T09:54:00\", \"2020-04-15T09:55:00\", \"2020-04-15T09:56:00\", \"2020-04-15T09:57:00\", \"2020-04-15T09:58:00\", \"2020-04-15T09:59:00\", \"2020-04-15T10:00:00\", \"2020-04-15T10:01:00\", \"2020-04-15T10:02:00\", \"2020-04-15T10:03:00\", \"2020-04-15T10:04:00\", \"2020-04-15T10:05:00\", \"2020-04-15T10:06:00\", \"2020-04-15T10:07:00\", \"2020-04-15T10:08:00\", \"2020-04-15T10:09:00\", \"2020-04-15T10:10:00\", \"2020-04-15T10:11:00\", \"2020-04-15T10:12:00\", \"2020-04-15T10:13:00\", \"2020-04-15T10:14:00\", \"2020-04-15T10:15:00\", \"2020-04-15T10:16:00\", \"2020-04-15T10:17:00\", \"2020-04-15T10:18:00\", \"2020-04-15T10:19:00\", \"2020-04-15T10:20:00\", \"2020-04-15T10:21:00\", \"2020-04-15T10:22:00\", \"2020-04-15T10:23:00\", \"2020-04-15T10:24:00\", \"2020-04-15T10:25:00\", \"2020-04-15T10:26:00\", \"2020-04-15T10:27:00\", \"2020-04-15T10:28:00\", \"2020-04-15T10:29:00\", \"2020-04-15T10:30:00\", \"2020-04-15T10:31:00\", \"2020-04-15T10:32:00\", \"2020-04-15T10:33:00\", \"2020-04-15T10:34:00\", \"2020-04-15T10:35:00\", \"2020-04-15T10:36:00\", \"2020-04-15T10:37:00\", \"2020-04-15T10:38:00\", \"2020-04-15T10:39:00\", \"2020-04-15T10:40:00\", \"2020-04-15T10:41:00\", \"2020-04-15T10:42:00\", \"2020-04-15T10:43:00\", \"2020-04-15T10:44:00\", \"2020-04-15T10:45:00\", \"2020-04-15T10:46:00\", \"2020-04-15T10:47:00\", \"2020-04-15T10:48:00\", \"2020-04-15T10:49:00\", \"2020-04-15T10:50:00\", \"2020-04-15T10:51:00\", \"2020-04-15T10:52:00\", \"2020-04-15T10:53:00\", \"2020-04-15T10:54:00\", \"2020-04-15T10:55:00\", \"2020-04-15T10:56:00\", \"2020-04-15T10:57:00\", \"2020-04-15T10:58:00\", \"2020-04-15T10:59:00\", \"2020-04-15T11:00:00\", \"2020-04-15T11:01:00\", \"2020-04-15T11:02:00\", \"2020-04-15T11:03:00\", \"2020-04-15T11:04:00\", \"2020-04-15T11:05:00\", \"2020-04-15T11:06:00\", \"2020-04-15T11:07:00\", \"2020-04-15T11:08:00\", \"2020-04-15T11:09:00\", \"2020-04-15T11:10:00\", \"2020-04-15T11:11:00\", \"2020-04-15T11:12:00\", \"2020-04-15T11:13:00\", \"2020-04-15T11:14:00\", \"2020-04-15T11:15:00\", \"2020-04-15T11:16:00\", \"2020-04-15T11:17:00\", \"2020-04-15T11:18:00\", \"2020-04-15T11:19:00\", \"2020-04-15T11:20:00\", \"2020-04-15T11:21:00\", \"2020-04-15T11:22:00\", \"2020-04-15T11:23:00\", \"2020-04-15T11:24:00\", \"2020-04-15T11:25:00\", \"2020-04-15T11:26:00\", \"2020-04-15T11:27:00\", \"2020-04-15T11:28:00\", \"2020-04-15T11:29:00\", \"2020-04-15T11:30:00\", \"2020-04-15T11:31:00\", \"2020-04-15T11:32:00\", \"2020-04-15T11:33:00\", \"2020-04-15T11:34:00\", \"2020-04-15T11:35:00\", \"2020-04-15T11:36:00\", \"2020-04-15T11:37:00\", \"2020-04-15T11:38:00\", \"2020-04-15T11:39:00\", \"2020-04-15T11:40:00\", \"2020-04-15T11:41:00\", \"2020-04-15T11:42:00\", \"2020-04-15T11:43:00\", \"2020-04-15T11:44:00\", \"2020-04-15T11:45:00\", \"2020-04-15T11:46:00\", \"2020-04-15T11:47:00\", \"2020-04-15T11:48:00\", \"2020-04-15T11:49:00\", \"2020-04-15T11:50:00\", \"2020-04-15T11:51:00\", \"2020-04-15T11:52:00\", \"2020-04-15T11:53:00\", \"2020-04-15T11:54:00\", \"2020-04-15T11:55:00\", \"2020-04-15T11:56:00\", \"2020-04-15T11:57:00\", \"2020-04-15T11:58:00\", \"2020-04-15T11:59:00\", \"2020-04-15T12:00:00\", \"2020-04-15T12:01:00\", \"2020-04-15T12:02:00\", \"2020-04-15T12:03:00\", \"2020-04-15T12:04:00\", \"2020-04-15T12:05:00\", \"2020-04-15T12:06:00\", \"2020-04-15T12:07:00\", \"2020-04-15T12:08:00\", \"2020-04-15T12:09:00\", \"2020-04-15T12:10:00\", \"2020-04-15T12:11:00\", \"2020-04-15T12:12:00\", \"2020-04-15T12:13:00\", \"2020-04-15T12:14:00\", \"2020-04-15T12:15:00\", \"2020-04-15T12:16:00\", \"2020-04-15T12:17:00\", \"2020-04-15T12:18:00\", \"2020-04-15T12:19:00\", \"2020-04-15T12:20:00\", \"2020-04-15T12:21:00\", \"2020-04-15T12:22:00\", \"2020-04-15T12:23:00\", \"2020-04-15T12:24:00\", \"2020-04-15T12:25:00\", \"2020-04-15T12:26:00\", \"2020-04-15T12:27:00\", \"2020-04-15T12:28:00\", \"2020-04-15T12:29:00\", \"2020-04-15T12:30:00\", \"2020-04-15T12:31:00\", \"2020-04-15T12:32:00\", \"2020-04-15T12:33:00\", \"2020-04-15T12:34:00\", \"2020-04-15T12:35:00\", \"2020-04-15T12:36:00\", \"2020-04-15T12:37:00\", \"2020-04-15T12:38:00\", \"2020-04-15T12:39:00\", \"2020-04-15T12:40:00\", \"2020-04-15T12:41:00\", \"2020-04-15T12:42:00\", \"2020-04-15T12:43:00\", \"2020-04-15T12:44:00\", \"2020-04-15T12:45:00\", \"2020-04-15T12:46:00\", \"2020-04-15T12:47:00\", \"2020-04-15T12:48:00\", \"2020-04-15T12:49:00\", \"2020-04-15T12:50:00\", \"2020-04-15T12:51:00\", \"2020-04-15T12:52:00\", \"2020-04-15T12:53:00\", \"2020-04-15T12:54:00\", \"2020-04-15T12:55:00\", \"2020-04-15T12:56:00\", \"2020-04-15T12:57:00\", \"2020-04-15T12:58:00\", \"2020-04-15T12:59:00\", \"2020-04-15T13:00:00\", \"2020-04-15T13:01:00\", \"2020-04-15T13:02:00\", \"2020-04-15T13:03:00\", \"2020-04-15T13:04:00\", \"2020-04-15T13:05:00\", \"2020-04-15T13:06:00\", \"2020-04-15T13:07:00\", \"2020-04-15T13:08:00\", \"2020-04-15T13:09:00\", \"2020-04-15T13:10:00\", \"2020-04-15T13:11:00\", \"2020-04-15T13:12:00\", \"2020-04-15T13:13:00\", \"2020-04-15T13:14:00\", \"2020-04-15T13:15:00\", \"2020-04-15T13:16:00\", \"2020-04-15T13:17:00\", \"2020-04-15T13:18:00\", \"2020-04-15T13:19:00\", \"2020-04-15T13:20:00\", \"2020-04-15T13:21:00\", \"2020-04-15T13:22:00\", \"2020-04-15T13:23:00\", \"2020-04-15T13:24:00\", \"2020-04-15T13:25:00\", \"2020-04-15T13:26:00\", \"2020-04-15T13:27:00\", \"2020-04-15T13:28:00\", \"2020-04-15T13:29:00\", \"2020-04-15T13:30:00\", \"2020-04-15T13:31:00\", \"2020-04-15T13:32:00\", \"2020-04-15T13:33:00\", \"2020-04-15T13:34:00\", \"2020-04-15T13:35:00\", \"2020-04-15T13:36:00\", \"2020-04-15T13:37:00\", \"2020-04-15T13:38:00\", \"2020-04-15T13:39:00\", \"2020-04-15T13:40:00\", \"2020-04-15T13:41:00\", \"2020-04-15T13:42:00\", \"2020-04-15T13:43:00\", \"2020-04-15T13:44:00\", \"2020-04-15T13:45:00\", \"2020-04-15T13:46:00\", \"2020-04-15T13:47:00\", \"2020-04-15T13:48:00\", \"2020-04-15T13:49:00\", \"2020-04-15T13:50:00\", \"2020-04-15T13:51:00\", \"2020-04-15T13:52:00\", \"2020-04-15T13:53:00\", \"2020-04-15T13:54:00\", \"2020-04-15T13:55:00\", \"2020-04-15T13:56:00\", \"2020-04-15T13:57:00\", \"2020-04-15T13:58:00\", \"2020-04-15T13:59:00\", \"2020-04-15T14:00:00\", \"2020-04-15T14:01:00\", \"2020-04-15T14:02:00\", \"2020-04-15T14:03:00\", \"2020-04-15T14:04:00\", \"2020-04-15T14:05:00\", \"2020-04-15T14:06:00\", \"2020-04-15T14:07:00\", \"2020-04-15T14:08:00\", \"2020-04-15T14:09:00\", \"2020-04-15T14:10:00\", \"2020-04-15T14:11:00\", \"2020-04-15T14:12:00\", \"2020-04-15T14:13:00\", \"2020-04-15T14:14:00\", \"2020-04-15T14:15:00\", \"2020-04-15T14:16:00\", \"2020-04-15T14:17:00\", \"2020-04-15T14:18:00\", \"2020-04-15T14:19:00\", \"2020-04-15T14:20:00\", \"2020-04-15T14:21:00\", \"2020-04-15T14:22:00\", \"2020-04-15T14:23:00\", \"2020-04-15T14:24:00\", \"2020-04-15T14:25:00\", \"2020-04-15T14:26:00\", \"2020-04-15T14:27:00\", \"2020-04-15T14:28:00\", \"2020-04-15T14:29:00\", \"2020-04-15T14:30:00\", \"2020-04-15T14:31:00\", \"2020-04-15T14:32:00\", \"2020-04-15T14:33:00\", \"2020-04-15T14:34:00\", \"2020-04-15T14:35:00\", \"2020-04-15T14:36:00\", \"2020-04-15T14:37:00\", \"2020-04-15T14:38:00\", \"2020-04-15T14:39:00\", \"2020-04-15T14:40:00\", \"2020-04-15T14:41:00\", \"2020-04-15T14:42:00\", \"2020-04-15T14:43:00\", \"2020-04-15T14:44:00\", \"2020-04-15T14:45:00\", \"2020-04-15T14:46:00\", \"2020-04-15T14:47:00\", \"2020-04-15T14:48:00\", \"2020-04-15T14:49:00\", \"2020-04-15T14:50:00\", \"2020-04-15T14:51:00\", \"2020-04-15T14:52:00\", \"2020-04-15T14:53:00\", \"2020-04-15T14:54:00\", \"2020-04-15T14:55:00\", \"2020-04-15T14:56:00\", \"2020-04-15T14:57:00\", \"2020-04-15T14:58:00\", \"2020-04-15T14:59:00\", \"2020-04-15T15:00:00\", \"2020-04-15T15:01:00\", \"2020-04-15T15:02:00\", \"2020-04-15T15:03:00\", \"2020-04-15T15:04:00\", \"2020-04-15T15:05:00\", \"2020-04-15T15:06:00\", \"2020-04-15T15:07:00\", \"2020-04-15T15:08:00\", \"2020-04-15T15:09:00\", \"2020-04-15T15:10:00\", \"2020-04-15T15:11:00\", \"2020-04-15T15:12:00\", \"2020-04-15T15:13:00\", \"2020-04-15T15:14:00\", \"2020-04-15T15:15:00\", \"2020-04-15T15:16:00\", \"2020-04-15T15:17:00\", \"2020-04-15T15:18:00\", \"2020-04-15T15:19:00\", \"2020-04-15T15:20:00\", \"2020-04-15T15:21:00\", \"2020-04-15T15:22:00\", \"2020-04-15T15:23:00\", \"2020-04-15T15:24:00\", \"2020-04-15T15:25:00\", \"2020-04-15T15:26:00\", \"2020-04-15T15:27:00\", \"2020-04-15T15:28:00\", \"2020-04-15T15:29:00\", \"2020-04-15T15:30:00\", \"2020-04-15T15:31:00\", \"2020-04-15T15:32:00\", \"2020-04-15T15:33:00\", \"2020-04-15T15:34:00\", \"2020-04-15T15:35:00\", \"2020-04-15T15:36:00\", \"2020-04-15T15:37:00\", \"2020-04-15T15:38:00\", \"2020-04-15T15:39:00\", \"2020-04-15T15:40:00\", \"2020-04-15T15:41:00\", \"2020-04-15T15:42:00\", \"2020-04-15T15:43:00\", \"2020-04-15T15:44:00\", \"2020-04-15T15:45:00\", \"2020-04-15T15:46:00\", \"2020-04-15T15:47:00\", \"2020-04-15T15:48:00\", \"2020-04-15T15:49:00\", \"2020-04-15T15:50:00\", \"2020-04-15T15:51:00\", \"2020-04-15T15:52:00\", \"2020-04-15T15:53:00\", \"2020-04-15T15:54:00\", \"2020-04-15T15:55:00\", \"2020-04-15T15:56:00\", \"2020-04-15T15:57:00\", \"2020-04-15T15:58:00\", \"2020-04-15T15:59:00\"]}],\n",
       "                        {\"template\": {\"data\": {\"bar\": [{\"error_x\": {\"color\": \"#2a3f5f\"}, \"error_y\": {\"color\": \"#2a3f5f\"}, \"marker\": {\"line\": {\"color\": \"#E5ECF6\", \"width\": 0.5}}, \"type\": \"bar\"}], \"barpolar\": [{\"marker\": {\"line\": {\"color\": \"#E5ECF6\", \"width\": 0.5}}, \"type\": \"barpolar\"}], \"carpet\": [{\"aaxis\": {\"endlinecolor\": \"#2a3f5f\", \"gridcolor\": \"white\", \"linecolor\": \"white\", \"minorgridcolor\": \"white\", \"startlinecolor\": \"#2a3f5f\"}, \"baxis\": {\"endlinecolor\": \"#2a3f5f\", \"gridcolor\": \"white\", \"linecolor\": \"white\", \"minorgridcolor\": \"white\", \"startlinecolor\": \"#2a3f5f\"}, \"type\": \"carpet\"}], \"choropleth\": [{\"colorbar\": {\"outlinewidth\": 0, \"ticks\": \"\"}, \"type\": \"choropleth\"}], \"contour\": [{\"colorbar\": {\"outlinewidth\": 0, \"ticks\": \"\"}, \"colorscale\": [[0.0, \"#0d0887\"], [0.1111111111111111, \"#46039f\"], [0.2222222222222222, \"#7201a8\"], [0.3333333333333333, \"#9c179e\"], [0.4444444444444444, \"#bd3786\"], [0.5555555555555556, \"#d8576b\"], [0.6666666666666666, \"#ed7953\"], [0.7777777777777778, \"#fb9f3a\"], [0.8888888888888888, \"#fdca26\"], [1.0, \"#f0f921\"]], \"type\": \"contour\"}], \"contourcarpet\": [{\"colorbar\": {\"outlinewidth\": 0, \"ticks\": \"\"}, \"type\": \"contourcarpet\"}], \"heatmap\": [{\"colorbar\": {\"outlinewidth\": 0, \"ticks\": \"\"}, \"colorscale\": [[0.0, \"#0d0887\"], [0.1111111111111111, \"#46039f\"], [0.2222222222222222, \"#7201a8\"], [0.3333333333333333, \"#9c179e\"], [0.4444444444444444, \"#bd3786\"], [0.5555555555555556, \"#d8576b\"], [0.6666666666666666, \"#ed7953\"], [0.7777777777777778, \"#fb9f3a\"], [0.8888888888888888, \"#fdca26\"], [1.0, \"#f0f921\"]], \"type\": \"heatmap\"}], \"heatmapgl\": [{\"colorbar\": {\"outlinewidth\": 0, \"ticks\": \"\"}, \"colorscale\": [[0.0, \"#0d0887\"], [0.1111111111111111, \"#46039f\"], [0.2222222222222222, \"#7201a8\"], [0.3333333333333333, \"#9c179e\"], [0.4444444444444444, \"#bd3786\"], [0.5555555555555556, \"#d8576b\"], [0.6666666666666666, \"#ed7953\"], [0.7777777777777778, \"#fb9f3a\"], [0.8888888888888888, \"#fdca26\"], [1.0, \"#f0f921\"]], \"type\": \"heatmapgl\"}], \"histogram\": [{\"marker\": {\"colorbar\": {\"outlinewidth\": 0, \"ticks\": \"\"}}, \"type\": \"histogram\"}], \"histogram2d\": [{\"colorbar\": {\"outlinewidth\": 0, \"ticks\": \"\"}, \"colorscale\": [[0.0, \"#0d0887\"], [0.1111111111111111, \"#46039f\"], [0.2222222222222222, \"#7201a8\"], [0.3333333333333333, \"#9c179e\"], [0.4444444444444444, \"#bd3786\"], [0.5555555555555556, \"#d8576b\"], [0.6666666666666666, \"#ed7953\"], [0.7777777777777778, \"#fb9f3a\"], [0.8888888888888888, \"#fdca26\"], [1.0, \"#f0f921\"]], \"type\": \"histogram2d\"}], \"histogram2dcontour\": [{\"colorbar\": {\"outlinewidth\": 0, \"ticks\": \"\"}, \"colorscale\": [[0.0, \"#0d0887\"], [0.1111111111111111, \"#46039f\"], [0.2222222222222222, \"#7201a8\"], [0.3333333333333333, \"#9c179e\"], [0.4444444444444444, \"#bd3786\"], [0.5555555555555556, \"#d8576b\"], [0.6666666666666666, \"#ed7953\"], [0.7777777777777778, \"#fb9f3a\"], [0.8888888888888888, \"#fdca26\"], [1.0, \"#f0f921\"]], \"type\": \"histogram2dcontour\"}], \"mesh3d\": [{\"colorbar\": {\"outlinewidth\": 0, \"ticks\": \"\"}, \"type\": \"mesh3d\"}], \"parcoords\": [{\"line\": {\"colorbar\": {\"outlinewidth\": 0, \"ticks\": \"\"}}, \"type\": \"parcoords\"}], \"pie\": [{\"automargin\": true, \"type\": \"pie\"}], \"scatter\": [{\"marker\": {\"colorbar\": {\"outlinewidth\": 0, \"ticks\": \"\"}}, \"type\": \"scatter\"}], \"scatter3d\": [{\"line\": {\"colorbar\": {\"outlinewidth\": 0, \"ticks\": \"\"}}, \"marker\": {\"colorbar\": {\"outlinewidth\": 0, \"ticks\": \"\"}}, \"type\": \"scatter3d\"}], \"scattercarpet\": [{\"marker\": {\"colorbar\": {\"outlinewidth\": 0, \"ticks\": \"\"}}, \"type\": \"scattercarpet\"}], \"scattergeo\": [{\"marker\": {\"colorbar\": {\"outlinewidth\": 0, \"ticks\": \"\"}}, \"type\": \"scattergeo\"}], \"scattergl\": [{\"marker\": {\"colorbar\": {\"outlinewidth\": 0, \"ticks\": \"\"}}, \"type\": \"scattergl\"}], \"scattermapbox\": [{\"marker\": {\"colorbar\": {\"outlinewidth\": 0, \"ticks\": \"\"}}, \"type\": \"scattermapbox\"}], \"scatterpolar\": [{\"marker\": {\"colorbar\": {\"outlinewidth\": 0, \"ticks\": \"\"}}, \"type\": \"scatterpolar\"}], \"scatterpolargl\": [{\"marker\": {\"colorbar\": {\"outlinewidth\": 0, \"ticks\": \"\"}}, \"type\": \"scatterpolargl\"}], \"scatterternary\": [{\"marker\": {\"colorbar\": {\"outlinewidth\": 0, \"ticks\": \"\"}}, \"type\": \"scatterternary\"}], \"surface\": [{\"colorbar\": {\"outlinewidth\": 0, \"ticks\": \"\"}, \"colorscale\": [[0.0, \"#0d0887\"], [0.1111111111111111, \"#46039f\"], [0.2222222222222222, \"#7201a8\"], [0.3333333333333333, \"#9c179e\"], [0.4444444444444444, \"#bd3786\"], [0.5555555555555556, \"#d8576b\"], [0.6666666666666666, \"#ed7953\"], [0.7777777777777778, \"#fb9f3a\"], [0.8888888888888888, \"#fdca26\"], [1.0, \"#f0f921\"]], \"type\": \"surface\"}], \"table\": [{\"cells\": {\"fill\": {\"color\": \"#EBF0F8\"}, \"line\": {\"color\": \"white\"}}, \"header\": {\"fill\": {\"color\": \"#C8D4E3\"}, \"line\": {\"color\": \"white\"}}, \"type\": \"table\"}]}, \"layout\": {\"annotationdefaults\": {\"arrowcolor\": \"#2a3f5f\", \"arrowhead\": 0, \"arrowwidth\": 1}, \"coloraxis\": {\"colorbar\": {\"outlinewidth\": 0, \"ticks\": \"\"}}, \"colorscale\": {\"diverging\": [[0, \"#8e0152\"], [0.1, \"#c51b7d\"], [0.2, \"#de77ae\"], [0.3, \"#f1b6da\"], [0.4, \"#fde0ef\"], [0.5, \"#f7f7f7\"], [0.6, \"#e6f5d0\"], [0.7, \"#b8e186\"], [0.8, \"#7fbc41\"], [0.9, \"#4d9221\"], [1, \"#276419\"]], \"sequential\": [[0.0, \"#0d0887\"], [0.1111111111111111, \"#46039f\"], [0.2222222222222222, \"#7201a8\"], [0.3333333333333333, \"#9c179e\"], [0.4444444444444444, \"#bd3786\"], [0.5555555555555556, \"#d8576b\"], [0.6666666666666666, \"#ed7953\"], [0.7777777777777778, \"#fb9f3a\"], [0.8888888888888888, \"#fdca26\"], [1.0, \"#f0f921\"]], \"sequentialminus\": [[0.0, \"#0d0887\"], [0.1111111111111111, \"#46039f\"], [0.2222222222222222, \"#7201a8\"], [0.3333333333333333, \"#9c179e\"], [0.4444444444444444, \"#bd3786\"], [0.5555555555555556, \"#d8576b\"], [0.6666666666666666, \"#ed7953\"], [0.7777777777777778, \"#fb9f3a\"], [0.8888888888888888, \"#fdca26\"], [1.0, \"#f0f921\"]]}, \"colorway\": [\"#636efa\", \"#EF553B\", \"#00cc96\", \"#ab63fa\", \"#FFA15A\", \"#19d3f3\", \"#FF6692\", \"#B6E880\", \"#FF97FF\", \"#FECB52\"], \"font\": {\"color\": \"#2a3f5f\"}, \"geo\": {\"bgcolor\": \"white\", \"lakecolor\": \"white\", \"landcolor\": \"#E5ECF6\", \"showlakes\": true, \"showland\": true, \"subunitcolor\": \"white\"}, \"hoverlabel\": {\"align\": \"left\"}, \"hovermode\": \"closest\", \"mapbox\": {\"style\": \"light\"}, \"paper_bgcolor\": \"white\", \"plot_bgcolor\": \"#E5ECF6\", \"polar\": {\"angularaxis\": {\"gridcolor\": \"white\", \"linecolor\": \"white\", \"ticks\": \"\"}, \"bgcolor\": \"#E5ECF6\", \"radialaxis\": {\"gridcolor\": \"white\", \"linecolor\": \"white\", \"ticks\": \"\"}}, \"scene\": {\"xaxis\": {\"backgroundcolor\": \"#E5ECF6\", \"gridcolor\": \"white\", \"gridwidth\": 2, \"linecolor\": \"white\", \"showbackground\": true, \"ticks\": \"\", \"zerolinecolor\": \"white\"}, \"yaxis\": {\"backgroundcolor\": \"#E5ECF6\", \"gridcolor\": \"white\", \"gridwidth\": 2, \"linecolor\": \"white\", \"showbackground\": true, \"ticks\": \"\", \"zerolinecolor\": \"white\"}, \"zaxis\": {\"backgroundcolor\": \"#E5ECF6\", \"gridcolor\": \"white\", \"gridwidth\": 2, \"linecolor\": \"white\", \"showbackground\": true, \"ticks\": \"\", \"zerolinecolor\": \"white\"}}, \"shapedefaults\": {\"line\": {\"color\": \"#2a3f5f\"}}, \"ternary\": {\"aaxis\": {\"gridcolor\": \"white\", \"linecolor\": \"white\", \"ticks\": \"\"}, \"baxis\": {\"gridcolor\": \"white\", \"linecolor\": \"white\", \"ticks\": \"\"}, \"bgcolor\": \"#E5ECF6\", \"caxis\": {\"gridcolor\": \"white\", \"linecolor\": \"white\", \"ticks\": \"\"}}, \"title\": {\"x\": 0.05}, \"xaxis\": {\"automargin\": true, \"gridcolor\": \"white\", \"linecolor\": \"white\", \"ticks\": \"\", \"title\": {\"standoff\": 15}, \"zerolinecolor\": \"white\", \"zerolinewidth\": 2}, \"yaxis\": {\"automargin\": true, \"gridcolor\": \"white\", \"linecolor\": \"white\", \"ticks\": \"\", \"title\": {\"standoff\": 15}, \"zerolinecolor\": \"white\", \"zerolinewidth\": 2}}}},\n",
       "                        {\"responsive\": true}\n",
       "                    ).then(function(){\n",
       "                            \n",
       "var gd = document.getElementById('dd084a0d-1bf4-44ef-8b50-0b8bb7121780');\n",
       "var x = new MutationObserver(function (mutations, observer) {{\n",
       "        var display = window.getComputedStyle(gd).display;\n",
       "        if (!display || display === 'none') {{\n",
       "            console.log([gd, 'removed!']);\n",
       "            Plotly.purge(gd);\n",
       "            observer.disconnect();\n",
       "        }}\n",
       "}});\n",
       "\n",
       "// Listen for the removal of the full notebook cells\n",
       "var notebookContainer = gd.closest('#notebook-container');\n",
       "if (notebookContainer) {{\n",
       "    x.observe(notebookContainer, {childList: true});\n",
       "}}\n",
       "\n",
       "// Listen for the clearing of the current output cell\n",
       "var outputEl = gd.closest('.output');\n",
       "if (outputEl) {{\n",
       "    x.observe(outputEl, {childList: true});\n",
       "}}\n",
       "\n",
       "                        })\n",
       "                };\n",
       "                });\n",
       "            </script>\n",
       "        </div>"
      ]
     },
     "metadata": {},
     "output_type": "display_data"
    }
   ],
   "source": [
    "fig = go.Figure(data=go.Ohlc(x=df['datetime'],\n",
    "                open=df['open'],\n",
    "                high=df['high'],\n",
    "                low=df['low'],\n",
    "                close=df['close'])\n",
    ")\n",
    "fig.show()"
   ]
  },
  {
   "cell_type": "code",
   "execution_count": 80,
   "metadata": {},
   "outputs": [
    {
     "data": {
      "text/html": [
       "<div>\n",
       "<style scoped>\n",
       "    .dataframe tbody tr th:only-of-type {\n",
       "        vertical-align: middle;\n",
       "    }\n",
       "\n",
       "    .dataframe tbody tr th {\n",
       "        vertical-align: top;\n",
       "    }\n",
       "\n",
       "    .dataframe thead tr th {\n",
       "        text-align: left;\n",
       "    }\n",
       "\n",
       "    .dataframe thead tr:last-of-type th {\n",
       "        text-align: right;\n",
       "    }\n",
       "</style>\n",
       "<table border=\"1\" class=\"dataframe\">\n",
       "  <thead>\n",
       "    <tr>\n",
       "      <th></th>\n",
       "      <th colspan=\"2\" halign=\"left\">average</th>\n",
       "    </tr>\n",
       "    <tr>\n",
       "      <th></th>\n",
       "      <th>mean</th>\n",
       "      <th>std</th>\n",
       "    </tr>\n",
       "    <tr>\n",
       "      <th>date</th>\n",
       "      <th></th>\n",
       "      <th></th>\n",
       "    </tr>\n",
       "  </thead>\n",
       "  <tbody>\n",
       "    <tr>\n",
       "      <th>2020-04-14</th>\n",
       "      <td>285.627885</td>\n",
       "      <td>1.650578</td>\n",
       "    </tr>\n",
       "    <tr>\n",
       "      <th>2020-04-15</th>\n",
       "      <td>283.825076</td>\n",
       "      <td>1.252668</td>\n",
       "    </tr>\n",
       "  </tbody>\n",
       "</table>\n",
       "</div>"
      ],
      "text/plain": [
       "               average          \n",
       "                  mean       std\n",
       "date                            \n",
       "2020-04-14  285.627885  1.650578\n",
       "2020-04-15  283.825076  1.252668"
      ]
     },
     "execution_count": 80,
     "metadata": {},
     "output_type": "execute_result"
    }
   ],
   "source": []
  },
  {
   "cell_type": "code",
   "execution_count": 83,
   "metadata": {},
   "outputs": [
    {
     "data": {
      "application/vnd.plotly.v1+json": {
       "config": {
        "plotlyServerURL": "https://plot.ly"
       },
       "data": [
        {
         "alignmentgroup": "True",
         "hoverlabel": {
          "namelength": 0
         },
         "hovertemplate": "date=%{x}<br>average=%{y}",
         "legendgroup": "",
         "marker": {
          "color": "#636efa"
         },
         "name": "",
         "notched": false,
         "offsetgroup": "",
         "orientation": "v",
         "showlegend": false,
         "type": "box",
         "x": [
          "2020-04-14",
          "2020-04-14",
          "2020-04-14",
          "2020-04-14",
          "2020-04-14",
          "2020-04-14",
          "2020-04-14",
          "2020-04-14",
          "2020-04-14",
          "2020-04-14",
          "2020-04-14",
          "2020-04-14",
          "2020-04-14",
          "2020-04-14",
          "2020-04-14",
          "2020-04-14",
          "2020-04-14",
          "2020-04-14",
          "2020-04-14",
          "2020-04-14",
          "2020-04-14",
          "2020-04-14",
          "2020-04-14",
          "2020-04-14",
          "2020-04-14",
          "2020-04-14",
          "2020-04-14",
          "2020-04-14",
          "2020-04-14",
          "2020-04-14",
          "2020-04-14",
          "2020-04-14",
          "2020-04-14",
          "2020-04-14",
          "2020-04-14",
          "2020-04-14",
          "2020-04-14",
          "2020-04-14",
          "2020-04-14",
          "2020-04-14",
          "2020-04-14",
          "2020-04-14",
          "2020-04-14",
          "2020-04-14",
          "2020-04-14",
          "2020-04-14",
          "2020-04-14",
          "2020-04-14",
          "2020-04-14",
          "2020-04-14",
          "2020-04-14",
          "2020-04-14",
          "2020-04-14",
          "2020-04-14",
          "2020-04-14",
          "2020-04-14",
          "2020-04-14",
          "2020-04-14",
          "2020-04-14",
          "2020-04-14",
          "2020-04-14",
          "2020-04-14",
          "2020-04-14",
          "2020-04-14",
          "2020-04-14",
          "2020-04-14",
          "2020-04-14",
          "2020-04-14",
          "2020-04-14",
          "2020-04-14",
          "2020-04-14",
          "2020-04-14",
          "2020-04-14",
          "2020-04-14",
          "2020-04-14",
          "2020-04-14",
          "2020-04-14",
          "2020-04-14",
          "2020-04-14",
          "2020-04-14",
          "2020-04-14",
          "2020-04-14",
          "2020-04-14",
          "2020-04-14",
          "2020-04-14",
          "2020-04-14",
          "2020-04-14",
          "2020-04-14",
          "2020-04-14",
          "2020-04-14",
          "2020-04-14",
          "2020-04-14",
          "2020-04-14",
          "2020-04-14",
          "2020-04-14",
          "2020-04-14",
          "2020-04-14",
          "2020-04-14",
          "2020-04-14",
          "2020-04-14",
          "2020-04-14",
          "2020-04-14",
          "2020-04-14",
          "2020-04-14",
          "2020-04-14",
          "2020-04-14",
          "2020-04-14",
          "2020-04-14",
          "2020-04-14",
          "2020-04-14",
          "2020-04-14",
          "2020-04-14",
          "2020-04-14",
          "2020-04-14",
          "2020-04-14",
          "2020-04-14",
          "2020-04-14",
          "2020-04-14",
          "2020-04-14",
          "2020-04-14",
          "2020-04-14",
          "2020-04-14",
          "2020-04-14",
          "2020-04-14",
          "2020-04-14",
          "2020-04-14",
          "2020-04-14",
          "2020-04-14",
          "2020-04-14",
          "2020-04-14",
          "2020-04-14",
          "2020-04-14",
          "2020-04-14",
          "2020-04-14",
          "2020-04-14",
          "2020-04-14",
          "2020-04-14",
          "2020-04-14",
          "2020-04-14",
          "2020-04-14",
          "2020-04-14",
          "2020-04-14",
          "2020-04-14",
          "2020-04-14",
          "2020-04-14",
          "2020-04-14",
          "2020-04-14",
          "2020-04-14",
          "2020-04-14",
          "2020-04-14",
          "2020-04-14",
          "2020-04-14",
          "2020-04-14",
          "2020-04-14",
          "2020-04-14",
          "2020-04-14",
          "2020-04-14",
          "2020-04-14",
          "2020-04-14",
          "2020-04-14",
          "2020-04-14",
          "2020-04-14",
          "2020-04-14",
          "2020-04-14",
          "2020-04-14",
          "2020-04-14",
          "2020-04-14",
          "2020-04-14",
          "2020-04-14",
          "2020-04-14",
          "2020-04-14",
          "2020-04-14",
          "2020-04-14",
          "2020-04-14",
          "2020-04-14",
          "2020-04-14",
          "2020-04-14",
          "2020-04-14",
          "2020-04-14",
          "2020-04-14",
          "2020-04-14",
          "2020-04-14",
          "2020-04-14",
          "2020-04-14",
          "2020-04-14",
          "2020-04-14",
          "2020-04-14",
          "2020-04-14",
          "2020-04-14",
          "2020-04-14",
          "2020-04-14",
          "2020-04-14",
          "2020-04-14",
          "2020-04-14",
          "2020-04-14",
          "2020-04-14",
          "2020-04-14",
          "2020-04-14",
          "2020-04-14",
          "2020-04-14",
          "2020-04-14",
          "2020-04-14",
          "2020-04-14",
          "2020-04-14",
          "2020-04-14",
          "2020-04-14",
          "2020-04-14",
          "2020-04-14",
          "2020-04-14",
          "2020-04-14",
          "2020-04-14",
          "2020-04-14",
          "2020-04-14",
          "2020-04-14",
          "2020-04-14",
          "2020-04-14",
          "2020-04-14",
          "2020-04-14",
          "2020-04-14",
          "2020-04-14",
          "2020-04-14",
          "2020-04-14",
          "2020-04-14",
          "2020-04-14",
          "2020-04-14",
          "2020-04-14",
          "2020-04-14",
          "2020-04-14",
          "2020-04-14",
          "2020-04-14",
          "2020-04-14",
          "2020-04-14",
          "2020-04-14",
          "2020-04-14",
          "2020-04-14",
          "2020-04-14",
          "2020-04-14",
          "2020-04-14",
          "2020-04-14",
          "2020-04-14",
          "2020-04-14",
          "2020-04-14",
          "2020-04-14",
          "2020-04-14",
          "2020-04-14",
          "2020-04-14",
          "2020-04-14",
          "2020-04-14",
          "2020-04-14",
          "2020-04-14",
          "2020-04-14",
          "2020-04-14",
          "2020-04-14",
          "2020-04-14",
          "2020-04-14",
          "2020-04-14",
          "2020-04-14",
          "2020-04-14",
          "2020-04-14",
          "2020-04-14",
          "2020-04-14",
          "2020-04-14",
          "2020-04-14",
          "2020-04-14",
          "2020-04-14",
          "2020-04-14",
          "2020-04-14",
          "2020-04-14",
          "2020-04-14",
          "2020-04-14",
          "2020-04-14",
          "2020-04-14",
          "2020-04-14",
          "2020-04-14",
          "2020-04-14",
          "2020-04-14",
          "2020-04-14",
          "2020-04-14",
          "2020-04-14",
          "2020-04-14",
          "2020-04-14",
          "2020-04-14",
          "2020-04-14",
          "2020-04-14",
          "2020-04-14",
          "2020-04-14",
          "2020-04-14",
          "2020-04-14",
          "2020-04-14",
          "2020-04-14",
          "2020-04-14",
          "2020-04-14",
          "2020-04-14",
          "2020-04-14",
          "2020-04-14",
          "2020-04-14",
          "2020-04-14",
          "2020-04-14",
          "2020-04-14",
          "2020-04-14",
          "2020-04-14",
          "2020-04-14",
          "2020-04-14",
          "2020-04-14",
          "2020-04-14",
          "2020-04-14",
          "2020-04-14",
          "2020-04-14",
          "2020-04-14",
          "2020-04-14",
          "2020-04-14",
          "2020-04-14",
          "2020-04-14",
          "2020-04-14",
          "2020-04-14",
          "2020-04-14",
          "2020-04-14",
          "2020-04-14",
          "2020-04-14",
          "2020-04-14",
          "2020-04-14",
          "2020-04-14",
          "2020-04-14",
          "2020-04-14",
          "2020-04-14",
          "2020-04-14",
          "2020-04-14",
          "2020-04-14",
          "2020-04-14",
          "2020-04-14",
          "2020-04-14",
          "2020-04-14",
          "2020-04-14",
          "2020-04-14",
          "2020-04-14",
          "2020-04-14",
          "2020-04-14",
          "2020-04-14",
          "2020-04-14",
          "2020-04-14",
          "2020-04-14",
          "2020-04-14",
          "2020-04-14",
          "2020-04-14",
          "2020-04-14",
          "2020-04-14",
          "2020-04-14",
          "2020-04-14",
          "2020-04-14",
          "2020-04-14",
          "2020-04-14",
          "2020-04-14",
          "2020-04-14",
          "2020-04-14",
          "2020-04-14",
          "2020-04-14",
          "2020-04-14",
          "2020-04-14",
          "2020-04-14",
          "2020-04-14",
          "2020-04-14",
          "2020-04-14",
          "2020-04-14",
          "2020-04-14",
          "2020-04-14",
          "2020-04-14",
          "2020-04-14",
          "2020-04-14",
          "2020-04-14",
          "2020-04-14",
          "2020-04-14",
          "2020-04-14",
          "2020-04-14",
          "2020-04-14",
          "2020-04-14",
          "2020-04-14",
          "2020-04-14",
          "2020-04-14",
          "2020-04-14",
          "2020-04-14",
          "2020-04-14",
          "2020-04-14",
          "2020-04-14",
          "2020-04-14",
          "2020-04-14",
          "2020-04-14",
          "2020-04-14",
          "2020-04-14",
          "2020-04-14",
          "2020-04-14",
          "2020-04-15",
          "2020-04-15",
          "2020-04-15",
          "2020-04-15",
          "2020-04-15",
          "2020-04-15",
          "2020-04-15",
          "2020-04-15",
          "2020-04-15",
          "2020-04-15",
          "2020-04-15",
          "2020-04-15",
          "2020-04-15",
          "2020-04-15",
          "2020-04-15",
          "2020-04-15",
          "2020-04-15",
          "2020-04-15",
          "2020-04-15",
          "2020-04-15",
          "2020-04-15",
          "2020-04-15",
          "2020-04-15",
          "2020-04-15",
          "2020-04-15",
          "2020-04-15",
          "2020-04-15",
          "2020-04-15",
          "2020-04-15",
          "2020-04-15",
          "2020-04-15",
          "2020-04-15",
          "2020-04-15",
          "2020-04-15",
          "2020-04-15",
          "2020-04-15",
          "2020-04-15",
          "2020-04-15",
          "2020-04-15",
          "2020-04-15",
          "2020-04-15",
          "2020-04-15",
          "2020-04-15",
          "2020-04-15",
          "2020-04-15",
          "2020-04-15",
          "2020-04-15",
          "2020-04-15",
          "2020-04-15",
          "2020-04-15",
          "2020-04-15",
          "2020-04-15",
          "2020-04-15",
          "2020-04-15",
          "2020-04-15",
          "2020-04-15",
          "2020-04-15",
          "2020-04-15",
          "2020-04-15",
          "2020-04-15",
          "2020-04-15",
          "2020-04-15",
          "2020-04-15",
          "2020-04-15",
          "2020-04-15",
          "2020-04-15",
          "2020-04-15",
          "2020-04-15",
          "2020-04-15",
          "2020-04-15",
          "2020-04-15",
          "2020-04-15",
          "2020-04-15",
          "2020-04-15",
          "2020-04-15",
          "2020-04-15",
          "2020-04-15",
          "2020-04-15",
          "2020-04-15",
          "2020-04-15",
          "2020-04-15",
          "2020-04-15",
          "2020-04-15",
          "2020-04-15",
          "2020-04-15",
          "2020-04-15",
          "2020-04-15",
          "2020-04-15",
          "2020-04-15",
          "2020-04-15",
          "2020-04-15",
          "2020-04-15",
          "2020-04-15",
          "2020-04-15",
          "2020-04-15",
          "2020-04-15",
          "2020-04-15",
          "2020-04-15",
          "2020-04-15",
          "2020-04-15",
          "2020-04-15",
          "2020-04-15",
          "2020-04-15",
          "2020-04-15",
          "2020-04-15",
          "2020-04-15",
          "2020-04-15",
          "2020-04-15",
          "2020-04-15",
          "2020-04-15",
          "2020-04-15",
          "2020-04-15",
          "2020-04-15",
          "2020-04-15",
          "2020-04-15",
          "2020-04-15",
          "2020-04-15",
          "2020-04-15",
          "2020-04-15",
          "2020-04-15",
          "2020-04-15",
          "2020-04-15",
          "2020-04-15",
          "2020-04-15",
          "2020-04-15",
          "2020-04-15",
          "2020-04-15",
          "2020-04-15",
          "2020-04-15",
          "2020-04-15",
          "2020-04-15",
          "2020-04-15",
          "2020-04-15",
          "2020-04-15",
          "2020-04-15",
          "2020-04-15",
          "2020-04-15",
          "2020-04-15",
          "2020-04-15",
          "2020-04-15",
          "2020-04-15",
          "2020-04-15",
          "2020-04-15",
          "2020-04-15",
          "2020-04-15",
          "2020-04-15",
          "2020-04-15",
          "2020-04-15",
          "2020-04-15",
          "2020-04-15",
          "2020-04-15",
          "2020-04-15",
          "2020-04-15",
          "2020-04-15",
          "2020-04-15",
          "2020-04-15",
          "2020-04-15",
          "2020-04-15",
          "2020-04-15",
          "2020-04-15",
          "2020-04-15",
          "2020-04-15",
          "2020-04-15",
          "2020-04-15",
          "2020-04-15",
          "2020-04-15",
          "2020-04-15",
          "2020-04-15",
          "2020-04-15",
          "2020-04-15",
          "2020-04-15",
          "2020-04-15",
          "2020-04-15",
          "2020-04-15",
          "2020-04-15",
          "2020-04-15",
          "2020-04-15",
          "2020-04-15",
          "2020-04-15",
          "2020-04-15",
          "2020-04-15",
          "2020-04-15",
          "2020-04-15",
          "2020-04-15",
          "2020-04-15",
          "2020-04-15",
          "2020-04-15",
          "2020-04-15",
          "2020-04-15",
          "2020-04-15",
          "2020-04-15",
          "2020-04-15",
          "2020-04-15",
          "2020-04-15",
          "2020-04-15",
          "2020-04-15",
          "2020-04-15",
          "2020-04-15",
          "2020-04-15",
          "2020-04-15",
          "2020-04-15",
          "2020-04-15",
          "2020-04-15",
          "2020-04-15",
          "2020-04-15",
          "2020-04-15",
          "2020-04-15",
          "2020-04-15",
          "2020-04-15",
          "2020-04-15",
          "2020-04-15",
          "2020-04-15",
          "2020-04-15",
          "2020-04-15",
          "2020-04-15",
          "2020-04-15",
          "2020-04-15",
          "2020-04-15",
          "2020-04-15",
          "2020-04-15",
          "2020-04-15",
          "2020-04-15",
          "2020-04-15",
          "2020-04-15",
          "2020-04-15",
          "2020-04-15",
          "2020-04-15",
          "2020-04-15",
          "2020-04-15",
          "2020-04-15",
          "2020-04-15",
          "2020-04-15",
          "2020-04-15",
          "2020-04-15",
          "2020-04-15",
          "2020-04-15",
          "2020-04-15",
          "2020-04-15",
          "2020-04-15",
          "2020-04-15",
          "2020-04-15",
          "2020-04-15",
          "2020-04-15",
          "2020-04-15",
          "2020-04-15",
          "2020-04-15",
          "2020-04-15",
          "2020-04-15",
          "2020-04-15",
          "2020-04-15",
          "2020-04-15",
          "2020-04-15",
          "2020-04-15",
          "2020-04-15",
          "2020-04-15",
          "2020-04-15",
          "2020-04-15",
          "2020-04-15",
          "2020-04-15",
          "2020-04-15",
          "2020-04-15",
          "2020-04-15",
          "2020-04-15",
          "2020-04-15",
          "2020-04-15",
          "2020-04-15",
          "2020-04-15",
          "2020-04-15",
          "2020-04-15",
          "2020-04-15",
          "2020-04-15",
          "2020-04-15",
          "2020-04-15",
          "2020-04-15",
          "2020-04-15",
          "2020-04-15",
          "2020-04-15",
          "2020-04-15",
          "2020-04-15",
          "2020-04-15",
          "2020-04-15",
          "2020-04-15",
          "2020-04-15",
          "2020-04-15",
          "2020-04-15",
          "2020-04-15",
          "2020-04-15",
          "2020-04-15",
          "2020-04-15",
          "2020-04-15",
          "2020-04-15",
          "2020-04-15",
          "2020-04-15",
          "2020-04-15",
          "2020-04-15",
          "2020-04-15",
          "2020-04-15",
          "2020-04-15",
          "2020-04-15",
          "2020-04-15",
          "2020-04-15",
          "2020-04-15",
          "2020-04-15",
          "2020-04-15",
          "2020-04-15",
          "2020-04-15",
          "2020-04-15",
          "2020-04-15",
          "2020-04-15",
          "2020-04-15",
          "2020-04-15",
          "2020-04-15",
          "2020-04-15",
          "2020-04-15",
          "2020-04-15",
          "2020-04-15",
          "2020-04-15",
          "2020-04-15",
          "2020-04-15",
          "2020-04-15",
          "2020-04-15",
          "2020-04-15",
          "2020-04-15",
          "2020-04-15",
          "2020-04-15",
          "2020-04-15",
          "2020-04-15",
          "2020-04-15",
          "2020-04-15",
          "2020-04-15",
          "2020-04-15",
          "2020-04-15",
          "2020-04-15",
          "2020-04-15",
          "2020-04-15",
          "2020-04-15",
          "2020-04-15",
          "2020-04-15",
          "2020-04-15",
          "2020-04-15",
          "2020-04-15",
          "2020-04-15",
          "2020-04-15",
          "2020-04-15",
          "2020-04-15",
          "2020-04-15",
          "2020-04-15",
          "2020-04-15",
          "2020-04-15",
          "2020-04-15",
          "2020-04-15",
          "2020-04-15",
          "2020-04-15",
          "2020-04-15",
          "2020-04-15",
          "2020-04-15",
          "2020-04-15",
          "2020-04-15",
          "2020-04-15",
          "2020-04-15",
          "2020-04-15",
          "2020-04-15",
          "2020-04-15",
          "2020-04-15",
          "2020-04-15",
          "2020-04-15",
          "2020-04-15",
          "2020-04-15",
          "2020-04-15",
          "2020-04-15",
          "2020-04-15",
          "2020-04-15",
          "2020-04-15",
          "2020-04-15",
          "2020-04-15",
          "2020-04-15",
          "2020-04-15",
          "2020-04-15",
          "2020-04-15",
          "2020-04-15",
          "2020-04-15",
          "2020-04-15",
          "2020-04-15",
          "2020-04-15",
          "2020-04-15",
          "2020-04-15",
          "2020-04-15",
          "2020-04-15",
          "2020-04-15",
          "2020-04-15"
         ],
         "x0": " ",
         "xaxis": "x",
         "y": [
          279.368,
          278.777,
          279.355,
          279.545,
          279.99,
          280.501,
          280.823,
          281.185,
          281.487,
          281.834,
          281.745,
          281.345,
          281.349,
          281.737,
          282.396,
          283.076,
          283.64,
          283.463,
          283.438,
          283.828,
          284.117,
          283.896,
          284.362,
          284.939,
          284.97,
          284.507,
          284.654,
          284.636,
          285.301,
          285.857,
          285.593,
          284.797,
          284.566,
          284.885,
          284.547,
          284.728,
          284.233,
          284.092,
          283.939,
          283.969,
          284.339,
          284.569,
          284.074,
          283.763,
          284.17,
          284.032,
          284.523,
          284.854,
          285.149,
          285.024,
          284.834,
          284.891,
          285.44,
          285.41,
          285.142,
          285.137,
          284.902,
          284.726,
          284.595,
          284.411,
          284.665,
          284.581,
          284.669,
          284.717,
          284.59,
          284.457,
          284.581,
          284.918,
          284.757,
          284.67,
          284.992,
          285.105,
          284.58,
          285.05,
          285.204,
          285.481,
          285.118,
          285,
          285.034,
          285.085,
          285.453,
          285.273,
          285.408,
          285.243,
          284.855,
          284.642,
          284.413,
          284.668,
          284.384,
          284.389,
          284.306,
          284.603,
          284.793,
          284.463,
          284.096,
          283.931,
          283.875,
          283.717,
          283.863,
          283.742,
          283.905,
          283.918,
          283.329,
          283.283,
          283.249,
          283.417,
          283.41,
          283.416,
          283.188,
          282.917,
          282.882,
          282.988,
          283.314,
          283.439,
          283.6,
          283.704,
          283.786,
          283.73,
          283.828,
          283.888,
          284.09,
          284.01,
          284.462,
          null,
          284.51,
          284.483,
          284.435,
          284.494,
          284.661,
          284.623,
          284.389,
          284.698,
          284.77,
          284.68,
          284.659,
          284.54,
          284.643,
          284.634,
          284.515,
          284.396,
          284.459,
          284.554,
          284.38,
          284.557,
          null,
          284.528,
          284.337,
          284.074,
          284.226,
          284.358,
          284.398,
          284.991,
          285.16,
          285.065,
          285.031,
          285.007,
          284.915,
          284.995,
          285.243,
          285.358,
          285.272,
          null,
          null,
          285.035,
          285.015,
          285.115,
          285.44,
          285.729,
          285.59,
          285.661,
          285.844,
          285.95,
          285.827,
          286.092,
          286.027,
          285.936,
          285.861,
          285.724,
          285.665,
          285.772,
          285.814,
          285.615,
          285.726,
          285.855,
          285.774,
          285.824,
          285.757,
          285.873,
          286.029,
          285.885,
          286.124,
          286.06,
          286.132,
          286.188,
          null,
          286.28,
          286.174,
          286.226,
          286.017,
          285.97,
          286.265,
          286.276,
          286.361,
          286.446,
          286.377,
          286.372,
          null,
          286.392,
          286.28,
          286.161,
          285.987,
          285.868,
          285.705,
          285.648,
          285.705,
          285.376,
          285.517,
          285.98,
          285.852,
          null,
          285.973,
          286.19,
          286.229,
          286.158,
          285.942,
          285.729,
          285.632,
          285.625,
          285.566,
          285.612,
          285.88,
          285.832,
          null,
          286.16,
          286.136,
          286.238,
          286.173,
          286.053,
          286.14,
          286.265,
          286.549,
          286.584,
          286.555,
          286.702,
          286.8,
          286.706,
          286.438,
          286.524,
          286.337,
          286.43,
          286.808,
          286.921,
          286.925,
          286.849,
          286.868,
          null,
          287.101,
          287.2,
          287.256,
          287.326,
          287.436,
          287.475,
          287.445,
          287.611,
          287.338,
          287.267,
          287.32,
          287.313,
          287.32,
          null,
          287.242,
          null,
          287.418,
          287.15,
          287.332,
          287.403,
          287.198,
          287.39,
          287.444,
          287.365,
          287.59,
          287.648,
          null,
          287.478,
          287.475,
          287.622,
          287.748,
          287.726,
          287.758,
          287.815,
          287.995,
          287.988,
          287.845,
          287.992,
          287.995,
          287.91,
          287.734,
          287.561,
          287.672,
          287.738,
          287.669,
          287.692,
          287.643,
          287.525,
          287.575,
          287.652,
          287.529,
          287.62,
          287.493,
          287.45,
          287.77,
          287.67,
          287.454,
          287.397,
          287.284,
          287.44,
          287.27,
          286.995,
          286.767,
          286.97,
          287.137,
          287.34,
          287.59,
          287.488,
          287.505,
          287.705,
          287.671,
          287.608,
          null,
          287.967,
          null,
          287.385,
          287.059,
          287.066,
          287.024,
          286.65,
          null,
          285.871,
          285.907,
          286.253,
          286.361,
          286.206,
          286.253,
          286.567,
          286.792,
          286.43,
          286.114,
          286.432,
          286.426,
          286.348,
          286.09,
          286.181,
          286.144,
          286.03,
          286.254,
          286.498,
          286.625,
          286.826,
          286.748,
          286.885,
          286.912,
          287.067,
          287.05,
          286.936,
          287.478,
          287.37,
          287.378,
          287.458,
          287.411,
          287.5,
          287.697,
          287.746,
          287.466,
          287.526,
          287.603,
          287.642,
          287.71,
          287.951,
          287.796,
          287.681,
          286.918,
          286.502,
          286.887,
          287.114,
          287.02,
          287.048,
          287.21,
          287.3,
          286.828,
          286.991,
          281.751,
          282.006,
          282.43,
          282.493,
          282.617,
          282.551,
          282.54,
          282.971,
          282.959,
          282.845,
          282.58,
          282.443,
          282.104,
          281.706,
          281.043,
          280.764,
          280.848,
          281.02,
          281.123,
          281.241,
          281.154,
          281.399,
          281.219,
          281.365,
          281.264,
          281.297,
          281.11,
          281.55,
          282.005,
          282.132,
          282.225,
          282.271,
          282.258,
          282.184,
          282.071,
          281.946,
          282.264,
          282.326,
          282.072,
          282.295,
          282.28,
          282.275,
          282.141,
          282.294,
          282.33,
          281.972,
          281.697,
          281.057,
          281.262,
          281.235,
          281.308,
          281.573,
          281.518,
          281.712,
          281.724,
          281.813,
          281.742,
          281.586,
          281.528,
          281.638,
          281.531,
          281.755,
          282.169,
          282.135,
          281.982,
          282.074,
          282.177,
          281.945,
          281.672,
          281.65,
          281.925,
          281.91,
          282.37,
          282.512,
          282.861,
          282.984,
          283.313,
          283.524,
          283.772,
          283.949,
          283.858,
          283.715,
          284.109,
          284.564,
          284.379,
          284.339,
          284.547,
          284.575,
          284.395,
          284.28,
          284.838,
          284.493,
          284.059,
          284.163,
          284.335,
          284.136,
          283.783,
          283.822,
          283.713,
          283.88,
          284.1,
          284.499,
          null,
          284.751,
          284.647,
          284.678,
          284.083,
          284.119,
          284.03,
          283.969,
          283.589,
          283.423,
          283.605,
          283.604,
          283.305,
          283.211,
          283.445,
          283.403,
          283.312,
          283.365,
          283.683,
          283.87,
          283.707,
          283.813,
          283.783,
          283.682,
          283.61,
          283.411,
          283.35,
          283.134,
          null,
          283.053,
          282.947,
          282.993,
          283.022,
          282.91,
          283.148,
          283.005,
          282.885,
          282.689,
          282.88,
          283.072,
          283.082,
          283.066,
          283.155,
          283.34,
          283.22,
          283.115,
          282.831,
          282.888,
          282.835,
          282.915,
          283.095,
          283.398,
          283.52,
          283.433,
          283.41,
          283.35,
          283.335,
          283.039,
          282.89,
          282.744,
          282.814,
          282.443,
          282.496,
          282.53,
          282.488,
          282.28,
          282.289,
          282.186,
          282.332,
          282.53,
          282.647,
          282.73,
          282.57,
          282.825,
          282.673,
          282.565,
          282.795,
          283.225,
          283.14,
          283.21,
          283.212,
          283.424,
          283.692,
          283.737,
          283.67,
          283.8,
          283.796,
          283.75,
          283.592,
          283.643,
          283.901,
          284.17,
          284.098,
          283.941,
          283.948,
          283.91,
          284.02,
          284.179,
          284.443,
          284.392,
          284.5,
          284.53,
          284.588,
          284.439,
          284.225,
          284.07,
          284.163,
          284.204,
          283.99,
          284.01,
          284.272,
          null,
          284.197,
          284.026,
          null,
          283.919,
          284.117,
          284.246,
          284.399,
          284.429,
          284.633,
          284.723,
          284.893,
          284.861,
          284.785,
          285.084,
          285.508,
          285.427,
          285.239,
          285.004,
          285.045,
          285.044,
          285.132,
          285.145,
          284.955,
          284.749,
          284.618,
          284.509,
          284.32,
          284.289,
          284.377,
          284.289,
          284.375,
          284.444,
          284.594,
          284.413,
          284.163,
          284.12,
          284.26,
          284.113,
          284.214,
          284.403,
          284.517,
          284.484,
          284.587,
          284.727,
          284.824,
          284.72,
          284.895,
          284.751,
          284.7,
          284.74,
          284.58,
          284.71,
          284.477,
          284.445,
          284.354,
          284.219,
          284.29,
          284.488,
          284.507,
          284.545,
          284.438,
          284.536,
          284.54,
          null,
          284.68,
          284.488,
          284.415,
          284.5,
          284.62,
          null,
          284.907,
          284.788,
          284.79,
          285.011,
          285.266,
          284.938,
          285.176,
          285.396,
          285.388,
          285.413,
          285.321,
          285.061,
          284.993,
          285.004,
          285.175,
          285.39,
          285.4,
          285.049,
          284.827,
          284.915,
          285.045,
          285.136,
          285.16,
          285.185,
          285.48,
          285.477,
          285.233,
          285.32,
          285.593,
          285.347,
          285.478,
          285.453,
          285.405,
          285.496,
          285.42,
          null,
          285.195,
          285.097,
          285.295,
          285.343,
          285.216,
          285.449,
          285.553,
          285.911,
          285.905,
          285.967,
          286.005,
          286.154,
          286.011,
          285.836,
          285.649,
          285.63,
          285.641,
          285.203,
          285.29,
          285.246,
          285.173,
          285.061,
          285.13,
          285.337,
          285.324,
          285.193,
          285.118,
          285.366,
          285.309,
          285.413,
          285.455,
          285.52,
          285.463,
          285.22,
          285.268,
          285.29,
          284.937,
          284.951,
          284.785,
          284.812,
          284.996,
          284.897,
          284.709,
          284.632,
          284.694,
          284.597,
          284.735,
          285.013,
          284.898,
          284.987,
          284.545,
          284.199,
          283.988,
          284.18,
          284.466,
          284.606,
          284.645,
          284.431,
          284.702,
          284.675,
          284.384,
          284.34,
          284.155,
          284.121,
          284.173,
          284.266,
          284.216,
          284.317,
          284.283,
          284.316
         ],
         "y0": " ",
         "yaxis": "y"
        }
       ],
       "layout": {
        "boxmode": "group",
        "legend": {
         "tracegroupgap": 0
        },
        "margin": {
         "t": 60
        },
        "template": {
         "data": {
          "bar": [
           {
            "error_x": {
             "color": "#2a3f5f"
            },
            "error_y": {
             "color": "#2a3f5f"
            },
            "marker": {
             "line": {
              "color": "#E5ECF6",
              "width": 0.5
             }
            },
            "type": "bar"
           }
          ],
          "barpolar": [
           {
            "marker": {
             "line": {
              "color": "#E5ECF6",
              "width": 0.5
             }
            },
            "type": "barpolar"
           }
          ],
          "carpet": [
           {
            "aaxis": {
             "endlinecolor": "#2a3f5f",
             "gridcolor": "white",
             "linecolor": "white",
             "minorgridcolor": "white",
             "startlinecolor": "#2a3f5f"
            },
            "baxis": {
             "endlinecolor": "#2a3f5f",
             "gridcolor": "white",
             "linecolor": "white",
             "minorgridcolor": "white",
             "startlinecolor": "#2a3f5f"
            },
            "type": "carpet"
           }
          ],
          "choropleth": [
           {
            "colorbar": {
             "outlinewidth": 0,
             "ticks": ""
            },
            "type": "choropleth"
           }
          ],
          "contour": [
           {
            "colorbar": {
             "outlinewidth": 0,
             "ticks": ""
            },
            "colorscale": [
             [
              0,
              "#0d0887"
             ],
             [
              0.1111111111111111,
              "#46039f"
             ],
             [
              0.2222222222222222,
              "#7201a8"
             ],
             [
              0.3333333333333333,
              "#9c179e"
             ],
             [
              0.4444444444444444,
              "#bd3786"
             ],
             [
              0.5555555555555556,
              "#d8576b"
             ],
             [
              0.6666666666666666,
              "#ed7953"
             ],
             [
              0.7777777777777778,
              "#fb9f3a"
             ],
             [
              0.8888888888888888,
              "#fdca26"
             ],
             [
              1,
              "#f0f921"
             ]
            ],
            "type": "contour"
           }
          ],
          "contourcarpet": [
           {
            "colorbar": {
             "outlinewidth": 0,
             "ticks": ""
            },
            "type": "contourcarpet"
           }
          ],
          "heatmap": [
           {
            "colorbar": {
             "outlinewidth": 0,
             "ticks": ""
            },
            "colorscale": [
             [
              0,
              "#0d0887"
             ],
             [
              0.1111111111111111,
              "#46039f"
             ],
             [
              0.2222222222222222,
              "#7201a8"
             ],
             [
              0.3333333333333333,
              "#9c179e"
             ],
             [
              0.4444444444444444,
              "#bd3786"
             ],
             [
              0.5555555555555556,
              "#d8576b"
             ],
             [
              0.6666666666666666,
              "#ed7953"
             ],
             [
              0.7777777777777778,
              "#fb9f3a"
             ],
             [
              0.8888888888888888,
              "#fdca26"
             ],
             [
              1,
              "#f0f921"
             ]
            ],
            "type": "heatmap"
           }
          ],
          "heatmapgl": [
           {
            "colorbar": {
             "outlinewidth": 0,
             "ticks": ""
            },
            "colorscale": [
             [
              0,
              "#0d0887"
             ],
             [
              0.1111111111111111,
              "#46039f"
             ],
             [
              0.2222222222222222,
              "#7201a8"
             ],
             [
              0.3333333333333333,
              "#9c179e"
             ],
             [
              0.4444444444444444,
              "#bd3786"
             ],
             [
              0.5555555555555556,
              "#d8576b"
             ],
             [
              0.6666666666666666,
              "#ed7953"
             ],
             [
              0.7777777777777778,
              "#fb9f3a"
             ],
             [
              0.8888888888888888,
              "#fdca26"
             ],
             [
              1,
              "#f0f921"
             ]
            ],
            "type": "heatmapgl"
           }
          ],
          "histogram": [
           {
            "marker": {
             "colorbar": {
              "outlinewidth": 0,
              "ticks": ""
             }
            },
            "type": "histogram"
           }
          ],
          "histogram2d": [
           {
            "colorbar": {
             "outlinewidth": 0,
             "ticks": ""
            },
            "colorscale": [
             [
              0,
              "#0d0887"
             ],
             [
              0.1111111111111111,
              "#46039f"
             ],
             [
              0.2222222222222222,
              "#7201a8"
             ],
             [
              0.3333333333333333,
              "#9c179e"
             ],
             [
              0.4444444444444444,
              "#bd3786"
             ],
             [
              0.5555555555555556,
              "#d8576b"
             ],
             [
              0.6666666666666666,
              "#ed7953"
             ],
             [
              0.7777777777777778,
              "#fb9f3a"
             ],
             [
              0.8888888888888888,
              "#fdca26"
             ],
             [
              1,
              "#f0f921"
             ]
            ],
            "type": "histogram2d"
           }
          ],
          "histogram2dcontour": [
           {
            "colorbar": {
             "outlinewidth": 0,
             "ticks": ""
            },
            "colorscale": [
             [
              0,
              "#0d0887"
             ],
             [
              0.1111111111111111,
              "#46039f"
             ],
             [
              0.2222222222222222,
              "#7201a8"
             ],
             [
              0.3333333333333333,
              "#9c179e"
             ],
             [
              0.4444444444444444,
              "#bd3786"
             ],
             [
              0.5555555555555556,
              "#d8576b"
             ],
             [
              0.6666666666666666,
              "#ed7953"
             ],
             [
              0.7777777777777778,
              "#fb9f3a"
             ],
             [
              0.8888888888888888,
              "#fdca26"
             ],
             [
              1,
              "#f0f921"
             ]
            ],
            "type": "histogram2dcontour"
           }
          ],
          "mesh3d": [
           {
            "colorbar": {
             "outlinewidth": 0,
             "ticks": ""
            },
            "type": "mesh3d"
           }
          ],
          "parcoords": [
           {
            "line": {
             "colorbar": {
              "outlinewidth": 0,
              "ticks": ""
             }
            },
            "type": "parcoords"
           }
          ],
          "pie": [
           {
            "automargin": true,
            "type": "pie"
           }
          ],
          "scatter": [
           {
            "marker": {
             "colorbar": {
              "outlinewidth": 0,
              "ticks": ""
             }
            },
            "type": "scatter"
           }
          ],
          "scatter3d": [
           {
            "line": {
             "colorbar": {
              "outlinewidth": 0,
              "ticks": ""
             }
            },
            "marker": {
             "colorbar": {
              "outlinewidth": 0,
              "ticks": ""
             }
            },
            "type": "scatter3d"
           }
          ],
          "scattercarpet": [
           {
            "marker": {
             "colorbar": {
              "outlinewidth": 0,
              "ticks": ""
             }
            },
            "type": "scattercarpet"
           }
          ],
          "scattergeo": [
           {
            "marker": {
             "colorbar": {
              "outlinewidth": 0,
              "ticks": ""
             }
            },
            "type": "scattergeo"
           }
          ],
          "scattergl": [
           {
            "marker": {
             "colorbar": {
              "outlinewidth": 0,
              "ticks": ""
             }
            },
            "type": "scattergl"
           }
          ],
          "scattermapbox": [
           {
            "marker": {
             "colorbar": {
              "outlinewidth": 0,
              "ticks": ""
             }
            },
            "type": "scattermapbox"
           }
          ],
          "scatterpolar": [
           {
            "marker": {
             "colorbar": {
              "outlinewidth": 0,
              "ticks": ""
             }
            },
            "type": "scatterpolar"
           }
          ],
          "scatterpolargl": [
           {
            "marker": {
             "colorbar": {
              "outlinewidth": 0,
              "ticks": ""
             }
            },
            "type": "scatterpolargl"
           }
          ],
          "scatterternary": [
           {
            "marker": {
             "colorbar": {
              "outlinewidth": 0,
              "ticks": ""
             }
            },
            "type": "scatterternary"
           }
          ],
          "surface": [
           {
            "colorbar": {
             "outlinewidth": 0,
             "ticks": ""
            },
            "colorscale": [
             [
              0,
              "#0d0887"
             ],
             [
              0.1111111111111111,
              "#46039f"
             ],
             [
              0.2222222222222222,
              "#7201a8"
             ],
             [
              0.3333333333333333,
              "#9c179e"
             ],
             [
              0.4444444444444444,
              "#bd3786"
             ],
             [
              0.5555555555555556,
              "#d8576b"
             ],
             [
              0.6666666666666666,
              "#ed7953"
             ],
             [
              0.7777777777777778,
              "#fb9f3a"
             ],
             [
              0.8888888888888888,
              "#fdca26"
             ],
             [
              1,
              "#f0f921"
             ]
            ],
            "type": "surface"
           }
          ],
          "table": [
           {
            "cells": {
             "fill": {
              "color": "#EBF0F8"
             },
             "line": {
              "color": "white"
             }
            },
            "header": {
             "fill": {
              "color": "#C8D4E3"
             },
             "line": {
              "color": "white"
             }
            },
            "type": "table"
           }
          ]
         },
         "layout": {
          "annotationdefaults": {
           "arrowcolor": "#2a3f5f",
           "arrowhead": 0,
           "arrowwidth": 1
          },
          "coloraxis": {
           "colorbar": {
            "outlinewidth": 0,
            "ticks": ""
           }
          },
          "colorscale": {
           "diverging": [
            [
             0,
             "#8e0152"
            ],
            [
             0.1,
             "#c51b7d"
            ],
            [
             0.2,
             "#de77ae"
            ],
            [
             0.3,
             "#f1b6da"
            ],
            [
             0.4,
             "#fde0ef"
            ],
            [
             0.5,
             "#f7f7f7"
            ],
            [
             0.6,
             "#e6f5d0"
            ],
            [
             0.7,
             "#b8e186"
            ],
            [
             0.8,
             "#7fbc41"
            ],
            [
             0.9,
             "#4d9221"
            ],
            [
             1,
             "#276419"
            ]
           ],
           "sequential": [
            [
             0,
             "#0d0887"
            ],
            [
             0.1111111111111111,
             "#46039f"
            ],
            [
             0.2222222222222222,
             "#7201a8"
            ],
            [
             0.3333333333333333,
             "#9c179e"
            ],
            [
             0.4444444444444444,
             "#bd3786"
            ],
            [
             0.5555555555555556,
             "#d8576b"
            ],
            [
             0.6666666666666666,
             "#ed7953"
            ],
            [
             0.7777777777777778,
             "#fb9f3a"
            ],
            [
             0.8888888888888888,
             "#fdca26"
            ],
            [
             1,
             "#f0f921"
            ]
           ],
           "sequentialminus": [
            [
             0,
             "#0d0887"
            ],
            [
             0.1111111111111111,
             "#46039f"
            ],
            [
             0.2222222222222222,
             "#7201a8"
            ],
            [
             0.3333333333333333,
             "#9c179e"
            ],
            [
             0.4444444444444444,
             "#bd3786"
            ],
            [
             0.5555555555555556,
             "#d8576b"
            ],
            [
             0.6666666666666666,
             "#ed7953"
            ],
            [
             0.7777777777777778,
             "#fb9f3a"
            ],
            [
             0.8888888888888888,
             "#fdca26"
            ],
            [
             1,
             "#f0f921"
            ]
           ]
          },
          "colorway": [
           "#636efa",
           "#EF553B",
           "#00cc96",
           "#ab63fa",
           "#FFA15A",
           "#19d3f3",
           "#FF6692",
           "#B6E880",
           "#FF97FF",
           "#FECB52"
          ],
          "font": {
           "color": "#2a3f5f"
          },
          "geo": {
           "bgcolor": "white",
           "lakecolor": "white",
           "landcolor": "#E5ECF6",
           "showlakes": true,
           "showland": true,
           "subunitcolor": "white"
          },
          "hoverlabel": {
           "align": "left"
          },
          "hovermode": "closest",
          "mapbox": {
           "style": "light"
          },
          "paper_bgcolor": "white",
          "plot_bgcolor": "#E5ECF6",
          "polar": {
           "angularaxis": {
            "gridcolor": "white",
            "linecolor": "white",
            "ticks": ""
           },
           "bgcolor": "#E5ECF6",
           "radialaxis": {
            "gridcolor": "white",
            "linecolor": "white",
            "ticks": ""
           }
          },
          "scene": {
           "xaxis": {
            "backgroundcolor": "#E5ECF6",
            "gridcolor": "white",
            "gridwidth": 2,
            "linecolor": "white",
            "showbackground": true,
            "ticks": "",
            "zerolinecolor": "white"
           },
           "yaxis": {
            "backgroundcolor": "#E5ECF6",
            "gridcolor": "white",
            "gridwidth": 2,
            "linecolor": "white",
            "showbackground": true,
            "ticks": "",
            "zerolinecolor": "white"
           },
           "zaxis": {
            "backgroundcolor": "#E5ECF6",
            "gridcolor": "white",
            "gridwidth": 2,
            "linecolor": "white",
            "showbackground": true,
            "ticks": "",
            "zerolinecolor": "white"
           }
          },
          "shapedefaults": {
           "line": {
            "color": "#2a3f5f"
           }
          },
          "ternary": {
           "aaxis": {
            "gridcolor": "white",
            "linecolor": "white",
            "ticks": ""
           },
           "baxis": {
            "gridcolor": "white",
            "linecolor": "white",
            "ticks": ""
           },
           "bgcolor": "#E5ECF6",
           "caxis": {
            "gridcolor": "white",
            "linecolor": "white",
            "ticks": ""
           }
          },
          "title": {
           "x": 0.05
          },
          "xaxis": {
           "automargin": true,
           "gridcolor": "white",
           "linecolor": "white",
           "ticks": "",
           "title": {
            "standoff": 15
           },
           "zerolinecolor": "white",
           "zerolinewidth": 2
          },
          "yaxis": {
           "automargin": true,
           "gridcolor": "white",
           "linecolor": "white",
           "ticks": "",
           "title": {
            "standoff": 15
           },
           "zerolinecolor": "white",
           "zerolinewidth": 2
          }
         }
        },
        "xaxis": {
         "anchor": "y",
         "domain": [
          0,
          1
         ],
         "title": {
          "text": "date"
         }
        },
        "yaxis": {
         "anchor": "x",
         "domain": [
          0,
          1
         ],
         "title": {
          "text": "average"
         }
        }
       }
      },
      "text/html": [
       "<div>\n",
       "        \n",
       "        \n",
       "            <div id=\"2d0253f4-91e8-41b0-97a0-6fede1e47b99\" class=\"plotly-graph-div\" style=\"height:525px; width:100%;\"></div>\n",
       "            <script type=\"text/javascript\">\n",
       "                require([\"plotly\"], function(Plotly) {\n",
       "                    window.PLOTLYENV=window.PLOTLYENV || {};\n",
       "                    \n",
       "                if (document.getElementById(\"2d0253f4-91e8-41b0-97a0-6fede1e47b99\")) {\n",
       "                    Plotly.newPlot(\n",
       "                        '2d0253f4-91e8-41b0-97a0-6fede1e47b99',\n",
       "                        [{\"alignmentgroup\": \"True\", \"hoverlabel\": {\"namelength\": 0}, \"hovertemplate\": \"date=%{x}<br>average=%{y}\", \"legendgroup\": \"\", \"marker\": {\"color\": \"#636efa\"}, \"name\": \"\", \"notched\": false, \"offsetgroup\": \"\", \"orientation\": \"v\", \"showlegend\": false, \"type\": \"box\", \"x\": [\"2020-04-14\", \"2020-04-14\", \"2020-04-14\", \"2020-04-14\", \"2020-04-14\", \"2020-04-14\", \"2020-04-14\", \"2020-04-14\", \"2020-04-14\", \"2020-04-14\", \"2020-04-14\", \"2020-04-14\", \"2020-04-14\", \"2020-04-14\", \"2020-04-14\", \"2020-04-14\", \"2020-04-14\", \"2020-04-14\", \"2020-04-14\", \"2020-04-14\", \"2020-04-14\", \"2020-04-14\", \"2020-04-14\", \"2020-04-14\", \"2020-04-14\", \"2020-04-14\", \"2020-04-14\", \"2020-04-14\", \"2020-04-14\", \"2020-04-14\", \"2020-04-14\", \"2020-04-14\", \"2020-04-14\", \"2020-04-14\", \"2020-04-14\", \"2020-04-14\", \"2020-04-14\", \"2020-04-14\", \"2020-04-14\", \"2020-04-14\", \"2020-04-14\", \"2020-04-14\", \"2020-04-14\", \"2020-04-14\", \"2020-04-14\", \"2020-04-14\", \"2020-04-14\", \"2020-04-14\", \"2020-04-14\", \"2020-04-14\", \"2020-04-14\", \"2020-04-14\", \"2020-04-14\", \"2020-04-14\", \"2020-04-14\", \"2020-04-14\", \"2020-04-14\", \"2020-04-14\", \"2020-04-14\", \"2020-04-14\", \"2020-04-14\", \"2020-04-14\", \"2020-04-14\", \"2020-04-14\", \"2020-04-14\", \"2020-04-14\", \"2020-04-14\", \"2020-04-14\", \"2020-04-14\", \"2020-04-14\", \"2020-04-14\", \"2020-04-14\", \"2020-04-14\", \"2020-04-14\", \"2020-04-14\", \"2020-04-14\", \"2020-04-14\", \"2020-04-14\", \"2020-04-14\", \"2020-04-14\", \"2020-04-14\", \"2020-04-14\", \"2020-04-14\", \"2020-04-14\", \"2020-04-14\", \"2020-04-14\", \"2020-04-14\", \"2020-04-14\", \"2020-04-14\", \"2020-04-14\", \"2020-04-14\", \"2020-04-14\", \"2020-04-14\", \"2020-04-14\", \"2020-04-14\", \"2020-04-14\", \"2020-04-14\", \"2020-04-14\", \"2020-04-14\", \"2020-04-14\", \"2020-04-14\", \"2020-04-14\", \"2020-04-14\", \"2020-04-14\", \"2020-04-14\", \"2020-04-14\", \"2020-04-14\", \"2020-04-14\", \"2020-04-14\", \"2020-04-14\", \"2020-04-14\", \"2020-04-14\", \"2020-04-14\", \"2020-04-14\", \"2020-04-14\", \"2020-04-14\", \"2020-04-14\", \"2020-04-14\", \"2020-04-14\", \"2020-04-14\", \"2020-04-14\", \"2020-04-14\", \"2020-04-14\", \"2020-04-14\", \"2020-04-14\", \"2020-04-14\", \"2020-04-14\", \"2020-04-14\", \"2020-04-14\", \"2020-04-14\", \"2020-04-14\", \"2020-04-14\", \"2020-04-14\", \"2020-04-14\", \"2020-04-14\", \"2020-04-14\", \"2020-04-14\", \"2020-04-14\", \"2020-04-14\", \"2020-04-14\", \"2020-04-14\", \"2020-04-14\", \"2020-04-14\", \"2020-04-14\", \"2020-04-14\", \"2020-04-14\", \"2020-04-14\", \"2020-04-14\", \"2020-04-14\", \"2020-04-14\", \"2020-04-14\", \"2020-04-14\", \"2020-04-14\", \"2020-04-14\", \"2020-04-14\", \"2020-04-14\", \"2020-04-14\", \"2020-04-14\", \"2020-04-14\", \"2020-04-14\", \"2020-04-14\", \"2020-04-14\", \"2020-04-14\", \"2020-04-14\", \"2020-04-14\", \"2020-04-14\", \"2020-04-14\", \"2020-04-14\", \"2020-04-14\", \"2020-04-14\", \"2020-04-14\", \"2020-04-14\", \"2020-04-14\", \"2020-04-14\", \"2020-04-14\", \"2020-04-14\", \"2020-04-14\", \"2020-04-14\", \"2020-04-14\", \"2020-04-14\", \"2020-04-14\", \"2020-04-14\", \"2020-04-14\", \"2020-04-14\", \"2020-04-14\", \"2020-04-14\", \"2020-04-14\", \"2020-04-14\", \"2020-04-14\", \"2020-04-14\", \"2020-04-14\", \"2020-04-14\", \"2020-04-14\", \"2020-04-14\", \"2020-04-14\", \"2020-04-14\", \"2020-04-14\", \"2020-04-14\", \"2020-04-14\", \"2020-04-14\", \"2020-04-14\", \"2020-04-14\", \"2020-04-14\", \"2020-04-14\", \"2020-04-14\", \"2020-04-14\", \"2020-04-14\", \"2020-04-14\", \"2020-04-14\", \"2020-04-14\", \"2020-04-14\", \"2020-04-14\", \"2020-04-14\", \"2020-04-14\", \"2020-04-14\", \"2020-04-14\", \"2020-04-14\", \"2020-04-14\", \"2020-04-14\", \"2020-04-14\", \"2020-04-14\", \"2020-04-14\", \"2020-04-14\", \"2020-04-14\", \"2020-04-14\", \"2020-04-14\", \"2020-04-14\", \"2020-04-14\", \"2020-04-14\", \"2020-04-14\", \"2020-04-14\", \"2020-04-14\", \"2020-04-14\", \"2020-04-14\", \"2020-04-14\", \"2020-04-14\", \"2020-04-14\", \"2020-04-14\", \"2020-04-14\", \"2020-04-14\", \"2020-04-14\", \"2020-04-14\", \"2020-04-14\", \"2020-04-14\", \"2020-04-14\", \"2020-04-14\", \"2020-04-14\", \"2020-04-14\", \"2020-04-14\", \"2020-04-14\", \"2020-04-14\", \"2020-04-14\", \"2020-04-14\", \"2020-04-14\", \"2020-04-14\", \"2020-04-14\", \"2020-04-14\", \"2020-04-14\", \"2020-04-14\", \"2020-04-14\", \"2020-04-14\", \"2020-04-14\", \"2020-04-14\", \"2020-04-14\", \"2020-04-14\", \"2020-04-14\", \"2020-04-14\", \"2020-04-14\", \"2020-04-14\", \"2020-04-14\", \"2020-04-14\", \"2020-04-14\", \"2020-04-14\", \"2020-04-14\", \"2020-04-14\", \"2020-04-14\", \"2020-04-14\", \"2020-04-14\", \"2020-04-14\", \"2020-04-14\", \"2020-04-14\", \"2020-04-14\", \"2020-04-14\", \"2020-04-14\", \"2020-04-14\", \"2020-04-14\", \"2020-04-14\", \"2020-04-14\", \"2020-04-14\", \"2020-04-14\", \"2020-04-14\", \"2020-04-14\", \"2020-04-14\", \"2020-04-14\", \"2020-04-14\", \"2020-04-14\", \"2020-04-14\", \"2020-04-14\", \"2020-04-14\", \"2020-04-14\", \"2020-04-14\", \"2020-04-14\", \"2020-04-14\", \"2020-04-14\", \"2020-04-14\", \"2020-04-14\", \"2020-04-14\", \"2020-04-14\", \"2020-04-14\", \"2020-04-14\", \"2020-04-14\", \"2020-04-14\", \"2020-04-14\", \"2020-04-14\", \"2020-04-14\", \"2020-04-14\", \"2020-04-14\", \"2020-04-14\", \"2020-04-14\", \"2020-04-14\", \"2020-04-14\", \"2020-04-14\", \"2020-04-14\", \"2020-04-14\", \"2020-04-14\", \"2020-04-14\", \"2020-04-14\", \"2020-04-14\", \"2020-04-14\", \"2020-04-14\", \"2020-04-14\", \"2020-04-14\", \"2020-04-14\", \"2020-04-14\", \"2020-04-14\", \"2020-04-14\", \"2020-04-14\", \"2020-04-14\", \"2020-04-14\", \"2020-04-14\", \"2020-04-14\", \"2020-04-14\", \"2020-04-14\", \"2020-04-14\", \"2020-04-14\", \"2020-04-14\", \"2020-04-14\", \"2020-04-14\", \"2020-04-14\", \"2020-04-14\", \"2020-04-14\", \"2020-04-14\", \"2020-04-14\", \"2020-04-14\", \"2020-04-14\", \"2020-04-14\", \"2020-04-14\", \"2020-04-14\", \"2020-04-14\", \"2020-04-14\", \"2020-04-14\", \"2020-04-14\", \"2020-04-14\", \"2020-04-14\", \"2020-04-14\", \"2020-04-14\", \"2020-04-14\", \"2020-04-14\", \"2020-04-14\", \"2020-04-14\", \"2020-04-14\", \"2020-04-14\", \"2020-04-14\", \"2020-04-14\", \"2020-04-14\", \"2020-04-14\", \"2020-04-14\", \"2020-04-14\", \"2020-04-14\", \"2020-04-14\", \"2020-04-14\", \"2020-04-14\", \"2020-04-14\", \"2020-04-14\", \"2020-04-14\", \"2020-04-14\", \"2020-04-14\", \"2020-04-14\", \"2020-04-14\", \"2020-04-14\", \"2020-04-15\", \"2020-04-15\", \"2020-04-15\", \"2020-04-15\", \"2020-04-15\", \"2020-04-15\", \"2020-04-15\", \"2020-04-15\", \"2020-04-15\", \"2020-04-15\", \"2020-04-15\", \"2020-04-15\", \"2020-04-15\", \"2020-04-15\", \"2020-04-15\", \"2020-04-15\", \"2020-04-15\", \"2020-04-15\", \"2020-04-15\", \"2020-04-15\", \"2020-04-15\", \"2020-04-15\", \"2020-04-15\", \"2020-04-15\", \"2020-04-15\", \"2020-04-15\", \"2020-04-15\", \"2020-04-15\", \"2020-04-15\", \"2020-04-15\", \"2020-04-15\", \"2020-04-15\", \"2020-04-15\", \"2020-04-15\", \"2020-04-15\", \"2020-04-15\", \"2020-04-15\", \"2020-04-15\", \"2020-04-15\", \"2020-04-15\", \"2020-04-15\", \"2020-04-15\", \"2020-04-15\", \"2020-04-15\", \"2020-04-15\", \"2020-04-15\", \"2020-04-15\", \"2020-04-15\", \"2020-04-15\", \"2020-04-15\", \"2020-04-15\", \"2020-04-15\", \"2020-04-15\", \"2020-04-15\", \"2020-04-15\", \"2020-04-15\", \"2020-04-15\", \"2020-04-15\", \"2020-04-15\", \"2020-04-15\", \"2020-04-15\", \"2020-04-15\", \"2020-04-15\", \"2020-04-15\", \"2020-04-15\", \"2020-04-15\", \"2020-04-15\", \"2020-04-15\", \"2020-04-15\", \"2020-04-15\", \"2020-04-15\", \"2020-04-15\", \"2020-04-15\", \"2020-04-15\", \"2020-04-15\", \"2020-04-15\", \"2020-04-15\", \"2020-04-15\", \"2020-04-15\", \"2020-04-15\", \"2020-04-15\", \"2020-04-15\", \"2020-04-15\", \"2020-04-15\", \"2020-04-15\", \"2020-04-15\", \"2020-04-15\", \"2020-04-15\", \"2020-04-15\", \"2020-04-15\", \"2020-04-15\", \"2020-04-15\", \"2020-04-15\", \"2020-04-15\", \"2020-04-15\", \"2020-04-15\", \"2020-04-15\", \"2020-04-15\", \"2020-04-15\", \"2020-04-15\", \"2020-04-15\", \"2020-04-15\", \"2020-04-15\", \"2020-04-15\", \"2020-04-15\", \"2020-04-15\", \"2020-04-15\", \"2020-04-15\", \"2020-04-15\", \"2020-04-15\", \"2020-04-15\", \"2020-04-15\", \"2020-04-15\", \"2020-04-15\", \"2020-04-15\", \"2020-04-15\", \"2020-04-15\", \"2020-04-15\", \"2020-04-15\", \"2020-04-15\", \"2020-04-15\", \"2020-04-15\", \"2020-04-15\", \"2020-04-15\", \"2020-04-15\", \"2020-04-15\", \"2020-04-15\", \"2020-04-15\", \"2020-04-15\", \"2020-04-15\", \"2020-04-15\", \"2020-04-15\", \"2020-04-15\", \"2020-04-15\", \"2020-04-15\", \"2020-04-15\", \"2020-04-15\", \"2020-04-15\", \"2020-04-15\", \"2020-04-15\", \"2020-04-15\", \"2020-04-15\", \"2020-04-15\", \"2020-04-15\", \"2020-04-15\", \"2020-04-15\", \"2020-04-15\", \"2020-04-15\", \"2020-04-15\", \"2020-04-15\", \"2020-04-15\", \"2020-04-15\", \"2020-04-15\", \"2020-04-15\", \"2020-04-15\", \"2020-04-15\", \"2020-04-15\", \"2020-04-15\", \"2020-04-15\", \"2020-04-15\", \"2020-04-15\", \"2020-04-15\", \"2020-04-15\", \"2020-04-15\", \"2020-04-15\", \"2020-04-15\", \"2020-04-15\", \"2020-04-15\", \"2020-04-15\", \"2020-04-15\", \"2020-04-15\", \"2020-04-15\", \"2020-04-15\", \"2020-04-15\", \"2020-04-15\", \"2020-04-15\", \"2020-04-15\", \"2020-04-15\", \"2020-04-15\", \"2020-04-15\", \"2020-04-15\", \"2020-04-15\", \"2020-04-15\", \"2020-04-15\", \"2020-04-15\", \"2020-04-15\", \"2020-04-15\", \"2020-04-15\", \"2020-04-15\", \"2020-04-15\", \"2020-04-15\", \"2020-04-15\", \"2020-04-15\", \"2020-04-15\", \"2020-04-15\", \"2020-04-15\", \"2020-04-15\", \"2020-04-15\", \"2020-04-15\", \"2020-04-15\", \"2020-04-15\", \"2020-04-15\", \"2020-04-15\", \"2020-04-15\", \"2020-04-15\", \"2020-04-15\", \"2020-04-15\", \"2020-04-15\", \"2020-04-15\", \"2020-04-15\", \"2020-04-15\", \"2020-04-15\", \"2020-04-15\", \"2020-04-15\", \"2020-04-15\", \"2020-04-15\", \"2020-04-15\", \"2020-04-15\", \"2020-04-15\", \"2020-04-15\", \"2020-04-15\", \"2020-04-15\", \"2020-04-15\", \"2020-04-15\", \"2020-04-15\", \"2020-04-15\", \"2020-04-15\", \"2020-04-15\", \"2020-04-15\", \"2020-04-15\", \"2020-04-15\", \"2020-04-15\", \"2020-04-15\", \"2020-04-15\", \"2020-04-15\", \"2020-04-15\", \"2020-04-15\", \"2020-04-15\", \"2020-04-15\", \"2020-04-15\", \"2020-04-15\", \"2020-04-15\", \"2020-04-15\", \"2020-04-15\", \"2020-04-15\", \"2020-04-15\", \"2020-04-15\", \"2020-04-15\", \"2020-04-15\", \"2020-04-15\", \"2020-04-15\", \"2020-04-15\", \"2020-04-15\", \"2020-04-15\", \"2020-04-15\", \"2020-04-15\", \"2020-04-15\", \"2020-04-15\", \"2020-04-15\", \"2020-04-15\", \"2020-04-15\", \"2020-04-15\", \"2020-04-15\", \"2020-04-15\", \"2020-04-15\", \"2020-04-15\", \"2020-04-15\", \"2020-04-15\", \"2020-04-15\", \"2020-04-15\", \"2020-04-15\", \"2020-04-15\", \"2020-04-15\", \"2020-04-15\", \"2020-04-15\", \"2020-04-15\", \"2020-04-15\", \"2020-04-15\", \"2020-04-15\", \"2020-04-15\", \"2020-04-15\", \"2020-04-15\", \"2020-04-15\", \"2020-04-15\", \"2020-04-15\", \"2020-04-15\", \"2020-04-15\", \"2020-04-15\", \"2020-04-15\", \"2020-04-15\", \"2020-04-15\", \"2020-04-15\", \"2020-04-15\", \"2020-04-15\", \"2020-04-15\", \"2020-04-15\", \"2020-04-15\", \"2020-04-15\", \"2020-04-15\", \"2020-04-15\", \"2020-04-15\", \"2020-04-15\", \"2020-04-15\", \"2020-04-15\", \"2020-04-15\", \"2020-04-15\", \"2020-04-15\", \"2020-04-15\", \"2020-04-15\", \"2020-04-15\", \"2020-04-15\", \"2020-04-15\", \"2020-04-15\", \"2020-04-15\", \"2020-04-15\", \"2020-04-15\", \"2020-04-15\", \"2020-04-15\", \"2020-04-15\", \"2020-04-15\", \"2020-04-15\", \"2020-04-15\", \"2020-04-15\", \"2020-04-15\", \"2020-04-15\", \"2020-04-15\", \"2020-04-15\", \"2020-04-15\", \"2020-04-15\", \"2020-04-15\", \"2020-04-15\", \"2020-04-15\", \"2020-04-15\", \"2020-04-15\", \"2020-04-15\", \"2020-04-15\", \"2020-04-15\", \"2020-04-15\", \"2020-04-15\", \"2020-04-15\", \"2020-04-15\", \"2020-04-15\", \"2020-04-15\", \"2020-04-15\", \"2020-04-15\", \"2020-04-15\", \"2020-04-15\", \"2020-04-15\", \"2020-04-15\", \"2020-04-15\", \"2020-04-15\", \"2020-04-15\", \"2020-04-15\", \"2020-04-15\", \"2020-04-15\", \"2020-04-15\", \"2020-04-15\", \"2020-04-15\", \"2020-04-15\", \"2020-04-15\", \"2020-04-15\", \"2020-04-15\", \"2020-04-15\", \"2020-04-15\", \"2020-04-15\", \"2020-04-15\", \"2020-04-15\", \"2020-04-15\", \"2020-04-15\", \"2020-04-15\", \"2020-04-15\", \"2020-04-15\", \"2020-04-15\", \"2020-04-15\", \"2020-04-15\", \"2020-04-15\", \"2020-04-15\", \"2020-04-15\", \"2020-04-15\", \"2020-04-15\", \"2020-04-15\", \"2020-04-15\", \"2020-04-15\", \"2020-04-15\", \"2020-04-15\", \"2020-04-15\", \"2020-04-15\", \"2020-04-15\", \"2020-04-15\", \"2020-04-15\"], \"x0\": \" \", \"xaxis\": \"x\", \"y\": [279.368, 278.777, 279.355, 279.545, 279.99, 280.501, 280.823, 281.185, 281.487, 281.834, 281.745, 281.345, 281.349, 281.737, 282.396, 283.076, 283.64, 283.463, 283.438, 283.828, 284.117, 283.896, 284.362, 284.939, 284.97, 284.507, 284.654, 284.636, 285.301, 285.857, 285.593, 284.797, 284.566, 284.885, 284.547, 284.728, 284.233, 284.092, 283.939, 283.969, 284.339, 284.569, 284.074, 283.763, 284.17, 284.032, 284.523, 284.854, 285.149, 285.024, 284.834, 284.891, 285.44, 285.41, 285.142, 285.137, 284.902, 284.726, 284.595, 284.411, 284.665, 284.581, 284.669, 284.717, 284.59, 284.457, 284.581, 284.918, 284.757, 284.67, 284.992, 285.105, 284.58, 285.05, 285.204, 285.481, 285.118, 285.0, 285.034, 285.085, 285.453, 285.273, 285.408, 285.243, 284.855, 284.642, 284.413, 284.668, 284.384, 284.389, 284.306, 284.603, 284.793, 284.463, 284.096, 283.931, 283.875, 283.717, 283.863, 283.742, 283.905, 283.918, 283.329, 283.283, 283.249, 283.417, 283.41, 283.416, 283.188, 282.917, 282.882, 282.988, 283.314, 283.439, 283.6, 283.704, 283.786, 283.73, 283.828, 283.888, 284.09, 284.01, 284.462, null, 284.51, 284.483, 284.435, 284.494, 284.661, 284.623, 284.389, 284.698, 284.77, 284.68, 284.659, 284.54, 284.643, 284.634, 284.515, 284.396, 284.459, 284.554, 284.38, 284.557, null, 284.528, 284.337, 284.074, 284.226, 284.358, 284.398, 284.991, 285.16, 285.065, 285.031, 285.007, 284.915, 284.995, 285.243, 285.358, 285.272, null, null, 285.035, 285.015, 285.115, 285.44, 285.729, 285.59, 285.661, 285.844, 285.95, 285.827, 286.092, 286.027, 285.936, 285.861, 285.724, 285.665, 285.772, 285.814, 285.615, 285.726, 285.855, 285.774, 285.824, 285.757, 285.873, 286.029, 285.885, 286.124, 286.06, 286.132, 286.188, null, 286.28, 286.174, 286.226, 286.017, 285.97, 286.265, 286.276, 286.361, 286.446, 286.377, 286.372, null, 286.392, 286.28, 286.161, 285.987, 285.868, 285.705, 285.648, 285.705, 285.376, 285.517, 285.98, 285.852, null, 285.973, 286.19, 286.229, 286.158, 285.942, 285.729, 285.632, 285.625, 285.566, 285.612, 285.88, 285.832, null, 286.16, 286.136, 286.238, 286.173, 286.053, 286.14, 286.265, 286.549, 286.584, 286.555, 286.702, 286.8, 286.706, 286.438, 286.524, 286.337, 286.43, 286.808, 286.921, 286.925, 286.849, 286.868, null, 287.101, 287.2, 287.256, 287.326, 287.436, 287.475, 287.445, 287.611, 287.338, 287.267, 287.32, 287.313, 287.32, null, 287.242, null, 287.418, 287.15, 287.332, 287.403, 287.198, 287.39, 287.444, 287.365, 287.59, 287.648, null, 287.478, 287.475, 287.622, 287.748, 287.726, 287.758, 287.815, 287.995, 287.988, 287.845, 287.992, 287.995, 287.91, 287.734, 287.561, 287.672, 287.738, 287.669, 287.692, 287.643, 287.525, 287.575, 287.652, 287.529, 287.62, 287.493, 287.45, 287.77, 287.67, 287.454, 287.397, 287.284, 287.44, 287.27, 286.995, 286.767, 286.97, 287.137, 287.34, 287.59, 287.488, 287.505, 287.705, 287.671, 287.608, null, 287.967, null, 287.385, 287.059, 287.066, 287.024, 286.65, null, 285.871, 285.907, 286.253, 286.361, 286.206, 286.253, 286.567, 286.792, 286.43, 286.114, 286.432, 286.426, 286.348, 286.09, 286.181, 286.144, 286.03, 286.254, 286.498, 286.625, 286.826, 286.748, 286.885, 286.912, 287.067, 287.05, 286.936, 287.478, 287.37, 287.378, 287.458, 287.411, 287.5, 287.697, 287.746, 287.466, 287.526, 287.603, 287.642, 287.71, 287.951, 287.796, 287.681, 286.918, 286.502, 286.887, 287.114, 287.02, 287.048, 287.21, 287.3, 286.828, 286.991, 281.751, 282.006, 282.43, 282.493, 282.617, 282.551, 282.54, 282.971, 282.959, 282.845, 282.58, 282.443, 282.104, 281.706, 281.043, 280.764, 280.848, 281.02, 281.123, 281.241, 281.154, 281.399, 281.219, 281.365, 281.264, 281.297, 281.11, 281.55, 282.005, 282.132, 282.225, 282.271, 282.258, 282.184, 282.071, 281.946, 282.264, 282.326, 282.072, 282.295, 282.28, 282.275, 282.141, 282.294, 282.33, 281.972, 281.697, 281.057, 281.262, 281.235, 281.308, 281.573, 281.518, 281.712, 281.724, 281.813, 281.742, 281.586, 281.528, 281.638, 281.531, 281.755, 282.169, 282.135, 281.982, 282.074, 282.177, 281.945, 281.672, 281.65, 281.925, 281.91, 282.37, 282.512, 282.861, 282.984, 283.313, 283.524, 283.772, 283.949, 283.858, 283.715, 284.109, 284.564, 284.379, 284.339, 284.547, 284.575, 284.395, 284.28, 284.838, 284.493, 284.059, 284.163, 284.335, 284.136, 283.783, 283.822, 283.713, 283.88, 284.1, 284.499, null, 284.751, 284.647, 284.678, 284.083, 284.119, 284.03, 283.969, 283.589, 283.423, 283.605, 283.604, 283.305, 283.211, 283.445, 283.403, 283.312, 283.365, 283.683, 283.87, 283.707, 283.813, 283.783, 283.682, 283.61, 283.411, 283.35, 283.134, null, 283.053, 282.947, 282.993, 283.022, 282.91, 283.148, 283.005, 282.885, 282.689, 282.88, 283.072, 283.082, 283.066, 283.155, 283.34, 283.22, 283.115, 282.831, 282.888, 282.835, 282.915, 283.095, 283.398, 283.52, 283.433, 283.41, 283.35, 283.335, 283.039, 282.89, 282.744, 282.814, 282.443, 282.496, 282.53, 282.488, 282.28, 282.289, 282.186, 282.332, 282.53, 282.647, 282.73, 282.57, 282.825, 282.673, 282.565, 282.795, 283.225, 283.14, 283.21, 283.212, 283.424, 283.692, 283.737, 283.67, 283.8, 283.796, 283.75, 283.592, 283.643, 283.901, 284.17, 284.098, 283.941, 283.948, 283.91, 284.02, 284.179, 284.443, 284.392, 284.5, 284.53, 284.588, 284.439, 284.225, 284.07, 284.163, 284.204, 283.99, 284.01, 284.272, null, 284.197, 284.026, null, 283.919, 284.117, 284.246, 284.399, 284.429, 284.633, 284.723, 284.893, 284.861, 284.785, 285.084, 285.508, 285.427, 285.239, 285.004, 285.045, 285.044, 285.132, 285.145, 284.955, 284.749, 284.618, 284.509, 284.32, 284.289, 284.377, 284.289, 284.375, 284.444, 284.594, 284.413, 284.163, 284.12, 284.26, 284.113, 284.214, 284.403, 284.517, 284.484, 284.587, 284.727, 284.824, 284.72, 284.895, 284.751, 284.7, 284.74, 284.58, 284.71, 284.477, 284.445, 284.354, 284.219, 284.29, 284.488, 284.507, 284.545, 284.438, 284.536, 284.54, null, 284.68, 284.488, 284.415, 284.5, 284.62, null, 284.907, 284.788, 284.79, 285.011, 285.266, 284.938, 285.176, 285.396, 285.388, 285.413, 285.321, 285.061, 284.993, 285.004, 285.175, 285.39, 285.4, 285.049, 284.827, 284.915, 285.045, 285.136, 285.16, 285.185, 285.48, 285.477, 285.233, 285.32, 285.593, 285.347, 285.478, 285.453, 285.405, 285.496, 285.42, null, 285.195, 285.097, 285.295, 285.343, 285.216, 285.449, 285.553, 285.911, 285.905, 285.967, 286.005, 286.154, 286.011, 285.836, 285.649, 285.63, 285.641, 285.203, 285.29, 285.246, 285.173, 285.061, 285.13, 285.337, 285.324, 285.193, 285.118, 285.366, 285.309, 285.413, 285.455, 285.52, 285.463, 285.22, 285.268, 285.29, 284.937, 284.951, 284.785, 284.812, 284.996, 284.897, 284.709, 284.632, 284.694, 284.597, 284.735, 285.013, 284.898, 284.987, 284.545, 284.199, 283.988, 284.18, 284.466, 284.606, 284.645, 284.431, 284.702, 284.675, 284.384, 284.34, 284.155, 284.121, 284.173, 284.266, 284.216, 284.317, 284.283, 284.316], \"y0\": \" \", \"yaxis\": \"y\"}],\n",
       "                        {\"boxmode\": \"group\", \"legend\": {\"tracegroupgap\": 0}, \"margin\": {\"t\": 60}, \"template\": {\"data\": {\"bar\": [{\"error_x\": {\"color\": \"#2a3f5f\"}, \"error_y\": {\"color\": \"#2a3f5f\"}, \"marker\": {\"line\": {\"color\": \"#E5ECF6\", \"width\": 0.5}}, \"type\": \"bar\"}], \"barpolar\": [{\"marker\": {\"line\": {\"color\": \"#E5ECF6\", \"width\": 0.5}}, \"type\": \"barpolar\"}], \"carpet\": [{\"aaxis\": {\"endlinecolor\": \"#2a3f5f\", \"gridcolor\": \"white\", \"linecolor\": \"white\", \"minorgridcolor\": \"white\", \"startlinecolor\": \"#2a3f5f\"}, \"baxis\": {\"endlinecolor\": \"#2a3f5f\", \"gridcolor\": \"white\", \"linecolor\": \"white\", \"minorgridcolor\": \"white\", \"startlinecolor\": \"#2a3f5f\"}, \"type\": \"carpet\"}], \"choropleth\": [{\"colorbar\": {\"outlinewidth\": 0, \"ticks\": \"\"}, \"type\": \"choropleth\"}], \"contour\": [{\"colorbar\": {\"outlinewidth\": 0, \"ticks\": \"\"}, \"colorscale\": [[0.0, \"#0d0887\"], [0.1111111111111111, \"#46039f\"], [0.2222222222222222, \"#7201a8\"], [0.3333333333333333, \"#9c179e\"], [0.4444444444444444, \"#bd3786\"], [0.5555555555555556, \"#d8576b\"], [0.6666666666666666, \"#ed7953\"], [0.7777777777777778, \"#fb9f3a\"], [0.8888888888888888, \"#fdca26\"], [1.0, \"#f0f921\"]], \"type\": \"contour\"}], \"contourcarpet\": [{\"colorbar\": {\"outlinewidth\": 0, \"ticks\": \"\"}, \"type\": \"contourcarpet\"}], \"heatmap\": [{\"colorbar\": {\"outlinewidth\": 0, \"ticks\": \"\"}, \"colorscale\": [[0.0, \"#0d0887\"], [0.1111111111111111, \"#46039f\"], [0.2222222222222222, \"#7201a8\"], [0.3333333333333333, \"#9c179e\"], [0.4444444444444444, \"#bd3786\"], [0.5555555555555556, \"#d8576b\"], [0.6666666666666666, \"#ed7953\"], [0.7777777777777778, \"#fb9f3a\"], [0.8888888888888888, \"#fdca26\"], [1.0, \"#f0f921\"]], \"type\": \"heatmap\"}], \"heatmapgl\": [{\"colorbar\": {\"outlinewidth\": 0, \"ticks\": \"\"}, \"colorscale\": [[0.0, \"#0d0887\"], [0.1111111111111111, \"#46039f\"], [0.2222222222222222, \"#7201a8\"], [0.3333333333333333, \"#9c179e\"], [0.4444444444444444, \"#bd3786\"], [0.5555555555555556, \"#d8576b\"], [0.6666666666666666, \"#ed7953\"], [0.7777777777777778, \"#fb9f3a\"], [0.8888888888888888, \"#fdca26\"], [1.0, \"#f0f921\"]], \"type\": \"heatmapgl\"}], \"histogram\": [{\"marker\": {\"colorbar\": {\"outlinewidth\": 0, \"ticks\": \"\"}}, \"type\": \"histogram\"}], \"histogram2d\": [{\"colorbar\": {\"outlinewidth\": 0, \"ticks\": \"\"}, \"colorscale\": [[0.0, \"#0d0887\"], [0.1111111111111111, \"#46039f\"], [0.2222222222222222, \"#7201a8\"], [0.3333333333333333, \"#9c179e\"], [0.4444444444444444, \"#bd3786\"], [0.5555555555555556, \"#d8576b\"], [0.6666666666666666, \"#ed7953\"], [0.7777777777777778, \"#fb9f3a\"], [0.8888888888888888, \"#fdca26\"], [1.0, \"#f0f921\"]], \"type\": \"histogram2d\"}], \"histogram2dcontour\": [{\"colorbar\": {\"outlinewidth\": 0, \"ticks\": \"\"}, \"colorscale\": [[0.0, \"#0d0887\"], [0.1111111111111111, \"#46039f\"], [0.2222222222222222, \"#7201a8\"], [0.3333333333333333, \"#9c179e\"], [0.4444444444444444, \"#bd3786\"], [0.5555555555555556, \"#d8576b\"], [0.6666666666666666, \"#ed7953\"], [0.7777777777777778, \"#fb9f3a\"], [0.8888888888888888, \"#fdca26\"], [1.0, \"#f0f921\"]], \"type\": \"histogram2dcontour\"}], \"mesh3d\": [{\"colorbar\": {\"outlinewidth\": 0, \"ticks\": \"\"}, \"type\": \"mesh3d\"}], \"parcoords\": [{\"line\": {\"colorbar\": {\"outlinewidth\": 0, \"ticks\": \"\"}}, \"type\": \"parcoords\"}], \"pie\": [{\"automargin\": true, \"type\": \"pie\"}], \"scatter\": [{\"marker\": {\"colorbar\": {\"outlinewidth\": 0, \"ticks\": \"\"}}, \"type\": \"scatter\"}], \"scatter3d\": [{\"line\": {\"colorbar\": {\"outlinewidth\": 0, \"ticks\": \"\"}}, \"marker\": {\"colorbar\": {\"outlinewidth\": 0, \"ticks\": \"\"}}, \"type\": \"scatter3d\"}], \"scattercarpet\": [{\"marker\": {\"colorbar\": {\"outlinewidth\": 0, \"ticks\": \"\"}}, \"type\": \"scattercarpet\"}], \"scattergeo\": [{\"marker\": {\"colorbar\": {\"outlinewidth\": 0, \"ticks\": \"\"}}, \"type\": \"scattergeo\"}], \"scattergl\": [{\"marker\": {\"colorbar\": {\"outlinewidth\": 0, \"ticks\": \"\"}}, \"type\": \"scattergl\"}], \"scattermapbox\": [{\"marker\": {\"colorbar\": {\"outlinewidth\": 0, \"ticks\": \"\"}}, \"type\": \"scattermapbox\"}], \"scatterpolar\": [{\"marker\": {\"colorbar\": {\"outlinewidth\": 0, \"ticks\": \"\"}}, \"type\": \"scatterpolar\"}], \"scatterpolargl\": [{\"marker\": {\"colorbar\": {\"outlinewidth\": 0, \"ticks\": \"\"}}, \"type\": \"scatterpolargl\"}], \"scatterternary\": [{\"marker\": {\"colorbar\": {\"outlinewidth\": 0, \"ticks\": \"\"}}, \"type\": \"scatterternary\"}], \"surface\": [{\"colorbar\": {\"outlinewidth\": 0, \"ticks\": \"\"}, \"colorscale\": [[0.0, \"#0d0887\"], [0.1111111111111111, \"#46039f\"], [0.2222222222222222, \"#7201a8\"], [0.3333333333333333, \"#9c179e\"], [0.4444444444444444, \"#bd3786\"], [0.5555555555555556, \"#d8576b\"], [0.6666666666666666, \"#ed7953\"], [0.7777777777777778, \"#fb9f3a\"], [0.8888888888888888, \"#fdca26\"], [1.0, \"#f0f921\"]], \"type\": \"surface\"}], \"table\": [{\"cells\": {\"fill\": {\"color\": \"#EBF0F8\"}, \"line\": {\"color\": \"white\"}}, \"header\": {\"fill\": {\"color\": \"#C8D4E3\"}, \"line\": {\"color\": \"white\"}}, \"type\": \"table\"}]}, \"layout\": {\"annotationdefaults\": {\"arrowcolor\": \"#2a3f5f\", \"arrowhead\": 0, \"arrowwidth\": 1}, \"coloraxis\": {\"colorbar\": {\"outlinewidth\": 0, \"ticks\": \"\"}}, \"colorscale\": {\"diverging\": [[0, \"#8e0152\"], [0.1, \"#c51b7d\"], [0.2, \"#de77ae\"], [0.3, \"#f1b6da\"], [0.4, \"#fde0ef\"], [0.5, \"#f7f7f7\"], [0.6, \"#e6f5d0\"], [0.7, \"#b8e186\"], [0.8, \"#7fbc41\"], [0.9, \"#4d9221\"], [1, \"#276419\"]], \"sequential\": [[0.0, \"#0d0887\"], [0.1111111111111111, \"#46039f\"], [0.2222222222222222, \"#7201a8\"], [0.3333333333333333, \"#9c179e\"], [0.4444444444444444, \"#bd3786\"], [0.5555555555555556, \"#d8576b\"], [0.6666666666666666, \"#ed7953\"], [0.7777777777777778, \"#fb9f3a\"], [0.8888888888888888, \"#fdca26\"], [1.0, \"#f0f921\"]], \"sequentialminus\": [[0.0, \"#0d0887\"], [0.1111111111111111, \"#46039f\"], [0.2222222222222222, \"#7201a8\"], [0.3333333333333333, \"#9c179e\"], [0.4444444444444444, \"#bd3786\"], [0.5555555555555556, \"#d8576b\"], [0.6666666666666666, \"#ed7953\"], [0.7777777777777778, \"#fb9f3a\"], [0.8888888888888888, \"#fdca26\"], [1.0, \"#f0f921\"]]}, \"colorway\": [\"#636efa\", \"#EF553B\", \"#00cc96\", \"#ab63fa\", \"#FFA15A\", \"#19d3f3\", \"#FF6692\", \"#B6E880\", \"#FF97FF\", \"#FECB52\"], \"font\": {\"color\": \"#2a3f5f\"}, \"geo\": {\"bgcolor\": \"white\", \"lakecolor\": \"white\", \"landcolor\": \"#E5ECF6\", \"showlakes\": true, \"showland\": true, \"subunitcolor\": \"white\"}, \"hoverlabel\": {\"align\": \"left\"}, \"hovermode\": \"closest\", \"mapbox\": {\"style\": \"light\"}, \"paper_bgcolor\": \"white\", \"plot_bgcolor\": \"#E5ECF6\", \"polar\": {\"angularaxis\": {\"gridcolor\": \"white\", \"linecolor\": \"white\", \"ticks\": \"\"}, \"bgcolor\": \"#E5ECF6\", \"radialaxis\": {\"gridcolor\": \"white\", \"linecolor\": \"white\", \"ticks\": \"\"}}, \"scene\": {\"xaxis\": {\"backgroundcolor\": \"#E5ECF6\", \"gridcolor\": \"white\", \"gridwidth\": 2, \"linecolor\": \"white\", \"showbackground\": true, \"ticks\": \"\", \"zerolinecolor\": \"white\"}, \"yaxis\": {\"backgroundcolor\": \"#E5ECF6\", \"gridcolor\": \"white\", \"gridwidth\": 2, \"linecolor\": \"white\", \"showbackground\": true, \"ticks\": \"\", \"zerolinecolor\": \"white\"}, \"zaxis\": {\"backgroundcolor\": \"#E5ECF6\", \"gridcolor\": \"white\", \"gridwidth\": 2, \"linecolor\": \"white\", \"showbackground\": true, \"ticks\": \"\", \"zerolinecolor\": \"white\"}}, \"shapedefaults\": {\"line\": {\"color\": \"#2a3f5f\"}}, \"ternary\": {\"aaxis\": {\"gridcolor\": \"white\", \"linecolor\": \"white\", \"ticks\": \"\"}, \"baxis\": {\"gridcolor\": \"white\", \"linecolor\": \"white\", \"ticks\": \"\"}, \"bgcolor\": \"#E5ECF6\", \"caxis\": {\"gridcolor\": \"white\", \"linecolor\": \"white\", \"ticks\": \"\"}}, \"title\": {\"x\": 0.05}, \"xaxis\": {\"automargin\": true, \"gridcolor\": \"white\", \"linecolor\": \"white\", \"ticks\": \"\", \"title\": {\"standoff\": 15}, \"zerolinecolor\": \"white\", \"zerolinewidth\": 2}, \"yaxis\": {\"automargin\": true, \"gridcolor\": \"white\", \"linecolor\": \"white\", \"ticks\": \"\", \"title\": {\"standoff\": 15}, \"zerolinecolor\": \"white\", \"zerolinewidth\": 2}}}, \"xaxis\": {\"anchor\": \"y\", \"domain\": [0.0, 1.0], \"title\": {\"text\": \"date\"}}, \"yaxis\": {\"anchor\": \"x\", \"domain\": [0.0, 1.0], \"title\": {\"text\": \"average\"}}},\n",
       "                        {\"responsive\": true}\n",
       "                    ).then(function(){\n",
       "                            \n",
       "var gd = document.getElementById('2d0253f4-91e8-41b0-97a0-6fede1e47b99');\n",
       "var x = new MutationObserver(function (mutations, observer) {{\n",
       "        var display = window.getComputedStyle(gd).display;\n",
       "        if (!display || display === 'none') {{\n",
       "            console.log([gd, 'removed!']);\n",
       "            Plotly.purge(gd);\n",
       "            observer.disconnect();\n",
       "        }}\n",
       "}});\n",
       "\n",
       "// Listen for the removal of the full notebook cells\n",
       "var notebookContainer = gd.closest('#notebook-container');\n",
       "if (notebookContainer) {{\n",
       "    x.observe(notebookContainer, {childList: true});\n",
       "}}\n",
       "\n",
       "// Listen for the clearing of the current output cell\n",
       "var outputEl = gd.closest('.output');\n",
       "if (outputEl) {{\n",
       "    x.observe(outputEl, {childList: true});\n",
       "}}\n",
       "\n",
       "                        })\n",
       "                };\n",
       "                });\n",
       "            </script>\n",
       "        </div>"
      ]
     },
     "metadata": {},
     "output_type": "display_data"
    }
   ],
   "source": [
    "px.box(df, x=\"date\", y=\"average\")"
   ]
  },
  {
   "cell_type": "code",
   "execution_count": null,
   "metadata": {},
   "outputs": [],
   "source": []
  }
 ],
 "metadata": {
  "kernelspec": {
   "display_name": "Python 3",
   "language": "python",
   "name": "python3"
  },
  "language_info": {
   "codemirror_mode": {
    "name": "ipython",
    "version": 3
   },
   "file_extension": ".py",
   "mimetype": "text/x-python",
   "name": "python",
   "nbconvert_exporter": "python",
   "pygments_lexer": "ipython3",
   "version": "3.7.3"
  }
 },
 "nbformat": 4,
 "nbformat_minor": 2
}
