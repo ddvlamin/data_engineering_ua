{
 "cells": [
  {
   "cell_type": "code",
   "execution_count": 80,
   "metadata": {},
   "outputs": [],
   "source": [
    "import os\n",
    "import csv\n",
    "import json\n",
    "from multiprocessing import Pool\n",
    "from io import StringIO\n",
    "from time import time"
   ]
  },
  {
   "cell_type": "markdown",
   "metadata": {},
   "source": [
    "Fields in json object\n",
    "\n",
    "Clothing ID,Age,Title,Review Text,Rating,Recommended IND,Positive Feedback Count,Division Name,Department Name,Class Name"
   ]
  },
  {
   "cell_type": "code",
   "execution_count": 135,
   "metadata": {},
   "outputs": [],
   "source": [
    "basefolder = \"/home/ubuntu/data/tmp/de/wiki_sentences/\"\n",
    "filepaths = list()\n",
    "for filename in os.listdir(basefolder):\n",
    "    filepath = basefolder + filename\n",
    "    filepaths.append(filepath)"
   ]
  },
  {
   "cell_type": "code",
   "execution_count": 137,
   "metadata": {},
   "outputs": [
    {
     "name": "stdout",
     "output_type": "stream",
     "text": [
      "word count 151523090\n",
      "in 17.424055337905884 seconds\n"
     ]
    }
   ],
   "source": [
    "number_of_processes = 8\n",
    "\n",
    "def process_chunk(filepath):\n",
    "    with open(filepath,\"r\") as fin:\n",
    "        counter = 0\n",
    "        for line in fin:\n",
    "            js = json.loads(line)\n",
    "            counter += len(js[\"sentence\"].split(\" \"))\n",
    "\n",
    "    return counter\n",
    "\n",
    "\n",
    "pool = Pool(number_of_processes)\n",
    "\n",
    "start = time()\n",
    "\n",
    "super_count = 0\n",
    "for count in pool.imap_unordered(process_chunk,filepaths):\n",
    "    super_count += count\n",
    "    \n",
    "\n",
    "print(f\"word count {super_count}\")\n",
    "print(\"in {} seconds\".format(time()-start))"
   ]
  },
  {
   "cell_type": "code",
   "execution_count": 136,
   "metadata": {},
   "outputs": [
    {
     "name": "stdout",
     "output_type": "stream",
     "text": [
      "word count 151523090\n",
      "in 37.093116998672485 seconds\n"
     ]
    }
   ],
   "source": [
    "\n",
    "count = 0\n",
    "\n",
    "start = time()\n",
    "for filepath in filepaths:\n",
    "    with open(filepath, \"r\") as fin:\n",
    "        for line in fin:\n",
    "            js = json.loads(line)\n",
    "            count += len(js[\"sentence\"].split(\" \"))\n",
    "        \n",
    "print(f\"word count {count}\")\n",
    "print(\"in {} seconds\".format(time()-start))"
   ]
  },
  {
   "cell_type": "code",
   "execution_count": null,
   "metadata": {},
   "outputs": [],
   "source": []
  }
 ],
 "metadata": {
  "kernelspec": {
   "display_name": "Python 3",
   "language": "python",
   "name": "python3"
  },
  "language_info": {
   "codemirror_mode": {
    "name": "ipython",
    "version": 3
   },
   "file_extension": ".py",
   "mimetype": "text/x-python",
   "name": "python",
   "nbconvert_exporter": "python",
   "pygments_lexer": "ipython3",
   "version": "3.8.0"
  }
 },
 "nbformat": 4,
 "nbformat_minor": 2
}
