{
 "cells": [
  {
   "cell_type": "code",
   "execution_count": 80,
   "metadata": {},
   "outputs": [],
   "source": [
    "import os\n",
    "import csv\n",
    "import json\n",
    "from multiprocessing import Pool\n",
    "from io import StringIO\n",
    "from time import time"
   ]
  },
  {
   "cell_type": "markdown",
   "metadata": {},
   "source": [
    "Fields in json object\n",
    "\n",
    "Clothing ID,Age,Title,Review Text,Rating,Recommended IND,Positive Feedback Count,Division Name,Department Name,Class Name"
   ]
  },
  {
   "cell_type": "code",
   "execution_count": 81,
   "metadata": {},
   "outputs": [],
   "source": [
    "basefolder = \"/home/ubuntu/data/tmp/de/\"\n",
    "filename = \"Womens Clothing E-Commerce Reviews.json\"\n",
    "filepath = os.path.join(basefolder, filename)"
   ]
  },
  {
   "cell_type": "code",
   "execution_count": 82,
   "metadata": {},
   "outputs": [],
   "source": [
    "class ChunkedReader(object):\n",
    "    \n",
    "    def __init__(self, filepath, number_of_chunks):\n",
    "        self.number_of_chunks = number_of_chunks\n",
    "        self.filepath = filepath\n",
    "\n",
    "    def read_block_lines(self, block):\n",
    "        \"\"\"\n",
    "        \n",
    "        \"\"\"\n",
    "        assert 0 <= block and block < self.number_of_chunks\n",
    "        assert 0 < self.number_of_chunks\n",
    "\n",
    "        with open(self.filepath,\"r+\") as filehandle:\n",
    "            filehandle.seek(0,2)\n",
    "            file_size = filehandle.tell()\n",
    "\n",
    "            ini = int(file_size * block / self.number_of_chunks)\n",
    "            end = int(file_size * (1 + block) / self.number_of_chunks)\n",
    "\n",
    "            if ini <= 0:\n",
    "                filehandle.seek(0)\n",
    "            else:\n",
    "                #ini can be in the middle of the line: read line first\n",
    "                filehandle.seek(ini-1) \n",
    "                filehandle.readline()\n",
    "\n",
    "            while filehandle.tell() < end:\n",
    "                line = filehandle.readline()\n",
    "                yield json.loads(line)"
   ]
  },
  {
   "cell_type": "code",
   "execution_count": 93,
   "metadata": {},
   "outputs": [
    {
     "name": "stdout",
     "output_type": "stream",
     "text": [
      "block: 255287 and 5883\n",
      "block: 250606 and 5831\n",
      "block: 253511 and 5850\n",
      "block: 255157 and 5922\n",
      "average age 43.198543813335604\n",
      "in 0.19129562377929688 seconds\n"
     ]
    }
   ],
   "source": [
    "number_of_chunks = 4\n",
    "number_of_processes = 4\n",
    "\n",
    "def process_chunk(args):\n",
    "    reader, block = args\n",
    "    counter = 0\n",
    "    age_sum = 0\n",
    "    for js in reader.read_block_lines(block):\n",
    "        try:\n",
    "            age = int(js[\"Age\"])\n",
    "        except ValueError:\n",
    "            print(js)\n",
    "            continue\n",
    "            \n",
    "        counter += 1\n",
    "        age_sum += age\n",
    "        \n",
    "    return age_sum, counter\n",
    "\n",
    "start = time()\n",
    "fin = ChunkedReader(filepath, number_of_chunks)\n",
    "pool = Pool(number_of_processes)\n",
    "age_super_sum = 0\n",
    "super_count = 0\n",
    "for age_sum, count in pool.imap_unordered(process_chunk,zip([fin]*number_of_chunks,range(number_of_chunks))):\n",
    "    print(f\"block: {age_sum} and {count}\")\n",
    "    super_count += count\n",
    "    age_super_sum += age_sum\n",
    "average_age = age_super_sum/super_count\n",
    "\n",
    "print(f\"average age {average_age}\")\n",
    "print(\"in {} seconds\".format(time()-start))"
   ]
  },
  {
   "cell_type": "code",
   "execution_count": 94,
   "metadata": {},
   "outputs": [
    {
     "name": "stdout",
     "output_type": "stream",
     "text": [
      "average age 43.198543813335604\n",
      "in 0.20302867889404297 seconds\n"
     ]
    }
   ],
   "source": [
    "age = 0\n",
    "count = 0\n",
    "\n",
    "start = time()\n",
    "with open(filepath, \"r\") as fin:\n",
    "    for line in fin:\n",
    "        js = json.loads(line)\n",
    "        try:\n",
    "            age += int(js[\"Age\"])\n",
    "        except ValueError:\n",
    "            continue\n",
    "        count += 1\n",
    "        \n",
    "average_age = age/count\n",
    "print(f\"average age {average_age}\")\n",
    "print(\"in {} seconds\".format(time()-start))"
   ]
  },
  {
   "cell_type": "code",
   "execution_count": null,
   "metadata": {},
   "outputs": [],
   "source": []
  }
 ],
 "metadata": {
  "kernelspec": {
   "display_name": "Python 3",
   "language": "python",
   "name": "python3"
  },
  "language_info": {
   "codemirror_mode": {
    "name": "ipython",
    "version": 3
   },
   "file_extension": ".py",
   "mimetype": "text/x-python",
   "name": "python",
   "nbconvert_exporter": "python",
   "pygments_lexer": "ipython3",
   "version": "3.8.0"
  }
 },
 "nbformat": 4,
 "nbformat_minor": 2
}
