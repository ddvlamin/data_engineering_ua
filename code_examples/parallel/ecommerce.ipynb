{
 "cells": [
  {
   "cell_type": "code",
   "execution_count": 80,
   "metadata": {},
   "outputs": [],
   "source": [
    "import os\n",
    "import csv\n",
    "import json\n",
    "from multiprocessing import Pool\n",
    "from io import StringIO\n",
    "from time import time"
   ]
  },
  {
   "cell_type": "markdown",
   "metadata": {},
   "source": [
    "Fields in json object\n",
    "\n",
    "Clothing ID,Age,Title,Review Text,Rating,Recommended IND,Positive Feedback Count,Division Name,Department Name,Class Name"
   ]
  },
  {
   "cell_type": "code",
   "execution_count": 131,
   "metadata": {},
   "outputs": [],
   "source": [
    "basefolder = \"/home/ubuntu/data/tmp/de/wiki_sentences/\"\n",
    "filename = \"wikisent2.json\"\n",
    "filepath = os.path.join(basefolder, filename)"
   ]
  },
  {
   "cell_type": "code",
   "execution_count": 122,
   "metadata": {},
   "outputs": [],
   "source": [
    "header = [\n",
    "    \"year\",\n",
    "    \"title\",\n",
    "    \"origin\",\n",
    "    \"director\",\n",
    "    \"cast\",\n",
    "    \"genre\",\n",
    "    \"wiki_page\",\n",
    "    \"plot\"\n",
    "]\n",
    "\n",
    "with open(basefolder+\"wikisent2.txt\",\"r\") as fin, open(basefolder+\"wikisent2.json\",\"w\") as fout:\n",
    "    for line in fin:\n",
    "        sline = line.strip()\n",
    "        js = {\"sentence\": sline}\n",
    "        fout.write(f\"{json.dumps(js)}\\n\")"
   ]
  },
  {
   "cell_type": "code",
   "execution_count": 82,
   "metadata": {},
   "outputs": [],
   "source": [
    "class ChunkedReader(object):\n",
    "    \n",
    "    def __init__(self, filepath, number_of_chunks):\n",
    "        self.number_of_chunks = number_of_chunks\n",
    "        self.filepath = filepath\n",
    "\n",
    "    def read_block_lines(self, block):\n",
    "        \"\"\"\n",
    "        \n",
    "        \"\"\"\n",
    "        assert 0 <= block and block < self.number_of_chunks\n",
    "        assert 0 < self.number_of_chunks\n",
    "\n",
    "        with open(self.filepath,\"r+\") as filehandle:\n",
    "            filehandle.seek(0,2)\n",
    "            file_size = filehandle.tell()\n",
    "\n",
    "            ini = int(file_size * block / self.number_of_chunks)\n",
    "            end = int(file_size * (1 + block) / self.number_of_chunks)\n",
    "\n",
    "            if ini <= 0:\n",
    "                filehandle.seek(0)\n",
    "            else:\n",
    "                #ini can be in the middle of the line: read line first\n",
    "                filehandle.seek(ini-1) \n",
    "                filehandle.readline()\n",
    "\n",
    "            while filehandle.tell() < end:\n",
    "                line = filehandle.readline()\n",
    "                yield json.loads(line)"
   ]
  },
  {
   "cell_type": "code",
   "execution_count": 121,
   "metadata": {},
   "outputs": [
    {
     "name": "stdout",
     "output_type": "stream",
     "text": [
      "{'year': 'Release Year', 'title': 'Title', 'origin': 'Origin/Ethnicity', 'director': 'Director', 'cast': 'Cast', 'genre': 'Genre', 'wiki_page': 'Wiki Page', 'plot': 'Plot'}\n",
      "average age 1981.314252135527\n",
      "in 0.3518540859222412 seconds\n"
     ]
    }
   ],
   "source": [
    "number_of_chunks = 100\n",
    "number_of_processes = 4\n",
    "\n",
    "def process_chunk(args):\n",
    "    reader, block = args\n",
    "    counter = 0\n",
    "    age_sum = 0\n",
    "    for js in reader.read_block_lines(block):\n",
    "        try:\n",
    "            age = int(js[\"year\"])\n",
    "        except ValueError:\n",
    "            print(js)\n",
    "            continue\n",
    "            \n",
    "        counter += 1\n",
    "        age_sum += age\n",
    "        \n",
    "    return age_sum, counter\n",
    "\n",
    "\n",
    "pool = Pool(number_of_processes)\n",
    "fin = ChunkedReader(filepath, number_of_chunks)\n",
    "\n",
    "start = time()\n",
    "\n",
    "age_super_sum = 0\n",
    "super_count = 0\n",
    "\n",
    "for age_sum, count in pool.imap_unordered(process_chunk,zip([fin]*number_of_chunks,range(number_of_chunks))):\n",
    "    super_count += count\n",
    "    age_super_sum += age_sum\n",
    "    \n",
    "average_age = age_super_sum/super_count\n",
    "\n",
    "print(f\"average age {average_age}\")\n",
    "print(\"in {} seconds\".format(time()-start))"
   ]
  },
  {
   "cell_type": "code",
   "execution_count": 111,
   "metadata": {},
   "outputs": [
    {
     "name": "stdout",
     "output_type": "stream",
     "text": [
      "average age 1981.314252135527\n",
      "in 0.486339807510376 seconds\n"
     ]
    }
   ],
   "source": [
    "age = 0\n",
    "count = 0\n",
    "\n",
    "start = time()\n",
    "with open(filepath, \"r\") as fin:\n",
    "    for line in fin:\n",
    "        js = json.loads(line)\n",
    "        try:\n",
    "            age += int(js[\"year\"])\n",
    "        except ValueError:\n",
    "            continue\n",
    "        count += 1\n",
    "        \n",
    "average_age = age/count\n",
    "print(f\"average age {average_age}\")\n",
    "print(\"in {} seconds\".format(time()-start))"
   ]
  },
  {
   "cell_type": "code",
   "execution_count": null,
   "metadata": {},
   "outputs": [],
   "source": []
  },
  {
   "cell_type": "code",
   "execution_count": 124,
   "metadata": {},
   "outputs": [
    {
     "name": "stdout",
     "output_type": "stream",
     "text": [
      "word count 151523090\n",
      "in 42.168298959732056 seconds\n"
     ]
    }
   ],
   "source": [
    "number_of_chunks = 100\n",
    "number_of_processes = 4\n",
    "\n",
    "def process_chunk(args):\n",
    "    reader, block = args\n",
    "    counter = 0\n",
    "    for js in reader.read_block_lines(block):\n",
    "        counter += len(js[\"sentence\"].split(\" \"))\n",
    "        \n",
    "    return counter\n",
    "\n",
    "\n",
    "pool = Pool(number_of_processes)\n",
    "fin = ChunkedReader(filepath, number_of_chunks)\n",
    "\n",
    "start = time()\n",
    "\n",
    "super_count = 0\n",
    "\n",
    "for count in pool.imap_unordered(process_chunk,zip([fin]*number_of_chunks,range(number_of_chunks))):\n",
    "    super_count += count\n",
    "    \n",
    "\n",
    "print(f\"word count {super_count}\")\n",
    "print(\"in {} seconds\".format(time()-start))"
   ]
  },
  {
   "cell_type": "code",
   "execution_count": 134,
   "metadata": {},
   "outputs": [
    {
     "name": "stdout",
     "output_type": "stream",
     "text": [
      "word count 187824\n",
      "in 0.04913592338562012 seconds\n"
     ]
    }
   ],
   "source": [
    "\n",
    "count = 0\n",
    "\n",
    "start = time()\n",
    "with open(filepath, \"r\") as fin:\n",
    "    for line in fin:\n",
    "        js = json.loads(line)\n",
    "        count += len(js[\"sentence\"].split(\" \"))\n",
    "        \n",
    "print(f\"word count {count}\")\n",
    "print(\"in {} seconds\".format(time()-start))"
   ]
  },
  {
   "cell_type": "code",
   "execution_count": 132,
   "metadata": {},
   "outputs": [],
   "source": [
    "filepaths = list()\n",
    "for filename in os.listdir(basefolder):\n",
    "    filepath = basefolder + filename\n",
    "    filepaths.append(filepath)\n",
    "    \n",
    "    "
   ]
  },
  {
   "cell_type": "code",
   "execution_count": 133,
   "metadata": {},
   "outputs": [
    {
     "name": "stdout",
     "output_type": "stream",
     "text": [
      "word count 151523090\n",
      "in 16.944016933441162 seconds\n"
     ]
    }
   ],
   "source": [
    "number_of_processes = 4\n",
    "\n",
    "def process_chunk(filepath):\n",
    "    with open(filepath,\"r\") as fin:\n",
    "        counter = 0\n",
    "        for line in fin:\n",
    "            js = json.loads(line)\n",
    "            counter += len(js[\"sentence\"].split(\" \"))\n",
    "\n",
    "    return counter\n",
    "\n",
    "\n",
    "pool = Pool(number_of_processes)\n",
    "\n",
    "start = time()\n",
    "\n",
    "super_count = 0\n",
    "for count in pool.imap_unordered(process_chunk,filepaths):\n",
    "    super_count += count\n",
    "    \n",
    "\n",
    "print(f\"word count {super_count}\")\n",
    "print(\"in {} seconds\".format(time()-start))"
   ]
  },
  {
   "cell_type": "code",
   "execution_count": null,
   "metadata": {},
   "outputs": [],
   "source": []
  }
 ],
 "metadata": {
  "kernelspec": {
   "display_name": "Python 3",
   "language": "python",
   "name": "python3"
  },
  "language_info": {
   "codemirror_mode": {
    "name": "ipython",
    "version": 3
   },
   "file_extension": ".py",
   "mimetype": "text/x-python",
   "name": "python",
   "nbconvert_exporter": "python",
   "pygments_lexer": "ipython3",
   "version": "3.8.0"
  }
 },
 "nbformat": 4,
 "nbformat_minor": 2
}
