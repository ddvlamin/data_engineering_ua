{
 "cells": [
  {
   "cell_type": "code",
   "execution_count": 1,
   "metadata": {},
   "outputs": [],
   "source": [
    "from multiprocessing import Process, Pool\n",
    "from time import sleep, time"
   ]
  },
  {
   "cell_type": "markdown",
   "metadata": {},
   "source": [
    "running a small job inside the main process while running a longer job in antoher process"
   ]
  },
  {
   "cell_type": "code",
   "execution_count": 11,
   "metadata": {},
   "outputs": [
    {
     "name": "stdout",
     "output_type": "stream",
     "text": [
      "started\n",
      "short job computing in main process\n",
      "400\n",
      "long job still computing in child process...\n",
      "100\n",
      "finished in 5.015113592147827 seconds\n"
     ]
    }
   ],
   "source": [
    "def job(i, time2sleep):\n",
    "    result = i*i\n",
    "    sleep(time2sleep)\n",
    "    print(result)\n",
    "    \n",
    "start = time()\n",
    "p = Process(target=job, args=(10,5))\n",
    "p.start()\n",
    "print(\"started\")\n",
    "\n",
    "print(\"short job computing in main process\")\n",
    "job(20, 3)\n",
    "\n",
    "print(\"long job still computing in child process...\")\n",
    "p.join()\n",
    "print(\"finished in {} seconds\".format(time()-start))"
   ]
  },
  {
   "cell_type": "code",
   "execution_count": 10,
   "metadata": {},
   "outputs": [
    {
     "name": "stdout",
     "output_type": "stream",
     "text": [
      "1.0149736404418945 1600\n",
      "5.018951177597046 400\n",
      "6.01995062828064 900\n",
      "10.024004459381104 100\n"
     ]
    }
   ],
   "source": [
    "def job(args):\n",
    "    i, time2sleep = args\n",
    "    result = i*i\n",
    "    sleep(time2sleep)\n",
    "    return result\n",
    "\n",
    "start = time()\n",
    "with Pool(processes=4) as pool:\n",
    "    for i in pool.imap_unordered(job,[(10,10),(20,5),(30,6),(40,1)]):\n",
    "        print(time()-start, i)"
   ]
  },
  {
   "cell_type": "code",
   "execution_count": null,
   "metadata": {},
   "outputs": [],
   "source": []
  }
 ],
 "metadata": {
  "kernelspec": {
   "display_name": "Python 3",
   "language": "python",
   "name": "python3"
  },
  "language_info": {
   "codemirror_mode": {
    "name": "ipython",
    "version": 3
   },
   "file_extension": ".py",
   "mimetype": "text/x-python",
   "name": "python",
   "nbconvert_exporter": "python",
   "pygments_lexer": "ipython3",
   "version": "3.8.0"
  }
 },
 "nbformat": 4,
 "nbformat_minor": 2
}
