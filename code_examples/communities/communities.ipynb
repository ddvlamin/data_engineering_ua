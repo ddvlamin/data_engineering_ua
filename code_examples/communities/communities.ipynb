{
 "cells": [
  {
   "cell_type": "code",
   "execution_count": 87,
   "metadata": {},
   "outputs": [],
   "source": [
    "from collections import defaultdict\n",
    "from itertools import count\n",
    "\n",
    "import numpy as np"
   ]
  },
  {
   "cell_type": "code",
   "execution_count": 48,
   "metadata": {},
   "outputs": [],
   "source": [
    "file = \"/home/ubuntu/data/tmp/karate/zkcc-77/karate_edges_77.txt\""
   ]
  },
  {
   "cell_type": "code",
   "execution_count": 92,
   "metadata": {},
   "outputs": [],
   "source": [
    "class CommunityNetwork():\n",
    "    def __init__(self, A):\n",
    "        self._A = A\n",
    "        \n",
    "        self.number_of_nodes = self._A.shape[0]\n",
    "        self.communities = np.array([i for i in range(self.number_of_nodes)])\n",
    "        self._m = np.sum(np.sum(A))\n",
    "        self.modularity = self.compute_modularity()\n",
    "        \n",
    "        \n",
    "    @staticmethod\n",
    "    def create_adjacency_matrix(file):\n",
    "        node_neighbors = defaultdict(list)\n",
    "\n",
    "        with open(file, \"r\") as fin:\n",
    "            for line in fin:\n",
    "                node_1, node_2 = line.strip().split('\\t')\n",
    "                node_1 = int(node_1)-1 #offset to make the integers start from zero\n",
    "                node_2 = int(node_2)-1\n",
    "                node_neighbors[node_1].append(node_2)\n",
    "\n",
    "        number_of_nodes = len(node_neighbors)\n",
    "        A = np.zeros((number_of_nodes, number_of_nodes))\n",
    "\n",
    "        for node, neighbors in node_neighbors.items():\n",
    "            for neighbor in neighbors:\n",
    "                A[node, neighbor] = 1\n",
    "\n",
    "        return A\n",
    "    \n",
    "    def modularity_difference(self, nodei, communityi):\n",
    "        #save community of node\n",
    "        original_community = self.communities[nodei]\n",
    "        #change community\n",
    "        self.communities[nodei] = communityi\n",
    "        #compute new modularity\n",
    "        new_modularity = self.compute_modularity()\n",
    "        #print(f\"{nodei}, {communityi}, {self.modularity}, {new_modularity}\")\n",
    "        modularity_difference = new_modularity-self.modularity\n",
    "        #restore community\n",
    "        self.communities[nodei] = original_community\n",
    "        return modularity_difference\n",
    "    \n",
    "    def find_best_community(self, nodei):\n",
    "        unique_communities = np.unique(self.communities)\n",
    "        max_modularity_difference = 0\n",
    "        best_community = self.communities[nodei]\n",
    "        for communityi in unique_communities:\n",
    "            modularity_difference = self.modularity_difference(nodei, communityi)\n",
    "            if modularity_difference > max_modularity_difference:\n",
    "                max_modularity_difference = modularity_difference\n",
    "                best_community = communityi\n",
    "        return best_community, max_modularity_difference\n",
    "    \n",
    "    def reload_communities(self):\n",
    "        counter = count()\n",
    "        community_mapper = defaultdict(lambda: next(counter))\n",
    "        reloaded_communities = np.zeros((self.number_of_nodes,))\n",
    "        for nodei, community in enumerate(self.communities):\n",
    "            reloaded_communities[nodei] = community_mapper[community]\n",
    "        self.communities = reloaded_communities\n",
    "    \n",
    "    def phase1(self):\n",
    "        is_modularity_increasing = True\n",
    "        while is_modularity_increasing:\n",
    "            is_modularity_increasing = False\n",
    "            for nodei in range(self.number_of_nodes):\n",
    "                best_community, modularity_difference = self.find_best_community(nodei)\n",
    "                if modularity_difference > 0:\n",
    "                    self.communities[nodei] = best_community\n",
    "                    self.modularity += modularity_difference\n",
    "                    #print(f\"moving node {nodei} to community {best_community}, modularity diff {modularity_difference}, new modularity {self.modularity}\")\n",
    "                    #print(\"verification modularity {}\".format(self.compute_modularity()))\n",
    "                    is_modularity_increasing = True\n",
    "                    \n",
    "        self.reload_communities()\n",
    "                    \n",
    "        return self.communities\n",
    "    \n",
    "    def phase2(self):\n",
    "        unique_communities = np.unique(self.communities)\n",
    "        n_communities = len(unique_communities)\n",
    "        A = np.zeros((n_communities, n_communities))\n",
    "        community_mapping = np.zeros((n_communities,))\n",
    "            \n",
    "        for i, communityi in enumerate(unique_communities):\n",
    "            community_mapping[i] = communityi\n",
    "            for j, communityj in enumerate(unique_communities):\n",
    "                nodes_i = self.communities[self.communities == communityi]\n",
    "                nodes_j = self.communities[self.communities == communityj]\n",
    "                A[i, j] = np.sum(np.sum(self._A[nodes_i,nodes_j]))\n",
    "                \n",
    "        return CommunityNetwork(A), community_mapping\n",
    "    \n",
    "    def detect_communities(self):\n",
    "        community_hierarchy = []\n",
    "        \n",
    "        previous_communities = self.phase1()\n",
    "        community_hierarchy.append(communities)\n",
    "        while True:\n",
    "            cn = self.phase2()\n",
    "            new_communities = cn.phase1()\n",
    "            expanded_communities = CommunityNetwork.expand_communities(new_communities, previous_communities)\n",
    "            community_hierarchy.append(expanded_communities)\n",
    "            previous_communities = expanded_communities\n",
    "        \n",
    "    \n",
    "    def compute_modularity(self):\n",
    "        nrows, ncols = self._A.shape\n",
    "        assert nrows == ncols\n",
    "\n",
    "        modularity = 0.0\n",
    "        for nodei in range(self.number_of_nodes):\n",
    "            for nodej in range(self.number_of_nodes):\n",
    "                ki = np.sum(self._A[nodei,:])\n",
    "                kj = np.sum(self._A[nodej,:])\n",
    "                if self.communities[nodei] == self.communities[nodej]:\n",
    "                    modularity += self._A[nodei, nodej] - (ki*kj)/(2*self._m)\n",
    "\n",
    "        return modularity/(2*self._m)"
   ]
  },
  {
   "cell_type": "code",
   "execution_count": 78,
   "metadata": {},
   "outputs": [],
   "source": [
    "A = CommunityNetwork.create_adjacency_matrix(file)\n",
    "cn = CommunityNetwork(A)"
   ]
  },
  {
   "cell_type": "code",
   "execution_count": 79,
   "metadata": {},
   "outputs": [
    {
     "data": {
      "text/plain": [
       "-0.01239669421487603"
      ]
     },
     "execution_count": 79,
     "metadata": {},
     "output_type": "execute_result"
    }
   ],
   "source": [
    "cn.compute_modularity()"
   ]
  },
  {
   "cell_type": "code",
   "execution_count": 80,
   "metadata": {},
   "outputs": [
    {
     "name": "stdout",
     "output_type": "stream",
     "text": [
      "moving node 0 to community 11, modularity diff 0.006156181480856801, new modularity -0.006240512734019229\n",
      "verification modularity -0.006240512734019229\n",
      "moving node 1 to community 17, modularity diff 0.006114015854275597, new modularity -0.00012649687974363236\n",
      "verification modularity -0.00012649687974363195\n",
      "moving node 2 to community 9, modularity diff 0.006071850227694382, new modularity 0.005945353347950749\n",
      "verification modularity 0.005945353347950749\n",
      "moving node 3 to community 12, modularity diff 0.0062405127340192336, new modularity 0.012185866081969983\n",
      "verification modularity 0.012185866081969983\n",
      "moving node 4 to community 10, modularity diff 0.006303761173891042, new modularity 0.018489627255861025\n",
      "verification modularity 0.018489627255861025\n",
      "moving node 5 to community 16, modularity diff 0.006324843987181646, new modularity 0.02481447124304267\n",
      "verification modularity 0.02481447124304267\n",
      "moving node 6 to community 16, modularity diff 0.012481025468038452, new modularity 0.03729549671108112\n",
      "verification modularity 0.03729549671108112\n",
      "moving node 7 to community 12, modularity diff 0.005818856468207109, new modularity 0.04311435317928823\n",
      "verification modularity 0.04311435317928823\n",
      "moving node 8 to community 30, modularity diff 0.006071850227694395, new modularity 0.049186203406982626\n",
      "verification modularity 0.049186203406982626\n",
      "moving node 13 to community 17, modularity diff 0.005333951762523222, new modularity 0.05452015516950585\n",
      "verification modularity 0.05452015516950585\n",
      "moving node 14 to community 32, modularity diff 0.005987518974531959, new modularity 0.06050767414403781\n",
      "verification modularity 0.06050767414403781\n",
      "moving node 15 to community 32, modularity diff 0.005903187721369538, new modularity 0.06641086186540734\n",
      "verification modularity 0.06641086186540734\n",
      "moving node 18 to community 32, modularity diff 0.005818856468207123, new modularity 0.07222971833361447\n",
      "verification modularity 0.07222971833361447\n",
      "moving node 19 to community 17, modularity diff 0.005481531455557423, new modularity 0.07771124978917189\n",
      "verification modularity 0.07771124978917189\n",
      "moving node 20 to community 33, modularity diff 0.005818856468207109, new modularity 0.083530106257379\n",
      "verification modularity 0.083530106257379\n",
      "moving node 21 to community 11, modularity diff 0.005776690841625937, new modularity 0.08930679709900494\n",
      "verification modularity 0.08930679709900494\n",
      "moving node 22 to community 32, modularity diff 0.006114015854275623, new modularity 0.09542081295328056\n",
      "verification modularity 0.09542081295328056\n",
      "moving node 23 to community 25, modularity diff 0.006177264294147403, new modularity 0.10159807724742796\n",
      "verification modularity 0.10159807724742796\n",
      "moving node 24 to community 27, modularity diff 0.006240512734019238, new modularity 0.1078385899814472\n",
      "verification modularity 0.1078385899814472\n",
      "moving node 26 to community 29, modularity diff 0.006324843987181666, new modularity 0.11416343396862887\n",
      "verification modularity 0.11416343396862887\n",
      "moving node 28 to community 31, modularity diff 0.006114015854275623, new modularity 0.12027744982290449\n",
      "verification modularity 0.12027744982290449\n",
      "moving node 33 to community 32, modularity diff 0.013745994265474779, new modularity 0.13402344408837927\n",
      "verification modularity 0.13402344408837927\n",
      "moving node 0 to community 17, modularity diff 0.007589812784617983, new modularity 0.14161325687299725\n",
      "verification modularity 0.14161325687299725\n",
      "moving node 2 to community 17, modularity diff 0.006029684601113194, new modularity 0.14764294147411045\n",
      "verification modularity 0.14764294147411045\n",
      "moving node 3 to community 17, modularity diff 0.008053634677011312, new modularity 0.15569657615112176\n",
      "verification modularity 0.15569657615112176\n",
      "moving node 7 to community 17, modularity diff 0.021841794569067347, new modularity 0.1775383707201891\n",
      "verification modularity 0.1775383707201891\n",
      "moving node 8 to community 32, modularity diff 0.0032256704334626407, new modularity 0.18076404115365174\n",
      "verification modularity 0.18076404115365174\n",
      "moving node 9 to community 32, modularity diff 0.004806881430258064, new modularity 0.1855709225839098\n",
      "verification modularity 0.1855709225839098\n",
      "moving node 11 to community 17, modularity diff 0.005376117389104429, new modularity 0.19094703997301424\n",
      "verification modularity 0.19094703997301424\n",
      "moving node 12 to community 17, modularity diff 0.01062573789846516, new modularity 0.2015727778714794\n",
      "verification modularity 0.2015727778714794\n",
      "moving node 20 to community 32, modularity diff 0.011216056670602215, new modularity 0.2127888345420816\n",
      "verification modularity 0.2127888345420816\n",
      "moving node 21 to community 17, modularity diff 0.010541406645302787, new modularity 0.2233302411873844\n",
      "verification modularity 0.2233302411873844\n",
      "moving node 23 to community 32, modularity diff 0.002171529768932201, new modularity 0.2255017709563166\n",
      "verification modularity 0.2255017709563166\n",
      "moving node 24 to community 25, modularity diff 6.324843987182138e-05, new modularity 0.22556501939618842\n",
      "verification modularity 0.22556501939618842\n",
      "moving node 27 to community 32, modularity diff 0.008854781582054466, new modularity 0.2344198009782429\n",
      "verification modularity 0.2344198009782429\n",
      "moving node 29 to community 32, modularity diff 0.008686119075729554, new modularity 0.24310592005397244\n",
      "verification modularity 0.24310592005397244\n",
      "moving node 30 to community 32, modularity diff 0.014673638050261423, new modularity 0.25777955810423386\n",
      "verification modularity 0.25777955810423386\n",
      "moving node 31 to community 25, modularity diff 0.006114015854275623, new modularity 0.2638935739585095\n",
      "verification modularity 0.2638935739585095\n",
      "moving node 26 to community 32, modularity diff 0.010414909765559255, new modularity 0.27430848372406874\n",
      "verification modularity 0.27430848372406874\n",
      "moving node 28 to community 25, modularity diff 0.005734525215044695, new modularity 0.28004300893911344\n",
      "verification modularity 0.28004300893911344\n",
      "moving node 9 to community 17, modularity diff 4.2165626581269766e-05, new modularity 0.2800851745656947\n",
      "verification modularity 0.2800851745656947\n"
     ]
    }
   ],
   "source": [
    "cn.phase1()"
   ]
  },
  {
   "cell_type": "code",
   "execution_count": 82,
   "metadata": {},
   "outputs": [
    {
     "data": {
      "text/plain": [
       "array([10, 16, 17, 25, 32])"
      ]
     },
     "execution_count": 82,
     "metadata": {},
     "output_type": "execute_result"
    }
   ],
   "source": [
    "np.unique(cn.communities)"
   ]
  },
  {
   "cell_type": "code",
   "execution_count": 86,
   "metadata": {},
   "outputs": [
    {
     "data": {
      "text/plain": [
       "array([[1., 1., 1.],\n",
       "       [1., 1., 0.]])"
      ]
     },
     "execution_count": 86,
     "metadata": {},
     "output_type": "execute_result"
    }
   ],
   "source": [
    "cn._A[0:2,2:5]"
   ]
  },
  {
   "cell_type": "code",
   "execution_count": 88,
   "metadata": {},
   "outputs": [],
   "source": []
  },
  {
   "cell_type": "code",
   "execution_count": 91,
   "metadata": {},
   "outputs": [
    {
     "data": {
      "text/plain": [
       "1"
      ]
     },
     "execution_count": 91,
     "metadata": {},
     "output_type": "execute_result"
    }
   ],
   "source": [
    "next(cnt)"
   ]
  },
  {
   "cell_type": "code",
   "execution_count": null,
   "metadata": {},
   "outputs": [],
   "source": []
  }
 ],
 "metadata": {
  "kernelspec": {
   "display_name": "Python 3",
   "language": "python",
   "name": "python3"
  },
  "language_info": {
   "codemirror_mode": {
    "name": "ipython",
    "version": 3
   },
   "file_extension": ".py",
   "mimetype": "text/x-python",
   "name": "python",
   "nbconvert_exporter": "python",
   "pygments_lexer": "ipython3",
   "version": "3.7.3"
  }
 },
 "nbformat": 4,
 "nbformat_minor": 2
}
