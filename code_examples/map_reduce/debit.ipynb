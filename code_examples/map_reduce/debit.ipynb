{
 "cells": [
  {
   "cell_type": "code",
   "execution_count": 40,
   "metadata": {},
   "outputs": [],
   "source": [
    "from  pyspark.sql import SparkSession\n",
    "spark = SparkSession.builder.appName(\"debit\").getOrCreate()\n",
    "sc = spark.sparkContext"
   ]
  },
  {
   "cell_type": "code",
   "execution_count": 41,
   "metadata": {},
   "outputs": [],
   "source": [
    "rdd = sc.parallelize([\n",
    "    \"123,456,100\",\n",
    "    \"123,789,200\",\n",
    "    \"456,789,100\",\n",
    "    \"456,789,100\",\n",
    "    \"456,789,100\",\n",
    "    \"789,123,50\"\n",
    "])"
   ]
  },
  {
   "cell_type": "code",
   "execution_count": 42,
   "metadata": {},
   "outputs": [],
   "source": [
    "def extract_debit_account_and_amount(record_string):\n",
    "    debit_account, _, amount = record_string.split(\",\")\n",
    "    amount_as_integer = int(amount)\n",
    "    return (debit_account, amount_as_integer)\n",
    "\n",
    "def add_amount(tpl):\n",
    "    key, iterator = tpl\n",
    "    total = 0\n",
    "    for amount in iterator:\n",
    "        total += amount\n",
    "    return (key, total)"
   ]
  },
  {
   "cell_type": "code",
   "execution_count": 43,
   "metadata": {},
   "outputs": [
    {
     "name": "stdout",
     "output_type": "stream",
     "text": [
      "[('123', 300), ('789', 50), ('456', 300)]\n"
     ]
    }
   ],
   "source": [
    "rdd2 = rdd.map(extract_debit_account_and_amount)\n",
    "rdd3 = rdd2.reduceByKey(lambda x, y: x+y)\n",
    "#rdd3 = rdd2.groupByKey().map(add_amount)\n",
    "print(rdd3.collect())"
   ]
  },
  {
   "cell_type": "code",
   "execution_count": null,
   "metadata": {},
   "outputs": [],
   "source": []
  }
 ],
 "metadata": {
  "kernelspec": {
   "display_name": "Python 3",
   "language": "python",
   "name": "python3"
  },
  "language_info": {
   "codemirror_mode": {
    "name": "ipython",
    "version": 3
   },
   "file_extension": ".py",
   "mimetype": "text/x-python",
   "name": "python",
   "nbconvert_exporter": "python",
   "pygments_lexer": "ipython3",
   "version": "3.7.3"
  }
 },
 "nbformat": 4,
 "nbformat_minor": 2
}
