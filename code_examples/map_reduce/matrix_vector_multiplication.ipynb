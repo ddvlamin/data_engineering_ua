{
 "cells": [
  {
   "cell_type": "code",
   "execution_count": 2,
   "metadata": {},
   "outputs": [],
   "source": [
    "import numpy as np\n",
    "\n",
    "from pyspark import SparkContext\n",
    "from pyspark.sql import SparkSession\n",
    "\n",
    "spark = SparkSession.builder.appName(\"selection\").getOrCreate()"
   ]
  },
  {
   "cell_type": "code",
   "execution_count": 8,
   "metadata": {},
   "outputs": [],
   "source": [
    "\"\"\"\n",
    "1, 4, 7\n",
    "2, 5, 8\n",
    "3, 6, 9\n",
    "\"\"\"\n",
    "\n",
    "data = [\n",
    "    \"0,0,1\",\n",
    "    \"1,0,2\",\n",
    "    \"2,0,3\",\n",
    "    \"0,1,4\",\n",
    "    \"1,1,5\",\n",
    "    \"2,1,6\",\n",
    "    \"0,2,7\",\n",
    "    \"1,2,8\",\n",
    "    \"2,2,9\"\n",
    "]\n",
    "\n",
    "rdd = spark.sparkContext.parallelize(data)"
   ]
  },
  {
   "cell_type": "code",
   "execution_count": 9,
   "metadata": {},
   "outputs": [],
   "source": [
    "def multiply(matrix_tuple, complete_vector):\n",
    "    row_index, col_index, matrix_value = matrix_tuple.split(\",\")\n",
    "    row_index = int(row_index)\n",
    "    col_index = int(col_index)\n",
    "    matrix_value = float(matrix_value)\n",
    "    multiplied_value = matrix_value * complete_vector[0,col_index]\n",
    "    return (row_index, multiplied_value)"
   ]
  },
  {
   "cell_type": "code",
   "execution_count": 10,
   "metadata": {},
   "outputs": [],
   "source": [
    "complete_vector = np.ones((1,3))"
   ]
  },
  {
   "cell_type": "code",
   "execution_count": 12,
   "metadata": {},
   "outputs": [
    {
     "data": {
      "text/plain": [
       "[(0, 12.0), (1, 15.0), (2, 18.0)]"
      ]
     },
     "execution_count": 12,
     "metadata": {},
     "output_type": "execute_result"
    }
   ],
   "source": [
    "rdd.map(lambda line: multiply(line, complete_vector)).reduceByKey(lambda x, y: x+y).collect()"
   ]
  },
  {
   "cell_type": "code",
   "execution_count": null,
   "metadata": {},
   "outputs": [],
   "source": []
  }
 ],
 "metadata": {
  "kernelspec": {
   "display_name": "Python 3",
   "language": "python",
   "name": "python3"
  },
  "language_info": {
   "codemirror_mode": {
    "name": "ipython",
    "version": 3
   },
   "file_extension": ".py",
   "mimetype": "text/x-python",
   "name": "python",
   "nbconvert_exporter": "python",
   "pygments_lexer": "ipython3",
   "version": "3.7.3"
  }
 },
 "nbformat": 4,
 "nbformat_minor": 2
}
