{
 "cells": [
  {
   "cell_type": "code",
   "execution_count": 2,
   "metadata": {},
   "outputs": [
    {
     "data": {
      "text/html": [
       "<style>.container { width:100% !important; }</style>"
      ],
      "text/plain": [
       "<IPython.core.display.HTML object>"
      ]
     },
     "metadata": {},
     "output_type": "display_data"
    }
   ],
   "source": [
    "from IPython.core.display import display, HTML\n",
    "display(HTML(\"<style>.container { width:100% !important; }</style>\"))"
   ]
  },
  {
   "cell_type": "code",
   "execution_count": 3,
   "metadata": {},
   "outputs": [
    {
     "data": {
      "text/html": [
       "        <script type=\"text/javascript\">\n",
       "        window.PlotlyConfig = {MathJaxConfig: 'local'};\n",
       "        if (window.MathJax) {MathJax.Hub.Config({SVG: {font: \"STIX-Web\"}});}\n",
       "        if (typeof require !== 'undefined') {\n",
       "        require.undef(\"plotly\");\n",
       "        requirejs.config({\n",
       "            paths: {\n",
       "                'plotly': ['https://cdn.plot.ly/plotly-latest.min']\n",
       "            }\n",
       "        });\n",
       "        require(['plotly'], function(Plotly) {\n",
       "            window._Plotly = Plotly;\n",
       "        });\n",
       "        }\n",
       "        </script>\n",
       "        "
      ]
     },
     "metadata": {},
     "output_type": "display_data"
    },
    {
     "name": "stderr",
     "output_type": "stream",
     "text": [
      "WARNING:root:could not import bz2file\n",
      "/home/ubuntu/predicube/core/tools/FileAccess/AbstractReader.py:189: DeprecationWarning:\n",
      "\n",
      "Call to deprecated function downloadFile (use copy instead).\n",
      "\n"
     ]
    }
   ],
   "source": [
    "import numpy as np\n",
    "from collections import Counter, defaultdict\n",
    "import json\n",
    "import itertools\n",
    "import csv\n",
    "import pandas as pd\n",
    "import operator\n",
    "import copy\n",
    "\n",
    "import matplotlib.pyplot as plt\n",
    "import plotly.offline as py\n",
    "from plotly.offline import init_notebook_mode\n",
    "import plotly.graph_objs as go\n",
    "init_notebook_mode(connected=True)\n",
    "import networkx as nx\n",
    "\n",
    "from scipy.sparse import coo_matrix\n",
    "\n",
    "from tools.FileAccess.AbstractReader import JsonReader\n",
    "from tools.url_parse.common import getdomain\n",
    "\n",
    "from tools.DbAccess.DbInterface import DbInterface"
   ]
  },
  {
   "cell_type": "code",
   "execution_count": 4,
   "metadata": {},
   "outputs": [],
   "source": [
    "from tools.FileAccess.JsonQuery import compileJsonQuery\n",
    "\n",
    "filter_description = {\n",
    "      \"operator\": \"and\", \n",
    "      \"operands\": [ \n",
    "        {\n",
    "          \"field\": \"province\",\n",
    "          \"opstr\": \"intersects\",\n",
    "          \"value\": [ \n",
    "            \"BE.VAN\",\n",
    "            \"BE.VOV\",\n",
    "            \"BE.VBR\",\n",
    "            \"BE.VLI\",\n",
    "            \"BE.VWV\"\n",
    "          ]\n",
    "        },\n",
    "        {\n",
    "          \"operator\": \"and\", \n",
    "          \"operands\": [\n",
    "            {\n",
    "              \"field\": \"urls\", \n",
    "              \"transform\": \"len\", \n",
    "              \"value\": 0, \n",
    "              \"opstr\": \"gt\"\n",
    "            }, \n",
    "            {\n",
    "              \"field\": \"adid_pixelids.[type==pixelid].identifier\", \n",
    "              \"value\": [\n",
    "                382,\n",
    "                383,\n",
    "                361,\n",
    "                362,\n",
    "                376,\n",
    "                377,\n",
    "                380,\n",
    "                381,\n",
    "                379,\n",
    "                378,\n",
    "                384,\n",
    "                385,\n",
    "                364,\n",
    "                363\n",
    "              ], \n",
    "              \"opstr\": \"intersects\"\n",
    "            }\n",
    "          ]\n",
    "        }\n",
    "      ]\n",
    "    }\n",
    "\n",
    "target_filter = {\n",
    "    \"operator\": \"and\",\n",
    "    \"operands\": [\n",
    "        {\n",
    "          \"field\": \"province\",\n",
    "          \"opstr\": \"intersects\",\n",
    "          \"value\": [ \n",
    "            \"BE.VAN\",\n",
    "            \"BE.VOV\",\n",
    "            \"BE.VBR\",\n",
    "            \"BE.VLI\",\n",
    "            \"BE.VWV\"\n",
    "          ]\n",
    "        },  \n",
    "        {\n",
    "          \"operator\": \"and\", \n",
    "          \"operands\": [\n",
    "            {\n",
    "              \"field\": \"urls\", \n",
    "              \"transform\": \"len\", \n",
    "              \"value\": 0, \n",
    "              \"opstr\": \"gt\"\n",
    "            }, \n",
    "            {\n",
    "              \"field\": \"adid_pixelids.segments.identifier\", \n",
    "              \"value\": [\n",
    "                  \"predicube_186_target\"\n",
    "              ], \n",
    "              \"opstr\": \"intersects\"\n",
    "            }\n",
    "          ]\n",
    "        }\n",
    "    ]\n",
    "}\n",
    "\n",
    "reference_filter =   {\n",
    "    \"operator\": \"and\",\n",
    "    \"operands\": [\n",
    "        {\n",
    "          \"field\": \"province\",\n",
    "          \"opstr\": \"intersects\",\n",
    "          \"value\": [ \n",
    "            \"BE.VAN\",\n",
    "            \"BE.VOV\",\n",
    "            \"BE.VBR\",\n",
    "            \"BE.VLI\",\n",
    "            \"BE.VWV\"\n",
    "          ]\n",
    "        },  \n",
    "        {\n",
    "              \"field\": \"urls\", \n",
    "              \"transform\": \"len\", \n",
    "              \"value\": 0, \n",
    "              \"opstr\": \"gt\"\n",
    "        }\n",
    "    ]\n",
    "}\n",
    "\n",
    "json_filter = compileJsonQuery(filter_description)\n",
    "reference_filter = compileJsonQuery(reference_filter)\n",
    "target_filter = compileJsonQuery(target_filter)"
   ]
  },
  {
   "cell_type": "code",
   "execution_count": 5,
   "metadata": {},
   "outputs": [],
   "source": [
    "from pyspark import StorageLevel\n",
    "from pyspark.sql import SparkSession\n",
    "\n",
    "spark = SparkSession.builder.appName(\"test\").getOrCreate()\n",
    "\n",
    "input_path = \"/home/ubuntu/data/tmp/uantwerpen/pid2info/part-00000\"\n",
    "\n",
    "target_rdd = spark.sparkContext.textFile(input_path).map(json.loads).filter(target_filter).persist(StorageLevel.MEMORY_AND_DISK)\n",
    "reference_rdd = spark.sparkContext.textFile(input_path).map(json.loads).filter(reference_filter).persist(StorageLevel.MEMORY_AND_DISK)\n",
    "#rdd = spark.sparkContext.textFile(input_path).map(json.loads).persist(StorageLevel.MEMORY_AND_DISK)\n"
   ]
  },
  {
   "cell_type": "code",
   "execution_count": 6,
   "metadata": {},
   "outputs": [],
   "source": [
    "def get_domain_pairs(js):\n",
    "    domains = {getdomain(url_rec[\"identifier\"], no_subdomain=False) for url_rec in js.get(\"urls\",[])}\n",
    "    for d1, d2 in itertools.permutations(domains,2):\n",
    "        yield ((d1,d2),1)\n",
    "        \n",
    "def get_domains(js):\n",
    "    for url_rec in js.get(\"urls\",[]):\n",
    "        yield (getdomain(url_rec[\"identifier\"],no_subdomain=False), 1)"
   ]
  },
  {
   "cell_type": "code",
   "execution_count": 7,
   "metadata": {},
   "outputs": [],
   "source": [
    "def vertices_and_edges(rdd):\n",
    "    vertices = rdd.flatMap(get_domains).reduceByKey(lambda x, y: x+y).collectAsMap()\n",
    "    nvisits = sum(vertices.values())\n",
    "    vertices = {vertex: 100.0*weight/nvisits for vertex, weight in vertices.items()}\n",
    "\n",
    "    edges =  rdd.flatMap(get_domain_pairs).reduceByKey(lambda x, y: x+y).collect()\n",
    "    npairs = sum([w for _, w in edges])\n",
    "    edges = dict([(edge, 100.0*weight/npairs)  for edge, weight in edges])\n",
    "    \n",
    "    return vertices, edges\n",
    "\n",
    "target_vertices, target_edges = vertices_and_edges(target_rdd)\n",
    "ref_vertices, ref_edges = vertices_and_edges(reference_rdd)"
   ]
  },
  {
   "cell_type": "code",
   "execution_count": 8,
   "metadata": {},
   "outputs": [],
   "source": [
    "def graph_lift(target, reference):\n",
    "    lifts = {}\n",
    "    for k, w in dict(target).items():\n",
    "        lifts[k] = {\n",
    "            \"Lift\": w / reference[k],\n",
    "            \"TargetRatio\": w,\n",
    "            \"ReferenceRatio\": reference[k]\n",
    "        }\n",
    "    return lifts\n",
    "\n",
    "def merge_target_and_reference_graph(target_vertices, target_edges, ref_vertices, ref_edges):\n",
    "    vertices = graph_lift(target_vertices, ref_vertices)\n",
    "    edges = graph_lift(target_edges, ref_edges)\n",
    "    return vertices, edges\n",
    "    \n",
    "vertices, edges = merge_target_and_reference_graph(target_vertices, target_edges, ref_vertices, ref_edges)\n",
    "\n"
   ]
  },
  {
   "cell_type": "code",
   "execution_count": 9,
   "metadata": {},
   "outputs": [],
   "source": [
    "vertex2index = dict()\n",
    "\n",
    "vertex_fieldnames = [\"Id\",\"Label\",\"Lift\",\"TargetRatio\",\"ReferenceRatio\"]\n",
    "\n",
    "with open(\"/home/ubuntu/data/tmp/uantwerpen/vertices.ua.csv\", \"w\") as fout:\n",
    "    writer = csv.DictWriter(fout, fieldnames=vertex_fieldnames, quotechar = '\"')\n",
    "    writer.writeheader()\n",
    "    for i, (v, d) in enumerate(vertices.items()):\n",
    "        d[\"Label\"] = v\n",
    "        d[\"Id\"] = i\n",
    "        writer.writerow(d)\n",
    "        \n",
    "        vertex2index[v] = i\n",
    " \n",
    "edge_fieldnames = [\"Source\",\"Target\",\"Weight\",\"Type\",\"Lift\",\"TargetRatio\",\"ReferenceRatio\"]\n",
    "\n",
    "with open(\"/home/ubuntu/data/tmp/uantwerpen/edges.ua.csv\", \"w\") as fout:\n",
    "    writer = csv.DictWriter(fout, fieldnames=edge_fieldnames, quotechar = '\"')\n",
    "    writer.writeheader()\n",
    "    for (v1,v2), d in edges.items():\n",
    "        d[\"Source\"] = vertex2index[v1]\n",
    "        d[\"Target\"] = vertex2index[v2]\n",
    "        d[\"Weight\"] = d[\"Lift\"]\n",
    "        d[\"Type\"] = \"undirected\"\n",
    "        writer.writerow(d)"
   ]
  },
  {
   "cell_type": "code",
   "execution_count": 10,
   "metadata": {},
   "outputs": [],
   "source": [
    "\n",
    "\n",
    "vertices={}\n",
    "edges = {}\n",
    "index2vertex = {}\n",
    "\n",
    "records = pd.read_csv(\"/home/ubuntu/data/tmp/uantwerpen/vertices.ua.csv\").to_dict(orient=\"records\")\n",
    "for js in records:\n",
    "    vertices[js[\"Label\"]] = js\n",
    "    index2vertex[js[\"Id\"]] = js[\"Label\"]\n",
    "        \n",
    "records = pd.read_csv(\"/home/ubuntu/data/tmp/uantwerpen/edges.ua.csv\").to_dict(orient=\"records\")\n",
    "for js in records:\n",
    "    srcid = index2vertex[js[\"Source\"]]\n",
    "    dstid = index2vertex[js[\"Target\"]]\n",
    "    edges[(srcid,dstid)] = js\n"
   ]
  },
  {
   "cell_type": "code",
   "execution_count": 47,
   "metadata": {},
   "outputs": [],
   "source": [
    "def remove_isolated_nodes(G):\n",
    "    reduced_G = copy.deepcopy(G)\n",
    "    for nodeid in G.nodes():\n",
    "        if nx.is_isolate(G,nodeid):\n",
    "            reduced_G.remove_node(nodeid)\n",
    "    return reduced_G\n",
    "        \n",
    "def sorted_edge_centrality(G, weight=\"weight\", reverse=False):\n",
    "    edge_centrality = nx.edge_betweenness_centrality(G, k=len(G.nodes()), weight=weight, normalized=False)\n",
    "    return sorted(edge_centrality.items(), key=lambda x: x[1], reverse=reverse)\n",
    "\n",
    "def minimal_connected_tree(G, weight=\"weight\"):\n",
    "    reduced_G = copy.deepcopy(G)\n",
    "    edge_centrality = nx.edge_betweenness_centrality(G, k=len(G.nodes()), weight=weight, normalized=False)\n",
    "    for ((u,v), _) in sorted_edge_centrality(G, weight=weight):\n",
    "        d = G.edges()[(u,v)]\n",
    "        reduced_G.remove_edge(u,v)\n",
    "        if not nx.is_connected(reduced_G):\n",
    "            reduced_G.add_edge(u,v,**d)\n",
    "    return reduced_G\n",
    "\n",
    "def create_graph(vertices, edges, weight_field=\"TargetRatio\"):\n",
    "    G=nx.Graph()\n",
    "    \n",
    "    for vertexid, d in vertices.items():\n",
    "        d[\"weight\"] = d[weight_field]\n",
    "        G.add_node(vertexid, **d)\n",
    "    \n",
    "    for (v1,v2), d in edges.items():\n",
    "        d[\"weight\"] = d[weight_field]\n",
    "        G.add_edge(v1,v2, **d)\n",
    "        \n",
    "    return G\n",
    "  \n",
    "def set_node_sizes(G, data_field=\"weight\"):\n",
    "    node_sizes = [d[data_field] for _, d in G.nodes(data=True)]\n",
    "    max_size = max(node_sizes)\n",
    "    node_sizes = {nodeid: 2000*d[data_field]/max_size for nodeid, d in G.nodes(data=True)}\n",
    "    nx.set_node_attributes(G, node_sizes, \"node_size\")\n",
    "    #return [2000*node_size/max_size for node_size in node_sizes]\n",
    "\n",
    "def set_edge_widths(G, data_field=\"weight\"):\n",
    "    edge_sizes = [d[data_field] for _, _, d in G.edges(data=True)]\n",
    "    max_size = max(edge_sizes)\n",
    "    edge_widths = {(u,v): 5*d[data_field]/max_size for u, v, d in G.edges(data=True)}\n",
    "    nx.set_edge_attributes(G, edge_widths, \"edge_width\")\n",
    "    #return [5*edge_size/max_size for edge_size in edge_sizes]  \n",
    "\n",
    "def filter_edges(G, field=\"weight\", fieldvalue=1, op=operator.gt):\n",
    "    reduced_G = copy.deepcopy(G)\n",
    "    for (u, v, d) in G.edges(data=True):\n",
    "        if not op(d[field],fieldvalue):\n",
    "            reduced_G.remove_edge(u,v)\n",
    "    return reduced_G\n",
    "  \n",
    "def filter_nodes(G, field=\"weight\", fieldvalue=1, op=operator.gt):\n",
    "    reduced_G = copy.deepcopy(G)\n",
    "    for nodeid, d in G.nodes(data=True):\n",
    "        if not op(d[fieldvalue],fieldvalue):\n",
    "            reduce_G.remove_node(nodeid)\n",
    "    return reduced_G\n",
    "    \n",
    "def plot_graph(G, pos=None):\n",
    "    #remove_isolated_nodes(G)\n",
    "    #minimal_connected_tree(G)\n",
    "\n",
    "    plt.figure(figsize=(30,15))    \n",
    "    \n",
    "    if pos==None:\n",
    "        pos = nx.spring_layout(G,k=5/np.sqrt(len(vertices)), weight=\"weight\", scale=30)  # positions for all nodes\n",
    "\n",
    "    #nx.draw_networkx_nodes(G, pos, nodelist=nodes2display, node_size=100)\n",
    "    #nx.draw_networkx_edges(G, pos, edgelist=elarge, width=6)\n",
    "    node_sizes = [d[\"node_size\"] for _, d in G.nodes(data=True)]\n",
    "    edge_widths = [d[\"edge_width\"] for _, _, d in G.edges(data=True)]\n",
    "    \n",
    "    nx.draw_networkx_nodes(G, pos, node_size=node_sizes)\n",
    "    nx.draw_networkx_edges(G, pos, width=edge_widths)\n",
    "\n",
    "    nx.draw_networkx_labels(G, pos, font_size=20, font_family='sans-serif')\n",
    "\n",
    "    plt.axis('off')\n",
    "    plt.show()\n",
    "    \n",
    "    return pos"
   ]
  },
  {
   "cell_type": "code",
   "execution_count": 48,
   "metadata": {},
   "outputs": [
    {
     "data": {
      "image/png": "[encoded data removed]",
      "text/plain": [
       "<Figure size 2160x1080 with 1 Axes>"
      ]
     },
     "metadata": {},
     "output_type": "display_data"
    }
   ],
   "source": [
    "original_G = create_graph(vertices, edges)\n",
    "set_node_sizes(original_G, data_field=\"Lift\")\n",
    "set_edge_widths(original_G, data_field=\"Lift\")\n",
    "#print original_G.edges(data=True)\n",
    "original_pos = plot_graph(original_G)"
   ]
  },
  {
   "cell_type": "code",
   "execution_count": 49,
   "metadata": {},
   "outputs": [
    {
     "data": {
      "image/png": "[encoded data removed]",
      "text/plain": [
       "<Figure size 2160x1080 with 1 Axes>"
      ]
     },
     "metadata": {},
     "output_type": "display_data"
    }
   ],
   "source": [
    "G2 = remove_isolated_nodes(original_G)\n",
    "G2 = minimal_connected_tree(G2, weight=\"Lift\")\n",
    "set_node_sizes(G2, data_field=\"Lift\")\n",
    "set_edge_widths(G2, data_field=\"Lift\")\n",
    "#print original_G.edges(data=True)\n",
    "pos2 = plot_graph(G2)"
   ]
  },
  {
   "cell_type": "code",
   "execution_count": 52,
   "metadata": {},
   "outputs": [
    {
     "data": {
      "image/png": "[encoded data removed]",
      "text/plain": [
       "<Figure size 2160x1080 with 1 Axes>"
      ]
     },
     "metadata": {},
     "output_type": "display_data"
    },
    {
     "data": {
      "text/plain": [
       "{'9lives.be': array([-6.19522835,  5.99250087]),\n",
       " 'actiefwonen.be': array([24.49498759, 15.43941091]),\n",
       " 'autowereld.be': array([-21.93364918,  17.914809  ]),\n",
       " 'dagelijksekost.een.be': array([ 27.27231808, -15.83700988]),\n",
       " 'een.be': array([-10.58147422,  15.26224559]),\n",
       " 'elle.be': array([-26.29965168,  -2.98046861]),\n",
       " 'iex.nl': array([-22.41898248,   8.94332019]),\n",
       " 'immoweb.be': array([ 5.63417736, -4.49776303]),\n",
       " 'marieclaire.be': array([ 15.35411275, -23.0896902 ]),\n",
       " 'njam.tv': array([ -2.78595192, -11.05893121]),\n",
       " 'pocketresto.be': array([ -0.09668544, -28.90062531]),\n",
       " 'psychologies.be': array([-26.06937254, -10.82551701]),\n",
       " 'radio1.be': array([22.58080585,  8.18229672]),\n",
       " 'radio2.be': array([ 9.80522441, 24.94780173]),\n",
       " 'radioplus.be': array([ 1.38459754, 27.14166263]),\n",
       " 'showbizzsite.be': array([-17.86278317, -23.72039476]),\n",
       " 'sporza.be': array([ 7.34810951, 15.39540513]),\n",
       " 'vub.be': array([ -8.83906319, -22.86977159]),\n",
       " 'wittegids.be': array([30.       ,  1.7703285]),\n",
       " 'zita.be': array([-0.79149094,  2.79039033])}"
      ]
     },
     "execution_count": 52,
     "metadata": {},
     "output_type": "execute_result"
    }
   ],
   "source": [
    "def add_noncentral_edges(G, original_G, weight=\"weight\", n=10):\n",
    "    new_G = copy.deepcopy(G)\n",
    "    counter = 0\n",
    "    for ((u,v), _) in sorted_edge_centrality(original_G, weight=weight, reverse=True):\n",
    "        if counter>=n:\n",
    "            return new_G\n",
    "        if (u,v) not in new_G.edges():\n",
    "            new_G.add_edge(u,v, **original_G.edges()[(u,v)])\n",
    "            counter += 1\n",
    "    return new_G\n",
    "\n",
    "G3 = add_noncentral_edges(G2, original_G, weight=\"Lift\", n=20)\n",
    "set_node_sizes(G3, data_field=\"Lift\")\n",
    "set_edge_widths(G3, data_field=\"Lift\")\n",
    "#print original_G.edges(data=True)\n",
    "plot_graph(G3, pos2)\n",
    "        "
   ]
  },
  {
   "cell_type": "code",
   "execution_count": 269,
   "metadata": {},
   "outputs": [],
   "source": [
    "#ForceAtlas\n",
    "\n",
    "def filter_edges(edges, min_weight = 1):\n",
    "    for edge, weight in edges:\n",
    "        if weight>=min_weight:\n",
    "            yield (edge, weight)\n",
    "            \n",
    "def create_adjacency_matrix(edges):\n",
    "    vertex_counter = itertools.count()\n",
    "    vertex2index = defaultdict(lambda: vertex_counter.next())\n",
    "    \n",
    "    data = []\n",
    "    rowindices = []\n",
    "    colindices = []\n",
    "    for (v1, v2), w in edges:\n",
    "        data.append(w)\n",
    "        rowindices.append(vertex2index[v1])\n",
    "        colindices.append(vertex2index[v2])\n",
    "        \n",
    "    ndim = len(vertex2index)\n",
    "    return coo_matrix((data,(rowindices,colindices)), shape=(ndim,ndim)), dict(vertex2index)"
   ]
  },
  {
   "cell_type": "code",
   "execution_count": 270,
   "metadata": {},
   "outputs": [],
   "source": [
    "filtered_edges = [edge for edge in filter_edges(edges, 0.1)]"
   ]
  },
  {
   "cell_type": "code",
   "execution_count": 271,
   "metadata": {},
   "outputs": [],
   "source": [
    "G, vertex2index = create_adjacency_matrix(filtered_edges)"
   ]
  },
  {
   "cell_type": "code",
   "execution_count": 272,
   "metadata": {},
   "outputs": [
    {
     "name": "stderr",
     "output_type": "stream",
     "text": [
      "100%|██████████| 100/100 [00:00<00:00, 6167.19it/s]"
     ]
    },
    {
     "name": "stdout",
     "output_type": "stream",
     "text": [
      "('BarnesHut Approximation', ' took ', '0.00', ' seconds')\n",
      "('Repulsion forces', ' took ', '0.00', ' seconds')\n",
      "('Gravitational forces', ' took ', '0.00', ' seconds')\n",
      "('Attraction forces', ' took ', '0.00', ' seconds')\n",
      "('AdjustSpeedAndApplyForces step', ' took ', '0.00', ' seconds')\n"
     ]
    },
    {
     "name": "stderr",
     "output_type": "stream",
     "text": [
      "\n"
     ]
    }
   ],
   "source": [
    "from fa2 import ForceAtlas2\n",
    "\n",
    "forceatlas2 = ForceAtlas2(\n",
    "                        # Behavior alternatives\n",
    "                        outboundAttractionDistribution=True,  # Dissuade hubs\n",
    "                        linLogMode=False,  # NOT IMPLEMENTED\n",
    "                        adjustSizes=False,  # Prevent overlap (NOT IMPLEMENTED)\n",
    "                        edgeWeightInfluence=0.10,\n",
    "\n",
    "                        # Performance\n",
    "                        jitterTolerance=1.0,  # Tolerance\n",
    "                        barnesHutOptimize=True,\n",
    "                        barnesHutTheta=1.2,\n",
    "                        multiThreaded=False,  # NOT IMPLEMENTED\n",
    "\n",
    "                        # Tuning\n",
    "                        scalingRatio=2.0,\n",
    "                        strongGravityMode=False,\n",
    "                        gravity=1.0,\n",
    "\n",
    "                        # Log\n",
    "                        verbose=True)\n",
    "\n",
    "vertex_positions = forceatlas2.forceatlas2 (G)"
   ]
  },
  {
   "cell_type": "code",
   "execution_count": 278,
   "metadata": {},
   "outputs": [],
   "source": [
    "def plot_graph(vertices, edges, vertex_positions, vertex2index):\n",
    "    traces = []\n",
    "    for (v1, v2), w in edges:\n",
    "        x0, y0 = vertex_positions[vertex2index[v1]]\n",
    "        x1, y1 = vertex_positions[vertex2index[v2]]\n",
    "        traces.append(go.Scatter(\n",
    "            x=[x0, x1], y=[y0, y1],\n",
    "            line=dict(width=w, color='#888'),\n",
    "            hoverinfo='none',\n",
    "            mode='lines'\n",
    "        ))\n",
    "        \n",
    "    node_x = []\n",
    "    node_y = []\n",
    "    node_names = []\n",
    "    node_sizes = []\n",
    "    for vertex, w in vertices.items():\n",
    "        if vertex not in vertex2index:\n",
    "            continue\n",
    "        x, y = vertex_positions[vertex2index[vertex]]\n",
    "        node_x.append(x)\n",
    "        node_y.append(y)\n",
    "        node_size = w\n",
    "        node_names.append(\"{} ({:.2f}%)\".format(vertex,node_size))\n",
    "        node_sizes.append(node_size)\n",
    "\n",
    "    node_trace = go.Scatter(\n",
    "        x=node_x, y=node_y,\n",
    "        mode='markers+text',\n",
    "        marker=dict(\n",
    "            size=node_sizes,\n",
    "            sizemode='area',\n",
    "            sizeref=2.*max(node_sizes)/(40.**2),\n",
    "            sizemin=4\n",
    "        ),\n",
    "        text = node_names,\n",
    "        textposition=\"bottom center\",\n",
    "        textfont=dict(\n",
    "            family=\"sans serif\",\n",
    "            size=18,\n",
    "            color=\"Green\",\n",
    "            \n",
    "        ),\n",
    "        hoverinfo='text')\n",
    "\n",
    "    traces.append(node_trace)\n",
    "    return traces"
   ]
  },
  {
   "cell_type": "code",
   "execution_count": 279,
   "metadata": {},
   "outputs": [],
   "source": [
    "traces = plot_graph(vertices, filtered_edges, vertex_positions, vertex2index)"
   ]
  },
  {
   "cell_type": "code",
   "execution_count": 280,
   "metadata": {},
   "outputs": [
    {
     "data": {
      "application/vnd.plotly.v1+json": {
       "config": {
        "linkText": "Export to plot.ly",
        "plotlyServerURL": "https://plot.ly",
        "responsive": true,
        "showLink": false
       },
       "data": [
        {
         "hoverinfo": "none",
         "line": {
          "color": "#888",
          "width": 0.1214656859437209
         },
         "mode": "lines",
         "type": "scatter",
         "uid": "d14022f3-96c9-4345-b289-23f78c8be9cc",
         "x": [
          -6.259229705442365,
          -27.89948457696739
         ],
         "y": [
          27.21996450374003,
          36.130561798674854
         ]
        },
        {
         "hoverinfo": "none",
         "line": {
          "color": "#888",
          "width": 0.10122140495310075
         },
         "mode": "lines",
         "type": "scatter",
         "uid": "5b9f809e-92e9-4a2c-9228-6e53863289ca",
         "x": [
          36.70895226265376,
          26.04883664430212
         ],
         "y": [
          -47.92449446809526,
          -26.98946936849362
         ]
        },
        {
         "hoverinfo": "none",
         "line": {
          "color": "#888",
          "width": 0.7186719751670153
         },
         "mode": "lines",
         "type": "scatter",
         "uid": "c503ab2b-ca1e-47e3-a23d-cfd00e9b722b",
         "x": [
          -27.89948457696739,
          26.04883664430212
         ],
         "y": [
          36.130561798674854,
          -26.98946936849362
         ]
        },
        {
         "hoverinfo": "none",
         "line": {
          "color": "#888",
          "width": 2.0547945205479454
         },
         "mode": "lines",
         "type": "scatter",
         "uid": "a1b18b75-8fe3-428a-a944-354a76d5e1a8",
         "x": [
          -27.89948457696739,
          6.392684892756951
         ],
         "y": [
          36.130561798674854,
          10.959439732331475
         ]
        },
        {
         "hoverinfo": "none",
         "line": {
          "color": "#888",
          "width": 0.1889466225791214
         },
         "mode": "lines",
         "type": "scatter",
         "uid": "52699893-328c-4efa-9189-0f16b362f1ef",
         "x": [
          6.680120458727134,
          6.392684892756951
         ],
         "y": [
          40.395786066960625,
          10.959439732331475
         ]
        },
        {
         "hoverinfo": "none",
         "line": {
          "color": "#888",
          "width": 0.18557257574735136
         },
         "mode": "lines",
         "type": "scatter",
         "uid": "8da5405d-c36b-43d2-90d1-72ea48774156",
         "x": [
          26.04883664430212,
          27.9776794079129
         ],
         "y": [
          -26.98946936849362,
          22.296356984835096
         ]
        },
        {
         "hoverinfo": "none",
         "line": {
          "color": "#888",
          "width": 0.23618327822390175
         },
         "mode": "lines",
         "type": "scatter",
         "uid": "8180e516-4ad3-41be-84cd-7f766ed3df6c",
         "x": [
          7.061613811578996,
          -27.89948457696739
         ],
         "y": [
          52.36826728570741,
          36.130561798674854
         ]
        },
        {
         "hoverinfo": "none",
         "line": {
          "color": "#888",
          "width": 0.13833592010257104
         },
         "mode": "lines",
         "type": "scatter",
         "uid": "274b3245-58ec-4958-8b9f-7dc3710e6750",
         "x": [
          37.88296909748756,
          22.970264202187924
         ],
         "y": [
          32.62249022457843,
          41.25496565373128
         ]
        },
        {
         "hoverinfo": "none",
         "line": {
          "color": "#888",
          "width": 0.12483973277549093
         },
         "mode": "lines",
         "type": "scatter",
         "uid": "2dc77d4c-ac94-49a2-8387-10f1aebe0605",
         "x": [
          26.04883664430212,
          41.48956329693529
         ],
         "y": [
          -26.98946936849362,
          -67.04180068602615
         ]
        },
        {
         "hoverinfo": "none",
         "line": {
          "color": "#888",
          "width": 0.11471759228018084
         },
         "mode": "lines",
         "type": "scatter",
         "uid": "50002928-1db0-4607-ab6d-c32871ec111d",
         "x": [
          19.557051226682788,
          6.392684892756951
         ],
         "y": [
          -0.8609825480266313,
          10.959439732331475
         ]
        },
        {
         "hoverinfo": "none",
         "line": {
          "color": "#888",
          "width": 0.11134354544841082
         },
         "mode": "lines",
         "type": "scatter",
         "uid": "d7e29065-7d51-4e8d-9196-487457ce6685",
         "x": [
          -36.722194461567994,
          6.392684892756951
         ],
         "y": [
          14.948487387529157,
          10.959439732331475
         ]
        },
        {
         "hoverinfo": "none",
         "line": {
          "color": "#888",
          "width": 0.13158782643903097
         },
         "mode": "lines",
         "type": "scatter",
         "uid": "e078da5c-7292-4076-9e2e-6b5c9b3a7881",
         "x": [
          6.392684892756951,
          -6.259229705442365
         ],
         "y": [
          10.959439732331475,
          27.21996450374003
         ]
        },
        {
         "hoverinfo": "none",
         "line": {
          "color": "#888",
          "width": 0.3407787300087725
         },
         "mode": "lines",
         "type": "scatter",
         "uid": "1ffa7738-485c-4c6c-bccd-a85df1d034d3",
         "x": [
          -10.342592301858382,
          26.04883664430212
         ],
         "y": [
          16.023698691882426,
          -26.98946936849362
         ]
        },
        {
         "hoverinfo": "none",
         "line": {
          "color": "#888",
          "width": 0.11471759228018084
         },
         "mode": "lines",
         "type": "scatter",
         "uid": "4eed35cf-1384-4c5f-937d-86398b9f3ea6",
         "x": [
          6.392684892756951,
          19.557051226682788
         ],
         "y": [
          10.959439732331475,
          -0.8609825480266313
         ]
        },
        {
         "hoverinfo": "none",
         "line": {
          "color": "#888",
          "width": 0.16870234158850125
         },
         "mode": "lines",
         "type": "scatter",
         "uid": "762a1e37-d8fe-4203-ab8a-2e6f2d96a2d7",
         "x": [
          22.970264202187924,
          -36.722194461567994
         ],
         "y": [
          41.25496565373128,
          14.948487387529157
         ]
        },
        {
         "hoverinfo": "none",
         "line": {
          "color": "#888",
          "width": 0.134961873270801
         },
         "mode": "lines",
         "type": "scatter",
         "uid": "8603d339-d403-4c68-929c-d40a589f1caf",
         "x": [
          22.970264202187924,
          0.539401822122006
         ],
         "y": [
          41.25496565373128,
          73.48183680023092
         ]
        },
        {
         "hoverinfo": "none",
         "line": {
          "color": "#888",
          "width": 0.13158782643903097
         },
         "mode": "lines",
         "type": "scatter",
         "uid": "fc6ebdde-4315-4060-992e-aa7bbad79775",
         "x": [
          22.970264202187924,
          43.179810646949306
         ],
         "y": [
          41.25496565373128,
          97.33343795871183
         ]
        },
        {
         "hoverinfo": "none",
         "line": {
          "color": "#888",
          "width": 0.13158782643903097
         },
         "mode": "lines",
         "type": "scatter",
         "uid": "961b3179-3040-4890-ba82-ac7519d59ca9",
         "x": [
          43.179810646949306,
          22.970264202187924
         ],
         "y": [
          97.33343795871183,
          41.25496565373128
         ]
        },
        {
         "hoverinfo": "none",
         "line": {
          "color": "#888",
          "width": 0.13158782643903097
         },
         "mode": "lines",
         "type": "scatter",
         "uid": "fe819c2d-074a-46e4-9958-4940a1d65194",
         "x": [
          -111.39935060505506,
          -108.85245728809427
         ],
         "y": [
          38.343839726736064,
          38.28534102351887
         ]
        },
        {
         "hoverinfo": "none",
         "line": {
          "color": "#888",
          "width": 0.15183210742965111
         },
         "mode": "lines",
         "type": "scatter",
         "uid": "21ba1c3e-5340-4d60-9c1f-ba1a2f43bad7",
         "x": [
          65.45761297129408,
          22.970264202187924
         ],
         "y": [
          41.73067382151475,
          41.25496565373128
         ]
        },
        {
         "hoverinfo": "none",
         "line": {
          "color": "#888",
          "width": 0.1079694986166408
         },
         "mode": "lines",
         "type": "scatter",
         "uid": "4cc527fa-873d-40a2-a01b-58363f9b2e65",
         "x": [
          27.9776794079129,
          -27.89948457696739
         ],
         "y": [
          22.296356984835096,
          36.130561798674854
         ]
        },
        {
         "hoverinfo": "none",
         "line": {
          "color": "#888",
          "width": 0.22268709089682165
         },
         "mode": "lines",
         "type": "scatter",
         "uid": "6cc94b04-32ee-4ee8-9c49-3de19387fed8",
         "x": [
          -21.098063272461193,
          26.04883664430212
         ],
         "y": [
          10.377153035352139,
          -26.98946936849362
         ]
        },
        {
         "hoverinfo": "none",
         "line": {
          "color": "#888",
          "width": 0.28679398070045214
         },
         "mode": "lines",
         "type": "scatter",
         "uid": "afde335f-3099-4136-b525-f14fc500e95d",
         "x": [
          -21.098063272461193,
          6.392684892756951
         ],
         "y": [
          10.377153035352139,
          10.959439732331475
         ]
        },
        {
         "hoverinfo": "none",
         "line": {
          "color": "#888",
          "width": 0.11809163911195088
         },
         "mode": "lines",
         "type": "scatter",
         "uid": "a4c579a7-0410-49da-8dce-b843cf33ec9e",
         "x": [
          65.45761297129408,
          6.392684892756951
         ],
         "y": [
          41.73067382151475,
          10.959439732331475
         ]
        },
        {
         "hoverinfo": "none",
         "line": {
          "color": "#888",
          "width": 0.3104123085228423
         },
         "mode": "lines",
         "type": "scatter",
         "uid": "88e9ea3e-da98-4af0-93f8-30e094642f60",
         "x": [
          6.392684892756951,
          7.061613811578996
         ],
         "y": [
          10.959439732331475,
          52.36826728570741
         ]
        },
        {
         "hoverinfo": "none",
         "line": {
          "color": "#888",
          "width": 0.25980160604629193
         },
         "mode": "lines",
         "type": "scatter",
         "uid": "f28038e2-54dc-443a-92a5-f45e20f5332d",
         "x": [
          -27.89948457696739,
          -13.421627723196826
         ],
         "y": [
          36.130561798674854,
          57.91529661507537
         ]
        },
        {
         "hoverinfo": "none",
         "line": {
          "color": "#888",
          "width": 0.19906876307443147
         },
         "mode": "lines",
         "type": "scatter",
         "uid": "f9244fbf-61a0-461f-b5e4-0a052f9be290",
         "x": [
          27.9776794079129,
          6.392684892756951
         ],
         "y": [
          22.296356984835096,
          10.959439732331475
         ]
        },
        {
         "hoverinfo": "none",
         "line": {
          "color": "#888",
          "width": 0.16870234158850125
         },
         "mode": "lines",
         "type": "scatter",
         "uid": "eb926ef0-f1e9-406c-bd23-aa22ed990005",
         "x": [
          -36.722194461567994,
          22.970264202187924
         ],
         "y": [
          14.948487387529157,
          41.25496565373128
         ]
        },
        {
         "hoverinfo": "none",
         "line": {
          "color": "#888",
          "width": 0.8806262230919765
         },
         "mode": "lines",
         "type": "scatter",
         "uid": "a768987b-0e8e-4d1b-9a8b-85d164df7f08",
         "x": [
          -27.89948457696739,
          -4.6694629540254065
         ],
         "y": [
          36.130561798674854,
          42.471632965890535
         ]
        },
        {
         "hoverinfo": "none",
         "line": {
          "color": "#888",
          "width": 1.0425804710169377
         },
         "mode": "lines",
         "type": "scatter",
         "uid": "ec35d64e-b01c-4027-81bf-4de48aad60e1",
         "x": [
          22.970264202187924,
          26.04883664430212
         ],
         "y": [
          41.25496565373128,
          -26.98946936849362
         ]
        },
        {
         "hoverinfo": "none",
         "line": {
          "color": "#888",
          "width": 0.134961873270801
         },
         "mode": "lines",
         "type": "scatter",
         "uid": "59b316d1-d4cc-424c-85f1-30be98d8fe81",
         "x": [
          6.680120458727134,
          -4.6694629540254065
         ],
         "y": [
          40.395786066960625,
          42.471632965890535
         ]
        },
        {
         "hoverinfo": "none",
         "line": {
          "color": "#888",
          "width": 0.19906876307443147
         },
         "mode": "lines",
         "type": "scatter",
         "uid": "443ae1fa-2633-4b85-887f-06f2da7e20ca",
         "x": [
          -13.421627723196826,
          6.392684892756951
         ],
         "y": [
          57.91529661507537,
          10.959439732331475
         ]
        },
        {
         "hoverinfo": "none",
         "line": {
          "color": "#888",
          "width": 0.6883055536810851
         },
         "mode": "lines",
         "type": "scatter",
         "uid": "f657d826-3f06-4411-95a8-09d998d7b773",
         "x": [
          22.970264202187924,
          -10.342592301858382
         ],
         "y": [
          41.25496565373128,
          16.023698691882426
         ]
        },
        {
         "hoverinfo": "none",
         "line": {
          "color": "#888",
          "width": 0.2294351845603617
         },
         "mode": "lines",
         "type": "scatter",
         "uid": "87048518-6a29-41df-8176-725919e038ca",
         "x": [
          27.301667669154046,
          22.970264202187924
         ],
         "y": [
          7.464008085107545,
          41.25496565373128
         ]
        },
        {
         "hoverinfo": "none",
         "line": {
          "color": "#888",
          "width": 0.10122140495310075
         },
         "mode": "lines",
         "type": "scatter",
         "uid": "d434daab-2322-4629-b3de-f9dc42f00f79",
         "x": [
          26.04883664430212,
          36.70895226265376
         ],
         "y": [
          -26.98946936849362,
          -47.92449446809526
         ]
        },
        {
         "hoverinfo": "none",
         "line": {
          "color": "#888",
          "width": 0.4318779944665632
         },
         "mode": "lines",
         "type": "scatter",
         "uid": "1fde3a9c-a191-4b4f-bdc5-1a6da0ad43c8",
         "x": [
          22.970264202187924,
          -21.098063272461193
         ],
         "y": [
          41.25496565373128,
          10.377153035352139
         ]
        },
        {
         "hoverinfo": "none",
         "line": {
          "color": "#888",
          "width": 0.1484580605978811
         },
         "mode": "lines",
         "type": "scatter",
         "uid": "8955b4f8-b1ba-4ca8-9923-cbb9f6b29b39",
         "x": [
          14.61861303267559,
          18.28296144162177
         ],
         "y": [
          -67.06300694191923,
          -73.9162519462213
         ]
        },
        {
         "hoverinfo": "none",
         "line": {
          "color": "#888",
          "width": 0.6545650853633849
         },
         "mode": "lines",
         "type": "scatter",
         "uid": "ff61bc02-433e-44c2-b328-d309756bf659",
         "x": [
          6.392684892756951,
          -4.6694629540254065
         ],
         "y": [
          10.959439732331475,
          42.471632965890535
         ]
        },
        {
         "hoverinfo": "none",
         "line": {
          "color": "#888",
          "width": 0.10122140495310075
         },
         "mode": "lines",
         "type": "scatter",
         "uid": "027ad8a6-4713-4922-ac8d-8495f472a50d",
         "x": [
          -10.342592301858382,
          -6.259229705442365
         ],
         "y": [
          16.023698691882426,
          27.21996450374003
         ]
        },
        {
         "hoverinfo": "none",
         "line": {
          "color": "#888",
          "width": 0.13158782643903097
         },
         "mode": "lines",
         "type": "scatter",
         "uid": "5473540f-7c88-4582-8f90-da08b3caece3",
         "x": [
          -27.89948457696739,
          -36.722194461567994
         ],
         "y": [
          36.130561798674854,
          14.948487387529157
         ]
        },
        {
         "hoverinfo": "none",
         "line": {
          "color": "#888",
          "width": 0.1889466225791214
         },
         "mode": "lines",
         "type": "scatter",
         "uid": "543f07da-4fbb-4bad-8a12-d2e8805c89ca",
         "x": [
          22.970264202187924,
          27.9776794079129
         ],
         "y": [
          41.25496565373128,
          22.296356984835096
         ]
        },
        {
         "hoverinfo": "none",
         "line": {
          "color": "#888",
          "width": 0.11471759228018084
         },
         "mode": "lines",
         "type": "scatter",
         "uid": "c3c164ee-39ca-455c-8a5d-f8ba30384dc9",
         "x": [
          22.970264202187924,
          19.557051226682788
         ],
         "y": [
          41.25496565373128,
          -0.8609825480266313
         ]
        },
        {
         "hoverinfo": "none",
         "line": {
          "color": "#888",
          "width": 0.1754504352520413
         },
         "mode": "lines",
         "type": "scatter",
         "uid": "5eb1169d-09ad-40ed-a2f4-27687933433e",
         "x": [
          18.28296144162177,
          26.04883664430212
         ],
         "y": [
          -73.9162519462213,
          -26.98946936849362
         ]
        },
        {
         "hoverinfo": "none",
         "line": {
          "color": "#888",
          "width": 1.7072676968756326
         },
         "mode": "lines",
         "type": "scatter",
         "uid": "95284313-ff72-4b93-94fa-67871bb0057f",
         "x": [
          -4.6694629540254065,
          22.970264202187924
         ],
         "y": [
          42.471632965890535,
          41.25496565373128
         ]
        },
        {
         "hoverinfo": "none",
         "line": {
          "color": "#888",
          "width": 0.13158782643903097
         },
         "mode": "lines",
         "type": "scatter",
         "uid": "3880c2a3-db2d-420d-af10-a2612b0561fa",
         "x": [
          -36.722194461567994,
          -27.89948457696739
         ],
         "y": [
          14.948487387529157,
          36.130561798674854
         ]
        },
        {
         "hoverinfo": "none",
         "line": {
          "color": "#888",
          "width": 0.12483973277549093
         },
         "mode": "lines",
         "type": "scatter",
         "uid": "376bfe1e-f4b8-40c1-9a67-0021e6513e03",
         "x": [
          41.48956329693529,
          26.04883664430212
         ],
         "y": [
          -67.04180068602615,
          -26.98946936849362
         ]
        },
        {
         "hoverinfo": "none",
         "line": {
          "color": "#888",
          "width": 1.0425804710169377
         },
         "mode": "lines",
         "type": "scatter",
         "uid": "c5e80a15-efa6-4c7e-a437-42d77ec45865",
         "x": [
          26.04883664430212,
          22.970264202187924
         ],
         "y": [
          -26.98946936849362,
          41.25496565373128
         ]
        },
        {
         "hoverinfo": "none",
         "line": {
          "color": "#888",
          "width": 0.35764896416762265
         },
         "mode": "lines",
         "type": "scatter",
         "uid": "60f3f229-2669-4a7e-9060-4c1ce40fd3b8",
         "x": [
          -21.098063272461193,
          -27.89948457696739
         ],
         "y": [
          10.377153035352139,
          36.130561798674854
         ]
        },
        {
         "hoverinfo": "none",
         "line": {
          "color": "#888",
          "width": 0.11809163911195088
         },
         "mode": "lines",
         "type": "scatter",
         "uid": "8d96e415-8aa9-4f02-b63f-e4620b338f35",
         "x": [
          6.392684892756951,
          65.45761297129408
         ],
         "y": [
          10.959439732331475,
          41.73067382151475
         ]
        },
        {
         "hoverinfo": "none",
         "line": {
          "color": "#888",
          "width": 0.11809163911195088
         },
         "mode": "lines",
         "type": "scatter",
         "uid": "eb58fa88-ab51-4cd9-98fa-a085b5f8ed9c",
         "x": [
          14.61861303267559,
          8.088513927051995
         ],
         "y": [
          -67.06300694191923,
          -76.13044404323009
         ]
        },
        {
         "hoverinfo": "none",
         "line": {
          "color": "#888",
          "width": 0.1889466225791214
         },
         "mode": "lines",
         "type": "scatter",
         "uid": "1182d9cf-0171-4033-bacb-4725cb49ec56",
         "x": [
          6.392684892756951,
          6.680120458727134
         ],
         "y": [
          10.959439732331475,
          40.395786066960625
         ]
        },
        {
         "hoverinfo": "none",
         "line": {
          "color": "#888",
          "width": 3.134489506714353
         },
         "mode": "lines",
         "type": "scatter",
         "uid": "f97c01e1-30ae-485e-9e5a-2db0d3f8f2cb",
         "x": [
          -27.89948457696739,
          22.970264202187924
         ],
         "y": [
          36.130561798674854,
          41.25496565373128
         ]
        },
        {
         "hoverinfo": "none",
         "line": {
          "color": "#888",
          "width": 0.134961873270801
         },
         "mode": "lines",
         "type": "scatter",
         "uid": "d62ef8c8-0f5c-4a73-bef7-c6f498415610",
         "x": [
          0.539401822122006,
          22.970264202187924
         ],
         "y": [
          73.48183680023092,
          41.25496565373128
         ]
        },
        {
         "hoverinfo": "none",
         "line": {
          "color": "#888",
          "width": 0.6883055536810851
         },
         "mode": "lines",
         "type": "scatter",
         "uid": "1c4ee9d0-df4b-4635-8b04-e3724245fb7b",
         "x": [
          -10.342592301858382,
          22.970264202187924
         ],
         "y": [
          16.023698691882426,
          41.25496565373128
         ]
        },
        {
         "hoverinfo": "none",
         "line": {
          "color": "#888",
          "width": 0.14170996693434104
         },
         "mode": "lines",
         "type": "scatter",
         "uid": "2b557564-0866-4d3e-a27d-6f438cba3211",
         "x": [
          -21.098063272461193,
          -36.722194461567994
         ],
         "y": [
          10.377153035352139,
          14.948487387529157
         ]
        },
        {
         "hoverinfo": "none",
         "line": {
          "color": "#888",
          "width": 0.3104123085228423
         },
         "mode": "lines",
         "type": "scatter",
         "uid": "5efc0308-620e-45c3-8e97-5adc1b621968",
         "x": [
          7.061613811578996,
          6.392684892756951
         ],
         "y": [
          52.36826728570741,
          10.959439732331475
         ]
        },
        {
         "hoverinfo": "none",
         "line": {
          "color": "#888",
          "width": 0.1079694986166408
         },
         "mode": "lines",
         "type": "scatter",
         "uid": "5322cdce-0f2c-41d2-ab2f-07d4262f1b89",
         "x": [
          0.539401822122006,
          6.392684892756951
         ],
         "y": [
          73.48183680023092,
          10.959439732331475
         ]
        },
        {
         "hoverinfo": "none",
         "line": {
          "color": "#888",
          "width": 0.2024428099062015
         },
         "mode": "lines",
         "type": "scatter",
         "uid": "69e063ae-0278-4687-901c-ad891dc77820",
         "x": [
          27.301667669154046,
          -27.89948457696739
         ],
         "y": [
          7.464008085107545,
          36.130561798674854
         ]
        },
        {
         "hoverinfo": "none",
         "line": {
          "color": "#888",
          "width": 0.1754504352520413
         },
         "mode": "lines",
         "type": "scatter",
         "uid": "a2ece6b9-b35b-4270-a048-38199edde159",
         "x": [
          26.04883664430212,
          18.28296144162177
         ],
         "y": [
          -26.98946936849362,
          -73.9162519462213
         ]
        },
        {
         "hoverinfo": "none",
         "line": {
          "color": "#888",
          "width": 0.4420001349618733
         },
         "mode": "lines",
         "type": "scatter",
         "uid": "7257ea67-dc05-4b21-9a80-cf4651e70bd9",
         "x": [
          -10.342592301858382,
          6.392684892756951
         ],
         "y": [
          16.023698691882426,
          10.959439732331475
         ]
        },
        {
         "hoverinfo": "none",
         "line": {
          "color": "#888",
          "width": 0.23955732505567176
         },
         "mode": "lines",
         "type": "scatter",
         "uid": "dd84a8f2-0ff9-4e7b-80dd-eee60f138443",
         "x": [
          6.392684892756951,
          -16.232482625361804
         ],
         "y": [
          10.959439732331475,
          -6.197712439492456
         ]
        },
        {
         "hoverinfo": "none",
         "line": {
          "color": "#888",
          "width": 0.19569471624266144
         },
         "mode": "lines",
         "type": "scatter",
         "uid": "d20b16ab-aae8-4376-92cc-5f02e807d370",
         "x": [
          30.410874480912618,
          18.28296144162177
         ],
         "y": [
          -66.12165564954499,
          -73.9162519462213
         ]
        },
        {
         "hoverinfo": "none",
         "line": {
          "color": "#888",
          "width": 0.1079694986166408
         },
         "mode": "lines",
         "type": "scatter",
         "uid": "5b793865-36dc-45af-bdc9-cb0d34440b63",
         "x": [
          -27.89948457696739,
          27.9776794079129
         ],
         "y": [
          36.130561798674854,
          22.296356984835096
         ]
        },
        {
         "hoverinfo": "none",
         "line": {
          "color": "#888",
          "width": 0.1079694986166408
         },
         "mode": "lines",
         "type": "scatter",
         "uid": "5d7d1ad4-6a8d-40eb-ae95-05be5d7f07f5",
         "x": [
          36.70895226265376,
          46.34394354940878
         ],
         "y": [
          -47.92449446809526,
          -48.88532365974822
         ]
        },
        {
         "hoverinfo": "none",
         "line": {
          "color": "#888",
          "width": 0.12821377960726094
         },
         "mode": "lines",
         "type": "scatter",
         "uid": "a8545b4c-266a-4899-895e-af8c67417edb",
         "x": [
          -13.421627723196826,
          -4.6694629540254065
         ],
         "y": [
          57.91529661507537,
          42.471632965890535
         ]
        },
        {
         "hoverinfo": "none",
         "line": {
          "color": "#888",
          "width": 0.15520615426142115
         },
         "mode": "lines",
         "type": "scatter",
         "uid": "e00cd7be-dece-4147-9663-5ac6b9e6bc2c",
         "x": [
          -41.09744453240488,
          -27.89948457696739
         ],
         "y": [
          3.435269971129419,
          36.130561798674854
         ]
        },
        {
         "hoverinfo": "none",
         "line": {
          "color": "#888",
          "width": 0.3441527768405426
         },
         "mode": "lines",
         "type": "scatter",
         "uid": "b7c8e778-342d-46ab-8e3c-64751ab842bd",
         "x": [
          -13.421627723196826,
          22.970264202187924
         ],
         "y": [
          57.91529661507537,
          41.25496565373128
         ]
        },
        {
         "hoverinfo": "none",
         "line": {
          "color": "#888",
          "width": 3.097374991564883
         },
         "mode": "lines",
         "type": "scatter",
         "uid": "6f33ed81-f51b-4548-b91a-7e1842688a1a",
         "x": [
          22.970264202187924,
          6.392684892756951
         ],
         "y": [
          41.25496565373128,
          10.959439732331475
         ]
        },
        {
         "hoverinfo": "none",
         "line": {
          "color": "#888",
          "width": 0.16532829475673122
         },
         "mode": "lines",
         "type": "scatter",
         "uid": "3fd8d92f-e363-43de-acc4-58ec1aeadf4a",
         "x": [
          -4.6694629540254065,
          26.04883664430212
         ],
         "y": [
          42.471632965890535,
          -26.98946936849362
         ]
        },
        {
         "hoverinfo": "none",
         "line": {
          "color": "#888",
          "width": 0.14170996693434104
         },
         "mode": "lines",
         "type": "scatter",
         "uid": "ce1d30ad-b15e-4e6a-b0e9-3abc1222117b",
         "x": [
          26.04883664430212,
          8.088513927051995
         ],
         "y": [
          -26.98946936849362,
          -76.13044404323009
         ]
        },
        {
         "hoverinfo": "none",
         "line": {
          "color": "#888",
          "width": 0.23955732505567176
         },
         "mode": "lines",
         "type": "scatter",
         "uid": "0b8ebf04-f6f1-44ac-9130-2149ab37518d",
         "x": [
          -16.232482625361804,
          6.392684892756951
         ],
         "y": [
          -6.197712439492456,
          10.959439732331475
         ]
        },
        {
         "hoverinfo": "none",
         "line": {
          "color": "#888",
          "width": 0.4858627437748836
         },
         "mode": "lines",
         "type": "scatter",
         "uid": "b92bd189-b7f9-4c6e-9921-e9c8c606030a",
         "x": [
          -10.342592301858382,
          -27.89948457696739
         ],
         "y": [
          16.023698691882426,
          36.130561798674854
         ]
        },
        {
         "hoverinfo": "none",
         "line": {
          "color": "#888",
          "width": 0.3407787300087725
         },
         "mode": "lines",
         "type": "scatter",
         "uid": "5043ddfc-43bf-44b9-937d-b5b928a2faf6",
         "x": [
          26.04883664430212,
          -10.342592301858382
         ],
         "y": [
          -26.98946936849362,
          16.023698691882426
         ]
        },
        {
         "hoverinfo": "none",
         "line": {
          "color": "#888",
          "width": 0.11134354544841082
         },
         "mode": "lines",
         "type": "scatter",
         "uid": "16f33911-d2b3-43f4-ae29-a4dba8f1a927",
         "x": [
          41.48956329693529,
          30.410874480912618
         ],
         "y": [
          -67.04180068602615,
          -66.12165564954499
         ]
        },
        {
         "hoverinfo": "none",
         "line": {
          "color": "#888",
          "width": 0.1754504352520413
         },
         "mode": "lines",
         "type": "scatter",
         "uid": "11ee52e9-cd88-4463-8272-2ecaafa55e60",
         "x": [
          6.392684892756951,
          27.301667669154046
         ],
         "y": [
          10.959439732331475,
          7.464008085107545
         ]
        },
        {
         "hoverinfo": "none",
         "line": {
          "color": "#888",
          "width": 0.11134354544841082
         },
         "mode": "lines",
         "type": "scatter",
         "uid": "dbf7ef8f-fa63-4547-b070-ef45a5705c61",
         "x": [
          30.410874480912618,
          41.48956329693529
         ],
         "y": [
          -66.12165564954499,
          -67.04180068602615
         ]
        },
        {
         "hoverinfo": "none",
         "line": {
          "color": "#888",
          "width": 0.18557257574735136
         },
         "mode": "lines",
         "type": "scatter",
         "uid": "e5b82e14-38a1-40ee-8c98-81b50fd0f468",
         "x": [
          22.970264202187924,
          -41.09744453240488
         ],
         "y": [
          41.25496565373128,
          3.435269971129419
         ]
        },
        {
         "hoverinfo": "none",
         "line": {
          "color": "#888",
          "width": 0.1214656859437209
         },
         "mode": "lines",
         "type": "scatter",
         "uid": "79f4692b-e453-4798-b0d4-54a9b3920acd",
         "x": [
          6.392684892756951,
          -41.09744453240488
         ],
         "y": [
          10.959439732331475,
          3.435269971129419
         ]
        },
        {
         "hoverinfo": "none",
         "line": {
          "color": "#888",
          "width": 0.13158782643903097
         },
         "mode": "lines",
         "type": "scatter",
         "uid": "17742f3e-41a9-4628-a76b-b056fff3bfda",
         "x": [
          -108.85245728809427,
          -111.39935060505506
         ],
         "y": [
          38.28534102351887,
          38.343839726736064
         ]
        },
        {
         "hoverinfo": "none",
         "line": {
          "color": "#888",
          "width": 0.11471759228018084
         },
         "mode": "lines",
         "type": "scatter",
         "uid": "5eaf6740-7b16-4a55-9923-55314dc16377",
         "x": [
          19.557051226682788,
          22.970264202187924
         ],
         "y": [
          -0.8609825480266313,
          41.25496565373128
         ]
        },
        {
         "hoverinfo": "none",
         "line": {
          "color": "#888",
          "width": 0.19906876307443147
         },
         "mode": "lines",
         "type": "scatter",
         "uid": "60329ba8-8719-4e9e-ae75-7c5dc43f60a6",
         "x": [
          6.392684892756951,
          -13.421627723196826
         ],
         "y": [
          10.959439732331475,
          57.91529661507537
         ]
        },
        {
         "hoverinfo": "none",
         "line": {
          "color": "#888",
          "width": 2.0547945205479454
         },
         "mode": "lines",
         "type": "scatter",
         "uid": "c691388c-78f6-4fc0-a0d9-01099a4d3e7a",
         "x": [
          6.392684892756951,
          -27.89948457696739
         ],
         "y": [
          10.959439732331475,
          36.130561798674854
         ]
        },
        {
         "hoverinfo": "none",
         "line": {
          "color": "#888",
          "width": 0.1214656859437209
         },
         "mode": "lines",
         "type": "scatter",
         "uid": "53ba445d-e8e0-4f8e-a876-0a7ad728bfd6",
         "x": [
          -10.342592301858382,
          -4.6694629540254065
         ],
         "y": [
          16.023698691882426,
          42.471632965890535
         ]
        },
        {
         "hoverinfo": "none",
         "line": {
          "color": "#888",
          "width": 0.1214656859437209
         },
         "mode": "lines",
         "type": "scatter",
         "uid": "13bb9e3f-dc9f-4782-977c-d4a6c9bd576e",
         "x": [
          83.70335502476684,
          26.04883664430212
         ],
         "y": [
          -25.802891173819347,
          -26.98946936849362
         ]
        },
        {
         "hoverinfo": "none",
         "line": {
          "color": "#888",
          "width": 0.12821377960726094
         },
         "mode": "lines",
         "type": "scatter",
         "uid": "0d5e64a1-f8e4-42ca-95ba-b1dbf793f207",
         "x": [
          -21.098063272461193,
          -6.259229705442365
         ],
         "y": [
          10.377153035352139,
          27.21996450374003
         ]
        },
        {
         "hoverinfo": "none",
         "line": {
          "color": "#888",
          "width": 0.13833592010257104
         },
         "mode": "lines",
         "type": "scatter",
         "uid": "20696302-f34f-4c00-bda1-e6bd876aa117",
         "x": [
          22.970264202187924,
          37.88296909748756
         ],
         "y": [
          41.25496565373128,
          32.62249022457843
         ]
        },
        {
         "hoverinfo": "none",
         "line": {
          "color": "#888",
          "width": 0.30366421485930223
         },
         "mode": "lines",
         "type": "scatter",
         "uid": "8b4704ec-d3a1-462c-8d6b-e91e41da72b8",
         "x": [
          26.04883664430212,
          14.61861303267559
         ],
         "y": [
          -26.98946936849362,
          -67.06300694191923
         ]
        },
        {
         "hoverinfo": "none",
         "line": {
          "color": "#888",
          "width": 0.3441527768405426
         },
         "mode": "lines",
         "type": "scatter",
         "uid": "de435fcc-b073-47b7-a171-1a3ec37a93c0",
         "x": [
          22.970264202187924,
          -13.421627723196826
         ],
         "y": [
          41.25496565373128,
          57.91529661507537
         ]
        },
        {
         "hoverinfo": "none",
         "line": {
          "color": "#888",
          "width": 0.12821377960726094
         },
         "mode": "lines",
         "type": "scatter",
         "uid": "84b0705e-0152-430d-acc1-f8442afe5e75",
         "x": [
          -4.6694629540254065,
          -13.421627723196826
         ],
         "y": [
          42.471632965890535,
          57.91529661507537
         ]
        },
        {
         "hoverinfo": "none",
         "line": {
          "color": "#888",
          "width": 0.18557257574735136
         },
         "mode": "lines",
         "type": "scatter",
         "uid": "fd4c9d29-b108-4f9f-bd4d-c86b9a299414",
         "x": [
          27.9776794079129,
          26.04883664430212
         ],
         "y": [
          22.296356984835096,
          -26.98946936849362
         ]
        },
        {
         "hoverinfo": "none",
         "line": {
          "color": "#888",
          "width": 0.1214656859437209
         },
         "mode": "lines",
         "type": "scatter",
         "uid": "c7e70ab3-6bb1-4b58-8359-b346b10c3a9d",
         "x": [
          26.04883664430212,
          83.70335502476684
         ],
         "y": [
          -26.98946936849362,
          -25.802891173819347
         ]
        },
        {
         "hoverinfo": "none",
         "line": {
          "color": "#888",
          "width": 0.14170996693434104
         },
         "mode": "lines",
         "type": "scatter",
         "uid": "9b60c443-d5ab-4f22-95d6-fabbde1327a5",
         "x": [
          8.088513927051995,
          26.04883664430212
         ],
         "y": [
          -76.13044404323009,
          -26.98946936849362
         ]
        },
        {
         "hoverinfo": "none",
         "line": {
          "color": "#888",
          "width": 0.35764896416762265
         },
         "mode": "lines",
         "type": "scatter",
         "uid": "e4cb6255-b865-49ea-ab2b-72777606eafe",
         "x": [
          -27.89948457696739,
          -21.098063272461193
         ],
         "y": [
          36.130561798674854,
          10.377153035352139
         ]
        },
        {
         "hoverinfo": "none",
         "line": {
          "color": "#888",
          "width": 0.4858627437748836
         },
         "mode": "lines",
         "type": "scatter",
         "uid": "02a8f32e-97c4-451d-856e-fe7973dc5497",
         "x": [
          -27.89948457696739,
          -10.342592301858382
         ],
         "y": [
          36.130561798674854,
          16.023698691882426
         ]
        },
        {
         "hoverinfo": "none",
         "line": {
          "color": "#888",
          "width": 0.3509008705040826
         },
         "mode": "lines",
         "type": "scatter",
         "uid": "1fc8514a-9a43-4b6c-817a-c2f7ee8c89f1",
         "x": [
          37.88296909748756,
          26.04883664430212
         ],
         "y": [
          32.62249022457843,
          -26.98946936849362
         ]
        },
        {
         "hoverinfo": "none",
         "line": {
          "color": "#888",
          "width": 0.6680612726904649
         },
         "mode": "lines",
         "type": "scatter",
         "uid": "e9ba4d53-7c58-4692-bcd8-b4ac776a1828",
         "x": [
          26.04883664430212,
          6.392684892756951
         ],
         "y": [
          -26.98946936849362,
          10.959439732331475
         ]
        },
        {
         "hoverinfo": "none",
         "line": {
          "color": "#888",
          "width": 0.15183210742965111
         },
         "mode": "lines",
         "type": "scatter",
         "uid": "c25e4621-3940-4a2a-a75d-cc02aeb3c86e",
         "x": [
          22.970264202187924,
          65.45761297129408
         ],
         "y": [
          41.25496565373128,
          41.73067382151475
         ]
        },
        {
         "hoverinfo": "none",
         "line": {
          "color": "#888",
          "width": 0.1079694986166408
         },
         "mode": "lines",
         "type": "scatter",
         "uid": "6813a637-d980-43a4-8cb4-27d24688558f",
         "x": [
          26.04883664430212,
          27.301667669154046
         ],
         "y": [
          -26.98946936849362,
          7.464008085107545
         ]
        },
        {
         "hoverinfo": "none",
         "line": {
          "color": "#888",
          "width": 0.14170996693434104
         },
         "mode": "lines",
         "type": "scatter",
         "uid": "afe9b717-26f7-4017-8a9d-82777428daf1",
         "x": [
          -36.722194461567994,
          -21.098063272461193
         ],
         "y": [
          14.948487387529157,
          10.377153035352139
         ]
        },
        {
         "hoverinfo": "none",
         "line": {
          "color": "#888",
          "width": 0.6545650853633849
         },
         "mode": "lines",
         "type": "scatter",
         "uid": "d948e7c3-f217-49ed-b9b9-6071676ebc73",
         "x": [
          -4.6694629540254065,
          6.392684892756951
         ],
         "y": [
          42.471632965890535,
          10.959439732331475
         ]
        },
        {
         "hoverinfo": "none",
         "line": {
          "color": "#888",
          "width": 0.1754504352520413
         },
         "mode": "lines",
         "type": "scatter",
         "uid": "1b834398-f3f3-4ffb-8a3d-4c259cb86cda",
         "x": [
          27.301667669154046,
          6.392684892756951
         ],
         "y": [
          7.464008085107545,
          10.959439732331475
         ]
        },
        {
         "hoverinfo": "none",
         "line": {
          "color": "#888",
          "width": 0.269923746541602
         },
         "mode": "lines",
         "type": "scatter",
         "uid": "db310cab-107f-4a51-9ccf-c35d6cfe2abe",
         "x": [
          30.410874480912618,
          26.04883664430212
         ],
         "y": [
          -66.12165564954499,
          -26.98946936849362
         ]
        },
        {
         "hoverinfo": "none",
         "line": {
          "color": "#888",
          "width": 0.11809163911195088
         },
         "mode": "lines",
         "type": "scatter",
         "uid": "e50e3525-4ac6-4ec3-aa77-2e7c06732f3f",
         "x": [
          8.088513927051995,
          14.61861303267559
         ],
         "y": [
          -76.13044404323009,
          -67.06300694191923
         ]
        },
        {
         "hoverinfo": "none",
         "line": {
          "color": "#888",
          "width": 0.11134354544841082
         },
         "mode": "lines",
         "type": "scatter",
         "uid": "4c82c67e-0c06-4fcf-bd2e-718fc291d196",
         "x": [
          26.04883664430212,
          49.18163113132337
         ],
         "y": [
          -26.98946936849362,
          -65.93204810800226
         ]
        },
        {
         "hoverinfo": "none",
         "line": {
          "color": "#888",
          "width": 0.15520615426142115
         },
         "mode": "lines",
         "type": "scatter",
         "uid": "b940a4c1-7a62-4af3-90cc-03353458248b",
         "x": [
          -27.89948457696739,
          -41.09744453240488
         ],
         "y": [
          36.130561798674854,
          3.435269971129419
         ]
        },
        {
         "hoverinfo": "none",
         "line": {
          "color": "#888",
          "width": 0.1079694986166408
         },
         "mode": "lines",
         "type": "scatter",
         "uid": "6c5b4dab-d31f-4b5d-bc9c-e73c2285c090",
         "x": [
          22.970264202187924,
          -41.09046600346163
         ],
         "y": [
          41.25496565373128,
          64.3187632716109
         ]
        },
        {
         "hoverinfo": "none",
         "line": {
          "color": "#888",
          "width": 0.2024428099062015
         },
         "mode": "lines",
         "type": "scatter",
         "uid": "cdfb89af-6ea4-4c24-9245-f98c97f4568e",
         "x": [
          -27.89948457696739,
          27.301667669154046
         ],
         "y": [
          36.130561798674854,
          7.464008085107545
         ]
        },
        {
         "hoverinfo": "none",
         "line": {
          "color": "#888",
          "width": 0.2024428099062015
         },
         "mode": "lines",
         "type": "scatter",
         "uid": "afbe583d-5090-42dc-8352-c30539e75612",
         "x": [
          -21.098063272461193,
          -10.342592301858382
         ],
         "y": [
          10.377153035352139,
          16.023698691882426
         ]
        },
        {
         "hoverinfo": "none",
         "line": {
          "color": "#888",
          "width": 0.20919090356974154
         },
         "mode": "lines",
         "type": "scatter",
         "uid": "71948c74-ae34-4c82-924f-4f4c7aa1254c",
         "x": [
          8.088513927051995,
          18.28296144162177
         ],
         "y": [
          -76.13044404323009,
          -73.9162519462213
         ]
        },
        {
         "hoverinfo": "none",
         "line": {
          "color": "#888",
          "width": 0.11134354544841082
         },
         "mode": "lines",
         "type": "scatter",
         "uid": "5d383594-6a39-4222-b774-3bcf6f264b99",
         "x": [
          49.18163113132337,
          26.04883664430212
         ],
         "y": [
          -65.93204810800226,
          -26.98946936849362
         ]
        },
        {
         "hoverinfo": "none",
         "line": {
          "color": "#888",
          "width": 0.3509008705040826
         },
         "mode": "lines",
         "type": "scatter",
         "uid": "b3ffa4cf-3dd1-4620-93be-b7ca1a8275d2",
         "x": [
          26.04883664430212,
          37.88296909748756
         ],
         "y": [
          -26.98946936849362,
          32.62249022457843
         ]
        },
        {
         "hoverinfo": "none",
         "line": {
          "color": "#888",
          "width": 0.10122140495310075
         },
         "mode": "lines",
         "type": "scatter",
         "uid": "07bb1ab3-35f0-41e9-a4c8-f4afa96d785b",
         "x": [
          14.61861303267559,
          30.410874480912618
         ],
         "y": [
          -67.06300694191923,
          -66.12165564954499
         ]
        },
        {
         "hoverinfo": "none",
         "line": {
          "color": "#888",
          "width": 0.1214656859437209
         },
         "mode": "lines",
         "type": "scatter",
         "uid": "2ec5dd83-c9ca-45b7-abba-38cb2b25f6af",
         "x": [
          -41.09744453240488,
          6.392684892756951
         ],
         "y": [
          3.435269971129419,
          10.959439732331475
         ]
        },
        {
         "hoverinfo": "none",
         "line": {
          "color": "#888",
          "width": 0.19906876307443147
         },
         "mode": "lines",
         "type": "scatter",
         "uid": "399b608a-d39b-4e7f-826c-b5894ec069c7",
         "x": [
          6.392684892756951,
          27.9776794079129
         ],
         "y": [
          10.959439732331475,
          22.296356984835096
         ]
        },
        {
         "hoverinfo": "none",
         "line": {
          "color": "#888",
          "width": 0.14170996693434104
         },
         "mode": "lines",
         "type": "scatter",
         "uid": "5839024d-66c2-4859-bdce-ef6f23b015f1",
         "x": [
          7.061613811578996,
          -4.6694629540254065
         ],
         "y": [
          52.36826728570741,
          42.471632965890535
         ]
        },
        {
         "hoverinfo": "none",
         "line": {
          "color": "#888",
          "width": 0.134961873270801
         },
         "mode": "lines",
         "type": "scatter",
         "uid": "5ceac030-c80f-418c-b1c8-418ff8c7da93",
         "x": [
          -4.6694629540254065,
          6.680120458727134
         ],
         "y": [
          42.471632965890535,
          40.395786066960625
         ]
        },
        {
         "hoverinfo": "none",
         "line": {
          "color": "#888",
          "width": 0.2058168567379715
         },
         "mode": "lines",
         "type": "scatter",
         "uid": "6ed5f406-0c69-4292-8a3f-7313538fbc6a",
         "x": [
          -16.232482625361804,
          -27.89948457696739
         ],
         "y": [
          -6.197712439492456,
          36.130561798674854
         ]
        },
        {
         "hoverinfo": "none",
         "line": {
          "color": "#888",
          "width": 0.19906876307443147
         },
         "mode": "lines",
         "type": "scatter",
         "uid": "321947e3-891b-449b-b564-4cf052b2a46e",
         "x": [
          -27.89948457696739,
          6.680120458727134
         ],
         "y": [
          36.130561798674854,
          40.395786066960625
         ]
        },
        {
         "hoverinfo": "none",
         "line": {
          "color": "#888",
          "width": 0.1079694986166408
         },
         "mode": "lines",
         "type": "scatter",
         "uid": "509252fa-a414-400b-9036-166ca25b9207",
         "x": [
          46.34394354940878,
          36.70895226265376
         ],
         "y": [
          -48.88532365974822,
          -47.92449446809526
         ]
        },
        {
         "hoverinfo": "none",
         "line": {
          "color": "#888",
          "width": 0.10122140495310075
         },
         "mode": "lines",
         "type": "scatter",
         "uid": "75ab2b43-dfbc-4125-a6dc-d54c3345a25b",
         "x": [
          32.36436107596362,
          30.410874480912618
         ],
         "y": [
          -83.39837832724007,
          -66.12165564954499
         ]
        },
        {
         "hoverinfo": "none",
         "line": {
          "color": "#888",
          "width": 0.3239084958499224
         },
         "mode": "lines",
         "type": "scatter",
         "uid": "0e827944-fa21-4841-812c-7c089848fd6c",
         "x": [
          7.061613811578996,
          22.970264202187924
         ],
         "y": [
          52.36826728570741,
          41.25496565373128
         ]
        },
        {
         "hoverinfo": "none",
         "line": {
          "color": "#888",
          "width": 0.3441527768405426
         },
         "mode": "lines",
         "type": "scatter",
         "uid": "f94f0295-e3d2-499e-a06b-edbb1e5aa2bf",
         "x": [
          -16.232482625361804,
          22.970264202187924
         ],
         "y": [
          -6.197712439492456,
          41.25496565373128
         ]
        },
        {
         "hoverinfo": "none",
         "line": {
          "color": "#888",
          "width": 0.2834199338686821
         },
         "mode": "lines",
         "type": "scatter",
         "uid": "7fc1364e-b3b3-452a-b556-ddfe73046482",
         "x": [
          22.970264202187924,
          6.680120458727134
         ],
         "y": [
          41.25496565373128,
          40.395786066960625
         ]
        },
        {
         "hoverinfo": "none",
         "line": {
          "color": "#888",
          "width": 0.28679398070045214
         },
         "mode": "lines",
         "type": "scatter",
         "uid": "e17c0b81-9600-46f8-8cdd-4a15d5b737d0",
         "x": [
          6.392684892756951,
          -21.098063272461193
         ],
         "y": [
          10.959439732331475,
          10.377153035352139
         ]
        },
        {
         "hoverinfo": "none",
         "line": {
          "color": "#888",
          "width": 0.2294351845603617
         },
         "mode": "lines",
         "type": "scatter",
         "uid": "93fc62d1-e2bf-4021-a19a-5407f573030f",
         "x": [
          22.970264202187924,
          27.301667669154046
         ],
         "y": [
          41.25496565373128,
          7.464008085107545
         ]
        },
        {
         "hoverinfo": "none",
         "line": {
          "color": "#888",
          "width": 0.1889466225791214
         },
         "mode": "lines",
         "type": "scatter",
         "uid": "56bfc7cd-671b-4d85-8099-470a05b1d13d",
         "x": [
          27.9776794079129,
          22.970264202187924
         ],
         "y": [
          22.296356984835096,
          41.25496565373128
         ]
        },
        {
         "hoverinfo": "none",
         "line": {
          "color": "#888",
          "width": 0.4318779944665632
         },
         "mode": "lines",
         "type": "scatter",
         "uid": "a42dace9-06e0-4bac-84ec-7b57ecf52ee0",
         "x": [
          -21.098063272461193,
          22.970264202187924
         ],
         "y": [
          10.377153035352139,
          41.25496565373128
         ]
        },
        {
         "hoverinfo": "none",
         "line": {
          "color": "#888",
          "width": 0.18219852891558136
         },
         "mode": "lines",
         "type": "scatter",
         "uid": "24892ef5-d55d-4adc-beb8-d0b003e4bd80",
         "x": [
          -6.259229705442365,
          22.970264202187924
         ],
         "y": [
          27.21996450374003,
          41.25496565373128
         ]
        },
        {
         "hoverinfo": "none",
         "line": {
          "color": "#888",
          "width": 0.3441527768405426
         },
         "mode": "lines",
         "type": "scatter",
         "uid": "1a7a33f1-63e1-44e5-9a1e-a469c8e84db8",
         "x": [
          22.970264202187924,
          -16.232482625361804
         ],
         "y": [
          41.25496565373128,
          -6.197712439492456
         ]
        },
        {
         "hoverinfo": "none",
         "line": {
          "color": "#888",
          "width": 0.11134354544841082
         },
         "mode": "lines",
         "type": "scatter",
         "uid": "84109a08-d024-4188-b92b-35674208e705",
         "x": [
          -27.89948457696739,
          0.539401822122006
         ],
         "y": [
          36.130561798674854,
          73.48183680023092
         ]
        },
        {
         "hoverinfo": "none",
         "line": {
          "color": "#888",
          "width": 3.134489506714353
         },
         "mode": "lines",
         "type": "scatter",
         "uid": "d7716043-c1de-433a-bba2-402011528b93",
         "x": [
          22.970264202187924,
          -27.89948457696739
         ],
         "y": [
          41.25496565373128,
          36.130561798674854
         ]
        },
        {
         "hoverinfo": "none",
         "line": {
          "color": "#888",
          "width": 0.7186719751670153
         },
         "mode": "lines",
         "type": "scatter",
         "uid": "d9ce101b-802d-4534-b056-94ecb107842e",
         "x": [
          26.04883664430212,
          -27.89948457696739
         ],
         "y": [
          -26.98946936849362,
          36.130561798674854
         ]
        },
        {
         "hoverinfo": "none",
         "line": {
          "color": "#888",
          "width": 0.18219852891558136
         },
         "mode": "lines",
         "type": "scatter",
         "uid": "5b391580-bf37-4e76-858f-b9bf9e43f5a7",
         "x": [
          36.70895226265376,
          30.410874480912618
         ],
         "y": [
          -47.92449446809526,
          -66.12165564954499
         ]
        },
        {
         "hoverinfo": "none",
         "line": {
          "color": "#888",
          "width": 0.19569471624266144
         },
         "mode": "lines",
         "type": "scatter",
         "uid": "5de87e91-dbaf-41a2-ae1f-631797dbccf5",
         "x": [
          18.28296144162177,
          30.410874480912618
         ],
         "y": [
          -73.9162519462213,
          -66.12165564954499
         ]
        },
        {
         "hoverinfo": "none",
         "line": {
          "color": "#888",
          "width": 1.7072676968756326
         },
         "mode": "lines",
         "type": "scatter",
         "uid": "a9f0364e-02f0-4425-ad39-5a9908a7bc35",
         "x": [
          22.970264202187924,
          -4.6694629540254065
         ],
         "y": [
          41.25496565373128,
          42.471632965890535
         ]
        },
        {
         "hoverinfo": "none",
         "line": {
          "color": "#888",
          "width": 0.1079694986166408
         },
         "mode": "lines",
         "type": "scatter",
         "uid": "acd606c1-8aa2-490f-84cd-a2277aa6fded",
         "x": [
          -41.09046600346163,
          22.970264202187924
         ],
         "y": [
          64.3187632716109,
          41.25496565373128
         ]
        },
        {
         "hoverinfo": "none",
         "line": {
          "color": "#888",
          "width": 0.6680612726904649
         },
         "mode": "lines",
         "type": "scatter",
         "uid": "06ff0800-fa93-4624-ab4e-efc4191dfdef",
         "x": [
          6.392684892756951,
          26.04883664430212
         ],
         "y": [
          10.959439732331475,
          -26.98946936849362
         ]
        },
        {
         "hoverinfo": "none",
         "line": {
          "color": "#888",
          "width": 0.19906876307443147
         },
         "mode": "lines",
         "type": "scatter",
         "uid": "0e1be75b-d253-47b8-83e3-26d4a594c130",
         "x": [
          41.48956329693529,
          49.18163113132337
         ],
         "y": [
          -67.04180068602615,
          -65.93204810800226
         ]
        },
        {
         "hoverinfo": "none",
         "line": {
          "color": "#888",
          "width": 0.22268709089682165
         },
         "mode": "lines",
         "type": "scatter",
         "uid": "0bcc84e8-8c7c-4ed7-9455-6342f194d856",
         "x": [
          26.04883664430212,
          -21.098063272461193
         ],
         "y": [
          -26.98946936849362,
          10.377153035352139
         ]
        },
        {
         "hoverinfo": "none",
         "line": {
          "color": "#888",
          "width": 0.3239084958499224
         },
         "mode": "lines",
         "type": "scatter",
         "uid": "1b8f0307-a3a0-4610-a7f4-bd62894c162c",
         "x": [
          22.970264202187924,
          7.061613811578996
         ],
         "y": [
          41.25496565373128,
          52.36826728570741
         ]
        },
        {
         "hoverinfo": "none",
         "line": {
          "color": "#888",
          "width": 0.1214656859437209
         },
         "mode": "lines",
         "type": "scatter",
         "uid": "7724ae26-807d-4fdb-a007-59b62b3f68dc",
         "x": [
          -4.6694629540254065,
          -10.342592301858382
         ],
         "y": [
          42.471632965890535,
          16.023698691882426
         ]
        },
        {
         "hoverinfo": "none",
         "line": {
          "color": "#888",
          "width": 0.12821377960726094
         },
         "mode": "lines",
         "type": "scatter",
         "uid": "bc79a939-5cc2-4ab3-aea4-39671c736428",
         "x": [
          -6.259229705442365,
          -21.098063272461193
         ],
         "y": [
          27.21996450374003,
          10.377153035352139
         ]
        },
        {
         "hoverinfo": "none",
         "line": {
          "color": "#888",
          "width": 0.1079694986166408
         },
         "mode": "lines",
         "type": "scatter",
         "uid": "26ecc10a-4a39-40e1-8b4b-5a876bd5c0ff",
         "x": [
          27.301667669154046,
          26.04883664430212
         ],
         "y": [
          7.464008085107545,
          -26.98946936849362
         ]
        },
        {
         "hoverinfo": "none",
         "line": {
          "color": "#888",
          "width": 0.2024428099062015
         },
         "mode": "lines",
         "type": "scatter",
         "uid": "692419ec-a578-4772-be49-255f1c3afed2",
         "x": [
          -10.342592301858382,
          -21.098063272461193
         ],
         "y": [
          16.023698691882426,
          10.377153035352139
         ]
        },
        {
         "hoverinfo": "none",
         "line": {
          "color": "#888",
          "width": 0.2834199338686821
         },
         "mode": "lines",
         "type": "scatter",
         "uid": "42a7efec-d4b1-48f6-8b11-1d98f8181820",
         "x": [
          6.680120458727134,
          22.970264202187924
         ],
         "y": [
          40.395786066960625,
          41.25496565373128
         ]
        },
        {
         "hoverinfo": "none",
         "line": {
          "color": "#888",
          "width": 0.18557257574735136
         },
         "mode": "lines",
         "type": "scatter",
         "uid": "90501e33-853f-4d54-987f-795579a6196b",
         "x": [
          -41.09744453240488,
          22.970264202187924
         ],
         "y": [
          3.435269971129419,
          41.25496565373128
         ]
        },
        {
         "hoverinfo": "none",
         "line": {
          "color": "#888",
          "width": 0.19906876307443147
         },
         "mode": "lines",
         "type": "scatter",
         "uid": "28af98da-85a1-463f-94c5-f09524144311",
         "x": [
          49.18163113132337,
          41.48956329693529
         ],
         "y": [
          -65.93204810800226,
          -67.04180068602615
         ]
        },
        {
         "hoverinfo": "none",
         "line": {
          "color": "#888",
          "width": 0.14170996693434104
         },
         "mode": "lines",
         "type": "scatter",
         "uid": "68d82da2-4015-4e83-b45f-400b27071a7d",
         "x": [
          -4.6694629540254065,
          7.061613811578996
         ],
         "y": [
          42.471632965890535,
          52.36826728570741
         ]
        },
        {
         "hoverinfo": "none",
         "line": {
          "color": "#888",
          "width": 3.097374991564883
         },
         "mode": "lines",
         "type": "scatter",
         "uid": "9d2b5fad-67ca-4ff7-b3e0-56f0b38ca3c1",
         "x": [
          6.392684892756951,
          22.970264202187924
         ],
         "y": [
          10.959439732331475,
          41.25496565373128
         ]
        },
        {
         "hoverinfo": "none",
         "line": {
          "color": "#888",
          "width": 0.20919090356974154
         },
         "mode": "lines",
         "type": "scatter",
         "uid": "f83c1567-ff67-41cf-a867-27434d156e93",
         "x": [
          18.28296144162177,
          8.088513927051995
         ],
         "y": [
          -73.9162519462213,
          -76.13044404323009
         ]
        },
        {
         "hoverinfo": "none",
         "line": {
          "color": "#888",
          "width": 0.1484580605978811
         },
         "mode": "lines",
         "type": "scatter",
         "uid": "7d579a58-847a-4b81-a8fb-ee99aad7963c",
         "x": [
          18.28296144162177,
          14.61861303267559
         ],
         "y": [
          -73.9162519462213,
          -67.06300694191923
         ]
        },
        {
         "hoverinfo": "none",
         "line": {
          "color": "#888",
          "width": 0.18219852891558136
         },
         "mode": "lines",
         "type": "scatter",
         "uid": "2c2330d9-5581-47d2-813d-8ffdcbbdcaf7",
         "x": [
          22.970264202187924,
          -6.259229705442365
         ],
         "y": [
          41.25496565373128,
          27.21996450374003
         ]
        },
        {
         "hoverinfo": "none",
         "line": {
          "color": "#888",
          "width": 0.4420001349618733
         },
         "mode": "lines",
         "type": "scatter",
         "uid": "7e3fd11d-da61-4622-9f84-7ee6617f583b",
         "x": [
          6.392684892756951,
          -10.342592301858382
         ],
         "y": [
          10.959439732331475,
          16.023698691882426
         ]
        },
        {
         "hoverinfo": "none",
         "line": {
          "color": "#888",
          "width": 0.10122140495310075
         },
         "mode": "lines",
         "type": "scatter",
         "uid": "13ab469c-09a4-42c0-9603-28e620040623",
         "x": [
          30.410874480912618,
          32.36436107596362
         ],
         "y": [
          -66.12165564954499,
          -83.39837832724007
         ]
        },
        {
         "hoverinfo": "none",
         "line": {
          "color": "#888",
          "width": 0.13158782643903097
         },
         "mode": "lines",
         "type": "scatter",
         "uid": "9a5c9c6c-b850-4d12-89d2-9510b68c09f2",
         "x": [
          -6.259229705442365,
          6.392684892756951
         ],
         "y": [
          27.21996450374003,
          10.959439732331475
         ]
        },
        {
         "hoverinfo": "none",
         "line": {
          "color": "#888",
          "width": 0.8806262230919765
         },
         "mode": "lines",
         "type": "scatter",
         "uid": "a80b3aba-a83e-483b-8195-3697a6fbc264",
         "x": [
          -4.6694629540254065,
          -27.89948457696739
         ],
         "y": [
          42.471632965890535,
          36.130561798674854
         ]
        },
        {
         "hoverinfo": "none",
         "line": {
          "color": "#888",
          "width": 0.19906876307443147
         },
         "mode": "lines",
         "type": "scatter",
         "uid": "cd88c86c-b17a-47f3-9e95-796f660d5fc5",
         "x": [
          6.680120458727134,
          -27.89948457696739
         ],
         "y": [
          40.395786066960625,
          36.130561798674854
         ]
        },
        {
         "hoverinfo": "none",
         "line": {
          "color": "#888",
          "width": 0.2058168567379715
         },
         "mode": "lines",
         "type": "scatter",
         "uid": "3e2d80e7-94fa-4d9e-bc40-bcaa1e903ffe",
         "x": [
          -27.89948457696739,
          -16.232482625361804
         ],
         "y": [
          36.130561798674854,
          -6.197712439492456
         ]
        },
        {
         "hoverinfo": "none",
         "line": {
          "color": "#888",
          "width": 0.269923746541602
         },
         "mode": "lines",
         "type": "scatter",
         "uid": "f6044f76-dfec-4b56-8bcd-0e3360ad6a60",
         "x": [
          26.04883664430212,
          30.410874480912618
         ],
         "y": [
          -26.98946936849362,
          -66.12165564954499
         ]
        },
        {
         "hoverinfo": "none",
         "line": {
          "color": "#888",
          "width": 0.1214656859437209
         },
         "mode": "lines",
         "type": "scatter",
         "uid": "ab4f8ab7-21d7-44d4-b8ed-ac80d8ddf28b",
         "x": [
          -27.89948457696739,
          -6.259229705442365
         ],
         "y": [
          36.130561798674854,
          27.21996450374003
         ]
        },
        {
         "hoverinfo": "none",
         "line": {
          "color": "#888",
          "width": 0.11134354544841082
         },
         "mode": "lines",
         "type": "scatter",
         "uid": "c133cc7d-51cd-47c7-9d88-bcf4974a6a6f",
         "x": [
          6.392684892756951,
          -36.722194461567994
         ],
         "y": [
          10.959439732331475,
          14.948487387529157
         ]
        },
        {
         "hoverinfo": "none",
         "line": {
          "color": "#888",
          "width": 0.10122140495310075
         },
         "mode": "lines",
         "type": "scatter",
         "uid": "c80abaff-03f6-46a1-aef0-11e4828a3241",
         "x": [
          -6.259229705442365,
          -10.342592301858382
         ],
         "y": [
          27.21996450374003,
          16.023698691882426
         ]
        },
        {
         "hoverinfo": "none",
         "line": {
          "color": "#888",
          "width": 0.10122140495310075
         },
         "mode": "lines",
         "type": "scatter",
         "uid": "a88e178f-21ad-468e-a2fb-6789359a2c28",
         "x": [
          30.410874480912618,
          14.61861303267559
         ],
         "y": [
          -66.12165564954499,
          -67.06300694191923
         ]
        },
        {
         "hoverinfo": "none",
         "line": {
          "color": "#888",
          "width": 0.16532829475673122
         },
         "mode": "lines",
         "type": "scatter",
         "uid": "48e1c4cb-0248-4422-9b8a-817c55921e22",
         "x": [
          26.04883664430212,
          -4.6694629540254065
         ],
         "y": [
          -26.98946936849362,
          42.471632965890535
         ]
        },
        {
         "hoverinfo": "none",
         "line": {
          "color": "#888",
          "width": 0.1079694986166408
         },
         "mode": "lines",
         "type": "scatter",
         "uid": "885706d0-8dab-4861-af55-19d13ee4fecb",
         "x": [
          6.392684892756951,
          0.539401822122006
         ],
         "y": [
          10.959439732331475,
          73.48183680023092
         ]
        },
        {
         "hoverinfo": "none",
         "line": {
          "color": "#888",
          "width": 0.25980160604629193
         },
         "mode": "lines",
         "type": "scatter",
         "uid": "6bf1175f-cab5-4042-b080-bba4cb25ce3b",
         "x": [
          -13.421627723196826,
          -27.89948457696739
         ],
         "y": [
          57.91529661507537,
          36.130561798674854
         ]
        },
        {
         "hoverinfo": "none",
         "line": {
          "color": "#888",
          "width": 0.18219852891558136
         },
         "mode": "lines",
         "type": "scatter",
         "uid": "75209480-5e71-42e6-a117-bed21c6d905d",
         "x": [
          30.410874480912618,
          36.70895226265376
         ],
         "y": [
          -66.12165564954499,
          -47.92449446809526
         ]
        },
        {
         "hoverinfo": "none",
         "line": {
          "color": "#888",
          "width": 0.23618327822390175
         },
         "mode": "lines",
         "type": "scatter",
         "uid": "85f6e791-ed60-4b40-94ef-5acf791045a2",
         "x": [
          -27.89948457696739,
          7.061613811578996
         ],
         "y": [
          36.130561798674854,
          52.36826728570741
         ]
        },
        {
         "hoverinfo": "none",
         "line": {
          "color": "#888",
          "width": 0.11134354544841082
         },
         "mode": "lines",
         "type": "scatter",
         "uid": "c606b0eb-2fde-415c-bdc8-4041e1abdac3",
         "x": [
          0.539401822122006,
          -27.89948457696739
         ],
         "y": [
          73.48183680023092,
          36.130561798674854
         ]
        },
        {
         "hoverinfo": "none",
         "line": {
          "color": "#888",
          "width": 0.30366421485930223
         },
         "mode": "lines",
         "type": "scatter",
         "uid": "e0d695a4-f1b7-420b-bed1-a20d1b447808",
         "x": [
          14.61861303267559,
          26.04883664430212
         ],
         "y": [
          -67.06300694191923,
          -26.98946936849362
         ]
        },
        {
         "hoverinfo": "text",
         "marker": {
          "size": [
           0.283423121478299,
           0.5229831408230518,
           0.7906605333303341,
           0.319413359126337,
           0.08660150934059137,
           0.23843532441825155,
           0.48136942854250786,
           0.7929099231833365,
           24.5509655505944,
           10.375310696973447,
           0.27667495191929187,
           0.3025429352288192,
           0.18894874765219935,
           0.26205391787477644,
           9.33609258488635,
           0.6793157356067167,
           10.023281184978574,
           0.934621483922486,
           0.6669440914152036,
           0.22381429037373612,
           0.7445480413437855,
           1.1370665706926997,
           0.8941324665684434,
           0.1675795440486768,
           0.16083137448966967,
           1.067335485249626,
           0.27667495191929187,
           0.16645484912217562,
           0.6883132950187262,
           18.298786454174305,
           2.52156602521566,
           3.04229977618571,
           0.9638635520115169,
           0.46674839449799244
          ],
          "sizemin": 4,
          "sizemode": "area",
          "sizeref": 0.030688706938243004
         },
         "mode": "markers+text",
         "text": [
          "forum.doctissimo.fr (0.28%)",
          "www.elle.fr (0.52%)",
          "www.showbizzsite.be (0.79%)",
          "www.marieclaire.fr (0.32%)",
          "people.bfmtv.com (0.09%)",
          "parismatch.be (0.24%)",
          "www.lemonde.fr (0.48%)",
          "www.doctissimo.fr (0.79%)",
          "www.dhnet.be (24.55%)",
          "www.rtbf.be (10.38%)",
          "www.bfmtv.com (0.28%)",
          "rmcsport.bfmtv.com (0.30%)",
          "stubru.be (0.19%)",
          "www.logic-immo.be (0.26%)",
          "sporza.be (9.34%)",
          "www.9lives.be (0.68%)",
          "www.lalibre.be (10.02%)",
          "www.een.be (0.93%)",
          "www.elle.be (0.67%)",
          "www.magicmaman.com (0.22%)",
          "dagelijksekost.een.be (0.74%)",
          "www.goudengids.be (1.14%)",
          "www.moniteurautomobile.be (0.89%)",
          "www.cosmopolitan.fr (0.17%)",
          "radioplus.be (0.16%)",
          "www.pagesdor.be (1.07%)",
          "radio2.be (0.28%)",
          "www.psychologies.com (0.17%)",
          "njam.tv (0.69%)",
          "www.immoweb.be (18.30%)",
          "lessportsplus.dhnet.be (2.52%)",
          "www.zita.be (3.04%)",
          "www.autogids.be (0.96%)",
          "www.01net.com (0.47%)"
         ],
         "textfont": {
          "color": "Green",
          "family": "sans serif",
          "size": 18
         },
         "textposition": "bottom center",
         "type": "scatter",
         "uid": "f0ebaa0f-25e5-4534-a70c-4ae4e5f4a78d",
         "x": [
          -36.722194461567994,
          27.301667669154046,
          8.088513927051995,
          -41.09744453240488,
          -41.09046600346163,
          7.061613811578996,
          19.557051226682788,
          -21.098063272461193,
          22.970264202187924,
          -27.89948457696739,
          -16.232482625361804,
          6.680120458727134,
          -108.85245728809427,
          37.88296909748756,
          30.410874480912618,
          83.70335502476684,
          6.392684892756951,
          36.70895226265376,
          27.9776794079129,
          -6.259229705442365,
          41.48956329693529,
          14.61861303267559,
          -13.421627723196826,
          43.179810646949306,
          -111.39935060505506,
          -10.342592301858382,
          46.34394354940878,
          0.539401822122006,
          49.18163113132337,
          26.04883664430212,
          -4.6694629540254065,
          18.28296144162177,
          32.36436107596362,
          65.45761297129408
         ],
         "y": [
          14.948487387529157,
          7.464008085107545,
          -76.13044404323009,
          3.435269971129419,
          64.3187632716109,
          52.36826728570741,
          -0.8609825480266313,
          10.377153035352139,
          41.25496565373128,
          36.130561798674854,
          -6.197712439492456,
          40.395786066960625,
          38.28534102351887,
          32.62249022457843,
          -66.12165564954499,
          -25.802891173819347,
          10.959439732331475,
          -47.92449446809526,
          22.296356984835096,
          27.21996450374003,
          -67.04180068602615,
          -67.06300694191923,
          57.91529661507537,
          97.33343795871183,
          38.343839726736064,
          16.023698691882426,
          -48.88532365974822,
          73.48183680023092,
          -65.93204810800226,
          -26.98946936849362,
          42.471632965890535,
          -73.9162519462213,
          -83.39837832724007,
          41.73067382151475
         ]
        }
       ],
       "layout": {
        "height": 1500,
        "hovermode": "closest",
        "margin": {
         "b": 200,
         "l": 200,
         "pad": 4,
         "r": 200,
         "t": 200
        },
        "showlegend": false,
        "title": {
         "font": {
          "size": 16
         },
         "text": "Domains visited together"
        },
        "width": 2500,
        "xaxis": {
         "showgrid": false,
         "showticklabels": false,
         "zeroline": false
        },
        "yaxis": {
         "showgrid": false,
         "showticklabels": false,
         "zeroline": false
        }
       }
      },
      "text/html": [
       "<div>\n",
       "        \n",
       "        \n",
       "            <div id=\"85b8845f-b03d-4890-986f-357c5e71f10f\" class=\"plotly-graph-div\" style=\"height:1500px; width:2500px;\"></div>\n",
       "            <script type=\"text/javascript\">\n",
       "                require([\"plotly\"], function(Plotly) {\n",
       "                    window.PLOTLYENV=window.PLOTLYENV || {};\n",
       "                    window.PLOTLYENV.BASE_URL='https://plot.ly';\n",
       "                    \n",
       "                if (document.getElementById(\"85b8845f-b03d-4890-986f-357c5e71f10f\")) {\n",
       "                    Plotly.newPlot(\n",
       "                        '85b8845f-b03d-4890-986f-357c5e71f10f',\n",
       "                        [{\"hoverinfo\": \"none\", \"line\": {\"color\": \"#888\", \"width\": 0.1214656859437209}, \"mode\": \"lines\", \"type\": \"scatter\", \"uid\": \"5dd3c748-34b9-488f-ab89-57176c286c06\", \"x\": [-6.259229705442365, -27.89948457696739], \"y\": [27.21996450374003, 36.130561798674854]}, {\"hoverinfo\": \"none\", \"line\": {\"color\": \"#888\", \"width\": 0.10122140495310075}, \"mode\": \"lines\", \"type\": \"scatter\", \"uid\": \"5918c7e8-7efb-49c8-adf2-268e74b6c68a\", \"x\": [36.70895226265376, 26.04883664430212], \"y\": [-47.92449446809526, -26.98946936849362]}, {\"hoverinfo\": \"none\", \"line\": {\"color\": \"#888\", \"width\": 0.7186719751670153}, \"mode\": \"lines\", \"type\": \"scatter\", \"uid\": \"ffbfc16b-59f0-43d3-a67f-3b28208aa598\", \"x\": [-27.89948457696739, 26.04883664430212], \"y\": [36.130561798674854, -26.98946936849362]}, {\"hoverinfo\": \"none\", \"line\": {\"color\": \"#888\", \"width\": 2.0547945205479454}, \"mode\": \"lines\", \"type\": \"scatter\", \"uid\": \"6efa9bb2-e95e-46b1-909b-3f7bc7aee6f4\", \"x\": [-27.89948457696739, 6.392684892756951], \"y\": [36.130561798674854, 10.959439732331475]}, {\"hoverinfo\": \"none\", \"line\": {\"color\": \"#888\", \"width\": 0.1889466225791214}, \"mode\": \"lines\", \"type\": \"scatter\", \"uid\": \"11804014-980f-49ff-b05d-601b5c61ed10\", \"x\": [6.680120458727134, 6.392684892756951], \"y\": [40.395786066960625, 10.959439732331475]}, {\"hoverinfo\": \"none\", \"line\": {\"color\": \"#888\", \"width\": 0.18557257574735136}, \"mode\": \"lines\", \"type\": \"scatter\", \"uid\": \"120e92c6-6f64-459c-aae9-2cc1426d2dde\", \"x\": [26.04883664430212, 27.9776794079129], \"y\": [-26.98946936849362, 22.296356984835096]}, {\"hoverinfo\": \"none\", \"line\": {\"color\": \"#888\", \"width\": 0.23618327822390175}, \"mode\": \"lines\", \"type\": \"scatter\", \"uid\": \"77cbf028-65a6-45b4-acc1-45ad10cc499c\", \"x\": [7.061613811578996, -27.89948457696739], \"y\": [52.36826728570741, 36.130561798674854]}, {\"hoverinfo\": \"none\", \"line\": {\"color\": \"#888\", \"width\": 0.13833592010257104}, \"mode\": \"lines\", \"type\": \"scatter\", \"uid\": \"30cef356-cf46-447b-bbdc-bc6e19ea8237\", \"x\": [37.88296909748756, 22.970264202187924], \"y\": [32.62249022457843, 41.25496565373128]}, {\"hoverinfo\": \"none\", \"line\": {\"color\": \"#888\", \"width\": 0.12483973277549093}, \"mode\": \"lines\", \"type\": \"scatter\", \"uid\": \"95dcac06-5593-4aaa-bccd-83b9dee93ee6\", \"x\": [26.04883664430212, 41.48956329693529], \"y\": [-26.98946936849362, -67.04180068602615]}, {\"hoverinfo\": \"none\", \"line\": {\"color\": \"#888\", \"width\": 0.11471759228018084}, \"mode\": \"lines\", \"type\": \"scatter\", \"uid\": \"dbd5eacb-52f3-4d32-83d9-bdb21b4d8255\", \"x\": [19.557051226682788, 6.392684892756951], \"y\": [-0.8609825480266313, 10.959439732331475]}, {\"hoverinfo\": \"none\", \"line\": {\"color\": \"#888\", \"width\": 0.11134354544841082}, \"mode\": \"lines\", \"type\": \"scatter\", \"uid\": \"2fbda17a-9557-44d7-b34f-7ea079d2ccb3\", \"x\": [-36.722194461567994, 6.392684892756951], \"y\": [14.948487387529157, 10.959439732331475]}, {\"hoverinfo\": \"none\", \"line\": {\"color\": \"#888\", \"width\": 0.13158782643903097}, \"mode\": \"lines\", \"type\": \"scatter\", \"uid\": \"d6d657bf-6364-4756-a0f4-491fe36ecd03\", \"x\": [6.392684892756951, -6.259229705442365], \"y\": [10.959439732331475, 27.21996450374003]}, {\"hoverinfo\": \"none\", \"line\": {\"color\": \"#888\", \"width\": 0.3407787300087725}, \"mode\": \"lines\", \"type\": \"scatter\", \"uid\": \"9dceccf2-4817-47d7-a280-50829428071c\", \"x\": [-10.342592301858382, 26.04883664430212], \"y\": [16.023698691882426, -26.98946936849362]}, {\"hoverinfo\": \"none\", \"line\": {\"color\": \"#888\", \"width\": 0.11471759228018084}, \"mode\": \"lines\", \"type\": \"scatter\", \"uid\": \"8ae4ec63-dcd8-48c5-b28c-b9c3372cd4dd\", \"x\": [6.392684892756951, 19.557051226682788], \"y\": [10.959439732331475, -0.8609825480266313]}, {\"hoverinfo\": \"none\", \"line\": {\"color\": \"#888\", \"width\": 0.16870234158850125}, \"mode\": \"lines\", \"type\": \"scatter\", \"uid\": \"492baf9c-7605-4210-9742-3188edb3b5c8\", \"x\": [22.970264202187924, -36.722194461567994], \"y\": [41.25496565373128, 14.948487387529157]}, {\"hoverinfo\": \"none\", \"line\": {\"color\": \"#888\", \"width\": 0.134961873270801}, \"mode\": \"lines\", \"type\": \"scatter\", \"uid\": \"06a660d2-56d6-4236-8913-ac88598eb1a5\", \"x\": [22.970264202187924, 0.539401822122006], \"y\": [41.25496565373128, 73.48183680023092]}, {\"hoverinfo\": \"none\", \"line\": {\"color\": \"#888\", \"width\": 0.13158782643903097}, \"mode\": \"lines\", \"type\": \"scatter\", \"uid\": \"2635aae9-e1f8-4e95-8462-84e7bcd7ced5\", \"x\": [22.970264202187924, 43.179810646949306], \"y\": [41.25496565373128, 97.33343795871183]}, {\"hoverinfo\": \"none\", \"line\": {\"color\": \"#888\", \"width\": 0.13158782643903097}, \"mode\": \"lines\", \"type\": \"scatter\", \"uid\": \"9a4c3e23-1c74-46fd-9448-5a8df9d6e6d8\", \"x\": [43.179810646949306, 22.970264202187924], \"y\": [97.33343795871183, 41.25496565373128]}, {\"hoverinfo\": \"none\", \"line\": {\"color\": \"#888\", \"width\": 0.13158782643903097}, \"mode\": \"lines\", \"type\": \"scatter\", \"uid\": \"d405d107-dcb7-4d72-b317-af9e00d80d57\", \"x\": [-111.39935060505506, -108.85245728809427], \"y\": [38.343839726736064, 38.28534102351887]}, {\"hoverinfo\": \"none\", \"line\": {\"color\": \"#888\", \"width\": 0.15183210742965111}, \"mode\": \"lines\", \"type\": \"scatter\", \"uid\": \"4a0f71e6-a740-43ec-ac2d-268245935447\", \"x\": [65.45761297129408, 22.970264202187924], \"y\": [41.73067382151475, 41.25496565373128]}, {\"hoverinfo\": \"none\", \"line\": {\"color\": \"#888\", \"width\": 0.1079694986166408}, \"mode\": \"lines\", \"type\": \"scatter\", \"uid\": \"e3ce3153-fd62-4cc7-914c-5e46a3de0905\", \"x\": [27.9776794079129, -27.89948457696739], \"y\": [22.296356984835096, 36.130561798674854]}, {\"hoverinfo\": \"none\", \"line\": {\"color\": \"#888\", \"width\": 0.22268709089682165}, \"mode\": \"lines\", \"type\": \"scatter\", \"uid\": \"e100da9e-b345-4570-a2d4-f235ba144455\", \"x\": [-21.098063272461193, 26.04883664430212], \"y\": [10.377153035352139, -26.98946936849362]}, {\"hoverinfo\": \"none\", \"line\": {\"color\": \"#888\", \"width\": 0.28679398070045214}, \"mode\": \"lines\", \"type\": \"scatter\", \"uid\": \"716840e5-a0d4-4e6d-9b70-0c3f8d1a1ad7\", \"x\": [-21.098063272461193, 6.392684892756951], \"y\": [10.377153035352139, 10.959439732331475]}, {\"hoverinfo\": \"none\", \"line\": {\"color\": \"#888\", \"width\": 0.11809163911195088}, \"mode\": \"lines\", \"type\": \"scatter\", \"uid\": \"d6cb82fc-3c2f-4900-9d4d-b55901227655\", \"x\": [65.45761297129408, 6.392684892756951], \"y\": [41.73067382151475, 10.959439732331475]}, {\"hoverinfo\": \"none\", \"line\": {\"color\": \"#888\", \"width\": 0.3104123085228423}, \"mode\": \"lines\", \"type\": \"scatter\", \"uid\": \"0cbbc704-a47f-4f28-ae5c-4d8347f335bd\", \"x\": [6.392684892756951, 7.061613811578996], \"y\": [10.959439732331475, 52.36826728570741]}, {\"hoverinfo\": \"none\", \"line\": {\"color\": \"#888\", \"width\": 0.25980160604629193}, \"mode\": \"lines\", \"type\": \"scatter\", \"uid\": \"8ccf4584-8265-4b47-945f-da904b6ae2a8\", \"x\": [-27.89948457696739, -13.421627723196826], \"y\": [36.130561798674854, 57.91529661507537]}, {\"hoverinfo\": \"none\", \"line\": {\"color\": \"#888\", \"width\": 0.19906876307443147}, \"mode\": \"lines\", \"type\": \"scatter\", \"uid\": \"8444dc15-c040-41e0-86fe-9dfb574125b1\", \"x\": [27.9776794079129, 6.392684892756951], \"y\": [22.296356984835096, 10.959439732331475]}, {\"hoverinfo\": \"none\", \"line\": {\"color\": \"#888\", \"width\": 0.16870234158850125}, \"mode\": \"lines\", \"type\": \"scatter\", \"uid\": \"15269d6b-f781-44c8-9c82-17c36fbc5908\", \"x\": [-36.722194461567994, 22.970264202187924], \"y\": [14.948487387529157, 41.25496565373128]}, {\"hoverinfo\": \"none\", \"line\": {\"color\": \"#888\", \"width\": 0.8806262230919765}, \"mode\": \"lines\", \"type\": \"scatter\", \"uid\": \"ef0e38d4-a262-47b6-b205-229ad4753fda\", \"x\": [-27.89948457696739, -4.6694629540254065], \"y\": [36.130561798674854, 42.471632965890535]}, {\"hoverinfo\": \"none\", \"line\": {\"color\": \"#888\", \"width\": 1.0425804710169377}, \"mode\": \"lines\", \"type\": \"scatter\", \"uid\": \"af868281-aff3-45e1-843e-05d9487ba691\", \"x\": [22.970264202187924, 26.04883664430212], \"y\": [41.25496565373128, -26.98946936849362]}, {\"hoverinfo\": \"none\", \"line\": {\"color\": \"#888\", \"width\": 0.134961873270801}, \"mode\": \"lines\", \"type\": \"scatter\", \"uid\": \"ad09e270-380f-459c-b0e1-ec8eff694220\", \"x\": [6.680120458727134, -4.6694629540254065], \"y\": [40.395786066960625, 42.471632965890535]}, {\"hoverinfo\": \"none\", \"line\": {\"color\": \"#888\", \"width\": 0.19906876307443147}, \"mode\": \"lines\", \"type\": \"scatter\", \"uid\": \"fa329c16-b905-4593-a3e7-886d77702ead\", \"x\": [-13.421627723196826, 6.392684892756951], \"y\": [57.91529661507537, 10.959439732331475]}, {\"hoverinfo\": \"none\", \"line\": {\"color\": \"#888\", \"width\": 0.6883055536810851}, \"mode\": \"lines\", \"type\": \"scatter\", \"uid\": \"8ee433a4-1dd7-4939-bac8-f7cb86dc0c33\", \"x\": [22.970264202187924, -10.342592301858382], \"y\": [41.25496565373128, 16.023698691882426]}, {\"hoverinfo\": \"none\", \"line\": {\"color\": \"#888\", \"width\": 0.2294351845603617}, \"mode\": \"lines\", \"type\": \"scatter\", \"uid\": \"c123fdcc-fd9b-4149-8cdd-0bad977b7543\", \"x\": [27.301667669154046, 22.970264202187924], \"y\": [7.464008085107545, 41.25496565373128]}, {\"hoverinfo\": \"none\", \"line\": {\"color\": \"#888\", \"width\": 0.10122140495310075}, \"mode\": \"lines\", \"type\": \"scatter\", \"uid\": \"ecd46c1b-be71-42d5-8820-ca54589124eb\", \"x\": [26.04883664430212, 36.70895226265376], \"y\": [-26.98946936849362, -47.92449446809526]}, {\"hoverinfo\": \"none\", \"line\": {\"color\": \"#888\", \"width\": 0.4318779944665632}, \"mode\": \"lines\", \"type\": \"scatter\", \"uid\": \"f5d8f110-4bc3-4219-9e07-337a779f9991\", \"x\": [22.970264202187924, -21.098063272461193], \"y\": [41.25496565373128, 10.377153035352139]}, {\"hoverinfo\": \"none\", \"line\": {\"color\": \"#888\", \"width\": 0.1484580605978811}, \"mode\": \"lines\", \"type\": \"scatter\", \"uid\": \"afc64b59-8785-41b4-9d57-402eb0cf7d5b\", \"x\": [14.61861303267559, 18.28296144162177], \"y\": [-67.06300694191923, -73.9162519462213]}, {\"hoverinfo\": \"none\", \"line\": {\"color\": \"#888\", \"width\": 0.6545650853633849}, \"mode\": \"lines\", \"type\": \"scatter\", \"uid\": \"f53f2a97-2b69-4c41-b1c8-dc9abc824ec7\", \"x\": [6.392684892756951, -4.6694629540254065], \"y\": [10.959439732331475, 42.471632965890535]}, {\"hoverinfo\": \"none\", \"line\": {\"color\": \"#888\", \"width\": 0.10122140495310075}, \"mode\": \"lines\", \"type\": \"scatter\", \"uid\": \"d40cccaf-4c02-42e6-93e3-b4f780eee157\", \"x\": [-10.342592301858382, -6.259229705442365], \"y\": [16.023698691882426, 27.21996450374003]}, {\"hoverinfo\": \"none\", \"line\": {\"color\": \"#888\", \"width\": 0.13158782643903097}, \"mode\": \"lines\", \"type\": \"scatter\", \"uid\": \"df8cc271-37f6-4121-9316-a5d7e7fd36ca\", \"x\": [-27.89948457696739, -36.722194461567994], \"y\": [36.130561798674854, 14.948487387529157]}, {\"hoverinfo\": \"none\", \"line\": {\"color\": \"#888\", \"width\": 0.1889466225791214}, \"mode\": \"lines\", \"type\": \"scatter\", \"uid\": \"0f09b367-248f-48dd-b002-c5f3eb8bb262\", \"x\": [22.970264202187924, 27.9776794079129], \"y\": [41.25496565373128, 22.296356984835096]}, {\"hoverinfo\": \"none\", \"line\": {\"color\": \"#888\", \"width\": 0.11471759228018084}, \"mode\": \"lines\", \"type\": \"scatter\", \"uid\": \"292d7a5c-fef5-48c8-852c-20d0b5a3974b\", \"x\": [22.970264202187924, 19.557051226682788], \"y\": [41.25496565373128, -0.8609825480266313]}, {\"hoverinfo\": \"none\", \"line\": {\"color\": \"#888\", \"width\": 0.1754504352520413}, \"mode\": \"lines\", \"type\": \"scatter\", \"uid\": \"2a03f617-ce9a-4b40-9eae-a676b80bd633\", \"x\": [18.28296144162177, 26.04883664430212], \"y\": [-73.9162519462213, -26.98946936849362]}, {\"hoverinfo\": \"none\", \"line\": {\"color\": \"#888\", \"width\": 1.7072676968756326}, \"mode\": \"lines\", \"type\": \"scatter\", \"uid\": \"52f950fa-44ef-4155-b1bb-8bf5abce007e\", \"x\": [-4.6694629540254065, 22.970264202187924], \"y\": [42.471632965890535, 41.25496565373128]}, {\"hoverinfo\": \"none\", \"line\": {\"color\": \"#888\", \"width\": 0.13158782643903097}, \"mode\": \"lines\", \"type\": \"scatter\", \"uid\": \"7534b459-a406-4d09-a105-0fb5a650f000\", \"x\": [-36.722194461567994, -27.89948457696739], \"y\": [14.948487387529157, 36.130561798674854]}, {\"hoverinfo\": \"none\", \"line\": {\"color\": \"#888\", \"width\": 0.12483973277549093}, \"mode\": \"lines\", \"type\": \"scatter\", \"uid\": \"68be83ad-2783-4a78-bc02-b711022017a9\", \"x\": [41.48956329693529, 26.04883664430212], \"y\": [-67.04180068602615, -26.98946936849362]}, {\"hoverinfo\": \"none\", \"line\": {\"color\": \"#888\", \"width\": 1.0425804710169377}, \"mode\": \"lines\", \"type\": \"scatter\", \"uid\": \"b032bf11-56ea-4959-9fb9-13439e91516b\", \"x\": [26.04883664430212, 22.970264202187924], \"y\": [-26.98946936849362, 41.25496565373128]}, {\"hoverinfo\": \"none\", \"line\": {\"color\": \"#888\", \"width\": 0.35764896416762265}, \"mode\": \"lines\", \"type\": \"scatter\", \"uid\": \"3bcf6de6-1881-4d0d-a25e-4a4734162ec6\", \"x\": [-21.098063272461193, -27.89948457696739], \"y\": [10.377153035352139, 36.130561798674854]}, {\"hoverinfo\": \"none\", \"line\": {\"color\": \"#888\", \"width\": 0.11809163911195088}, \"mode\": \"lines\", \"type\": \"scatter\", \"uid\": \"0c6bd9c2-aa19-4286-8d81-3ca5f9f6fd71\", \"x\": [6.392684892756951, 65.45761297129408], \"y\": [10.959439732331475, 41.73067382151475]}, {\"hoverinfo\": \"none\", \"line\": {\"color\": \"#888\", \"width\": 0.11809163911195088}, \"mode\": \"lines\", \"type\": \"scatter\", \"uid\": \"c8d9f3af-055f-47cb-8bb4-61ea95076337\", \"x\": [14.61861303267559, 8.088513927051995], \"y\": [-67.06300694191923, -76.13044404323009]}, {\"hoverinfo\": \"none\", \"line\": {\"color\": \"#888\", \"width\": 0.1889466225791214}, \"mode\": \"lines\", \"type\": \"scatter\", \"uid\": \"74d965b3-c86b-4632-84a4-85683064e2fb\", \"x\": [6.392684892756951, 6.680120458727134], \"y\": [10.959439732331475, 40.395786066960625]}, {\"hoverinfo\": \"none\", \"line\": {\"color\": \"#888\", \"width\": 3.134489506714353}, \"mode\": \"lines\", \"type\": \"scatter\", \"uid\": \"08e855f8-2173-4057-8438-6f1fecedaa41\", \"x\": [-27.89948457696739, 22.970264202187924], \"y\": [36.130561798674854, 41.25496565373128]}, {\"hoverinfo\": \"none\", \"line\": {\"color\": \"#888\", \"width\": 0.134961873270801}, \"mode\": \"lines\", \"type\": \"scatter\", \"uid\": \"729d87b0-852c-43de-b26e-eb2a540ed5da\", \"x\": [0.539401822122006, 22.970264202187924], \"y\": [73.48183680023092, 41.25496565373128]}, {\"hoverinfo\": \"none\", \"line\": {\"color\": \"#888\", \"width\": 0.6883055536810851}, \"mode\": \"lines\", \"type\": \"scatter\", \"uid\": \"9d2192ee-9395-4140-92cd-204d514336b2\", \"x\": [-10.342592301858382, 22.970264202187924], \"y\": [16.023698691882426, 41.25496565373128]}, {\"hoverinfo\": \"none\", \"line\": {\"color\": \"#888\", \"width\": 0.14170996693434104}, \"mode\": \"lines\", \"type\": \"scatter\", \"uid\": \"23d4868d-4427-4036-8db8-23d3b54c489d\", \"x\": [-21.098063272461193, -36.722194461567994], \"y\": [10.377153035352139, 14.948487387529157]}, {\"hoverinfo\": \"none\", \"line\": {\"color\": \"#888\", \"width\": 0.3104123085228423}, \"mode\": \"lines\", \"type\": \"scatter\", \"uid\": \"7c71a773-b691-48b3-ab61-21011c92c3b1\", \"x\": [7.061613811578996, 6.392684892756951], \"y\": [52.36826728570741, 10.959439732331475]}, {\"hoverinfo\": \"none\", \"line\": {\"color\": \"#888\", \"width\": 0.1079694986166408}, \"mode\": \"lines\", \"type\": \"scatter\", \"uid\": \"6cf149e4-47a0-46ed-b99b-2cbe8ce30c38\", \"x\": [0.539401822122006, 6.392684892756951], \"y\": [73.48183680023092, 10.959439732331475]}, {\"hoverinfo\": \"none\", \"line\": {\"color\": \"#888\", \"width\": 0.2024428099062015}, \"mode\": \"lines\", \"type\": \"scatter\", \"uid\": \"4d887988-556b-4f33-a90e-b33ef66412e5\", \"x\": [27.301667669154046, -27.89948457696739], \"y\": [7.464008085107545, 36.130561798674854]}, {\"hoverinfo\": \"none\", \"line\": {\"color\": \"#888\", \"width\": 0.1754504352520413}, \"mode\": \"lines\", \"type\": \"scatter\", \"uid\": \"0fb57414-2d9e-4b5f-a53c-9325fffab4ae\", \"x\": [26.04883664430212, 18.28296144162177], \"y\": [-26.98946936849362, -73.9162519462213]}, {\"hoverinfo\": \"none\", \"line\": {\"color\": \"#888\", \"width\": 0.4420001349618733}, \"mode\": \"lines\", \"type\": \"scatter\", \"uid\": \"c991569d-0a59-417b-9e43-6f35571d65a7\", \"x\": [-10.342592301858382, 6.392684892756951], \"y\": [16.023698691882426, 10.959439732331475]}, {\"hoverinfo\": \"none\", \"line\": {\"color\": \"#888\", \"width\": 0.23955732505567176}, \"mode\": \"lines\", \"type\": \"scatter\", \"uid\": \"1d5f089b-b6ea-4ff5-8220-1f8a6ee1aa53\", \"x\": [6.392684892756951, -16.232482625361804], \"y\": [10.959439732331475, -6.197712439492456]}, {\"hoverinfo\": \"none\", \"line\": {\"color\": \"#888\", \"width\": 0.19569471624266144}, \"mode\": \"lines\", \"type\": \"scatter\", \"uid\": \"5ef9c9b9-3a1e-4743-bb6d-00de92f4cfdb\", \"x\": [30.410874480912618, 18.28296144162177], \"y\": [-66.12165564954499, -73.9162519462213]}, {\"hoverinfo\": \"none\", \"line\": {\"color\": \"#888\", \"width\": 0.1079694986166408}, \"mode\": \"lines\", \"type\": \"scatter\", \"uid\": \"682a175e-1f40-4d03-850d-b57e809c7294\", \"x\": [-27.89948457696739, 27.9776794079129], \"y\": [36.130561798674854, 22.296356984835096]}, {\"hoverinfo\": \"none\", \"line\": {\"color\": \"#888\", \"width\": 0.1079694986166408}, \"mode\": \"lines\", \"type\": \"scatter\", \"uid\": \"06eb2d3e-912a-4e26-9b7d-2ceeb5da8027\", \"x\": [36.70895226265376, 46.34394354940878], \"y\": [-47.92449446809526, -48.88532365974822]}, {\"hoverinfo\": \"none\", \"line\": {\"color\": \"#888\", \"width\": 0.12821377960726094}, \"mode\": \"lines\", \"type\": \"scatter\", \"uid\": \"b110473a-7adf-4964-b73c-86cf4d215293\", \"x\": [-13.421627723196826, -4.6694629540254065], \"y\": [57.91529661507537, 42.471632965890535]}, {\"hoverinfo\": \"none\", \"line\": {\"color\": \"#888\", \"width\": 0.15520615426142115}, \"mode\": \"lines\", \"type\": \"scatter\", \"uid\": \"0b8e89f5-5137-4d45-9955-fee6aaa27e2e\", \"x\": [-41.09744453240488, -27.89948457696739], \"y\": [3.435269971129419, 36.130561798674854]}, {\"hoverinfo\": \"none\", \"line\": {\"color\": \"#888\", \"width\": 0.3441527768405426}, \"mode\": \"lines\", \"type\": \"scatter\", \"uid\": \"28300ec7-3cc2-46f4-b0ef-cba7e7678175\", \"x\": [-13.421627723196826, 22.970264202187924], \"y\": [57.91529661507537, 41.25496565373128]}, {\"hoverinfo\": \"none\", \"line\": {\"color\": \"#888\", \"width\": 3.097374991564883}, \"mode\": \"lines\", \"type\": \"scatter\", \"uid\": \"859a464f-2dae-4bf3-8f12-dc6545864e93\", \"x\": [22.970264202187924, 6.392684892756951], \"y\": [41.25496565373128, 10.959439732331475]}, {\"hoverinfo\": \"none\", \"line\": {\"color\": \"#888\", \"width\": 0.16532829475673122}, \"mode\": \"lines\", \"type\": \"scatter\", \"uid\": \"a3830eb2-5d59-49ab-9f8c-638571f08b4b\", \"x\": [-4.6694629540254065, 26.04883664430212], \"y\": [42.471632965890535, -26.98946936849362]}, {\"hoverinfo\": \"none\", \"line\": {\"color\": \"#888\", \"width\": 0.14170996693434104}, \"mode\": \"lines\", \"type\": \"scatter\", \"uid\": \"f3aa9c46-70d3-443a-8aad-1b997a272cca\", \"x\": [26.04883664430212, 8.088513927051995], \"y\": [-26.98946936849362, -76.13044404323009]}, {\"hoverinfo\": \"none\", \"line\": {\"color\": \"#888\", \"width\": 0.23955732505567176}, \"mode\": \"lines\", \"type\": \"scatter\", \"uid\": \"7b7db92d-fc0c-4bf3-9f2f-3ffdfabcda09\", \"x\": [-16.232482625361804, 6.392684892756951], \"y\": [-6.197712439492456, 10.959439732331475]}, {\"hoverinfo\": \"none\", \"line\": {\"color\": \"#888\", \"width\": 0.4858627437748836}, \"mode\": \"lines\", \"type\": \"scatter\", \"uid\": \"fd445094-2514-45f3-97be-d28ead9d00a4\", \"x\": [-10.342592301858382, -27.89948457696739], \"y\": [16.023698691882426, 36.130561798674854]}, {\"hoverinfo\": \"none\", \"line\": {\"color\": \"#888\", \"width\": 0.3407787300087725}, \"mode\": \"lines\", \"type\": \"scatter\", \"uid\": \"8a2beb0e-a00d-4a2a-ae27-01acef37e04b\", \"x\": [26.04883664430212, -10.342592301858382], \"y\": [-26.98946936849362, 16.023698691882426]}, {\"hoverinfo\": \"none\", \"line\": {\"color\": \"#888\", \"width\": 0.11134354544841082}, \"mode\": \"lines\", \"type\": \"scatter\", \"uid\": \"2259770d-eb35-458c-85e1-aaa5a6bcc938\", \"x\": [41.48956329693529, 30.410874480912618], \"y\": [-67.04180068602615, -66.12165564954499]}, {\"hoverinfo\": \"none\", \"line\": {\"color\": \"#888\", \"width\": 0.1754504352520413}, \"mode\": \"lines\", \"type\": \"scatter\", \"uid\": \"81b78a21-0f6f-4b16-88b7-cc2445f3a4ef\", \"x\": [6.392684892756951, 27.301667669154046], \"y\": [10.959439732331475, 7.464008085107545]}, {\"hoverinfo\": \"none\", \"line\": {\"color\": \"#888\", \"width\": 0.11134354544841082}, \"mode\": \"lines\", \"type\": \"scatter\", \"uid\": \"10536a0c-205f-4c60-b177-10615bf9115d\", \"x\": [30.410874480912618, 41.48956329693529], \"y\": [-66.12165564954499, -67.04180068602615]}, {\"hoverinfo\": \"none\", \"line\": {\"color\": \"#888\", \"width\": 0.18557257574735136}, \"mode\": \"lines\", \"type\": \"scatter\", \"uid\": \"6bbcb1a1-50b9-48c6-9195-3e8ca7045ce3\", \"x\": [22.970264202187924, -41.09744453240488], \"y\": [41.25496565373128, 3.435269971129419]}, {\"hoverinfo\": \"none\", \"line\": {\"color\": \"#888\", \"width\": 0.1214656859437209}, \"mode\": \"lines\", \"type\": \"scatter\", \"uid\": \"62c62e3c-c9a7-461d-b8a2-2e5ec092a5d6\", \"x\": [6.392684892756951, -41.09744453240488], \"y\": [10.959439732331475, 3.435269971129419]}, {\"hoverinfo\": \"none\", \"line\": {\"color\": \"#888\", \"width\": 0.13158782643903097}, \"mode\": \"lines\", \"type\": \"scatter\", \"uid\": \"62135300-3189-423a-9821-73f47606266e\", \"x\": [-108.85245728809427, -111.39935060505506], \"y\": [38.28534102351887, 38.343839726736064]}, {\"hoverinfo\": \"none\", \"line\": {\"color\": \"#888\", \"width\": 0.11471759228018084}, \"mode\": \"lines\", \"type\": \"scatter\", \"uid\": \"e3f1fb16-e105-41fc-88b7-a7ac7217e569\", \"x\": [19.557051226682788, 22.970264202187924], \"y\": [-0.8609825480266313, 41.25496565373128]}, {\"hoverinfo\": \"none\", \"line\": {\"color\": \"#888\", \"width\": 0.19906876307443147}, \"mode\": \"lines\", \"type\": \"scatter\", \"uid\": \"0863621a-12a9-4f03-a73d-360c519679d5\", \"x\": [6.392684892756951, -13.421627723196826], \"y\": [10.959439732331475, 57.91529661507537]}, {\"hoverinfo\": \"none\", \"line\": {\"color\": \"#888\", \"width\": 2.0547945205479454}, \"mode\": \"lines\", \"type\": \"scatter\", \"uid\": \"9e9f451c-c8f0-45d2-92bb-5fbbbe0ab136\", \"x\": [6.392684892756951, -27.89948457696739], \"y\": [10.959439732331475, 36.130561798674854]}, {\"hoverinfo\": \"none\", \"line\": {\"color\": \"#888\", \"width\": 0.1214656859437209}, \"mode\": \"lines\", \"type\": \"scatter\", \"uid\": \"7b71daea-36c1-4e2a-9825-f2cd87673da0\", \"x\": [-10.342592301858382, -4.6694629540254065], \"y\": [16.023698691882426, 42.471632965890535]}, {\"hoverinfo\": \"none\", \"line\": {\"color\": \"#888\", \"width\": 0.1214656859437209}, \"mode\": \"lines\", \"type\": \"scatter\", \"uid\": \"ed1919f3-f5ac-47b6-8ab6-ed250056bc42\", \"x\": [83.70335502476684, 26.04883664430212], \"y\": [-25.802891173819347, -26.98946936849362]}, {\"hoverinfo\": \"none\", \"line\": {\"color\": \"#888\", \"width\": 0.12821377960726094}, \"mode\": \"lines\", \"type\": \"scatter\", \"uid\": \"567ebdc8-662d-45d3-bf5d-be9b2c9cca7d\", \"x\": [-21.098063272461193, -6.259229705442365], \"y\": [10.377153035352139, 27.21996450374003]}, {\"hoverinfo\": \"none\", \"line\": {\"color\": \"#888\", \"width\": 0.13833592010257104}, \"mode\": \"lines\", \"type\": \"scatter\", \"uid\": \"dfb7590d-9ac7-405c-b25f-6b1ad9a7603a\", \"x\": [22.970264202187924, 37.88296909748756], \"y\": [41.25496565373128, 32.62249022457843]}, {\"hoverinfo\": \"none\", \"line\": {\"color\": \"#888\", \"width\": 0.30366421485930223}, \"mode\": \"lines\", \"type\": \"scatter\", \"uid\": \"544a0b58-7cfe-4f17-a915-7ace96e545bb\", \"x\": [26.04883664430212, 14.61861303267559], \"y\": [-26.98946936849362, -67.06300694191923]}, {\"hoverinfo\": \"none\", \"line\": {\"color\": \"#888\", \"width\": 0.3441527768405426}, \"mode\": \"lines\", \"type\": \"scatter\", \"uid\": \"7de7d08e-8752-4556-98e5-a667428ebe42\", \"x\": [22.970264202187924, -13.421627723196826], \"y\": [41.25496565373128, 57.91529661507537]}, {\"hoverinfo\": \"none\", \"line\": {\"color\": \"#888\", \"width\": 0.12821377960726094}, \"mode\": \"lines\", \"type\": \"scatter\", \"uid\": \"118bbe5e-524e-4069-85b7-2637f375fa37\", \"x\": [-4.6694629540254065, -13.421627723196826], \"y\": [42.471632965890535, 57.91529661507537]}, {\"hoverinfo\": \"none\", \"line\": {\"color\": \"#888\", \"width\": 0.18557257574735136}, \"mode\": \"lines\", \"type\": \"scatter\", \"uid\": \"7b2bf917-a759-41cb-bcfb-371a10a4db2f\", \"x\": [27.9776794079129, 26.04883664430212], \"y\": [22.296356984835096, -26.98946936849362]}, {\"hoverinfo\": \"none\", \"line\": {\"color\": \"#888\", \"width\": 0.1214656859437209}, \"mode\": \"lines\", \"type\": \"scatter\", \"uid\": \"4f6d0fcd-c657-49e4-9f55-222d8762b267\", \"x\": [26.04883664430212, 83.70335502476684], \"y\": [-26.98946936849362, -25.802891173819347]}, {\"hoverinfo\": \"none\", \"line\": {\"color\": \"#888\", \"width\": 0.14170996693434104}, \"mode\": \"lines\", \"type\": \"scatter\", \"uid\": \"a161452d-9c03-4c28-8e20-bef113fa5f51\", \"x\": [8.088513927051995, 26.04883664430212], \"y\": [-76.13044404323009, -26.98946936849362]}, {\"hoverinfo\": \"none\", \"line\": {\"color\": \"#888\", \"width\": 0.35764896416762265}, \"mode\": \"lines\", \"type\": \"scatter\", \"uid\": \"fa2d5700-133e-49a2-b038-c9920a3b1780\", \"x\": [-27.89948457696739, -21.098063272461193], \"y\": [36.130561798674854, 10.377153035352139]}, {\"hoverinfo\": \"none\", \"line\": {\"color\": \"#888\", \"width\": 0.4858627437748836}, \"mode\": \"lines\", \"type\": \"scatter\", \"uid\": \"befa2f31-8fef-489a-a868-53403f2a8dd6\", \"x\": [-27.89948457696739, -10.342592301858382], \"y\": [36.130561798674854, 16.023698691882426]}, {\"hoverinfo\": \"none\", \"line\": {\"color\": \"#888\", \"width\": 0.3509008705040826}, \"mode\": \"lines\", \"type\": \"scatter\", \"uid\": \"6837c890-c551-4960-a036-fb10a2b01fe8\", \"x\": [37.88296909748756, 26.04883664430212], \"y\": [32.62249022457843, -26.98946936849362]}, {\"hoverinfo\": \"none\", \"line\": {\"color\": \"#888\", \"width\": 0.6680612726904649}, \"mode\": \"lines\", \"type\": \"scatter\", \"uid\": \"863ae6fb-aed9-4ced-a084-0abc8795b278\", \"x\": [26.04883664430212, 6.392684892756951], \"y\": [-26.98946936849362, 10.959439732331475]}, {\"hoverinfo\": \"none\", \"line\": {\"color\": \"#888\", \"width\": 0.15183210742965111}, \"mode\": \"lines\", \"type\": \"scatter\", \"uid\": \"e9da6e2e-56e2-4c84-91b2-c1c3952ae146\", \"x\": [22.970264202187924, 65.45761297129408], \"y\": [41.25496565373128, 41.73067382151475]}, {\"hoverinfo\": \"none\", \"line\": {\"color\": \"#888\", \"width\": 0.1079694986166408}, \"mode\": \"lines\", \"type\": \"scatter\", \"uid\": \"f88c8158-b4e4-4f48-bb3a-cf406e619d49\", \"x\": [26.04883664430212, 27.301667669154046], \"y\": [-26.98946936849362, 7.464008085107545]}, {\"hoverinfo\": \"none\", \"line\": {\"color\": \"#888\", \"width\": 0.14170996693434104}, \"mode\": \"lines\", \"type\": \"scatter\", \"uid\": \"461fa076-611e-44c6-bbdb-b91d975a222e\", \"x\": [-36.722194461567994, -21.098063272461193], \"y\": [14.948487387529157, 10.377153035352139]}, {\"hoverinfo\": \"none\", \"line\": {\"color\": \"#888\", \"width\": 0.6545650853633849}, \"mode\": \"lines\", \"type\": \"scatter\", \"uid\": \"fbea1433-67c2-422a-99bb-a8a3e8827df9\", \"x\": [-4.6694629540254065, 6.392684892756951], \"y\": [42.471632965890535, 10.959439732331475]}, {\"hoverinfo\": \"none\", \"line\": {\"color\": \"#888\", \"width\": 0.1754504352520413}, \"mode\": \"lines\", \"type\": \"scatter\", \"uid\": \"b453f83c-810d-4896-b0d2-0735273eeaa5\", \"x\": [27.301667669154046, 6.392684892756951], \"y\": [7.464008085107545, 10.959439732331475]}, {\"hoverinfo\": \"none\", \"line\": {\"color\": \"#888\", \"width\": 0.269923746541602}, \"mode\": \"lines\", \"type\": \"scatter\", \"uid\": \"cec0337e-c691-4fbc-a72b-a599b777b8d9\", \"x\": [30.410874480912618, 26.04883664430212], \"y\": [-66.12165564954499, -26.98946936849362]}, {\"hoverinfo\": \"none\", \"line\": {\"color\": \"#888\", \"width\": 0.11809163911195088}, \"mode\": \"lines\", \"type\": \"scatter\", \"uid\": \"09ee0425-fd3a-43aa-986b-2d907bb81c10\", \"x\": [8.088513927051995, 14.61861303267559], \"y\": [-76.13044404323009, -67.06300694191923]}, {\"hoverinfo\": \"none\", \"line\": {\"color\": \"#888\", \"width\": 0.11134354544841082}, \"mode\": \"lines\", \"type\": \"scatter\", \"uid\": \"bb08e75e-6a3f-472c-be6b-d9bd379d3742\", \"x\": [26.04883664430212, 49.18163113132337], \"y\": [-26.98946936849362, -65.93204810800226]}, {\"hoverinfo\": \"none\", \"line\": {\"color\": \"#888\", \"width\": 0.15520615426142115}, \"mode\": \"lines\", \"type\": \"scatter\", \"uid\": \"eb5ea02e-ae60-4210-97e3-7668c3157e44\", \"x\": [-27.89948457696739, -41.09744453240488], \"y\": [36.130561798674854, 3.435269971129419]}, {\"hoverinfo\": \"none\", \"line\": {\"color\": \"#888\", \"width\": 0.1079694986166408}, \"mode\": \"lines\", \"type\": \"scatter\", \"uid\": \"afcf0b5a-792d-484c-870f-a212ef9c7e5f\", \"x\": [22.970264202187924, -41.09046600346163], \"y\": [41.25496565373128, 64.3187632716109]}, {\"hoverinfo\": \"none\", \"line\": {\"color\": \"#888\", \"width\": 0.2024428099062015}, \"mode\": \"lines\", \"type\": \"scatter\", \"uid\": \"5f795113-ed1e-47f9-b732-16d3cc694277\", \"x\": [-27.89948457696739, 27.301667669154046], \"y\": [36.130561798674854, 7.464008085107545]}, {\"hoverinfo\": \"none\", \"line\": {\"color\": \"#888\", \"width\": 0.2024428099062015}, \"mode\": \"lines\", \"type\": \"scatter\", \"uid\": \"52ce0fad-8bcb-4219-be9c-6a481283669f\", \"x\": [-21.098063272461193, -10.342592301858382], \"y\": [10.377153035352139, 16.023698691882426]}, {\"hoverinfo\": \"none\", \"line\": {\"color\": \"#888\", \"width\": 0.20919090356974154}, \"mode\": \"lines\", \"type\": \"scatter\", \"uid\": \"189fa1c6-58c8-4add-8733-9669536fecff\", \"x\": [8.088513927051995, 18.28296144162177], \"y\": [-76.13044404323009, -73.9162519462213]}, {\"hoverinfo\": \"none\", \"line\": {\"color\": \"#888\", \"width\": 0.11134354544841082}, \"mode\": \"lines\", \"type\": \"scatter\", \"uid\": \"be6e64e0-9ec2-4813-a9be-56c5658a72a0\", \"x\": [49.18163113132337, 26.04883664430212], \"y\": [-65.93204810800226, -26.98946936849362]}, {\"hoverinfo\": \"none\", \"line\": {\"color\": \"#888\", \"width\": 0.3509008705040826}, \"mode\": \"lines\", \"type\": \"scatter\", \"uid\": \"10caeff5-180e-43d9-8392-53cbcb72946b\", \"x\": [26.04883664430212, 37.88296909748756], \"y\": [-26.98946936849362, 32.62249022457843]}, {\"hoverinfo\": \"none\", \"line\": {\"color\": \"#888\", \"width\": 0.10122140495310075}, \"mode\": \"lines\", \"type\": \"scatter\", \"uid\": \"ab6c7d3e-b6ec-4b15-88e7-ecc8463357d3\", \"x\": [14.61861303267559, 30.410874480912618], \"y\": [-67.06300694191923, -66.12165564954499]}, {\"hoverinfo\": \"none\", \"line\": {\"color\": \"#888\", \"width\": 0.1214656859437209}, \"mode\": \"lines\", \"type\": \"scatter\", \"uid\": \"f270ca41-b2a9-4635-b9c2-1bd7474b86b8\", \"x\": [-41.09744453240488, 6.392684892756951], \"y\": [3.435269971129419, 10.959439732331475]}, {\"hoverinfo\": \"none\", \"line\": {\"color\": \"#888\", \"width\": 0.19906876307443147}, \"mode\": \"lines\", \"type\": \"scatter\", \"uid\": \"0c59d200-8213-45bc-8483-fae61c474ebc\", \"x\": [6.392684892756951, 27.9776794079129], \"y\": [10.959439732331475, 22.296356984835096]}, {\"hoverinfo\": \"none\", \"line\": {\"color\": \"#888\", \"width\": 0.14170996693434104}, \"mode\": \"lines\", \"type\": \"scatter\", \"uid\": \"a6d7a4dd-e554-4737-b891-b90250fe3bb4\", \"x\": [7.061613811578996, -4.6694629540254065], \"y\": [52.36826728570741, 42.471632965890535]}, {\"hoverinfo\": \"none\", \"line\": {\"color\": \"#888\", \"width\": 0.134961873270801}, \"mode\": \"lines\", \"type\": \"scatter\", \"uid\": \"52976d41-09df-4c80-a0df-f56e860ef2ff\", \"x\": [-4.6694629540254065, 6.680120458727134], \"y\": [42.471632965890535, 40.395786066960625]}, {\"hoverinfo\": \"none\", \"line\": {\"color\": \"#888\", \"width\": 0.2058168567379715}, \"mode\": \"lines\", \"type\": \"scatter\", \"uid\": \"2ec464bb-9952-494a-8caa-db29fddda933\", \"x\": [-16.232482625361804, -27.89948457696739], \"y\": [-6.197712439492456, 36.130561798674854]}, {\"hoverinfo\": \"none\", \"line\": {\"color\": \"#888\", \"width\": 0.19906876307443147}, \"mode\": \"lines\", \"type\": \"scatter\", \"uid\": \"89cb9c33-4c12-47cc-8b31-d08b885af3e3\", \"x\": [-27.89948457696739, 6.680120458727134], \"y\": [36.130561798674854, 40.395786066960625]}, {\"hoverinfo\": \"none\", \"line\": {\"color\": \"#888\", \"width\": 0.1079694986166408}, \"mode\": \"lines\", \"type\": \"scatter\", \"uid\": \"7c41161b-98b0-4479-9c89-e3029dcf523d\", \"x\": [46.34394354940878, 36.70895226265376], \"y\": [-48.88532365974822, -47.92449446809526]}, {\"hoverinfo\": \"none\", \"line\": {\"color\": \"#888\", \"width\": 0.10122140495310075}, \"mode\": \"lines\", \"type\": \"scatter\", \"uid\": \"4fe7f1bc-cb36-4e0d-bc7c-229be3d5395d\", \"x\": [32.36436107596362, 30.410874480912618], \"y\": [-83.39837832724007, -66.12165564954499]}, {\"hoverinfo\": \"none\", \"line\": {\"color\": \"#888\", \"width\": 0.3239084958499224}, \"mode\": \"lines\", \"type\": \"scatter\", \"uid\": \"c71f1252-b8f3-43ac-b58c-998c7ead2c7c\", \"x\": [7.061613811578996, 22.970264202187924], \"y\": [52.36826728570741, 41.25496565373128]}, {\"hoverinfo\": \"none\", \"line\": {\"color\": \"#888\", \"width\": 0.3441527768405426}, \"mode\": \"lines\", \"type\": \"scatter\", \"uid\": \"097a24d8-dd19-4cd8-9efa-2783d244ce36\", \"x\": [-16.232482625361804, 22.970264202187924], \"y\": [-6.197712439492456, 41.25496565373128]}, {\"hoverinfo\": \"none\", \"line\": {\"color\": \"#888\", \"width\": 0.2834199338686821}, \"mode\": \"lines\", \"type\": \"scatter\", \"uid\": \"2e2d8284-4151-42b5-8a40-eb026de085db\", \"x\": [22.970264202187924, 6.680120458727134], \"y\": [41.25496565373128, 40.395786066960625]}, {\"hoverinfo\": \"none\", \"line\": {\"color\": \"#888\", \"width\": 0.28679398070045214}, \"mode\": \"lines\", \"type\": \"scatter\", \"uid\": \"8a87c8ef-5fc7-4594-8775-a063730716e9\", \"x\": [6.392684892756951, -21.098063272461193], \"y\": [10.959439732331475, 10.377153035352139]}, {\"hoverinfo\": \"none\", \"line\": {\"color\": \"#888\", \"width\": 0.2294351845603617}, \"mode\": \"lines\", \"type\": \"scatter\", \"uid\": \"5702b38d-9a98-4862-b8d8-500204b2b4ee\", \"x\": [22.970264202187924, 27.301667669154046], \"y\": [41.25496565373128, 7.464008085107545]}, {\"hoverinfo\": \"none\", \"line\": {\"color\": \"#888\", \"width\": 0.1889466225791214}, \"mode\": \"lines\", \"type\": \"scatter\", \"uid\": \"02401b17-5790-4b3f-8668-35f7400d0f21\", \"x\": [27.9776794079129, 22.970264202187924], \"y\": [22.296356984835096, 41.25496565373128]}, {\"hoverinfo\": \"none\", \"line\": {\"color\": \"#888\", \"width\": 0.4318779944665632}, \"mode\": \"lines\", \"type\": \"scatter\", \"uid\": \"5a721c64-f598-4349-b8df-d09cf849eda3\", \"x\": [-21.098063272461193, 22.970264202187924], \"y\": [10.377153035352139, 41.25496565373128]}, {\"hoverinfo\": \"none\", \"line\": {\"color\": \"#888\", \"width\": 0.18219852891558136}, \"mode\": \"lines\", \"type\": \"scatter\", \"uid\": \"afe06c7a-0802-4ad0-9553-40a2950be151\", \"x\": [-6.259229705442365, 22.970264202187924], \"y\": [27.21996450374003, 41.25496565373128]}, {\"hoverinfo\": \"none\", \"line\": {\"color\": \"#888\", \"width\": 0.3441527768405426}, \"mode\": \"lines\", \"type\": \"scatter\", \"uid\": \"263c4f84-edbd-47bf-a1e1-028d3e0b8e32\", \"x\": [22.970264202187924, -16.232482625361804], \"y\": [41.25496565373128, -6.197712439492456]}, {\"hoverinfo\": \"none\", \"line\": {\"color\": \"#888\", \"width\": 0.11134354544841082}, \"mode\": \"lines\", \"type\": \"scatter\", \"uid\": \"892fb011-f277-4b5f-9453-bf2071c6d1cd\", \"x\": [-27.89948457696739, 0.539401822122006], \"y\": [36.130561798674854, 73.48183680023092]}, {\"hoverinfo\": \"none\", \"line\": {\"color\": \"#888\", \"width\": 3.134489506714353}, \"mode\": \"lines\", \"type\": \"scatter\", \"uid\": \"a4cc91b3-4847-48f9-b529-04d2117826e8\", \"x\": [22.970264202187924, -27.89948457696739], \"y\": [41.25496565373128, 36.130561798674854]}, {\"hoverinfo\": \"none\", \"line\": {\"color\": \"#888\", \"width\": 0.7186719751670153}, \"mode\": \"lines\", \"type\": \"scatter\", \"uid\": \"9321d77f-0add-4114-b1d7-79a426270392\", \"x\": [26.04883664430212, -27.89948457696739], \"y\": [-26.98946936849362, 36.130561798674854]}, {\"hoverinfo\": \"none\", \"line\": {\"color\": \"#888\", \"width\": 0.18219852891558136}, \"mode\": \"lines\", \"type\": \"scatter\", \"uid\": \"7ad3faaa-6a30-4f58-add4-43fcdf938931\", \"x\": [36.70895226265376, 30.410874480912618], \"y\": [-47.92449446809526, -66.12165564954499]}, {\"hoverinfo\": \"none\", \"line\": {\"color\": \"#888\", \"width\": 0.19569471624266144}, \"mode\": \"lines\", \"type\": \"scatter\", \"uid\": \"cd1485b4-6da6-4709-a034-4c15abb5f883\", \"x\": [18.28296144162177, 30.410874480912618], \"y\": [-73.9162519462213, -66.12165564954499]}, {\"hoverinfo\": \"none\", \"line\": {\"color\": \"#888\", \"width\": 1.7072676968756326}, \"mode\": \"lines\", \"type\": \"scatter\", \"uid\": \"40c18bfc-d186-4305-b411-bb5d61dd03e1\", \"x\": [22.970264202187924, -4.6694629540254065], \"y\": [41.25496565373128, 42.471632965890535]}, {\"hoverinfo\": \"none\", \"line\": {\"color\": \"#888\", \"width\": 0.1079694986166408}, \"mode\": \"lines\", \"type\": \"scatter\", \"uid\": \"1226cddc-01e2-43be-9c84-a9497107c5ea\", \"x\": [-41.09046600346163, 22.970264202187924], \"y\": [64.3187632716109, 41.25496565373128]}, {\"hoverinfo\": \"none\", \"line\": {\"color\": \"#888\", \"width\": 0.6680612726904649}, \"mode\": \"lines\", \"type\": \"scatter\", \"uid\": \"1de00f11-eaab-497b-b4f6-97e6742cba1c\", \"x\": [6.392684892756951, 26.04883664430212], \"y\": [10.959439732331475, -26.98946936849362]}, {\"hoverinfo\": \"none\", \"line\": {\"color\": \"#888\", \"width\": 0.19906876307443147}, \"mode\": \"lines\", \"type\": \"scatter\", \"uid\": \"c7bb8761-e45e-40af-b151-68c8c8382581\", \"x\": [41.48956329693529, 49.18163113132337], \"y\": [-67.04180068602615, -65.93204810800226]}, {\"hoverinfo\": \"none\", \"line\": {\"color\": \"#888\", \"width\": 0.22268709089682165}, \"mode\": \"lines\", \"type\": \"scatter\", \"uid\": \"6340b476-ca7b-4a11-abb6-6fc12a0bb086\", \"x\": [26.04883664430212, -21.098063272461193], \"y\": [-26.98946936849362, 10.377153035352139]}, {\"hoverinfo\": \"none\", \"line\": {\"color\": \"#888\", \"width\": 0.3239084958499224}, \"mode\": \"lines\", \"type\": \"scatter\", \"uid\": \"247c35c2-f36f-42ea-b55a-116b99c5e6f5\", \"x\": [22.970264202187924, 7.061613811578996], \"y\": [41.25496565373128, 52.36826728570741]}, {\"hoverinfo\": \"none\", \"line\": {\"color\": \"#888\", \"width\": 0.1214656859437209}, \"mode\": \"lines\", \"type\": \"scatter\", \"uid\": \"9ad67cb1-868e-468b-9805-606d1701f83c\", \"x\": [-4.6694629540254065, -10.342592301858382], \"y\": [42.471632965890535, 16.023698691882426]}, {\"hoverinfo\": \"none\", \"line\": {\"color\": \"#888\", \"width\": 0.12821377960726094}, \"mode\": \"lines\", \"type\": \"scatter\", \"uid\": \"9163b9f3-633e-4514-b0b4-eefefa09f39c\", \"x\": [-6.259229705442365, -21.098063272461193], \"y\": [27.21996450374003, 10.377153035352139]}, {\"hoverinfo\": \"none\", \"line\": {\"color\": \"#888\", \"width\": 0.1079694986166408}, \"mode\": \"lines\", \"type\": \"scatter\", \"uid\": \"45afcf19-c65b-4a74-b549-24e7d21b87e6\", \"x\": [27.301667669154046, 26.04883664430212], \"y\": [7.464008085107545, -26.98946936849362]}, {\"hoverinfo\": \"none\", \"line\": {\"color\": \"#888\", \"width\": 0.2024428099062015}, \"mode\": \"lines\", \"type\": \"scatter\", \"uid\": \"584742fb-a7c8-4303-a9d7-15ffbed62b27\", \"x\": [-10.342592301858382, -21.098063272461193], \"y\": [16.023698691882426, 10.377153035352139]}, {\"hoverinfo\": \"none\", \"line\": {\"color\": \"#888\", \"width\": 0.2834199338686821}, \"mode\": \"lines\", \"type\": \"scatter\", \"uid\": \"42228352-1e7d-473b-9b8b-7ec932ce4210\", \"x\": [6.680120458727134, 22.970264202187924], \"y\": [40.395786066960625, 41.25496565373128]}, {\"hoverinfo\": \"none\", \"line\": {\"color\": \"#888\", \"width\": 0.18557257574735136}, \"mode\": \"lines\", \"type\": \"scatter\", \"uid\": \"f6e59764-9622-444b-a5d9-f2499c806488\", \"x\": [-41.09744453240488, 22.970264202187924], \"y\": [3.435269971129419, 41.25496565373128]}, {\"hoverinfo\": \"none\", \"line\": {\"color\": \"#888\", \"width\": 0.19906876307443147}, \"mode\": \"lines\", \"type\": \"scatter\", \"uid\": \"eee833d5-5f4e-49da-be2b-a096943c9b63\", \"x\": [49.18163113132337, 41.48956329693529], \"y\": [-65.93204810800226, -67.04180068602615]}, {\"hoverinfo\": \"none\", \"line\": {\"color\": \"#888\", \"width\": 0.14170996693434104}, \"mode\": \"lines\", \"type\": \"scatter\", \"uid\": \"5ff8a865-a08b-4dcf-a606-34d8d2a6f3cb\", \"x\": [-4.6694629540254065, 7.061613811578996], \"y\": [42.471632965890535, 52.36826728570741]}, {\"hoverinfo\": \"none\", \"line\": {\"color\": \"#888\", \"width\": 3.097374991564883}, \"mode\": \"lines\", \"type\": \"scatter\", \"uid\": \"19705c3e-f91f-4f8b-ac02-c7873954c11e\", \"x\": [6.392684892756951, 22.970264202187924], \"y\": [10.959439732331475, 41.25496565373128]}, {\"hoverinfo\": \"none\", \"line\": {\"color\": \"#888\", \"width\": 0.20919090356974154}, \"mode\": \"lines\", \"type\": \"scatter\", \"uid\": \"9a73a971-a374-4d87-b657-2d6eb65dab6e\", \"x\": [18.28296144162177, 8.088513927051995], \"y\": [-73.9162519462213, -76.13044404323009]}, {\"hoverinfo\": \"none\", \"line\": {\"color\": \"#888\", \"width\": 0.1484580605978811}, \"mode\": \"lines\", \"type\": \"scatter\", \"uid\": \"458dae87-c728-467f-934b-a0a30bfca1bc\", \"x\": [18.28296144162177, 14.61861303267559], \"y\": [-73.9162519462213, -67.06300694191923]}, {\"hoverinfo\": \"none\", \"line\": {\"color\": \"#888\", \"width\": 0.18219852891558136}, \"mode\": \"lines\", \"type\": \"scatter\", \"uid\": \"e51be98d-eb32-4f3b-a14d-fb49138a277f\", \"x\": [22.970264202187924, -6.259229705442365], \"y\": [41.25496565373128, 27.21996450374003]}, {\"hoverinfo\": \"none\", \"line\": {\"color\": \"#888\", \"width\": 0.4420001349618733}, \"mode\": \"lines\", \"type\": \"scatter\", \"uid\": \"9a653084-d363-451d-a7cb-693cb3c09555\", \"x\": [6.392684892756951, -10.342592301858382], \"y\": [10.959439732331475, 16.023698691882426]}, {\"hoverinfo\": \"none\", \"line\": {\"color\": \"#888\", \"width\": 0.10122140495310075}, \"mode\": \"lines\", \"type\": \"scatter\", \"uid\": \"28b36f6e-b96b-45b6-9245-81015cdb0f18\", \"x\": [30.410874480912618, 32.36436107596362], \"y\": [-66.12165564954499, -83.39837832724007]}, {\"hoverinfo\": \"none\", \"line\": {\"color\": \"#888\", \"width\": 0.13158782643903097}, \"mode\": \"lines\", \"type\": \"scatter\", \"uid\": \"233cff2c-c127-48d7-9c37-5e4e07eabdd3\", \"x\": [-6.259229705442365, 6.392684892756951], \"y\": [27.21996450374003, 10.959439732331475]}, {\"hoverinfo\": \"none\", \"line\": {\"color\": \"#888\", \"width\": 0.8806262230919765}, \"mode\": \"lines\", \"type\": \"scatter\", \"uid\": \"355b5e58-67ba-46fa-804a-3a700ded3c56\", \"x\": [-4.6694629540254065, -27.89948457696739], \"y\": [42.471632965890535, 36.130561798674854]}, {\"hoverinfo\": \"none\", \"line\": {\"color\": \"#888\", \"width\": 0.19906876307443147}, \"mode\": \"lines\", \"type\": \"scatter\", \"uid\": \"031d1890-af15-48c4-a60c-bac3a154e24e\", \"x\": [6.680120458727134, -27.89948457696739], \"y\": [40.395786066960625, 36.130561798674854]}, {\"hoverinfo\": \"none\", \"line\": {\"color\": \"#888\", \"width\": 0.2058168567379715}, \"mode\": \"lines\", \"type\": \"scatter\", \"uid\": \"6b025ae2-a428-4a62-a74f-13d4edc54b0a\", \"x\": [-27.89948457696739, -16.232482625361804], \"y\": [36.130561798674854, -6.197712439492456]}, {\"hoverinfo\": \"none\", \"line\": {\"color\": \"#888\", \"width\": 0.269923746541602}, \"mode\": \"lines\", \"type\": \"scatter\", \"uid\": \"3a198ac9-80a6-4e76-93fe-a4784ce4a976\", \"x\": [26.04883664430212, 30.410874480912618], \"y\": [-26.98946936849362, -66.12165564954499]}, {\"hoverinfo\": \"none\", \"line\": {\"color\": \"#888\", \"width\": 0.1214656859437209}, \"mode\": \"lines\", \"type\": \"scatter\", \"uid\": \"f4c89de0-3098-4637-ae57-f732398c9888\", \"x\": [-27.89948457696739, -6.259229705442365], \"y\": [36.130561798674854, 27.21996450374003]}, {\"hoverinfo\": \"none\", \"line\": {\"color\": \"#888\", \"width\": 0.11134354544841082}, \"mode\": \"lines\", \"type\": \"scatter\", \"uid\": \"cf77456b-e63f-48ef-b0c9-fdef50d55bb9\", \"x\": [6.392684892756951, -36.722194461567994], \"y\": [10.959439732331475, 14.948487387529157]}, {\"hoverinfo\": \"none\", \"line\": {\"color\": \"#888\", \"width\": 0.10122140495310075}, \"mode\": \"lines\", \"type\": \"scatter\", \"uid\": \"60cce822-7b7e-43c0-bf5f-669fcac360c2\", \"x\": [-6.259229705442365, -10.342592301858382], \"y\": [27.21996450374003, 16.023698691882426]}, {\"hoverinfo\": \"none\", \"line\": {\"color\": \"#888\", \"width\": 0.10122140495310075}, \"mode\": \"lines\", \"type\": \"scatter\", \"uid\": \"14758de5-b964-4d55-8bcb-18b09cee689f\", \"x\": [30.410874480912618, 14.61861303267559], \"y\": [-66.12165564954499, -67.06300694191923]}, {\"hoverinfo\": \"none\", \"line\": {\"color\": \"#888\", \"width\": 0.16532829475673122}, \"mode\": \"lines\", \"type\": \"scatter\", \"uid\": \"bb4a55b7-5b54-4162-9809-048043f65258\", \"x\": [26.04883664430212, -4.6694629540254065], \"y\": [-26.98946936849362, 42.471632965890535]}, {\"hoverinfo\": \"none\", \"line\": {\"color\": \"#888\", \"width\": 0.1079694986166408}, \"mode\": \"lines\", \"type\": \"scatter\", \"uid\": \"b46b5c41-16c5-45fb-a36d-620c9bfb26a1\", \"x\": [6.392684892756951, 0.539401822122006], \"y\": [10.959439732331475, 73.48183680023092]}, {\"hoverinfo\": \"none\", \"line\": {\"color\": \"#888\", \"width\": 0.25980160604629193}, \"mode\": \"lines\", \"type\": \"scatter\", \"uid\": \"643c82ed-6658-4473-821e-2301e2c84257\", \"x\": [-13.421627723196826, -27.89948457696739], \"y\": [57.91529661507537, 36.130561798674854]}, {\"hoverinfo\": \"none\", \"line\": {\"color\": \"#888\", \"width\": 0.18219852891558136}, \"mode\": \"lines\", \"type\": \"scatter\", \"uid\": \"aa43043b-a594-4ae9-afdf-333445aa9a3a\", \"x\": [30.410874480912618, 36.70895226265376], \"y\": [-66.12165564954499, -47.92449446809526]}, {\"hoverinfo\": \"none\", \"line\": {\"color\": \"#888\", \"width\": 0.23618327822390175}, \"mode\": \"lines\", \"type\": \"scatter\", \"uid\": \"a2feb960-1137-4c5f-b096-2a896771b659\", \"x\": [-27.89948457696739, 7.061613811578996], \"y\": [36.130561798674854, 52.36826728570741]}, {\"hoverinfo\": \"none\", \"line\": {\"color\": \"#888\", \"width\": 0.11134354544841082}, \"mode\": \"lines\", \"type\": \"scatter\", \"uid\": \"845f075d-c57d-4387-ba9c-8b0df3a88aaa\", \"x\": [0.539401822122006, -27.89948457696739], \"y\": [73.48183680023092, 36.130561798674854]}, {\"hoverinfo\": \"none\", \"line\": {\"color\": \"#888\", \"width\": 0.30366421485930223}, \"mode\": \"lines\", \"type\": \"scatter\", \"uid\": \"23dbf799-e8ba-4eab-8511-b772d3122af2\", \"x\": [14.61861303267559, 26.04883664430212], \"y\": [-67.06300694191923, -26.98946936849362]}, {\"hoverinfo\": \"text\", \"marker\": {\"size\": [0.283423121478299, 0.5229831408230518, 0.7906605333303341, 0.319413359126337, 0.08660150934059137, 0.23843532441825155, 0.48136942854250786, 0.7929099231833365, 24.5509655505944, 10.375310696973447, 0.27667495191929187, 0.3025429352288192, 0.18894874765219935, 0.26205391787477644, 9.33609258488635, 0.6793157356067167, 10.023281184978574, 0.934621483922486, 0.6669440914152036, 0.22381429037373612, 0.7445480413437855, 1.1370665706926997, 0.8941324665684434, 0.1675795440486768, 0.16083137448966967, 1.067335485249626, 0.27667495191929187, 0.16645484912217562, 0.6883132950187262, 18.298786454174305, 2.52156602521566, 3.04229977618571, 0.9638635520115169, 0.46674839449799244], \"sizemin\": 4, \"sizemode\": \"area\", \"sizeref\": 0.030688706938243004}, \"mode\": \"markers+text\", \"text\": [\"forum.doctissimo.fr (0.28%)\", \"www.elle.fr (0.52%)\", \"www.showbizzsite.be (0.79%)\", \"www.marieclaire.fr (0.32%)\", \"people.bfmtv.com (0.09%)\", \"parismatch.be (0.24%)\", \"www.lemonde.fr (0.48%)\", \"www.doctissimo.fr (0.79%)\", \"www.dhnet.be (24.55%)\", \"www.rtbf.be (10.38%)\", \"www.bfmtv.com (0.28%)\", \"rmcsport.bfmtv.com (0.30%)\", \"stubru.be (0.19%)\", \"www.logic-immo.be (0.26%)\", \"sporza.be (9.34%)\", \"www.9lives.be (0.68%)\", \"www.lalibre.be (10.02%)\", \"www.een.be (0.93%)\", \"www.elle.be (0.67%)\", \"www.magicmaman.com (0.22%)\", \"dagelijksekost.een.be (0.74%)\", \"www.goudengids.be (1.14%)\", \"www.moniteurautomobile.be (0.89%)\", \"www.cosmopolitan.fr (0.17%)\", \"radioplus.be (0.16%)\", \"www.pagesdor.be (1.07%)\", \"radio2.be (0.28%)\", \"www.psychologies.com (0.17%)\", \"njam.tv (0.69%)\", \"www.immoweb.be (18.30%)\", \"lessportsplus.dhnet.be (2.52%)\", \"www.zita.be (3.04%)\", \"www.autogids.be (0.96%)\", \"www.01net.com (0.47%)\"], \"textfont\": {\"color\": \"Green\", \"family\": \"sans serif\", \"size\": 18}, \"textposition\": \"bottom center\", \"type\": \"scatter\", \"uid\": \"5cf9ff60-c74e-4b61-95e2-296e7c19ae48\", \"x\": [-36.722194461567994, 27.301667669154046, 8.088513927051995, -41.09744453240488, -41.09046600346163, 7.061613811578996, 19.557051226682788, -21.098063272461193, 22.970264202187924, -27.89948457696739, -16.232482625361804, 6.680120458727134, -108.85245728809427, 37.88296909748756, 30.410874480912618, 83.70335502476684, 6.392684892756951, 36.70895226265376, 27.9776794079129, -6.259229705442365, 41.48956329693529, 14.61861303267559, -13.421627723196826, 43.179810646949306, -111.39935060505506, -10.342592301858382, 46.34394354940878, 0.539401822122006, 49.18163113132337, 26.04883664430212, -4.6694629540254065, 18.28296144162177, 32.36436107596362, 65.45761297129408], \"y\": [14.948487387529157, 7.464008085107545, -76.13044404323009, 3.435269971129419, 64.3187632716109, 52.36826728570741, -0.8609825480266313, 10.377153035352139, 41.25496565373128, 36.130561798674854, -6.197712439492456, 40.395786066960625, 38.28534102351887, 32.62249022457843, -66.12165564954499, -25.802891173819347, 10.959439732331475, -47.92449446809526, 22.296356984835096, 27.21996450374003, -67.04180068602615, -67.06300694191923, 57.91529661507537, 97.33343795871183, 38.343839726736064, 16.023698691882426, -48.88532365974822, 73.48183680023092, -65.93204810800226, -26.98946936849362, 42.471632965890535, -73.9162519462213, -83.39837832724007, 41.73067382151475]}],\n",
       "                        {\"height\": 1500, \"hovermode\": \"closest\", \"margin\": {\"b\": 200, \"l\": 200, \"pad\": 4, \"r\": 200, \"t\": 200}, \"showlegend\": false, \"title\": {\"font\": {\"size\": 16}, \"text\": \"Domains visited together\"}, \"width\": 2500, \"xaxis\": {\"showgrid\": false, \"showticklabels\": false, \"zeroline\": false}, \"yaxis\": {\"showgrid\": false, \"showticklabels\": false, \"zeroline\": false}},\n",
       "                        {\"responsive\": true, \"plotlyServerURL\": \"https://plot.ly\", \"linkText\": \"Export to plot.ly\", \"showLink\": false}\n",
       "                    ).then(function(){\n",
       "                            \n",
       "var gd = document.getElementById('85b8845f-b03d-4890-986f-357c5e71f10f');\n",
       "var x = new MutationObserver(function (mutations, observer) {{\n",
       "        var display = window.getComputedStyle(gd).display;\n",
       "        if (!display || display === 'none') {{\n",
       "            console.log([gd, 'removed!']);\n",
       "            Plotly.purge(gd);\n",
       "            observer.disconnect();\n",
       "        }}\n",
       "}});\n",
       "\n",
       "// Listen for the removal of the full notebook cells\n",
       "var notebookContainer = gd.closest('#notebook-container');\n",
       "if (notebookContainer) {{\n",
       "    x.observe(notebookContainer, {childList: true});\n",
       "}}\n",
       "\n",
       "// Listen for the clearing of the current output cell\n",
       "var outputEl = gd.closest('.output');\n",
       "if (outputEl) {{\n",
       "    x.observe(outputEl, {childList: true});\n",
       "}}\n",
       "\n",
       "                        })\n",
       "                };\n",
       "                });\n",
       "            </script>\n",
       "        </div>"
      ]
     },
     "metadata": {},
     "output_type": "display_data"
    }
   ],
   "source": [
    "fig = go.Figure(data=traces,\n",
    "             layout=go.Layout(\n",
    "                title='Domains visited together',\n",
    "                titlefont_size=16,\n",
    "                showlegend=False,\n",
    "                hovermode='closest',\n",
    "                height=1500,\n",
    "                width=2500,\n",
    "                margin=go.layout.Margin(\n",
    "                    l=200,\n",
    "                    r=200,\n",
    "                    b=200,\n",
    "                    t=200,\n",
    "                    pad=4\n",
    "                ),\n",
    "                xaxis=dict(showgrid=False, zeroline=False, showticklabels=False),\n",
    "                yaxis=dict(showgrid=False, zeroline=False, showticklabels=False))\n",
    "                )\n",
    "py.iplot(fig, filename='lift-curves')"
   ]
  },
  {
   "cell_type": "code",
   "execution_count": 276,
   "metadata": {},
   "outputs": [
    {
     "data": {
      "text/plain": [
       "[((u'www.magicmaman.com', u'www.rtbf.be'), 0.1214656859437209),\n",
       " ((u'www.een.be', u'www.immoweb.be'), 0.10122140495310075),\n",
       " ((u'www.rtbf.be', u'www.immoweb.be'), 0.7186719751670153),\n",
       " ((u'www.rtbf.be', u'www.lalibre.be'), 2.0547945205479454),\n",
       " ((u'rmcsport.bfmtv.com', u'www.lalibre.be'), 0.1889466225791214),\n",
       " ((u'www.immoweb.be', u'www.elle.be'), 0.18557257574735136),\n",
       " ((u'parismatch.be', u'www.rtbf.be'), 0.23618327822390175),\n",
       " ((u'www.logic-immo.be', u'www.dhnet.be'), 0.13833592010257104),\n",
       " ((u'www.immoweb.be', u'dagelijksekost.een.be'), 0.12483973277549093),\n",
       " ((u'www.lemonde.fr', u'www.lalibre.be'), 0.11471759228018084),\n",
       " ((u'forum.doctissimo.fr', u'www.lalibre.be'), 0.11134354544841082),\n",
       " ((u'www.lalibre.be', u'www.magicmaman.com'), 0.13158782643903097),\n",
       " ((u'www.pagesdor.be', u'www.immoweb.be'), 0.3407787300087725),\n",
       " ((u'www.lalibre.be', u'www.lemonde.fr'), 0.11471759228018084),\n",
       " ((u'www.dhnet.be', u'forum.doctissimo.fr'), 0.16870234158850125),\n",
       " ((u'www.dhnet.be', u'www.psychologies.com'), 0.134961873270801),\n",
       " ((u'www.dhnet.be', u'www.cosmopolitan.fr'), 0.13158782643903097),\n",
       " ((u'www.cosmopolitan.fr', u'www.dhnet.be'), 0.13158782643903097),\n",
       " ((u'radioplus.be', u'stubru.be'), 0.13158782643903097),\n",
       " ((u'www.01net.com', u'www.dhnet.be'), 0.15183210742965111),\n",
       " ((u'www.elle.be', u'www.rtbf.be'), 0.1079694986166408),\n",
       " ((u'www.doctissimo.fr', u'www.immoweb.be'), 0.22268709089682165),\n",
       " ((u'www.doctissimo.fr', u'www.lalibre.be'), 0.28679398070045214),\n",
       " ((u'www.01net.com', u'www.lalibre.be'), 0.11809163911195088),\n",
       " ((u'www.lalibre.be', u'parismatch.be'), 0.3104123085228423),\n",
       " ((u'www.rtbf.be', u'www.moniteurautomobile.be'), 0.25980160604629193),\n",
       " ((u'www.elle.be', u'www.lalibre.be'), 0.19906876307443147),\n",
       " ((u'forum.doctissimo.fr', u'www.dhnet.be'), 0.16870234158850125),\n",
       " ((u'www.rtbf.be', u'lessportsplus.dhnet.be'), 0.8806262230919765),\n",
       " ((u'www.dhnet.be', u'www.immoweb.be'), 1.0425804710169377),\n",
       " ((u'rmcsport.bfmtv.com', u'lessportsplus.dhnet.be'), 0.134961873270801),\n",
       " ((u'www.moniteurautomobile.be', u'www.lalibre.be'), 0.19906876307443147),\n",
       " ((u'www.dhnet.be', u'www.pagesdor.be'), 0.6883055536810851),\n",
       " ((u'www.elle.fr', u'www.dhnet.be'), 0.2294351845603617),\n",
       " ((u'www.immoweb.be', u'www.een.be'), 0.10122140495310075),\n",
       " ((u'www.dhnet.be', u'www.doctissimo.fr'), 0.4318779944665632),\n",
       " ((u'www.goudengids.be', u'www.zita.be'), 0.1484580605978811),\n",
       " ((u'www.lalibre.be', u'lessportsplus.dhnet.be'), 0.6545650853633849),\n",
       " ((u'www.pagesdor.be', u'www.magicmaman.com'), 0.10122140495310075),\n",
       " ((u'www.rtbf.be', u'forum.doctissimo.fr'), 0.13158782643903097),\n",
       " ((u'www.dhnet.be', u'www.elle.be'), 0.1889466225791214),\n",
       " ((u'www.dhnet.be', u'www.lemonde.fr'), 0.11471759228018084),\n",
       " ((u'www.zita.be', u'www.immoweb.be'), 0.1754504352520413),\n",
       " ((u'lessportsplus.dhnet.be', u'www.dhnet.be'), 1.7072676968756326),\n",
       " ((u'forum.doctissimo.fr', u'www.rtbf.be'), 0.13158782643903097),\n",
       " ((u'dagelijksekost.een.be', u'www.immoweb.be'), 0.12483973277549093),\n",
       " ((u'www.immoweb.be', u'www.dhnet.be'), 1.0425804710169377),\n",
       " ((u'www.doctissimo.fr', u'www.rtbf.be'), 0.35764896416762265),\n",
       " ((u'www.lalibre.be', u'www.01net.com'), 0.11809163911195088),\n",
       " ((u'www.goudengids.be', u'www.showbizzsite.be'), 0.11809163911195088),\n",
       " ((u'www.lalibre.be', u'rmcsport.bfmtv.com'), 0.1889466225791214),\n",
       " ((u'www.rtbf.be', u'www.dhnet.be'), 3.134489506714353),\n",
       " ((u'www.psychologies.com', u'www.dhnet.be'), 0.134961873270801),\n",
       " ((u'www.pagesdor.be', u'www.dhnet.be'), 0.6883055536810851),\n",
       " ((u'www.doctissimo.fr', u'forum.doctissimo.fr'), 0.14170996693434104),\n",
       " ((u'parismatch.be', u'www.lalibre.be'), 0.3104123085228423),\n",
       " ((u'www.psychologies.com', u'www.lalibre.be'), 0.1079694986166408),\n",
       " ((u'www.elle.fr', u'www.rtbf.be'), 0.2024428099062015),\n",
       " ((u'www.immoweb.be', u'www.zita.be'), 0.1754504352520413),\n",
       " ((u'www.pagesdor.be', u'www.lalibre.be'), 0.4420001349618733),\n",
       " ((u'www.lalibre.be', u'www.bfmtv.com'), 0.23955732505567176),\n",
       " ((u'sporza.be', u'www.zita.be'), 0.19569471624266144),\n",
       " ((u'www.rtbf.be', u'www.elle.be'), 0.1079694986166408),\n",
       " ((u'www.een.be', u'radio2.be'), 0.1079694986166408),\n",
       " ((u'www.moniteurautomobile.be', u'lessportsplus.dhnet.be'),\n",
       "  0.12821377960726094),\n",
       " ((u'www.marieclaire.fr', u'www.rtbf.be'), 0.15520615426142115),\n",
       " ((u'www.moniteurautomobile.be', u'www.dhnet.be'), 0.3441527768405426),\n",
       " ((u'www.dhnet.be', u'www.lalibre.be'), 3.097374991564883),\n",
       " ((u'lessportsplus.dhnet.be', u'www.immoweb.be'), 0.16532829475673122),\n",
       " ((u'www.immoweb.be', u'www.showbizzsite.be'), 0.14170996693434104),\n",
       " ((u'www.bfmtv.com', u'www.lalibre.be'), 0.23955732505567176),\n",
       " ((u'www.pagesdor.be', u'www.rtbf.be'), 0.4858627437748836),\n",
       " ((u'www.immoweb.be', u'www.pagesdor.be'), 0.3407787300087725),\n",
       " ((u'dagelijksekost.een.be', u'sporza.be'), 0.11134354544841082),\n",
       " ((u'www.lalibre.be', u'www.elle.fr'), 0.1754504352520413),\n",
       " ((u'sporza.be', u'dagelijksekost.een.be'), 0.11134354544841082),\n",
       " ((u'www.dhnet.be', u'www.marieclaire.fr'), 0.18557257574735136),\n",
       " ((u'www.lalibre.be', u'www.marieclaire.fr'), 0.1214656859437209),\n",
       " ((u'stubru.be', u'radioplus.be'), 0.13158782643903097),\n",
       " ((u'www.lemonde.fr', u'www.dhnet.be'), 0.11471759228018084),\n",
       " ((u'www.lalibre.be', u'www.moniteurautomobile.be'), 0.19906876307443147),\n",
       " ((u'www.lalibre.be', u'www.rtbf.be'), 2.0547945205479454),\n",
       " ((u'www.pagesdor.be', u'lessportsplus.dhnet.be'), 0.1214656859437209),\n",
       " ((u'www.9lives.be', u'www.immoweb.be'), 0.1214656859437209),\n",
       " ((u'www.doctissimo.fr', u'www.magicmaman.com'), 0.12821377960726094),\n",
       " ((u'www.dhnet.be', u'www.logic-immo.be'), 0.13833592010257104),\n",
       " ((u'www.immoweb.be', u'www.goudengids.be'), 0.30366421485930223),\n",
       " ((u'www.dhnet.be', u'www.moniteurautomobile.be'), 0.3441527768405426),\n",
       " ((u'lessportsplus.dhnet.be', u'www.moniteurautomobile.be'),\n",
       "  0.12821377960726094),\n",
       " ((u'www.elle.be', u'www.immoweb.be'), 0.18557257574735136),\n",
       " ((u'www.immoweb.be', u'www.9lives.be'), 0.1214656859437209),\n",
       " ((u'www.showbizzsite.be', u'www.immoweb.be'), 0.14170996693434104),\n",
       " ((u'www.rtbf.be', u'www.doctissimo.fr'), 0.35764896416762265),\n",
       " ((u'www.rtbf.be', u'www.pagesdor.be'), 0.4858627437748836),\n",
       " ((u'www.logic-immo.be', u'www.immoweb.be'), 0.3509008705040826),\n",
       " ((u'www.immoweb.be', u'www.lalibre.be'), 0.6680612726904649),\n",
       " ((u'www.dhnet.be', u'www.01net.com'), 0.15183210742965111),\n",
       " ((u'www.immoweb.be', u'www.elle.fr'), 0.1079694986166408),\n",
       " ((u'forum.doctissimo.fr', u'www.doctissimo.fr'), 0.14170996693434104),\n",
       " ((u'lessportsplus.dhnet.be', u'www.lalibre.be'), 0.6545650853633849),\n",
       " ((u'www.elle.fr', u'www.lalibre.be'), 0.1754504352520413),\n",
       " ((u'sporza.be', u'www.immoweb.be'), 0.269923746541602),\n",
       " ((u'www.showbizzsite.be', u'www.goudengids.be'), 0.11809163911195088),\n",
       " ((u'www.immoweb.be', u'njam.tv'), 0.11134354544841082),\n",
       " ((u'www.rtbf.be', u'www.marieclaire.fr'), 0.15520615426142115),\n",
       " ((u'www.dhnet.be', u'people.bfmtv.com'), 0.1079694986166408),\n",
       " ((u'www.rtbf.be', u'www.elle.fr'), 0.2024428099062015),\n",
       " ((u'www.doctissimo.fr', u'www.pagesdor.be'), 0.2024428099062015),\n",
       " ((u'www.showbizzsite.be', u'www.zita.be'), 0.20919090356974154),\n",
       " ((u'njam.tv', u'www.immoweb.be'), 0.11134354544841082),\n",
       " ((u'www.immoweb.be', u'www.logic-immo.be'), 0.3509008705040826),\n",
       " ((u'www.goudengids.be', u'sporza.be'), 0.10122140495310075),\n",
       " ((u'www.marieclaire.fr', u'www.lalibre.be'), 0.1214656859437209),\n",
       " ((u'www.lalibre.be', u'www.elle.be'), 0.19906876307443147),\n",
       " ((u'parismatch.be', u'lessportsplus.dhnet.be'), 0.14170996693434104),\n",
       " ((u'lessportsplus.dhnet.be', u'rmcsport.bfmtv.com'), 0.134961873270801),\n",
       " ((u'www.bfmtv.com', u'www.rtbf.be'), 0.2058168567379715),\n",
       " ((u'www.rtbf.be', u'rmcsport.bfmtv.com'), 0.19906876307443147),\n",
       " ((u'radio2.be', u'www.een.be'), 0.1079694986166408),\n",
       " ((u'www.autogids.be', u'sporza.be'), 0.10122140495310075),\n",
       " ((u'parismatch.be', u'www.dhnet.be'), 0.3239084958499224),\n",
       " ((u'www.bfmtv.com', u'www.dhnet.be'), 0.3441527768405426),\n",
       " ((u'www.dhnet.be', u'rmcsport.bfmtv.com'), 0.2834199338686821),\n",
       " ((u'www.lalibre.be', u'www.doctissimo.fr'), 0.28679398070045214),\n",
       " ((u'www.dhnet.be', u'www.elle.fr'), 0.2294351845603617),\n",
       " ((u'www.elle.be', u'www.dhnet.be'), 0.1889466225791214),\n",
       " ((u'www.doctissimo.fr', u'www.dhnet.be'), 0.4318779944665632),\n",
       " ((u'www.magicmaman.com', u'www.dhnet.be'), 0.18219852891558136),\n",
       " ((u'www.dhnet.be', u'www.bfmtv.com'), 0.3441527768405426),\n",
       " ((u'www.rtbf.be', u'www.psychologies.com'), 0.11134354544841082),\n",
       " ((u'www.dhnet.be', u'www.rtbf.be'), 3.134489506714353),\n",
       " ((u'www.immoweb.be', u'www.rtbf.be'), 0.7186719751670153),\n",
       " ((u'www.een.be', u'sporza.be'), 0.18219852891558136),\n",
       " ((u'www.zita.be', u'sporza.be'), 0.19569471624266144),\n",
       " ((u'www.dhnet.be', u'lessportsplus.dhnet.be'), 1.7072676968756326),\n",
       " ((u'people.bfmtv.com', u'www.dhnet.be'), 0.1079694986166408),\n",
       " ((u'www.lalibre.be', u'www.immoweb.be'), 0.6680612726904649),\n",
       " ((u'dagelijksekost.een.be', u'njam.tv'), 0.19906876307443147),\n",
       " ((u'www.immoweb.be', u'www.doctissimo.fr'), 0.22268709089682165),\n",
       " ((u'www.dhnet.be', u'parismatch.be'), 0.3239084958499224),\n",
       " ((u'lessportsplus.dhnet.be', u'www.pagesdor.be'), 0.1214656859437209),\n",
       " ((u'www.magicmaman.com', u'www.doctissimo.fr'), 0.12821377960726094),\n",
       " ((u'www.elle.fr', u'www.immoweb.be'), 0.1079694986166408),\n",
       " ((u'www.pagesdor.be', u'www.doctissimo.fr'), 0.2024428099062015),\n",
       " ((u'rmcsport.bfmtv.com', u'www.dhnet.be'), 0.2834199338686821),\n",
       " ((u'www.marieclaire.fr', u'www.dhnet.be'), 0.18557257574735136),\n",
       " ((u'njam.tv', u'dagelijksekost.een.be'), 0.19906876307443147),\n",
       " ((u'lessportsplus.dhnet.be', u'parismatch.be'), 0.14170996693434104),\n",
       " ((u'www.lalibre.be', u'www.dhnet.be'), 3.097374991564883),\n",
       " ((u'www.zita.be', u'www.showbizzsite.be'), 0.20919090356974154),\n",
       " ((u'www.zita.be', u'www.goudengids.be'), 0.1484580605978811),\n",
       " ((u'www.dhnet.be', u'www.magicmaman.com'), 0.18219852891558136),\n",
       " ((u'www.lalibre.be', u'www.pagesdor.be'), 0.4420001349618733),\n",
       " ((u'sporza.be', u'www.autogids.be'), 0.10122140495310075),\n",
       " ((u'www.magicmaman.com', u'www.lalibre.be'), 0.13158782643903097),\n",
       " ((u'lessportsplus.dhnet.be', u'www.rtbf.be'), 0.8806262230919765),\n",
       " ((u'rmcsport.bfmtv.com', u'www.rtbf.be'), 0.19906876307443147),\n",
       " ((u'www.rtbf.be', u'www.bfmtv.com'), 0.2058168567379715),\n",
       " ((u'www.immoweb.be', u'sporza.be'), 0.269923746541602),\n",
       " ((u'www.rtbf.be', u'www.magicmaman.com'), 0.1214656859437209),\n",
       " ((u'www.lalibre.be', u'forum.doctissimo.fr'), 0.11134354544841082),\n",
       " ((u'www.magicmaman.com', u'www.pagesdor.be'), 0.10122140495310075),\n",
       " ((u'sporza.be', u'www.goudengids.be'), 0.10122140495310075),\n",
       " ((u'www.immoweb.be', u'lessportsplus.dhnet.be'), 0.16532829475673122),\n",
       " ((u'www.lalibre.be', u'www.psychologies.com'), 0.1079694986166408),\n",
       " ((u'www.moniteurautomobile.be', u'www.rtbf.be'), 0.25980160604629193),\n",
       " ((u'sporza.be', u'www.een.be'), 0.18219852891558136),\n",
       " ((u'www.rtbf.be', u'parismatch.be'), 0.23618327822390175),\n",
       " ((u'www.psychologies.com', u'www.rtbf.be'), 0.11134354544841082),\n",
       " ((u'www.goudengids.be', u'www.immoweb.be'), 0.30366421485930223)]"
      ]
     },
     "execution_count": 276,
     "metadata": {},
     "output_type": "execute_result"
    }
   ],
   "source": [
    "filtered_edges"
   ]
  },
  {
   "cell_type": "code",
   "execution_count": 277,
   "metadata": {},
   "outputs": [
    {
     "data": {
      "text/plain": [
       "{u'dagelijksekost.een.be': 10,\n",
       " u'forum.doctissimo.fr': 12,\n",
       " u'lessportsplus.dhnet.be': 21,\n",
       " u'njam.tv': 31,\n",
       " u'parismatch.be': 7,\n",
       " u'people.bfmtv.com': 32,\n",
       " u'radio2.be': 28,\n",
       " u'radioplus.be': 16,\n",
       " u'rmcsport.bfmtv.com': 5,\n",
       " u'sporza.be': 27,\n",
       " u'stubru.be': 17,\n",
       " u'www.01net.com': 18,\n",
       " u'www.9lives.be': 30,\n",
       " u'www.autogids.be': 33,\n",
       " u'www.bfmtv.com': 26,\n",
       " u'www.cosmopolitan.fr': 15,\n",
       " u'www.dhnet.be': 9,\n",
       " u'www.doctissimo.fr': 19,\n",
       " u'www.een.be': 2,\n",
       " u'www.elle.be': 6,\n",
       " u'www.elle.fr': 22,\n",
       " u'www.goudengids.be': 23,\n",
       " u'www.immoweb.be': 3,\n",
       " u'www.lalibre.be': 4,\n",
       " u'www.lemonde.fr': 11,\n",
       " u'www.logic-immo.be': 8,\n",
       " u'www.magicmaman.com': 0,\n",
       " u'www.marieclaire.fr': 29,\n",
       " u'www.moniteurautomobile.be': 20,\n",
       " u'www.pagesdor.be': 13,\n",
       " u'www.psychologies.com': 14,\n",
       " u'www.rtbf.be': 1,\n",
       " u'www.showbizzsite.be': 25,\n",
       " u'www.zita.be': 24}"
      ]
     },
     "execution_count": 277,
     "metadata": {},
     "output_type": "execute_result"
    }
   ],
   "source": [
    "vertex2index"
   ]
  },
  {
   "cell_type": "code",
   "execution_count": null,
   "metadata": {},
   "outputs": [],
   "source": []
  }
 ],
 "metadata": {
  "kernelspec": {
   "display_name": "Python 2",
   "language": "python",
   "name": "python2"
  },
  "language_info": {
   "codemirror_mode": {
    "name": "ipython",
    "version": 2
   },
   "file_extension": ".py",
   "mimetype": "text/x-python",
   "name": "python",
   "nbconvert_exporter": "python",
   "pygments_lexer": "ipython2",
   "version": "2.7.15"
  }
 },
 "nbformat": 4,
 "nbformat_minor": 2
}
