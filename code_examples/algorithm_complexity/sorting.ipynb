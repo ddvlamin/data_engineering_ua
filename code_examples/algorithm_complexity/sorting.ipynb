{
 "cells": [
  {
   "cell_type": "code",
   "execution_count": 1,
   "metadata": {},
   "outputs": [],
   "source": [
    "import copy\n",
    "import numpy as np\n",
    "from helperfunctions.timing import timeit\n",
    "from IPython.core.debugger import set_trace"
   ]
  },
  {
   "cell_type": "code",
   "execution_count": 2,
   "metadata": {},
   "outputs": [],
   "source": [
    "l1 = [1,2,3,4,5,6,7,8,9,10]\n",
    "l2 = [10,9,8,7,6,5,4,3,2,1]\n",
    "l3 = [2,5,6,4,4,4,1,2,4,10,5,7,9,2]\n",
    "l4 = np.random.permutation(10000)\n",
    "l5 = np.random.permutation(100000)"
   ]
  },
  {
   "cell_type": "code",
   "execution_count": 33,
   "metadata": {},
   "outputs": [],
   "source": [
    "def naivesort(l):\n",
    "    for i, e in enumerate(l):\n",
    "        j = i\n",
    "        while j>0 and e<l[j-1]:\n",
    "            l[j] = l[j-1]\n",
    "            j -= 1\n",
    "        l[j] = e\n",
    "\n",
    "@timeit(1)        \n",
    "def timed_naivesort(l):\n",
    "    naivesort(l)"
   ]
  },
  {
   "cell_type": "code",
   "execution_count": 10,
   "metadata": {},
   "outputs": [
    {
     "name": "stdout",
     "output_type": "stream",
     "text": [
      "average execution time: 1.50203704834e-05\n",
      "[1, 2, 3, 4, 5, 6, 7, 8, 9, 10]\n",
      "average execution time: 1.38282775879e-05\n",
      "[1, 2, 2, 2, 4, 4, 4, 4, 5, 5, 6, 7, 9, 10]\n",
      "average execution time: 20.4616601467\n",
      "(array([0, 1, 2, 3, 4, 5, 6, 7, 8, 9]), array([9990, 9991, 9992, 9993, 9994, 9995, 9996, 9997, 9998, 9999]))\n"
     ]
    }
   ],
   "source": [
    "naivesort(l2)\n",
    "print(l2)\n",
    "naivesort(l3)\n",
    "print(l3)\n",
    "naivesort(l4)\n",
    "print(l4[0:10], l4[-10:])"
   ]
  },
  {
   "cell_type": "code",
   "execution_count": 39,
   "metadata": {},
   "outputs": [],
   "source": [
    "def swap(l, i, j):\n",
    "    #tmp = copy.deepcopy(l[j])\n",
    "    #l[j] = copy.deepcopy(l[i])\n",
    "    tmp = l[j]\n",
    "    l[j] = l[i]\n",
    "    l[i] = tmp"
   ]
  },
  {
   "cell_type": "code",
   "execution_count": 40,
   "metadata": {},
   "outputs": [],
   "source": [
    "@timeit(1)\n",
    "def quicksort(l):\n",
    "    quicksort_helper(l, 0, len(l)-1)\n",
    "\n",
    "def quicksort_helper(l, starti, endi):\n",
    "    #set_trace()\n",
    "    if starti >= endi:\n",
    "        return\n",
    "    if endi-starti+1<=100:\n",
    "        naivesort(l)\n",
    "    else:\n",
    "        middlei = int(0.5*(starti+endi))\n",
    "        if (l[middlei]<l[starti]):\n",
    "            swap(l,starti, middlei)\n",
    "        if (l[endi]<l[starti]):\n",
    "            swap(l, starti, endi)\n",
    "        if (l[endi]<l[middlei]):\n",
    "            swap(l, middlei, endi)\n",
    "        pivoti = middlei\n",
    "        \n",
    "        swap(l, pivoti, endi-1)\n",
    "        pivot = l[endi-1]\n",
    "        lefti = starti+1\n",
    "        righti = endi-2\n",
    "        \n",
    "        #print(lefti, righti, pivot)\n",
    "        \n",
    "        while True:\n",
    "            while l[lefti]<pivot:\n",
    "                lefti += 1\n",
    "            while pivot<l[righti]:\n",
    "                righti -= 1\n",
    "            if lefti < righti:\n",
    "                swap(l, lefti, righti)\n",
    "            else:\n",
    "                break\n",
    "                \n",
    "        pivoti = lefti\n",
    "        swap(l, pivoti, endi-1)\n",
    "        #print(\"call quicksort {}, {}\".format(starti, pivoti-1))\n",
    "        quicksort_helper(l, starti, pivoti-1)\n",
    "        #print(\"call quicksort {}, {}\".format(pivot+1, endi))\n",
    "        quicksort_helper(l, pivoti+1, endi)"
   ]
  },
  {
   "cell_type": "code",
   "execution_count": 41,
   "metadata": {},
   "outputs": [],
   "source": [
    "l1 = [1,2,3,4,5,6,7,8,9,10]\n",
    "l2 = [10,9,8,7,6,5,4,3,2,1]\n",
    "l3 = [2,5,6,4,4,4,1,2,4,10,5,7,9,2]\n",
    "l4 = np.random.permutation(10000)\n",
    "l5 = np.random.permutation(40000)"
   ]
  },
  {
   "cell_type": "code",
   "execution_count": 42,
   "metadata": {},
   "outputs": [
    {
     "name": "stdout",
     "output_type": "stream",
     "text": [
      "average execution time: 1.78813934326e-05\n",
      "[1, 2, 3, 4, 5, 6, 7, 8, 9, 10]\n",
      "average execution time: 1.38282775879e-05\n",
      "[1, 2, 2, 2, 4, 4, 4, 4, 5, 5, 6, 7, 9, 10]\n",
      "average execution time: 140.315243006\n",
      "(array([0, 1, 2, 3, 4, 5, 6, 7, 8, 9]), array([39990, 39991, 39992, 39993, 39994, 39995, 39996, 39997, 39998,\n",
      "       39999]))\n"
     ]
    }
   ],
   "source": [
    "quicksort(l2)\n",
    "print(l2)\n",
    "quicksort(l3)\n",
    "print(l3)\n",
    "quicksort(l5)\n",
    "print(l5[0:10], l5[-10:])"
   ]
  },
  {
   "cell_type": "code",
   "execution_count": 22,
   "metadata": {},
   "outputs": [],
   "source": [
    "assert sorted(copy.deepcopy(list(l4))) == list(l4)"
   ]
  },
  {
   "cell_type": "code",
   "execution_count": 38,
   "metadata": {},
   "outputs": [
    {
     "name": "stdout",
     "output_type": "stream",
     "text": [
      "average execution time: 332.729719877\n",
      "(array([0, 1, 2, 3, 4, 5, 6, 7, 8, 9]), array([39990, 39991, 39992, 39993, 39994, 39995, 39996, 39997, 39998,\n",
      "       39999]))\n"
     ]
    }
   ],
   "source": [
    "timed_naivesort(l5)\n",
    "print(l5[0:10], l5[-10:])"
   ]
  },
  {
   "cell_type": "code",
   "execution_count": null,
   "metadata": {},
   "outputs": [],
   "source": []
  }
 ],
 "metadata": {
  "kernelspec": {
   "display_name": "Python 2",
   "language": "python",
   "name": "python2"
  },
  "language_info": {
   "codemirror_mode": {
    "name": "ipython",
    "version": 2
   },
   "file_extension": ".py",
   "mimetype": "text/x-python",
   "name": "python",
   "nbconvert_exporter": "python",
   "pygments_lexer": "ipython2",
   "version": "2.7.15"
  }
 },
 "nbformat": 4,
 "nbformat_minor": 2
}
