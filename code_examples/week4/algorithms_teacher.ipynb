{
 "cells": [
  {
   "cell_type": "markdown",
   "metadata": {},
   "source": [
    "## In this lab session we will implement two algorithms (an algorithm for sorting and one for detecting communities) each in two different ways: a naive, less efficient way and a better, faster way\n",
    "\n",
    "### Fill in the CODE_HERE placeholders and check your code by evaluating the boxes with assert statements"
   ]
  },
  {
   "cell_type": "code",
   "execution_count": 1,
   "metadata": {},
   "outputs": [
    {
     "name": "stdout",
     "output_type": "stream",
     "text": [
      "Requirement already satisfied: matplotlib in /home/ubuntu/.pyenv/versions/3.8.0/envs/data_engineering/lib/python3.8/site-packages (3.1.2)\n",
      "Requirement already satisfied: python-dateutil>=2.1 in /home/ubuntu/.pyenv/versions/3.8.0/envs/data_engineering/lib/python3.8/site-packages (from matplotlib) (2.8.1)\n",
      "Requirement already satisfied: numpy>=1.11 in /home/ubuntu/.pyenv/versions/3.8.0/envs/data_engineering/lib/python3.8/site-packages (from matplotlib) (1.18.1)\n",
      "Requirement already satisfied: kiwisolver>=1.0.1 in /home/ubuntu/.pyenv/versions/3.8.0/envs/data_engineering/lib/python3.8/site-packages (from matplotlib) (1.1.0)\n",
      "Requirement already satisfied: pyparsing!=2.0.4,!=2.1.2,!=2.1.6,>=2.0.1 in /home/ubuntu/.pyenv/versions/3.8.0/envs/data_engineering/lib/python3.8/site-packages (from matplotlib) (2.4.6)\n",
      "Requirement already satisfied: cycler>=0.10 in /home/ubuntu/.pyenv/versions/3.8.0/envs/data_engineering/lib/python3.8/site-packages (from matplotlib) (0.10.0)\n",
      "Requirement already satisfied: six>=1.5 in /home/ubuntu/.pyenv/versions/3.8.0/envs/data_engineering/lib/python3.8/site-packages (from python-dateutil>=2.1->matplotlib) (1.13.0)\n",
      "Requirement already satisfied: setuptools in /home/ubuntu/.pyenv/versions/3.8.0/envs/data_engineering/lib/python3.8/site-packages (from kiwisolver>=1.0.1->matplotlib) (41.2.0)\n",
      "\u001b[33mWARNING: You are using pip version 19.2.3, however version 20.0.2 is available.\n",
      "You should consider upgrading via the 'pip install --upgrade pip' command.\u001b[0m\n",
      "Requirement already satisfied: plotly in /home/ubuntu/.pyenv/versions/3.8.0/envs/data_engineering/lib/python3.8/site-packages (4.4.1)\n",
      "Requirement already satisfied: retrying>=1.3.3 in /home/ubuntu/.pyenv/versions/3.8.0/envs/data_engineering/lib/python3.8/site-packages (from plotly) (1.3.3)\n",
      "Requirement already satisfied: six in /home/ubuntu/.pyenv/versions/3.8.0/envs/data_engineering/lib/python3.8/site-packages (from plotly) (1.13.0)\n",
      "\u001b[33mWARNING: You are using pip version 19.2.3, however version 20.0.2 is available.\n",
      "You should consider upgrading via the 'pip install --upgrade pip' command.\u001b[0m\n",
      "Requirement already satisfied: networkx in /home/ubuntu/.pyenv/versions/3.8.0/envs/data_engineering/lib/python3.8/site-packages (2.4)\n",
      "Requirement already satisfied: decorator>=4.3.0 in /home/ubuntu/.pyenv/versions/3.8.0/envs/data_engineering/lib/python3.8/site-packages (from networkx) (4.4.1)\n",
      "\u001b[33mWARNING: You are using pip version 19.2.3, however version 20.0.2 is available.\n",
      "You should consider upgrading via the 'pip install --upgrade pip' command.\u001b[0m\n"
     ]
    }
   ],
   "source": [
    "#let us first install the necessary libraries\n",
    "!pip install matplotlib\n",
    "!pip install plotly\n",
    "!pip install networkx"
   ]
  },
  {
   "cell_type": "code",
   "execution_count": 2,
   "metadata": {},
   "outputs": [
    {
     "data": {
      "text/html": [
       "        <script type=\"text/javascript\">\n",
       "        window.PlotlyConfig = {MathJaxConfig: 'local'};\n",
       "        if (window.MathJax) {MathJax.Hub.Config({SVG: {font: \"STIX-Web\"}});}\n",
       "        if (typeof require !== 'undefined') {\n",
       "        require.undef(\"plotly\");\n",
       "        requirejs.config({\n",
       "            paths: {\n",
       "                'plotly': ['https://cdn.plot.ly/plotly-latest.min']\n",
       "            }\n",
       "        });\n",
       "        require(['plotly'], function(Plotly) {\n",
       "            window._Plotly = Plotly;\n",
       "        });\n",
       "        }\n",
       "        </script>\n",
       "        "
      ]
     },
     "metadata": {},
     "output_type": "display_data"
    }
   ],
   "source": [
    "from collections import defaultdict\n",
    "from itertools import count\n",
    "\n",
    "import time\n",
    "import copy\n",
    "import numpy as np\n",
    "\n",
    "import matplotlib.pyplot as plt\n",
    "import plotly.offline as py\n",
    "from plotly.offline import init_notebook_mode\n",
    "import plotly.graph_objs as go\n",
    "init_notebook_mode(connected=True)\n",
    "\n",
    "import networkx as nx"
   ]
  },
  {
   "cell_type": "markdown",
   "metadata": {},
   "source": [
    "### Let's start with the sorting algorithm\n",
    "We will create multiple data sets of integers we want to sort <br>\n",
    "Each data set bigger than the previous one <br>\n",
    "These different sized data sets will be use to emperically determine the complexity of the algorithm"
   ]
  },
  {
   "cell_type": "code",
   "execution_count": 3,
   "metadata": {},
   "outputs": [],
   "source": [
    "def apply_and_time_sorting(datasets, sort_function):\n",
    "    datasets = copy.deepcopy(datasets)\n",
    "    timings = []\n",
    "    for dataset in datasets:\n",
    "        start = time.time()\n",
    "        sort_function(dataset)\n",
    "        end = time.time()\n",
    "        time_difference = end - start\n",
    "        timings.append(time_difference)\n",
    "    return timings\n",
    "\n",
    "data_sizes = [5000,10000,20000]"
   ]
  },
  {
   "cell_type": "code",
   "execution_count": 4,
   "metadata": {},
   "outputs": [],
   "source": [
    "datasets = []\n",
    "for data_size in data_sizes:\n",
    "    datasets.append(np.random.permutation(data_size))"
   ]
  },
  {
   "cell_type": "markdown",
   "metadata": {},
   "source": [
    "### Here we will implement the naive insertion sorting algorithm \n",
    "It's an algorithm that sorts an array in-place by iterating over the elements and inserting the current element\n",
    "in the part of the array that is already sorted\n",
    "\n",
    "```python\n",
    "[1,11,13,7,4,8,0]\n",
    "```\n",
    "\n",
    "If the current element is 7, then the part of the algorithm before 7 is already sorted by the algorithm <br>\n",
    "It then tries to find the position to insert the element 7 in the part of the array that is already sorted <br>\n",
    "Resulting in\n",
    "\n",
    "```python\n",
    "[1,7,11,13,4,8,0]\n",
    "```\n",
    "\n",
    "The next element to be sorted is 4"
   ]
  },
  {
   "cell_type": "code",
   "execution_count": 5,
   "metadata": {},
   "outputs": [],
   "source": [
    "def naivesort(data):\n",
    "    \"\"\"\n",
    "    sorts the data in place\n",
    "    \"\"\"\n",
    "    for i, element in enumerate(data):\n",
    "        j = i\n",
    "        while j>0 and element<data[j-1]: #iterate back into the array as long as the current element is smaller\n",
    "            data[j] = data[j-1] #put the bigger element in the position of the current one\n",
    "            j -= 1\n",
    "        data[j] = element # store the current element in its sorted position"
   ]
  },
  {
   "cell_type": "code",
   "execution_count": 6,
   "metadata": {},
   "outputs": [],
   "source": [
    "data = np.random.permutation(10)\n",
    "naivesort(data)\n",
    "assert np.all(data == np.array([0,1,2,3,4,5,6,7,8,9]))"
   ]
  },
  {
   "cell_type": "code",
   "execution_count": 7,
   "metadata": {},
   "outputs": [
    {
     "name": "stdout",
     "output_type": "stream",
     "text": [
      "[3.374497890472412, 13.64414119720459, 54.22790861129761]\n"
     ]
    }
   ],
   "source": [
    "timings_slow = apply_and_time_sorting(datasets, naivesort)\n",
    "print(timings_slow)"
   ]
  },
  {
   "cell_type": "markdown",
   "metadata": {},
   "source": [
    "### Let's compare this with the quicksort algorithm that was discussed in class"
   ]
  },
  {
   "cell_type": "code",
   "execution_count": 8,
   "metadata": {},
   "outputs": [],
   "source": [
    "datasets = []\n",
    "for data_size in data_sizes:\n",
    "    datasets.append(np.random.permutation(data_size))"
   ]
  },
  {
   "cell_type": "code",
   "execution_count": 9,
   "metadata": {},
   "outputs": [],
   "source": [
    "def swap(l, i, j):\n",
    "    tmp = l[j]\n",
    "    l[j] = l[i]\n",
    "    l[i] = tmp\n",
    "\n",
    "def quicksort_helper(l, starti, endi):\n",
    "    #set_trace()\n",
    "    if starti >= endi:\n",
    "        return\n",
    "    if endi-starti+1<=100:\n",
    "        naivesort(l)\n",
    "    else:\n",
    "        middlei = int(0.5*(starti+endi))\n",
    "        #first make sure the start, middle and end element are in sorted order\n",
    "        if (l[middlei]<l[starti]):\n",
    "            swap(l,starti, middlei)\n",
    "        if (l[endi]<l[starti]):\n",
    "            swap(l, starti, endi)\n",
    "        if (l[endi]<l[middlei]):\n",
    "            swap(l, middlei, endi)\n",
    "        pivoti = middlei\n",
    "        \n",
    "        #put the pivot element just before the last \n",
    "        swap(l, pivoti, endi-1)\n",
    "        pivot = l[endi-1]\n",
    "        lefti = starti+1\n",
    "        righti = endi-2\n",
    "        \n",
    "        #now make sure the elements are partially sorted,\n",
    "        #i.e. elements in the first half should be smaller than the pivot element\n",
    "        #the elements in the second half should be larger than the pivot element\n",
    "        while True:\n",
    "            while l[lefti]<pivot: #move the cursor from left to right until you encounter an element larger than the pivot\n",
    "                lefti += 1\n",
    "            while pivot<l[righti]: #move the cursor from right to left until you encounter an element larger than the pivot\n",
    "                righti -= 1\n",
    "            if lefti < righti: #the right element should be smaller than the left element, swap them \n",
    "                swap(l, lefti, righti)\n",
    "            else:\n",
    "                break\n",
    "                \n",
    "        pivoti = lefti\n",
    "        swap(l, pivoti, endi-1)\n",
    "        #recursive sort the first half of the array\n",
    "        quicksort_helper(l, starti, pivoti-1)\n",
    "        #recursive sort the second half of the array\n",
    "        quicksort_helper(l, pivoti+1, endi)\n",
    "        \n",
    "def quicksort(l):\n",
    "    quicksort_helper(l, 0, len(l)-1)"
   ]
  },
  {
   "cell_type": "code",
   "execution_count": 10,
   "metadata": {},
   "outputs": [],
   "source": [
    "data = np.random.permutation(10)\n",
    "quicksort(data)\n",
    "assert np.all(data == np.array([0,1,2,3,4,5,6,7,8,9]))"
   ]
  },
  {
   "cell_type": "code",
   "execution_count": 11,
   "metadata": {},
   "outputs": [
    {
     "name": "stdout",
     "output_type": "stream",
     "text": [
      "[1.2157397270202637, 5.089610576629639, 19.029390573501587]\n"
     ]
    }
   ],
   "source": [
    "timings_fast = apply_and_time_sorting(datasets, quicksort)\n",
    "print(timings_fast)"
   ]
  },
  {
   "cell_type": "code",
   "execution_count": 13,
   "metadata": {},
   "outputs": [
    {
     "data": {
      "application/vnd.plotly.v1+json": {
       "config": {
        "plotlyServerURL": "https://plot.ly"
       },
       "data": [
        {
         "mode": "lines",
         "name": "slow",
         "type": "scatter",
         "x": [
          5000,
          10000,
          20000
         ],
         "y": [
          3.374497890472412,
          13.64414119720459,
          54.22790861129761
         ]
        },
        {
         "mode": "lines",
         "name": "fast",
         "type": "scatter",
         "x": [
          5000,
          10000,
          20000
         ],
         "y": [
          1.2157397270202637,
          5.089610576629639,
          19.029390573501587
         ]
        }
       ],
       "layout": {
        "template": {
         "data": {
          "bar": [
           {
            "error_x": {
             "color": "#2a3f5f"
            },
            "error_y": {
             "color": "#2a3f5f"
            },
            "marker": {
             "line": {
              "color": "#E5ECF6",
              "width": 0.5
             }
            },
            "type": "bar"
           }
          ],
          "barpolar": [
           {
            "marker": {
             "line": {
              "color": "#E5ECF6",
              "width": 0.5
             }
            },
            "type": "barpolar"
           }
          ],
          "carpet": [
           {
            "aaxis": {
             "endlinecolor": "#2a3f5f",
             "gridcolor": "white",
             "linecolor": "white",
             "minorgridcolor": "white",
             "startlinecolor": "#2a3f5f"
            },
            "baxis": {
             "endlinecolor": "#2a3f5f",
             "gridcolor": "white",
             "linecolor": "white",
             "minorgridcolor": "white",
             "startlinecolor": "#2a3f5f"
            },
            "type": "carpet"
           }
          ],
          "choropleth": [
           {
            "colorbar": {
             "outlinewidth": 0,
             "ticks": ""
            },
            "type": "choropleth"
           }
          ],
          "contour": [
           {
            "colorbar": {
             "outlinewidth": 0,
             "ticks": ""
            },
            "colorscale": [
             [
              0,
              "#0d0887"
             ],
             [
              0.1111111111111111,
              "#46039f"
             ],
             [
              0.2222222222222222,
              "#7201a8"
             ],
             [
              0.3333333333333333,
              "#9c179e"
             ],
             [
              0.4444444444444444,
              "#bd3786"
             ],
             [
              0.5555555555555556,
              "#d8576b"
             ],
             [
              0.6666666666666666,
              "#ed7953"
             ],
             [
              0.7777777777777778,
              "#fb9f3a"
             ],
             [
              0.8888888888888888,
              "#fdca26"
             ],
             [
              1,
              "#f0f921"
             ]
            ],
            "type": "contour"
           }
          ],
          "contourcarpet": [
           {
            "colorbar": {
             "outlinewidth": 0,
             "ticks": ""
            },
            "type": "contourcarpet"
           }
          ],
          "heatmap": [
           {
            "colorbar": {
             "outlinewidth": 0,
             "ticks": ""
            },
            "colorscale": [
             [
              0,
              "#0d0887"
             ],
             [
              0.1111111111111111,
              "#46039f"
             ],
             [
              0.2222222222222222,
              "#7201a8"
             ],
             [
              0.3333333333333333,
              "#9c179e"
             ],
             [
              0.4444444444444444,
              "#bd3786"
             ],
             [
              0.5555555555555556,
              "#d8576b"
             ],
             [
              0.6666666666666666,
              "#ed7953"
             ],
             [
              0.7777777777777778,
              "#fb9f3a"
             ],
             [
              0.8888888888888888,
              "#fdca26"
             ],
             [
              1,
              "#f0f921"
             ]
            ],
            "type": "heatmap"
           }
          ],
          "heatmapgl": [
           {
            "colorbar": {
             "outlinewidth": 0,
             "ticks": ""
            },
            "colorscale": [
             [
              0,
              "#0d0887"
             ],
             [
              0.1111111111111111,
              "#46039f"
             ],
             [
              0.2222222222222222,
              "#7201a8"
             ],
             [
              0.3333333333333333,
              "#9c179e"
             ],
             [
              0.4444444444444444,
              "#bd3786"
             ],
             [
              0.5555555555555556,
              "#d8576b"
             ],
             [
              0.6666666666666666,
              "#ed7953"
             ],
             [
              0.7777777777777778,
              "#fb9f3a"
             ],
             [
              0.8888888888888888,
              "#fdca26"
             ],
             [
              1,
              "#f0f921"
             ]
            ],
            "type": "heatmapgl"
           }
          ],
          "histogram": [
           {
            "marker": {
             "colorbar": {
              "outlinewidth": 0,
              "ticks": ""
             }
            },
            "type": "histogram"
           }
          ],
          "histogram2d": [
           {
            "colorbar": {
             "outlinewidth": 0,
             "ticks": ""
            },
            "colorscale": [
             [
              0,
              "#0d0887"
             ],
             [
              0.1111111111111111,
              "#46039f"
             ],
             [
              0.2222222222222222,
              "#7201a8"
             ],
             [
              0.3333333333333333,
              "#9c179e"
             ],
             [
              0.4444444444444444,
              "#bd3786"
             ],
             [
              0.5555555555555556,
              "#d8576b"
             ],
             [
              0.6666666666666666,
              "#ed7953"
             ],
             [
              0.7777777777777778,
              "#fb9f3a"
             ],
             [
              0.8888888888888888,
              "#fdca26"
             ],
             [
              1,
              "#f0f921"
             ]
            ],
            "type": "histogram2d"
           }
          ],
          "histogram2dcontour": [
           {
            "colorbar": {
             "outlinewidth": 0,
             "ticks": ""
            },
            "colorscale": [
             [
              0,
              "#0d0887"
             ],
             [
              0.1111111111111111,
              "#46039f"
             ],
             [
              0.2222222222222222,
              "#7201a8"
             ],
             [
              0.3333333333333333,
              "#9c179e"
             ],
             [
              0.4444444444444444,
              "#bd3786"
             ],
             [
              0.5555555555555556,
              "#d8576b"
             ],
             [
              0.6666666666666666,
              "#ed7953"
             ],
             [
              0.7777777777777778,
              "#fb9f3a"
             ],
             [
              0.8888888888888888,
              "#fdca26"
             ],
             [
              1,
              "#f0f921"
             ]
            ],
            "type": "histogram2dcontour"
           }
          ],
          "mesh3d": [
           {
            "colorbar": {
             "outlinewidth": 0,
             "ticks": ""
            },
            "type": "mesh3d"
           }
          ],
          "parcoords": [
           {
            "line": {
             "colorbar": {
              "outlinewidth": 0,
              "ticks": ""
             }
            },
            "type": "parcoords"
           }
          ],
          "pie": [
           {
            "automargin": true,
            "type": "pie"
           }
          ],
          "scatter": [
           {
            "marker": {
             "colorbar": {
              "outlinewidth": 0,
              "ticks": ""
             }
            },
            "type": "scatter"
           }
          ],
          "scatter3d": [
           {
            "line": {
             "colorbar": {
              "outlinewidth": 0,
              "ticks": ""
             }
            },
            "marker": {
             "colorbar": {
              "outlinewidth": 0,
              "ticks": ""
             }
            },
            "type": "scatter3d"
           }
          ],
          "scattercarpet": [
           {
            "marker": {
             "colorbar": {
              "outlinewidth": 0,
              "ticks": ""
             }
            },
            "type": "scattercarpet"
           }
          ],
          "scattergeo": [
           {
            "marker": {
             "colorbar": {
              "outlinewidth": 0,
              "ticks": ""
             }
            },
            "type": "scattergeo"
           }
          ],
          "scattergl": [
           {
            "marker": {
             "colorbar": {
              "outlinewidth": 0,
              "ticks": ""
             }
            },
            "type": "scattergl"
           }
          ],
          "scattermapbox": [
           {
            "marker": {
             "colorbar": {
              "outlinewidth": 0,
              "ticks": ""
             }
            },
            "type": "scattermapbox"
           }
          ],
          "scatterpolar": [
           {
            "marker": {
             "colorbar": {
              "outlinewidth": 0,
              "ticks": ""
             }
            },
            "type": "scatterpolar"
           }
          ],
          "scatterpolargl": [
           {
            "marker": {
             "colorbar": {
              "outlinewidth": 0,
              "ticks": ""
             }
            },
            "type": "scatterpolargl"
           }
          ],
          "scatterternary": [
           {
            "marker": {
             "colorbar": {
              "outlinewidth": 0,
              "ticks": ""
             }
            },
            "type": "scatterternary"
           }
          ],
          "surface": [
           {
            "colorbar": {
             "outlinewidth": 0,
             "ticks": ""
            },
            "colorscale": [
             [
              0,
              "#0d0887"
             ],
             [
              0.1111111111111111,
              "#46039f"
             ],
             [
              0.2222222222222222,
              "#7201a8"
             ],
             [
              0.3333333333333333,
              "#9c179e"
             ],
             [
              0.4444444444444444,
              "#bd3786"
             ],
             [
              0.5555555555555556,
              "#d8576b"
             ],
             [
              0.6666666666666666,
              "#ed7953"
             ],
             [
              0.7777777777777778,
              "#fb9f3a"
             ],
             [
              0.8888888888888888,
              "#fdca26"
             ],
             [
              1,
              "#f0f921"
             ]
            ],
            "type": "surface"
           }
          ],
          "table": [
           {
            "cells": {
             "fill": {
              "color": "#EBF0F8"
             },
             "line": {
              "color": "white"
             }
            },
            "header": {
             "fill": {
              "color": "#C8D4E3"
             },
             "line": {
              "color": "white"
             }
            },
            "type": "table"
           }
          ]
         },
         "layout": {
          "annotationdefaults": {
           "arrowcolor": "#2a3f5f",
           "arrowhead": 0,
           "arrowwidth": 1
          },
          "coloraxis": {
           "colorbar": {
            "outlinewidth": 0,
            "ticks": ""
           }
          },
          "colorscale": {
           "diverging": [
            [
             0,
             "#8e0152"
            ],
            [
             0.1,
             "#c51b7d"
            ],
            [
             0.2,
             "#de77ae"
            ],
            [
             0.3,
             "#f1b6da"
            ],
            [
             0.4,
             "#fde0ef"
            ],
            [
             0.5,
             "#f7f7f7"
            ],
            [
             0.6,
             "#e6f5d0"
            ],
            [
             0.7,
             "#b8e186"
            ],
            [
             0.8,
             "#7fbc41"
            ],
            [
             0.9,
             "#4d9221"
            ],
            [
             1,
             "#276419"
            ]
           ],
           "sequential": [
            [
             0,
             "#0d0887"
            ],
            [
             0.1111111111111111,
             "#46039f"
            ],
            [
             0.2222222222222222,
             "#7201a8"
            ],
            [
             0.3333333333333333,
             "#9c179e"
            ],
            [
             0.4444444444444444,
             "#bd3786"
            ],
            [
             0.5555555555555556,
             "#d8576b"
            ],
            [
             0.6666666666666666,
             "#ed7953"
            ],
            [
             0.7777777777777778,
             "#fb9f3a"
            ],
            [
             0.8888888888888888,
             "#fdca26"
            ],
            [
             1,
             "#f0f921"
            ]
           ],
           "sequentialminus": [
            [
             0,
             "#0d0887"
            ],
            [
             0.1111111111111111,
             "#46039f"
            ],
            [
             0.2222222222222222,
             "#7201a8"
            ],
            [
             0.3333333333333333,
             "#9c179e"
            ],
            [
             0.4444444444444444,
             "#bd3786"
            ],
            [
             0.5555555555555556,
             "#d8576b"
            ],
            [
             0.6666666666666666,
             "#ed7953"
            ],
            [
             0.7777777777777778,
             "#fb9f3a"
            ],
            [
             0.8888888888888888,
             "#fdca26"
            ],
            [
             1,
             "#f0f921"
            ]
           ]
          },
          "colorway": [
           "#636efa",
           "#EF553B",
           "#00cc96",
           "#ab63fa",
           "#FFA15A",
           "#19d3f3",
           "#FF6692",
           "#B6E880",
           "#FF97FF",
           "#FECB52"
          ],
          "font": {
           "color": "#2a3f5f"
          },
          "geo": {
           "bgcolor": "white",
           "lakecolor": "white",
           "landcolor": "#E5ECF6",
           "showlakes": true,
           "showland": true,
           "subunitcolor": "white"
          },
          "hoverlabel": {
           "align": "left"
          },
          "hovermode": "closest",
          "mapbox": {
           "style": "light"
          },
          "paper_bgcolor": "white",
          "plot_bgcolor": "#E5ECF6",
          "polar": {
           "angularaxis": {
            "gridcolor": "white",
            "linecolor": "white",
            "ticks": ""
           },
           "bgcolor": "#E5ECF6",
           "radialaxis": {
            "gridcolor": "white",
            "linecolor": "white",
            "ticks": ""
           }
          },
          "scene": {
           "xaxis": {
            "backgroundcolor": "#E5ECF6",
            "gridcolor": "white",
            "gridwidth": 2,
            "linecolor": "white",
            "showbackground": true,
            "ticks": "",
            "zerolinecolor": "white"
           },
           "yaxis": {
            "backgroundcolor": "#E5ECF6",
            "gridcolor": "white",
            "gridwidth": 2,
            "linecolor": "white",
            "showbackground": true,
            "ticks": "",
            "zerolinecolor": "white"
           },
           "zaxis": {
            "backgroundcolor": "#E5ECF6",
            "gridcolor": "white",
            "gridwidth": 2,
            "linecolor": "white",
            "showbackground": true,
            "ticks": "",
            "zerolinecolor": "white"
           }
          },
          "shapedefaults": {
           "line": {
            "color": "#2a3f5f"
           }
          },
          "ternary": {
           "aaxis": {
            "gridcolor": "white",
            "linecolor": "white",
            "ticks": ""
           },
           "baxis": {
            "gridcolor": "white",
            "linecolor": "white",
            "ticks": ""
           },
           "bgcolor": "#E5ECF6",
           "caxis": {
            "gridcolor": "white",
            "linecolor": "white",
            "ticks": ""
           }
          },
          "title": {
           "x": 0.05
          },
          "xaxis": {
           "automargin": true,
           "gridcolor": "white",
           "linecolor": "white",
           "ticks": "",
           "title": {
            "standoff": 15
           },
           "zerolinecolor": "white",
           "zerolinewidth": 2
          },
          "yaxis": {
           "automargin": true,
           "gridcolor": "white",
           "linecolor": "white",
           "ticks": "",
           "title": {
            "standoff": 15
           },
           "zerolinecolor": "white",
           "zerolinewidth": 2
          }
         }
        }
       }
      },
      "text/html": [
       "<div>\n",
       "        \n",
       "        \n",
       "            <div id=\"59788eba-ce10-4f75-b49d-23476ad5e408\" class=\"plotly-graph-div\" style=\"height:525px; width:100%;\"></div>\n",
       "            <script type=\"text/javascript\">\n",
       "                require([\"plotly\"], function(Plotly) {\n",
       "                    window.PLOTLYENV=window.PLOTLYENV || {};\n",
       "                    \n",
       "                if (document.getElementById(\"59788eba-ce10-4f75-b49d-23476ad5e408\")) {\n",
       "                    Plotly.newPlot(\n",
       "                        '59788eba-ce10-4f75-b49d-23476ad5e408',\n",
       "                        [{\"mode\": \"lines\", \"name\": \"slow\", \"type\": \"scatter\", \"x\": [5000, 10000, 20000], \"y\": [3.374497890472412, 13.64414119720459, 54.22790861129761]}, {\"mode\": \"lines\", \"name\": \"fast\", \"type\": \"scatter\", \"x\": [5000, 10000, 20000], \"y\": [1.2157397270202637, 5.089610576629639, 19.029390573501587]}],\n",
       "                        {\"template\": {\"data\": {\"bar\": [{\"error_x\": {\"color\": \"#2a3f5f\"}, \"error_y\": {\"color\": \"#2a3f5f\"}, \"marker\": {\"line\": {\"color\": \"#E5ECF6\", \"width\": 0.5}}, \"type\": \"bar\"}], \"barpolar\": [{\"marker\": {\"line\": {\"color\": \"#E5ECF6\", \"width\": 0.5}}, \"type\": \"barpolar\"}], \"carpet\": [{\"aaxis\": {\"endlinecolor\": \"#2a3f5f\", \"gridcolor\": \"white\", \"linecolor\": \"white\", \"minorgridcolor\": \"white\", \"startlinecolor\": \"#2a3f5f\"}, \"baxis\": {\"endlinecolor\": \"#2a3f5f\", \"gridcolor\": \"white\", \"linecolor\": \"white\", \"minorgridcolor\": \"white\", \"startlinecolor\": \"#2a3f5f\"}, \"type\": \"carpet\"}], \"choropleth\": [{\"colorbar\": {\"outlinewidth\": 0, \"ticks\": \"\"}, \"type\": \"choropleth\"}], \"contour\": [{\"colorbar\": {\"outlinewidth\": 0, \"ticks\": \"\"}, \"colorscale\": [[0.0, \"#0d0887\"], [0.1111111111111111, \"#46039f\"], [0.2222222222222222, \"#7201a8\"], [0.3333333333333333, \"#9c179e\"], [0.4444444444444444, \"#bd3786\"], [0.5555555555555556, \"#d8576b\"], [0.6666666666666666, \"#ed7953\"], [0.7777777777777778, \"#fb9f3a\"], [0.8888888888888888, \"#fdca26\"], [1.0, \"#f0f921\"]], \"type\": \"contour\"}], \"contourcarpet\": [{\"colorbar\": {\"outlinewidth\": 0, \"ticks\": \"\"}, \"type\": \"contourcarpet\"}], \"heatmap\": [{\"colorbar\": {\"outlinewidth\": 0, \"ticks\": \"\"}, \"colorscale\": [[0.0, \"#0d0887\"], [0.1111111111111111, \"#46039f\"], [0.2222222222222222, \"#7201a8\"], [0.3333333333333333, \"#9c179e\"], [0.4444444444444444, \"#bd3786\"], [0.5555555555555556, \"#d8576b\"], [0.6666666666666666, \"#ed7953\"], [0.7777777777777778, \"#fb9f3a\"], [0.8888888888888888, \"#fdca26\"], [1.0, \"#f0f921\"]], \"type\": \"heatmap\"}], \"heatmapgl\": [{\"colorbar\": {\"outlinewidth\": 0, \"ticks\": \"\"}, \"colorscale\": [[0.0, \"#0d0887\"], [0.1111111111111111, \"#46039f\"], [0.2222222222222222, \"#7201a8\"], [0.3333333333333333, \"#9c179e\"], [0.4444444444444444, \"#bd3786\"], [0.5555555555555556, \"#d8576b\"], [0.6666666666666666, \"#ed7953\"], [0.7777777777777778, \"#fb9f3a\"], [0.8888888888888888, \"#fdca26\"], [1.0, \"#f0f921\"]], \"type\": \"heatmapgl\"}], \"histogram\": [{\"marker\": {\"colorbar\": {\"outlinewidth\": 0, \"ticks\": \"\"}}, \"type\": \"histogram\"}], \"histogram2d\": [{\"colorbar\": {\"outlinewidth\": 0, \"ticks\": \"\"}, \"colorscale\": [[0.0, \"#0d0887\"], [0.1111111111111111, \"#46039f\"], [0.2222222222222222, \"#7201a8\"], [0.3333333333333333, \"#9c179e\"], [0.4444444444444444, \"#bd3786\"], [0.5555555555555556, \"#d8576b\"], [0.6666666666666666, \"#ed7953\"], [0.7777777777777778, \"#fb9f3a\"], [0.8888888888888888, \"#fdca26\"], [1.0, \"#f0f921\"]], \"type\": \"histogram2d\"}], \"histogram2dcontour\": [{\"colorbar\": {\"outlinewidth\": 0, \"ticks\": \"\"}, \"colorscale\": [[0.0, \"#0d0887\"], [0.1111111111111111, \"#46039f\"], [0.2222222222222222, \"#7201a8\"], [0.3333333333333333, \"#9c179e\"], [0.4444444444444444, \"#bd3786\"], [0.5555555555555556, \"#d8576b\"], [0.6666666666666666, \"#ed7953\"], [0.7777777777777778, \"#fb9f3a\"], [0.8888888888888888, \"#fdca26\"], [1.0, \"#f0f921\"]], \"type\": \"histogram2dcontour\"}], \"mesh3d\": [{\"colorbar\": {\"outlinewidth\": 0, \"ticks\": \"\"}, \"type\": \"mesh3d\"}], \"parcoords\": [{\"line\": {\"colorbar\": {\"outlinewidth\": 0, \"ticks\": \"\"}}, \"type\": \"parcoords\"}], \"pie\": [{\"automargin\": true, \"type\": \"pie\"}], \"scatter\": [{\"marker\": {\"colorbar\": {\"outlinewidth\": 0, \"ticks\": \"\"}}, \"type\": \"scatter\"}], \"scatter3d\": [{\"line\": {\"colorbar\": {\"outlinewidth\": 0, \"ticks\": \"\"}}, \"marker\": {\"colorbar\": {\"outlinewidth\": 0, \"ticks\": \"\"}}, \"type\": \"scatter3d\"}], \"scattercarpet\": [{\"marker\": {\"colorbar\": {\"outlinewidth\": 0, \"ticks\": \"\"}}, \"type\": \"scattercarpet\"}], \"scattergeo\": [{\"marker\": {\"colorbar\": {\"outlinewidth\": 0, \"ticks\": \"\"}}, \"type\": \"scattergeo\"}], \"scattergl\": [{\"marker\": {\"colorbar\": {\"outlinewidth\": 0, \"ticks\": \"\"}}, \"type\": \"scattergl\"}], \"scattermapbox\": [{\"marker\": {\"colorbar\": {\"outlinewidth\": 0, \"ticks\": \"\"}}, \"type\": \"scattermapbox\"}], \"scatterpolar\": [{\"marker\": {\"colorbar\": {\"outlinewidth\": 0, \"ticks\": \"\"}}, \"type\": \"scatterpolar\"}], \"scatterpolargl\": [{\"marker\": {\"colorbar\": {\"outlinewidth\": 0, \"ticks\": \"\"}}, \"type\": \"scatterpolargl\"}], \"scatterternary\": [{\"marker\": {\"colorbar\": {\"outlinewidth\": 0, \"ticks\": \"\"}}, \"type\": \"scatterternary\"}], \"surface\": [{\"colorbar\": {\"outlinewidth\": 0, \"ticks\": \"\"}, \"colorscale\": [[0.0, \"#0d0887\"], [0.1111111111111111, \"#46039f\"], [0.2222222222222222, \"#7201a8\"], [0.3333333333333333, \"#9c179e\"], [0.4444444444444444, \"#bd3786\"], [0.5555555555555556, \"#d8576b\"], [0.6666666666666666, \"#ed7953\"], [0.7777777777777778, \"#fb9f3a\"], [0.8888888888888888, \"#fdca26\"], [1.0, \"#f0f921\"]], \"type\": \"surface\"}], \"table\": [{\"cells\": {\"fill\": {\"color\": \"#EBF0F8\"}, \"line\": {\"color\": \"white\"}}, \"header\": {\"fill\": {\"color\": \"#C8D4E3\"}, \"line\": {\"color\": \"white\"}}, \"type\": \"table\"}]}, \"layout\": {\"annotationdefaults\": {\"arrowcolor\": \"#2a3f5f\", \"arrowhead\": 0, \"arrowwidth\": 1}, \"coloraxis\": {\"colorbar\": {\"outlinewidth\": 0, \"ticks\": \"\"}}, \"colorscale\": {\"diverging\": [[0, \"#8e0152\"], [0.1, \"#c51b7d\"], [0.2, \"#de77ae\"], [0.3, \"#f1b6da\"], [0.4, \"#fde0ef\"], [0.5, \"#f7f7f7\"], [0.6, \"#e6f5d0\"], [0.7, \"#b8e186\"], [0.8, \"#7fbc41\"], [0.9, \"#4d9221\"], [1, \"#276419\"]], \"sequential\": [[0.0, \"#0d0887\"], [0.1111111111111111, \"#46039f\"], [0.2222222222222222, \"#7201a8\"], [0.3333333333333333, \"#9c179e\"], [0.4444444444444444, \"#bd3786\"], [0.5555555555555556, \"#d8576b\"], [0.6666666666666666, \"#ed7953\"], [0.7777777777777778, \"#fb9f3a\"], [0.8888888888888888, \"#fdca26\"], [1.0, \"#f0f921\"]], \"sequentialminus\": [[0.0, \"#0d0887\"], [0.1111111111111111, \"#46039f\"], [0.2222222222222222, \"#7201a8\"], [0.3333333333333333, \"#9c179e\"], [0.4444444444444444, \"#bd3786\"], [0.5555555555555556, \"#d8576b\"], [0.6666666666666666, \"#ed7953\"], [0.7777777777777778, \"#fb9f3a\"], [0.8888888888888888, \"#fdca26\"], [1.0, \"#f0f921\"]]}, \"colorway\": [\"#636efa\", \"#EF553B\", \"#00cc96\", \"#ab63fa\", \"#FFA15A\", \"#19d3f3\", \"#FF6692\", \"#B6E880\", \"#FF97FF\", \"#FECB52\"], \"font\": {\"color\": \"#2a3f5f\"}, \"geo\": {\"bgcolor\": \"white\", \"lakecolor\": \"white\", \"landcolor\": \"#E5ECF6\", \"showlakes\": true, \"showland\": true, \"subunitcolor\": \"white\"}, \"hoverlabel\": {\"align\": \"left\"}, \"hovermode\": \"closest\", \"mapbox\": {\"style\": \"light\"}, \"paper_bgcolor\": \"white\", \"plot_bgcolor\": \"#E5ECF6\", \"polar\": {\"angularaxis\": {\"gridcolor\": \"white\", \"linecolor\": \"white\", \"ticks\": \"\"}, \"bgcolor\": \"#E5ECF6\", \"radialaxis\": {\"gridcolor\": \"white\", \"linecolor\": \"white\", \"ticks\": \"\"}}, \"scene\": {\"xaxis\": {\"backgroundcolor\": \"#E5ECF6\", \"gridcolor\": \"white\", \"gridwidth\": 2, \"linecolor\": \"white\", \"showbackground\": true, \"ticks\": \"\", \"zerolinecolor\": \"white\"}, \"yaxis\": {\"backgroundcolor\": \"#E5ECF6\", \"gridcolor\": \"white\", \"gridwidth\": 2, \"linecolor\": \"white\", \"showbackground\": true, \"ticks\": \"\", \"zerolinecolor\": \"white\"}, \"zaxis\": {\"backgroundcolor\": \"#E5ECF6\", \"gridcolor\": \"white\", \"gridwidth\": 2, \"linecolor\": \"white\", \"showbackground\": true, \"ticks\": \"\", \"zerolinecolor\": \"white\"}}, \"shapedefaults\": {\"line\": {\"color\": \"#2a3f5f\"}}, \"ternary\": {\"aaxis\": {\"gridcolor\": \"white\", \"linecolor\": \"white\", \"ticks\": \"\"}, \"baxis\": {\"gridcolor\": \"white\", \"linecolor\": \"white\", \"ticks\": \"\"}, \"bgcolor\": \"#E5ECF6\", \"caxis\": {\"gridcolor\": \"white\", \"linecolor\": \"white\", \"ticks\": \"\"}}, \"title\": {\"x\": 0.05}, \"xaxis\": {\"automargin\": true, \"gridcolor\": \"white\", \"linecolor\": \"white\", \"ticks\": \"\", \"title\": {\"standoff\": 15}, \"zerolinecolor\": \"white\", \"zerolinewidth\": 2}, \"yaxis\": {\"automargin\": true, \"gridcolor\": \"white\", \"linecolor\": \"white\", \"ticks\": \"\", \"title\": {\"standoff\": 15}, \"zerolinecolor\": \"white\", \"zerolinewidth\": 2}}}},\n",
       "                        {\"responsive\": true}\n",
       "                    ).then(function(){\n",
       "                            \n",
       "var gd = document.getElementById('59788eba-ce10-4f75-b49d-23476ad5e408');\n",
       "var x = new MutationObserver(function (mutations, observer) {{\n",
       "        var display = window.getComputedStyle(gd).display;\n",
       "        if (!display || display === 'none') {{\n",
       "            console.log([gd, 'removed!']);\n",
       "            Plotly.purge(gd);\n",
       "            observer.disconnect();\n",
       "        }}\n",
       "}});\n",
       "\n",
       "// Listen for the removal of the full notebook cells\n",
       "var notebookContainer = gd.closest('#notebook-container');\n",
       "if (notebookContainer) {{\n",
       "    x.observe(notebookContainer, {childList: true});\n",
       "}}\n",
       "\n",
       "// Listen for the clearing of the current output cell\n",
       "var outputEl = gd.closest('.output');\n",
       "if (outputEl) {{\n",
       "    x.observe(outputEl, {childList: true});\n",
       "}}\n",
       "\n",
       "                        })\n",
       "                };\n",
       "                });\n",
       "            </script>\n",
       "        </div>"
      ]
     },
     "metadata": {},
     "output_type": "display_data"
    }
   ],
   "source": [
    "fig = go.Figure()\n",
    "fig.add_trace(go.Scatter(x=data_sizes,\n",
    "                y=timings_slow,\n",
    "                mode='lines',\n",
    "                name='slow'))\n",
    "fig.add_trace(go.Scatter(x=data_sizes,\n",
    "                y=timings_fast,\n",
    "                mode='lines',\n",
    "                name='fast'))\n",
    "fig.show()"
   ]
  },
  {
   "cell_type": "markdown",
   "metadata": {},
   "source": [
    "## The next algorithm we will investigate is the community detection algorithm: the Louvain method\n",
    "\n",
    "### As a simple example we will take the social network of a karate club collected by Zachary, the members have a link between them in case they interacted with each other outside the club. The goal is to find the communities that exist in the club"
   ]
  },
  {
   "cell_type": "code",
   "execution_count": 3,
   "metadata": {},
   "outputs": [],
   "source": [
    "file = \"./data/karate_edges_78.txt\""
   ]
  },
  {
   "cell_type": "markdown",
   "metadata": {},
   "source": [
    "### Let's first create the adjacency matrix for the social network"
   ]
  },
  {
   "cell_type": "code",
   "execution_count": 4,
   "metadata": {},
   "outputs": [],
   "source": [
    "def create_adjacency_matrix(file):\n",
    "    node_neighbors = defaultdict(list)\n",
    "\n",
    "    with open(file, \"r\") as fin:\n",
    "        for line in fin:\n",
    "            node_1, node_2 = line.strip().split('\\t')\n",
    "            node_1 = int(node_1)-1 #offset to make the integers start from zero\n",
    "            node_2 = int(node_2)-1\n",
    "            node_neighbors[node_1].append(node_2)\n",
    "\n",
    "    number_of_nodes = len(node_neighbors)\n",
    "    A = np.zeros((number_of_nodes, number_of_nodes))\n",
    "\n",
    "    for node, neighbors in node_neighbors.items():\n",
    "        for neighbor in neighbors:\n",
    "            A[node, neighbor] = 1\n",
    "\n",
    "    return A"
   ]
  },
  {
   "cell_type": "code",
   "execution_count": 5,
   "metadata": {},
   "outputs": [],
   "source": [
    "A = create_adjacency_matrix(file)"
   ]
  },
  {
   "cell_type": "markdown",
   "metadata": {},
   "source": [
    "### Compute the total sum of edges in the adjacency matrix A (divided by 2)\n",
    "Hint: use np.sum"
   ]
  },
  {
   "cell_type": "code",
   "execution_count": 6,
   "metadata": {},
   "outputs": [],
   "source": [
    "m = 0.5*np.sum(A)"
   ]
  },
  {
   "cell_type": "markdown",
   "metadata": {},
   "source": [
    "### Let's now define a function to compute the modularity of the network given the adjacency matrix A, the communities and the total sum of edge weights"
   ]
  },
  {
   "cell_type": "code",
   "execution_count": 7,
   "metadata": {},
   "outputs": [],
   "source": [
    "def compute_modularity(A, communities, m):\n",
    "    \"\"\"\n",
    "    A: dense square matrix, nonzero element on row i and column j indicating \n",
    "        a weighted connection between vertex i and j\n",
    "    communities: vector of communities, on position i the community for node i, so the length of the list equals \n",
    "        the number of nodes in the graph\n",
    "    m: an integer that equals the sum of all edges in the graph divided by two\n",
    "    \"\"\"\n",
    "    nrows, ncols = A.shape\n",
    "    assert nrows == ncols\n",
    "    nvertices = nrows\n",
    "\n",
    "    modularity = 0.0\n",
    "    for vertexi in range(nvertices):\n",
    "        for vertexj in range(nvertices):\n",
    "            if communities[vertexi] == communities[vertexj]:\n",
    "                ki = np.sum(A[vertexi,:])\n",
    "                kj = np.sum(A[vertexj,:])\n",
    "                modularity += A[vertexi, vertexj] - (ki*kj)/(2*m)\n",
    "\n",
    "    return modularity/(2*m)"
   ]
  },
  {
   "cell_type": "markdown",
   "metadata": {},
   "source": [
    "### Compute the modularity putting every vertex/node in its own community\n",
    "\n",
    "The community vector has the same length as the number of vertices/nodes in the graph <br>\n",
    "Position i in the community vector defines the community of vertex/node i <br>\n",
    "e.g. [0,0,1,1,1] means the first two vertices belong the community 0 and the last three to community 1"
   ]
  },
  {
   "cell_type": "code",
   "execution_count": 8,
   "metadata": {},
   "outputs": [],
   "source": [
    "def initialize_communities(n_vertices):\n",
    "    return np.arange(0,n_vertices) # use np.arange to create a vector from 0 to n_vertices-1\n",
    "    \n",
    "initial_communities = initialize_communities(A.shape[0])"
   ]
  },
  {
   "cell_type": "markdown",
   "metadata": {},
   "source": [
    "### Now compute the modularity for the given adjancency matrix, the initial communities and the total sum of edges"
   ]
  },
  {
   "cell_type": "code",
   "execution_count": 9,
   "metadata": {},
   "outputs": [],
   "source": [
    "initial_modularity = compute_modularity(A, initial_communities, m)"
   ]
  },
  {
   "cell_type": "code",
   "execution_count": 10,
   "metadata": {},
   "outputs": [],
   "source": [
    "assert initial_modularity == -0.04980276134122286"
   ]
  },
  {
   "cell_type": "markdown",
   "metadata": {},
   "source": [
    "### Now we will implement the first phase of the Louvain method but using a naive, inefficient way of computing the modularity difference"
   ]
  },
  {
   "cell_type": "markdown",
   "metadata": {},
   "source": [
    "Let's first define some helper function to perform the local search (i.e. the first phase) <br>\n",
    "\n",
    "The first helper function let's us compute the difference in modularity when we move a node from its current\n",
    "community into another community <br>\n",
    "\n",
    "We will (on purpose) compute this in a very naive inefficient way"
   ]
  },
  {
   "cell_type": "code",
   "execution_count": 11,
   "metadata": {},
   "outputs": [],
   "source": [
    "def modularity_difference(A, communities, m, modularity, vertex, community):\n",
    "    \"\"\"\n",
    "    A: the adjacency matrix of the graph\n",
    "    communities: vector of communities, on position i the community for node i, so the length of the list equals \n",
    "        the number of nodes in the graph \n",
    "    m: an integer that equals the sum of all edges in the graph divided by two\n",
    "    modularity: the modularity of the graph A with communities defined by the variable communities\n",
    "    vertex: the index of the vertex/node you want to compute the modularity difference for when moving it to community\n",
    "    community: the community to which you want move the vertex\n",
    "    \"\"\"\n",
    "    #store the vertex' community in a variable\n",
    "    original_community = communities[vertex] \n",
    "    #change community of the current vertex\n",
    "    communities[vertex] = community\n",
    "    #compute the new modularity\n",
    "    new_modularity = compute_modularity(A, communities, m)\n",
    "    #compute the difference between the new modulariy and the old one\n",
    "    modularity_difference = new_modularity-modularity\n",
    "    #restore original community of the vertex\n",
    "    communities[vertex] = original_community\n",
    "    return modularity_difference"
   ]
  },
  {
   "cell_type": "code",
   "execution_count": 12,
   "metadata": {},
   "outputs": [],
   "source": [
    "test_A = np.array([\n",
    "    [0,1,1,0,0,0],\n",
    "    [1,0,1,0,1,0],\n",
    "    [1,1,0,0,0,0],\n",
    "    [0,0,0,0,1,1],\n",
    "    [0,1,0,1,0,1],\n",
    "    [0,0,0,1,1,0]\n",
    "    ]\n",
    ")\n",
    "test_communities = np.arange(0,6)\n",
    "test_m = 0.5*np.sum(A)\n",
    "test_mod = compute_modularity(test_A, test_communities, test_m)\n",
    "expected = [\n",
    "    (0.0,0.0), \n",
    "    (0.012327416173,0.012327416174), \n",
    "    (0.012491781722,0.012491781723), \n",
    "    (-0.00032873110,-0.00032873109), \n",
    "    (-0.00049309665,-0.00049309664), \n",
    "    (-0.00032873110,-0.00032873109)\n",
    "]\n",
    "for vertexi in range(0,6):\n",
    "    mod_diff = modularity_difference(test_A, test_communities, test_m, test_mod, 0, vertexi)\n",
    "    lb, ub = expected[vertexi]\n",
    "    assert lb <= mod_diff <= ub"
   ]
  },
  {
   "cell_type": "markdown",
   "metadata": {},
   "source": [
    "### Now use the modularity_difference function to iterate over all communities and see which community for the given vertex gives the biggest increase in modularity"
   ]
  },
  {
   "cell_type": "code",
   "execution_count": 13,
   "metadata": {},
   "outputs": [],
   "source": [
    "def find_best_community(A, communities, m, modularity, vertex):\n",
    "    \"\"\"\n",
    "    A: the adjacency matrix of the graph\n",
    "    communities: vector of communities, on position i the community for node i, so the length of the list equals \n",
    "        the number of nodes in the graph \n",
    "    m: an integer that equals the sum of all edges in the graph divided by two\n",
    "    modularity: the modularity of the graph A with communities defined by the variable communities\n",
    "    vertex: the index of the vertex/node for which you want to find the best community\n",
    "    \"\"\"    \n",
    "    unique_communities = np.unique(communities)\n",
    "    max_modularity_difference = 0\n",
    "    best_community = communities[vertex]\n",
    "    for community in unique_communities:\n",
    "        #compute the modularity difference for the given vertex and the community by apply the \n",
    "        #before defined modularity_difference function\n",
    "        modularity_diff = modularity_difference(A, communities, m, modularity, vertex, community)\n",
    "        #print(f\"moving {vertex} from {communities[vertex]} to {community}: {modularity_diff}\")\n",
    "        #if the difference is larger than the maximum modularity difference, store the new difference\n",
    "        #and set the best_community variable to this new community\n",
    "        if modularity_diff > max_modularity_difference:\n",
    "            max_modularity_difference = modularity_diff\n",
    "            best_community = community\n",
    "    return best_community, max_modularity_difference"
   ]
  },
  {
   "cell_type": "code",
   "execution_count": 14,
   "metadata": {},
   "outputs": [],
   "source": [
    "test_A = np.array([\n",
    "    [0,1,1,0,0,0],\n",
    "    [1,0,1,0,1,0],\n",
    "    [1,1,0,0,0,0],\n",
    "    [0,0,0,0,1,1],\n",
    "    [0,1,0,1,0,1],\n",
    "    [0,0,0,1,1,0]\n",
    "    ]\n",
    ")\n",
    "test_communities = np.arange(0,6)\n",
    "test_m = 0.5*np.sum(A)\n",
    "test_mod = compute_modularity(test_A, test_communities, test_m)\n",
    "assert find_best_community(test_A, test_communities, test_m, test_mod, 0)[0] == 2\n",
    "assert find_best_community(test_A, test_communities, test_m, test_mod, 4)[0] == 3"
   ]
  },
  {
   "cell_type": "markdown",
   "metadata": {},
   "source": [
    "### We will now use the find_best_community function to keep iterating over all nodes until we can't increase the modularity anymore"
   ]
  },
  {
   "cell_type": "code",
   "execution_count": 15,
   "metadata": {},
   "outputs": [],
   "source": [
    "def reset_communities(communities):\n",
    "    \"\"\"\n",
    "    reset the community vector so that the communities  start from zero\n",
    "    \n",
    "    Example:\n",
    "    --------\n",
    "    communities = [17,17,3,17,3,1,1,1,3,17]\n",
    "    reset_communities(communities) == [0,0,1,0,1,2,2,2,1,0]\n",
    "    \"\"\"\n",
    "    counter = count()\n",
    "    community_mapper = defaultdict(lambda: next(counter))\n",
    "    reset_communities = np.zeros((len(communities),), dtype=int)\n",
    "    for vertex, community in enumerate(communities):\n",
    "        reset_communities[vertex] = community_mapper[community]\n",
    "    return reset_communities\n",
    "\n",
    "def local_search(A, communities, m, modularity, seed=11):\n",
    "    #we iterate over the vertices in a randomized way\n",
    "    nvertices = len(communities)\n",
    "    if seed>0:\n",
    "        vertex_order = np.random.RandomState(seed=seed).permutation(nvertices)\n",
    "    else:\n",
    "        vertex_order = range(nvertices)\n",
    "\n",
    "    is_modularity_increasing = True\n",
    "    #keep iterating over the vertices until the modulariy stops increasing\n",
    "    while is_modularity_increasing:\n",
    "        is_modularity_increasing = False\n",
    "        for vertex in vertex_order:\n",
    "            #find the best community for the vertex using the find_best_community function\n",
    "            best_community, modularity_difference = find_best_community(A, communities, m, modularity, vertex)\n",
    "            #print(f\"best community for {vertex} ({communities[vertex]}) is {best_community}: {modularity_difference}\")\n",
    "            #if the modulariy is strictly positive set the community of the vertex to the best_community\n",
    "            if modularity_difference > 0:\n",
    "                communities[vertex] = best_community\n",
    "                modularity += modularity_difference #update the modularity with the difference\n",
    "                is_modularity_increasing = True #set the flag that indicates the modularity is still increasing\n",
    "\n",
    "    communities = reset_communities(communities) #just reindexing the new communities so they start from zero\n",
    "\n",
    "    return communities, modularity"
   ]
  },
  {
   "cell_type": "code",
   "execution_count": 16,
   "metadata": {},
   "outputs": [],
   "source": [
    "test_A = np.array([\n",
    "    [0,1,1,0,0,0],\n",
    "    [1,0,1,0,1,0],\n",
    "    [1,1,0,0,0,0],\n",
    "    [0,0,0,0,1,1],\n",
    "    [0,1,0,1,0,1],\n",
    "    [0,0,0,1,1,0]\n",
    "    ]\n",
    ")\n",
    "test_communities = np.arange(0,6)\n",
    "test_m = 0.5*np.sum(A)\n",
    "test_mod = compute_modularity(test_A, test_communities, test_m)\n",
    "assert np.all(local_search(test_A, test_communities, test_m, test_mod)[0] == np.array([0,0,0,1,1,1]))"
   ]
  },
  {
   "cell_type": "markdown",
   "metadata": {},
   "source": [
    "### Next we implement the second phase of the Louvain method\n",
    "This step reduces the network where all nodes, that belong to the same community, are now reduced into one node <br>\n",
    "The new weight between two nodes is the sum of all the edge weights between their respective communities <br>\n",
    "The weight of the self-link is the sum of all weights between the original nodes of the community <br>\n",
    "\n",
    "Example <br>\n",
    "\n",
    "Original adjacency matrix <br>\n",
    "```python\n",
    "    [\n",
    "        [0,1,1,0],\n",
    "        [1,0,1,0],\n",
    "        [1,1,0,1],\n",
    "        [0,0,1,0]\n",
    "    ]\n",
    "```\n",
    "with communities <br>\n",
    "```python\n",
    "    [0,0,0,1]\n",
    "```\n",
    "will reduce to <br>\n",
    "```python\n",
    "    [\n",
    "        [6,1],\n",
    "        [1,0]\n",
    "    ]\n",
    "```\n",
    "with communities <br>\n",
    "```python\n",
    "    [0,1]\n",
    "```"
   ]
  },
  {
   "cell_type": "code",
   "execution_count": 17,
   "metadata": {},
   "outputs": [],
   "source": [
    "def reduce_network(A, communities):\n",
    "    #assumes communities starting from zero increasing by one\n",
    "    unique_communities = np.unique(communities)\n",
    "    n_communities = len(unique_communities)\n",
    "    #initialize the new reduced adjacency matrix as a zero square matrix of dimension n_communities\n",
    "    reduced_A = np.zeros((n_communities, n_communities))\n",
    "\n",
    "    #now let's fill in all the entries in the reduced_A matrix \n",
    "    #(note that this can be done more efficiently because the matrix is symmetric) \n",
    "    for communityi in unique_communities:\n",
    "        for communityj in unique_communities:\n",
    "            #find all the vertex indices that belong to communityi (hint: don't forget to flatten the array)\n",
    "            vertices_i = np.argwhere(communities == communityi).flatten()\n",
    "            #find all the vertex indices that belong to communityj (hint: don't forget to flatten the array)\n",
    "            vertices_j = np.argwhere(communities == communityj).flatten()\n",
    "            #select the sub matrix of all the vertices in communityi and communityj\n",
    "            sub_A = A[vertices_i,:]\n",
    "            sub_A = sub_A[:,vertices_j]\n",
    "            #the edge weight between communityi and communityj is the sum of the weights\n",
    "            #between all the vertices of communities communityi and communityj\n",
    "            reduced_A[communityi, communityj] = np.sum(sub_A)\n",
    "\n",
    "    #put each vertex in the reduced network again in its own community\n",
    "    communities = np.array([i for i in range(reduced_A.shape[0])], dtype=int)\n",
    "    \n",
    "    return reduced_A, communities"
   ]
  },
  {
   "cell_type": "code",
   "execution_count": 18,
   "metadata": {},
   "outputs": [],
   "source": [
    "test_A = np.array([\n",
    "    [0,1,1,0,0,0],\n",
    "    [1,0,1,0,1,0],\n",
    "    [1,1,0,0,0,0],\n",
    "    [0,0,0,0,1,1],\n",
    "    [0,1,0,1,0,1],\n",
    "    [0,0,0,1,1,0]\n",
    "    ]\n",
    ")\n",
    "test_communities = [0,0,0,1,1,1]\n",
    "assert np.all(reduce_network(test_A, test_communities)[0] == np.array([[6,1],[1,6]]))"
   ]
  },
  {
   "cell_type": "markdown",
   "metadata": {},
   "source": [
    "### Now we will combine the local_search function and the reduce_function to find the community structure with the highest modularity"
   ]
  },
  {
   "cell_type": "code",
   "execution_count": 19,
   "metadata": {},
   "outputs": [],
   "source": [
    "def traceback_communities(reduced_communities, communities):\n",
    "    #assumes community i after local search is also reduced to the i-th node\n",
    "    new_communities = np.zeros((len(communities,)),dtype=int)\n",
    "    for vertex, community in enumerate(communities):\n",
    "        new_communities[vertex] = reduced_communities[community]\n",
    "    return new_communities\n",
    "\n",
    "def detect_communities(A, communities):\n",
    "    m = 0.5*np.sum(np.sum(A))\n",
    "    modularity = compute_modularity(A, communities, m)\n",
    "\n",
    "    #first do a local_search to find better community structure using the local_search function\n",
    "    local_communities, modularity = local_search(A, communities, m, modularity)\n",
    "\n",
    "    #as long as we are able to further combine communities, we keep optimizing\n",
    "    if len(np.unique(local_communities)) < len(communities):\n",
    "        #reduce the network with the communities found by the previous local search\n",
    "        reduced_A, reduced_communities = reduce_network(A, local_communities)\n",
    "        #keep repeating these two phases (local_search and reduce_network) \n",
    "        #by a recursive call to detect_communities using the reduced network reduced_A and\n",
    "        #the reduced communities reduced_communities\n",
    "        #if this recursion makes your head explode, that's normal, don't worry\n",
    "        reduced_communities = detect_communities(reduced_A, reduced_communities)\n",
    "        #a function to trace back the communities of the original nodes using the reduced network communities\n",
    "        expanded_communities = traceback_communities(reduced_communities, local_communities)\n",
    "        return expanded_communities\n",
    "    else:\n",
    "        return communities"
   ]
  },
  {
   "cell_type": "markdown",
   "metadata": {},
   "source": [
    "### Let's now apply the algorithm to the Karate Club network and compute the new modularity\n",
    "Let's also time it to see how slow it is"
   ]
  },
  {
   "cell_type": "code",
   "execution_count": 20,
   "metadata": {},
   "outputs": [
    {
     "name": "stdout",
     "output_type": "stream",
     "text": [
      "Took 3.591937303543091 seconds to execute\n"
     ]
    }
   ],
   "source": [
    "initial_communities = initialize_communities(A.shape[0])\n",
    "\n",
    "start_time = time.time()\n",
    "best_communities = detect_communities(A, initial_communities)\n",
    "end_time = time.time()\n",
    "time_slowest = end_time-start_time\n",
    "print(f\"Took {time_slowest} seconds to execute\")"
   ]
  },
  {
   "cell_type": "code",
   "execution_count": 21,
   "metadata": {},
   "outputs": [],
   "source": [
    "assert compute_modularity(A, best_communities, m) > 0.4"
   ]
  },
  {
   "cell_type": "markdown",
   "metadata": {},
   "source": [
    "### Let's visualize the network with the optimal commmunities using the below functions"
   ]
  },
  {
   "cell_type": "code",
   "execution_count": 22,
   "metadata": {},
   "outputs": [
    {
     "data": {
      "image/png": "[encoded data removed]",
      "text/plain": [
       "<Figure size 2160x1080 with 1 Axes>"
      ]
     },
     "metadata": {},
     "output_type": "display_data"
    },
    {
     "data": {
      "text/plain": [
       "{1: array([  3.73321313, -10.07735852]),\n",
       " 2: array([ 2.74823157, -9.82959207]),\n",
       " 3: array([ 0.58919885, -8.49011433]),\n",
       " 4: array([  1.30903725, -10.06111907]),\n",
       " 5: array([27.02697489, -5.1352937 ]),\n",
       " 6: array([27.53461614, -1.98011664]),\n",
       " 7: array([28.64584313, -3.27529396]),\n",
       " 8: array([  0.62519048, -10.74834635]),\n",
       " 9: array([-4.76176002,  3.66012763]),\n",
       " 10: array([-9.80202995,  3.48651495]),\n",
       " 11: array([25.65456702, -3.79450341]),\n",
       " 12: array([  6.6204964 , -12.78625139]),\n",
       " 13: array([  1.64188081, -12.64317584]),\n",
       " 14: array([ 2.17284506, -8.15211801]),\n",
       " 15: array([-4.66272301,  8.5420934 ]),\n",
       " 16: array([-6.08135776,  9.17564871]),\n",
       " 17: array([30.        , -1.46480578]),\n",
       " 18: array([  5.43037048, -10.87749804]),\n",
       " 19: array([-7.41335335,  8.76789963]),\n",
       " 20: array([ 5.04430304, -8.14756987]),\n",
       " 21: array([-8.89707199,  6.17635033]),\n",
       " 22: array([  3.94999739, -12.66093148]),\n",
       " 23: array([-8.52530557,  7.73758354]),\n",
       " 24: array([-6.88095756,  4.41758433]),\n",
       " 25: array([-22.64493238,  12.10671717]),\n",
       " 26: array([-21.46570297,  13.28655441]),\n",
       " 27: array([-2.82115418,  7.3459366 ]),\n",
       " 28: array([-8.19867622,  2.77818799]),\n",
       " 29: array([-20.05941301,   8.49757694]),\n",
       " 30: array([-4.3033193,  6.1365425]),\n",
       " 31: array([-3.6833204 ,  4.55322347]),\n",
       " 32: array([-20.24216227,  10.94798111]),\n",
       " 33: array([-5.96166407,  6.70701366]),\n",
       " 34: array([-6.32186162,  5.80055207])}"
      ]
     },
     "execution_count": 22,
     "metadata": {},
     "output_type": "execute_result"
    }
   ],
   "source": [
    "def create_graph(A, communities):\n",
    "    G=nx.Graph()\n",
    "    \n",
    "    for nodei in range(A.shape[0]):\n",
    "        d = {\"community\": communities[nodei]}\n",
    "        G.add_node(nodei+1, **d)\n",
    "    \n",
    "    for i, j in zip(*A.nonzero()):\n",
    "        if communities[i] == communities[j]:\n",
    "            weight = 100\n",
    "        else:\n",
    "            weight = 1\n",
    "        G.add_edge(i+1, j+1, weight=weight)\n",
    "        \n",
    "    return G\n",
    "\n",
    "def plot_graph(G, pos=None):\n",
    "    plt.figure(figsize=(30,15))  \n",
    "    \n",
    "    node_communities = [d[\"community\"] for _, d in G.nodes(data=True)]\n",
    "    \n",
    "    if pos==None:\n",
    "        pos = nx.spring_layout(G, scale=30)  # positions for all nodes\n",
    "    \n",
    "    nx.draw_networkx_nodes(G, pos, node_color=node_communities)\n",
    "    nx.draw_networkx_edges(G, pos)\n",
    "\n",
    "    nx.draw_networkx_labels(G, pos, font_size=30, font_family='sans-serif')\n",
    "\n",
    "    plt.axis('off')\n",
    "    plt.show()\n",
    "    \n",
    "    return pos\n",
    "\n",
    "G = create_graph(A, best_communities)\n",
    "plot_graph(G)"
   ]
  },
  {
   "cell_type": "code",
   "execution_count": 23,
   "metadata": {},
   "outputs": [],
   "source": [
    "def modularity_difference(A, communities, m, modularity, vertex, community):\n",
    "    \"\"\"\n",
    "    A: the adjacency matrix of the graph\n",
    "    communities: vector of communities, on position i the community for node i, so the length of the list equals \n",
    "        the number of nodes in the graph \n",
    "    m: an integer that equals the sum of all edges in the graph divided by two\n",
    "    modularity: the modularity of the graph A with communities defined by the variable communities\n",
    "    vertex: the index of the vertex/node you want to compute the modularity difference for when moving it to community\n",
    "    community: the community to which you want move the vertex\n",
    "    \"\"\"\n",
    "    #store the vertex' community in a variable\n",
    "    old_community = communities[vertex] \n",
    "    \n",
    "    new_community_nodes = communities == community\n",
    "    new_community_nodes[vertex] = False\n",
    "    old_community_nodes = communities == old_community\n",
    "    old_community_nodes[vertex] = False\n",
    "    \n",
    "    new_k_i_in = np.sum(A[vertex,new_community_nodes])\n",
    "    old_k_i_in = np.sum(A[vertex,old_community_nodes])\n",
    "    \n",
    "    ki = np.sum(A[vertex,:])\n",
    "    \n",
    "    new_sum_tot = np.sum(A[new_community_nodes,:])\n",
    "    old_sum_tot = np.sum(A[old_community_nodes,:])\n",
    "    \n",
    "    modularity_difference = (1/m)*(new_k_i_in-old_k_i_in) + (1/(2*m*m))*ki*(old_sum_tot-new_sum_tot)\n",
    "    \n",
    "    return modularity_difference"
   ]
  },
  {
   "cell_type": "code",
   "execution_count": 24,
   "metadata": {},
   "outputs": [],
   "source": [
    "test_A = np.array([\n",
    "    [0,1,1,0,0,0],\n",
    "    [1,0,1,0,1,0],\n",
    "    [1,1,0,0,0,0],\n",
    "    [0,0,0,0,1,1],\n",
    "    [0,1,0,1,0,1],\n",
    "    [0,0,0,1,1,0]\n",
    "    ]\n",
    ")\n",
    "test_communities = np.arange(0,6)\n",
    "test_m = 0.5*np.sum(A)\n",
    "test_mod = compute_modularity(test_A, test_communities, test_m)\n",
    "expected = [\n",
    "    (0.0,0.0), \n",
    "    (0.012327416173,0.012327416174), \n",
    "    (0.012491781722,0.012491781723), \n",
    "    (-0.00032873110,-0.00032873109), \n",
    "    (-0.00049309665,-0.00049309664), \n",
    "    (-0.00032873110,-0.00032873109)\n",
    "]\n",
    "for vertexi in range(0,6):\n",
    "    mod_diff = modularity_difference(test_A, test_communities, test_m, test_mod, 0, vertexi)\n",
    "    lb, ub = expected[vertexi]\n",
    "    assert lb <= mod_diff <= ub"
   ]
  },
  {
   "cell_type": "code",
   "execution_count": 25,
   "metadata": {},
   "outputs": [
    {
     "name": "stdout",
     "output_type": "stream",
     "text": [
      "Took 0.10298871994018555 seconds to execute\n"
     ]
    }
   ],
   "source": [
    "initial_communities = initialize_communities(A.shape[0])\n",
    "start_time = time.time()\n",
    "best_communities = detect_communities(A, initial_communities)\n",
    "end_time = time.time()\n",
    "time_faster = end_time-start_time\n",
    "print(f\"Took {time_faster} seconds to execute\")"
   ]
  },
  {
   "cell_type": "code",
   "execution_count": 26,
   "metadata": {},
   "outputs": [],
   "source": [
    "assert compute_modularity(A, best_communities, m) > 0.4"
   ]
  },
  {
   "cell_type": "markdown",
   "metadata": {},
   "source": [
    "### We will now compare this naive implementation with a fast implementation of the Louvain method:\n",
    "https://python-louvain.readthedocs.io/en/latest/"
   ]
  },
  {
   "cell_type": "code",
   "execution_count": 27,
   "metadata": {},
   "outputs": [
    {
     "name": "stdout",
     "output_type": "stream",
     "text": [
      "Requirement already satisfied: python-louvain in /home/ubuntu/.pyenv/versions/3.8.0/envs/data_engineering/lib/python3.8/site-packages (0.13)\n",
      "Requirement already satisfied: networkx in /home/ubuntu/.pyenv/versions/3.8.0/envs/data_engineering/lib/python3.8/site-packages (from python-louvain) (2.4)\n",
      "Requirement already satisfied: decorator>=4.3.0 in /home/ubuntu/.pyenv/versions/3.8.0/envs/data_engineering/lib/python3.8/site-packages (from networkx->python-louvain) (4.4.1)\n",
      "\u001b[33mWARNING: You are using pip version 19.2.3, however version 20.0.2 is available.\n",
      "You should consider upgrading via the 'pip install --upgrade pip' command.\u001b[0m\n"
     ]
    }
   ],
   "source": [
    "# install the library\n",
    "!pip install python-louvain"
   ]
  },
  {
   "cell_type": "code",
   "execution_count": 28,
   "metadata": {},
   "outputs": [],
   "source": [
    "import community"
   ]
  },
  {
   "cell_type": "code",
   "execution_count": 29,
   "metadata": {},
   "outputs": [],
   "source": [
    "# convert adjacency matrix to graph\n",
    "G=nx.from_numpy_matrix(A)"
   ]
  },
  {
   "cell_type": "code",
   "execution_count": 30,
   "metadata": {},
   "outputs": [
    {
     "name": "stdout",
     "output_type": "stream",
     "text": [
      "Took 0.010982036590576172 seconds to execute\n"
     ]
    }
   ],
   "source": [
    "# compute the best partition\n",
    "start_time = time.time()\n",
    "partition = community.best_partition(G)\n",
    "time_fastest = time.time()-start_time\n",
    "print(f\"Took {time_fastest} seconds to execute\")"
   ]
  },
  {
   "cell_type": "code",
   "execution_count": 31,
   "metadata": {},
   "outputs": [
    {
     "data": {
      "image/png": "[encoded data removed]",
      "text/plain": [
       "<Figure size 2160x1080 with 1 Axes>"
      ]
     },
     "metadata": {},
     "output_type": "display_data"
    },
    {
     "data": {
      "text/plain": [
       "{1: array([1.9124679 , 2.88357228]),\n",
       " 2: array([0.68474715, 4.42165733]),\n",
       " 3: array([-0.44014646,  2.17896957]),\n",
       " 4: array([2.05583866, 3.42731204]),\n",
       " 5: array([26.57002688, -0.38638716]),\n",
       " 6: array([27.34557914,  3.11952654]),\n",
       " 7: array([28.24576019,  1.26951397]),\n",
       " 8: array([1.03939969, 1.74566048]),\n",
       " 9: array([-15.86582895,   0.65546628]),\n",
       " 10: array([-18.86814502,   2.2216259 ]),\n",
       " 11: array([25.67974436,  1.55718757]),\n",
       " 12: array([ 0.91549994, -0.78195125]),\n",
       " 13: array([4.55167341, 3.21244308]),\n",
       " 14: array([-0.50077373,  3.6222652 ]),\n",
       " 15: array([-16.12590596,  -4.48321973]),\n",
       " 16: array([-19.19030088,  -0.80546699]),\n",
       " 17: array([30.        ,  3.00376508]),\n",
       " 18: array([1.40546112, 6.38795846]),\n",
       " 19: array([-19.62796213,  -2.11031714]),\n",
       " 20: array([-0.99038772,  5.42057982]),\n",
       " 21: array([-19.07294238,  -3.60985882]),\n",
       " 22: array([3.18670147, 5.67730254]),\n",
       " 23: array([-17.83565965,  -4.15229609]),\n",
       " 24: array([ 6.91183274, -3.71896407]),\n",
       " 25: array([11.32527061, -4.21403648]),\n",
       " 26: array([ 9.84616405, -4.76992579]),\n",
       " 27: array([-13.9976603 ,   0.28190086]),\n",
       " 28: array([ 9.20197342, -2.58214795]),\n",
       " 29: array([ 7.515789  , -8.60590206]),\n",
       " 30: array([-13.98745214,  -1.69122907]),\n",
       " 31: array([-17.3490911 ,   0.62653122]),\n",
       " 32: array([ 8.74105912, -6.23828745]),\n",
       " 33: array([-16.86931966,  -2.23726599]),\n",
       " 34: array([-16.41341277,  -1.32598219])}"
      ]
     },
     "execution_count": 31,
     "metadata": {},
     "output_type": "execute_result"
    }
   ],
   "source": [
    "C = create_graph(A, partition)\n",
    "plot_graph(C)"
   ]
  },
  {
   "cell_type": "code",
   "execution_count": 32,
   "metadata": {},
   "outputs": [
    {
     "data": {
      "application/vnd.plotly.v1+json": {
       "config": {
        "plotlyServerURL": "https://plot.ly"
       },
       "data": [
        {
         "text": [
          "3.591937303543091",
          "0.10298871994018555",
          "0.010982036590576172"
         ],
         "textposition": "auto",
         "type": "bar",
         "x": [
          "slow",
          "faster",
          "fastest"
         ],
         "y": [
          3.591937303543091,
          0.10298871994018555,
          0.010982036590576172
         ]
        }
       ],
       "layout": {
        "template": {
         "data": {
          "bar": [
           {
            "error_x": {
             "color": "#2a3f5f"
            },
            "error_y": {
             "color": "#2a3f5f"
            },
            "marker": {
             "line": {
              "color": "#E5ECF6",
              "width": 0.5
             }
            },
            "type": "bar"
           }
          ],
          "barpolar": [
           {
            "marker": {
             "line": {
              "color": "#E5ECF6",
              "width": 0.5
             }
            },
            "type": "barpolar"
           }
          ],
          "carpet": [
           {
            "aaxis": {
             "endlinecolor": "#2a3f5f",
             "gridcolor": "white",
             "linecolor": "white",
             "minorgridcolor": "white",
             "startlinecolor": "#2a3f5f"
            },
            "baxis": {
             "endlinecolor": "#2a3f5f",
             "gridcolor": "white",
             "linecolor": "white",
             "minorgridcolor": "white",
             "startlinecolor": "#2a3f5f"
            },
            "type": "carpet"
           }
          ],
          "choropleth": [
           {
            "colorbar": {
             "outlinewidth": 0,
             "ticks": ""
            },
            "type": "choropleth"
           }
          ],
          "contour": [
           {
            "colorbar": {
             "outlinewidth": 0,
             "ticks": ""
            },
            "colorscale": [
             [
              0,
              "#0d0887"
             ],
             [
              0.1111111111111111,
              "#46039f"
             ],
             [
              0.2222222222222222,
              "#7201a8"
             ],
             [
              0.3333333333333333,
              "#9c179e"
             ],
             [
              0.4444444444444444,
              "#bd3786"
             ],
             [
              0.5555555555555556,
              "#d8576b"
             ],
             [
              0.6666666666666666,
              "#ed7953"
             ],
             [
              0.7777777777777778,
              "#fb9f3a"
             ],
             [
              0.8888888888888888,
              "#fdca26"
             ],
             [
              1,
              "#f0f921"
             ]
            ],
            "type": "contour"
           }
          ],
          "contourcarpet": [
           {
            "colorbar": {
             "outlinewidth": 0,
             "ticks": ""
            },
            "type": "contourcarpet"
           }
          ],
          "heatmap": [
           {
            "colorbar": {
             "outlinewidth": 0,
             "ticks": ""
            },
            "colorscale": [
             [
              0,
              "#0d0887"
             ],
             [
              0.1111111111111111,
              "#46039f"
             ],
             [
              0.2222222222222222,
              "#7201a8"
             ],
             [
              0.3333333333333333,
              "#9c179e"
             ],
             [
              0.4444444444444444,
              "#bd3786"
             ],
             [
              0.5555555555555556,
              "#d8576b"
             ],
             [
              0.6666666666666666,
              "#ed7953"
             ],
             [
              0.7777777777777778,
              "#fb9f3a"
             ],
             [
              0.8888888888888888,
              "#fdca26"
             ],
             [
              1,
              "#f0f921"
             ]
            ],
            "type": "heatmap"
           }
          ],
          "heatmapgl": [
           {
            "colorbar": {
             "outlinewidth": 0,
             "ticks": ""
            },
            "colorscale": [
             [
              0,
              "#0d0887"
             ],
             [
              0.1111111111111111,
              "#46039f"
             ],
             [
              0.2222222222222222,
              "#7201a8"
             ],
             [
              0.3333333333333333,
              "#9c179e"
             ],
             [
              0.4444444444444444,
              "#bd3786"
             ],
             [
              0.5555555555555556,
              "#d8576b"
             ],
             [
              0.6666666666666666,
              "#ed7953"
             ],
             [
              0.7777777777777778,
              "#fb9f3a"
             ],
             [
              0.8888888888888888,
              "#fdca26"
             ],
             [
              1,
              "#f0f921"
             ]
            ],
            "type": "heatmapgl"
           }
          ],
          "histogram": [
           {
            "marker": {
             "colorbar": {
              "outlinewidth": 0,
              "ticks": ""
             }
            },
            "type": "histogram"
           }
          ],
          "histogram2d": [
           {
            "colorbar": {
             "outlinewidth": 0,
             "ticks": ""
            },
            "colorscale": [
             [
              0,
              "#0d0887"
             ],
             [
              0.1111111111111111,
              "#46039f"
             ],
             [
              0.2222222222222222,
              "#7201a8"
             ],
             [
              0.3333333333333333,
              "#9c179e"
             ],
             [
              0.4444444444444444,
              "#bd3786"
             ],
             [
              0.5555555555555556,
              "#d8576b"
             ],
             [
              0.6666666666666666,
              "#ed7953"
             ],
             [
              0.7777777777777778,
              "#fb9f3a"
             ],
             [
              0.8888888888888888,
              "#fdca26"
             ],
             [
              1,
              "#f0f921"
             ]
            ],
            "type": "histogram2d"
           }
          ],
          "histogram2dcontour": [
           {
            "colorbar": {
             "outlinewidth": 0,
             "ticks": ""
            },
            "colorscale": [
             [
              0,
              "#0d0887"
             ],
             [
              0.1111111111111111,
              "#46039f"
             ],
             [
              0.2222222222222222,
              "#7201a8"
             ],
             [
              0.3333333333333333,
              "#9c179e"
             ],
             [
              0.4444444444444444,
              "#bd3786"
             ],
             [
              0.5555555555555556,
              "#d8576b"
             ],
             [
              0.6666666666666666,
              "#ed7953"
             ],
             [
              0.7777777777777778,
              "#fb9f3a"
             ],
             [
              0.8888888888888888,
              "#fdca26"
             ],
             [
              1,
              "#f0f921"
             ]
            ],
            "type": "histogram2dcontour"
           }
          ],
          "mesh3d": [
           {
            "colorbar": {
             "outlinewidth": 0,
             "ticks": ""
            },
            "type": "mesh3d"
           }
          ],
          "parcoords": [
           {
            "line": {
             "colorbar": {
              "outlinewidth": 0,
              "ticks": ""
             }
            },
            "type": "parcoords"
           }
          ],
          "pie": [
           {
            "automargin": true,
            "type": "pie"
           }
          ],
          "scatter": [
           {
            "marker": {
             "colorbar": {
              "outlinewidth": 0,
              "ticks": ""
             }
            },
            "type": "scatter"
           }
          ],
          "scatter3d": [
           {
            "line": {
             "colorbar": {
              "outlinewidth": 0,
              "ticks": ""
             }
            },
            "marker": {
             "colorbar": {
              "outlinewidth": 0,
              "ticks": ""
             }
            },
            "type": "scatter3d"
           }
          ],
          "scattercarpet": [
           {
            "marker": {
             "colorbar": {
              "outlinewidth": 0,
              "ticks": ""
             }
            },
            "type": "scattercarpet"
           }
          ],
          "scattergeo": [
           {
            "marker": {
             "colorbar": {
              "outlinewidth": 0,
              "ticks": ""
             }
            },
            "type": "scattergeo"
           }
          ],
          "scattergl": [
           {
            "marker": {
             "colorbar": {
              "outlinewidth": 0,
              "ticks": ""
             }
            },
            "type": "scattergl"
           }
          ],
          "scattermapbox": [
           {
            "marker": {
             "colorbar": {
              "outlinewidth": 0,
              "ticks": ""
             }
            },
            "type": "scattermapbox"
           }
          ],
          "scatterpolar": [
           {
            "marker": {
             "colorbar": {
              "outlinewidth": 0,
              "ticks": ""
             }
            },
            "type": "scatterpolar"
           }
          ],
          "scatterpolargl": [
           {
            "marker": {
             "colorbar": {
              "outlinewidth": 0,
              "ticks": ""
             }
            },
            "type": "scatterpolargl"
           }
          ],
          "scatterternary": [
           {
            "marker": {
             "colorbar": {
              "outlinewidth": 0,
              "ticks": ""
             }
            },
            "type": "scatterternary"
           }
          ],
          "surface": [
           {
            "colorbar": {
             "outlinewidth": 0,
             "ticks": ""
            },
            "colorscale": [
             [
              0,
              "#0d0887"
             ],
             [
              0.1111111111111111,
              "#46039f"
             ],
             [
              0.2222222222222222,
              "#7201a8"
             ],
             [
              0.3333333333333333,
              "#9c179e"
             ],
             [
              0.4444444444444444,
              "#bd3786"
             ],
             [
              0.5555555555555556,
              "#d8576b"
             ],
             [
              0.6666666666666666,
              "#ed7953"
             ],
             [
              0.7777777777777778,
              "#fb9f3a"
             ],
             [
              0.8888888888888888,
              "#fdca26"
             ],
             [
              1,
              "#f0f921"
             ]
            ],
            "type": "surface"
           }
          ],
          "table": [
           {
            "cells": {
             "fill": {
              "color": "#EBF0F8"
             },
             "line": {
              "color": "white"
             }
            },
            "header": {
             "fill": {
              "color": "#C8D4E3"
             },
             "line": {
              "color": "white"
             }
            },
            "type": "table"
           }
          ]
         },
         "layout": {
          "annotationdefaults": {
           "arrowcolor": "#2a3f5f",
           "arrowhead": 0,
           "arrowwidth": 1
          },
          "coloraxis": {
           "colorbar": {
            "outlinewidth": 0,
            "ticks": ""
           }
          },
          "colorscale": {
           "diverging": [
            [
             0,
             "#8e0152"
            ],
            [
             0.1,
             "#c51b7d"
            ],
            [
             0.2,
             "#de77ae"
            ],
            [
             0.3,
             "#f1b6da"
            ],
            [
             0.4,
             "#fde0ef"
            ],
            [
             0.5,
             "#f7f7f7"
            ],
            [
             0.6,
             "#e6f5d0"
            ],
            [
             0.7,
             "#b8e186"
            ],
            [
             0.8,
             "#7fbc41"
            ],
            [
             0.9,
             "#4d9221"
            ],
            [
             1,
             "#276419"
            ]
           ],
           "sequential": [
            [
             0,
             "#0d0887"
            ],
            [
             0.1111111111111111,
             "#46039f"
            ],
            [
             0.2222222222222222,
             "#7201a8"
            ],
            [
             0.3333333333333333,
             "#9c179e"
            ],
            [
             0.4444444444444444,
             "#bd3786"
            ],
            [
             0.5555555555555556,
             "#d8576b"
            ],
            [
             0.6666666666666666,
             "#ed7953"
            ],
            [
             0.7777777777777778,
             "#fb9f3a"
            ],
            [
             0.8888888888888888,
             "#fdca26"
            ],
            [
             1,
             "#f0f921"
            ]
           ],
           "sequentialminus": [
            [
             0,
             "#0d0887"
            ],
            [
             0.1111111111111111,
             "#46039f"
            ],
            [
             0.2222222222222222,
             "#7201a8"
            ],
            [
             0.3333333333333333,
             "#9c179e"
            ],
            [
             0.4444444444444444,
             "#bd3786"
            ],
            [
             0.5555555555555556,
             "#d8576b"
            ],
            [
             0.6666666666666666,
             "#ed7953"
            ],
            [
             0.7777777777777778,
             "#fb9f3a"
            ],
            [
             0.8888888888888888,
             "#fdca26"
            ],
            [
             1,
             "#f0f921"
            ]
           ]
          },
          "colorway": [
           "#636efa",
           "#EF553B",
           "#00cc96",
           "#ab63fa",
           "#FFA15A",
           "#19d3f3",
           "#FF6692",
           "#B6E880",
           "#FF97FF",
           "#FECB52"
          ],
          "font": {
           "color": "#2a3f5f"
          },
          "geo": {
           "bgcolor": "white",
           "lakecolor": "white",
           "landcolor": "#E5ECF6",
           "showlakes": true,
           "showland": true,
           "subunitcolor": "white"
          },
          "hoverlabel": {
           "align": "left"
          },
          "hovermode": "closest",
          "mapbox": {
           "style": "light"
          },
          "paper_bgcolor": "white",
          "plot_bgcolor": "#E5ECF6",
          "polar": {
           "angularaxis": {
            "gridcolor": "white",
            "linecolor": "white",
            "ticks": ""
           },
           "bgcolor": "#E5ECF6",
           "radialaxis": {
            "gridcolor": "white",
            "linecolor": "white",
            "ticks": ""
           }
          },
          "scene": {
           "xaxis": {
            "backgroundcolor": "#E5ECF6",
            "gridcolor": "white",
            "gridwidth": 2,
            "linecolor": "white",
            "showbackground": true,
            "ticks": "",
            "zerolinecolor": "white"
           },
           "yaxis": {
            "backgroundcolor": "#E5ECF6",
            "gridcolor": "white",
            "gridwidth": 2,
            "linecolor": "white",
            "showbackground": true,
            "ticks": "",
            "zerolinecolor": "white"
           },
           "zaxis": {
            "backgroundcolor": "#E5ECF6",
            "gridcolor": "white",
            "gridwidth": 2,
            "linecolor": "white",
            "showbackground": true,
            "ticks": "",
            "zerolinecolor": "white"
           }
          },
          "shapedefaults": {
           "line": {
            "color": "#2a3f5f"
           }
          },
          "ternary": {
           "aaxis": {
            "gridcolor": "white",
            "linecolor": "white",
            "ticks": ""
           },
           "baxis": {
            "gridcolor": "white",
            "linecolor": "white",
            "ticks": ""
           },
           "bgcolor": "#E5ECF6",
           "caxis": {
            "gridcolor": "white",
            "linecolor": "white",
            "ticks": ""
           }
          },
          "title": {
           "x": 0.05
          },
          "xaxis": {
           "automargin": true,
           "gridcolor": "white",
           "linecolor": "white",
           "ticks": "",
           "title": {
            "standoff": 15
           },
           "zerolinecolor": "white",
           "zerolinewidth": 2
          },
          "yaxis": {
           "automargin": true,
           "gridcolor": "white",
           "linecolor": "white",
           "ticks": "",
           "title": {
            "standoff": 15
           },
           "zerolinecolor": "white",
           "zerolinewidth": 2
          }
         }
        }
       }
      },
      "text/html": [
       "<div>\n",
       "        \n",
       "        \n",
       "            <div id=\"f719b8b5-44e9-4e6f-a378-1400fc5ceb77\" class=\"plotly-graph-div\" style=\"height:525px; width:100%;\"></div>\n",
       "            <script type=\"text/javascript\">\n",
       "                require([\"plotly\"], function(Plotly) {\n",
       "                    window.PLOTLYENV=window.PLOTLYENV || {};\n",
       "                    \n",
       "                if (document.getElementById(\"f719b8b5-44e9-4e6f-a378-1400fc5ceb77\")) {\n",
       "                    Plotly.newPlot(\n",
       "                        'f719b8b5-44e9-4e6f-a378-1400fc5ceb77',\n",
       "                        [{\"text\": [\"3.591937303543091\", \"0.10298871994018555\", \"0.010982036590576172\"], \"textposition\": \"auto\", \"type\": \"bar\", \"x\": [\"slow\", \"faster\", \"fastest\"], \"y\": [3.591937303543091, 0.10298871994018555, 0.010982036590576172]}],\n",
       "                        {\"template\": {\"data\": {\"bar\": [{\"error_x\": {\"color\": \"#2a3f5f\"}, \"error_y\": {\"color\": \"#2a3f5f\"}, \"marker\": {\"line\": {\"color\": \"#E5ECF6\", \"width\": 0.5}}, \"type\": \"bar\"}], \"barpolar\": [{\"marker\": {\"line\": {\"color\": \"#E5ECF6\", \"width\": 0.5}}, \"type\": \"barpolar\"}], \"carpet\": [{\"aaxis\": {\"endlinecolor\": \"#2a3f5f\", \"gridcolor\": \"white\", \"linecolor\": \"white\", \"minorgridcolor\": \"white\", \"startlinecolor\": \"#2a3f5f\"}, \"baxis\": {\"endlinecolor\": \"#2a3f5f\", \"gridcolor\": \"white\", \"linecolor\": \"white\", \"minorgridcolor\": \"white\", \"startlinecolor\": \"#2a3f5f\"}, \"type\": \"carpet\"}], \"choropleth\": [{\"colorbar\": {\"outlinewidth\": 0, \"ticks\": \"\"}, \"type\": \"choropleth\"}], \"contour\": [{\"colorbar\": {\"outlinewidth\": 0, \"ticks\": \"\"}, \"colorscale\": [[0.0, \"#0d0887\"], [0.1111111111111111, \"#46039f\"], [0.2222222222222222, \"#7201a8\"], [0.3333333333333333, \"#9c179e\"], [0.4444444444444444, \"#bd3786\"], [0.5555555555555556, \"#d8576b\"], [0.6666666666666666, \"#ed7953\"], [0.7777777777777778, \"#fb9f3a\"], [0.8888888888888888, \"#fdca26\"], [1.0, \"#f0f921\"]], \"type\": \"contour\"}], \"contourcarpet\": [{\"colorbar\": {\"outlinewidth\": 0, \"ticks\": \"\"}, \"type\": \"contourcarpet\"}], \"heatmap\": [{\"colorbar\": {\"outlinewidth\": 0, \"ticks\": \"\"}, \"colorscale\": [[0.0, \"#0d0887\"], [0.1111111111111111, \"#46039f\"], [0.2222222222222222, \"#7201a8\"], [0.3333333333333333, \"#9c179e\"], [0.4444444444444444, \"#bd3786\"], [0.5555555555555556, \"#d8576b\"], [0.6666666666666666, \"#ed7953\"], [0.7777777777777778, \"#fb9f3a\"], [0.8888888888888888, \"#fdca26\"], [1.0, \"#f0f921\"]], \"type\": \"heatmap\"}], \"heatmapgl\": [{\"colorbar\": {\"outlinewidth\": 0, \"ticks\": \"\"}, \"colorscale\": [[0.0, \"#0d0887\"], [0.1111111111111111, \"#46039f\"], [0.2222222222222222, \"#7201a8\"], [0.3333333333333333, \"#9c179e\"], [0.4444444444444444, \"#bd3786\"], [0.5555555555555556, \"#d8576b\"], [0.6666666666666666, \"#ed7953\"], [0.7777777777777778, \"#fb9f3a\"], [0.8888888888888888, \"#fdca26\"], [1.0, \"#f0f921\"]], \"type\": \"heatmapgl\"}], \"histogram\": [{\"marker\": {\"colorbar\": {\"outlinewidth\": 0, \"ticks\": \"\"}}, \"type\": \"histogram\"}], \"histogram2d\": [{\"colorbar\": {\"outlinewidth\": 0, \"ticks\": \"\"}, \"colorscale\": [[0.0, \"#0d0887\"], [0.1111111111111111, \"#46039f\"], [0.2222222222222222, \"#7201a8\"], [0.3333333333333333, \"#9c179e\"], [0.4444444444444444, \"#bd3786\"], [0.5555555555555556, \"#d8576b\"], [0.6666666666666666, \"#ed7953\"], [0.7777777777777778, \"#fb9f3a\"], [0.8888888888888888, \"#fdca26\"], [1.0, \"#f0f921\"]], \"type\": \"histogram2d\"}], \"histogram2dcontour\": [{\"colorbar\": {\"outlinewidth\": 0, \"ticks\": \"\"}, \"colorscale\": [[0.0, \"#0d0887\"], [0.1111111111111111, \"#46039f\"], [0.2222222222222222, \"#7201a8\"], [0.3333333333333333, \"#9c179e\"], [0.4444444444444444, \"#bd3786\"], [0.5555555555555556, \"#d8576b\"], [0.6666666666666666, \"#ed7953\"], [0.7777777777777778, \"#fb9f3a\"], [0.8888888888888888, \"#fdca26\"], [1.0, \"#f0f921\"]], \"type\": \"histogram2dcontour\"}], \"mesh3d\": [{\"colorbar\": {\"outlinewidth\": 0, \"ticks\": \"\"}, \"type\": \"mesh3d\"}], \"parcoords\": [{\"line\": {\"colorbar\": {\"outlinewidth\": 0, \"ticks\": \"\"}}, \"type\": \"parcoords\"}], \"pie\": [{\"automargin\": true, \"type\": \"pie\"}], \"scatter\": [{\"marker\": {\"colorbar\": {\"outlinewidth\": 0, \"ticks\": \"\"}}, \"type\": \"scatter\"}], \"scatter3d\": [{\"line\": {\"colorbar\": {\"outlinewidth\": 0, \"ticks\": \"\"}}, \"marker\": {\"colorbar\": {\"outlinewidth\": 0, \"ticks\": \"\"}}, \"type\": \"scatter3d\"}], \"scattercarpet\": [{\"marker\": {\"colorbar\": {\"outlinewidth\": 0, \"ticks\": \"\"}}, \"type\": \"scattercarpet\"}], \"scattergeo\": [{\"marker\": {\"colorbar\": {\"outlinewidth\": 0, \"ticks\": \"\"}}, \"type\": \"scattergeo\"}], \"scattergl\": [{\"marker\": {\"colorbar\": {\"outlinewidth\": 0, \"ticks\": \"\"}}, \"type\": \"scattergl\"}], \"scattermapbox\": [{\"marker\": {\"colorbar\": {\"outlinewidth\": 0, \"ticks\": \"\"}}, \"type\": \"scattermapbox\"}], \"scatterpolar\": [{\"marker\": {\"colorbar\": {\"outlinewidth\": 0, \"ticks\": \"\"}}, \"type\": \"scatterpolar\"}], \"scatterpolargl\": [{\"marker\": {\"colorbar\": {\"outlinewidth\": 0, \"ticks\": \"\"}}, \"type\": \"scatterpolargl\"}], \"scatterternary\": [{\"marker\": {\"colorbar\": {\"outlinewidth\": 0, \"ticks\": \"\"}}, \"type\": \"scatterternary\"}], \"surface\": [{\"colorbar\": {\"outlinewidth\": 0, \"ticks\": \"\"}, \"colorscale\": [[0.0, \"#0d0887\"], [0.1111111111111111, \"#46039f\"], [0.2222222222222222, \"#7201a8\"], [0.3333333333333333, \"#9c179e\"], [0.4444444444444444, \"#bd3786\"], [0.5555555555555556, \"#d8576b\"], [0.6666666666666666, \"#ed7953\"], [0.7777777777777778, \"#fb9f3a\"], [0.8888888888888888, \"#fdca26\"], [1.0, \"#f0f921\"]], \"type\": \"surface\"}], \"table\": [{\"cells\": {\"fill\": {\"color\": \"#EBF0F8\"}, \"line\": {\"color\": \"white\"}}, \"header\": {\"fill\": {\"color\": \"#C8D4E3\"}, \"line\": {\"color\": \"white\"}}, \"type\": \"table\"}]}, \"layout\": {\"annotationdefaults\": {\"arrowcolor\": \"#2a3f5f\", \"arrowhead\": 0, \"arrowwidth\": 1}, \"coloraxis\": {\"colorbar\": {\"outlinewidth\": 0, \"ticks\": \"\"}}, \"colorscale\": {\"diverging\": [[0, \"#8e0152\"], [0.1, \"#c51b7d\"], [0.2, \"#de77ae\"], [0.3, \"#f1b6da\"], [0.4, \"#fde0ef\"], [0.5, \"#f7f7f7\"], [0.6, \"#e6f5d0\"], [0.7, \"#b8e186\"], [0.8, \"#7fbc41\"], [0.9, \"#4d9221\"], [1, \"#276419\"]], \"sequential\": [[0.0, \"#0d0887\"], [0.1111111111111111, \"#46039f\"], [0.2222222222222222, \"#7201a8\"], [0.3333333333333333, \"#9c179e\"], [0.4444444444444444, \"#bd3786\"], [0.5555555555555556, \"#d8576b\"], [0.6666666666666666, \"#ed7953\"], [0.7777777777777778, \"#fb9f3a\"], [0.8888888888888888, \"#fdca26\"], [1.0, \"#f0f921\"]], \"sequentialminus\": [[0.0, \"#0d0887\"], [0.1111111111111111, \"#46039f\"], [0.2222222222222222, \"#7201a8\"], [0.3333333333333333, \"#9c179e\"], [0.4444444444444444, \"#bd3786\"], [0.5555555555555556, \"#d8576b\"], [0.6666666666666666, \"#ed7953\"], [0.7777777777777778, \"#fb9f3a\"], [0.8888888888888888, \"#fdca26\"], [1.0, \"#f0f921\"]]}, \"colorway\": [\"#636efa\", \"#EF553B\", \"#00cc96\", \"#ab63fa\", \"#FFA15A\", \"#19d3f3\", \"#FF6692\", \"#B6E880\", \"#FF97FF\", \"#FECB52\"], \"font\": {\"color\": \"#2a3f5f\"}, \"geo\": {\"bgcolor\": \"white\", \"lakecolor\": \"white\", \"landcolor\": \"#E5ECF6\", \"showlakes\": true, \"showland\": true, \"subunitcolor\": \"white\"}, \"hoverlabel\": {\"align\": \"left\"}, \"hovermode\": \"closest\", \"mapbox\": {\"style\": \"light\"}, \"paper_bgcolor\": \"white\", \"plot_bgcolor\": \"#E5ECF6\", \"polar\": {\"angularaxis\": {\"gridcolor\": \"white\", \"linecolor\": \"white\", \"ticks\": \"\"}, \"bgcolor\": \"#E5ECF6\", \"radialaxis\": {\"gridcolor\": \"white\", \"linecolor\": \"white\", \"ticks\": \"\"}}, \"scene\": {\"xaxis\": {\"backgroundcolor\": \"#E5ECF6\", \"gridcolor\": \"white\", \"gridwidth\": 2, \"linecolor\": \"white\", \"showbackground\": true, \"ticks\": \"\", \"zerolinecolor\": \"white\"}, \"yaxis\": {\"backgroundcolor\": \"#E5ECF6\", \"gridcolor\": \"white\", \"gridwidth\": 2, \"linecolor\": \"white\", \"showbackground\": true, \"ticks\": \"\", \"zerolinecolor\": \"white\"}, \"zaxis\": {\"backgroundcolor\": \"#E5ECF6\", \"gridcolor\": \"white\", \"gridwidth\": 2, \"linecolor\": \"white\", \"showbackground\": true, \"ticks\": \"\", \"zerolinecolor\": \"white\"}}, \"shapedefaults\": {\"line\": {\"color\": \"#2a3f5f\"}}, \"ternary\": {\"aaxis\": {\"gridcolor\": \"white\", \"linecolor\": \"white\", \"ticks\": \"\"}, \"baxis\": {\"gridcolor\": \"white\", \"linecolor\": \"white\", \"ticks\": \"\"}, \"bgcolor\": \"#E5ECF6\", \"caxis\": {\"gridcolor\": \"white\", \"linecolor\": \"white\", \"ticks\": \"\"}}, \"title\": {\"x\": 0.05}, \"xaxis\": {\"automargin\": true, \"gridcolor\": \"white\", \"linecolor\": \"white\", \"ticks\": \"\", \"title\": {\"standoff\": 15}, \"zerolinecolor\": \"white\", \"zerolinewidth\": 2}, \"yaxis\": {\"automargin\": true, \"gridcolor\": \"white\", \"linecolor\": \"white\", \"ticks\": \"\", \"title\": {\"standoff\": 15}, \"zerolinecolor\": \"white\", \"zerolinewidth\": 2}}}},\n",
       "                        {\"responsive\": true}\n",
       "                    ).then(function(){\n",
       "                            \n",
       "var gd = document.getElementById('f719b8b5-44e9-4e6f-a378-1400fc5ceb77');\n",
       "var x = new MutationObserver(function (mutations, observer) {{\n",
       "        var display = window.getComputedStyle(gd).display;\n",
       "        if (!display || display === 'none') {{\n",
       "            console.log([gd, 'removed!']);\n",
       "            Plotly.purge(gd);\n",
       "            observer.disconnect();\n",
       "        }}\n",
       "}});\n",
       "\n",
       "// Listen for the removal of the full notebook cells\n",
       "var notebookContainer = gd.closest('#notebook-container');\n",
       "if (notebookContainer) {{\n",
       "    x.observe(notebookContainer, {childList: true});\n",
       "}}\n",
       "\n",
       "// Listen for the clearing of the current output cell\n",
       "var outputEl = gd.closest('.output');\n",
       "if (outputEl) {{\n",
       "    x.observe(outputEl, {childList: true});\n",
       "}}\n",
       "\n",
       "                        })\n",
       "                };\n",
       "                });\n",
       "            </script>\n",
       "        </div>"
      ]
     },
     "metadata": {},
     "output_type": "display_data"
    }
   ],
   "source": [
    "fig = go.Figure(data=[go.Bar(\n",
    "            x=[\"slow\",\"faster\",\"fastest\"], y=[time_slowest, time_faster, time_fastest],\n",
    "            text=[time_slowest, time_faster, time_fastest],\n",
    "            textposition='auto',\n",
    "        )])\n",
    "\n",
    "fig.show()"
   ]
  },
  {
   "cell_type": "code",
   "execution_count": null,
   "metadata": {},
   "outputs": [],
   "source": []
  },
  {
   "cell_type": "code",
   "execution_count": null,
   "metadata": {},
   "outputs": [],
   "source": []
  },
  {
   "cell_type": "code",
   "execution_count": null,
   "metadata": {},
   "outputs": [],
   "source": []
  }
 ],
 "metadata": {
  "kernelspec": {
   "display_name": "Python 3",
   "language": "python",
   "name": "python3"
  },
  "language_info": {
   "codemirror_mode": {
    "name": "ipython",
    "version": 3
   },
   "file_extension": ".py",
   "mimetype": "text/x-python",
   "name": "python",
   "nbconvert_exporter": "python",
   "pygments_lexer": "ipython3",
   "version": "3.8.0"
  }
 },
 "nbformat": 4,
 "nbformat_minor": 2
}
