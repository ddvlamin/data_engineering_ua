{
 "cells": [
  {
   "cell_type": "code",
   "execution_count": 1,
   "metadata": {},
   "outputs": [],
   "source": [
    "import random\n",
    "import string\n",
    "import time\n",
    "\n",
    "def getRandomString(n):\n",
    "  return ''.join(random.SystemRandom().choice(string.ascii_uppercase + string.digits) for _ in range(n))"
   ]
  },
  {
   "cell_type": "code",
   "execution_count": 2,
   "metadata": {},
   "outputs": [],
   "source": [
    "def generate_dataset(size):\n",
    "    return [getRandomString(10) for i in range(size)]"
   ]
  },
  {
   "cell_type": "code",
   "execution_count": 3,
   "metadata": {},
   "outputs": [],
   "source": [
    "def check_data(data, lookup):\n",
    "    for element in data:\n",
    "        if element in lookup:\n",
    "            print(f\"Element {element} in lookup set\")\n",
    "    else:\n",
    "        print(\"None of elements found in lookup set\")"
   ]
  },
  {
   "cell_type": "code",
   "execution_count": 4,
   "metadata": {},
   "outputs": [],
   "source": [
    "data = generate_dataset(100000)"
   ]
  },
  {
   "cell_type": "code",
   "execution_count": 5,
   "metadata": {},
   "outputs": [],
   "source": [
    "lookup_sizes = [100,1000,10000]\n"
   ]
  },
  {
   "cell_type": "code",
   "execution_count": 7,
   "metadata": {},
   "outputs": [
    {
     "name": "stdout",
     "output_type": "stream",
     "text": [
      "None of elements found in lookup set\n",
      "None of elements found in lookup set\n",
      "None of elements found in lookup set\n",
      "[0.1829981803894043, 1.8003814220428467, 17.949302434921265]\n"
     ]
    }
   ],
   "source": [
    "timings = []\n",
    "for size in lookup_sizes:\n",
    "    lookup_list = generate_dataset(size)\n",
    "    start = time.time()\n",
    "    check_data(data, lookup_list)\n",
    "    timings.append(time.time()-start)\n",
    "print(timings)"
   ]
  },
  {
   "cell_type": "code",
   "execution_count": 8,
   "metadata": {},
   "outputs": [
    {
     "name": "stdout",
     "output_type": "stream",
     "text": [
      "None of elements found in lookup set\n",
      "None of elements found in lookup set\n",
      "None of elements found in lookup set\n",
      "[0.0066204071044921875, 0.004355907440185547, 0.005645036697387695]\n"
     ]
    }
   ],
   "source": [
    "timings = []\n",
    "for size in lookup_sizes:\n",
    "    lookup_set = set(generate_dataset(size))\n",
    "    start = time.time()\n",
    "    check_data(data, lookup_set)\n",
    "    timings.append(time.time()-start)\n",
    "print(timings)"
   ]
  },
  {
   "cell_type": "code",
   "execution_count": 20,
   "metadata": {},
   "outputs": [],
   "source": []
  },
  {
   "cell_type": "code",
   "execution_count": null,
   "metadata": {},
   "outputs": [],
   "source": []
  }
 ],
 "metadata": {
  "kernelspec": {
   "display_name": "Python 3",
   "language": "python",
   "name": "python3"
  },
  "language_info": {
   "codemirror_mode": {
    "name": "ipython",
    "version": 3
   },
   "file_extension": ".py",
   "mimetype": "text/x-python",
   "name": "python",
   "nbconvert_exporter": "python",
   "pygments_lexer": "ipython3",
   "version": "3.8.0"
  }
 },
 "nbformat": 4,
 "nbformat_minor": 2
}
