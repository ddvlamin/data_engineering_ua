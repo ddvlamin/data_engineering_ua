{
 "cells": [
  {
   "cell_type": "code",
   "execution_count": 9,
   "metadata": {},
   "outputs": [],
   "source": [
    "import random\n",
    "import string\n",
    "import time\n",
    "\n",
    "def getRandomString(n):\n",
    "  return ''.join(random.SystemRandom().choice(string.ascii_uppercase + string.digits) for _ in range(n))"
   ]
  },
  {
   "cell_type": "code",
   "execution_count": 10,
   "metadata": {},
   "outputs": [],
   "source": [
    "def generate_dataset(size):\n",
    "    return [getRandomString(10) for i in range(size)]"
   ]
  },
  {
   "cell_type": "code",
   "execution_count": 11,
   "metadata": {},
   "outputs": [],
   "source": [
    "def check_data(data, lookup):\n",
    "    for element in data:\n",
    "        if element in lookup:\n",
    "            print(f\"Element {element} in lookup set\")\n",
    "    else:\n",
    "        print(\"None of elements found in lookup set\")"
   ]
  },
  {
   "cell_type": "code",
   "execution_count": 12,
   "metadata": {},
   "outputs": [],
   "source": [
    "data = generate_dataset(100000)"
   ]
  },
  {
   "cell_type": "code",
   "execution_count": 13,
   "metadata": {},
   "outputs": [],
   "source": [
    "lookup_sizes = [100,1000,10000]\n"
   ]
  },
  {
   "cell_type": "code",
   "execution_count": 14,
   "metadata": {},
   "outputs": [
    {
     "name": "stdout",
     "output_type": "stream",
     "text": [
      "None of elements found in lookup set\n",
      "None of elements found in lookup set\n",
      "None of elements found in lookup set\n",
      "[0.18312644958496094, 1.8037216663360596, 17.96360731124878]\n"
     ]
    }
   ],
   "source": [
    "timings = []\n",
    "for size in lookup_sizes:\n",
    "    lookup_list = generate_dataset(size)\n",
    "    start = time.time()\n",
    "    check_data(data, lookup_list)\n",
    "    timings.append(time.time()-start)\n",
    "print(timings)"
   ]
  },
  {
   "cell_type": "code",
   "execution_count": 15,
   "metadata": {},
   "outputs": [
    {
     "name": "stdout",
     "output_type": "stream",
     "text": [
      "None of elements found in lookup set\n",
      "None of elements found in lookup set\n",
      "None of elements found in lookup set\n",
      "[0.006579875946044922, 0.004458427429199219, 0.0055065155029296875]\n"
     ]
    }
   ],
   "source": [
    "timings = []\n",
    "for size in lookup_sizes:\n",
    "    lookup_set = set(generate_dataset(size))\n",
    "    start = time.time()\n",
    "    check_data(data, lookup_set)\n",
    "    timings.append(time.time()-start)\n",
    "print(timings)"
   ]
  },
  {
   "cell_type": "code",
   "execution_count": 20,
   "metadata": {},
   "outputs": [],
   "source": []
  },
  {
   "cell_type": "code",
   "execution_count": null,
   "metadata": {},
   "outputs": [],
   "source": []
  }
 ],
 "metadata": {
  "kernelspec": {
   "display_name": "Python 3",
   "language": "python",
   "name": "python3"
  },
  "language_info": {
   "codemirror_mode": {
    "name": "ipython",
    "version": 3
   },
   "file_extension": ".py",
   "mimetype": "text/x-python",
   "name": "python",
   "nbconvert_exporter": "python",
   "pygments_lexer": "ipython3",
   "version": "3.8.0"
  }
 },
 "nbformat": 4,
 "nbformat_minor": 2
}
