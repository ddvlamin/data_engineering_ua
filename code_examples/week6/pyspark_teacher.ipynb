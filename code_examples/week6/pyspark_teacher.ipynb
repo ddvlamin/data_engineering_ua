{
 "cells": [
  {
   "cell_type": "markdown",
   "metadata": {},
   "source": [
    "Pyspark"
   ]
  },
  {
   "cell_type": "code",
   "execution_count": 6,
   "metadata": {},
   "outputs": [],
   "source": [
    "import json"
   ]
  },
  {
   "cell_type": "code",
   "execution_count": 3,
   "metadata": {},
   "outputs": [],
   "source": [
    "import pyspark"
   ]
  },
  {
   "cell_type": "code",
   "execution_count": 4,
   "metadata": {},
   "outputs": [],
   "source": [
    "from pyspark import SparkContext, SparkConf\n",
    "from pyspark.sql import SparkSession\n",
    "conf = pyspark.SparkConf().setAppName('appName').setMaster('local')\n",
    "sc = pyspark.SparkContext(conf=conf)\n",
    "spark = SparkSession(sc)\n",
    "from pyspark.sql import functions as F"
   ]
  },
  {
   "cell_type": "code",
   "execution_count": null,
   "metadata": {},
   "outputs": [],
   "source": []
  },
  {
   "cell_type": "markdown",
   "metadata": {},
   "source": [
    "Wordcount"
   ]
  },
  {
   "cell_type": "code",
   "execution_count": 3,
   "metadata": {},
   "outputs": [],
   "source": [
    "words = sc.textFile(\"data/wordcount.txt\").flatMap(lambda line: line.split(\" \"))"
   ]
  },
  {
   "cell_type": "code",
   "execution_count": 4,
   "metadata": {},
   "outputs": [],
   "source": [
    "wordCounts=words.map(lambda word: (word, 1)).reduceByKey(lambda a,b:a +b)"
   ]
  },
  {
   "cell_type": "code",
   "execution_count": 5,
   "metadata": {},
   "outputs": [],
   "source": [
    "wordCounts.saveAsTextFile(\"data/output/\")"
   ]
  },
  {
   "cell_type": "markdown",
   "metadata": {},
   "source": [
    "Joins"
   ]
  },
  {
   "cell_type": "code",
   "execution_count": 6,
   "metadata": {},
   "outputs": [
    {
     "name": "stderr",
     "output_type": "stream",
     "text": [
      "C:\\spark\\spark-2.4.4-bin-hadoop2.7\\python\\pyspark\\sql\\session.py:366: UserWarning: Using RDD of dict to inferSchema is deprecated. Use pyspark.sql.Row instead\n",
      "  warnings.warn(\"Using RDD of dict to inferSchema is deprecated. \"\n"
     ]
    },
    {
     "name": "stdout",
     "output_type": "stream",
     "text": [
      "df1\n",
      "+---+-----+-----+\n",
      "|key|val11|val12|\n",
      "+---+-----+-----+\n",
      "|abc|  1.1|  1.2|\n",
      "|def|  3.0|  3.4|\n",
      "+---+-----+-----+\n",
      "\n",
      "df2\n",
      "+---+-----+-----+\n",
      "|key|val21|val22|\n",
      "+---+-----+-----+\n",
      "|abc|  2.1|  2.2|\n",
      "|xyz|  3.1|  3.2|\n",
      "+---+-----+-----+\n",
      "\n"
     ]
    }
   ],
   "source": [
    "dataset1 = [\n",
    "  {\n",
    "  'key' : 'abc',\n",
    "  'val11' : 1.1,\n",
    "  'val12' : 1.2\n",
    "  },\n",
    "  {\n",
    "  'key' : 'def',\n",
    "  'val11' : 3.0,\n",
    "  'val12' : 3.4\n",
    "  }\n",
    "]\n",
    "dataset2 = [\n",
    "  {\n",
    "  'key' : 'abc',\n",
    "  'val21' : 2.1,\n",
    "  'val22' : 2.2\n",
    "  },\n",
    "  {\n",
    "  'key' : 'xyz',\n",
    "  'val21' : 3.1,\n",
    "  'val22' : 3.2\n",
    "  }\n",
    "]\n",
    "rdd1 = sc.parallelize(dataset1)\n",
    "df1 = spark.createDataFrame(rdd1)\n",
    "print('df1')\n",
    "df1.show()\n",
    "rdd2 = sc.parallelize(dataset2)\n",
    "df2 = spark.createDataFrame(rdd2)\n",
    "print('df2')\n",
    "df2.show()"
   ]
  },
  {
   "cell_type": "code",
   "execution_count": 7,
   "metadata": {},
   "outputs": [
    {
     "name": "stdout",
     "output_type": "stream",
     "text": [
      "+---+-----+-----+-----+-----+\n",
      "|key|val11|val12|val21|val22|\n",
      "+---+-----+-----+-----+-----+\n",
      "|abc|  1.1|  1.2|  2.1|  2.2|\n",
      "+---+-----+-----+-----+-----+\n",
      "\n"
     ]
    }
   ],
   "source": [
    "df = df1.join(df2, on=['key'], how='inner')\n",
    "df.show()"
   ]
  },
  {
   "cell_type": "code",
   "execution_count": null,
   "metadata": {},
   "outputs": [],
   "source": [
    "df = df1.join(df2, on=['key'], how='outer')\n",
    "df.show()"
   ]
  },
  {
   "cell_type": "code",
   "execution_count": null,
   "metadata": {},
   "outputs": [],
   "source": [
    "df = df1.join(df2, on=['key'], how='left')\n",
    "df.show()"
   ]
  },
  {
   "cell_type": "code",
   "execution_count": null,
   "metadata": {},
   "outputs": [],
   "source": [
    "df = df1.join(df2, on=['key'], how='right')\n",
    "df.show()"
   ]
  },
  {
   "cell_type": "code",
   "execution_count": null,
   "metadata": {},
   "outputs": [],
   "source": [
    "df  = df1.join(df2, on=['key'], how='left_semi')\n",
    "df.show()"
   ]
  },
  {
   "cell_type": "code",
   "execution_count": null,
   "metadata": {},
   "outputs": [],
   "source": [
    "df  = df1.join(df2, on=['key'], how='left_anti')\n",
    "df.show()"
   ]
  },
  {
   "cell_type": "code",
   "execution_count": null,
   "metadata": {},
   "outputs": [],
   "source": [
    "print('Inner join with condition df1.key == df2.key')\n",
    "df  = df1.join(df2, df1.key == df2.key, how='inner')\n",
    "df.show()\n",
    "print('Inner join with condition df1.key > df2.key')\n",
    "df  = df1.join(df2, df1.key > df2.key, how='inner')\n",
    "df.show()\n",
    "print('Inner join with multiple conditions [df1.val11 < df2.val21, df1.val12 < df2.val22]')\n",
    "df  = df1.join(df2, [df1.val11 < df2.val21, df1.val12 < df2.val22], how='inner')\n",
    "df.show()\n",
    "print('Inner join with multiple or conditions (df1.val11 > df2.val21) | (df1.val12 < df2.val22)')\n",
    "df  = df1.join(df2, [(df1.val11 < df2.val21) | (df1.val12 > df2.val22)], how='inner')\n",
    "df.show()"
   ]
  },
  {
   "cell_type": "markdown",
   "metadata": {},
   "source": [
    "Map vs Flatmap"
   ]
  },
  {
   "cell_type": "code",
   "execution_count": 8,
   "metadata": {},
   "outputs": [
    {
     "name": "stdout",
     "output_type": "stream",
     "text": [
      "[['spark', 'rdd', 'example'], ['sample', 'example']]\n",
      "['spark', 'rdd', 'example', 'sample', 'example']\n"
     ]
    }
   ],
   "source": [
    "# Bazic map example in python\n",
    "x = sc.parallelize([\"spark rdd example\", \"sample example\"], 2)\n",
    " \n",
    "# map operation will return Array of Arrays in following case (check the result)\n",
    "y = x.map(lambda x: x.split(' '))\n",
    "print(y.collect())\n",
    "# [['spark', 'rdd', 'example'], ['sample', 'example']]\n",
    " \n",
    "# flatMap operation will return Array of words in following case (check the result)\n",
    "y = x.flatMap(lambda x: x.split(' '))\n",
    "print(y.collect())\n",
    "# ['spark', 'rdd', 'example', 'sample', 'example']"
   ]
  },
  {
   "cell_type": "markdown",
   "metadata": {},
   "source": [
    "Filter"
   ]
  },
  {
   "cell_type": "code",
   "execution_count": null,
   "metadata": {},
   "outputs": [],
   "source": [
    "x = sc.parallelize([1,2,3,4,5,6,7,8,9,10], 2)\n",
    " \n",
    "# filter operation \n",
    "y = x.filter(lambda x: x % 5 == 0)\n",
    "y.collect()\n",
    "# [2, 4, 6, 8, 10]"
   ]
  },
  {
   "cell_type": "markdown",
   "metadata": {},
   "source": [
    "Reduce"
   ]
  },
  {
   "cell_type": "code",
   "execution_count": null,
   "metadata": {},
   "outputs": [],
   "source": [
    "# reduce numbers 1 to 10 by adding them up\n",
    "x = sc.parallelize([1,2,3,4,5,6,7,8,9,10], 2)\n",
    "cSum = x.reduce(lambda accum, n: accum + n)\n",
    "print(cSum)\n",
    "# 55\n",
    " \n",
    "# reduce numbers 1 to 10 by multiplying them\n",
    "cMul = x.reduce(lambda accum, n: accum * n)\n",
    "print(cMul)\n",
    "# 3628800\n",
    " \n",
    "# by defining a lambda reduce function \n",
    "def cumulativeSum(accum, n):\n",
    "    return accum + n\n",
    " \n",
    "cSum = x.reduce(cumulativeSum)\n",
    "print(cSum)\n",
    "# 55"
   ]
  },
  {
   "cell_type": "markdown",
   "metadata": {},
   "source": [
    "Reduce by key"
   ]
  },
  {
   "cell_type": "code",
   "execution_count": null,
   "metadata": {},
   "outputs": [],
   "source": [
    "# Bazic reduceByKey example in python\n",
    "# creating PairRDD x with key value pairs\n",
    "x = sc.parallelize([(\"a\", 1), (\"b\", 1), (\"a\", 1), (\"a\", 1),\n",
    "                    (\"b\", 1), (\"b\", 1), (\"b\", 1), (\"b\", 1)], 3)\n",
    " \n"
   ]
  },
  {
   "cell_type": "code",
   "execution_count": null,
   "metadata": {},
   "outputs": [],
   "source": [
    "# Applying reduceByKey operation on x\n",
    "y = x.reduceByKey(lambda accum, n: accum + n)\n",
    "print(y.collect())\n",
    "# [('b', 5), ('a', 3)]"
   ]
  },
  {
   "cell_type": "code",
   "execution_count": 9,
   "metadata": {},
   "outputs": [
    {
     "name": "stdout",
     "output_type": "stream",
     "text": [
      "Output:  3\n",
      "Output:  2\n",
      "USA [1, 2, 8, 3]\n",
      "India [1, 4, 9, 4]\n",
      "UK [1, 6, 9, 5]\n"
     ]
    }
   ],
   "source": [
    "## Bazic groupByKey example in python\n",
    "x = sc.parallelize([\n",
    "    (\"USA\", 1), (\"USA\", 2), (\"India\", 1),\n",
    "    (\"UK\", 1), (\"India\", 4), (\"India\", 9),\n",
    "    (\"USA\", 8), (\"USA\", 3), (\"India\", 4),\n",
    "    (\"UK\", 6), (\"UK\", 9), (\"UK\", 5)], 3)\n",
    " \n",
    "## groupByKey with default partitions\n",
    "y = x.groupByKey()\n",
    " \n",
    "## Check partitions\n",
    "print('Output: ',y.getNumPartitions()) \n",
    "## Output: 3\n",
    " \n",
    "## With predefined Partitions\n",
    "y = x.groupByKey(2)\n",
    "print('Output: ',y.getNumPartitions())\n",
    "## Output: 2\n",
    " \n",
    "## Print Output\n",
    "for t in y.collect():\n",
    "    print(t[0], [v for v in t[1]])\n",
    "    \n",
    "## USA [1, 2, 8, 3]\n",
    "## India [1, 4, 9, 4]\n",
    "## UK [1, 6, 9, 5]"
   ]
  },
  {
   "cell_type": "markdown",
   "metadata": {},
   "source": [
    "### Let's load the ecommerce data and transform it into an RDD\n",
    "#### the file contains JSON objects of the form\n",
    "\n",
    "```\n",
    "{\n",
    "  \"\": \"9\",\n",
    "  \"Clothing ID\": \"1077\",\n",
    "  \"Age\": \"34\",\n",
    "  \"Title\": \"Such a fun dress!\",\n",
    "  \"Review Text\": \"I'm 5\\\"5' and 125 lbs. i ordered the s petite to make sure the length wasn't too long. i\n",
    " typically wear an xs regular in retailer dresses. if you're less busty (34b cup or smaller), a s petite w\n",
    "ill fit you perfectly (snug, but not tight). i love that i could dress it up for a party, or down for work\n",
    ". i love that the tulle is longer then the fabric underneath.\",\n",
    "  \"Rating\": \"5\",\n",
    "  \"Recommended IND\": \"1\",\n",
    "  \"Positive Feedback Count\": \"0\",\n",
    "  \"Division Name\": \"General\",\n",
    "  \"Department Name\": \"Dresses\",\n",
    "  \"Class Name\": \"Dresses\"\n",
    "}\n",
    "```"
   ]
  },
  {
   "cell_type": "code",
   "execution_count": 5,
   "metadata": {},
   "outputs": [],
   "source": [
    "ecommerce_data = sc.textFile(\"./data/\")"
   ]
  },
  {
   "cell_type": "code",
   "execution_count": null,
   "metadata": {},
   "outputs": [],
   "source": [
    "### First "
   ]
  },
  {
   "cell_type": "code",
   "execution_count": 8,
   "metadata": {},
   "outputs": [],
   "source": [
    "ecommerce_json = ecommerce_data.map(json.loads)"
   ]
  },
  {
   "cell_type": "code",
   "execution_count": null,
   "metadata": {},
   "outputs": [],
   "source": []
  }
 ],
 "metadata": {
  "kernelspec": {
   "display_name": "Python 3",
   "language": "python",
   "name": "python3"
  },
  "language_info": {
   "codemirror_mode": {
    "name": "ipython",
    "version": 3
   },
   "file_extension": ".py",
   "mimetype": "text/x-python",
   "name": "python",
   "nbconvert_exporter": "python",
   "pygments_lexer": "ipython3",
   "version": "3.7.3"
  }
 },
 "nbformat": 4,
 "nbformat_minor": 4
}
