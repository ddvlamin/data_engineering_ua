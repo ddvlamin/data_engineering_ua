{
 "cells": [
  {
   "cell_type": "markdown",
   "metadata": {},
   "source": [
    "### Replace occurences of CODE_HERE with your own code and evaluate your results by executing all boxes with assert statements\n",
    "### Import the functions that we need for this lab session"
   ]
  },
  {
   "cell_type": "code",
   "execution_count": 1,
   "metadata": {},
   "outputs": [],
   "source": [
    "import csv\n",
    "import json\n",
    "\n",
    "from datetime import datetime, date\n",
    "from functools import partial\n",
    "from collections import defaultdict, Counter\n",
    "from itertools import count, permutations, combinations, groupby\n",
    "\n",
    "import xml.etree.ElementTree as ET"
   ]
  },
  {
   "cell_type": "markdown",
   "metadata": {},
   "source": [
    "### make sure to understand what the apply function is doing as you are going to use it in the exercises below"
   ]
  },
  {
   "cell_type": "code",
   "execution_count": 20,
   "metadata": {},
   "outputs": [],
   "source": [
    "def apply(data, func):\n",
    "    \"\"\"\n",
    "    applies the function *func* to each element in the list *data* and yields the result\n",
    "    \"\"\"\n",
    "    for element in data:\n",
    "        yield func(element)"
   ]
  },
  {
   "cell_type": "markdown",
   "metadata": {},
   "source": [
    "### Define the first data set"
   ]
  },
  {
   "cell_type": "code",
   "execution_count": 21,
   "metadata": {},
   "outputs": [],
   "source": [
    "data = [0,1,2,3,4,5,6,7,8,9]"
   ]
  },
  {
   "cell_type": "markdown",
   "metadata": {},
   "source": [
    "### Use the above defined *apply* function to apply the *square* function to the data set defined in *data*"
   ]
  },
  {
   "cell_type": "code",
   "execution_count": 22,
   "metadata": {},
   "outputs": [],
   "source": [
    "def square(x):\n",
    "    CODE_HERE"
   ]
  },
  {
   "cell_type": "code",
   "execution_count": 23,
   "metadata": {},
   "outputs": [],
   "source": [
    "result = [i for i in apply(CODE_HERE)]"
   ]
  },
  {
   "cell_type": "code",
   "execution_count": 24,
   "metadata": {},
   "outputs": [],
   "source": [
    "expected = [0,1,4,9,16,25,36,49,64,81]\n",
    "assert expected == result"
   ]
  },
  {
   "cell_type": "markdown",
   "metadata": {},
   "source": [
    "### Define and use a lambda function that adds 2 to each element in *data*"
   ]
  },
  {
   "cell_type": "code",
   "execution_count": 28,
   "metadata": {},
   "outputs": [],
   "source": [
    "lambda_function = CODE_HERE\n",
    "result = [i for i in apply(CODE_HERE)]"
   ]
  },
  {
   "cell_type": "code",
   "execution_count": 29,
   "metadata": {},
   "outputs": [],
   "source": [
    "expected = [2, 3, 4, 5, 6, 7, 8, 9, 10, 11]\n",
    "assert expected == result"
   ]
  },
  {
   "cell_type": "markdown",
   "metadata": {},
   "source": [
    "### Do the same as above, but make use of the below defined add function"
   ]
  },
  {
   "cell_type": "code",
   "execution_count": 32,
   "metadata": {},
   "outputs": [],
   "source": [
    "def add(x, constant=1):\n",
    "    return x+constant"
   ]
  },
  {
   "cell_type": "code",
   "execution_count": 33,
   "metadata": {},
   "outputs": [],
   "source": [
    "partial_function = partial(CODE_HERE)\n",
    "result = [i for i in apply(CODE_HERE)]"
   ]
  },
  {
   "cell_type": "code",
   "execution_count": 34,
   "metadata": {},
   "outputs": [],
   "source": [
    "expected = [2, 3, 4, 5, 6, 7, 8, 9, 10, 11]\n",
    "assert expected == result"
   ]
  },
  {
   "cell_type": "markdown",
   "metadata": {},
   "source": [
    "### Let's read a JSON object (representing a person with friends) from the person.json file\n",
    "Hint: use json.loads"
   ]
  },
  {
   "cell_type": "code",
   "execution_count": null,
   "metadata": {},
   "outputs": [],
   "source": [
    "with open(\"person.json\",\"r\") as fin:\n",
    "    js_string = fin.read()\n",
    "    js = CODE_HERE\n",
    "    \n",
    "print(json.dumps(js,indent=2))"
   ]
  },
  {
   "cell_type": "markdown",
   "metadata": {},
   "source": [
    "### Now put the first names of all the friends in a list"
   ]
  },
  {
   "cell_type": "code",
   "execution_count": null,
   "metadata": {},
   "outputs": [],
   "source": [
    "friends = []\n",
    "for friend in js.get(CODE_HERE,[]):\n",
    "    friends.append(CODE_HERE)"
   ]
  },
  {
   "cell_type": "code",
   "execution_count": null,
   "metadata": {},
   "outputs": [],
   "source": [
    "assert friends == [\"John\", \"Jane\", \"James\"]"
   ]
  },
  {
   "cell_type": "markdown",
   "metadata": {},
   "source": [
    "### Next we want to store the ids of all the friends in the friend_ids list\n",
    "However with JSON objects we can not always assume that an id is there for each friend <br>\n",
    "So your application will need to check the existence of the field <br>\n",
    "Store the name object of the friends without id in the friends_without_ids list variable"
   ]
  },
  {
   "cell_type": "code",
   "execution_count": null,
   "metadata": {},
   "outputs": [],
   "source": [
    "friend_ids = []\n",
    "friends_without_ids = []\n",
    "for friend in js.get(\"friends\",[]):\n",
    "    try:\n",
    "        friend_ids.append(CODE_HERE)\n",
    "    except KeyError:\n",
    "        friends_without_ids.append(CODE_HERE)"
   ]
  },
  {
   "cell_type": "code",
   "execution_count": null,
   "metadata": {},
   "outputs": [],
   "source": [
    "assert friend_ids == [2,3]\n",
    "assert friends_without_ids[0] == {\"first\":\"James\",\"last\":\"Roe\"}"
   ]
  },
  {
   "cell_type": "markdown",
   "metadata": {},
   "source": [
    "### Let's load a more interesting data set </br>\n",
    "### Some reddit records with the following header</br>\n",
    "name,category,amazon_link,total_mentions,subreddit_mentions </br>\n",
    "### An example of a CSV record</br>\n",
    "Belkin Speaker and Headphone 3.5 mm AUX Audio Cable Splitter,Electronics,https://www.amazon.com/Belkin-Speaker-and-Headphone-Splitter/dp/B000067RC4/ref=sr_1_3?ie=UTF8&amp;qid=1492359433&amp;sr=8-3&amp;keywords=2+way+headphone+splitter,7,1 </br>\n",
    "### An example of a JSON record after loading the file\n",
    "```json\n",
    "{\n",
    "    \"name\": \"Belkin Speaker and Headphone 3.5 mm AUX Audio Cable Splitter\",\n",
    "    \"category\": \"Electronics\",\n",
    "    \"amazon_link\": \"https://www.amazon.com/Belkin-Speaker-and-Headphone-Splitter/dp/B000067RC4/ref=sr_1_3?ie=UTF8&amp;qid=1492359433&amp;sr=8-3&amp;keywords=2+way+headphone+splitter\",\n",
    "    \"total_mentions\": \"7\",\n",
    "    \"subreddit_mentions\": \"1\"\n",
    "}\n",
    "```"
   ]
  },
  {
   "cell_type": "code",
   "execution_count": 71,
   "metadata": {},
   "outputs": [],
   "source": [
    "def load_csv_data(file_path):\n",
    "    with open(file_path, encoding=\"utf-8\") as fin:\n",
    "        csvreader = csv.DictReader(fin, delimiter=',',quotechar='\"')\n",
    "        data = [row for row in csvreader]\n",
    "    return data\n",
    "\n",
    "data = load_csv_data(\"amazonecho.csv\")"
   ]
  },
  {
   "cell_type": "markdown",
   "metadata": {},
   "source": [
    "### All values in the records are still strings, first transform the values for *total_mentions* and *subreddit_mentions* to integers"
   ]
  },
  {
   "cell_type": "code",
   "execution_count": 72,
   "metadata": {},
   "outputs": [],
   "source": [
    "def transform_to_int(record):\n",
    "    for key in [\"total_mentions\", \"subreddit_mentions\"]:\n",
    "        CODE_HERE\n",
    "    return record"
   ]
  },
  {
   "cell_type": "code",
   "execution_count": 73,
   "metadata": {},
   "outputs": [],
   "source": [
    "data = [e for e in apply(CODE_HERE)]"
   ]
  },
  {
   "cell_type": "code",
   "execution_count": 74,
   "metadata": {},
   "outputs": [],
   "source": [
    "for e in data:\n",
    "    assert type(e[\"total_mentions\"]) == int\n",
    "    assert type(e[\"subreddit_mentions\"]) == int"
   ]
  },
  {
   "cell_type": "markdown",
   "metadata": {},
   "source": [
    "### sort all records according to their total_mentions from high to low"
   ]
  },
  {
   "cell_type": "code",
   "execution_count": 75,
   "metadata": {},
   "outputs": [],
   "source": [
    "data = sorted(CODE_HERE)"
   ]
  },
  {
   "cell_type": "code",
   "execution_count": 76,
   "metadata": {},
   "outputs": [],
   "source": [
    "assert data[0][\"name\"] == \"Belkin Speaker and Headphone 3.5 mm AUX Audio Cable Splitter\""
   ]
  },
  {
   "cell_type": "markdown",
   "metadata": {},
   "source": [
    "### sort all records according to their category and then according to the total_mentions from high to low"
   ]
  },
  {
   "cell_type": "code",
   "execution_count": 84,
   "metadata": {},
   "outputs": [],
   "source": [
    "data = sorted(CODE_HERE)"
   ]
  },
  {
   "cell_type": "code",
   "execution_count": 89,
   "metadata": {},
   "outputs": [],
   "source": [
    "assert data[0][\"category\"] == \"Tools & Home Improvement\" and data[0][\"total_mentions\"] == 4"
   ]
  },
  {
   "cell_type": "markdown",
   "metadata": {},
   "source": [
    "### count the number of records per category and sort from high to low\n",
    "Use the Counter collection"
   ]
  },
  {
   "cell_type": "code",
   "execution_count": 96,
   "metadata": {},
   "outputs": [],
   "source": [
    "counter = CODE_HERE # initialize counter collection\n",
    "\n",
    "for record in data:\n",
    "    CODE_HERE # add count for category\n",
    "    \n",
    "categories = sorted(CODE_HERE)"
   ]
  },
  {
   "cell_type": "code",
   "execution_count": 98,
   "metadata": {},
   "outputs": [],
   "source": [
    "assert categories[0] == (\"Electronics\", 17)"
   ]
  },
  {
   "cell_type": "markdown",
   "metadata": {},
   "source": [
    "### add to each record the number of words in the *name* field of each record using the *apply* function and sort from high to low\n",
    "\n",
    "Hint: just use split to split the name string into words\n",
    "\n",
    "Example <br>\n",
    "```json\n",
    "{\n",
    "    \"name\": \"Belkin Speaker and Headphone 3.5 mm AUX Audio Cable Splitter\",\n",
    "    \"category\": \"Electronics\",\n",
    "    \"amazon_link\": \"https://www.amazon.com/Belkin-Speaker-and-Headphone-Splitter/dp/B000067RC4/ref=sr_1_3?ie=UTF8&amp;qid=1492359433&amp;sr=8-3&amp;keywords=2+way+headphone+splitter\",\n",
    "    \"total_mentions\": 7,\n",
    "    \"subreddit_mentions\": 1,\n",
    "    \"n_words\": 10\n",
    "}\n",
    "```"
   ]
  },
  {
   "cell_type": "code",
   "execution_count": 104,
   "metadata": {},
   "outputs": [],
   "source": [
    "def number_of_words(record):\n",
    "    CODE_HERE # add the n_words field to the record with its correct value\n",
    "\n",
    "number_of_words = [rec for rec in apply(CODE_HERE)]\n",
    "number_of_words = sorted(CODE_HERE)"
   ]
  },
  {
   "cell_type": "code",
   "execution_count": 109,
   "metadata": {},
   "outputs": [],
   "source": [
    "assert number_of_words[0][\"name\"] == \"HAVIT Bluetooth 4.1 Transmitter Receiver(aptX), Pair 2 at Once, Mini Wireless Portable Bluetooth Adapter to 3.5mm Audio Devices and Home Stereo, Such as TV, MP3, CD Player, PC, eBook Reader (HV-BT018)\"\n",
    "assert number_of_words[0][\"n_words\"] == 31"
   ]
  },
  {
   "cell_type": "markdown",
   "metadata": {},
   "source": [
    "### build a dictionary that maps a category to a list of its record names\n",
    "\n",
    "Hint: use a defaultdict"
   ]
  },
  {
   "cell_type": "code",
   "execution_count": 111,
   "metadata": {},
   "outputs": [],
   "source": [
    "category2names = CODE_HERE #correctly initialize default dict here\n",
    "\n",
    "for record in data:\n",
    "    CODE_HERE #fill in the variable category2names"
   ]
  },
  {
   "cell_type": "code",
   "execution_count": 117,
   "metadata": {},
   "outputs": [],
   "source": [
    "assert len(category2names[\"Electronics\"]) == 17"
   ]
  },
  {
   "cell_type": "markdown",
   "metadata": {},
   "source": [
    "### Imagine we want to construct a feature matrix where the rows/samples are the records and the features the words in the record name\n",
    "### To achieve this we would have to first extract the words of each record and then map the words to a column index\n",
    "### In the below exercise we will map the words to an unique index starting from zero\n",
    "Hint: use the count function (in the itertools module) together with defaultdict <br>\n",
    "call next on the cnt variable to get the next count <br>\n",
    "https://docs.python.org/2/library/itertools.html <br>\n",
    "As before just use split to get the words per record"
   ]
  },
  {
   "cell_type": "code",
   "execution_count": 121,
   "metadata": {},
   "outputs": [],
   "source": [
    "cnt = count()\n",
    "indexer = defaultdict(CODE_HERE) # initialize code so that for each new key added to the defaultdict, the index increases by one"
   ]
  },
  {
   "cell_type": "code",
   "execution_count": 123,
   "metadata": {},
   "outputs": [],
   "source": [
    "def map_word_to_index(record, indexer):\n",
    "    CODE_HERE"
   ]
  },
  {
   "cell_type": "code",
   "execution_count": 124,
   "metadata": {},
   "outputs": [],
   "source": [
    "for record in data:\n",
    "    map_word_to_index(CODE_HERE)"
   ]
  },
  {
   "cell_type": "code",
   "execution_count": 127,
   "metadata": {},
   "outputs": [],
   "source": [
    "assert max(indexer.values()) == 349"
   ]
  },
  {
   "cell_type": "markdown",
   "metadata": {},
   "source": [
    "### Generate all 2-tuple category combinations\n",
    "\n",
    "Example <br>\n",
    "\n",
    "```\n",
    "('Amazon Launchpad', 'Tools & Home Improvement')\n",
    "('Amazon Launchpad', 'Office Products')\n",
    "...\n",
    "```\n",
    "\n",
    "Try it in one line of code (it's possible)"
   ]
  },
  {
   "cell_type": "code",
   "execution_count": 136,
   "metadata": {},
   "outputs": [],
   "source": [
    "category_tuples = [CODE_HERE]"
   ]
  },
  {
   "cell_type": "code",
   "execution_count": 139,
   "metadata": {},
   "outputs": [],
   "source": [
    "assert len(category_tuples) == 28"
   ]
  },
  {
   "cell_type": "markdown",
   "metadata": {},
   "source": [
    "### Use the itertools.groupby function to group the records by category and sum the total number of total_mentions\n",
    "\n",
    "You can achieve the same thing without using the groupby function (think about it), but this groupby operation\n",
    "comes back when we talk about SQL and Spark (it's also use in pandas.DataFrame)"
   ]
  },
  {
   "cell_type": "code",
   "execution_count": 147,
   "metadata": {},
   "outputs": [],
   "source": [
    "#the key function is the one used for sorting and grouping the data list\n",
    "category2totalmentions = dict()\n",
    "key_function = CODE_HERE #lambda function here \n",
    "for group, group_records in groupby(CODE_HERE):\n",
    "    total_mentions_sum = sum([CODE_HERE])\n",
    "    category2totalmentions[group] = total_mentions_sum"
   ]
  },
  {
   "cell_type": "code",
   "execution_count": 149,
   "metadata": {},
   "outputs": [],
   "source": [
    "assert category2totalmentions[\"Electronics\"] == 26"
   ]
  },
  {
   "cell_type": "markdown",
   "metadata": {},
   "source": [
    "## Let's now read and parse an XML file\n",
    "\n",
    "### Let's take the sitemap xml file from vrt.be which contains an overview of the published articles\n",
    "\n",
    "```xml\n",
    "<?xml version=\"1.0\" encoding=\"UTF-8\" standalone=\"yes\"?>\n",
    "<urlset xmlns=\"http://www.sitemaps.org/schemas/sitemap/0.9\" xmlns:news=\"http://www.google.com/schemas/sitemap-news/0.9\">\n",
    "    <url>\n",
    "        <loc>https://www.vrt.be/vrtnws/nl/2020/01/26/boeing-stuurt-grootste-tweemotorig-vliegtuig-ter-wereld-de-lucht/</loc>\n",
    "        <lastmod>2020-01-26</lastmod>\n",
    "        <changefreq>hourly</changefreq>\n",
    "    </url>\n",
    "    <url>\n",
    "        <loc>https://www.vrt.be/vrtnws/nl/2020/01/26/coronavirus-update/</loc>\n",
    "        <lastmod>2020-01-26</lastmod>\n",
    "        <changefreq>hourly</changefreq>\n",
    "    </url>\n",
    "</urlset>\n",
    "```\n",
    "\n",
    "Use the documentation of the XML parser: https://docs.python.org/3.8/library/xml.etree.elementtree.html <br>\n",
    "For specific methods and attributes of the XML tree's elements: https://docs.python.org/3.8/library/xml.etree.elementtree.html#xml.etree.ElementTree.Element"
   ]
  },
  {
   "cell_type": "code",
   "execution_count": 2,
   "metadata": {},
   "outputs": [],
   "source": [
    "tree = ET.parse(\"nl.sitemap.article.today.xml\") # of type xml.etree.ElementTree.ElementTree\n",
    "# get the root of the XML parse tree \n",
    "root = CODE_HERE # of type xml.etree.ElementTree.Element"
   ]
  },
  {
   "cell_type": "markdown",
   "metadata": {},
   "source": [
    "### Store all urls in the XML file in a list\n",
    "\n",
    "Hint: use the iter function of the root Element and filter on \"loc\" tags that contain the url as text"
   ]
  },
  {
   "cell_type": "code",
   "execution_count": 3,
   "metadata": {},
   "outputs": [],
   "source": [
    "urls = [CODE_HERE]"
   ]
  },
  {
   "cell_type": "code",
   "execution_count": 4,
   "metadata": {},
   "outputs": [],
   "source": [
    "assert urls[0] == \"https://www.vrt.be/vrtnws/nl/2020/01/26/boeing-stuurt-grootste-tweemotorig-vliegtuig-ter-wereld-de-lucht/\""
   ]
  },
  {
   "cell_type": "markdown",
   "metadata": {},
   "source": [
    "### Now make a dict that maps every url to the date the article has been last modified\n",
    "\n",
    "Hint: use datetime to parse the date string to a real date, the format of the date is %Y-%m-%d\n",
    "(don't forget to convert the datetime object to a date object)"
   ]
  },
  {
   "cell_type": "code",
   "execution_count": 5,
   "metadata": {},
   "outputs": [],
   "source": [
    "url2date = dict()\n",
    "\n",
    "for child in root:\n",
    "    loc_text = CODE_HERE # find the loc element within the url child and get its text\n",
    "    lastmod_text = CODE_HERE # find the lastmod element within the url child and get its text\n",
    "    lastmod_date = CODE_HERE # convert the lastmod_text to a real date object\n",
    "    url2date[loc_text] = lastmod_date"
   ]
  },
  {
   "cell_type": "code",
   "execution_count": 6,
   "metadata": {},
   "outputs": [],
   "source": [
    "key = \"https://www.vrt.be/vrtnws/nl/2020/01/26/boeing-stuurt-grootste-tweemotorig-vliegtuig-ter-wereld-de-lucht/\"\n",
    "assert url2date[key] == date(2020, 1, 26)"
   ]
  },
  {
   "cell_type": "code",
   "execution_count": null,
   "metadata": {},
   "outputs": [],
   "source": []
  }
 ],
 "metadata": {
  "kernelspec": {
   "display_name": "Python 3",
   "language": "python",
   "name": "python3"
  },
  "language_info": {
   "codemirror_mode": {
    "name": "ipython",
    "version": 3
   },
   "file_extension": ".py",
   "mimetype": "text/x-python",
   "name": "python",
   "nbconvert_exporter": "python",
   "pygments_lexer": "ipython3",
   "version": "3.8.0"
  }
 },
 "nbformat": 4,
 "nbformat_minor": 2
}
