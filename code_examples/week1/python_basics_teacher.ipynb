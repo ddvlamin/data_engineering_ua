{
 "cells": [
  {
   "cell_type": "markdown",
   "metadata": {},
   "source": [
    "### Replace occurences of CODE_HERE with your own code and evaluate your results by executing all boxes with assert statements\n",
    "### Import the functions that we need for this lab session"
   ]
  },
  {
   "cell_type": "code",
   "execution_count": 91,
   "metadata": {},
   "outputs": [],
   "source": [
    "import csv\n",
    "\n",
    "from functools import partial\n",
    "from collections import defaultdict, Counter"
   ]
  },
  {
   "cell_type": "code",
   "execution_count": 20,
   "metadata": {},
   "outputs": [],
   "source": [
    "def apply(data, func):\n",
    "    \"\"\"\n",
    "    applies the function *func* to each element in the list *data*\n",
    "    \"\"\"\n",
    "    for element in data:\n",
    "        yield func(element)"
   ]
  },
  {
   "cell_type": "markdown",
   "metadata": {},
   "source": [
    "### Define the first data set"
   ]
  },
  {
   "cell_type": "code",
   "execution_count": 21,
   "metadata": {},
   "outputs": [],
   "source": [
    "data = [0,1,2,3,4,5,6,7,8,9]"
   ]
  },
  {
   "cell_type": "markdown",
   "metadata": {},
   "source": [
    "### Use the above defined *apply* function to apply the *square* function to the data set defined in *data*"
   ]
  },
  {
   "cell_type": "code",
   "execution_count": 22,
   "metadata": {},
   "outputs": [],
   "source": [
    "def square(x):\n",
    "    return x**2"
   ]
  },
  {
   "cell_type": "code",
   "execution_count": 23,
   "metadata": {},
   "outputs": [],
   "source": [
    "result = [i for i in apply(data, square)]"
   ]
  },
  {
   "cell_type": "code",
   "execution_count": 24,
   "metadata": {},
   "outputs": [],
   "source": [
    "expected = [0,1,4,9,16,25,36,49,64,81]\n",
    "assert expected == result"
   ]
  },
  {
   "cell_type": "markdown",
   "metadata": {},
   "source": [
    "### Define and use a lambda function that adds 2 to each element in *data*"
   ]
  },
  {
   "cell_type": "code",
   "execution_count": 28,
   "metadata": {},
   "outputs": [],
   "source": [
    "lambda_function = lambda x: x+2\n",
    "result = [i for i in apply(data, lambda_function)]"
   ]
  },
  {
   "cell_type": "code",
   "execution_count": 29,
   "metadata": {},
   "outputs": [],
   "source": [
    "expected = [2, 3, 4, 5, 6, 7, 8, 9, 10, 11]\n",
    "assert expected == result"
   ]
  },
  {
   "cell_type": "markdown",
   "metadata": {},
   "source": [
    "### Do the same as above, but make use of the below defined add function"
   ]
  },
  {
   "cell_type": "code",
   "execution_count": 32,
   "metadata": {},
   "outputs": [],
   "source": [
    "def add(x, constant=1):\n",
    "    return x+constant"
   ]
  },
  {
   "cell_type": "code",
   "execution_count": 33,
   "metadata": {},
   "outputs": [],
   "source": [
    "partial_function = partial(add, constant=2)\n",
    "result = [i for i in apply(data, partial_function)]"
   ]
  },
  {
   "cell_type": "code",
   "execution_count": 34,
   "metadata": {},
   "outputs": [],
   "source": [
    "expected = [2, 3, 4, 5, 6, 7, 8, 9, 10, 11]\n",
    "assert expected == result"
   ]
  },
  {
   "cell_type": "markdown",
   "metadata": {},
   "source": [
    "### Let's load a more interesting data set </br>\n",
    "### Some reddit records with the following header</br>\n",
    "name,category,amazon_link,total_mentions,subreddit_mentions </br>\n",
    "### An example of a CSV record</br>\n",
    "Belkin Speaker and Headphone 3.5 mm AUX Audio Cable Splitter,Electronics,https://www.amazon.com/Belkin-Speaker-and-Headphone-Splitter/dp/B000067RC4/ref=sr_1_3?ie=UTF8&amp;qid=1492359433&amp;sr=8-3&amp;keywords=2+way+headphone+splitter,7,1 </br>\n",
    "### An example of a JSON record after loading the file\n",
    "```json\n",
    "{\n",
    "    \"name\": \"Belkin Speaker and Headphone 3.5 mm AUX Audio Cable Splitter\",\n",
    "    \"category\": \"Electronics\",\n",
    "    \"amazon_link\": \"https://www.amazon.com/Belkin-Speaker-and-Headphone-Splitter/dp/B000067RC4/ref=sr_1_3?ie=UTF8&amp;qid=1492359433&amp;sr=8-3&amp;keywords=2+way+headphone+splitter\",\n",
    "    \"total_mentions\": \"7\",\n",
    "    \"subreddit_mentions\": \"1\"\n",
    "}\n",
    "```"
   ]
  },
  {
   "cell_type": "code",
   "execution_count": 71,
   "metadata": {},
   "outputs": [],
   "source": [
    "def load_csv_data(file_path):\n",
    "    with open(file_path, encoding=\"utf-8\") as fin:\n",
    "        csvreader = csv.DictReader(fin, delimiter=',',quotechar='\"')\n",
    "        data = [row for row in csvreader]\n",
    "    return data\n",
    "\n",
    "data = load_csv_data(\"data/amazonecho.csv\")"
   ]
  },
  {
   "cell_type": "markdown",
   "metadata": {},
   "source": [
    "### All values in the records are still strings, first transform the values for *total_mentions* and *subreddit_mentions* to integers"
   ]
  },
  {
   "cell_type": "code",
   "execution_count": 72,
   "metadata": {},
   "outputs": [],
   "source": [
    "def transform_to_int(record):\n",
    "    for key in [\"total_mentions\", \"subreddit_mentions\"]:\n",
    "        record[key] = int(record[key])\n",
    "    return record"
   ]
  },
  {
   "cell_type": "code",
   "execution_count": 73,
   "metadata": {},
   "outputs": [],
   "source": [
    "data = [e for e in apply(data, transform_to_int)]"
   ]
  },
  {
   "cell_type": "code",
   "execution_count": 74,
   "metadata": {},
   "outputs": [],
   "source": [
    "for e in data:\n",
    "    assert type(e[\"total_mentions\"]) == int\n",
    "    assert type(e[\"subreddit_mentions\"]) == int"
   ]
  },
  {
   "cell_type": "markdown",
   "metadata": {},
   "source": [
    "### sort all records according to their total_mentions from high to low"
   ]
  },
  {
   "cell_type": "code",
   "execution_count": 75,
   "metadata": {},
   "outputs": [],
   "source": [
    "data = sorted(data, key=lambda x: x[\"total_mentions\"], reverse=True)"
   ]
  },
  {
   "cell_type": "code",
   "execution_count": 76,
   "metadata": {},
   "outputs": [],
   "source": [
    "assert data[0][\"name\"] == \"Belkin Speaker and Headphone 3.5 mm AUX Audio Cable Splitter\""
   ]
  },
  {
   "cell_type": "markdown",
   "metadata": {},
   "source": [
    "### sort all records according to their category and then according to the total_mentions from high to low"
   ]
  },
  {
   "cell_type": "code",
   "execution_count": 84,
   "metadata": {},
   "outputs": [],
   "source": [
    "data = sorted(data, key=lambda x: (x[\"category\"], x[\"total_mentions\"]), reverse=True)"
   ]
  },
  {
   "cell_type": "code",
   "execution_count": 89,
   "metadata": {},
   "outputs": [],
   "source": [
    "assert data[0][\"category\"] == \"Tools & Home Improvement\" and data[0][\"total_mentions\"] == 4"
   ]
  },
  {
   "cell_type": "markdown",
   "metadata": {},
   "source": [
    "### count the number of records per category and sort from high to low"
   ]
  },
  {
   "cell_type": "code",
   "execution_count": 96,
   "metadata": {},
   "outputs": [],
   "source": [
    "counter = Counter()\n",
    "\n",
    "for record in data:\n",
    "    counter[record[\"category\"]] += 1\n",
    "    \n",
    "categories = sorted(counter.items(), key=lambda x: x[1], reverse=True)"
   ]
  },
  {
   "cell_type": "code",
   "execution_count": 98,
   "metadata": {},
   "outputs": [],
   "source": [
    "assert categories[0] == (\"Electronics\", 17)"
   ]
  },
  {
   "cell_type": "markdown",
   "metadata": {},
   "source": [
    "### add to each record the number of words in the *name* field of each record using the *apply* function and sort from high to low\n",
    "\n",
    "Hint: just use split to split the name string into words\n",
    "\n",
    "Example <br>\n",
    "```json\n",
    "{\n",
    "    \"name\": \"Belkin Speaker and Headphone 3.5 mm AUX Audio Cable Splitter\",\n",
    "    \"category\": \"Electronics\",\n",
    "    \"amazon_link\": \"https://www.amazon.com/Belkin-Speaker-and-Headphone-Splitter/dp/B000067RC4/ref=sr_1_3?ie=UTF8&amp;qid=1492359433&amp;sr=8-3&amp;keywords=2+way+headphone+splitter\",\n",
    "    \"total_mentions\": \"7\",\n",
    "    \"subreddit_mentions\": \"1\",\n",
    "    \"n_words\": 10\n",
    "}\n",
    "```"
   ]
  },
  {
   "cell_type": "code",
   "execution_count": 104,
   "metadata": {},
   "outputs": [],
   "source": [
    "def number_of_words(record):\n",
    "    n_words = len(record[\"name\"].split(\" \"))\n",
    "    record[\"n_words\"] = n_words\n",
    "    return record\n",
    "\n",
    "number_of_words = [rec for rec in apply(data, number_of_words)]\n",
    "number_of_words = sorted(number_of_words, key=lambda x: x[\"n_words\"], reverse=True)"
   ]
  },
  {
   "cell_type": "code",
   "execution_count": 105,
   "metadata": {},
   "outputs": [
    {
     "data": {
      "text/plain": [
       "[{'name': 'HAVIT Bluetooth 4.1 Transmitter Receiver(aptX), Pair 2 at Once, Mini Wireless Portable Bluetooth Adapter to 3.5mm Audio Devices and Home Stereo, Such as TV, MP3, CD Player, PC, eBook Reader (HV-BT018)',\n",
       "  'category': 'Electronics',\n",
       "  'amazon_link': 'https://www.amazon.com/HV-BT018-Bluetooth-Transmitter-Receiver-Wireless/dp/B0185GZMMQ/ref=sr_1_1?ie=UTF8&amp;qid=1492359313&amp;sr=8-1-spons&amp;keywords=bluetooth+transmitter&amp;psc=1',\n",
       "  'total_mentions': 1,\n",
       "  'subreddit_mentions': 1,\n",
       "  'n_words': 31},\n",
       " {'name': 'The Spot by Dot Genie: The Original Outlet Wall Mount Hanger Stand for Round Speakers - Designed in USA - No Messy Wires or Screws - Multiple Colors (White)',\n",
       "  'category': 'Electronics',\n",
       "  'amazon_link': 'https://www.amazon.com/dp/B0722Q3FMF?th=1',\n",
       "  'total_mentions': 1,\n",
       "  'subreddit_mentions': 1,\n",
       "  'n_words': 29},\n",
       " {'name': 'The Flush Mount – Built-in Wall or Ceiling Mount for Round Puck Speakers – Includes Wiring – Does not muffle built-in speakers – by Mount Genie (1-pack)',\n",
       "  'category': 'Electronics',\n",
       "  'amazon_link': 'https://www.amazon.com/Flush-Dot-Mount-professional-built/dp/B072TLJQK1/ref=sr_1_4?ie=UTF8&amp;qid=1498752308&amp;sr=8-4&amp;keywords=mount+genie',\n",
       "  'total_mentions': 2,\n",
       "  'subreddit_mentions': 1,\n",
       "  'n_words': 27},\n",
       " {'name': 'Anker SoundCore Bluetooth Speaker with 24-Hour Playtime, 66-Foot Bluetooth Range & Built-in Mic, Dual-Driver Portable Wireless Speaker with Low Harmonic Distortion and Superior Sound - Black',\n",
       "  'category': 'Cell Phones & Accessories',\n",
       "  'amazon_link': 'https://www.amazon.com/gp/product/B016XTADG2/ref=s9_acsd_al_bw_c_x_3_w',\n",
       "  'total_mentions': 3,\n",
       "  'subreddit_mentions': 1,\n",
       "  'n_words': 26},\n",
       " {'name': 'Ultra Portable iPhone Speaker, Inateck Wireless Bluetooth Speaker with Aluminum Body, Enhanced Bass and Superior Sound, for iPhone, iPad, Samsung, Nexus, HTC and More - Red',\n",
       "  'category': 'Cell Phones & Accessories',\n",
       "  'amazon_link': 'https://www.amazon.com/gp/product/B01KSZFQCS/',\n",
       "  'total_mentions': 1,\n",
       "  'subreddit_mentions': 1,\n",
       "  'n_words': 26},\n",
       " {'name': 'MoKo Carrying Case for Amazon Echo, Premium Vegan PU Leather Protective Cover Sleeve Skins for Amazon Echo Portable Bluetooth Speaker, with Holding Strap & Carabiner, RED',\n",
       "  'category': 'Amazon Devices',\n",
       "  'amazon_link': 'https://www.amazon.com/MoKo-Carrying-Protective-Bluetooth-Carabiner/dp/B01EHSKW44/ref=sr_1_11?ie=UTF8&amp;qid=1474059601&amp;sr=8-11&amp;keywords=echo+guard',\n",
       "  'total_mentions': 1,\n",
       "  'subreddit_mentions': 1,\n",
       "  'n_words': 26},\n",
       " {'name': 'Elegoo 120pcs Multicolored Dupont Wire 40pin Male to Female, 40pin Male to Male, 40pin Female to Female Breadboard Jumper Wires Ribbon Cables Kit for arduino',\n",
       "  'category': 'Industrial & Scientific',\n",
       "  'amazon_link': 'https://www.amazon.com/gp/product/B01EV70C78/ref=oh_aui_detailpage_o07_s00?ie=UTF8&amp;psc=1',\n",
       "  'total_mentions': 2,\n",
       "  'subreddit_mentions': 1,\n",
       "  'n_words': 25},\n",
       " {'name': 'TP-Link Smart Plug Mini, No Hub Required, Wi-Fi, Works with Alexa and Google Assistant, Control your Devices from Anywhere, Occupies Only One Socket (HS105)',\n",
       "  'category': 'Tools & Home Improvement',\n",
       "  'amazon_link': 'https://www.amazon.com/TP-Link-Required-Anywhere-Occupies-HS105/dp/B01K1JVZOE',\n",
       "  'total_mentions': 1,\n",
       "  'subreddit_mentions': 1,\n",
       "  'n_words': 24},\n",
       " {'name': 'Anker 20W Premium Stereo Portable Bluetooth Speaker with Dual 10W Drivers, Two Passive Subwoofers, Wireless Speaker for iPhone, Samsung, Nexus, and More - Black',\n",
       "  'category': 'Electronics',\n",
       "  'amazon_link': 'https://www.amazon.com/gp/product/B0107WH8Q4/ref=oh_aui_search_detailpage?ie=UTF8&amp;psc=1',\n",
       "  'total_mentions': 1,\n",
       "  'subreddit_mentions': 1,\n",
       "  'n_words': 24},\n",
       " {'name': 'LIFX Z (Starter Kit) Wi-Fi Smart LED Light Strip (Base + 2 meters of strip), Adjustable, Multicolor, Dimmable, No Hub Required, Works with Alexa',\n",
       "  'category': 'Amazon Launchpad',\n",
       "  'amazon_link': 'https://www.amazon.com/LIFX-Adjustable-Multicolor-Dimmable-Required/dp/B01KY02NLY/ref=sr_1_1?ie=UTF8&amp;qid=1484788979&amp;sr=8-1&amp;keywords=lifx+z+experience',\n",
       "  'total_mentions': 1,\n",
       "  'subreddit_mentions': 1,\n",
       "  'n_words': 24},\n",
       " {'name': 'Sewell Direct AirStick Microsuction Tape by Sewell, 0.5mm, 250mmx300mm Sheet - As seen on MOS products - Mount - Retail Packaging - Black',\n",
       "  'category': 'Cell Phones & Accessories',\n",
       "  'amazon_link': 'https://www.amazon.com/Sewell-Direct-AirStick-Microsuction-250mmx300mm/dp/B00M7FC1K8',\n",
       "  'total_mentions': 1,\n",
       "  'subreddit_mentions': 1,\n",
       "  'n_words': 23},\n",
       " {'name': 'TaoTronics Bluetooth 4.1 Transmitter / Receiver, 2-in-1 Wireless 3.5mm Adapter (aptX Low Latency, 2 Devices Simultaneously, For TV / Home Sound System)',\n",
       "  'category': 'Cell Phones & Accessories',\n",
       "  'amazon_link': 'https://www.amazon.com/TaoTronics-Bluetooth-Transmitter-Receiver-Simultaneously/dp/B01EHSX28M/ref=sr_1_5?ie=UTF8&amp;qid=1492359313&amp;sr=8-5&amp;keywords=bluetooth+transmitter',\n",
       "  'total_mentions': 4,\n",
       "  'subreddit_mentions': 1,\n",
       "  'n_words': 22},\n",
       " {'name': 'Hanvex HDCQ12 12ft 2.1mm x 5.5mm DC Plug Extension Cable for 12V Power Adapter and more, 20AWG Cord for CCTV, LED',\n",
       "  'category': 'Electronics',\n",
       "  'amazon_link': 'https://www.amazon.com/Hanvex-2-1mm-5-5mm-Extension-Adapter/dp/B00FTFYH0U',\n",
       "  'total_mentions': 1,\n",
       "  'subreddit_mentions': 1,\n",
       "  'n_words': 21},\n",
       " {'name': 'TP-Link Smart Plug, No Hub Required, Wi-Fi, Control your Devices from Anywhere, Works with Alexa and Google Assistant (HS100)',\n",
       "  'category': 'Tools & Home Improvement',\n",
       "  'amazon_link': 'https://www.amazon.com/dp/B0178IC734',\n",
       "  'total_mentions': 4,\n",
       "  'subreddit_mentions': 1,\n",
       "  'n_words': 19},\n",
       " {'name': 'BFF For Alexa- Owl Statue Crafted Guard Station For Amazon Echo Dot 2nd And 1st generation Speaker,Jam Classic Speaker',\n",
       "  'category': 'Amazon Devices',\n",
       "  'amazon_link': 'https://www.amazon.com/Crafted-Station-generation-Speaker-Classic/dp/B01I6F8M5K/ref=sr_1_13?ie=UTF8&amp;qid=1484594899&amp;sr=8-13&amp;keywords=echo+dot',\n",
       "  'total_mentions': 1,\n",
       "  'subreddit_mentions': 1,\n",
       "  'n_words': 19},\n",
       " {'name': 'BFF For Alexa- Owl Statue Crafted Guard Station For Amazon Echo Dot 2nd And 1st generation Speaker,Jam Classic Speaker',\n",
       "  'category': 'Amazon Devices',\n",
       "  'amazon_link': 'https://www.amazon.com/Crafted-Station-generation-Speaker-Classic/dp/B01I6F9Q7S/ref=sr_1_3?ie=UTF8&amp;qid=1484594946&amp;sr=8-3&amp;keywords=echo+dot+bff',\n",
       "  'total_mentions': 1,\n",
       "  'subreddit_mentions': 1,\n",
       "  'n_words': 19},\n",
       " {'name': 'BFF For Alexa- Skull Statue Crafted Guard Station For Amazon Echo Dot 2nd And 1st generation Speaker,Jam Classic Speaker',\n",
       "  'category': 'Amazon Devices',\n",
       "  'amazon_link': 'https://www.amazon.com/Crafted-Station-generation-Speaker-Classic/dp/B01I6F84P8/ref=sr_1_2?ie=UTF8&amp;qid=1484594934&amp;sr=8-2&amp;keywords=echo+dot+bff',\n",
       "  'total_mentions': 1,\n",
       "  'subreddit_mentions': 1,\n",
       "  'n_words': 19},\n",
       " {'name': 'Xillie Short USB 2.0 A Male to Micro B USB Triple Shielded Wired Cable, 0.5 Feet - Black',\n",
       "  'category': 'Electronics',\n",
       "  'amazon_link': 'https://www.amazon.com/gp/product/B013G4EAEI/',\n",
       "  'total_mentions': 1,\n",
       "  'subreddit_mentions': 1,\n",
       "  'n_words': 18},\n",
       " {'name': 'Logitech 915-000225 Harmony Smart Keyboard for Living Room Control of 8 Devices and Streaming Entertainment (Certified Refurbished)',\n",
       "  'category': 'Electronics',\n",
       "  'amazon_link': 'https://www.amazon.com/Logitech-915-000225-Streaming-Entertainment-Refurbished/dp/B00U9TKNDG?ie=UTF8&amp;psc=1&amp;redirect=true&amp;ref_=oh_aui_detailpage_o09_s00',\n",
       "  'total_mentions': 2,\n",
       "  'subreddit_mentions': 1,\n",
       "  'n_words': 17},\n",
       " {'name': 'GE Z-Wave Wireless Smart Lighting Control Outdoor Module, On/Off, Plug-In, Black, Works with Amazon Alexa, 12720',\n",
       "  'category': 'Tools & Home Improvement',\n",
       "  'amazon_link': 'https://www.amazon.com/dp/B0013V8K3O/ref=cm_sw_r_awd_cm8uwb7WZG7MT',\n",
       "  'total_mentions': 1,\n",
       "  'subreddit_mentions': 1,\n",
       "  'n_words': 16},\n",
       " {'name': 'LIFX Smart LED Light Bulb, Wi-Fi, Color 1000 A19, Multicolor, Dimmable, Works with Amazon Alexa',\n",
       "  'category': 'Amazon Launchpad',\n",
       "  'amazon_link': 'https://www.amazon.com/LIFX-Adjustable-Multicolor-Dimmable-Required/dp/B0161IJ5F0/',\n",
       "  'total_mentions': 1,\n",
       "  'subreddit_mentions': 1,\n",
       "  'n_words': 15},\n",
       " {'name': 'Protective Echo Stand for Amazon Echo and Echo Dot - Proudly Made in the USA',\n",
       "  'category': 'Amazon Devices',\n",
       "  'amazon_link': 'https://www.amazon.com/gp/product/B01HN2Y134/',\n",
       "  'total_mentions': 1,\n",
       "  'subreddit_mentions': 1,\n",
       "  'n_words': 15},\n",
       " {'name': 'Bang & Olufsen PLAY by Bang & Olufsen Beoplay S3 Home Bluetooth Speaker (Black)',\n",
       "  'category': 'Electronics',\n",
       "  'amazon_link': 'https://www.amazon.com/PLAY-Bang-Olufsen-S3-Bluetooth/dp/B016X1N5JC/ref=sr_1_1?ie=UTF8&amp;qid=1485620880&amp;sr=8-1&amp;keywords=bang+and+olufsen+s3',\n",
       "  'total_mentions': 1,\n",
       "  'subreddit_mentions': 1,\n",
       "  'n_words': 14},\n",
       " {'name': 'Portable Battery Base for Echo (Use Echo anywhere) - New Version (White)',\n",
       "  'category': 'Amazon Devices',\n",
       "  'amazon_link': 'https://www.amazon.com/gp/product/B01M5EQOL8/ref=oh_aui_detailpage_o00_s00?ie=UTF8&amp;psc=1',\n",
       "  'total_mentions': 1,\n",
       "  'subreddit_mentions': 1,\n",
       "  'n_words': 12},\n",
       " {'name': 'Logitech UE 984-000298 Mobile Boombox Bluetooth Speaker and Speakerphone (Black Grill/Black)',\n",
       "  'category': 'Electronics',\n",
       "  'amazon_link': 'https://www.amazon.com/dp/B0094S354W/ref=twister_B009TS84RK?_encoding=UTF8&amp;psc=1',\n",
       "  'total_mentions': 1,\n",
       "  'subreddit_mentions': 1,\n",
       "  'n_words': 11},\n",
       " {'name': 'Dark Mahogany Woodgrain Wood Vinyl Skin Decal Compatible with Amazon Echo',\n",
       "  'category': 'Amazon Devices',\n",
       "  'amazon_link': 'https://www.amazon.com/Mahogany-Woodgrain-Vinyl-Compatible-Amazon/dp/B01CKJJLNA/ref=sr_1_1?ie=UTF8&amp;qid=1494776295&amp;sr=8-1&amp;keywords=echo+wood+wrap',\n",
       "  'total_mentions': 1,\n",
       "  'subreddit_mentions': 1,\n",
       "  'n_words': 11},\n",
       " {'name': 'Belkin Speaker and Headphone 3.5 mm AUX Audio Cable Splitter',\n",
       "  'category': 'Electronics',\n",
       "  'amazon_link': 'https://www.amazon.com/Belkin-Speaker-and-Headphone-Splitter/dp/B000067RC4/ref=sr_1_3?ie=UTF8&amp;qid=1492359433&amp;sr=8-3&amp;keywords=2+way+headphone+splitter',\n",
       "  'total_mentions': 7,\n",
       "  'subreddit_mentions': 1,\n",
       "  'n_words': 10},\n",
       " {'name': 'WeMo Switch Smart Plug, Wi-Fi, Works with Amazon Alexa',\n",
       "  'category': 'Cell Phones & Accessories',\n",
       "  'amazon_link': 'https://www.amazon.com/WeMo-Enabled-Electronics-anywhere-Compatible/dp/B00BB2MMNE/ref=sr_1_2?ie=UTF8&amp;qid=1454451761&amp;sr=8-2&amp;keywords=WeMo+Switch',\n",
       "  'total_mentions': 3,\n",
       "  'subreddit_mentions': 1,\n",
       "  'n_words': 9},\n",
       " {'name': 'Ideal 31-2143 55 gal Drum of ClearGlide Lubricant',\n",
       "  'category': 'Industrial & Scientific',\n",
       "  'amazon_link': 'https://www.amazon.com/Ideal-31-2143-Drum-ClearGlide-Lubricant/dp/B00OMY2PT4/ref=sr_1_3?ie=UTF8&amp;qid=1486345852&amp;sr=8-3&amp;keywords=drum+lube',\n",
       "  'total_mentions': 5,\n",
       "  'subreddit_mentions': 1,\n",
       "  'n_words': 8},\n",
       " {'name': 'Sony SRSXB3/BLK Portable Wireless Speaker with Bluetooth (Black)',\n",
       "  'category': 'Electronics',\n",
       "  'amazon_link': 'https://www.amazon.com/gp/product/B019Q895XE/ref=ox_sc_sfl_title_1?ie=UTF8&amp;psc=1&amp;smid=ATVPDKIKX0DER',\n",
       "  'total_mentions': 1,\n",
       "  'subreddit_mentions': 1,\n",
       "  'n_words': 8},\n",
       " {'name': 'HMDX HX-P120BL HoMedics Neutron Wireless Suction Speaker (Blue)',\n",
       "  'category': 'Electronics',\n",
       "  'amazon_link': 'https://www.amazon.com/HMDX-HX-P120BL-HoMedics-Neutron-Wireless/dp/B00KOW7ICW/ref=sr_1_4?ie=UTF8&amp;qid=1436515938&amp;sr=8-4&amp;keywords=bluetooth+shower+speaker+hdmx',\n",
       "  'total_mentions': 1,\n",
       "  'subreddit_mentions': 1,\n",
       "  'n_words': 8},\n",
       " {'name': 'UE BOOM Wireless Bluetooth Speaker - Black',\n",
       "  'category': 'Electronics',\n",
       "  'amazon_link': 'https://www.amazon.com/UE-BOOM-Wireless-Bluetooth-Speaker/dp/B00CM0XHNS',\n",
       "  'total_mentions': 2,\n",
       "  'subreddit_mentions': 1,\n",
       "  'n_words': 7},\n",
       " {'name': 'JAM Classic Bluetooth Wireless Speaker (Black) HX-P230BK',\n",
       "  'category': 'Electronics',\n",
       "  'amazon_link': 'https://www.amazon.com/dp/B00K2U3456/',\n",
       "  'total_mentions': 1,\n",
       "  'subreddit_mentions': 1,\n",
       "  'n_words': 7},\n",
       " {'name': 'Bose SoundLink Mini Bluetooth Speaker II (Carbon)',\n",
       "  'category': 'Electronics',\n",
       "  'amazon_link': 'https://www.amazon.com/Bose-SoundLink-Bluetooth-Speaker-Carbon/dp/B00WK47VEW/ref=sr_1_3?ie=UTF8&amp;qid=1482023920&amp;sr=8-3&amp;keywords=bose+soundlink+mini+ii',\n",
       "  'total_mentions': 1,\n",
       "  'subreddit_mentions': 1,\n",
       "  'n_words': 7},\n",
       " {'name': 'Sony SRSHG1/BLK Hi-Res Wireless Speaker- Charcoal black',\n",
       "  'category': 'Electronics',\n",
       "  'amazon_link': 'https://www.amazon.com/gp/product/B019Q88VAM/ref=ox_sc_sfl_title_2?ie=UTF8&amp;psc=1&amp;smid=ATVPDKIKX0DER',\n",
       "  'total_mentions': 1,\n",
       "  'subreddit_mentions': 1,\n",
       "  'n_words': 7},\n",
       " {'name': 'AmazonBasics Micro Bluetooth Speaker - Black',\n",
       "  'category': 'Electronics',\n",
       "  'amazon_link': 'https://www.amazon.com/AmazonBasics-Ultra-Portable-Micro-Bluetooth-Speaker/dp/B00LLJ51FI',\n",
       "  'total_mentions': 1,\n",
       "  'subreddit_mentions': 1,\n",
       "  'n_words': 6},\n",
       " {'name': 'Blu-Tack Reusable Adhesive 75g',\n",
       "  'category': 'Office Products',\n",
       "  'amazon_link': 'https://www.amazon.com/Blu-Tack-060968-Reusable-Adhesive-75g/dp/B001FGLX72/ref=sr_1_1?ie=UTF8&amp;qid=1493003284&amp;sr=8-1&amp;keywords=blutack',\n",
       "  'total_mentions': 3,\n",
       "  'subreddit_mentions': 1,\n",
       "  'n_words': 4},\n",
       " {'name': 'Locke & Key',\n",
       "  'category': 'Books',\n",
       "  'amazon_link': 'https://www.amazon.com/FREE-Locke-Key/dp/B010PNSBYI',\n",
       "  'total_mentions': 2,\n",
       "  'subreddit_mentions': 1,\n",
       "  'n_words': 3},\n",
       " {'name': 'power',\n",
       "  'category': 'Amazon Devices',\n",
       "  'amazon_link': 'https://www.amazon.com/Smatree-Intelligent-Battery-9000mAh-Portable/dp/B01G6P3AEK/ref=pd_cp_485_2?ie=UTF8&amp;psc=1&amp;refRID=1N6FRW2EM69VHG1A6477',\n",
       "  'total_mentions': 1,\n",
       "  'subreddit_mentions': 1,\n",
       "  'n_words': 1}]"
      ]
     },
     "execution_count": 105,
     "metadata": {},
     "output_type": "execute_result"
    }
   ],
   "source": [
    "number_of_words"
   ]
  },
  {
   "cell_type": "code",
   "execution_count": null,
   "metadata": {},
   "outputs": [],
   "source": []
  }
 ],
 "metadata": {
  "kernelspec": {
   "display_name": "Python 3",
   "language": "python",
   "name": "python3"
  },
  "language_info": {
   "codemirror_mode": {
    "name": "ipython",
    "version": 3
   },
   "file_extension": ".py",
   "mimetype": "text/x-python",
   "name": "python",
   "nbconvert_exporter": "python",
   "pygments_lexer": "ipython3",
   "version": "3.8.0"
  }
 },
 "nbformat": 4,
 "nbformat_minor": 2
}
