{
 "cells": [
  {
   "cell_type": "markdown",
   "metadata": {},
   "source": [
    "### Replace occurences of CODE_HERE with your own code and evaluate your results by executing all boxes with assert statements\n",
    "### Import the functions that we need for this lab session"
   ]
  },
  {
   "cell_type": "code",
   "execution_count": 135,
   "metadata": {},
   "outputs": [],
   "source": [
    "import csv\n",
    "\n",
    "from functools import partial\n",
    "from collections import defaultdict, Counter\n",
    "from itertools import count, permutations, combinations"
   ]
  },
  {
   "cell_type": "code",
   "execution_count": 20,
   "metadata": {},
   "outputs": [],
   "source": [
    "def apply(data, func):\n",
    "    \"\"\"\n",
    "    applies the function *func* to each element in the list *data*\n",
    "    \"\"\"\n",
    "    for element in data:\n",
    "        yield func(element)"
   ]
  },
  {
   "cell_type": "markdown",
   "metadata": {},
   "source": [
    "### Define the first data set"
   ]
  },
  {
   "cell_type": "code",
   "execution_count": 21,
   "metadata": {},
   "outputs": [],
   "source": [
    "data = [0,1,2,3,4,5,6,7,8,9]"
   ]
  },
  {
   "cell_type": "markdown",
   "metadata": {},
   "source": [
    "### Use the above defined *apply* function to apply the *square* function to the data set defined in *data*"
   ]
  },
  {
   "cell_type": "code",
   "execution_count": 22,
   "metadata": {},
   "outputs": [],
   "source": [
    "def square(x):\n",
    "    return x**2"
   ]
  },
  {
   "cell_type": "code",
   "execution_count": 23,
   "metadata": {},
   "outputs": [],
   "source": [
    "result = [i for i in apply(data, square)]"
   ]
  },
  {
   "cell_type": "code",
   "execution_count": 24,
   "metadata": {},
   "outputs": [],
   "source": [
    "expected = [0,1,4,9,16,25,36,49,64,81]\n",
    "assert expected == result"
   ]
  },
  {
   "cell_type": "markdown",
   "metadata": {},
   "source": [
    "### Define and use a lambda function that adds 2 to each element in *data*"
   ]
  },
  {
   "cell_type": "code",
   "execution_count": 28,
   "metadata": {},
   "outputs": [],
   "source": [
    "lambda_function = lambda x: x+2\n",
    "result = [i for i in apply(data, lambda_function)]"
   ]
  },
  {
   "cell_type": "code",
   "execution_count": 29,
   "metadata": {},
   "outputs": [],
   "source": [
    "expected = [2, 3, 4, 5, 6, 7, 8, 9, 10, 11]\n",
    "assert expected == result"
   ]
  },
  {
   "cell_type": "markdown",
   "metadata": {},
   "source": [
    "### Do the same as above, but make use of the below defined add function"
   ]
  },
  {
   "cell_type": "code",
   "execution_count": 32,
   "metadata": {},
   "outputs": [],
   "source": [
    "def add(x, constant=1):\n",
    "    return x+constant"
   ]
  },
  {
   "cell_type": "code",
   "execution_count": 33,
   "metadata": {},
   "outputs": [],
   "source": [
    "partial_function = partial(add, constant=2)\n",
    "result = [i for i in apply(data, partial_function)]"
   ]
  },
  {
   "cell_type": "code",
   "execution_count": 34,
   "metadata": {},
   "outputs": [],
   "source": [
    "expected = [2, 3, 4, 5, 6, 7, 8, 9, 10, 11]\n",
    "assert expected == result"
   ]
  },
  {
   "cell_type": "markdown",
   "metadata": {},
   "source": [
    "### Let's load a more interesting data set </br>\n",
    "### Some reddit records with the following header</br>\n",
    "name,category,amazon_link,total_mentions,subreddit_mentions </br>\n",
    "### An example of a CSV record</br>\n",
    "Belkin Speaker and Headphone 3.5 mm AUX Audio Cable Splitter,Electronics,https://www.amazon.com/Belkin-Speaker-and-Headphone-Splitter/dp/B000067RC4/ref=sr_1_3?ie=UTF8&amp;qid=1492359433&amp;sr=8-3&amp;keywords=2+way+headphone+splitter,7,1 </br>\n",
    "### An example of a JSON record after loading the file\n",
    "```json\n",
    "{\n",
    "    \"name\": \"Belkin Speaker and Headphone 3.5 mm AUX Audio Cable Splitter\",\n",
    "    \"category\": \"Electronics\",\n",
    "    \"amazon_link\": \"https://www.amazon.com/Belkin-Speaker-and-Headphone-Splitter/dp/B000067RC4/ref=sr_1_3?ie=UTF8&amp;qid=1492359433&amp;sr=8-3&amp;keywords=2+way+headphone+splitter\",\n",
    "    \"total_mentions\": \"7\",\n",
    "    \"subreddit_mentions\": \"1\"\n",
    "}\n",
    "```"
   ]
  },
  {
   "cell_type": "code",
   "execution_count": 71,
   "metadata": {},
   "outputs": [],
   "source": [
    "def load_csv_data(file_path):\n",
    "    with open(file_path, encoding=\"utf-8\") as fin:\n",
    "        csvreader = csv.DictReader(fin, delimiter=',',quotechar='\"')\n",
    "        data = [row for row in csvreader]\n",
    "    return data\n",
    "\n",
    "data = load_csv_data(\"data/amazonecho.csv\")"
   ]
  },
  {
   "cell_type": "markdown",
   "metadata": {},
   "source": [
    "### All values in the records are still strings, first transform the values for *total_mentions* and *subreddit_mentions* to integers"
   ]
  },
  {
   "cell_type": "code",
   "execution_count": 72,
   "metadata": {},
   "outputs": [],
   "source": [
    "def transform_to_int(record):\n",
    "    for key in [\"total_mentions\", \"subreddit_mentions\"]:\n",
    "        record[key] = int(record[key])\n",
    "    return record"
   ]
  },
  {
   "cell_type": "code",
   "execution_count": 73,
   "metadata": {},
   "outputs": [],
   "source": [
    "data = [e for e in apply(data, transform_to_int)]"
   ]
  },
  {
   "cell_type": "code",
   "execution_count": 74,
   "metadata": {},
   "outputs": [],
   "source": [
    "for e in data:\n",
    "    assert type(e[\"total_mentions\"]) == int\n",
    "    assert type(e[\"subreddit_mentions\"]) == int"
   ]
  },
  {
   "cell_type": "markdown",
   "metadata": {},
   "source": [
    "### sort all records according to their total_mentions from high to low"
   ]
  },
  {
   "cell_type": "code",
   "execution_count": 75,
   "metadata": {},
   "outputs": [],
   "source": [
    "data = sorted(data, key=lambda x: x[\"total_mentions\"], reverse=True)"
   ]
  },
  {
   "cell_type": "code",
   "execution_count": 76,
   "metadata": {},
   "outputs": [],
   "source": [
    "assert data[0][\"name\"] == \"Belkin Speaker and Headphone 3.5 mm AUX Audio Cable Splitter\""
   ]
  },
  {
   "cell_type": "markdown",
   "metadata": {},
   "source": [
    "### sort all records according to their category and then according to the total_mentions from high to low"
   ]
  },
  {
   "cell_type": "code",
   "execution_count": 84,
   "metadata": {},
   "outputs": [],
   "source": [
    "data = sorted(data, key=lambda x: (x[\"category\"], x[\"total_mentions\"]), reverse=True)"
   ]
  },
  {
   "cell_type": "code",
   "execution_count": 89,
   "metadata": {},
   "outputs": [],
   "source": [
    "assert data[0][\"category\"] == \"Tools & Home Improvement\" and data[0][\"total_mentions\"] == 4"
   ]
  },
  {
   "cell_type": "markdown",
   "metadata": {},
   "source": [
    "### count the number of records per category and sort from high to low"
   ]
  },
  {
   "cell_type": "code",
   "execution_count": 96,
   "metadata": {},
   "outputs": [],
   "source": [
    "counter = Counter()\n",
    "\n",
    "for record in data:\n",
    "    counter[record[\"category\"]] += 1\n",
    "    \n",
    "categories = sorted(counter.items(), key=lambda x: x[1], reverse=True)"
   ]
  },
  {
   "cell_type": "code",
   "execution_count": 98,
   "metadata": {},
   "outputs": [],
   "source": [
    "assert categories[0] == (\"Electronics\", 17)"
   ]
  },
  {
   "cell_type": "markdown",
   "metadata": {},
   "source": [
    "### add to each record the number of words in the *name* field of each record using the *apply* function and sort from high to low\n",
    "\n",
    "Hint: just use split to split the name string into words\n",
    "\n",
    "Example <br>\n",
    "```json\n",
    "{\n",
    "    \"name\": \"Belkin Speaker and Headphone 3.5 mm AUX Audio Cable Splitter\",\n",
    "    \"category\": \"Electronics\",\n",
    "    \"amazon_link\": \"https://www.amazon.com/Belkin-Speaker-and-Headphone-Splitter/dp/B000067RC4/ref=sr_1_3?ie=UTF8&amp;qid=1492359433&amp;sr=8-3&amp;keywords=2+way+headphone+splitter\",\n",
    "    \"total_mentions\": 7,\n",
    "    \"subreddit_mentions\": 1,\n",
    "    \"n_words\": 10\n",
    "}\n",
    "```"
   ]
  },
  {
   "cell_type": "code",
   "execution_count": 104,
   "metadata": {},
   "outputs": [],
   "source": [
    "def number_of_words(record):\n",
    "    n_words = len(record[\"name\"].split(\" \"))\n",
    "    record[\"n_words\"] = n_words\n",
    "    return record\n",
    "\n",
    "number_of_words = [rec for rec in apply(data, number_of_words)]\n",
    "number_of_words = sorted(number_of_words, key=lambda x: x[\"n_words\"], reverse=True)"
   ]
  },
  {
   "cell_type": "code",
   "execution_count": 109,
   "metadata": {},
   "outputs": [],
   "source": [
    "assert number_of_words[0][\"name\"] == \"HAVIT Bluetooth 4.1 Transmitter Receiver(aptX), Pair 2 at Once, Mini Wireless Portable Bluetooth Adapter to 3.5mm Audio Devices and Home Stereo, Such as TV, MP3, CD Player, PC, eBook Reader (HV-BT018)\"\n",
    "assert number_of_words[0][\"n_words\"] == 31"
   ]
  },
  {
   "cell_type": "markdown",
   "metadata": {},
   "source": [
    "### build a dictionary that maps a category to a list of its record names\n",
    "\n",
    "Hint: use a defaultdict"
   ]
  },
  {
   "cell_type": "code",
   "execution_count": 111,
   "metadata": {},
   "outputs": [],
   "source": [
    "category2names = defaultdict(list)\n",
    "\n",
    "for record in data:\n",
    "    category2names[record[\"category\"]].append(record[\"name\"])"
   ]
  },
  {
   "cell_type": "code",
   "execution_count": 117,
   "metadata": {},
   "outputs": [],
   "source": [
    "assert len(category2names[\"Electronics\"]) == 17"
   ]
  },
  {
   "cell_type": "markdown",
   "metadata": {},
   "source": [
    "### Imagine we want to construct a feature matrix where the rows/samples are the records and the features the words in the record name\n",
    "### To achieve this we would have to first extract the words of each record and then map the words to a column index\n",
    "### In the below exercise we will map the words to an unique index starting from zero\n",
    "Hint: use the count function (in the itertools module) together with defaultdict \n",
    "https://docs.python.org/2/library/itertools.html <br>\n",
    "As before just use split to get the words per record"
   ]
  },
  {
   "cell_type": "code",
   "execution_count": 121,
   "metadata": {},
   "outputs": [],
   "source": [
    "cnt = count()\n",
    "indexer = defaultdict(lambda: next(cnt))"
   ]
  },
  {
   "cell_type": "code",
   "execution_count": 123,
   "metadata": {},
   "outputs": [],
   "source": [
    "def map_word_to_index(record, indexer):\n",
    "    for word in record[\"name\"].split(\" \"):\n",
    "        indexer[word]"
   ]
  },
  {
   "cell_type": "code",
   "execution_count": 124,
   "metadata": {},
   "outputs": [],
   "source": [
    "for record in data:\n",
    "    map_word_to_index(record, indexer)"
   ]
  },
  {
   "cell_type": "code",
   "execution_count": 127,
   "metadata": {},
   "outputs": [],
   "source": [
    "assert max(indexer.values()) == 349"
   ]
  },
  {
   "cell_type": "markdown",
   "metadata": {},
   "source": [
    "### Generate all 2-tuple category combinations"
   ]
  },
  {
   "cell_type": "code",
   "execution_count": 136,
   "metadata": {},
   "outputs": [],
   "source": [
    "category_tuples = [tpl for tpl in combinations({record[\"category\"] for record in data}, 2)]"
   ]
  },
  {
   "cell_type": "code",
   "execution_count": 139,
   "metadata": {},
   "outputs": [],
   "source": [
    "assert len(category_tuples) == 28"
   ]
  },
  {
   "cell_type": "code",
   "execution_count": null,
   "metadata": {},
   "outputs": [],
   "source": []
  }
 ],
 "metadata": {
  "kernelspec": {
   "display_name": "Python 3",
   "language": "python",
   "name": "python3"
  },
  "language_info": {
   "codemirror_mode": {
    "name": "ipython",
    "version": 3
   },
   "file_extension": ".py",
   "mimetype": "text/x-python",
   "name": "python",
   "nbconvert_exporter": "python",
   "pygments_lexer": "ipython3",
   "version": "3.8.0"
  }
 },
 "nbformat": 4,
 "nbformat_minor": 2
}
