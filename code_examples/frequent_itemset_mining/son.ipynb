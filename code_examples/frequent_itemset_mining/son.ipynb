{
 "cells": [
  {
   "cell_type": "code",
   "execution_count": 63,
   "metadata": {},
   "outputs": [],
   "source": [
    "from collections import Counter\n",
    "from itertools import combinations\n",
    "from functools import partial\n",
    "import logging"
   ]
  },
  {
   "cell_type": "code",
   "execution_count": 64,
   "metadata": {},
   "outputs": [],
   "source": [
    "transactions = [\n",
    "    [\"cookies\", \"milk\", \"juice\", \"bread\", \"butter\"],\n",
    "    [\"milk\", \"bread\", \"butter\"],\n",
    "    [\"cookies\", \"milk\", \"bread\", \"butter\"],\n",
    "    [\"cookies\",\"juice\"],\n",
    "    [\"milk\"]\n",
    "]\n",
    "\n",
    "support = 4\n",
    "npartitions = 2\n",
    "partition_support = support/npartitions"
   ]
  },
  {
   "cell_type": "code",
   "execution_count": 65,
   "metadata": {},
   "outputs": [],
   "source": [
    "def count_itemsets_in_partition(transactions, itemset_size, support):\n",
    "    itemset_counter = Counter()\n",
    "    for transaction in transactions:\n",
    "        for itemset in combinations(transaction, itemset_size):\n",
    "            itemset_counter[itemset] += 1\n",
    "        \n",
    "    yield set([ itemset for itemset, count in itemset_counter.items() if count>=support ])\n",
    "\n",
    "def reduce_frequent_itemsets(itemsets1, itemsets2):\n",
    "    itemsets1 |= itemsets2\n",
    "    return itemsets1\n"
   ]
  },
  {
   "cell_type": "code",
   "execution_count": 66,
   "metadata": {},
   "outputs": [],
   "source": [
    "candidate_itemsets = (sc\n",
    "    .parallelize(transactions, npartitions)\n",
    "    .mapPartitions(\n",
    "        partial(\n",
    "            count_itemsets_in_partition,\n",
    "            itemset_size=1, \n",
    "            support=partition_support\n",
    "        ), \n",
    "        preservesPartitioning=True\n",
    "    )\n",
    "    .reduce(reduce_frequent_itemsets)\n",
    ")"
   ]
  },
  {
   "cell_type": "code",
   "execution_count": 75,
   "metadata": {},
   "outputs": [
    {
     "name": "stdout",
     "output_type": "stream",
     "text": [
      "('butter',)\n",
      "('bread',)\n",
      "('milk',)\n",
      "('cookies',)\n"
     ]
    }
   ],
   "source": [
    "for itemset in candidate_itemsets:\n",
    "    print(itemset)"
   ]
  },
  {
   "cell_type": "code",
   "execution_count": 67,
   "metadata": {},
   "outputs": [],
   "source": [
    "def count_itemsets_in_transaction(transaction, itemset_size, candidate_itemsets):\n",
    "    itemset_counter = Counter()\n",
    "    for itemset in combinations(transaction, itemset_size):\n",
    "        if itemset in candidate_itemsets:\n",
    "            itemset_counter[itemset] += 1\n",
    "    \n",
    "    for itemset, count in itemset_counter.items():\n",
    "        yield (itemset, count)"
   ]
  },
  {
   "cell_type": "code",
   "execution_count": 68,
   "metadata": {},
   "outputs": [],
   "source": [
    "frequent_itemsets = (sc\n",
    "    .parallelize(transactions)\n",
    "    .flatMap(partial(count_itemsets_in_transaction,itemset_size=1, candidate_itemsets=candidate_itemsets))\n",
    "    .reduceByKey(lambda x, y: x+y)\n",
    "    .filter(lambda x: x[1]>=support)\n",
    "    .collect()\n",
    ")"
   ]
  },
  {
   "cell_type": "code",
   "execution_count": 73,
   "metadata": {},
   "outputs": [
    {
     "name": "stdout",
     "output_type": "stream",
     "text": [
      "itemset: ('milk',) with support 4\n"
     ]
    }
   ],
   "source": [
    "for itemset, itemset_support in frequent_itemsets:\n",
    "    print(f\"itemset: {itemset} with support {itemset_support}\")"
   ]
  },
  {
   "cell_type": "code",
   "execution_count": null,
   "metadata": {},
   "outputs": [],
   "source": []
  }
 ],
 "metadata": {
  "kernelspec": {
   "display_name": "Python 3",
   "language": "python",
   "name": "python3"
  },
  "language_info": {
   "codemirror_mode": {
    "name": "ipython",
    "version": 3
   },
   "file_extension": ".py",
   "mimetype": "text/x-python",
   "name": "python",
   "nbconvert_exporter": "python",
   "pygments_lexer": "ipython3",
   "version": "3.7.3"
  }
 },
 "nbformat": 4,
 "nbformat_minor": 2
}
