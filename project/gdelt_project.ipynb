{
 "cells": [
  {
   "cell_type": "code",
   "execution_count": 8,
   "metadata": {},
   "outputs": [],
   "source": [
    "from datetime import datetime\n",
    "from functools import partial\n",
    "import re\n",
    "import os\n",
    "import json\n",
    "\n",
    "from pyspark import SparkContext"
   ]
  },
  {
   "cell_type": "code",
   "execution_count": 9,
   "metadata": {},
   "outputs": [],
   "source": [
    "index2events_column = {\n",
    "  0: \"GlobalEventId\",\n",
    "  37: \"Actor1Geo_CountryCode\",\n",
    "  60: \"url\",\n",
    "  40: \"lat\",\n",
    "  41: \"long\",\n",
    "  59: \"DateAdded\"\n",
    "}\n",
    "\n",
    "index2mentions_column = {\n",
    "  0: \"GlobalEventId\",\n",
    "  3: \"MentionType\",\n",
    "  5: \"MentionIdentifier\",\n",
    "  1: \"EventTimeDate\",\n",
    "  2: \"MentionTimeDate\"\n",
    "}\n",
    "\n",
    "basepath = \"/home/ubuntu/data/project/gdelt/sample\"\n",
    "events_path_english = os.path.join(basepath, \"english/events/\")\n",
    "mentions_path_english = os.path.join(basepath, \"english/mentions/\")\n",
    "events_path_multi = os.path.join(basepath, \"multilingual/events/\")\n",
    "mentions_path_multi = os.path.join(basepath, \"multilingual/mentions/\")"
   ]
  },
  {
   "cell_type": "code",
   "execution_count": 10,
   "metadata": {},
   "outputs": [],
   "source": [
    "sc = SparkContext()"
   ]
  },
  {
   "cell_type": "code",
   "execution_count": 11,
   "metadata": {},
   "outputs": [],
   "source": [
    "events_rdd = sc.textFile(events_path_english).union(sc.textFile(events_path_multi))\n",
    "mentions_rdd = sc.textFile(mentions_path_english).union(sc.textFile(mentions_path_multi))"
   ]
  },
  {
   "cell_type": "code",
   "execution_count": 12,
   "metadata": {},
   "outputs": [],
   "source": [
    "tab_split_func = lambda input_line: input_line.split(\"\\t\")"
   ]
  },
  {
   "cell_type": "code",
   "execution_count": 13,
   "metadata": {},
   "outputs": [],
   "source": [
    "events_split_rdd = events_rdd.map(tab_split_func)"
   ]
  },
  {
   "cell_type": "code",
   "execution_count": 14,
   "metadata": {},
   "outputs": [],
   "source": [
    "def transform_to_json(record, index2column):\n",
    "    return_value = dict()\n",
    "    for index, column_name in index2column.items():\n",
    "        return_value[column_name] = record[index]\n",
    "    return return_value\n",
    "\n",
    "events_json_rdd = events_split_rdd.map(partial(transform_to_json, index2column=index2events_column))"
   ]
  },
  {
   "cell_type": "code",
   "execution_count": 15,
   "metadata": {},
   "outputs": [
    {
     "data": {
      "text/plain": [
       "[{'GlobalEventId': '915090043',\n",
       "  'Actor1Geo_CountryCode': 'US',\n",
       "  'url': 'https://gazette.com/premium/editorial-give-oil-and-gas-a-break-from-new-rules/article_a73a1844-7092-11ea-86ab-837f0f45f6a9.html',\n",
       "  'lat': '39.0646',\n",
       "  'long': '-105.327',\n",
       "  'DateAdded': '20200328134500'}]"
      ]
     },
     "execution_count": 15,
     "metadata": {},
     "output_type": "execute_result"
    }
   ],
   "source": [
    "events_json_rdd.take(1)"
   ]
  },
  {
   "cell_type": "code",
   "execution_count": 16,
   "metadata": {},
   "outputs": [],
   "source": [
    "def convert_dtstr_dt(dtstr):\n",
    "    format_string = \"%Y%m%d%H%M%S\"\n",
    "    dt = datetime.strptime(dtstr, format_string)\n",
    "    return dt\n",
    "\n",
    "def convert_to_float(floatstr):\n",
    "    try:\n",
    "        return float(floatstr)\n",
    "    except ValueError:\n",
    "        return None\n",
    "\n",
    "type_converters = {\n",
    "    \"DateAdded\": convert_dtstr_dt,\n",
    "    \"lat\": convert_to_float,\n",
    "    \"long\": convert_to_float\n",
    "}\n",
    "\n",
    "def convert_types(record, converters):\n",
    "    for col_name, convert_func in converters.items():\n",
    "        record[col_name] = convert_func(record[col_name])\n",
    "    return record"
   ]
  },
  {
   "cell_type": "code",
   "execution_count": 17,
   "metadata": {},
   "outputs": [],
   "source": [
    "assert convert_dtstr_dt(\"20200310120000\") == datetime(2020, 3, 10, 12, 0)"
   ]
  },
  {
   "cell_type": "code",
   "execution_count": 18,
   "metadata": {},
   "outputs": [],
   "source": [
    "events_converted_rdd = events_json_rdd.map(partial(convert_types, converters=type_converters))"
   ]
  },
  {
   "cell_type": "code",
   "execution_count": 19,
   "metadata": {},
   "outputs": [
    {
     "data": {
      "text/plain": [
       "[{'GlobalEventId': '915090043',\n",
       "  'Actor1Geo_CountryCode': 'US',\n",
       "  'url': 'https://gazette.com/premium/editorial-give-oil-and-gas-a-break-from-new-rules/article_a73a1844-7092-11ea-86ab-837f0f45f6a9.html',\n",
       "  'lat': 39.0646,\n",
       "  'long': -105.327,\n",
       "  'DateAdded': datetime.datetime(2020, 3, 28, 13, 45)}]"
      ]
     },
     "execution_count": 19,
     "metadata": {},
     "output_type": "execute_result"
    }
   ],
   "source": [
    "events_converted_rdd.take(1)"
   ]
  },
  {
   "cell_type": "code",
   "execution_count": 20,
   "metadata": {},
   "outputs": [],
   "source": [
    "corona_regex = re.compile(\"(?=.*[ck]orona)(?=.*virus)|[Cc][Oo][Vv][Ii][Dd]-?19\")\n",
    "def contains_corona(record):\n",
    "    url = record[\"url\"]\n",
    "    return corona_regex.search(url) != None"
   ]
  },
  {
   "cell_type": "code",
   "execution_count": 21,
   "metadata": {},
   "outputs": [],
   "source": [
    "corona_events_rdd = events_converted_rdd.filter(contains_corona)"
   ]
  },
  {
   "cell_type": "code",
   "execution_count": 22,
   "metadata": {},
   "outputs": [],
   "source": [
    "corona_forjoin_rdd = corona_events_rdd.map(lambda record: (record[\"GlobalEventId\"], record))"
   ]
  },
  {
   "cell_type": "code",
   "execution_count": 23,
   "metadata": {},
   "outputs": [
    {
     "data": {
      "text/plain": [
       "[('915090050',\n",
       "  {'GlobalEventId': '915090050',\n",
       "   'Actor1Geo_CountryCode': '',\n",
       "   'url': 'https://www.inbrampton.com/federal-doctor-says-covid-19-battle-will-last-months-many-months-as-cases-soar',\n",
       "   'lat': None,\n",
       "   'long': None,\n",
       "   'DateAdded': datetime.datetime(2020, 3, 28, 13, 45)})]"
      ]
     },
     "execution_count": 23,
     "metadata": {},
     "output_type": "execute_result"
    }
   ],
   "source": [
    "corona_forjoin_rdd.take(1)"
   ]
  },
  {
   "cell_type": "code",
   "execution_count": 24,
   "metadata": {},
   "outputs": [],
   "source": [
    "mentions_count_rdd = (mentions_rdd\n",
    "     .map(tab_split_func)\n",
    "     .map(partial(transform_to_json, index2column=index2mentions_column))\n",
    "     .map(lambda json_record: (json_record[\"GlobalEventId\"],1))\n",
    "     .reduceByKey(lambda x, y: x+y)\n",
    ")"
   ]
  },
  {
   "cell_type": "code",
   "execution_count": 25,
   "metadata": {},
   "outputs": [],
   "source": [
    "joined_rdd = corona_forjoin_rdd.join(mentions_count_rdd)"
   ]
  },
  {
   "cell_type": "code",
   "execution_count": 26,
   "metadata": {},
   "outputs": [],
   "source": [
    "def add_mentions(tpl):\n",
    "    event_id, (event_record, number_of_mentions) = tpl\n",
    "    event_record[\"NumberOfMentions\"] = number_of_mentions\n",
    "    return event_record"
   ]
  },
  {
   "cell_type": "code",
   "execution_count": 27,
   "metadata": {},
   "outputs": [],
   "source": [
    "event_mentions_rdd = joined_rdd.map(add_mentions)"
   ]
  },
  {
   "cell_type": "code",
   "execution_count": 28,
   "metadata": {},
   "outputs": [],
   "source": [
    "def stringify_record(record):\n",
    "    record[\"DateAdded\"] = record[\"DateAdded\"].strftime(\"%Y%m%d:%H%M%S\")\n",
    "    return json.dumps(record)"
   ]
  },
  {
   "cell_type": "code",
   "execution_count": null,
   "metadata": {},
   "outputs": [],
   "source": [
    "event_mentions_rdd.map(stringify_record).saveAsTextFile(\"/home/ubuntu/data/project/gdelt/sample/output/\")"
   ]
  },
  {
   "cell_type": "code",
   "execution_count": 29,
   "metadata": {},
   "outputs": [],
   "source": [
    "fips2iso_file = \"/home/ubuntu/data/project/gdelt/fips2iso_country_codes.tsv\"\n",
    "with open(fips2iso_file,\"r\") as fin:\n",
    "    fips2iso = dict()\n",
    "    for line in fin:\n",
    "        _, fips_code, iso_code = line.strip().split(\"\\t\")\n",
    "        fips2iso[fips_code] = iso_code"
   ]
  },
  {
   "cell_type": "code",
   "execution_count": 31,
   "metadata": {},
   "outputs": [],
   "source": [
    "broadcast_fips2iso = sc.broadcast(fips2iso)"
   ]
  },
  {
   "cell_type": "code",
   "execution_count": 32,
   "metadata": {},
   "outputs": [],
   "source": [
    "def convert_fips2iso(record):\n",
    "    record[\"Actor1Geo_CountryCode\"] = broadcast_fips2iso.value.get(record[\"Actor1Geo_CountryCode\"],\n",
    "                                                                   record[\"Actor1Geo_CountryCode\"])\n",
    "    return record"
   ]
  },
  {
   "cell_type": "code",
   "execution_count": 34,
   "metadata": {},
   "outputs": [],
   "source": [
    "event_mentions_iso_rdd = event_mentions_rdd.map(convert_fips2iso)"
   ]
  },
  {
   "cell_type": "code",
   "execution_count": 35,
   "metadata": {},
   "outputs": [
    {
     "data": {
      "text/plain": [
       "[{'GlobalEventId': '915090594',\n",
       "  'Actor1Geo_CountryCode': 'NG',\n",
       "  'url': 'https://news2.onlinenigeria.com/news/general/822000-president-buhari-s-43-ministers-donate-50-of-march-salary-to-fight-coronavirus.html',\n",
       "  'lat': 6.45306,\n",
       "  'long': 3.39583,\n",
       "  'DateAdded': datetime.datetime(2020, 3, 28, 13, 45),\n",
       "  'NumberOfMentions': 1}]"
      ]
     },
     "execution_count": 35,
     "metadata": {},
     "output_type": "execute_result"
    }
   ],
   "source": [
    "event_mentions_iso_rdd.take(1)"
   ]
  },
  {
   "cell_type": "code",
   "execution_count": 40,
   "metadata": {},
   "outputs": [],
   "source": [
    "import mysql.connector\n",
    "\n",
    "def connection_factory(user, password, host, database):\n",
    "    cnx = mysql.connector.connect(\n",
    "                    user=user, \n",
    "                    password=password,\n",
    "                    host=host,\n",
    "                    database=database\n",
    "    )\n",
    "    cursor = cnx.cursor()\n",
    "    return cnx, cursor\n",
    "\n",
    "connection_factory = partial(connection_factory, \n",
    "                             user=\"root\", \n",
    "                             password=\"testtest\", \n",
    "                             host=\"localhost\",\n",
    "                             database=\"Corona\"\n",
    "                    )"
   ]
  },
  {
   "cell_type": "code",
   "execution_count": 49,
   "metadata": {},
   "outputs": [],
   "source": [
    "def store_records(records, connection_factory):\n",
    "    cnx, cursor = connection_factory()\n",
    "    \n",
    "    insert_statement_str = \"insert into GeoEventMentions (GlobalEventId,DateAdded,CountryCode,Latitude,Longitude,NumberOfMentions) VALUES (%s, %s, %s, %s, %s, %s);\"\n",
    "    \n",
    "    record_list = list()\n",
    "    for record in records:\n",
    "        record_list.append((\n",
    "            record[\"GlobalEventId\"],\n",
    "            record[\"DateAdded\"],\n",
    "            record[\"Actor1Geo_CountryCode\"],\n",
    "            record[\"lat\"],\n",
    "            record[\"long\"],\n",
    "            record[\"NumberOfMentions\"]\n",
    "        ))\n",
    "        \n",
    "    cursor.executemany(insert_statement_str, record_list)\n",
    "    \n",
    "    cnx.commit()\n",
    "    cnx.close()"
   ]
  },
  {
   "cell_type": "code",
   "execution_count": 50,
   "metadata": {},
   "outputs": [],
   "source": [
    "event_mentions_iso_rdd.foreachPartition(partial(store_records, connection_factory=connection_factory))"
   ]
  },
  {
   "cell_type": "code",
   "execution_count": null,
   "metadata": {},
   "outputs": [],
   "source": []
  }
 ],
 "metadata": {
  "kernelspec": {
   "display_name": "Python 3",
   "language": "python",
   "name": "python3"
  },
  "language_info": {
   "codemirror_mode": {
    "name": "ipython",
    "version": 3
   },
   "file_extension": ".py",
   "mimetype": "text/x-python",
   "name": "python",
   "nbconvert_exporter": "python",
   "pygments_lexer": "ipython3",
   "version": "3.7.3"
  }
 },
 "nbformat": 4,
 "nbformat_minor": 2
}
