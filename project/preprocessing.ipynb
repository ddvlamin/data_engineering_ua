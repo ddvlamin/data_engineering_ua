{
 "cells": [
  {
   "cell_type": "code",
   "execution_count": 1,
   "metadata": {},
   "outputs": [],
   "source": [
    "import os\n",
    "from functools import partial\n",
    "from datetime import datetime\n",
    "import re\n",
    "\n",
    "from pyspark import SparkContext"
   ]
  },
  {
   "cell_type": "code",
   "execution_count": 2,
   "metadata": {},
   "outputs": [
    {
     "name": "stdout",
     "output_type": "stream",
     "text": [
      "2020-03-26 19:00:00\n"
     ]
    }
   ],
   "source": [
    "index2events_column = {\n",
    "  0: \"GlobalEventId\",\n",
    "  37: \"Actor1Geo_CountryCode\",\n",
    "  60: \"url\",\n",
    "  40: \"lat\",\n",
    "  41: \"long\",\n",
    "  59: \"DateAdded\"\n",
    "}\n",
    "\n",
    "index2mentions_column = {\n",
    "  0: \"GlobalEventId\",\n",
    "  3: \"MentionType\",\n",
    "  5: \"MentionIdentifier\",\n",
    "  1: \"EventTimeDate\",\n",
    "  2: \"MentionTimeDate\"\n",
    "}\n",
    "\n",
    "def convert_to_datetime(datetime_str):\n",
    "    return datetime.strptime(datetime_str, \"%Y%m%d%H%M%S\")\n",
    "\n",
    "print(convert_to_datetime(\"20200326190000\"))\n",
    "\n",
    "type_converters = {\n",
    "    \"EventTimeDate\":convert_to_datetime,\n",
    "    \"MentionTimeDate\":convert_to_datetime,\n",
    "    \"DateAdded\": convert_to_datetime\n",
    "}"
   ]
  },
  {
   "cell_type": "code",
   "execution_count": 3,
   "metadata": {},
   "outputs": [],
   "source": [
    "sc = SparkContext()"
   ]
  },
  {
   "cell_type": "code",
   "execution_count": 4,
   "metadata": {},
   "outputs": [],
   "source": [
    "basepath = \"/home/ubuntu/data/project/gdelt\"\n",
    "mentions_path_english = os.path.join(basepath,\"english/mentions/\")\n",
    "mentions_path_multi = os.path.join(basepath,\"multilingual/mentions/\")\n",
    "events_path_english = os.path.join(basepath,\"english/events/\")\n",
    "events_path_multi = os.path.join(basepath,\"multilingual/events/\")\n",
    "\n"
   ]
  },
  {
   "cell_type": "code",
   "execution_count": 5,
   "metadata": {},
   "outputs": [
    {
     "name": "stdout",
     "output_type": "stream",
     "text": [
      "/home/ubuntu/data/project/gdelt/english/mentions/\n"
     ]
    }
   ],
   "source": [
    "print(mentions_path_english)"
   ]
  },
  {
   "cell_type": "code",
   "execution_count": 6,
   "metadata": {},
   "outputs": [],
   "source": [
    "mentions_english_rdd = sc.textFile(mentions_path_english)\n",
    "mentions_multi_rdd = sc.textFile(mentions_path_multi)\n",
    "mentions_rdd = mentions_english_rdd.union(mentions_multi_rdd)"
   ]
  },
  {
   "cell_type": "code",
   "execution_count": 7,
   "metadata": {},
   "outputs": [
    {
     "name": "stdout",
     "output_type": "stream",
     "text": [
      "833805545\t20190327000000\t20200326163000\t1\tabqjournal.com\thttps://www.abqjournal.com/1436770/3-teenage-boys-arrested-in-death-of-tucson-man-last-october.html\t2\t-1\t100\t78\t1\t50\t919\t-10.5263157894737\t\t\n",
      "833907628\t20190327090000\t20200326163000\t1\tstuff.co.nz\thttps://www.stuff.co.nz/national/health/coronavirus/120591047/coronavirus-government-needs-to-get-its-bubble-selfisolated\t1\t206\t-1\t324\t0\t20\t3914\t-3.53606789250354\t\t\n",
      "914608602\t20200326031500\t20200326163000\t1\ttaipeitimes.com\thttps://www.taipeitimes.com/News/front/archives/2020/03/27/2003733457\t1\t139\t193\t170\t1\t100\t3498\t-8.91938250428813\t\t\n",
      "914724943\t20200326163000\t20200326163000\t1\ttaipeitimes.com\thttps://www.taipeitimes.com/News/front/archives/2020/03/27/2003733457\t1\t139\t192\t182\t0\t20\t3498\t-8.91938250428813\t\t\n",
      "914608603\t20200326031500\t20200326163000\t1\ttaipeitimes.com\thttps://www.taipeitimes.com/News/front/archives/2020/03/27/2003733457\t1\t139\t193\t183\t1\t80\t3498\t-8.91938250428813\t\t\n",
      "914724944\t20200326163000\t20200326163000\t1\ttaipeitimes.com\thttps://www.taipeitimes.com/News/front/archives/2020/03/27/2003733457\t1\t139\t244\t228\t0\t20\t3498\t-8.91938250428813\t\t\n",
      "914724945\t20200326163000\t20200326163000\t1\ttaipeitimes.com\thttps://www.taipeitimes.com/News/front/archives/2020/03/27/2003733457\t1\t139\t245\t229\t1\t80\t3498\t-8.91938250428813\t\t\n",
      "914724946\t20200326163000\t20200326163000\t1\tgeekwire.com\thttps://www.geekwire.com/2020/two-seattle-startups-helping-doctors-uncover-hidden-trends-covid-19-cases/\t9\t2880\t-1\t2906\t1\t60\t5783\t-0.44642857142857\t\t\n",
      "834036503\t20190327183000\t20200326163000\t1\tgeekwire.com\thttps://www.geekwire.com/2020/two-seattle-startups-helping-doctors-uncover-hidden-trends-covid-19-cases/\t9\t2880\t-1\t2906\t0\t40\t5783\t-0.44642857142857\t\t\n",
      "833811667\t20190327001500\t20200326163000\t1\tmiltonkeynes.co.uk\thttps://www.miltonkeynes.co.uk/health/coronavirus/urgent-appeal-donations-new-food-bank-xtra-service-launched-today-milton-keynes-2519210\t2\t348\t-1\t328\t1\t100\t5126\t0\t\t\n"
     ]
    }
   ],
   "source": [
    "for line in mentions_rdd.take(10):\n",
    "    print(line)"
   ]
  },
  {
   "cell_type": "code",
   "execution_count": 8,
   "metadata": {},
   "outputs": [],
   "source": [
    "mentions_rdd = mentions_rdd.map(lambda line: line.split(\"\\t\"))"
   ]
  },
  {
   "cell_type": "code",
   "execution_count": 9,
   "metadata": {},
   "outputs": [
    {
     "name": "stdout",
     "output_type": "stream",
     "text": [
      "['833805545', '20190327000000', '20200326163000', '1', 'abqjournal.com', 'https://www.abqjournal.com/1436770/3-teenage-boys-arrested-in-death-of-tucson-man-last-october.html', '2', '-1', '100', '78', '1', '50', '919', '-10.5263157894737', '', '']\n"
     ]
    }
   ],
   "source": [
    "print(mentions_rdd.take(1)[0])"
   ]
  },
  {
   "cell_type": "code",
   "execution_count": 10,
   "metadata": {},
   "outputs": [],
   "source": [
    "def transform_to_json(record, index2colname):\n",
    "    return {colname: record[index] for index, colname in index2colname.items() }\n",
    "\n",
    "mentions_json_rdd = mentions_rdd.map(partial(transform_to_json,index2colname=index2mentions_column))"
   ]
  },
  {
   "cell_type": "code",
   "execution_count": 11,
   "metadata": {},
   "outputs": [
    {
     "data": {
      "text/plain": [
       "[{'GlobalEventId': '833805545',\n",
       "  'MentionType': '1',\n",
       "  'MentionIdentifier': 'https://www.abqjournal.com/1436770/3-teenage-boys-arrested-in-death-of-tucson-man-last-october.html',\n",
       "  'EventTimeDate': '20190327000000',\n",
       "  'MentionTimeDate': '20200326163000'}]"
      ]
     },
     "execution_count": 11,
     "metadata": {},
     "output_type": "execute_result"
    }
   ],
   "source": [
    "mentions_json_rdd.take(1)"
   ]
  },
  {
   "cell_type": "code",
   "execution_count": 12,
   "metadata": {},
   "outputs": [],
   "source": [
    "def convert_values(record):\n",
    "    for key, value in record.items():\n",
    "        try:\n",
    "            record[key] = type_converters[key](value)\n",
    "        except KeyError:\n",
    "            continue\n",
    "    return record"
   ]
  },
  {
   "cell_type": "code",
   "execution_count": 13,
   "metadata": {},
   "outputs": [],
   "source": [
    "mentions_converted_rdd = mentions_json_rdd.filter(lambda record: record!=None).map(convert_values)"
   ]
  },
  {
   "cell_type": "code",
   "execution_count": 14,
   "metadata": {},
   "outputs": [
    {
     "data": {
      "text/plain": [
       "[{'GlobalEventId': '833805545',\n",
       "  'MentionType': '1',\n",
       "  'MentionIdentifier': 'https://www.abqjournal.com/1436770/3-teenage-boys-arrested-in-death-of-tucson-man-last-october.html',\n",
       "  'EventTimeDate': datetime.datetime(2019, 3, 27, 0, 0),\n",
       "  'MentionTimeDate': datetime.datetime(2020, 3, 26, 16, 30)}]"
      ]
     },
     "execution_count": 14,
     "metadata": {},
     "output_type": "execute_result"
    }
   ],
   "source": [
    "mentions_converted_rdd.take(1)"
   ]
  },
  {
   "cell_type": "code",
   "execution_count": 15,
   "metadata": {},
   "outputs": [],
   "source": [
    "mentions_web_rdd = mentions_converted_rdd.filter(lambda record: record[\"MentionType\"]==\"1\")"
   ]
  },
  {
   "cell_type": "code",
   "execution_count": 16,
   "metadata": {},
   "outputs": [
    {
     "name": "stdout",
     "output_type": "stream",
     "text": [
      "[{'GlobalEventId': '833805545', 'MentionType': '1', 'MentionIdentifier': 'https://www.abqjournal.com/1436770/3-teenage-boys-arrested-in-death-of-tucson-man-last-october.html', 'EventTimeDate': datetime.datetime(2019, 3, 27, 0, 0), 'MentionTimeDate': datetime.datetime(2020, 3, 26, 16, 30)}]\n"
     ]
    }
   ],
   "source": [
    "print(mentions_web_rdd.take(1))"
   ]
  },
  {
   "cell_type": "code",
   "execution_count": 17,
   "metadata": {},
   "outputs": [],
   "source": [
    "event_mentions_count_rdd = (mentions_web_rdd\n",
    "                            .map(lambda record: (record[\"GlobalEventId\"],1))\n",
    "                            .reduceByKey(lambda x, y: x+y)\n",
    "                           )"
   ]
  },
  {
   "cell_type": "code",
   "execution_count": 18,
   "metadata": {},
   "outputs": [
    {
     "data": {
      "text/plain": [
       "[('834036503', 1),\n",
       " ('914724951', 1),\n",
       " ('913233243', 7),\n",
       " ('913247109', 1),\n",
       " ('914722400', 3),\n",
       " ('914682360', 46),\n",
       " ('914725017', 1),\n",
       " ('914715839', 2),\n",
       " ('914708327', 12),\n",
       " ('914675894', 12)]"
      ]
     },
     "execution_count": 18,
     "metadata": {},
     "output_type": "execute_result"
    }
   ],
   "source": [
    "event_mentions_count_rdd.take(10)"
   ]
  },
  {
   "cell_type": "code",
   "execution_count": 19,
   "metadata": {},
   "outputs": [],
   "source": [
    "events_english_rdd = sc.textFile(events_path_english)\n",
    "events_multi_rdd = sc.textFile(events_path_multi)\n",
    "events_rdd = events_english_rdd.union(events_multi_rdd)"
   ]
  },
  {
   "cell_type": "code",
   "execution_count": 20,
   "metadata": {},
   "outputs": [],
   "source": [
    "events_rdd = events_rdd.map(lambda line: line.split(\"\\t\"))"
   ]
  },
  {
   "cell_type": "code",
   "execution_count": 21,
   "metadata": {},
   "outputs": [],
   "source": [
    "events_json_rdd = events_rdd.map(partial(transform_to_json,index2colname=index2events_column))"
   ]
  },
  {
   "cell_type": "code",
   "execution_count": 22,
   "metadata": {},
   "outputs": [
    {
     "name": "stdout",
     "output_type": "stream",
     "text": [
      "[{'GlobalEventId': '914761007', 'Actor1Geo_CountryCode': 'US', 'url': 'https://www.aboutlawsuits.com/firefighter-foam-kidney-cancer-lawsuit-2-169746/', 'lat': '33.8191', 'long': '-80.9066', 'DateAdded': '20200326200000'}]\n"
     ]
    }
   ],
   "source": [
    "print(events_json_rdd.take(1))"
   ]
  },
  {
   "cell_type": "code",
   "execution_count": 23,
   "metadata": {},
   "outputs": [],
   "source": [
    "corona_regex = re.compile(\"(?=.*virus)(?=.*corona)|[Cc][Oo][Vv][Ii][Dd]-?19\")"
   ]
  },
  {
   "cell_type": "code",
   "execution_count": 24,
   "metadata": {},
   "outputs": [],
   "source": [
    "events_corona_rdd = events_json_rdd.filter(lambda record: corona_regex.search(record[\"url\"])!=None)"
   ]
  },
  {
   "cell_type": "code",
   "execution_count": 25,
   "metadata": {},
   "outputs": [],
   "source": [
    "events_geo_rdd = (events_corona_rdd\n",
    "                  .map(lambda record: (record[\"GlobalEventId\"],(record[\"lat\"],record[\"long\"])))\n",
    "                  .filter(lambda tpl: tpl[1]!=('','')))"
   ]
  },
  {
   "cell_type": "code",
   "execution_count": 26,
   "metadata": {},
   "outputs": [
    {
     "data": {
      "text/plain": [
       "[('914761024', ('26.6503', '-80.4498'))]"
      ]
     },
     "execution_count": 26,
     "metadata": {},
     "output_type": "execute_result"
    }
   ],
   "source": [
    "events_geo_rdd.take(1)"
   ]
  },
  {
   "cell_type": "code",
   "execution_count": 27,
   "metadata": {},
   "outputs": [],
   "source": [
    "joined_rdd = events_geo_rdd.leftOuterJoin(event_mentions_count_rdd)"
   ]
  },
  {
   "cell_type": "code",
   "execution_count": 28,
   "metadata": {},
   "outputs": [
    {
     "data": {
      "text/plain": [
       "[('914761316', (('53.3331', '-6.24889'), 1)),\n",
       " ('914761395', (('30.5833', '114.267'), 1))]"
      ]
     },
     "execution_count": 28,
     "metadata": {},
     "output_type": "execute_result"
    }
   ],
   "source": [
    "joined_rdd.take(2)"
   ]
  },
  {
   "cell_type": "code",
   "execution_count": 29,
   "metadata": {},
   "outputs": [],
   "source": [
    "import mysql.connector"
   ]
  },
  {
   "cell_type": "code",
   "execution_count": null,
   "metadata": {},
   "outputs": [],
   "source": []
  },
  {
   "cell_type": "code",
   "execution_count": 33,
   "metadata": {},
   "outputs": [],
   "source": [
    "def create_mysql_cursor(user, password, database):\n",
    "    cnx = mysql.connector.connect(user=user, password=password, database=database)\n",
    "    cursor = cnx.cursor()\n",
    "    return cursor\n",
    "\n",
    "mysql_cursor = partial(create_mysql_cursor, user=\"root\", password=\"testtest\",database=\"Corona\")"
   ]
  },
  {
   "cell_type": "code",
   "execution_count": 38,
   "metadata": {},
   "outputs": [],
   "source": [
    "def store_partition(partition_iterator, connection_factory):\n",
    "    user = \"root\"\n",
    "    password = \"testtest\"\n",
    "    database = \"Corona\"\n",
    "    cnx = mysql.connector.connect(user=user, password=password, database=database)\n",
    "    cursor = cnx.cursor()\n",
    "    #cursor = connection_factory()\n",
    "    \n",
    "    records = [(event_id, float(lat), float(long), count) for event_id, ((lat, long), count) in partition_iterator]\n",
    "    \n",
    "    add_event = (\"INSERT INTO GeoEvents \"\n",
    "               \"(EventId, Latitude, Longitude, MentionCount) \"\n",
    "               \"VALUES (%s, %s, %s, %s)\")\n",
    "    \n",
    "    cursor.executemany(add_event, records)\n",
    "    \n",
    "    cnx.commit()\n",
    "    cnx.close()\n",
    "\n",
    "joined_rdd.foreachPartition(partial(store_partition, connection_factory=mysql_cursor))"
   ]
  },
  {
   "cell_type": "code",
   "execution_count": null,
   "metadata": {},
   "outputs": [],
   "source": []
  }
 ],
 "metadata": {
  "kernelspec": {
   "display_name": "Python 3",
   "language": "python",
   "name": "python3"
  },
  "language_info": {
   "codemirror_mode": {
    "name": "ipython",
    "version": 3
   },
   "file_extension": ".py",
   "mimetype": "text/x-python",
   "name": "python",
   "nbconvert_exporter": "python",
   "pygments_lexer": "ipython3",
   "version": "3.7.3"
  }
 },
 "nbformat": 4,
 "nbformat_minor": 2
}
