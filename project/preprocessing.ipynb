{
 "cells": [
  {
   "cell_type": "code",
   "execution_count": 1,
   "metadata": {},
   "outputs": [],
   "source": [
    "import os\n",
    "from functools import partial\n",
    "from datetime import datetime\n",
    "import re\n",
    "\n",
    "from pyspark import SparkContext"
   ]
  },
  {
   "cell_type": "code",
   "execution_count": 2,
   "metadata": {},
   "outputs": [
    {
     "name": "stdout",
     "output_type": "stream",
     "text": [
      "2020-03-26 19:00:00\n"
     ]
    }
   ],
   "source": [
    "index2events_column = {\n",
    "  0: \"GlobalEventId\",\n",
    "  37: \"Actor1Geo_CountryCode\",\n",
    "  60: \"url\",\n",
    "  40: \"lat\",\n",
    "  41: \"long\",\n",
    "  59: \"DateAdded\"\n",
    "}\n",
    "\n",
    "index2mentions_column = {\n",
    "  0: \"GlobalEventId\",\n",
    "  3: \"MentionType\",\n",
    "  5: \"MentionIdentifier\",\n",
    "  1: \"EventTimeDate\",\n",
    "  2: \"MentionTimeDate\"\n",
    "}\n",
    "\n",
    "def convert_to_datetime(datetime_str):\n",
    "    return datetime.strptime(datetime_str, \"%Y%m%d%H%M%S\")\n",
    "\n",
    "print(convert_to_datetime(\"20200326190000\"))\n",
    "\n",
    "type_converters = {\n",
    "    \"EventTimeDate\":convert_to_datetime,\n",
    "    \"MentionTimeDate\":convert_to_datetime,\n",
    "    \"DateAdded\": convert_to_datetime\n",
    "}"
   ]
  },
  {
   "cell_type": "code",
   "execution_count": 3,
   "metadata": {},
   "outputs": [],
   "source": [
    "sc = SparkContext()"
   ]
  },
  {
   "cell_type": "code",
   "execution_count": 4,
   "metadata": {},
   "outputs": [],
   "source": [
    "basepath = \"/home/ubuntu/data/project/gdelt\"\n",
    "mentions_path_english = os.path.join(basepath,\"english/mentions/\")\n",
    "mentions_path_multi = os.path.join(basepath,\"multilingual/mentions/\")\n",
    "events_path_english = os.path.join(basepath,\"english/events/\")\n",
    "events_path_multi = os.path.join(basepath,\"multilingual/events/\")\n",
    "\n"
   ]
  },
  {
   "cell_type": "code",
   "execution_count": 5,
   "metadata": {},
   "outputs": [
    {
     "name": "stdout",
     "output_type": "stream",
     "text": [
      "/home/ubuntu/data/project/gdelt/english/mentions/\n"
     ]
    }
   ],
   "source": [
    "print(mentions_path_english)"
   ]
  },
  {
   "cell_type": "code",
   "execution_count": 6,
   "metadata": {},
   "outputs": [],
   "source": [
    "mentions_english_rdd = sc.textFile(mentions_path_english)\n",
    "mentions_multi_rdd = sc.textFile(mentions_path_multi)\n",
    "mentions_rdd = mentions_english_rdd.union(mentions_multi_rdd)"
   ]
  },
  {
   "cell_type": "code",
   "execution_count": 7,
   "metadata": {},
   "outputs": [
    {
     "name": "stdout",
     "output_type": "stream",
     "text": [
      "914887164\t20200327113000\t20200327140000\t1\tbrownsvilleherald.com\thttps://www.brownsvilleherald.com/news/us_world/political-turmoil-in-kabul-dogs-negotiations-with-taliban/article_48bc7cd9-f4e3-5c34-979b-16f8e4e0cec4.html\t7\t-1\t1240\t1232\t1\t30\t3138\t-5.94059405940594\t\t\n",
      "914887164\t20200327113000\t20200327140000\t1\t570news.com\thttps://www.570news.com/2020/03/27/political-turmoil-in-kabul-dogs-negotiations-with-taliban/\t7\t-1\t1223\t1215\t1\t30\t3147\t-5.71992110453649\t\t\n",
      "914887168\t20200327113000\t20200327140000\t1\tbrownsvilleherald.com\thttps://www.brownsvilleherald.com/news/us_world/political-turmoil-in-kabul-dogs-negotiations-with-taliban/article_48bc7cd9-f4e3-5c34-979b-16f8e4e0cec4.html\t7\t1206\t1235\t1227\t0\t20\t3138\t-5.94059405940594\t\t\n",
      "914887168\t20200327113000\t20200327140000\t1\t570news.com\thttps://www.570news.com/2020/03/27/political-turmoil-in-kabul-dogs-negotiations-with-taliban/\t7\t1189\t1218\t1210\t0\t20\t3147\t-5.71992110453649\t\t\n",
      "914887169\t20200327113000\t20200327140000\t1\tbrownsvilleherald.com\thttps://www.brownsvilleherald.com/news/us_world/political-turmoil-in-kabul-dogs-negotiations-with-taliban/article_48bc7cd9-f4e3-5c34-979b-16f8e4e0cec4.html\t7\t1240\t-1\t1232\t1\t30\t3138\t-5.94059405940594\t\t\n",
      "914887169\t20200327113000\t20200327140000\t1\t570news.com\thttps://www.570news.com/2020/03/27/political-turmoil-in-kabul-dogs-negotiations-with-taliban/\t7\t1223\t-1\t1215\t1\t30\t3147\t-5.71992110453649\t\t\n",
      "914887170\t20200327113000\t20200327140000\t1\tbrownsvilleherald.com\thttps://www.brownsvilleherald.com/news/us_world/political-turmoil-in-kabul-dogs-negotiations-with-taliban/article_48bc7cd9-f4e3-5c34-979b-16f8e4e0cec4.html\t7\t1235\t1206\t1227\t0\t20\t3138\t-5.94059405940594\t\t\n",
      "914887170\t20200327113000\t20200327140000\t1\t570news.com\thttps://www.570news.com/2020/03/27/political-turmoil-in-kabul-dogs-negotiations-with-taliban/\t7\t1218\t1189\t1210\t0\t20\t3147\t-5.71992110453649\t\t\n",
      "914911533\t20200327140000\t20200327140000\t1\tsmh.com.au\thttps://www.smh.com.au/politics/federal/australia-a-nation-snap-frozen-by-the-coronavirus-pandemic-20200327-p54eip.html\t10\t6688\t6769\t6826\t0\t10\t8483\t-1.69491525423729\t\t\n",
      "914911533\t20200327140000\t20200327140000\t1\tbrisbanetimes.com.au\thttps://www.brisbanetimes.com.au/politics/federal/australia-a-nation-snap-frozen-by-the-coronavirus-pandemic-20200327-p54eip.html\t10\t6688\t6769\t6826\t0\t10\t8483\t-1.69491525423729\t\t\n"
     ]
    }
   ],
   "source": [
    "for line in mentions_rdd.take(10):\n",
    "    print(line)"
   ]
  },
  {
   "cell_type": "code",
   "execution_count": 8,
   "metadata": {},
   "outputs": [],
   "source": [
    "mentions_rdd = mentions_rdd.map(lambda line: line.split(\"\\t\"))"
   ]
  },
  {
   "cell_type": "code",
   "execution_count": 9,
   "metadata": {},
   "outputs": [
    {
     "name": "stdout",
     "output_type": "stream",
     "text": [
      "['914887164', '20200327113000', '20200327140000', '1', 'brownsvilleherald.com', 'https://www.brownsvilleherald.com/news/us_world/political-turmoil-in-kabul-dogs-negotiations-with-taliban/article_48bc7cd9-f4e3-5c34-979b-16f8e4e0cec4.html', '7', '-1', '1240', '1232', '1', '30', '3138', '-5.94059405940594', '', '']\n"
     ]
    }
   ],
   "source": [
    "print(mentions_rdd.take(1)[0])"
   ]
  },
  {
   "cell_type": "code",
   "execution_count": 10,
   "metadata": {},
   "outputs": [],
   "source": [
    "def transform_to_json(record, index2colname):\n",
    "    return {colname: record[index] for index, colname in index2colname.items() }\n",
    "\n",
    "mentions_json_rdd = mentions_rdd.map(partial(transform_to_json,index2colname=index2mentions_column))"
   ]
  },
  {
   "cell_type": "code",
   "execution_count": 11,
   "metadata": {},
   "outputs": [
    {
     "data": {
      "text/plain": [
       "[{'GlobalEventId': '914887164',\n",
       "  'MentionType': '1',\n",
       "  'MentionIdentifier': 'https://www.brownsvilleherald.com/news/us_world/political-turmoil-in-kabul-dogs-negotiations-with-taliban/article_48bc7cd9-f4e3-5c34-979b-16f8e4e0cec4.html',\n",
       "  'EventTimeDate': '20200327113000',\n",
       "  'MentionTimeDate': '20200327140000'}]"
      ]
     },
     "execution_count": 11,
     "metadata": {},
     "output_type": "execute_result"
    }
   ],
   "source": [
    "mentions_json_rdd.take(1)"
   ]
  },
  {
   "cell_type": "code",
   "execution_count": 12,
   "metadata": {},
   "outputs": [],
   "source": [
    "def convert_values(record):\n",
    "    for key, value in record.items():\n",
    "        try:\n",
    "            record[key] = type_converters[key](value)\n",
    "        except KeyError:\n",
    "            continue\n",
    "    return record"
   ]
  },
  {
   "cell_type": "code",
   "execution_count": 13,
   "metadata": {},
   "outputs": [],
   "source": [
    "mentions_converted_rdd = mentions_json_rdd.filter(lambda record: record!=None).map(convert_values)"
   ]
  },
  {
   "cell_type": "code",
   "execution_count": 14,
   "metadata": {},
   "outputs": [
    {
     "data": {
      "text/plain": [
       "[{'GlobalEventId': '914887164',\n",
       "  'MentionType': '1',\n",
       "  'MentionIdentifier': 'https://www.brownsvilleherald.com/news/us_world/political-turmoil-in-kabul-dogs-negotiations-with-taliban/article_48bc7cd9-f4e3-5c34-979b-16f8e4e0cec4.html',\n",
       "  'EventTimeDate': datetime.datetime(2020, 3, 27, 11, 30),\n",
       "  'MentionTimeDate': datetime.datetime(2020, 3, 27, 14, 0)}]"
      ]
     },
     "execution_count": 14,
     "metadata": {},
     "output_type": "execute_result"
    }
   ],
   "source": [
    "mentions_converted_rdd.take(1)"
   ]
  },
  {
   "cell_type": "code",
   "execution_count": 15,
   "metadata": {},
   "outputs": [],
   "source": [
    "mentions_web_rdd = mentions_converted_rdd.filter(lambda record: record[\"MentionType\"]==\"1\")"
   ]
  },
  {
   "cell_type": "code",
   "execution_count": 16,
   "metadata": {},
   "outputs": [
    {
     "name": "stdout",
     "output_type": "stream",
     "text": [
      "[{'GlobalEventId': '914887164', 'MentionType': '1', 'MentionIdentifier': 'https://www.brownsvilleherald.com/news/us_world/political-turmoil-in-kabul-dogs-negotiations-with-taliban/article_48bc7cd9-f4e3-5c34-979b-16f8e4e0cec4.html', 'EventTimeDate': datetime.datetime(2020, 3, 27, 11, 30), 'MentionTimeDate': datetime.datetime(2020, 3, 27, 14, 0)}]\n"
     ]
    }
   ],
   "source": [
    "print(mentions_web_rdd.take(1))"
   ]
  },
  {
   "cell_type": "code",
   "execution_count": 17,
   "metadata": {},
   "outputs": [],
   "source": [
    "event_mentions_count_rdd = (mentions_web_rdd\n",
    "                            .map(lambda record: (record[\"GlobalEventId\"],1))\n",
    "                            .reduceByKey(lambda x, y: x+y)\n",
    "                           )"
   ]
  },
  {
   "cell_type": "code",
   "execution_count": 18,
   "metadata": {},
   "outputs": [
    {
     "data": {
      "text/plain": [
       "[('914911553', 1),\n",
       " ('914798373', 48),\n",
       " ('914911657', 1),\n",
       " ('914795977', 110),\n",
       " ('914802390', 5),\n",
       " ('914911951', 1),\n",
       " ('914817118', 1),\n",
       " ('914795291', 23),\n",
       " ('914814306', 2),\n",
       " ('914912463', 1)]"
      ]
     },
     "execution_count": 18,
     "metadata": {},
     "output_type": "execute_result"
    }
   ],
   "source": [
    "event_mentions_count_rdd.take(10)"
   ]
  },
  {
   "cell_type": "code",
   "execution_count": 19,
   "metadata": {},
   "outputs": [],
   "source": [
    "events_english_rdd = sc.textFile(events_path_english)\n",
    "events_multi_rdd = sc.textFile(events_path_multi)\n",
    "events_rdd = events_english_rdd.union(events_multi_rdd)"
   ]
  },
  {
   "cell_type": "code",
   "execution_count": 20,
   "metadata": {},
   "outputs": [],
   "source": [
    "events_rdd = events_rdd.map(lambda line: line.split(\"\\t\"))"
   ]
  },
  {
   "cell_type": "code",
   "execution_count": 21,
   "metadata": {},
   "outputs": [],
   "source": [
    "events_json_rdd = events_rdd.map(partial(transform_to_json,index2colname=index2events_column))"
   ]
  },
  {
   "cell_type": "code",
   "execution_count": 22,
   "metadata": {},
   "outputs": [
    {
     "name": "stdout",
     "output_type": "stream",
     "text": [
      "[{'GlobalEventId': '914971029', 'Actor1Geo_CountryCode': '', 'url': 'https://www.slashgear.com/gm-ventilator-plans-revealed-as-trump-backtracks-on-coronavirus-kit-27614681/', 'lat': '', 'long': '', 'DateAdded': '20200327200000'}]\n"
     ]
    }
   ],
   "source": [
    "print(events_json_rdd.take(1))"
   ]
  },
  {
   "cell_type": "code",
   "execution_count": 23,
   "metadata": {},
   "outputs": [],
   "source": [
    "corona_regex = re.compile(\"(?=.*virus)(?=.*corona)|[Cc][Oo][Vv][Ii][Dd]-?19\")"
   ]
  },
  {
   "cell_type": "code",
   "execution_count": 24,
   "metadata": {},
   "outputs": [],
   "source": [
    "events_corona_rdd = events_json_rdd.filter(lambda record: corona_regex.search(record[\"url\"])!=None)"
   ]
  },
  {
   "cell_type": "code",
   "execution_count": 25,
   "metadata": {},
   "outputs": [],
   "source": [
    "events_geo_rdd = (events_corona_rdd\n",
    "                  .map(lambda record: (record[\"GlobalEventId\"],(record[\"lat\"],record[\"long\"])))\n",
    "                  .filter(lambda tpl: tpl[1]!=('','')))"
   ]
  },
  {
   "cell_type": "code",
   "execution_count": 26,
   "metadata": {},
   "outputs": [
    {
     "data": {
      "text/plain": [
       "[('914971030', ('-17.8178', '31.0447'))]"
      ]
     },
     "execution_count": 26,
     "metadata": {},
     "output_type": "execute_result"
    }
   ],
   "source": [
    "events_geo_rdd.take(1)"
   ]
  },
  {
   "cell_type": "code",
   "execution_count": 27,
   "metadata": {},
   "outputs": [],
   "source": [
    "joined_rdd = events_geo_rdd.leftOuterJoin(event_mentions_count_rdd)"
   ]
  },
  {
   "cell_type": "code",
   "execution_count": 28,
   "metadata": {},
   "outputs": [
    {
     "data": {
      "text/plain": [
       "[('914971994', (('30.1669', '-84.3332'), 1)),\n",
       " ('914972519', (('42.1497', '-74.9384'), 1))]"
      ]
     },
     "execution_count": 28,
     "metadata": {},
     "output_type": "execute_result"
    }
   ],
   "source": [
    "joined_rdd.take(2)"
   ]
  },
  {
   "cell_type": "code",
   "execution_count": 29,
   "metadata": {},
   "outputs": [],
   "source": [
    "import mysql.connector"
   ]
  },
  {
   "cell_type": "code",
   "execution_count": null,
   "metadata": {},
   "outputs": [],
   "source": []
  },
  {
   "cell_type": "code",
   "execution_count": 34,
   "metadata": {},
   "outputs": [],
   "source": [
    "def create_mysql_cursor(user, password, database):\n",
    "    cnx = mysql.connector.connect(user=user, password=password, database=database)\n",
    "    cursor = cnx.cursor()\n",
    "    return cnx, cursor\n",
    "\n",
    "mysql_cursor = partial(create_mysql_cursor, user=\"root\", password=\"testtest\",database=\"Corona\")"
   ]
  },
  {
   "cell_type": "code",
   "execution_count": null,
   "metadata": {},
   "outputs": [],
   "source": [
    "def store_partition(partition_iterator, connection_factory):\n",
    "    user = \"root\"\n",
    "    password = \"testtest\"\n",
    "    database = \"Corona\"\n",
    "    cnx = mysql.connector.connect(user=user, password=password, database=database)\n",
    "    cursor = cnx.cursor()\n",
    "    #cursor = connection_factory()\n",
    "    \n",
    "    records = [(event_id, float(lat), float(long), count) for event_id, ((lat, long), count) in partition_iterator]\n",
    "    \n",
    "    add_event = (\"INSERT INTO GeoEvents \"\n",
    "               \"(DateAdded, EventId, CountryCode, Latitude, Longitude, MentionCount) \"\n",
    "               \"VALUES (%s, %s, %s, %s, %s, %s)\")\n",
    "    \n",
    "    cursor.executemany(add_event, records)\n",
    "    \n",
    "    cnx.commit()\n",
    "    cnx.close()\n",
    "\n",
    "joined_rdd.foreachPartition(partial(store_partition, connection_factory=mysql_cursor))"
   ]
  },
  {
   "cell_type": "code",
   "execution_count": 35,
   "metadata": {},
   "outputs": [],
   "source": [
    "cnx, cur = mysql_cursor()"
   ]
  },
  {
   "cell_type": "code",
   "execution_count": 36,
   "metadata": {},
   "outputs": [],
   "source": [
    "it = cur.execute(\"select CountryCode, count(distinct EventId) as NumberOfEvents from GeoEvents2 where MentionCount>10 group by CountryCode order by NumberOfEvents desc;\")"
   ]
  },
  {
   "cell_type": "code",
   "execution_count": 38,
   "metadata": {},
   "outputs": [
    {
     "name": "stdout",
     "output_type": "stream",
     "text": [
      "('AU', 34)\n",
      "('US', 16)\n",
      "('DE', 16)\n",
      "('ES', 10)\n",
      "('GB', 10)\n",
      "('CN', 7)\n",
      "('PK', 6)\n",
      "('', 6)\n",
      "('IT', 5)\n",
      "('CA', 3)\n",
      "('IE', 1)\n",
      "('IL', 1)\n",
      "('KE', 1)\n",
      "('NZ', 1)\n"
     ]
    }
   ],
   "source": [
    "for i in cur:\n",
    "    print(i)"
   ]
  },
  {
   "cell_type": "code",
   "execution_count": null,
   "metadata": {},
   "outputs": [],
   "source": []
  }
 ],
 "metadata": {
  "kernelspec": {
   "display_name": "Python 3",
   "language": "python",
   "name": "python3"
  },
  "language_info": {
   "codemirror_mode": {
    "name": "ipython",
    "version": 3
   },
   "file_extension": ".py",
   "mimetype": "text/x-python",
   "name": "python",
   "nbconvert_exporter": "python",
   "pygments_lexer": "ipython3",
   "version": "3.7.3"
  }
 },
 "nbformat": 4,
 "nbformat_minor": 2
}
